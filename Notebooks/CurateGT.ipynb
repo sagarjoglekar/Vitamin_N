{
 "cells": [
  {
   "cell_type": "code",
   "execution_count": 1,
   "metadata": {
    "ExecuteTime": {
     "end_time": "2021-03-10T15:47:20.377244Z",
     "start_time": "2021-03-10T15:47:19.130008Z"
    }
   },
   "outputs": [
    {
     "name": "stderr",
     "output_type": "stream",
     "text": [
      "/work/sagarj/miniconda3/lib/python3.7/site-packages/pysal/__init__.py:65: VisibleDeprecationWarning: PySAL's API will be changed on 2018-12-31. The last release made with this API is version 1.14.4. A preview of the next API version is provided in the `pysal` 2.0 prelease candidate. The API changes and a guide on how to change imports is provided at https://migrating.pysal.org\n",
      "  ), VisibleDeprecationWarning)\n",
      "/work/sagarj/miniconda3/lib/python3.7/site-packages/tqdm/std.py:658: FutureWarning: The Panel class is removed from pandas. Accessing it from the top-level namespace will also be removed in the next version\n",
      "  from pandas import Panel\n"
     ]
    }
   ],
   "source": [
    "import pickle\n",
    "import pandas as pd\n",
    "import numpy as np\n",
    "import matplotlib.pyplot as plt\n",
    "import matplotlib.cm as cm\n",
    "import geopandas as gpd\n",
    "from geopandas import GeoSeries\n",
    "import seaborn as sns\n",
    "from itertools import chain\n",
    "from matplotlib.colors import Normalize\n",
    "from matplotlib.collections import PatchCollection\n",
    "%matplotlib inline\n",
    "import matplotlib.font_manager as fm\n",
    "from mpl_toolkits.basemap import Basemap\n",
    "from shapely.geometry import Point, Polygon, MultiPoint, MultiPolygon, shape \n",
    "from shapely.prepared import prep\n",
    "from pysal.esda.mapclassify import Natural_Breaks as nb\n",
    "from descartes import PolygonPatch\n",
    "\n",
    "import osmnx as ox\n",
    "import fiona\n",
    "from fiona.crs import from_epsg\n",
    "import pysal as ps\n",
    "from pysal.contrib.viz import mapping as maps\n",
    "from tqdm import tqdm\n",
    "import geopandas\n",
    "from geopandas.tools import sjoin\n",
    "from pyproj import Proj, transform\n",
    "from geopy.distance import distance\n",
    "from shapely.geometry import LineString, Point, LinearRing\n",
    "\n",
    "\n",
    "from dask import dataframe\n",
    "import multiprocessing\n",
    "from tqdm import tqdm\n",
    "from tqdm import tqdm, tqdm_notebook\n",
    "tqdm.pandas()\n",
    "from dask.diagnostics import ProgressBar\n",
    "pbar = ProgressBar()\n",
    "pbar.register()"
   ]
  },
  {
   "cell_type": "code",
   "execution_count": 2,
   "metadata": {
    "ExecuteTime": {
     "end_time": "2021-03-10T15:47:21.262246Z",
     "start_time": "2021-03-10T15:47:21.252580Z"
    }
   },
   "outputs": [],
   "source": [
    "plt.style.use('seaborn-white')\n",
    "\n",
    "plt.rcParams['font.family'] = 'serif'\n",
    "plt.rcParams['font.serif'] = 'Ubuntu'\n",
    "plt.rcParams['font.monospace'] = 'Ubuntu Mono'\n",
    "plt.rcParams['font.size'] = 10\n",
    "plt.rcParams['axes.labelsize'] = 10\n",
    "plt.rcParams['axes.labelweight'] = 'bold'\n",
    "plt.rcParams['axes.titlesize'] = 10\n",
    "plt.rcParams['xtick.labelsize'] = 8\n",
    "plt.rcParams['ytick.labelsize'] = 8\n",
    "plt.rcParams['legend.fontsize'] = 10\n",
    "plt.rcParams['figure.titlesize'] = 12"
   ]
  },
  {
   "cell_type": "code",
   "execution_count": 3,
   "metadata": {
    "ExecuteTime": {
     "end_time": "2021-03-10T15:47:21.845061Z",
     "start_time": "2021-03-10T15:47:21.833543Z"
    }
   },
   "outputs": [
    {
     "name": "stdout",
     "output_type": "stream",
     "text": [
      "{}\n",
      "(-0.5103750689005356, 51.28676016315085, 0.3340155643740321, 51.691874116909894)\n",
      "[-0.5103750689005356, 51.28676016315085, 0.3340155643740321, 51.691874116909894]\n",
      "0.8443906332745678 0.4051139537590416\n"
     ]
    }
   ],
   "source": [
    "# ogr2ogr -t_srs EPSG:4326 LB_WGS84.shp London_Borough_Excluding_MHW.shp\n",
    "shp = fiona.open('../Data/Geo_Data/geo/london_wards.shp') # London_Borough_Excluding_MHW_wgs84.shp\n",
    "crs_data = shp.crs\n",
    "print(crs_data)\n",
    "bds = shp.bounds\n",
    "print (bds)\n",
    "shp.close()\n",
    "extra = 0.01\n",
    "# bounds need to be datum-shifted\n",
    "#wgs84 = pyproj.Proj(\"+init=EPSG:4326\")\n",
    "#osgb36 = pyproj.Proj(\"+init=EPSG:27700\")\n",
    "#ll = pyproj.transform(osgb36, wgs84, bds[0], bds[1])\n",
    "#ur = pyproj.transform(osgb36, wgs84, bds[2], bds[3])\n",
    "ll = (bds[0], bds[1])\n",
    "ur = (bds[2], bds[3])\n",
    "coords = list(chain(ll, ur))\n",
    "print (coords)\n",
    "\n",
    "w, h = coords[2] - coords[0], coords[3] - coords[1]\n",
    "\n",
    "print (w,h)"
   ]
  },
  {
   "cell_type": "code",
   "execution_count": 4,
   "metadata": {
    "ExecuteTime": {
     "end_time": "2021-03-10T15:47:28.138795Z",
     "start_time": "2021-03-10T15:47:22.370544Z"
    }
   },
   "outputs": [],
   "source": [
    "roads = gpd.read_file('../Data/GreaterLondon/edges/edges.shp')"
   ]
  },
  {
   "cell_type": "code",
   "execution_count": 5,
   "metadata": {
    "ExecuteTime": {
     "end_time": "2021-03-10T15:47:28.153356Z",
     "start_time": "2021-03-10T15:47:28.148778Z"
    }
   },
   "outputs": [
    {
     "data": {
      "text/plain": [
       "161911"
      ]
     },
     "execution_count": 5,
     "metadata": {},
     "output_type": "execute_result"
    }
   ],
   "source": [
    "len(roads)"
   ]
  },
  {
   "cell_type": "code",
   "execution_count": 6,
   "metadata": {
    "ExecuteTime": {
     "end_time": "2021-03-10T15:47:28.277036Z",
     "start_time": "2021-03-10T15:47:28.155317Z"
    }
   },
   "outputs": [
    {
     "data": {
      "text/plain": [
       "{'init': 'epsg:32630'}"
      ]
     },
     "execution_count": 6,
     "metadata": {},
     "output_type": "execute_result"
    }
   ],
   "source": [
    "roads.crs"
   ]
  },
  {
   "cell_type": "code",
   "execution_count": 8,
   "metadata": {
    "ExecuteTime": {
     "end_time": "2021-03-10T15:48:51.600081Z",
     "start_time": "2021-03-10T15:48:51.562768Z"
    }
   },
   "outputs": [
    {
     "data": {
      "text/html": [
       "<div>\n",
       "<style scoped>\n",
       "    .dataframe tbody tr th:only-of-type {\n",
       "        vertical-align: middle;\n",
       "    }\n",
       "\n",
       "    .dataframe tbody tr th {\n",
       "        vertical-align: top;\n",
       "    }\n",
       "\n",
       "    .dataframe thead th {\n",
       "        text-align: right;\n",
       "    }\n",
       "</style>\n",
       "<table border=\"1\" class=\"dataframe\">\n",
       "  <thead>\n",
       "    <tr style=\"text-align: right;\">\n",
       "      <th></th>\n",
       "      <th>access</th>\n",
       "      <th>area</th>\n",
       "      <th>bridge</th>\n",
       "      <th>est_width</th>\n",
       "      <th>from</th>\n",
       "      <th>highway</th>\n",
       "      <th>junction</th>\n",
       "      <th>key</th>\n",
       "      <th>lanes</th>\n",
       "      <th>length</th>\n",
       "      <th>maxspeed</th>\n",
       "      <th>name</th>\n",
       "      <th>oneway</th>\n",
       "      <th>osmid</th>\n",
       "      <th>ref</th>\n",
       "      <th>service</th>\n",
       "      <th>to</th>\n",
       "      <th>tunnel</th>\n",
       "      <th>width</th>\n",
       "      <th>geometry</th>\n",
       "    </tr>\n",
       "  </thead>\n",
       "  <tbody>\n",
       "    <tr>\n",
       "      <th>0</th>\n",
       "      <td>None</td>\n",
       "      <td>None</td>\n",
       "      <td>None</td>\n",
       "      <td>None</td>\n",
       "      <td>370068561</td>\n",
       "      <td>residential</td>\n",
       "      <td>None</td>\n",
       "      <td>0</td>\n",
       "      <td>None</td>\n",
       "      <td>17.609</td>\n",
       "      <td>20 mph</td>\n",
       "      <td>Epstein Road</td>\n",
       "      <td>False</td>\n",
       "      <td>10780443</td>\n",
       "      <td>None</td>\n",
       "      <td>None</td>\n",
       "      <td>95944704</td>\n",
       "      <td>None</td>\n",
       "      <td>None</td>\n",
       "      <td>LINESTRING (715931.281 5710314.614, 715917.030...</td>\n",
       "    </tr>\n",
       "    <tr>\n",
       "      <th>1</th>\n",
       "      <td>None</td>\n",
       "      <td>None</td>\n",
       "      <td>None</td>\n",
       "      <td>None</td>\n",
       "      <td>95944707</td>\n",
       "      <td>residential</td>\n",
       "      <td>None</td>\n",
       "      <td>0</td>\n",
       "      <td>None</td>\n",
       "      <td>68.247</td>\n",
       "      <td>20 mph</td>\n",
       "      <td>Galsworthy Close</td>\n",
       "      <td>False</td>\n",
       "      <td>10780432</td>\n",
       "      <td>None</td>\n",
       "      <td>None</td>\n",
       "      <td>95944704</td>\n",
       "      <td>None</td>\n",
       "      <td>None</td>\n",
       "      <td>LINESTRING (715964.413 5710256.225, 715934.225...</td>\n",
       "    </tr>\n",
       "    <tr>\n",
       "      <th>2</th>\n",
       "      <td>None</td>\n",
       "      <td>None</td>\n",
       "      <td>None</td>\n",
       "      <td>None</td>\n",
       "      <td>95944671</td>\n",
       "      <td>residential</td>\n",
       "      <td>None</td>\n",
       "      <td>0</td>\n",
       "      <td>None</td>\n",
       "      <td>41.109</td>\n",
       "      <td>20 mph</td>\n",
       "      <td>Epstein Road</td>\n",
       "      <td>False</td>\n",
       "      <td>10780443</td>\n",
       "      <td>None</td>\n",
       "      <td>None</td>\n",
       "      <td>95944704</td>\n",
       "      <td>None</td>\n",
       "      <td>None</td>\n",
       "      <td>LINESTRING (715885.341 5710277.855, 715917.030...</td>\n",
       "    </tr>\n",
       "    <tr>\n",
       "      <th>3</th>\n",
       "      <td>None</td>\n",
       "      <td>None</td>\n",
       "      <td>None</td>\n",
       "      <td>None</td>\n",
       "      <td>277489</td>\n",
       "      <td>residential</td>\n",
       "      <td>None</td>\n",
       "      <td>0</td>\n",
       "      <td>None</td>\n",
       "      <td>29.564</td>\n",
       "      <td>30 mph</td>\n",
       "      <td>Woodside Grove</td>\n",
       "      <td>False</td>\n",
       "      <td>3398626</td>\n",
       "      <td>None</td>\n",
       "      <td>None</td>\n",
       "      <td>193724417</td>\n",
       "      <td>None</td>\n",
       "      <td>None</td>\n",
       "      <td>LINESTRING (695323.706 5722787.895, 695294.102...</td>\n",
       "    </tr>\n",
       "    <tr>\n",
       "      <th>4</th>\n",
       "      <td>None</td>\n",
       "      <td>None</td>\n",
       "      <td>None</td>\n",
       "      <td>None</td>\n",
       "      <td>277490</td>\n",
       "      <td>residential</td>\n",
       "      <td>None</td>\n",
       "      <td>0</td>\n",
       "      <td>None</td>\n",
       "      <td>80.433</td>\n",
       "      <td>30 mph</td>\n",
       "      <td>Woodside Grove</td>\n",
       "      <td>False</td>\n",
       "      <td>3398626</td>\n",
       "      <td>None</td>\n",
       "      <td>None</td>\n",
       "      <td>193724417</td>\n",
       "      <td>None</td>\n",
       "      <td>None</td>\n",
       "      <td>LINESTRING (695216.776 5722810.611, 695286.927...</td>\n",
       "    </tr>\n",
       "  </tbody>\n",
       "</table>\n",
       "</div>"
      ],
      "text/plain": [
       "  access  area bridge est_width       from      highway junction key lanes  \\\n",
       "0   None  None   None      None  370068561  residential     None   0  None   \n",
       "1   None  None   None      None   95944707  residential     None   0  None   \n",
       "2   None  None   None      None   95944671  residential     None   0  None   \n",
       "3   None  None   None      None     277489  residential     None   0  None   \n",
       "4   None  None   None      None     277490  residential     None   0  None   \n",
       "\n",
       "   length maxspeed              name oneway     osmid   ref service  \\\n",
       "0  17.609   20 mph      Epstein Road  False  10780443  None    None   \n",
       "1  68.247   20 mph  Galsworthy Close  False  10780432  None    None   \n",
       "2  41.109   20 mph      Epstein Road  False  10780443  None    None   \n",
       "3  29.564   30 mph    Woodside Grove  False   3398626  None    None   \n",
       "4  80.433   30 mph    Woodside Grove  False   3398626  None    None   \n",
       "\n",
       "          to tunnel width                                           geometry  \n",
       "0   95944704   None  None  LINESTRING (715931.281 5710314.614, 715917.030...  \n",
       "1   95944704   None  None  LINESTRING (715964.413 5710256.225, 715934.225...  \n",
       "2   95944704   None  None  LINESTRING (715885.341 5710277.855, 715917.030...  \n",
       "3  193724417   None  None  LINESTRING (695323.706 5722787.895, 695294.102...  \n",
       "4  193724417   None  None  LINESTRING (695216.776 5722810.611, 695286.927...  "
      ]
     },
     "execution_count": 8,
     "metadata": {},
     "output_type": "execute_result"
    }
   ],
   "source": [
    "roads.head()"
   ]
  },
  {
   "cell_type": "code",
   "execution_count": 9,
   "metadata": {
    "ExecuteTime": {
     "end_time": "2021-03-10T15:48:52.231775Z",
     "start_time": "2021-03-10T15:48:52.224497Z"
    }
   },
   "outputs": [
    {
     "data": {
      "image/svg+xml": [
       "<svg xmlns=\"http://www.w3.org/2000/svg\" xmlns:xlink=\"http://www.w3.org/1999/xlink\" width=\"100.0\" height=\"100.0\" viewBox=\"688002.4954862534 5716080.009005528 98.80243086710107 94.35259997472167\" preserveAspectRatio=\"xMinYMin meet\"><g transform=\"matrix(1,0,0,-1,0,11432254.37061103)\"><polyline fill=\"none\" stroke=\"#66cc99\" stroke-width=\"1.9760486173420213\" points=\"688097.6385678292,5716083.6683548195 688061.527685841,5716102.892081082 688037.4638211231,5716122.295992159 688023.6436084827,5716138.862494055 688012.1103432806,5716155.32462967 688008.427651863,5716161.06667368 688006.1548355448,5716170.702256211\" opacity=\"0.8\" /></g></svg>"
      ],
      "text/plain": [
       "<shapely.geometry.linestring.LineString at 0x7f531beb69e8>"
      ]
     },
     "execution_count": 9,
     "metadata": {},
     "output_type": "execute_result"
    }
   ],
   "source": [
    "roads.iloc[20]['geometry']"
   ]
  },
  {
   "cell_type": "code",
   "execution_count": 10,
   "metadata": {
    "ExecuteTime": {
     "end_time": "2021-03-10T15:48:59.619274Z",
     "start_time": "2021-03-10T15:48:59.613161Z"
    }
   },
   "outputs": [
    {
     "data": {
      "text/plain": [
       "'0.6.1'"
      ]
     },
     "execution_count": 10,
     "metadata": {},
     "output_type": "execute_result"
    }
   ],
   "source": [
    "gpd.__version__"
   ]
  },
  {
   "cell_type": "code",
   "execution_count": 11,
   "metadata": {
    "ExecuteTime": {
     "end_time": "2021-03-10T15:49:11.710076Z",
     "start_time": "2021-03-10T15:49:00.291501Z"
    }
   },
   "outputs": [],
   "source": [
    "roads['geometry'] = roads['geometry'].buffer(10)"
   ]
  },
  {
   "cell_type": "code",
   "execution_count": 12,
   "metadata": {
    "ExecuteTime": {
     "end_time": "2021-03-10T15:49:11.722670Z",
     "start_time": "2021-03-10T15:49:11.712226Z"
    }
   },
   "outputs": [
    {
     "data": {
      "image/svg+xml": [
       "<svg xmlns=\"http://www.w3.org/2000/svg\" xmlns:xlink=\"http://www.w3.org/1999/xlink\" width=\"120.39568981411867\" height=\"115.94585891999304\" viewBox=\"687991.701963521 5716069.209269314 120.39568981411867 115.94585891999304\" preserveAspectRatio=\"xMinYMin meet\"><g transform=\"matrix(1,0,0,-1,0,11432254.364397548)\"><path fill-rule=\"evenodd\" fill=\"#66cc99\" stroke=\"#555555\" stroke-width=\"2.0\" opacity=\"0.6\" d=\"M 688056.8285439524,5716094.064960062 L 688056.0148877704,5716094.5488768155 L 688055.2506379357,5716095.107566351 L 688031.1867732179,5716114.5114774285 L 688030.4519135501,5716115.166254984 L 688029.784981904,5716115.890102038 L 688015.9647692635,5716132.456603934 L 688015.4535735163,5716133.124608796 L 688003.9203083143,5716149.586744411 L 688003.692813563,5716149.9260008205 L 688000.0101221454,5716155.668044831 L 687999.4556023368,5716156.65052974 L 687999.0152759766,5716157.689221952 L 687998.6947474016,5716158.770901317 L 687996.4219310834,5716168.406483848 L 687996.2437726367,5716169.371530081 L 687996.1610631438,5716170.349391935 L 687996.1745991422,5716171.330652065 L 687996.2842502729,5716172.305860399 L 687996.4889605356,5716173.265625148 L 687996.7867584586,5716174.200703253 L 687997.174776085,5716175.102089401 L 687997.649276593,5716175.96110275 L 687998.2056902833,5716176.7694705315 L 687998.838658588,5716177.519407723 L 687999.5420856761,5716178.203692019 L 688000.3091971604,5716178.815733387 L 688001.1326053379,5716179.3496375345 L 688002.0043803377,5716179.800262673 L 688002.91612649,5716180.1632690355 L 688003.859063181,5716180.435160672 L 688004.8241094148,5716180.613319119 L 688005.8019712687,5716180.696028612 L 688006.7832313986,5716180.682492614 L 688007.7584397327,5716180.572841483 L 688008.718204482,5716180.36813122 L 688009.6532825871,5716180.070333297 L 688010.5546687347,5716179.682315671 L 688011.4136820835,5716179.207815163 L 688012.2220498654,5716178.651401472 L 688012.9719870567,5716178.018433168 L 688013.6562713523,5716177.31500608 L 688014.2683127203,5716176.547894595 L 688014.802216868,5716175.724486418 L 688015.2528420063,5716174.852711418 L 688015.615848369,5716173.940965266 L 688015.8877400061,5716172.9980285745 L 688017.7680890091,5716165.0263073845 L 688020.4175907609,5716160.895210331 L 688031.5921055041,5716144.945141213 L 688044.5098580207,5716129.4604321765 L 688067.0652982804,5716111.272840023 L 688102.3377097177,5716092.49547584 L 688103.1802912249,5716091.992374389 L 688103.9695029063,5716091.409108081 L 688104.6977442221,5716090.751294086 L 688105.3580018104,5716090.025267514 L 688105.9439170295,5716089.238020399 L 688106.4498471956,5716088.397134358 L 688106.8709199248,5716087.510707586 L 688107.2030800562,5716086.587276856 L 688107.4431287065,5716085.635735312 L 688107.5887540758,5716084.665246817 L 688107.6385537123,5716083.685157709 L 688107.5920480181,5716082.704906778 L 688107.4496848686,5716081.733934379 L 688107.2128352986,5716080.781591507 L 688106.8837802992,5716079.857049744 L 688106.4656888497,5716078.969212931 L 688105.9625873994,5716078.126631424 L 688105.3793210902,5716077.337419743 L 688104.7215070956,5716076.609178427 L 688103.9954805239,5716075.948920839 L 688103.208233408,5716075.3630056195 L 688102.3673473678,5716074.857075453 L 688101.4809205957,5716074.436002724 L 688100.5574898659,5716074.103842593 L 688099.6059483214,5716073.863793942 L 688098.6354598271,5716073.7181685725 L 688097.6553707181,5716073.6683689365 L 688096.675119788,5716073.714874631 L 688095.7041473892,5716073.8572377805 L 688094.7518045167,5716074.09408735 L 688093.8272627529,5716074.423142349 L 688092.9394259406,5716074.841233799 L 688056.8285439524,5716094.064960062 z\" /></g></svg>"
      ],
      "text/plain": [
       "<shapely.geometry.polygon.Polygon at 0x7f531beb2c88>"
      ]
     },
     "execution_count": 12,
     "metadata": {},
     "output_type": "execute_result"
    }
   ],
   "source": [
    "roads.iloc[20]['geometry']"
   ]
  },
  {
   "cell_type": "code",
   "execution_count": null,
   "metadata": {
    "ExecuteTime": {
     "end_time": "2021-01-27T17:08:52.137955Z",
     "start_time": "2021-01-27T17:08:52.109903Z"
    }
   },
   "outputs": [],
   "source": [
    "roads.head()"
   ]
  },
  {
   "cell_type": "code",
   "execution_count": null,
   "metadata": {
    "ExecuteTime": {
     "end_time": "2021-01-27T17:08:52.225665Z",
     "start_time": "2021-01-27T17:08:52.139409Z"
    }
   },
   "outputs": [],
   "source": [
    "roads.crs"
   ]
  },
  {
   "cell_type": "code",
   "execution_count": null,
   "metadata": {
    "ExecuteTime": {
     "end_time": "2021-01-27T17:09:17.073573Z",
     "start_time": "2021-01-27T17:08:52.227034Z"
    }
   },
   "outputs": [],
   "source": [
    "roads_WGS84 = roads.to_crs({'proj':'longlat', 'ellps':'WGS84', 'datum':'WGS84'})"
   ]
  },
  {
   "cell_type": "code",
   "execution_count": null,
   "metadata": {
    "ExecuteTime": {
     "end_time": "2021-01-27T17:09:17.095117Z",
     "start_time": "2021-01-27T17:09:17.075288Z"
    }
   },
   "outputs": [],
   "source": [
    "roads_WGS84.head()"
   ]
  },
  {
   "cell_type": "code",
   "execution_count": null,
   "metadata": {
    "ExecuteTime": {
     "end_time": "2021-01-27T17:09:17.178979Z",
     "start_time": "2021-01-27T17:09:17.096426Z"
    }
   },
   "outputs": [],
   "source": [
    "# shp_roads = fiona.open('../Data/Geo_Data/geo/london_wards.shp')\n",
    "\n",
    "# shp_roads.crs\n",
    "\n",
    "from geopandas.tools import sjoin"
   ]
  },
  {
   "cell_type": "code",
   "execution_count": null,
   "metadata": {
    "ExecuteTime": {
     "end_time": "2021-01-27T17:09:17.275029Z",
     "start_time": "2021-01-27T17:09:17.183538Z"
    }
   },
   "outputs": [],
   "source": [
    "len(roads)"
   ]
  },
  {
   "cell_type": "code",
   "execution_count": null,
   "metadata": {
    "ExecuteTime": {
     "end_time": "2021-01-27T17:09:17.349563Z",
     "start_time": "2021-01-27T17:09:17.278162Z"
    }
   },
   "outputs": [],
   "source": [
    "roads_WGS84.iloc[20]['geometry']"
   ]
  },
  {
   "cell_type": "code",
   "execution_count": null,
   "metadata": {
    "ExecuteTime": {
     "end_time": "2021-01-27T17:09:17.420582Z",
     "start_time": "2021-01-27T17:09:17.351972Z"
    }
   },
   "outputs": [],
   "source": [
    "# samples = gpd.read_file('../Data/GreaterLondon/edges/samples.shp')"
   ]
  },
  {
   "cell_type": "code",
   "execution_count": null,
   "metadata": {
    "ExecuteTime": {
     "end_time": "2021-01-27T17:09:18.990585Z",
     "start_time": "2021-01-27T17:09:17.423394Z"
    }
   },
   "outputs": [],
   "source": [
    "mapillary_points = pd.read_csv('../Data/Mappilary_points_merged.csv')"
   ]
  },
  {
   "cell_type": "code",
   "execution_count": null,
   "metadata": {
    "ExecuteTime": {
     "end_time": "2021-01-27T17:09:23.684433Z",
     "start_time": "2021-01-27T17:09:18.992564Z"
    }
   },
   "outputs": [],
   "source": [
    "tree_data = pd.read_csv('../Data/Geo_Data/london_street_trees_gla_20180214.csv',engine='python')"
   ]
  },
  {
   "cell_type": "code",
   "execution_count": null,
   "metadata": {
    "ExecuteTime": {
     "end_time": "2021-01-27T17:09:23.708123Z",
     "start_time": "2021-01-27T17:09:23.686067Z"
    }
   },
   "outputs": [],
   "source": [
    "mapillary_points.head()"
   ]
  },
  {
   "cell_type": "code",
   "execution_count": null,
   "metadata": {
    "ExecuteTime": {
     "end_time": "2021-01-27T17:09:25.280494Z",
     "start_time": "2021-01-27T17:09:23.710655Z"
    }
   },
   "outputs": [],
   "source": [
    "m = Basemap(\n",
    "    projection='merc',\n",
    "    lon_0 = -2.,\n",
    "    lat_0 = 49.,\n",
    "    ellps = 'WGS84',\n",
    "    llcrnrlon=coords[0] - extra * w,\n",
    "    llcrnrlat=coords[1] - extra + 0.01 * h,\n",
    "    urcrnrlon=coords[2] + extra * w,\n",
    "    urcrnrlat=coords[3] + extra + 0.01 * h,\n",
    "    lat_ts=0,\n",
    "    resolution='i',\n",
    "    suppress_ticks=True)"
   ]
  },
  {
   "cell_type": "code",
   "execution_count": null,
   "metadata": {
    "ExecuteTime": {
     "end_time": "2021-01-27T17:10:52.553966Z",
     "start_time": "2021-01-27T17:09:25.282119Z"
    }
   },
   "outputs": [],
   "source": [
    "treeLocations = []\n",
    "\n",
    "for index , row in tree_data.iterrows():\n",
    "#     point = Point(m(row['longitude'], row['latitude']))\n",
    "    point = Point(row['longitude'], row['latitude'])\n",
    "#     point = Point(transform(inProj,outProj,row['longitude'], row['latitude']))\n",
    "    treeLocations.append(point)\n",
    "\n",
    "print(treeLocations[1])\n",
    "\n",
    "tree_points = pd.Series(treeLocations)\n",
    "tree_data_points = MultiPoint(list(tree_points.values))"
   ]
  },
  {
   "cell_type": "code",
   "execution_count": null,
   "metadata": {
    "ExecuteTime": {
     "end_time": "2021-01-27T17:11:43.327861Z",
     "start_time": "2021-01-27T17:10:52.555521Z"
    }
   },
   "outputs": [],
   "source": [
    "mapLocations = {}\n",
    "for index , row in mapillary_points.iterrows():\n",
    "#     point = Point(m(row['long'], row['lat']))\n",
    "    point = Point(row['long'], row['lat'])\n",
    "    mapLocations[row['Imgkey']] = point\n",
    "\n",
    "# map_points = pd.Series(mapLocations)\n",
    "# map_data_points = MultiPoint(list(map_points.values))"
   ]
  },
  {
   "cell_type": "code",
   "execution_count": null,
   "metadata": {
    "ExecuteTime": {
     "end_time": "2021-01-27T17:11:43.341217Z",
     "start_time": "2021-01-27T17:11:43.329394Z"
    }
   },
   "outputs": [],
   "source": [
    "mapLocations[list(mapLocations.keys())[1]]"
   ]
  },
  {
   "cell_type": "code",
   "execution_count": null,
   "metadata": {
    "ExecuteTime": {
     "end_time": "2021-01-27T15:33:26.106038Z",
     "start_time": "2021-01-27T15:33:26.099106Z"
    }
   },
   "outputs": [],
   "source": []
  },
  {
   "cell_type": "code",
   "execution_count": null,
   "metadata": {
    "ExecuteTime": {
     "end_time": "2021-01-27T17:11:48.792531Z",
     "start_time": "2021-01-27T17:11:43.342796Z"
    }
   },
   "outputs": [],
   "source": [
    "tree_gdf = geopandas.GeoDataFrame(tree_data, geometry=geopandas.points_from_xy(tree_data.longitude, tree_data.latitude))"
   ]
  },
  {
   "cell_type": "code",
   "execution_count": null,
   "metadata": {
    "ExecuteTime": {
     "end_time": "2021-01-27T17:12:44.883398Z",
     "start_time": "2021-01-27T17:11:48.794324Z"
    }
   },
   "outputs": [],
   "source": [
    "joined_trees = sjoin(tree_gdf,roads_WGS84,how='left')"
   ]
  },
  {
   "cell_type": "code",
   "execution_count": null,
   "metadata": {
    "ExecuteTime": {
     "end_time": "2021-03-03T11:09:06.345616Z",
     "start_time": "2021-03-03T11:09:06.227949Z"
    }
   },
   "outputs": [],
   "source": [
    "print (list(roads_WGS84['osmid'].unique()))"
   ]
  },
  {
   "cell_type": "code",
   "execution_count": null,
   "metadata": {
    "ExecuteTime": {
     "end_time": "2021-01-27T17:12:44.905020Z",
     "start_time": "2021-01-27T17:12:44.885111Z"
    }
   },
   "outputs": [],
   "source": [
    "roads_WGS84.head()"
   ]
  },
  {
   "cell_type": "code",
   "execution_count": null,
   "metadata": {
    "ExecuteTime": {
     "end_time": "2021-01-27T17:12:45.017085Z",
     "start_time": "2021-01-27T17:12:44.906401Z"
    }
   },
   "outputs": [],
   "source": [
    "tree_gdf.head()"
   ]
  },
  {
   "cell_type": "code",
   "execution_count": null,
   "metadata": {
    "ExecuteTime": {
     "end_time": "2021-01-27T17:12:45.130321Z",
     "start_time": "2021-01-27T17:12:45.019267Z"
    },
    "scrolled": true
   },
   "outputs": [],
   "source": [
    "joined_trees.head()"
   ]
  },
  {
   "cell_type": "code",
   "execution_count": null,
   "metadata": {
    "ExecuteTime": {
     "end_time": "2021-01-27T17:12:45.211504Z",
     "start_time": "2021-01-27T17:12:45.134227Z"
    }
   },
   "outputs": [],
   "source": [
    "len(joined_trees), len(tree_gdf) , len(roads_WGS84)"
   ]
  },
  {
   "cell_type": "code",
   "execution_count": null,
   "metadata": {
    "ExecuteTime": {
     "end_time": "2021-01-27T17:40:38.932799Z",
     "start_time": "2021-01-27T17:40:38.926285Z"
    }
   },
   "outputs": [],
   "source": [
    "joined_trees.columns"
   ]
  },
  {
   "cell_type": "code",
   "execution_count": null,
   "metadata": {
    "ExecuteTime": {
     "end_time": "2021-01-27T17:44:46.176473Z",
     "start_time": "2021-01-27T17:44:32.960647Z"
    }
   },
   "outputs": [],
   "source": [
    "# %store joined_trees"
   ]
  },
  {
   "cell_type": "code",
   "execution_count": null,
   "metadata": {
    "ExecuteTime": {
     "end_time": "2021-01-27T17:46:42.786092Z",
     "start_time": "2021-01-27T17:46:42.346071Z"
    }
   },
   "outputs": [],
   "source": [
    "len(tree_gdf['gla_id'].unique()),len(joined_trees['gla_id'].unique()),len(joined_trees['osmid'].unique()),"
   ]
  },
  {
   "cell_type": "code",
   "execution_count": null,
   "metadata": {
    "ExecuteTime": {
     "end_time": "2021-01-27T17:49:44.759366Z",
     "start_time": "2021-01-27T17:49:44.450103Z"
    }
   },
   "outputs": [],
   "source": [
    "inaccessible_trees = joined_trees[joined_trees['osmid'].isnull()]"
   ]
  },
  {
   "cell_type": "code",
   "execution_count": null,
   "metadata": {
    "ExecuteTime": {
     "end_time": "2021-01-27T17:49:45.527979Z",
     "start_time": "2021-01-27T17:49:45.522304Z"
    }
   },
   "outputs": [],
   "source": [
    "len(inaccessible_trees)"
   ]
  },
  {
   "cell_type": "code",
   "execution_count": null,
   "metadata": {
    "ExecuteTime": {
     "end_time": "2021-01-27T17:49:50.706064Z",
     "start_time": "2021-01-27T17:49:50.408908Z"
    }
   },
   "outputs": [],
   "source": [
    "accessible_trees = joined_trees[joined_trees['osmid'].notnull()]"
   ]
  },
  {
   "cell_type": "code",
   "execution_count": null,
   "metadata": {
    "ExecuteTime": {
     "end_time": "2021-01-27T17:50:08.016014Z",
     "start_time": "2021-01-27T17:50:08.010281Z"
    }
   },
   "outputs": [],
   "source": [
    "len(accessible_trees)"
   ]
  },
  {
   "cell_type": "code",
   "execution_count": null,
   "metadata": {
    "ExecuteTime": {
     "end_time": "2021-01-27T17:50:45.518686Z",
     "start_time": "2021-01-27T17:50:33.020155Z"
    }
   },
   "outputs": [],
   "source": [
    "%store inaccessible_trees\n",
    "%store accessible_trees"
   ]
  },
  {
   "cell_type": "code",
   "execution_count": null,
   "metadata": {},
   "outputs": [],
   "source": [
    "# %store -r inaccessible_trees"
   ]
  },
  {
   "cell_type": "code",
   "execution_count": null,
   "metadata": {
    "ExecuteTime": {
     "end_time": "2021-01-27T17:56:16.391629Z",
     "start_time": "2021-01-27T17:54:13.398688Z"
    }
   },
   "outputs": [],
   "source": [
    "# inaccessible_trees.to_file(\"scratchpad/inaccessible_trees.shp\")"
   ]
  },
  {
   "cell_type": "code",
   "execution_count": null,
   "metadata": {
    "ExecuteTime": {
     "end_time": "2021-01-27T17:58:33.751429Z",
     "start_time": "2021-01-27T17:56:16.393796Z"
    }
   },
   "outputs": [],
   "source": [
    "# accessible_trees.to_file(\"scratchpad/accessible_trees.shp\")"
   ]
  },
  {
   "cell_type": "code",
   "execution_count": null,
   "metadata": {
    "ExecuteTime": {
     "end_time": "2021-01-27T15:41:23.868421Z",
     "start_time": "2021-01-27T15:41:23.852674Z"
    }
   },
   "outputs": [],
   "source": [
    "def distKm(Points_tuple):\n",
    "    return distance(Points_tuple[0], Points_tuple[1]).km\n",
    "\n",
    "\n",
    "def pointsCount(geometry , points):\n",
    "    within = []\n",
    "    without = []\n",
    "    for p in points: \n",
    "        if p.within(geometry):\n",
    "            within.append(p)\n",
    "        else:\n",
    "            without.append(p)\n",
    "    return within, without\n",
    "\n",
    "def approxPointsCount(geometry, points):\n",
    "    bufferdist = 0.01\n",
    "    poly = geometry.buffer(bufferdist)\n",
    "    centroid = poly.centroid.xy\n",
    "    within = []\n",
    "    for p in points: \n",
    "        if distance(p,centroid) <= bufferdist:\n",
    "            within.append(p)\n",
    "    return pd.Series(within)\n",
    "\n",
    "def filterMappilary(geometry , pointsKeys):\n",
    "    within = []\n",
    "    for k in pointsKeys: \n",
    "        p = pointsKeys[k]\n",
    "        if p.within(geometry):\n",
    "            within.append(k)\n",
    "    return within"
   ]
  },
  {
   "cell_type": "code",
   "execution_count": null,
   "metadata": {
    "ExecuteTime": {
     "end_time": "2021-01-27T15:41:24.366820Z",
     "start_time": "2021-01-27T15:41:24.361874Z"
    }
   },
   "outputs": [],
   "source": [
    "print(multiprocessing.cpu_count())"
   ]
  },
  {
   "cell_type": "code",
   "execution_count": null,
   "metadata": {
    "ExecuteTime": {
     "end_time": "2021-01-27T15:41:24.920680Z",
     "start_time": "2021-01-27T15:41:24.863531Z"
    }
   },
   "outputs": [],
   "source": [
    "roads_dd = dataframe.from_pandas(roads_WGS84,npartitions=2*multiprocessing.cpu_count())"
   ]
  },
  {
   "cell_type": "code",
   "execution_count": null,
   "metadata": {
    "ExecuteTime": {
     "end_time": "2021-01-27T15:41:25.559600Z",
     "start_time": "2021-01-27T15:41:25.547436Z"
    }
   },
   "outputs": [],
   "source": [
    "dir(roads_dd['geometry'])"
   ]
  },
  {
   "cell_type": "code",
   "execution_count": null,
   "metadata": {
    "ExecuteTime": {
     "end_time": "2021-01-27T15:41:28.702616Z",
     "start_time": "2021-01-27T15:41:28.699440Z"
    }
   },
   "outputs": [],
   "source": [
    "# within  = roads_WGS84[1000:1020]['geometry'].progress_apply(pointsCount, args = [tree_points])\n",
    "# within"
   ]
  },
  {
   "cell_type": "code",
   "execution_count": null,
   "metadata": {
    "ExecuteTime": {
     "end_time": "2021-01-27T15:41:02.810926Z",
     "start_time": "2021-01-27T15:33:57.173641Z"
    }
   },
   "outputs": [],
   "source": [
    "within_trees , without_trees  = roads_dd.map_partitions(lambda df:df['geometry'].apply(pointsCount, args = [tree_points]), meta=pd.Series('list')).compute(scheduler='processes')"
   ]
  },
  {
   "cell_type": "code",
   "execution_count": null,
   "metadata": {
    "ExecuteTime": {
     "end_time": "2021-01-27T12:59:45.208250Z",
     "start_time": "2021-01-27T12:52:27.691Z"
    }
   },
   "outputs": [],
   "source": [
    "%store within_Trees"
   ]
  },
  {
   "cell_type": "code",
   "execution_count": null,
   "metadata": {
    "ExecuteTime": {
     "end_time": "2019-12-12T13:26:58.473459Z",
     "start_time": "2019-12-12T13:26:48.859217Z"
    }
   },
   "outputs": [],
   "source": [
    "# %store within_trees\n",
    "%store -r within_trees"
   ]
  },
  {
   "cell_type": "code",
   "execution_count": null,
   "metadata": {
    "ExecuteTime": {
     "end_time": "2019-12-12T13:28:54.484269Z",
     "start_time": "2019-12-12T13:28:54.478046Z"
    }
   },
   "outputs": [],
   "source": [
    "roads_WGS84['Trees'] = 0"
   ]
  },
  {
   "cell_type": "code",
   "execution_count": null,
   "metadata": {
    "ExecuteTime": {
     "end_time": "2019-12-12T13:31:10.785299Z",
     "start_time": "2019-12-12T13:31:10.771980Z"
    }
   },
   "outputs": [],
   "source": [
    "roads_WGS84.iloc[4048]"
   ]
  },
  {
   "cell_type": "code",
   "execution_count": null,
   "metadata": {
    "ExecuteTime": {
     "end_time": "2019-12-12T13:34:04.434082Z",
     "start_time": "2019-12-12T13:33:39.265194Z"
    }
   },
   "outputs": [],
   "source": [
    "for index, row in roads_WGS84.iterrows():\n",
    "    roads_WGS84.at[index,'trees'] = len(within_trees[index])"
   ]
  },
  {
   "cell_type": "code",
   "execution_count": null,
   "metadata": {
    "ExecuteTime": {
     "end_time": "2019-12-12T13:34:24.321303Z",
     "start_time": "2019-12-12T13:34:18.327422Z"
    }
   },
   "outputs": [],
   "source": [
    "# %store roads_WGS84"
   ]
  },
  {
   "cell_type": "code",
   "execution_count": null,
   "metadata": {
    "ExecuteTime": {
     "end_time": "2019-12-12T17:19:10.926325Z",
     "start_time": "2019-12-12T17:19:10.867146Z"
    }
   },
   "outputs": [],
   "source": [
    "roads_filtered = roads_WGS84[roads_WGS84['trees']>10]"
   ]
  },
  {
   "cell_type": "code",
   "execution_count": null,
   "metadata": {
    "ExecuteTime": {
     "end_time": "2019-12-12T17:19:11.369472Z",
     "start_time": "2019-12-12T17:19:11.360599Z"
    }
   },
   "outputs": [],
   "source": [
    "len(roads_filtered)"
   ]
  },
  {
   "cell_type": "code",
   "execution_count": null,
   "metadata": {
    "ExecuteTime": {
     "end_time": "2019-12-12T13:46:47.453210Z",
     "start_time": "2019-12-12T13:46:47.398146Z"
    }
   },
   "outputs": [],
   "source": [
    "roads_filtered_dd = dataframe.from_pandas(roads_filtered,npartitions=2*multiprocessing.cpu_count())"
   ]
  },
  {
   "cell_type": "code",
   "execution_count": null,
   "metadata": {
    "ExecuteTime": {
     "end_time": "2019-12-12T13:39:13.334338Z",
     "start_time": "2019-12-12T13:39:13.321950Z"
    }
   },
   "outputs": [],
   "source": [
    "np.median(roads_WGS84['trees'])"
   ]
  },
  {
   "cell_type": "code",
   "execution_count": null,
   "metadata": {
    "ExecuteTime": {
     "end_time": "2019-12-12T13:37:47.573201Z",
     "start_time": "2019-12-12T13:37:47.183494Z"
    }
   },
   "outputs": [],
   "source": [
    "import matplotlib.pyplot as plt\n",
    "fig, ax = plt.subplots()\n",
    "fig.set_size_inches(10,8)\n",
    "plt.xlabel('Trees per Road segment')\n",
    "plt.ylabel('Frequency')\n",
    "# plt.axvline(thresh_low, color='r')\n",
    "# plt.axvline(thresh_high, color='r')\n",
    "n, bins, patches = plt.hist(roads_filtered['trees'], 100, facecolor='g', alpha=0.75)"
   ]
  },
  {
   "cell_type": "code",
   "execution_count": null,
   "metadata": {
    "ExecuteTime": {
     "end_time": "2019-12-12T15:00:57.289365Z",
     "start_time": "2019-12-12T13:49:20.925924Z"
    }
   },
   "outputs": [],
   "source": [
    "# within_mp  = roads_filtered_dd.map_partitions(lambda df:df['geometry'].progress_apply(filterMappilary, args = [mapLocations]), meta=pd.Series('list')).compute(scheduler='processes')"
   ]
  },
  {
   "cell_type": "code",
   "execution_count": null,
   "metadata": {
    "ExecuteTime": {
     "end_time": "2019-12-12T15:01:27.522386Z",
     "start_time": "2019-12-12T15:01:27.387606Z"
    }
   },
   "outputs": [],
   "source": [
    "# %store within_mp\n",
    "store -r within_mp"
   ]
  },
  {
   "cell_type": "code",
   "execution_count": null,
   "metadata": {
    "ExecuteTime": {
     "end_time": "2019-12-12T15:01:43.646185Z",
     "start_time": "2019-12-12T15:01:43.615696Z"
    }
   },
   "outputs": [],
   "source": [
    "# within_mp"
   ]
  },
  {
   "cell_type": "code",
   "execution_count": null,
   "metadata": {
    "ExecuteTime": {
     "end_time": "2019-12-12T15:03:55.288399Z",
     "start_time": "2019-12-12T15:03:54.627960Z"
    }
   },
   "outputs": [],
   "source": [
    "# roads_filtered['Mappilary'] = 0.0"
   ]
  },
  {
   "cell_type": "code",
   "execution_count": null,
   "metadata": {
    "ExecuteTime": {
     "end_time": "2019-12-12T16:35:58.246206Z",
     "start_time": "2019-12-12T16:34:46.262017Z"
    }
   },
   "outputs": [],
   "source": [
    "for k in within_mp.index:\n",
    "    if len(within_mp[k]) > 0:\n",
    "        map_trees = mapillary_points[mapillary_points['Imgkey'].isin(within_mp[k])]\n",
    "        roads_WGS84.at[k,'Mappilary_trees'] = np.sum(map_trees['Tree'])+0.000001\n",
    "        roads_WGS84.at[k,'Mappilary_samples'] = len(map_trees)"
   ]
  },
  {
   "cell_type": "code",
   "execution_count": null,
   "metadata": {
    "ExecuteTime": {
     "end_time": "2019-12-12T16:35:58.256943Z",
     "start_time": "2019-12-12T16:35:58.249863Z"
    }
   },
   "outputs": [],
   "source": [
    "len(roads_WGS84)"
   ]
  },
  {
   "cell_type": "code",
   "execution_count": null,
   "metadata": {
    "ExecuteTime": {
     "end_time": "2019-12-12T16:35:58.284442Z",
     "start_time": "2019-12-12T16:35:58.260573Z"
    }
   },
   "outputs": [],
   "source": [
    "final_roads = roads_WGS84[roads_WGS84[['Mappilary_trees', 'Mappilary_samples']].notnull().all(1)]"
   ]
  },
  {
   "cell_type": "code",
   "execution_count": null,
   "metadata": {
    "ExecuteTime": {
     "end_time": "2019-12-12T17:18:15.368961Z",
     "start_time": "2019-12-12T17:18:15.350480Z"
    }
   },
   "outputs": [],
   "source": [
    "final_roads = final_roads[final_roads['trees'] > 10 ] "
   ]
  },
  {
   "cell_type": "code",
   "execution_count": null,
   "metadata": {
    "ExecuteTime": {
     "end_time": "2019-12-12T17:18:11.335525Z",
     "start_time": "2019-12-12T17:18:11.326731Z"
    }
   },
   "outputs": [],
   "source": [
    "len(final_roads)"
   ]
  },
  {
   "cell_type": "code",
   "execution_count": null,
   "metadata": {
    "ExecuteTime": {
     "end_time": "2019-12-12T16:35:58.323796Z",
     "start_time": "2019-12-12T16:35:58.314299Z"
    }
   },
   "outputs": [],
   "source": [
    "# final_roads_meters = final_roads.to_crs(\"+proj=utm +zone=33 +ellps=WGS84 +datum=WGS84 +units=m +no_defs\")\n",
    "# final_roads_meters.iloc[1000].geometry"
   ]
  },
  {
   "cell_type": "code",
   "execution_count": null,
   "metadata": {
    "ExecuteTime": {
     "end_time": "2019-12-12T16:35:58.347039Z",
     "start_time": "2019-12-12T16:35:58.327444Z"
    }
   },
   "outputs": [],
   "source": [
    "final_roads['Tree_density'] = 0.00001\n",
    "final_roads['Tree_pixel_density'] = 0.00001"
   ]
  },
  {
   "cell_type": "code",
   "execution_count": null,
   "metadata": {
    "ExecuteTime": {
     "end_time": "2019-12-12T16:35:58.365966Z",
     "start_time": "2019-12-12T16:35:58.350830Z"
    }
   },
   "outputs": [],
   "source": [
    "minValue = min(final_roads['Mappilary_trees'])\n",
    "print minValue"
   ]
  },
  {
   "cell_type": "code",
   "execution_count": null,
   "metadata": {
    "ExecuteTime": {
     "end_time": "2019-12-12T16:35:59.386248Z",
     "start_time": "2019-12-12T16:35:58.369690Z"
    }
   },
   "outputs": [],
   "source": [
    "for index , row in final_roads.iterrows():\n",
    "    tree_density =  np.log(float(row['trees'])/float(row['length'])) \n",
    "    pixel_density = np.log(float(row['Mappilary_trees'])/float(row['length']))\n",
    "#     print tree_density , pixel_density\n",
    "    final_roads.at[index,'Tree_density'] = tree_density\n",
    "    final_roads.at[index,'Tree_pixel_density'] = pixel_density"
   ]
  },
  {
   "cell_type": "code",
   "execution_count": null,
   "metadata": {
    "ExecuteTime": {
     "end_time": "2019-12-12T16:35:59.428098Z",
     "start_time": "2019-12-12T16:35:59.390354Z"
    }
   },
   "outputs": [],
   "source": [
    "final_roads.head()"
   ]
  },
  {
   "cell_type": "code",
   "execution_count": null,
   "metadata": {
    "ExecuteTime": {
     "end_time": "2019-12-12T16:43:29.343356Z",
     "start_time": "2019-12-12T16:43:29.105895Z"
    }
   },
   "outputs": [],
   "source": [
    "# %store final_roads"
   ]
  },
  {
   "cell_type": "code",
   "execution_count": null,
   "metadata": {
    "ExecuteTime": {
     "end_time": "2019-12-12T16:39:19.780230Z",
     "start_time": "2019-12-12T16:39:18.521112Z"
    }
   },
   "outputs": [],
   "source": [
    "from scipy.stats import pearsonr\n",
    "corr = pearsonr(final_roads['Tree_density'],final_roads['Tree_pixel_density'])\n",
    "print corr\n",
    "# fig, ax = plt.subplots()\n",
    "# fig.set_size_inches(16,12)\n",
    "sns.set(font_scale=2) \n",
    "ax = sns.jointplot(x=final_roads['Tree_pixel_density'], y=final_roads['Tree_density'], kind='regression',height=15);\n",
    "plt.xlabel('ln(Tree pixels per km)')\n",
    "plt.ylabel('ln(Trees per km)')\n",
    "# ax.annotate(\"Pearson r: \" +  str(corr[0])[:4] + '***',fontsize = 20)\n",
    "ax.annotate(pearsonr)"
   ]
  },
  {
   "cell_type": "code",
   "execution_count": null,
   "metadata": {
    "ExecuteTime": {
     "end_time": "2019-12-12T16:44:24.218627Z",
     "start_time": "2019-12-12T16:44:24.017775Z"
    }
   },
   "outputs": [],
   "source": [
    "final_roads[:1000]"
   ]
  },
  {
   "cell_type": "code",
   "execution_count": null,
   "metadata": {
    "ExecuteTime": {
     "end_time": "2019-12-12T17:10:55.249180Z",
     "start_time": "2019-12-12T17:10:54.394886Z"
    }
   },
   "outputs": [],
   "source": [
    "final_roads['samples_per_km'] = 0.0\n",
    "for i , row in final_roads.iterrows():\n",
    "    density = float(row['Mappilary_samples'])/float(row['length'])\n",
    "    final_roads.at[i,'samples_per_km'] = density"
   ]
  },
  {
   "cell_type": "code",
   "execution_count": null,
   "metadata": {
    "ExecuteTime": {
     "end_time": "2019-12-12T17:12:50.304426Z",
     "start_time": "2019-12-12T17:12:50.285722Z"
    }
   },
   "outputs": [],
   "source": [
    "final_roads['decile'] = pd.qcut(final_roads['Mappilary_samples'], q=10, precision=0)"
   ]
  },
  {
   "cell_type": "code",
   "execution_count": null,
   "metadata": {
    "ExecuteTime": {
     "end_time": "2019-12-12T17:12:53.606988Z",
     "start_time": "2019-12-12T17:12:53.564712Z"
    }
   },
   "outputs": [],
   "source": [
    "corrs = []\n",
    "bins = []\n",
    "for name, group in final_roads.groupby('decile'):\n",
    "    bins.append(name)\n",
    "    corr = pearsonr(group['Tree_density'],group['Tree_pixel_density'])\n",
    "    corrs.append(corr)"
   ]
  },
  {
   "cell_type": "code",
   "execution_count": null,
   "metadata": {
    "ExecuteTime": {
     "end_time": "2019-12-12T17:12:54.359830Z",
     "start_time": "2019-12-12T17:12:54.349112Z"
    }
   },
   "outputs": [],
   "source": [
    "corrs"
   ]
  },
  {
   "cell_type": "code",
   "execution_count": null,
   "metadata": {
    "ExecuteTime": {
     "end_time": "2019-12-12T17:13:25.399286Z",
     "start_time": "2019-12-12T17:13:24.966773Z"
    }
   },
   "outputs": [],
   "source": [
    "fig = plt.figure()\n",
    "fig.set_size_inches(15, 10)\n",
    "ax = fig.add_axes([0,0,1,1])\n",
    "plt.xlabel(\"Roads binned by Mapillary samples\",fontsize = 25)\n",
    "plt.ylabel(\"Correlation of Mappilary green index with ln(treepixels/km)\",fontsize = 25)\n",
    "xlabels = [str(b.left)+'-'+str(b.right) for b in bins]\n",
    "c = [corr[0] for corr in corrs]\n",
    "ax.bar(xlabels,c)\n",
    "\n",
    "p = []\n",
    "for corr in corrs: \n",
    "    if corr[1] > 0.05:\n",
    "        p.append('ns')\n",
    "    elif corr[1] <= 0.05 and corr[1] > 0.01  :\n",
    "        p.append('*')\n",
    "    elif corr[1] <= 0.01 and corr[1] > 0.001:\n",
    "        p.append('**')\n",
    "    elif corr[1] <= 0.001 and corr[1] > 0.0001:\n",
    "        p.append('**')\n",
    "    elif corr[1] <= 0.0001 and corr[1] > 0.00001:\n",
    "        p.append('***')\n",
    "    else :\n",
    "        p.append('****')\n",
    "for xi, yi, l in zip(*[xlabels, c, p]):\n",
    "    ax.text(xi, yi, l , fontsize = 18)\n",
    "    \n",
    "    \n",
    "plt.xticks(fontsize=20)\n",
    "plt.yticks(fontsize=20)\n",
    "plt.show()"
   ]
  },
  {
   "cell_type": "code",
   "execution_count": null,
   "metadata": {
    "ExecuteTime": {
     "end_time": "2019-12-12T17:13:50.044185Z",
     "start_time": "2019-12-12T17:13:50.036227Z"
    }
   },
   "outputs": [],
   "source": [
    "def ann(row):\n",
    "    ind = row[0]\n",
    "    r = row[1]\n",
    "    plt.gca().annotate(r['name'], xy=(r[\"Tree_density\"], r[\"Tree_pixel_density\"]), \n",
    "            xytext=(2,2) , textcoords =\"offset points\", fontsize = 10)"
   ]
  },
  {
   "cell_type": "code",
   "execution_count": null,
   "metadata": {
    "ExecuteTime": {
     "end_time": "2019-12-12T17:15:48.386695Z",
     "start_time": "2019-12-12T17:15:16.872137Z"
    },
    "scrolled": false
   },
   "outputs": [],
   "source": [
    "corrs_density = []\n",
    "bins_density = []\n",
    "for name, group in final_roads.groupby('decile'):\n",
    "    bins_density.append(name)\n",
    "    corr = pearsonr(group['Tree_density'],group['Tree_pixel_density'])\n",
    "\n",
    "    print corr\n",
    "    sns.set(font_scale=2) \n",
    "    ax = sns.jointplot(x=\"Tree_density\", y=\"Tree_pixel_density\", data=group,kind='regression',height=15);\n",
    "    plt.xlabel('ln(Trees per km)')\n",
    "    plt.ylabel('ln(Tree pixels square km)')\n",
    "    ax.annotate(pearsonr)\n",
    "    for row in group.iterrows():\n",
    "        ann(row)\n",
    "    corrs_density.append(corr)"
   ]
  },
  {
   "cell_type": "code",
   "execution_count": null,
   "metadata": {},
   "outputs": [],
   "source": []
  }
 ],
 "metadata": {
  "kernelspec": {
   "display_name": "Python [conda env:root] *",
   "language": "python",
   "name": "conda-root-py"
  },
  "language_info": {
   "codemirror_mode": {
    "name": "ipython",
    "version": 3
   },
   "file_extension": ".py",
   "mimetype": "text/x-python",
   "name": "python",
   "nbconvert_exporter": "python",
   "pygments_lexer": "ipython3",
   "version": "3.7.0"
  }
 },
 "nbformat": 4,
 "nbformat_minor": 2
}
