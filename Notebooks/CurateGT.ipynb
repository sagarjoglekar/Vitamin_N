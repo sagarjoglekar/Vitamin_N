{
 "cells": [
  {
   "cell_type": "code",
   "execution_count": 1,
   "metadata": {
    "ExecuteTime": {
     "end_time": "2021-01-27T17:08:31.187450Z",
     "start_time": "2021-01-27T17:08:29.945901Z"
    }
   },
   "outputs": [
    {
     "name": "stderr",
     "output_type": "stream",
     "text": [
      "/work/sagarj/miniconda3/lib/python3.7/site-packages/pysal/__init__.py:65: VisibleDeprecationWarning: PySAL's API will be changed on 2018-12-31. The last release made with this API is version 1.14.4. A preview of the next API version is provided in the `pysal` 2.0 prelease candidate. The API changes and a guide on how to change imports is provided at https://migrating.pysal.org\n",
      "  ), VisibleDeprecationWarning)\n",
      "/work/sagarj/miniconda3/lib/python3.7/site-packages/tqdm/std.py:658: FutureWarning: The Panel class is removed from pandas. Accessing it from the top-level namespace will also be removed in the next version\n",
      "  from pandas import Panel\n"
     ]
    }
   ],
   "source": [
    "import pickle\n",
    "import pandas as pd\n",
    "import numpy as np\n",
    "import matplotlib.pyplot as plt\n",
    "import matplotlib.cm as cm\n",
    "import geopandas as gpd\n",
    "from geopandas import GeoSeries\n",
    "import seaborn as sns\n",
    "from itertools import chain\n",
    "from matplotlib.colors import Normalize\n",
    "from matplotlib.collections import PatchCollection\n",
    "%matplotlib inline\n",
    "import matplotlib.font_manager as fm\n",
    "from mpl_toolkits.basemap import Basemap\n",
    "from shapely.geometry import Point, Polygon, MultiPoint, MultiPolygon, shape \n",
    "from shapely.prepared import prep\n",
    "from pysal.esda.mapclassify import Natural_Breaks as nb\n",
    "from descartes import PolygonPatch\n",
    "\n",
    "import osmnx as ox\n",
    "import fiona\n",
    "from fiona.crs import from_epsg\n",
    "import pysal as ps\n",
    "from pysal.contrib.viz import mapping as maps\n",
    "from tqdm import tqdm\n",
    "import geopandas\n",
    "from geopandas.tools import sjoin\n",
    "from pyproj import Proj, transform\n",
    "from geopy.distance import distance\n",
    "from shapely.geometry import LineString, Point, LinearRing\n",
    "\n",
    "\n",
    "from dask import dataframe\n",
    "import multiprocessing\n",
    "from tqdm import tqdm\n",
    "from tqdm import tqdm, tqdm_notebook\n",
    "tqdm.pandas()\n",
    "from dask.diagnostics import ProgressBar\n",
    "pbar = ProgressBar()\n",
    "pbar.register()"
   ]
  },
  {
   "cell_type": "code",
   "execution_count": 2,
   "metadata": {
    "ExecuteTime": {
     "end_time": "2021-01-27T17:08:33.765354Z",
     "start_time": "2021-01-27T17:08:33.755744Z"
    }
   },
   "outputs": [],
   "source": [
    "plt.style.use('seaborn-white')\n",
    "\n",
    "plt.rcParams['font.family'] = 'serif'\n",
    "plt.rcParams['font.serif'] = 'Ubuntu'\n",
    "plt.rcParams['font.monospace'] = 'Ubuntu Mono'\n",
    "plt.rcParams['font.size'] = 10\n",
    "plt.rcParams['axes.labelsize'] = 10\n",
    "plt.rcParams['axes.labelweight'] = 'bold'\n",
    "plt.rcParams['axes.titlesize'] = 10\n",
    "plt.rcParams['xtick.labelsize'] = 8\n",
    "plt.rcParams['ytick.labelsize'] = 8\n",
    "plt.rcParams['legend.fontsize'] = 10\n",
    "plt.rcParams['figure.titlesize'] = 12"
   ]
  },
  {
   "cell_type": "code",
   "execution_count": 3,
   "metadata": {
    "ExecuteTime": {
     "end_time": "2021-01-27T17:08:34.464161Z",
     "start_time": "2021-01-27T17:08:34.451970Z"
    }
   },
   "outputs": [
    {
     "name": "stdout",
     "output_type": "stream",
     "text": [
      "{}\n",
      "(-0.5103750689005356, 51.28676016315085, 0.3340155643740321, 51.691874116909894)\n",
      "[-0.5103750689005356, 51.28676016315085, 0.3340155643740321, 51.691874116909894]\n",
      "0.8443906332745678 0.4051139537590416\n"
     ]
    }
   ],
   "source": [
    "# ogr2ogr -t_srs EPSG:4326 LB_WGS84.shp London_Borough_Excluding_MHW.shp\n",
    "shp = fiona.open('../Data/Geo_Data/geo/london_wards.shp') # London_Borough_Excluding_MHW_wgs84.shp\n",
    "crs_data = shp.crs\n",
    "print(crs_data)\n",
    "bds = shp.bounds\n",
    "print (bds)\n",
    "shp.close()\n",
    "extra = 0.01\n",
    "# bounds need to be datum-shifted\n",
    "#wgs84 = pyproj.Proj(\"+init=EPSG:4326\")\n",
    "#osgb36 = pyproj.Proj(\"+init=EPSG:27700\")\n",
    "#ll = pyproj.transform(osgb36, wgs84, bds[0], bds[1])\n",
    "#ur = pyproj.transform(osgb36, wgs84, bds[2], bds[3])\n",
    "ll = (bds[0], bds[1])\n",
    "ur = (bds[2], bds[3])\n",
    "coords = list(chain(ll, ur))\n",
    "print (coords)\n",
    "\n",
    "w, h = coords[2] - coords[0], coords[3] - coords[1]\n",
    "\n",
    "print (w,h)"
   ]
  },
  {
   "cell_type": "code",
   "execution_count": 45,
   "metadata": {
    "ExecuteTime": {
     "end_time": "2021-02-12T14:25:06.318884Z",
     "start_time": "2021-02-12T14:24:48.681865Z"
    }
   },
   "outputs": [],
   "source": [
    "roads = gpd.read_file('../Data/GreaterLondon/edges/edges.shp')"
   ]
  },
  {
   "cell_type": "code",
   "execution_count": 46,
   "metadata": {
    "ExecuteTime": {
     "end_time": "2021-02-12T14:36:08.655895Z",
     "start_time": "2021-02-12T14:36:08.621779Z"
    }
   },
   "outputs": [
    {
     "data": {
      "text/html": [
       "<div>\n",
       "<style scoped>\n",
       "    .dataframe tbody tr th:only-of-type {\n",
       "        vertical-align: middle;\n",
       "    }\n",
       "\n",
       "    .dataframe tbody tr th {\n",
       "        vertical-align: top;\n",
       "    }\n",
       "\n",
       "    .dataframe thead th {\n",
       "        text-align: right;\n",
       "    }\n",
       "</style>\n",
       "<table border=\"1\" class=\"dataframe\">\n",
       "  <thead>\n",
       "    <tr style=\"text-align: right;\">\n",
       "      <th></th>\n",
       "      <th>access</th>\n",
       "      <th>area</th>\n",
       "      <th>bridge</th>\n",
       "      <th>est_width</th>\n",
       "      <th>from</th>\n",
       "      <th>highway</th>\n",
       "      <th>junction</th>\n",
       "      <th>key</th>\n",
       "      <th>lanes</th>\n",
       "      <th>length</th>\n",
       "      <th>maxspeed</th>\n",
       "      <th>name</th>\n",
       "      <th>oneway</th>\n",
       "      <th>osmid</th>\n",
       "      <th>ref</th>\n",
       "      <th>service</th>\n",
       "      <th>to</th>\n",
       "      <th>tunnel</th>\n",
       "      <th>width</th>\n",
       "      <th>geometry</th>\n",
       "    </tr>\n",
       "  </thead>\n",
       "  <tbody>\n",
       "    <tr>\n",
       "      <th>0</th>\n",
       "      <td>None</td>\n",
       "      <td>None</td>\n",
       "      <td>None</td>\n",
       "      <td>None</td>\n",
       "      <td>370068561</td>\n",
       "      <td>residential</td>\n",
       "      <td>None</td>\n",
       "      <td>0</td>\n",
       "      <td>None</td>\n",
       "      <td>17.609</td>\n",
       "      <td>20 mph</td>\n",
       "      <td>Epstein Road</td>\n",
       "      <td>False</td>\n",
       "      <td>10780443</td>\n",
       "      <td>None</td>\n",
       "      <td>None</td>\n",
       "      <td>95944704</td>\n",
       "      <td>None</td>\n",
       "      <td>None</td>\n",
       "      <td>LINESTRING (715931.281 5710314.614, 715917.030...</td>\n",
       "    </tr>\n",
       "    <tr>\n",
       "      <th>1</th>\n",
       "      <td>None</td>\n",
       "      <td>None</td>\n",
       "      <td>None</td>\n",
       "      <td>None</td>\n",
       "      <td>95944707</td>\n",
       "      <td>residential</td>\n",
       "      <td>None</td>\n",
       "      <td>0</td>\n",
       "      <td>None</td>\n",
       "      <td>68.247</td>\n",
       "      <td>20 mph</td>\n",
       "      <td>Galsworthy Close</td>\n",
       "      <td>False</td>\n",
       "      <td>10780432</td>\n",
       "      <td>None</td>\n",
       "      <td>None</td>\n",
       "      <td>95944704</td>\n",
       "      <td>None</td>\n",
       "      <td>None</td>\n",
       "      <td>LINESTRING (715964.413 5710256.225, 715934.225...</td>\n",
       "    </tr>\n",
       "    <tr>\n",
       "      <th>2</th>\n",
       "      <td>None</td>\n",
       "      <td>None</td>\n",
       "      <td>None</td>\n",
       "      <td>None</td>\n",
       "      <td>95944671</td>\n",
       "      <td>residential</td>\n",
       "      <td>None</td>\n",
       "      <td>0</td>\n",
       "      <td>None</td>\n",
       "      <td>41.109</td>\n",
       "      <td>20 mph</td>\n",
       "      <td>Epstein Road</td>\n",
       "      <td>False</td>\n",
       "      <td>10780443</td>\n",
       "      <td>None</td>\n",
       "      <td>None</td>\n",
       "      <td>95944704</td>\n",
       "      <td>None</td>\n",
       "      <td>None</td>\n",
       "      <td>LINESTRING (715885.341 5710277.855, 715917.030...</td>\n",
       "    </tr>\n",
       "    <tr>\n",
       "      <th>3</th>\n",
       "      <td>None</td>\n",
       "      <td>None</td>\n",
       "      <td>None</td>\n",
       "      <td>None</td>\n",
       "      <td>277489</td>\n",
       "      <td>residential</td>\n",
       "      <td>None</td>\n",
       "      <td>0</td>\n",
       "      <td>None</td>\n",
       "      <td>29.564</td>\n",
       "      <td>30 mph</td>\n",
       "      <td>Woodside Grove</td>\n",
       "      <td>False</td>\n",
       "      <td>3398626</td>\n",
       "      <td>None</td>\n",
       "      <td>None</td>\n",
       "      <td>193724417</td>\n",
       "      <td>None</td>\n",
       "      <td>None</td>\n",
       "      <td>LINESTRING (695323.706 5722787.895, 695294.102...</td>\n",
       "    </tr>\n",
       "    <tr>\n",
       "      <th>4</th>\n",
       "      <td>None</td>\n",
       "      <td>None</td>\n",
       "      <td>None</td>\n",
       "      <td>None</td>\n",
       "      <td>277490</td>\n",
       "      <td>residential</td>\n",
       "      <td>None</td>\n",
       "      <td>0</td>\n",
       "      <td>None</td>\n",
       "      <td>80.433</td>\n",
       "      <td>30 mph</td>\n",
       "      <td>Woodside Grove</td>\n",
       "      <td>False</td>\n",
       "      <td>3398626</td>\n",
       "      <td>None</td>\n",
       "      <td>None</td>\n",
       "      <td>193724417</td>\n",
       "      <td>None</td>\n",
       "      <td>None</td>\n",
       "      <td>LINESTRING (695216.776 5722810.611, 695286.927...</td>\n",
       "    </tr>\n",
       "  </tbody>\n",
       "</table>\n",
       "</div>"
      ],
      "text/plain": [
       "  access  area bridge est_width       from      highway junction key lanes  \\\n",
       "0   None  None   None      None  370068561  residential     None   0  None   \n",
       "1   None  None   None      None   95944707  residential     None   0  None   \n",
       "2   None  None   None      None   95944671  residential     None   0  None   \n",
       "3   None  None   None      None     277489  residential     None   0  None   \n",
       "4   None  None   None      None     277490  residential     None   0  None   \n",
       "\n",
       "   length maxspeed              name oneway     osmid   ref service  \\\n",
       "0  17.609   20 mph      Epstein Road  False  10780443  None    None   \n",
       "1  68.247   20 mph  Galsworthy Close  False  10780432  None    None   \n",
       "2  41.109   20 mph      Epstein Road  False  10780443  None    None   \n",
       "3  29.564   30 mph    Woodside Grove  False   3398626  None    None   \n",
       "4  80.433   30 mph    Woodside Grove  False   3398626  None    None   \n",
       "\n",
       "          to tunnel width                                           geometry  \n",
       "0   95944704   None  None  LINESTRING (715931.281 5710314.614, 715917.030...  \n",
       "1   95944704   None  None  LINESTRING (715964.413 5710256.225, 715934.225...  \n",
       "2   95944704   None  None  LINESTRING (715885.341 5710277.855, 715917.030...  \n",
       "3  193724417   None  None  LINESTRING (695323.706 5722787.895, 695294.102...  \n",
       "4  193724417   None  None  LINESTRING (695216.776 5722810.611, 695286.927...  "
      ]
     },
     "execution_count": 46,
     "metadata": {},
     "output_type": "execute_result"
    }
   ],
   "source": [
    "roads.head()"
   ]
  },
  {
   "cell_type": "code",
   "execution_count": 5,
   "metadata": {
    "ExecuteTime": {
     "end_time": "2021-01-27T17:08:52.107706Z",
     "start_time": "2021-01-27T17:08:40.801630Z"
    }
   },
   "outputs": [],
   "source": [
    "roads['geometry'] = roads['geometry'].buffer(10)"
   ]
  },
  {
   "cell_type": "code",
   "execution_count": 6,
   "metadata": {
    "ExecuteTime": {
     "end_time": "2021-01-27T17:08:52.137955Z",
     "start_time": "2021-01-27T17:08:52.109903Z"
    }
   },
   "outputs": [
    {
     "data": {
      "text/html": [
       "<div>\n",
       "<style scoped>\n",
       "    .dataframe tbody tr th:only-of-type {\n",
       "        vertical-align: middle;\n",
       "    }\n",
       "\n",
       "    .dataframe tbody tr th {\n",
       "        vertical-align: top;\n",
       "    }\n",
       "\n",
       "    .dataframe thead th {\n",
       "        text-align: right;\n",
       "    }\n",
       "</style>\n",
       "<table border=\"1\" class=\"dataframe\">\n",
       "  <thead>\n",
       "    <tr style=\"text-align: right;\">\n",
       "      <th></th>\n",
       "      <th>access</th>\n",
       "      <th>area</th>\n",
       "      <th>bridge</th>\n",
       "      <th>est_width</th>\n",
       "      <th>from</th>\n",
       "      <th>highway</th>\n",
       "      <th>junction</th>\n",
       "      <th>key</th>\n",
       "      <th>lanes</th>\n",
       "      <th>length</th>\n",
       "      <th>maxspeed</th>\n",
       "      <th>name</th>\n",
       "      <th>oneway</th>\n",
       "      <th>osmid</th>\n",
       "      <th>ref</th>\n",
       "      <th>service</th>\n",
       "      <th>to</th>\n",
       "      <th>tunnel</th>\n",
       "      <th>width</th>\n",
       "      <th>geometry</th>\n",
       "    </tr>\n",
       "  </thead>\n",
       "  <tbody>\n",
       "    <tr>\n",
       "      <th>0</th>\n",
       "      <td>None</td>\n",
       "      <td>None</td>\n",
       "      <td>None</td>\n",
       "      <td>None</td>\n",
       "      <td>370068561</td>\n",
       "      <td>residential</td>\n",
       "      <td>None</td>\n",
       "      <td>0</td>\n",
       "      <td>None</td>\n",
       "      <td>17.609</td>\n",
       "      <td>20 mph</td>\n",
       "      <td>Epstein Road</td>\n",
       "      <td>False</td>\n",
       "      <td>10780443</td>\n",
       "      <td>None</td>\n",
       "      <td>None</td>\n",
       "      <td>95944704</td>\n",
       "      <td>None</td>\n",
       "      <td>None</td>\n",
       "      <td>POLYGON ((715922.931 5710296.123, 715922.112 5...</td>\n",
       "    </tr>\n",
       "    <tr>\n",
       "      <th>1</th>\n",
       "      <td>None</td>\n",
       "      <td>None</td>\n",
       "      <td>None</td>\n",
       "      <td>None</td>\n",
       "      <td>95944707</td>\n",
       "      <td>residential</td>\n",
       "      <td>None</td>\n",
       "      <td>0</td>\n",
       "      <td>None</td>\n",
       "      <td>68.247</td>\n",
       "      <td>20 mph</td>\n",
       "      <td>Galsworthy Close</td>\n",
       "      <td>False</td>\n",
       "      <td>10780432</td>\n",
       "      <td>None</td>\n",
       "      <td>None</td>\n",
       "      <td>95944704</td>\n",
       "      <td>None</td>\n",
       "      <td>None</td>\n",
       "      <td>POLYGON ((715928.246 5710270.726, 715927.388 5...</td>\n",
       "    </tr>\n",
       "    <tr>\n",
       "      <th>2</th>\n",
       "      <td>None</td>\n",
       "      <td>None</td>\n",
       "      <td>None</td>\n",
       "      <td>None</td>\n",
       "      <td>95944671</td>\n",
       "      <td>residential</td>\n",
       "      <td>None</td>\n",
       "      <td>0</td>\n",
       "      <td>None</td>\n",
       "      <td>41.109</td>\n",
       "      <td>20 mph</td>\n",
       "      <td>Epstein Road</td>\n",
       "      <td>False</td>\n",
       "      <td>10780443</td>\n",
       "      <td>None</td>\n",
       "      <td>None</td>\n",
       "      <td>95944704</td>\n",
       "      <td>None</td>\n",
       "      <td>None</td>\n",
       "      <td>POLYGON ((715910.637 5710311.886, 715911.422 5...</td>\n",
       "    </tr>\n",
       "    <tr>\n",
       "      <th>3</th>\n",
       "      <td>None</td>\n",
       "      <td>None</td>\n",
       "      <td>None</td>\n",
       "      <td>None</td>\n",
       "      <td>277489</td>\n",
       "      <td>residential</td>\n",
       "      <td>None</td>\n",
       "      <td>0</td>\n",
       "      <td>None</td>\n",
       "      <td>29.564</td>\n",
       "      <td>30 mph</td>\n",
       "      <td>Woodside Grove</td>\n",
       "      <td>False</td>\n",
       "      <td>3398626</td>\n",
       "      <td>None</td>\n",
       "      <td>None</td>\n",
       "      <td>193724417</td>\n",
       "      <td>None</td>\n",
       "      <td>None</td>\n",
       "      <td>POLYGON ((695293.489 5722779.731, 695292.514 5...</td>\n",
       "    </tr>\n",
       "    <tr>\n",
       "      <th>4</th>\n",
       "      <td>None</td>\n",
       "      <td>None</td>\n",
       "      <td>None</td>\n",
       "      <td>None</td>\n",
       "      <td>277490</td>\n",
       "      <td>residential</td>\n",
       "      <td>None</td>\n",
       "      <td>0</td>\n",
       "      <td>None</td>\n",
       "      <td>80.433</td>\n",
       "      <td>30 mph</td>\n",
       "      <td>Woodside Grove</td>\n",
       "      <td>False</td>\n",
       "      <td>3398626</td>\n",
       "      <td>None</td>\n",
       "      <td>None</td>\n",
       "      <td>193724417</td>\n",
       "      <td>None</td>\n",
       "      <td>None</td>\n",
       "      <td>POLYGON ((695287.856 5722799.038, 695292.917 5...</td>\n",
       "    </tr>\n",
       "  </tbody>\n",
       "</table>\n",
       "</div>"
      ],
      "text/plain": [
       "  access  area bridge est_width       from      highway junction key lanes  \\\n",
       "0   None  None   None      None  370068561  residential     None   0  None   \n",
       "1   None  None   None      None   95944707  residential     None   0  None   \n",
       "2   None  None   None      None   95944671  residential     None   0  None   \n",
       "3   None  None   None      None     277489  residential     None   0  None   \n",
       "4   None  None   None      None     277490  residential     None   0  None   \n",
       "\n",
       "   length maxspeed              name oneway     osmid   ref service  \\\n",
       "0  17.609   20 mph      Epstein Road  False  10780443  None    None   \n",
       "1  68.247   20 mph  Galsworthy Close  False  10780432  None    None   \n",
       "2  41.109   20 mph      Epstein Road  False  10780443  None    None   \n",
       "3  29.564   30 mph    Woodside Grove  False   3398626  None    None   \n",
       "4  80.433   30 mph    Woodside Grove  False   3398626  None    None   \n",
       "\n",
       "          to tunnel width                                           geometry  \n",
       "0   95944704   None  None  POLYGON ((715922.931 5710296.123, 715922.112 5...  \n",
       "1   95944704   None  None  POLYGON ((715928.246 5710270.726, 715927.388 5...  \n",
       "2   95944704   None  None  POLYGON ((715910.637 5710311.886, 715911.422 5...  \n",
       "3  193724417   None  None  POLYGON ((695293.489 5722779.731, 695292.514 5...  \n",
       "4  193724417   None  None  POLYGON ((695287.856 5722799.038, 695292.917 5...  "
      ]
     },
     "execution_count": 6,
     "metadata": {},
     "output_type": "execute_result"
    }
   ],
   "source": [
    "roads.head()"
   ]
  },
  {
   "cell_type": "code",
   "execution_count": 7,
   "metadata": {
    "ExecuteTime": {
     "end_time": "2021-01-27T17:08:52.225665Z",
     "start_time": "2021-01-27T17:08:52.139409Z"
    }
   },
   "outputs": [
    {
     "data": {
      "text/plain": [
       "{'init': 'epsg:32630'}"
      ]
     },
     "execution_count": 7,
     "metadata": {},
     "output_type": "execute_result"
    }
   ],
   "source": [
    "roads.crs"
   ]
  },
  {
   "cell_type": "code",
   "execution_count": 8,
   "metadata": {
    "ExecuteTime": {
     "end_time": "2021-01-27T17:09:17.073573Z",
     "start_time": "2021-01-27T17:08:52.227034Z"
    }
   },
   "outputs": [
    {
     "name": "stderr",
     "output_type": "stream",
     "text": [
      "/work/sagarj/.local/lib/python3.7/site-packages/pyproj/crs/crs.py:53: FutureWarning: '+init=<authority>:<code>' syntax is deprecated. '<authority>:<code>' is the preferred initialization method. When making the change, be mindful of axis order changes: https://pyproj4.github.io/pyproj/stable/gotchas.html#axis-order-changes-in-proj-6\n",
      "  return _prepare_from_string(\" \".join(pjargs))\n"
     ]
    }
   ],
   "source": [
    "roads_WGS84 = roads.to_crs({'proj':'longlat', 'ellps':'WGS84', 'datum':'WGS84'})"
   ]
  },
  {
   "cell_type": "code",
   "execution_count": 9,
   "metadata": {
    "ExecuteTime": {
     "end_time": "2021-01-27T17:09:17.095117Z",
     "start_time": "2021-01-27T17:09:17.075288Z"
    }
   },
   "outputs": [
    {
     "data": {
      "text/html": [
       "<div>\n",
       "<style scoped>\n",
       "    .dataframe tbody tr th:only-of-type {\n",
       "        vertical-align: middle;\n",
       "    }\n",
       "\n",
       "    .dataframe tbody tr th {\n",
       "        vertical-align: top;\n",
       "    }\n",
       "\n",
       "    .dataframe thead th {\n",
       "        text-align: right;\n",
       "    }\n",
       "</style>\n",
       "<table border=\"1\" class=\"dataframe\">\n",
       "  <thead>\n",
       "    <tr style=\"text-align: right;\">\n",
       "      <th></th>\n",
       "      <th>access</th>\n",
       "      <th>area</th>\n",
       "      <th>bridge</th>\n",
       "      <th>est_width</th>\n",
       "      <th>from</th>\n",
       "      <th>highway</th>\n",
       "      <th>junction</th>\n",
       "      <th>key</th>\n",
       "      <th>lanes</th>\n",
       "      <th>length</th>\n",
       "      <th>maxspeed</th>\n",
       "      <th>name</th>\n",
       "      <th>oneway</th>\n",
       "      <th>osmid</th>\n",
       "      <th>ref</th>\n",
       "      <th>service</th>\n",
       "      <th>to</th>\n",
       "      <th>tunnel</th>\n",
       "      <th>width</th>\n",
       "      <th>geometry</th>\n",
       "    </tr>\n",
       "  </thead>\n",
       "  <tbody>\n",
       "    <tr>\n",
       "      <th>0</th>\n",
       "      <td>None</td>\n",
       "      <td>None</td>\n",
       "      <td>None</td>\n",
       "      <td>None</td>\n",
       "      <td>370068561</td>\n",
       "      <td>residential</td>\n",
       "      <td>None</td>\n",
       "      <td>0</td>\n",
       "      <td>None</td>\n",
       "      <td>17.609</td>\n",
       "      <td>20 mph</td>\n",
       "      <td>Epstein Road</td>\n",
       "      <td>False</td>\n",
       "      <td>10780443</td>\n",
       "      <td>None</td>\n",
       "      <td>None</td>\n",
       "      <td>95944704</td>\n",
       "      <td>None</td>\n",
       "      <td>None</td>\n",
       "      <td>POLYGON ((0.11122 51.50249, 0.11121 51.50248, ...</td>\n",
       "    </tr>\n",
       "    <tr>\n",
       "      <th>1</th>\n",
       "      <td>None</td>\n",
       "      <td>None</td>\n",
       "      <td>None</td>\n",
       "      <td>None</td>\n",
       "      <td>95944707</td>\n",
       "      <td>residential</td>\n",
       "      <td>None</td>\n",
       "      <td>0</td>\n",
       "      <td>None</td>\n",
       "      <td>68.247</td>\n",
       "      <td>20 mph</td>\n",
       "      <td>Galsworthy Close</td>\n",
       "      <td>False</td>\n",
       "      <td>10780432</td>\n",
       "      <td>None</td>\n",
       "      <td>None</td>\n",
       "      <td>95944704</td>\n",
       "      <td>None</td>\n",
       "      <td>None</td>\n",
       "      <td>POLYGON ((0.11128 51.50226, 0.11127 51.50227, ...</td>\n",
       "    </tr>\n",
       "    <tr>\n",
       "      <th>2</th>\n",
       "      <td>None</td>\n",
       "      <td>None</td>\n",
       "      <td>None</td>\n",
       "      <td>None</td>\n",
       "      <td>95944671</td>\n",
       "      <td>residential</td>\n",
       "      <td>None</td>\n",
       "      <td>0</td>\n",
       "      <td>None</td>\n",
       "      <td>41.109</td>\n",
       "      <td>20 mph</td>\n",
       "      <td>Epstein Road</td>\n",
       "      <td>False</td>\n",
       "      <td>10780443</td>\n",
       "      <td>None</td>\n",
       "      <td>None</td>\n",
       "      <td>95944704</td>\n",
       "      <td>None</td>\n",
       "      <td>None</td>\n",
       "      <td>POLYGON ((0.11106 51.50264, 0.11107 51.50264, ...</td>\n",
       "    </tr>\n",
       "    <tr>\n",
       "      <th>3</th>\n",
       "      <td>None</td>\n",
       "      <td>None</td>\n",
       "      <td>None</td>\n",
       "      <td>None</td>\n",
       "      <td>277489</td>\n",
       "      <td>residential</td>\n",
       "      <td>None</td>\n",
       "      <td>0</td>\n",
       "      <td>None</td>\n",
       "      <td>29.564</td>\n",
       "      <td>30 mph</td>\n",
       "      <td>Woodside Grove</td>\n",
       "      <td>False</td>\n",
       "      <td>3398626</td>\n",
       "      <td>None</td>\n",
       "      <td>None</td>\n",
       "      <td>193724417</td>\n",
       "      <td>None</td>\n",
       "      <td>None</td>\n",
       "      <td>POLYGON ((-0.17868 51.62211, -0.17870 51.62211...</td>\n",
       "    </tr>\n",
       "    <tr>\n",
       "      <th>4</th>\n",
       "      <td>None</td>\n",
       "      <td>None</td>\n",
       "      <td>None</td>\n",
       "      <td>None</td>\n",
       "      <td>277490</td>\n",
       "      <td>residential</td>\n",
       "      <td>None</td>\n",
       "      <td>0</td>\n",
       "      <td>None</td>\n",
       "      <td>80.433</td>\n",
       "      <td>30 mph</td>\n",
       "      <td>Woodside Grove</td>\n",
       "      <td>False</td>\n",
       "      <td>3398626</td>\n",
       "      <td>None</td>\n",
       "      <td>None</td>\n",
       "      <td>193724417</td>\n",
       "      <td>None</td>\n",
       "      <td>None</td>\n",
       "      <td>POLYGON ((-0.17875 51.62228, -0.17868 51.62228...</td>\n",
       "    </tr>\n",
       "  </tbody>\n",
       "</table>\n",
       "</div>"
      ],
      "text/plain": [
       "  access  area bridge est_width       from      highway junction key lanes  \\\n",
       "0   None  None   None      None  370068561  residential     None   0  None   \n",
       "1   None  None   None      None   95944707  residential     None   0  None   \n",
       "2   None  None   None      None   95944671  residential     None   0  None   \n",
       "3   None  None   None      None     277489  residential     None   0  None   \n",
       "4   None  None   None      None     277490  residential     None   0  None   \n",
       "\n",
       "   length maxspeed              name oneway     osmid   ref service  \\\n",
       "0  17.609   20 mph      Epstein Road  False  10780443  None    None   \n",
       "1  68.247   20 mph  Galsworthy Close  False  10780432  None    None   \n",
       "2  41.109   20 mph      Epstein Road  False  10780443  None    None   \n",
       "3  29.564   30 mph    Woodside Grove  False   3398626  None    None   \n",
       "4  80.433   30 mph    Woodside Grove  False   3398626  None    None   \n",
       "\n",
       "          to tunnel width                                           geometry  \n",
       "0   95944704   None  None  POLYGON ((0.11122 51.50249, 0.11121 51.50248, ...  \n",
       "1   95944704   None  None  POLYGON ((0.11128 51.50226, 0.11127 51.50227, ...  \n",
       "2   95944704   None  None  POLYGON ((0.11106 51.50264, 0.11107 51.50264, ...  \n",
       "3  193724417   None  None  POLYGON ((-0.17868 51.62211, -0.17870 51.62211...  \n",
       "4  193724417   None  None  POLYGON ((-0.17875 51.62228, -0.17868 51.62228...  "
      ]
     },
     "execution_count": 9,
     "metadata": {},
     "output_type": "execute_result"
    }
   ],
   "source": [
    "roads_WGS84.head()"
   ]
  },
  {
   "cell_type": "code",
   "execution_count": 10,
   "metadata": {
    "ExecuteTime": {
     "end_time": "2021-01-27T17:09:17.178979Z",
     "start_time": "2021-01-27T17:09:17.096426Z"
    }
   },
   "outputs": [],
   "source": [
    "# shp_roads = fiona.open('../Data/Geo_Data/geo/london_wards.shp')\n",
    "\n",
    "# shp_roads.crs\n",
    "\n",
    "from geopandas.tools import sjoin"
   ]
  },
  {
   "cell_type": "code",
   "execution_count": 11,
   "metadata": {
    "ExecuteTime": {
     "end_time": "2021-01-27T17:09:17.275029Z",
     "start_time": "2021-01-27T17:09:17.183538Z"
    }
   },
   "outputs": [
    {
     "data": {
      "text/plain": [
       "161911"
      ]
     },
     "execution_count": 11,
     "metadata": {},
     "output_type": "execute_result"
    }
   ],
   "source": [
    "len(roads)"
   ]
  },
  {
   "cell_type": "code",
   "execution_count": 12,
   "metadata": {
    "ExecuteTime": {
     "end_time": "2021-01-27T17:09:17.349563Z",
     "start_time": "2021-01-27T17:09:17.278162Z"
    }
   },
   "outputs": [
    {
     "data": {
      "image/svg+xml": [
       "<svg xmlns=\"http://www.w3.org/2000/svg\" xmlns:xlink=\"http://www.w3.org/1999/xlink\" width=\"100.0\" height=\"100.0\" viewBox=\"-0.2875782139723049 51.56426317418627 0.0016849350152287057 0.0011167079199694285\" preserveAspectRatio=\"xMinYMin meet\"><g transform=\"matrix(1,0,0,-1,0,103.12964305629251)\"><path fill-rule=\"evenodd\" fill=\"#66cc99\" stroke=\"#555555\" stroke-width=\"3.369870030457411e-05\" opacity=\"0.6\" d=\"M -0.28668234055149233,51.56452238567699 L -0.28669380708518283,51.56452700327966 L -0.2867045216373069,51.56453227598303 L -0.2870409215354652,51.564714575711676 L -0.2870511612385072,51.56472070160495 L -0.2870603850999149,51.5647274252026 L -0.2872506852683485,51.564880825020985 L -0.28725769476601776,51.5648869951405 L -0.28741509501287327,51.5650386949825 L -0.2874181919821372,51.56504181785891 L -0.287468192079929,51.56509461780769 L -0.28747565779110473,51.56510362687177 L -0.28748144780692,51.56511310270058 L -0.28748548843292726,51.56512292468899 L -0.2875130886960848,51.56521022465973 L -0.2875151400179866,51.5652189516472 L -0.28751580897174084,51.56522776192388 L -0.28751508911415313,51.56523657064196 L -0.2875129873770493,51.56524529296866 L -0.2875095240005445,51.56525384490312 L -0.28750473233814855,51.5652621440854 L -0.28749865853558343,51.565270110589694 L -0.28749136108639606,51.56527766769397 L -0.2874829102686495,51.565284742618985 L -0.28747338746812867,51.56529126722909 L -0.2874628843945502,51.565297178688496 L -0.28745150219835236,51.56530242006636 L -0.28743935049656427,51.565306940885094 L -0.2874265463171126,51.56531069760654 L -0.2874132129717706,51.56531365405125 L -0.287399478868579,51.565315781746875 L -0.28738547627517486,51.56531706020246 L -0.28737134004496767,51.56531747710568 L -0.2873572063183774,51.56531702844158 L -0.28734321121171874,51.56531571853101 L -0.28732948950627957,51.56531355998926 L -0.2873161733502839,51.56531057360435 L -0.28730339098619956,51.565306788137015 L -0.28729126551567286,51.56530224004353 L -0.2872799137139731,51.56529697312478 L -0.28726944490536854,51.565291038104306 L -0.2872599599102656,51.56528449213984 L -0.2872515500742532,51.56527739827284 L -0.2872442963883934,51.56526982482137 L -0.28723826870925184,51.56526184472211 L -0.287233525086143,51.56525353482799 L -0.2872301112021209,51.56524497516793 L -0.28720727734905954,51.56517275000801 L -0.28717130507226224,51.56513476316139 L -0.28701880134554203,51.564987781746304 L -0.2868409280806141,51.5648443986028 L -0.28652561495648154,51.564673525680206 L -0.2860273586450961,51.56449311395237 L -0.2860154856198321,51.564488314331086 L -0.28600442459205677,51.564482812504174 L -0.28599428208567523,51.564476661457455 L -0.2859851557785699,51.56446992042914 L -0.2859771335619142,51.564462654339245 L -0.28597029269373764,51.56445493316442 L -0.2859646990548926,51.56444683126401 L -0.2859604065146174,51.564438426663905 L -0.2859574564117509,51.56442980030515 L -0.285955877156659,51.56442103526436 L -0.2859556839576402,51.56441221595375 L -0.2859568786745063,51.564403427308065 L -0.28595944980069204,51.56439475396672 L -0.28596337257410254,51.564386279458645 L -0.2859686092156131,51.564378085397856 L -0.2859751092929386,51.56437025069741 L -0.28598281020632704,51.56436285080959 L -0.28599163779146636,51.56435595699912 L -0.28600150703372346,51.564349635656896 L -0.28601232288689776,51.564343947660674 L -0.28602398118856265,51.56433894778873 L -0.28603636966320917,51.5643346841923 L -0.2860493690034947,51.564331197931985 L -0.28606285401923215,51.56432852258218 L -0.2860766948430148,51.564326683907844 L -0.286090758180885,51.56432569961632 L -0.2861049085959967,51.564325579186836 L -0.28611900981292254,51.56432632377918 L -0.28613292603002527,51.5643279262226 L -0.2861465232272676,51.564330371084765 L -0.2861596704568769,51.56433363482048 L -0.28617224110441436,51.56433768599835 L -0.28668234055149233,51.56452238567699 z\" /></g></svg>"
      ],
      "text/plain": [
       "<shapely.geometry.polygon.Polygon at 0x7f9c9c5c24a8>"
      ]
     },
     "execution_count": 12,
     "metadata": {},
     "output_type": "execute_result"
    }
   ],
   "source": [
    "roads_WGS84.iloc[20]['geometry']"
   ]
  },
  {
   "cell_type": "code",
   "execution_count": 13,
   "metadata": {
    "ExecuteTime": {
     "end_time": "2021-01-27T17:09:17.420582Z",
     "start_time": "2021-01-27T17:09:17.351972Z"
    }
   },
   "outputs": [],
   "source": [
    "# samples = gpd.read_file('../Data/GreaterLondon/edges/samples.shp')"
   ]
  },
  {
   "cell_type": "code",
   "execution_count": 14,
   "metadata": {
    "ExecuteTime": {
     "end_time": "2021-01-27T17:09:18.990585Z",
     "start_time": "2021-01-27T17:09:17.423394Z"
    }
   },
   "outputs": [],
   "source": [
    "mapillary_points = pd.read_csv('../Data/Mappilary_points_merged.csv')"
   ]
  },
  {
   "cell_type": "code",
   "execution_count": 15,
   "metadata": {
    "ExecuteTime": {
     "end_time": "2021-01-27T17:09:23.684433Z",
     "start_time": "2021-01-27T17:09:18.992564Z"
    }
   },
   "outputs": [],
   "source": [
    "tree_data = pd.read_csv('../Data/Geo_Data/london_street_trees_gla_20180214.csv',engine='python')"
   ]
  },
  {
   "cell_type": "code",
   "execution_count": 16,
   "metadata": {
    "ExecuteTime": {
     "end_time": "2021-01-27T17:09:23.708123Z",
     "start_time": "2021-01-27T17:09:23.686067Z"
    }
   },
   "outputs": [
    {
     "data": {
      "text/html": [
       "<div>\n",
       "<style scoped>\n",
       "    .dataframe tbody tr th:only-of-type {\n",
       "        vertical-align: middle;\n",
       "    }\n",
       "\n",
       "    .dataframe tbody tr th {\n",
       "        vertical-align: top;\n",
       "    }\n",
       "\n",
       "    .dataframe thead th {\n",
       "        text-align: right;\n",
       "    }\n",
       "</style>\n",
       "<table border=\"1\" class=\"dataframe\">\n",
       "  <thead>\n",
       "    <tr style=\"text-align: right;\">\n",
       "      <th></th>\n",
       "      <th>Unnamed: 0</th>\n",
       "      <th>Imgkey</th>\n",
       "      <th>Sky</th>\n",
       "      <th>Building</th>\n",
       "      <th>Pole</th>\n",
       "      <th>Road_Marking</th>\n",
       "      <th>Road</th>\n",
       "      <th>Pavement</th>\n",
       "      <th>Tree</th>\n",
       "      <th>Sign_Symbol</th>\n",
       "      <th>...</th>\n",
       "      <th>Vehicle</th>\n",
       "      <th>Pedestrian</th>\n",
       "      <th>Bike</th>\n",
       "      <th>Unnamed: 0.1</th>\n",
       "      <th>captureTime</th>\n",
       "      <th>isPano</th>\n",
       "      <th>lat</th>\n",
       "      <th>long</th>\n",
       "      <th>long_lat_string</th>\n",
       "      <th>geometry</th>\n",
       "    </tr>\n",
       "  </thead>\n",
       "  <tbody>\n",
       "    <tr>\n",
       "      <th>0</th>\n",
       "      <td>0</td>\n",
       "      <td>wE0jAFaY7S7kBlobMy3nPA</td>\n",
       "      <td>0.288501</td>\n",
       "      <td>0.104387</td>\n",
       "      <td>0.031655</td>\n",
       "      <td>0.006545</td>\n",
       "      <td>0.334103</td>\n",
       "      <td>0.012228</td>\n",
       "      <td>0.094468</td>\n",
       "      <td>0.006325</td>\n",
       "      <td>...</td>\n",
       "      <td>0.102205</td>\n",
       "      <td>0.006343</td>\n",
       "      <td>0.000006</td>\n",
       "      <td>155358</td>\n",
       "      <td>2017-01-09T11:16:58.080Z</td>\n",
       "      <td>False</td>\n",
       "      <td>51.458700</td>\n",
       "      <td>-0.195153</td>\n",
       "      <td>-0.1952_51.4587</td>\n",
       "      <td>POINT (-0.1951528 51.4586997)</td>\n",
       "    </tr>\n",
       "    <tr>\n",
       "      <th>1</th>\n",
       "      <td>1</td>\n",
       "      <td>k_syhXZRKg-blx5cCvFdBg</td>\n",
       "      <td>0.168970</td>\n",
       "      <td>0.000347</td>\n",
       "      <td>0.004676</td>\n",
       "      <td>0.015434</td>\n",
       "      <td>0.240914</td>\n",
       "      <td>0.104091</td>\n",
       "      <td>0.455197</td>\n",
       "      <td>0.000156</td>\n",
       "      <td>...</td>\n",
       "      <td>0.000006</td>\n",
       "      <td>0.000087</td>\n",
       "      <td>0.000000</td>\n",
       "      <td>331930</td>\n",
       "      <td>2019-08-20T20:07:23.000Z</td>\n",
       "      <td>False</td>\n",
       "      <td>51.395208</td>\n",
       "      <td>0.007908</td>\n",
       "      <td>0.0079_51.3952</td>\n",
       "      <td>POINT (0.0079077 51.3952076)</td>\n",
       "    </tr>\n",
       "    <tr>\n",
       "      <th>2</th>\n",
       "      <td>2</td>\n",
       "      <td>iVXnlg3PQMPspbTFqRD9eA</td>\n",
       "      <td>0.021730</td>\n",
       "      <td>0.146528</td>\n",
       "      <td>0.012488</td>\n",
       "      <td>0.034340</td>\n",
       "      <td>0.262760</td>\n",
       "      <td>0.138669</td>\n",
       "      <td>0.303953</td>\n",
       "      <td>0.000434</td>\n",
       "      <td>...</td>\n",
       "      <td>0.032488</td>\n",
       "      <td>0.041644</td>\n",
       "      <td>0.002297</td>\n",
       "      <td>92492</td>\n",
       "      <td>2019-06-09T17:11:34.567Z</td>\n",
       "      <td>False</td>\n",
       "      <td>51.532153</td>\n",
       "      <td>0.055075</td>\n",
       "      <td>0.0551_51.5322</td>\n",
       "      <td>POINT (0.0550746 51.5321528)</td>\n",
       "    </tr>\n",
       "    <tr>\n",
       "      <th>3</th>\n",
       "      <td>3</td>\n",
       "      <td>amVTOx7uE0GuMkeN2ECC3w</td>\n",
       "      <td>0.249045</td>\n",
       "      <td>0.156707</td>\n",
       "      <td>0.001586</td>\n",
       "      <td>0.000017</td>\n",
       "      <td>0.146730</td>\n",
       "      <td>0.073339</td>\n",
       "      <td>0.352066</td>\n",
       "      <td>0.000012</td>\n",
       "      <td>...</td>\n",
       "      <td>0.017598</td>\n",
       "      <td>0.000839</td>\n",
       "      <td>0.001007</td>\n",
       "      <td>205329</td>\n",
       "      <td>2015-04-15T11:11:25.227Z</td>\n",
       "      <td>False</td>\n",
       "      <td>51.522573</td>\n",
       "      <td>-0.036350</td>\n",
       "      <td>-0.0363_51.5226</td>\n",
       "      <td>POINT (-0.0363496 51.5225733)</td>\n",
       "    </tr>\n",
       "    <tr>\n",
       "      <th>4</th>\n",
       "      <td>4</td>\n",
       "      <td>46aeChblLDzqF3p4UjXb7g</td>\n",
       "      <td>0.061244</td>\n",
       "      <td>0.003218</td>\n",
       "      <td>0.000405</td>\n",
       "      <td>0.000527</td>\n",
       "      <td>0.147847</td>\n",
       "      <td>0.052610</td>\n",
       "      <td>0.707002</td>\n",
       "      <td>0.000764</td>\n",
       "      <td>...</td>\n",
       "      <td>0.004624</td>\n",
       "      <td>0.000382</td>\n",
       "      <td>0.000000</td>\n",
       "      <td>121677</td>\n",
       "      <td>2016-08-29T16:15:48.000Z</td>\n",
       "      <td>False</td>\n",
       "      <td>51.622794</td>\n",
       "      <td>-0.136517</td>\n",
       "      <td>-0.1365_51.6228</td>\n",
       "      <td>POINT (-0.1365167 51.6227944)</td>\n",
       "    </tr>\n",
       "  </tbody>\n",
       "</table>\n",
       "<p>5 rows × 21 columns</p>\n",
       "</div>"
      ],
      "text/plain": [
       "   Unnamed: 0                  Imgkey       Sky  Building      Pole  \\\n",
       "0           0  wE0jAFaY7S7kBlobMy3nPA  0.288501  0.104387  0.031655   \n",
       "1           1  k_syhXZRKg-blx5cCvFdBg  0.168970  0.000347  0.004676   \n",
       "2           2  iVXnlg3PQMPspbTFqRD9eA  0.021730  0.146528  0.012488   \n",
       "3           3  amVTOx7uE0GuMkeN2ECC3w  0.249045  0.156707  0.001586   \n",
       "4           4  46aeChblLDzqF3p4UjXb7g  0.061244  0.003218  0.000405   \n",
       "\n",
       "   Road_Marking      Road  Pavement      Tree  Sign_Symbol  ...   Vehicle  \\\n",
       "0      0.006545  0.334103  0.012228  0.094468     0.006325  ...  0.102205   \n",
       "1      0.015434  0.240914  0.104091  0.455197     0.000156  ...  0.000006   \n",
       "2      0.034340  0.262760  0.138669  0.303953     0.000434  ...  0.032488   \n",
       "3      0.000017  0.146730  0.073339  0.352066     0.000012  ...  0.017598   \n",
       "4      0.000527  0.147847  0.052610  0.707002     0.000764  ...  0.004624   \n",
       "\n",
       "   Pedestrian      Bike  Unnamed: 0.1               captureTime isPano  \\\n",
       "0    0.006343  0.000006        155358  2017-01-09T11:16:58.080Z  False   \n",
       "1    0.000087  0.000000        331930  2019-08-20T20:07:23.000Z  False   \n",
       "2    0.041644  0.002297         92492  2019-06-09T17:11:34.567Z  False   \n",
       "3    0.000839  0.001007        205329  2015-04-15T11:11:25.227Z  False   \n",
       "4    0.000382  0.000000        121677  2016-08-29T16:15:48.000Z  False   \n",
       "\n",
       "         lat      long  long_lat_string                       geometry  \n",
       "0  51.458700 -0.195153  -0.1952_51.4587  POINT (-0.1951528 51.4586997)  \n",
       "1  51.395208  0.007908   0.0079_51.3952   POINT (0.0079077 51.3952076)  \n",
       "2  51.532153  0.055075   0.0551_51.5322   POINT (0.0550746 51.5321528)  \n",
       "3  51.522573 -0.036350  -0.0363_51.5226  POINT (-0.0363496 51.5225733)  \n",
       "4  51.622794 -0.136517  -0.1365_51.6228  POINT (-0.1365167 51.6227944)  \n",
       "\n",
       "[5 rows x 21 columns]"
      ]
     },
     "execution_count": 16,
     "metadata": {},
     "output_type": "execute_result"
    }
   ],
   "source": [
    "mapillary_points.head()"
   ]
  },
  {
   "cell_type": "code",
   "execution_count": 17,
   "metadata": {
    "ExecuteTime": {
     "end_time": "2021-01-27T17:09:25.280494Z",
     "start_time": "2021-01-27T17:09:23.710655Z"
    }
   },
   "outputs": [
    {
     "name": "stderr",
     "output_type": "stream",
     "text": [
      "/work/sagarj/miniconda3/lib/python3.7/site-packages/ipykernel_launcher.py:12: MatplotlibDeprecationWarning: \n",
      "The dedent function was deprecated in Matplotlib 3.1 and will be removed in 3.3. Use inspect.cleandoc instead.\n",
      "  if sys.path[0] == '':\n"
     ]
    }
   ],
   "source": [
    "m = Basemap(\n",
    "    projection='merc',\n",
    "    lon_0 = -2.,\n",
    "    lat_0 = 49.,\n",
    "    ellps = 'WGS84',\n",
    "    llcrnrlon=coords[0] - extra * w,\n",
    "    llcrnrlat=coords[1] - extra + 0.01 * h,\n",
    "    urcrnrlon=coords[2] + extra * w,\n",
    "    urcrnrlat=coords[3] + extra + 0.01 * h,\n",
    "    lat_ts=0,\n",
    "    resolution='i',\n",
    "    suppress_ticks=True)"
   ]
  },
  {
   "cell_type": "code",
   "execution_count": 18,
   "metadata": {
    "ExecuteTime": {
     "end_time": "2021-01-27T17:10:52.553966Z",
     "start_time": "2021-01-27T17:09:25.282119Z"
    }
   },
   "outputs": [
    {
     "name": "stdout",
     "output_type": "stream",
     "text": [
      "POINT (0.1391226851333678 51.58566970615966)\n"
     ]
    }
   ],
   "source": [
    "treeLocations = []\n",
    "\n",
    "for index , row in tree_data.iterrows():\n",
    "#     point = Point(m(row['longitude'], row['latitude']))\n",
    "    point = Point(row['longitude'], row['latitude'])\n",
    "#     point = Point(transform(inProj,outProj,row['longitude'], row['latitude']))\n",
    "    treeLocations.append(point)\n",
    "\n",
    "print(treeLocations[1])\n",
    "\n",
    "tree_points = pd.Series(treeLocations)\n",
    "tree_data_points = MultiPoint(list(tree_points.values))"
   ]
  },
  {
   "cell_type": "code",
   "execution_count": 19,
   "metadata": {
    "ExecuteTime": {
     "end_time": "2021-01-27T17:11:43.327861Z",
     "start_time": "2021-01-27T17:10:52.555521Z"
    }
   },
   "outputs": [],
   "source": [
    "mapLocations = {}\n",
    "for index , row in mapillary_points.iterrows():\n",
    "#     point = Point(m(row['long'], row['lat']))\n",
    "    point = Point(row['long'], row['lat'])\n",
    "    mapLocations[row['Imgkey']] = point\n",
    "\n",
    "# map_points = pd.Series(mapLocations)\n",
    "# map_data_points = MultiPoint(list(map_points.values))"
   ]
  },
  {
   "cell_type": "code",
   "execution_count": 20,
   "metadata": {
    "ExecuteTime": {
     "end_time": "2021-01-27T17:11:43.341217Z",
     "start_time": "2021-01-27T17:11:43.329394Z"
    }
   },
   "outputs": [
    {
     "data": {
      "image/svg+xml": [
       "<svg xmlns=\"http://www.w3.org/2000/svg\" xmlns:xlink=\"http://www.w3.org/1999/xlink\" width=\"100.0\" height=\"100.0\" viewBox=\"-0.9920923 50.3952076 2.0 2.0\" preserveAspectRatio=\"xMinYMin meet\"><g transform=\"matrix(1,0,0,-1,0,102.7904152)\"><circle cx=\"0.0079077\" cy=\"51.3952076\" r=\"0.06\" stroke=\"#555555\" stroke-width=\"0.02\" fill=\"#66cc99\" opacity=\"0.6\" /></g></svg>"
      ],
      "text/plain": [
       "<shapely.geometry.point.Point at 0x7f9c96afceb8>"
      ]
     },
     "execution_count": 20,
     "metadata": {},
     "output_type": "execute_result"
    }
   ],
   "source": [
    "mapLocations[list(mapLocations.keys())[1]]"
   ]
  },
  {
   "cell_type": "code",
   "execution_count": null,
   "metadata": {
    "ExecuteTime": {
     "end_time": "2021-01-27T15:33:26.106038Z",
     "start_time": "2021-01-27T15:33:26.099106Z"
    }
   },
   "outputs": [],
   "source": []
  },
  {
   "cell_type": "code",
   "execution_count": 21,
   "metadata": {
    "ExecuteTime": {
     "end_time": "2021-01-27T17:11:48.792531Z",
     "start_time": "2021-01-27T17:11:43.342796Z"
    }
   },
   "outputs": [],
   "source": [
    "tree_gdf = geopandas.GeoDataFrame(tree_data, geometry=geopandas.points_from_xy(tree_data.longitude, tree_data.latitude))"
   ]
  },
  {
   "cell_type": "code",
   "execution_count": 22,
   "metadata": {
    "ExecuteTime": {
     "end_time": "2021-01-27T17:12:44.883398Z",
     "start_time": "2021-01-27T17:11:48.794324Z"
    }
   },
   "outputs": [
    {
     "name": "stderr",
     "output_type": "stream",
     "text": [
      "/work/sagarj/miniconda3/lib/python3.7/site-packages/geopandas/tools/sjoin.py:61: UserWarning: CRS of frames being joined does not match!(None != {'proj': 'longlat', 'ellps': 'WGS84', 'datum': 'WGS84'})\n",
      "  \"(%s != %s)\" % (left_df.crs, right_df.crs)\n"
     ]
    }
   ],
   "source": [
    "joined_trees = sjoin(tree_gdf,roads_WGS84,how='left')"
   ]
  },
  {
   "cell_type": "code",
   "execution_count": 23,
   "metadata": {
    "ExecuteTime": {
     "end_time": "2021-01-27T17:12:44.905020Z",
     "start_time": "2021-01-27T17:12:44.885111Z"
    }
   },
   "outputs": [
    {
     "data": {
      "text/html": [
       "<div>\n",
       "<style scoped>\n",
       "    .dataframe tbody tr th:only-of-type {\n",
       "        vertical-align: middle;\n",
       "    }\n",
       "\n",
       "    .dataframe tbody tr th {\n",
       "        vertical-align: top;\n",
       "    }\n",
       "\n",
       "    .dataframe thead th {\n",
       "        text-align: right;\n",
       "    }\n",
       "</style>\n",
       "<table border=\"1\" class=\"dataframe\">\n",
       "  <thead>\n",
       "    <tr style=\"text-align: right;\">\n",
       "      <th></th>\n",
       "      <th>access</th>\n",
       "      <th>area</th>\n",
       "      <th>bridge</th>\n",
       "      <th>est_width</th>\n",
       "      <th>from</th>\n",
       "      <th>highway</th>\n",
       "      <th>junction</th>\n",
       "      <th>key</th>\n",
       "      <th>lanes</th>\n",
       "      <th>length</th>\n",
       "      <th>maxspeed</th>\n",
       "      <th>name</th>\n",
       "      <th>oneway</th>\n",
       "      <th>osmid</th>\n",
       "      <th>ref</th>\n",
       "      <th>service</th>\n",
       "      <th>to</th>\n",
       "      <th>tunnel</th>\n",
       "      <th>width</th>\n",
       "      <th>geometry</th>\n",
       "    </tr>\n",
       "  </thead>\n",
       "  <tbody>\n",
       "    <tr>\n",
       "      <th>0</th>\n",
       "      <td>None</td>\n",
       "      <td>None</td>\n",
       "      <td>None</td>\n",
       "      <td>None</td>\n",
       "      <td>370068561</td>\n",
       "      <td>residential</td>\n",
       "      <td>None</td>\n",
       "      <td>0</td>\n",
       "      <td>None</td>\n",
       "      <td>17.609</td>\n",
       "      <td>20 mph</td>\n",
       "      <td>Epstein Road</td>\n",
       "      <td>False</td>\n",
       "      <td>10780443</td>\n",
       "      <td>None</td>\n",
       "      <td>None</td>\n",
       "      <td>95944704</td>\n",
       "      <td>None</td>\n",
       "      <td>None</td>\n",
       "      <td>POLYGON ((0.11122 51.50249, 0.11121 51.50248, ...</td>\n",
       "    </tr>\n",
       "    <tr>\n",
       "      <th>1</th>\n",
       "      <td>None</td>\n",
       "      <td>None</td>\n",
       "      <td>None</td>\n",
       "      <td>None</td>\n",
       "      <td>95944707</td>\n",
       "      <td>residential</td>\n",
       "      <td>None</td>\n",
       "      <td>0</td>\n",
       "      <td>None</td>\n",
       "      <td>68.247</td>\n",
       "      <td>20 mph</td>\n",
       "      <td>Galsworthy Close</td>\n",
       "      <td>False</td>\n",
       "      <td>10780432</td>\n",
       "      <td>None</td>\n",
       "      <td>None</td>\n",
       "      <td>95944704</td>\n",
       "      <td>None</td>\n",
       "      <td>None</td>\n",
       "      <td>POLYGON ((0.11128 51.50226, 0.11127 51.50227, ...</td>\n",
       "    </tr>\n",
       "    <tr>\n",
       "      <th>2</th>\n",
       "      <td>None</td>\n",
       "      <td>None</td>\n",
       "      <td>None</td>\n",
       "      <td>None</td>\n",
       "      <td>95944671</td>\n",
       "      <td>residential</td>\n",
       "      <td>None</td>\n",
       "      <td>0</td>\n",
       "      <td>None</td>\n",
       "      <td>41.109</td>\n",
       "      <td>20 mph</td>\n",
       "      <td>Epstein Road</td>\n",
       "      <td>False</td>\n",
       "      <td>10780443</td>\n",
       "      <td>None</td>\n",
       "      <td>None</td>\n",
       "      <td>95944704</td>\n",
       "      <td>None</td>\n",
       "      <td>None</td>\n",
       "      <td>POLYGON ((0.11106 51.50264, 0.11107 51.50264, ...</td>\n",
       "    </tr>\n",
       "    <tr>\n",
       "      <th>3</th>\n",
       "      <td>None</td>\n",
       "      <td>None</td>\n",
       "      <td>None</td>\n",
       "      <td>None</td>\n",
       "      <td>277489</td>\n",
       "      <td>residential</td>\n",
       "      <td>None</td>\n",
       "      <td>0</td>\n",
       "      <td>None</td>\n",
       "      <td>29.564</td>\n",
       "      <td>30 mph</td>\n",
       "      <td>Woodside Grove</td>\n",
       "      <td>False</td>\n",
       "      <td>3398626</td>\n",
       "      <td>None</td>\n",
       "      <td>None</td>\n",
       "      <td>193724417</td>\n",
       "      <td>None</td>\n",
       "      <td>None</td>\n",
       "      <td>POLYGON ((-0.17868 51.62211, -0.17870 51.62211...</td>\n",
       "    </tr>\n",
       "    <tr>\n",
       "      <th>4</th>\n",
       "      <td>None</td>\n",
       "      <td>None</td>\n",
       "      <td>None</td>\n",
       "      <td>None</td>\n",
       "      <td>277490</td>\n",
       "      <td>residential</td>\n",
       "      <td>None</td>\n",
       "      <td>0</td>\n",
       "      <td>None</td>\n",
       "      <td>80.433</td>\n",
       "      <td>30 mph</td>\n",
       "      <td>Woodside Grove</td>\n",
       "      <td>False</td>\n",
       "      <td>3398626</td>\n",
       "      <td>None</td>\n",
       "      <td>None</td>\n",
       "      <td>193724417</td>\n",
       "      <td>None</td>\n",
       "      <td>None</td>\n",
       "      <td>POLYGON ((-0.17875 51.62228, -0.17868 51.62228...</td>\n",
       "    </tr>\n",
       "  </tbody>\n",
       "</table>\n",
       "</div>"
      ],
      "text/plain": [
       "  access  area bridge est_width       from      highway junction key lanes  \\\n",
       "0   None  None   None      None  370068561  residential     None   0  None   \n",
       "1   None  None   None      None   95944707  residential     None   0  None   \n",
       "2   None  None   None      None   95944671  residential     None   0  None   \n",
       "3   None  None   None      None     277489  residential     None   0  None   \n",
       "4   None  None   None      None     277490  residential     None   0  None   \n",
       "\n",
       "   length maxspeed              name oneway     osmid   ref service  \\\n",
       "0  17.609   20 mph      Epstein Road  False  10780443  None    None   \n",
       "1  68.247   20 mph  Galsworthy Close  False  10780432  None    None   \n",
       "2  41.109   20 mph      Epstein Road  False  10780443  None    None   \n",
       "3  29.564   30 mph    Woodside Grove  False   3398626  None    None   \n",
       "4  80.433   30 mph    Woodside Grove  False   3398626  None    None   \n",
       "\n",
       "          to tunnel width                                           geometry  \n",
       "0   95944704   None  None  POLYGON ((0.11122 51.50249, 0.11121 51.50248, ...  \n",
       "1   95944704   None  None  POLYGON ((0.11128 51.50226, 0.11127 51.50227, ...  \n",
       "2   95944704   None  None  POLYGON ((0.11106 51.50264, 0.11107 51.50264, ...  \n",
       "3  193724417   None  None  POLYGON ((-0.17868 51.62211, -0.17870 51.62211...  \n",
       "4  193724417   None  None  POLYGON ((-0.17875 51.62228, -0.17868 51.62228...  "
      ]
     },
     "execution_count": 23,
     "metadata": {},
     "output_type": "execute_result"
    }
   ],
   "source": [
    "roads_WGS84.head()"
   ]
  },
  {
   "cell_type": "code",
   "execution_count": 24,
   "metadata": {
    "ExecuteTime": {
     "end_time": "2021-01-27T17:12:45.017085Z",
     "start_time": "2021-01-27T17:12:44.906401Z"
    }
   },
   "outputs": [
    {
     "data": {
      "text/html": [
       "<div>\n",
       "<style scoped>\n",
       "    .dataframe tbody tr th:only-of-type {\n",
       "        vertical-align: middle;\n",
       "    }\n",
       "\n",
       "    .dataframe tbody tr th {\n",
       "        vertical-align: top;\n",
       "    }\n",
       "\n",
       "    .dataframe thead th {\n",
       "        text-align: right;\n",
       "    }\n",
       "</style>\n",
       "<table border=\"1\" class=\"dataframe\">\n",
       "  <thead>\n",
       "    <tr style=\"text-align: right;\">\n",
       "      <th></th>\n",
       "      <th>gla_id</th>\n",
       "      <th>borough</th>\n",
       "      <th>species_name</th>\n",
       "      <th>common_name</th>\n",
       "      <th>display_name</th>\n",
       "      <th>load_date</th>\n",
       "      <th>easting</th>\n",
       "      <th>northing</th>\n",
       "      <th>longitude</th>\n",
       "      <th>latitude</th>\n",
       "      <th>geometry</th>\n",
       "    </tr>\n",
       "  </thead>\n",
       "  <tbody>\n",
       "    <tr>\n",
       "      <th>0</th>\n",
       "      <td>glaid_0</td>\n",
       "      <td>Barking</td>\n",
       "      <td>Acer pseudoplatanus 'brilliantissimum'</td>\n",
       "      <td>NaN</td>\n",
       "      <td>Maple</td>\n",
       "      <td>20180214</td>\n",
       "      <td>548320.0</td>\n",
       "      <td>189593.0</td>\n",
       "      <td>0.139454</td>\n",
       "      <td>51.585695</td>\n",
       "      <td>POINT (0.13945 51.58570)</td>\n",
       "    </tr>\n",
       "    <tr>\n",
       "      <th>1</th>\n",
       "      <td>glaid_1</td>\n",
       "      <td>Barking</td>\n",
       "      <td>Taxus baccata fastigiata</td>\n",
       "      <td>NaN</td>\n",
       "      <td>Other</td>\n",
       "      <td>20180214</td>\n",
       "      <td>548297.0</td>\n",
       "      <td>189590.0</td>\n",
       "      <td>0.139123</td>\n",
       "      <td>51.585670</td>\n",
       "      <td>POINT (0.13912 51.58567)</td>\n",
       "    </tr>\n",
       "    <tr>\n",
       "      <th>2</th>\n",
       "      <td>glaid_2</td>\n",
       "      <td>Barking</td>\n",
       "      <td>Taxus baccata fastigiata</td>\n",
       "      <td>NaN</td>\n",
       "      <td>Other</td>\n",
       "      <td>20180214</td>\n",
       "      <td>548289.0</td>\n",
       "      <td>189592.0</td>\n",
       "      <td>0.139004</td>\n",
       "      <td>51.585689</td>\n",
       "      <td>POINT (0.13900 51.58569)</td>\n",
       "    </tr>\n",
       "    <tr>\n",
       "      <th>3</th>\n",
       "      <td>glaid_3</td>\n",
       "      <td>Barking</td>\n",
       "      <td>Taxus baccata fastigiata</td>\n",
       "      <td>NaN</td>\n",
       "      <td>Other</td>\n",
       "      <td>20180214</td>\n",
       "      <td>548298.0</td>\n",
       "      <td>189597.0</td>\n",
       "      <td>0.139134</td>\n",
       "      <td>51.585732</td>\n",
       "      <td>POINT (0.13913 51.58573)</td>\n",
       "    </tr>\n",
       "    <tr>\n",
       "      <th>4</th>\n",
       "      <td>glaid_4</td>\n",
       "      <td>Barking</td>\n",
       "      <td>Robinia pseudoacacia</td>\n",
       "      <td>NaN</td>\n",
       "      <td>Black Locust</td>\n",
       "      <td>20180214</td>\n",
       "      <td>548308.0</td>\n",
       "      <td>189607.0</td>\n",
       "      <td>0.139288</td>\n",
       "      <td>51.585819</td>\n",
       "      <td>POINT (0.13929 51.58582)</td>\n",
       "    </tr>\n",
       "  </tbody>\n",
       "</table>\n",
       "</div>"
      ],
      "text/plain": [
       "    gla_id   borough                            species_name common_name  \\\n",
       "0  glaid_0  Barking   Acer pseudoplatanus 'brilliantissimum'         NaN   \n",
       "1  glaid_1  Barking                 Taxus baccata fastigiata         NaN   \n",
       "2  glaid_2  Barking                 Taxus baccata fastigiata         NaN   \n",
       "3  glaid_3  Barking                 Taxus baccata fastigiata         NaN   \n",
       "4  glaid_4  Barking                     Robinia pseudoacacia         NaN   \n",
       "\n",
       "   display_name  load_date   easting  northing  longitude   latitude  \\\n",
       "0         Maple   20180214  548320.0  189593.0   0.139454  51.585695   \n",
       "1         Other   20180214  548297.0  189590.0   0.139123  51.585670   \n",
       "2         Other   20180214  548289.0  189592.0   0.139004  51.585689   \n",
       "3         Other   20180214  548298.0  189597.0   0.139134  51.585732   \n",
       "4  Black Locust   20180214  548308.0  189607.0   0.139288  51.585819   \n",
       "\n",
       "                   geometry  \n",
       "0  POINT (0.13945 51.58570)  \n",
       "1  POINT (0.13912 51.58567)  \n",
       "2  POINT (0.13900 51.58569)  \n",
       "3  POINT (0.13913 51.58573)  \n",
       "4  POINT (0.13929 51.58582)  "
      ]
     },
     "execution_count": 24,
     "metadata": {},
     "output_type": "execute_result"
    }
   ],
   "source": [
    "tree_gdf.head()"
   ]
  },
  {
   "cell_type": "code",
   "execution_count": 25,
   "metadata": {
    "ExecuteTime": {
     "end_time": "2021-01-27T17:12:45.130321Z",
     "start_time": "2021-01-27T17:12:45.019267Z"
    },
    "scrolled": true
   },
   "outputs": [
    {
     "data": {
      "text/html": [
       "<div>\n",
       "<style scoped>\n",
       "    .dataframe tbody tr th:only-of-type {\n",
       "        vertical-align: middle;\n",
       "    }\n",
       "\n",
       "    .dataframe tbody tr th {\n",
       "        vertical-align: top;\n",
       "    }\n",
       "\n",
       "    .dataframe thead th {\n",
       "        text-align: right;\n",
       "    }\n",
       "</style>\n",
       "<table border=\"1\" class=\"dataframe\">\n",
       "  <thead>\n",
       "    <tr style=\"text-align: right;\">\n",
       "      <th></th>\n",
       "      <th>gla_id</th>\n",
       "      <th>borough</th>\n",
       "      <th>species_name</th>\n",
       "      <th>common_name</th>\n",
       "      <th>display_name</th>\n",
       "      <th>load_date</th>\n",
       "      <th>easting</th>\n",
       "      <th>northing</th>\n",
       "      <th>longitude</th>\n",
       "      <th>latitude</th>\n",
       "      <th>...</th>\n",
       "      <th>length</th>\n",
       "      <th>maxspeed</th>\n",
       "      <th>name</th>\n",
       "      <th>oneway</th>\n",
       "      <th>osmid</th>\n",
       "      <th>ref</th>\n",
       "      <th>service</th>\n",
       "      <th>to</th>\n",
       "      <th>tunnel</th>\n",
       "      <th>width</th>\n",
       "    </tr>\n",
       "  </thead>\n",
       "  <tbody>\n",
       "    <tr>\n",
       "      <th>0</th>\n",
       "      <td>glaid_0</td>\n",
       "      <td>Barking</td>\n",
       "      <td>Acer pseudoplatanus 'brilliantissimum'</td>\n",
       "      <td>NaN</td>\n",
       "      <td>Maple</td>\n",
       "      <td>20180214</td>\n",
       "      <td>548320.0</td>\n",
       "      <td>189593.0</td>\n",
       "      <td>0.139454</td>\n",
       "      <td>51.585695</td>\n",
       "      <td>...</td>\n",
       "      <td>NaN</td>\n",
       "      <td>NaN</td>\n",
       "      <td>NaN</td>\n",
       "      <td>NaN</td>\n",
       "      <td>NaN</td>\n",
       "      <td>NaN</td>\n",
       "      <td>NaN</td>\n",
       "      <td>NaN</td>\n",
       "      <td>NaN</td>\n",
       "      <td>NaN</td>\n",
       "    </tr>\n",
       "    <tr>\n",
       "      <th>1</th>\n",
       "      <td>glaid_1</td>\n",
       "      <td>Barking</td>\n",
       "      <td>Taxus baccata fastigiata</td>\n",
       "      <td>NaN</td>\n",
       "      <td>Other</td>\n",
       "      <td>20180214</td>\n",
       "      <td>548297.0</td>\n",
       "      <td>189590.0</td>\n",
       "      <td>0.139123</td>\n",
       "      <td>51.585670</td>\n",
       "      <td>...</td>\n",
       "      <td>NaN</td>\n",
       "      <td>NaN</td>\n",
       "      <td>NaN</td>\n",
       "      <td>NaN</td>\n",
       "      <td>NaN</td>\n",
       "      <td>NaN</td>\n",
       "      <td>NaN</td>\n",
       "      <td>NaN</td>\n",
       "      <td>NaN</td>\n",
       "      <td>NaN</td>\n",
       "    </tr>\n",
       "    <tr>\n",
       "      <th>2</th>\n",
       "      <td>glaid_2</td>\n",
       "      <td>Barking</td>\n",
       "      <td>Taxus baccata fastigiata</td>\n",
       "      <td>NaN</td>\n",
       "      <td>Other</td>\n",
       "      <td>20180214</td>\n",
       "      <td>548289.0</td>\n",
       "      <td>189592.0</td>\n",
       "      <td>0.139004</td>\n",
       "      <td>51.585689</td>\n",
       "      <td>...</td>\n",
       "      <td>NaN</td>\n",
       "      <td>NaN</td>\n",
       "      <td>NaN</td>\n",
       "      <td>NaN</td>\n",
       "      <td>NaN</td>\n",
       "      <td>NaN</td>\n",
       "      <td>NaN</td>\n",
       "      <td>NaN</td>\n",
       "      <td>NaN</td>\n",
       "      <td>NaN</td>\n",
       "    </tr>\n",
       "    <tr>\n",
       "      <th>3</th>\n",
       "      <td>glaid_3</td>\n",
       "      <td>Barking</td>\n",
       "      <td>Taxus baccata fastigiata</td>\n",
       "      <td>NaN</td>\n",
       "      <td>Other</td>\n",
       "      <td>20180214</td>\n",
       "      <td>548298.0</td>\n",
       "      <td>189597.0</td>\n",
       "      <td>0.139134</td>\n",
       "      <td>51.585732</td>\n",
       "      <td>...</td>\n",
       "      <td>NaN</td>\n",
       "      <td>NaN</td>\n",
       "      <td>NaN</td>\n",
       "      <td>NaN</td>\n",
       "      <td>NaN</td>\n",
       "      <td>NaN</td>\n",
       "      <td>NaN</td>\n",
       "      <td>NaN</td>\n",
       "      <td>NaN</td>\n",
       "      <td>NaN</td>\n",
       "    </tr>\n",
       "    <tr>\n",
       "      <th>4</th>\n",
       "      <td>glaid_4</td>\n",
       "      <td>Barking</td>\n",
       "      <td>Robinia pseudoacacia</td>\n",
       "      <td>NaN</td>\n",
       "      <td>Black Locust</td>\n",
       "      <td>20180214</td>\n",
       "      <td>548308.0</td>\n",
       "      <td>189607.0</td>\n",
       "      <td>0.139288</td>\n",
       "      <td>51.585819</td>\n",
       "      <td>...</td>\n",
       "      <td>NaN</td>\n",
       "      <td>NaN</td>\n",
       "      <td>NaN</td>\n",
       "      <td>NaN</td>\n",
       "      <td>NaN</td>\n",
       "      <td>NaN</td>\n",
       "      <td>NaN</td>\n",
       "      <td>NaN</td>\n",
       "      <td>NaN</td>\n",
       "      <td>NaN</td>\n",
       "    </tr>\n",
       "  </tbody>\n",
       "</table>\n",
       "<p>5 rows × 31 columns</p>\n",
       "</div>"
      ],
      "text/plain": [
       "    gla_id   borough                            species_name common_name  \\\n",
       "0  glaid_0  Barking   Acer pseudoplatanus 'brilliantissimum'         NaN   \n",
       "1  glaid_1  Barking                 Taxus baccata fastigiata         NaN   \n",
       "2  glaid_2  Barking                 Taxus baccata fastigiata         NaN   \n",
       "3  glaid_3  Barking                 Taxus baccata fastigiata         NaN   \n",
       "4  glaid_4  Barking                     Robinia pseudoacacia         NaN   \n",
       "\n",
       "   display_name  load_date   easting  northing  longitude   latitude  ...  \\\n",
       "0         Maple   20180214  548320.0  189593.0   0.139454  51.585695  ...   \n",
       "1         Other   20180214  548297.0  189590.0   0.139123  51.585670  ...   \n",
       "2         Other   20180214  548289.0  189592.0   0.139004  51.585689  ...   \n",
       "3         Other   20180214  548298.0  189597.0   0.139134  51.585732  ...   \n",
       "4  Black Locust   20180214  548308.0  189607.0   0.139288  51.585819  ...   \n",
       "\n",
       "  length  maxspeed name oneway osmid  ref service   to tunnel width  \n",
       "0    NaN       NaN  NaN    NaN   NaN  NaN     NaN  NaN    NaN   NaN  \n",
       "1    NaN       NaN  NaN    NaN   NaN  NaN     NaN  NaN    NaN   NaN  \n",
       "2    NaN       NaN  NaN    NaN   NaN  NaN     NaN  NaN    NaN   NaN  \n",
       "3    NaN       NaN  NaN    NaN   NaN  NaN     NaN  NaN    NaN   NaN  \n",
       "4    NaN       NaN  NaN    NaN   NaN  NaN     NaN  NaN    NaN   NaN  \n",
       "\n",
       "[5 rows x 31 columns]"
      ]
     },
     "execution_count": 25,
     "metadata": {},
     "output_type": "execute_result"
    }
   ],
   "source": [
    "joined_trees.head()"
   ]
  },
  {
   "cell_type": "code",
   "execution_count": 26,
   "metadata": {
    "ExecuteTime": {
     "end_time": "2021-01-27T17:12:45.211504Z",
     "start_time": "2021-01-27T17:12:45.134227Z"
    }
   },
   "outputs": [
    {
     "data": {
      "text/plain": [
       "(783388, 726934, 161911)"
      ]
     },
     "execution_count": 26,
     "metadata": {},
     "output_type": "execute_result"
    }
   ],
   "source": [
    "len(joined_trees), len(tree_gdf) , len(roads_WGS84)"
   ]
  },
  {
   "cell_type": "code",
   "execution_count": 28,
   "metadata": {
    "ExecuteTime": {
     "end_time": "2021-01-27T17:40:38.932799Z",
     "start_time": "2021-01-27T17:40:38.926285Z"
    }
   },
   "outputs": [
    {
     "data": {
      "text/plain": [
       "Index(['gla_id', 'borough', 'species_name', 'common_name', 'display_name',\n",
       "       'load_date', 'easting', 'northing', 'longitude', 'latitude', 'geometry',\n",
       "       'index_right', 'access', 'area', 'bridge', 'est_width', 'from',\n",
       "       'highway', 'junction', 'key', 'lanes', 'length', 'maxspeed', 'name',\n",
       "       'oneway', 'osmid', 'ref', 'service', 'to', 'tunnel', 'width'],\n",
       "      dtype='object')"
      ]
     },
     "execution_count": 28,
     "metadata": {},
     "output_type": "execute_result"
    }
   ],
   "source": [
    "joined_trees.columns"
   ]
  },
  {
   "cell_type": "code",
   "execution_count": 30,
   "metadata": {
    "ExecuteTime": {
     "end_time": "2021-01-27T17:44:46.176473Z",
     "start_time": "2021-01-27T17:44:32.960647Z"
    }
   },
   "outputs": [
    {
     "name": "stdout",
     "output_type": "stream",
     "text": [
      "Stored 'joined_trees' (GeoDataFrame)\n"
     ]
    }
   ],
   "source": [
    "# %store joined_trees"
   ]
  },
  {
   "cell_type": "code",
   "execution_count": 33,
   "metadata": {
    "ExecuteTime": {
     "end_time": "2021-01-27T17:46:42.786092Z",
     "start_time": "2021-01-27T17:46:42.346071Z"
    }
   },
   "outputs": [
    {
     "data": {
      "text/plain": [
       "(726934, 726934, 40258)"
      ]
     },
     "execution_count": 33,
     "metadata": {},
     "output_type": "execute_result"
    }
   ],
   "source": [
    "len(tree_gdf['gla_id'].unique()),len(joined_trees['gla_id'].unique()),len(joined_trees['osmid'].unique()),"
   ]
  },
  {
   "cell_type": "code",
   "execution_count": 38,
   "metadata": {
    "ExecuteTime": {
     "end_time": "2021-01-27T17:49:44.759366Z",
     "start_time": "2021-01-27T17:49:44.450103Z"
    }
   },
   "outputs": [],
   "source": [
    "inaccessible_trees = joined_trees[joined_trees['osmid'].isnull()]"
   ]
  },
  {
   "cell_type": "code",
   "execution_count": 39,
   "metadata": {
    "ExecuteTime": {
     "end_time": "2021-01-27T17:49:45.527979Z",
     "start_time": "2021-01-27T17:49:45.522304Z"
    }
   },
   "outputs": [
    {
     "data": {
      "text/plain": [
       "379190"
      ]
     },
     "execution_count": 39,
     "metadata": {},
     "output_type": "execute_result"
    }
   ],
   "source": [
    "len(inaccessible_trees)"
   ]
  },
  {
   "cell_type": "code",
   "execution_count": 40,
   "metadata": {
    "ExecuteTime": {
     "end_time": "2021-01-27T17:49:50.706064Z",
     "start_time": "2021-01-27T17:49:50.408908Z"
    }
   },
   "outputs": [],
   "source": [
    "accessible_trees = joined_trees[joined_trees['osmid'].notnull()]"
   ]
  },
  {
   "cell_type": "code",
   "execution_count": 41,
   "metadata": {
    "ExecuteTime": {
     "end_time": "2021-01-27T17:50:08.016014Z",
     "start_time": "2021-01-27T17:50:08.010281Z"
    }
   },
   "outputs": [
    {
     "data": {
      "text/plain": [
       "404198"
      ]
     },
     "execution_count": 41,
     "metadata": {},
     "output_type": "execute_result"
    }
   ],
   "source": [
    "len(accessible_trees)"
   ]
  },
  {
   "cell_type": "code",
   "execution_count": 42,
   "metadata": {
    "ExecuteTime": {
     "end_time": "2021-01-27T17:50:45.518686Z",
     "start_time": "2021-01-27T17:50:33.020155Z"
    }
   },
   "outputs": [
    {
     "name": "stdout",
     "output_type": "stream",
     "text": [
      "Stored 'inaccessible_trees' (GeoDataFrame)\n",
      "Stored 'accessible_trees' (GeoDataFrame)\n"
     ]
    }
   ],
   "source": [
    "%store inaccessible_trees\n",
    "%store accessible_trees"
   ]
  },
  {
   "cell_type": "code",
   "execution_count": null,
   "metadata": {},
   "outputs": [],
   "source": [
    "# %store -r inaccessible_trees"
   ]
  },
  {
   "cell_type": "code",
   "execution_count": 43,
   "metadata": {
    "ExecuteTime": {
     "end_time": "2021-01-27T17:56:16.391629Z",
     "start_time": "2021-01-27T17:54:13.398688Z"
    }
   },
   "outputs": [],
   "source": [
    "# inaccessible_trees.to_file(\"scratchpad/inaccessible_trees.shp\")"
   ]
  },
  {
   "cell_type": "code",
   "execution_count": 44,
   "metadata": {
    "ExecuteTime": {
     "end_time": "2021-01-27T17:58:33.751429Z",
     "start_time": "2021-01-27T17:56:16.393796Z"
    }
   },
   "outputs": [],
   "source": [
    "# accessible_trees.to_file(\"scratchpad/accessible_trees.shp\")"
   ]
  },
  {
   "cell_type": "code",
   "execution_count": null,
   "metadata": {
    "ExecuteTime": {
     "end_time": "2021-01-27T15:41:23.868421Z",
     "start_time": "2021-01-27T15:41:23.852674Z"
    }
   },
   "outputs": [],
   "source": [
    "def distKm(Points_tuple):\n",
    "    return distance(Points_tuple[0], Points_tuple[1]).km\n",
    "\n",
    "\n",
    "def pointsCount(geometry , points):\n",
    "    within = []\n",
    "    without = []\n",
    "    for p in points: \n",
    "        if p.within(geometry):\n",
    "            within.append(p)\n",
    "        else:\n",
    "            without.append(p)\n",
    "    return within, without\n",
    "\n",
    "def approxPointsCount(geometry, points):\n",
    "    bufferdist = 0.01\n",
    "    poly = geometry.buffer(bufferdist)\n",
    "    centroid = poly.centroid.xy\n",
    "    within = []\n",
    "    for p in points: \n",
    "        if distance(p,centroid) <= bufferdist:\n",
    "            within.append(p)\n",
    "    return pd.Series(within)\n",
    "\n",
    "def filterMappilary(geometry , pointsKeys):\n",
    "    within = []\n",
    "    for k in pointsKeys: \n",
    "        p = pointsKeys[k]\n",
    "        if p.within(geometry):\n",
    "            within.append(k)\n",
    "    return within"
   ]
  },
  {
   "cell_type": "code",
   "execution_count": null,
   "metadata": {
    "ExecuteTime": {
     "end_time": "2021-01-27T15:41:24.366820Z",
     "start_time": "2021-01-27T15:41:24.361874Z"
    }
   },
   "outputs": [],
   "source": [
    "print(multiprocessing.cpu_count())"
   ]
  },
  {
   "cell_type": "code",
   "execution_count": null,
   "metadata": {
    "ExecuteTime": {
     "end_time": "2021-01-27T15:41:24.920680Z",
     "start_time": "2021-01-27T15:41:24.863531Z"
    }
   },
   "outputs": [],
   "source": [
    "roads_dd = dataframe.from_pandas(roads_WGS84,npartitions=2*multiprocessing.cpu_count())"
   ]
  },
  {
   "cell_type": "code",
   "execution_count": null,
   "metadata": {
    "ExecuteTime": {
     "end_time": "2021-01-27T15:41:25.559600Z",
     "start_time": "2021-01-27T15:41:25.547436Z"
    }
   },
   "outputs": [],
   "source": [
    "dir(roads_dd['geometry'])"
   ]
  },
  {
   "cell_type": "code",
   "execution_count": null,
   "metadata": {
    "ExecuteTime": {
     "end_time": "2021-01-27T15:41:28.702616Z",
     "start_time": "2021-01-27T15:41:28.699440Z"
    }
   },
   "outputs": [],
   "source": [
    "# within  = roads_WGS84[1000:1020]['geometry'].progress_apply(pointsCount, args = [tree_points])\n",
    "# within"
   ]
  },
  {
   "cell_type": "code",
   "execution_count": null,
   "metadata": {
    "ExecuteTime": {
     "end_time": "2021-01-27T15:41:02.810926Z",
     "start_time": "2021-01-27T15:33:57.173641Z"
    }
   },
   "outputs": [],
   "source": [
    "within_trees , without_trees  = roads_dd.map_partitions(lambda df:df['geometry'].apply(pointsCount, args = [tree_points]), meta=pd.Series('list')).compute(scheduler='processes')"
   ]
  },
  {
   "cell_type": "code",
   "execution_count": null,
   "metadata": {
    "ExecuteTime": {
     "end_time": "2021-01-27T12:59:45.208250Z",
     "start_time": "2021-01-27T12:52:27.691Z"
    }
   },
   "outputs": [],
   "source": [
    "%store within_Trees"
   ]
  },
  {
   "cell_type": "code",
   "execution_count": null,
   "metadata": {
    "ExecuteTime": {
     "end_time": "2019-12-12T13:26:58.473459Z",
     "start_time": "2019-12-12T13:26:48.859217Z"
    }
   },
   "outputs": [],
   "source": [
    "# %store within_trees\n",
    "%store -r within_trees"
   ]
  },
  {
   "cell_type": "code",
   "execution_count": null,
   "metadata": {
    "ExecuteTime": {
     "end_time": "2019-12-12T13:28:54.484269Z",
     "start_time": "2019-12-12T13:28:54.478046Z"
    }
   },
   "outputs": [],
   "source": [
    "roads_WGS84['Trees'] = 0"
   ]
  },
  {
   "cell_type": "code",
   "execution_count": null,
   "metadata": {
    "ExecuteTime": {
     "end_time": "2019-12-12T13:31:10.785299Z",
     "start_time": "2019-12-12T13:31:10.771980Z"
    }
   },
   "outputs": [],
   "source": [
    "roads_WGS84.iloc[4048]"
   ]
  },
  {
   "cell_type": "code",
   "execution_count": null,
   "metadata": {
    "ExecuteTime": {
     "end_time": "2019-12-12T13:34:04.434082Z",
     "start_time": "2019-12-12T13:33:39.265194Z"
    }
   },
   "outputs": [],
   "source": [
    "for index, row in roads_WGS84.iterrows():\n",
    "    roads_WGS84.at[index,'trees'] = len(within_trees[index])"
   ]
  },
  {
   "cell_type": "code",
   "execution_count": null,
   "metadata": {
    "ExecuteTime": {
     "end_time": "2019-12-12T13:34:24.321303Z",
     "start_time": "2019-12-12T13:34:18.327422Z"
    }
   },
   "outputs": [],
   "source": [
    "# %store roads_WGS84"
   ]
  },
  {
   "cell_type": "code",
   "execution_count": null,
   "metadata": {
    "ExecuteTime": {
     "end_time": "2019-12-12T17:19:10.926325Z",
     "start_time": "2019-12-12T17:19:10.867146Z"
    }
   },
   "outputs": [],
   "source": [
    "roads_filtered = roads_WGS84[roads_WGS84['trees']>10]"
   ]
  },
  {
   "cell_type": "code",
   "execution_count": null,
   "metadata": {
    "ExecuteTime": {
     "end_time": "2019-12-12T17:19:11.369472Z",
     "start_time": "2019-12-12T17:19:11.360599Z"
    }
   },
   "outputs": [],
   "source": [
    "len(roads_filtered)"
   ]
  },
  {
   "cell_type": "code",
   "execution_count": null,
   "metadata": {
    "ExecuteTime": {
     "end_time": "2019-12-12T13:46:47.453210Z",
     "start_time": "2019-12-12T13:46:47.398146Z"
    }
   },
   "outputs": [],
   "source": [
    "roads_filtered_dd = dataframe.from_pandas(roads_filtered,npartitions=2*multiprocessing.cpu_count())"
   ]
  },
  {
   "cell_type": "code",
   "execution_count": null,
   "metadata": {
    "ExecuteTime": {
     "end_time": "2019-12-12T13:39:13.334338Z",
     "start_time": "2019-12-12T13:39:13.321950Z"
    }
   },
   "outputs": [],
   "source": [
    "np.median(roads_WGS84['trees'])"
   ]
  },
  {
   "cell_type": "code",
   "execution_count": null,
   "metadata": {
    "ExecuteTime": {
     "end_time": "2019-12-12T13:37:47.573201Z",
     "start_time": "2019-12-12T13:37:47.183494Z"
    }
   },
   "outputs": [],
   "source": [
    "import matplotlib.pyplot as plt\n",
    "fig, ax = plt.subplots()\n",
    "fig.set_size_inches(10,8)\n",
    "plt.xlabel('Trees per Road segment')\n",
    "plt.ylabel('Frequency')\n",
    "# plt.axvline(thresh_low, color='r')\n",
    "# plt.axvline(thresh_high, color='r')\n",
    "n, bins, patches = plt.hist(roads_filtered['trees'], 100, facecolor='g', alpha=0.75)"
   ]
  },
  {
   "cell_type": "code",
   "execution_count": null,
   "metadata": {
    "ExecuteTime": {
     "end_time": "2019-12-12T15:00:57.289365Z",
     "start_time": "2019-12-12T13:49:20.925924Z"
    }
   },
   "outputs": [],
   "source": [
    "# within_mp  = roads_filtered_dd.map_partitions(lambda df:df['geometry'].progress_apply(filterMappilary, args = [mapLocations]), meta=pd.Series('list')).compute(scheduler='processes')"
   ]
  },
  {
   "cell_type": "code",
   "execution_count": null,
   "metadata": {
    "ExecuteTime": {
     "end_time": "2019-12-12T15:01:27.522386Z",
     "start_time": "2019-12-12T15:01:27.387606Z"
    }
   },
   "outputs": [],
   "source": [
    "# %store within_mp\n",
    "store -r within_mp"
   ]
  },
  {
   "cell_type": "code",
   "execution_count": null,
   "metadata": {
    "ExecuteTime": {
     "end_time": "2019-12-12T15:01:43.646185Z",
     "start_time": "2019-12-12T15:01:43.615696Z"
    }
   },
   "outputs": [],
   "source": [
    "# within_mp"
   ]
  },
  {
   "cell_type": "code",
   "execution_count": null,
   "metadata": {
    "ExecuteTime": {
     "end_time": "2019-12-12T15:03:55.288399Z",
     "start_time": "2019-12-12T15:03:54.627960Z"
    }
   },
   "outputs": [],
   "source": [
    "# roads_filtered['Mappilary'] = 0.0"
   ]
  },
  {
   "cell_type": "code",
   "execution_count": null,
   "metadata": {
    "ExecuteTime": {
     "end_time": "2019-12-12T16:35:58.246206Z",
     "start_time": "2019-12-12T16:34:46.262017Z"
    }
   },
   "outputs": [],
   "source": [
    "for k in within_mp.index:\n",
    "    if len(within_mp[k]) > 0:\n",
    "        map_trees = mapillary_points[mapillary_points['Imgkey'].isin(within_mp[k])]\n",
    "        roads_WGS84.at[k,'Mappilary_trees'] = np.sum(map_trees['Tree'])+0.000001\n",
    "        roads_WGS84.at[k,'Mappilary_samples'] = len(map_trees)"
   ]
  },
  {
   "cell_type": "code",
   "execution_count": null,
   "metadata": {
    "ExecuteTime": {
     "end_time": "2019-12-12T16:35:58.256943Z",
     "start_time": "2019-12-12T16:35:58.249863Z"
    }
   },
   "outputs": [],
   "source": [
    "len(roads_WGS84)"
   ]
  },
  {
   "cell_type": "code",
   "execution_count": null,
   "metadata": {
    "ExecuteTime": {
     "end_time": "2019-12-12T16:35:58.284442Z",
     "start_time": "2019-12-12T16:35:58.260573Z"
    }
   },
   "outputs": [],
   "source": [
    "final_roads = roads_WGS84[roads_WGS84[['Mappilary_trees', 'Mappilary_samples']].notnull().all(1)]"
   ]
  },
  {
   "cell_type": "code",
   "execution_count": null,
   "metadata": {
    "ExecuteTime": {
     "end_time": "2019-12-12T17:18:15.368961Z",
     "start_time": "2019-12-12T17:18:15.350480Z"
    }
   },
   "outputs": [],
   "source": [
    "final_roads = final_roads[final_roads['trees'] > 10 ] "
   ]
  },
  {
   "cell_type": "code",
   "execution_count": null,
   "metadata": {
    "ExecuteTime": {
     "end_time": "2019-12-12T17:18:11.335525Z",
     "start_time": "2019-12-12T17:18:11.326731Z"
    }
   },
   "outputs": [],
   "source": [
    "len(final_roads)"
   ]
  },
  {
   "cell_type": "code",
   "execution_count": null,
   "metadata": {
    "ExecuteTime": {
     "end_time": "2019-12-12T16:35:58.323796Z",
     "start_time": "2019-12-12T16:35:58.314299Z"
    }
   },
   "outputs": [],
   "source": [
    "# final_roads_meters = final_roads.to_crs(\"+proj=utm +zone=33 +ellps=WGS84 +datum=WGS84 +units=m +no_defs\")\n",
    "# final_roads_meters.iloc[1000].geometry"
   ]
  },
  {
   "cell_type": "code",
   "execution_count": null,
   "metadata": {
    "ExecuteTime": {
     "end_time": "2019-12-12T16:35:58.347039Z",
     "start_time": "2019-12-12T16:35:58.327444Z"
    }
   },
   "outputs": [],
   "source": [
    "final_roads['Tree_density'] = 0.00001\n",
    "final_roads['Tree_pixel_density'] = 0.00001"
   ]
  },
  {
   "cell_type": "code",
   "execution_count": null,
   "metadata": {
    "ExecuteTime": {
     "end_time": "2019-12-12T16:35:58.365966Z",
     "start_time": "2019-12-12T16:35:58.350830Z"
    }
   },
   "outputs": [],
   "source": [
    "minValue = min(final_roads['Mappilary_trees'])\n",
    "print minValue"
   ]
  },
  {
   "cell_type": "code",
   "execution_count": null,
   "metadata": {
    "ExecuteTime": {
     "end_time": "2019-12-12T16:35:59.386248Z",
     "start_time": "2019-12-12T16:35:58.369690Z"
    }
   },
   "outputs": [],
   "source": [
    "for index , row in final_roads.iterrows():\n",
    "    tree_density =  np.log(float(row['trees'])/float(row['length'])) \n",
    "    pixel_density = np.log(float(row['Mappilary_trees'])/float(row['length']))\n",
    "#     print tree_density , pixel_density\n",
    "    final_roads.at[index,'Tree_density'] = tree_density\n",
    "    final_roads.at[index,'Tree_pixel_density'] = pixel_density"
   ]
  },
  {
   "cell_type": "code",
   "execution_count": null,
   "metadata": {
    "ExecuteTime": {
     "end_time": "2019-12-12T16:35:59.428098Z",
     "start_time": "2019-12-12T16:35:59.390354Z"
    }
   },
   "outputs": [],
   "source": [
    "final_roads.head()"
   ]
  },
  {
   "cell_type": "code",
   "execution_count": null,
   "metadata": {
    "ExecuteTime": {
     "end_time": "2019-12-12T16:43:29.343356Z",
     "start_time": "2019-12-12T16:43:29.105895Z"
    }
   },
   "outputs": [],
   "source": [
    "# %store final_roads"
   ]
  },
  {
   "cell_type": "code",
   "execution_count": null,
   "metadata": {
    "ExecuteTime": {
     "end_time": "2019-12-12T16:39:19.780230Z",
     "start_time": "2019-12-12T16:39:18.521112Z"
    }
   },
   "outputs": [],
   "source": [
    "from scipy.stats import pearsonr\n",
    "corr = pearsonr(final_roads['Tree_density'],final_roads['Tree_pixel_density'])\n",
    "print corr\n",
    "# fig, ax = plt.subplots()\n",
    "# fig.set_size_inches(16,12)\n",
    "sns.set(font_scale=2) \n",
    "ax = sns.jointplot(x=final_roads['Tree_pixel_density'], y=final_roads['Tree_density'], kind='regression',height=15);\n",
    "plt.xlabel('ln(Tree pixels per km)')\n",
    "plt.ylabel('ln(Trees per km)')\n",
    "# ax.annotate(\"Pearson r: \" +  str(corr[0])[:4] + '***',fontsize = 20)\n",
    "ax.annotate(pearsonr)"
   ]
  },
  {
   "cell_type": "code",
   "execution_count": null,
   "metadata": {
    "ExecuteTime": {
     "end_time": "2019-12-12T16:44:24.218627Z",
     "start_time": "2019-12-12T16:44:24.017775Z"
    }
   },
   "outputs": [],
   "source": [
    "final_roads[:1000]"
   ]
  },
  {
   "cell_type": "code",
   "execution_count": null,
   "metadata": {
    "ExecuteTime": {
     "end_time": "2019-12-12T17:10:55.249180Z",
     "start_time": "2019-12-12T17:10:54.394886Z"
    }
   },
   "outputs": [],
   "source": [
    "final_roads['samples_per_km'] = 0.0\n",
    "for i , row in final_roads.iterrows():\n",
    "    density = float(row['Mappilary_samples'])/float(row['length'])\n",
    "    final_roads.at[i,'samples_per_km'] = density"
   ]
  },
  {
   "cell_type": "code",
   "execution_count": null,
   "metadata": {
    "ExecuteTime": {
     "end_time": "2019-12-12T17:12:50.304426Z",
     "start_time": "2019-12-12T17:12:50.285722Z"
    }
   },
   "outputs": [],
   "source": [
    "final_roads['decile'] = pd.qcut(final_roads['Mappilary_samples'], q=10, precision=0)"
   ]
  },
  {
   "cell_type": "code",
   "execution_count": null,
   "metadata": {
    "ExecuteTime": {
     "end_time": "2019-12-12T17:12:53.606988Z",
     "start_time": "2019-12-12T17:12:53.564712Z"
    }
   },
   "outputs": [],
   "source": [
    "corrs = []\n",
    "bins = []\n",
    "for name, group in final_roads.groupby('decile'):\n",
    "    bins.append(name)\n",
    "    corr = pearsonr(group['Tree_density'],group['Tree_pixel_density'])\n",
    "    corrs.append(corr)"
   ]
  },
  {
   "cell_type": "code",
   "execution_count": null,
   "metadata": {
    "ExecuteTime": {
     "end_time": "2019-12-12T17:12:54.359830Z",
     "start_time": "2019-12-12T17:12:54.349112Z"
    }
   },
   "outputs": [],
   "source": [
    "corrs"
   ]
  },
  {
   "cell_type": "code",
   "execution_count": null,
   "metadata": {
    "ExecuteTime": {
     "end_time": "2019-12-12T17:13:25.399286Z",
     "start_time": "2019-12-12T17:13:24.966773Z"
    }
   },
   "outputs": [],
   "source": [
    "fig = plt.figure()\n",
    "fig.set_size_inches(15, 10)\n",
    "ax = fig.add_axes([0,0,1,1])\n",
    "plt.xlabel(\"Roads binned by Mapillary samples\",fontsize = 25)\n",
    "plt.ylabel(\"Correlation of Mappilary green index with ln(treepixels/km)\",fontsize = 25)\n",
    "xlabels = [str(b.left)+'-'+str(b.right) for b in bins]\n",
    "c = [corr[0] for corr in corrs]\n",
    "ax.bar(xlabels,c)\n",
    "\n",
    "p = []\n",
    "for corr in corrs: \n",
    "    if corr[1] > 0.05:\n",
    "        p.append('ns')\n",
    "    elif corr[1] <= 0.05 and corr[1] > 0.01  :\n",
    "        p.append('*')\n",
    "    elif corr[1] <= 0.01 and corr[1] > 0.001:\n",
    "        p.append('**')\n",
    "    elif corr[1] <= 0.001 and corr[1] > 0.0001:\n",
    "        p.append('**')\n",
    "    elif corr[1] <= 0.0001 and corr[1] > 0.00001:\n",
    "        p.append('***')\n",
    "    else :\n",
    "        p.append('****')\n",
    "for xi, yi, l in zip(*[xlabels, c, p]):\n",
    "    ax.text(xi, yi, l , fontsize = 18)\n",
    "    \n",
    "    \n",
    "plt.xticks(fontsize=20)\n",
    "plt.yticks(fontsize=20)\n",
    "plt.show()"
   ]
  },
  {
   "cell_type": "code",
   "execution_count": null,
   "metadata": {
    "ExecuteTime": {
     "end_time": "2019-12-12T17:13:50.044185Z",
     "start_time": "2019-12-12T17:13:50.036227Z"
    }
   },
   "outputs": [],
   "source": [
    "def ann(row):\n",
    "    ind = row[0]\n",
    "    r = row[1]\n",
    "    plt.gca().annotate(r['name'], xy=(r[\"Tree_density\"], r[\"Tree_pixel_density\"]), \n",
    "            xytext=(2,2) , textcoords =\"offset points\", fontsize = 10)"
   ]
  },
  {
   "cell_type": "code",
   "execution_count": null,
   "metadata": {
    "ExecuteTime": {
     "end_time": "2019-12-12T17:15:48.386695Z",
     "start_time": "2019-12-12T17:15:16.872137Z"
    },
    "scrolled": false
   },
   "outputs": [],
   "source": [
    "corrs_density = []\n",
    "bins_density = []\n",
    "for name, group in final_roads.groupby('decile'):\n",
    "    bins_density.append(name)\n",
    "    corr = pearsonr(group['Tree_density'],group['Tree_pixel_density'])\n",
    "\n",
    "    print corr\n",
    "    sns.set(font_scale=2) \n",
    "    ax = sns.jointplot(x=\"Tree_density\", y=\"Tree_pixel_density\", data=group,kind='regression',height=15);\n",
    "    plt.xlabel('ln(Trees per km)')\n",
    "    plt.ylabel('ln(Tree pixels square km)')\n",
    "    ax.annotate(pearsonr)\n",
    "    for row in group.iterrows():\n",
    "        ann(row)\n",
    "    corrs_density.append(corr)"
   ]
  },
  {
   "cell_type": "code",
   "execution_count": null,
   "metadata": {},
   "outputs": [],
   "source": []
  }
 ],
 "metadata": {
  "kernelspec": {
   "display_name": "Python 2",
   "language": "python",
   "name": "python2"
  },
  "language_info": {
   "codemirror_mode": {
    "name": "ipython",
    "version": 3
   },
   "file_extension": ".py",
   "mimetype": "text/x-python",
   "name": "python",
   "nbconvert_exporter": "python",
   "pygments_lexer": "ipython3",
   "version": "3.7.0"
  }
 },
 "nbformat": 4,
 "nbformat_minor": 2
}
