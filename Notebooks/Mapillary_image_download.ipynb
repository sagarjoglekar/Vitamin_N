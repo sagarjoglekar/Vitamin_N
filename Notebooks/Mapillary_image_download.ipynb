{
 "cells": [
  {
   "cell_type": "code",
   "execution_count": 1,
   "metadata": {
    "ExecuteTime": {
     "end_time": "2021-03-04T13:18:30.730609Z",
     "start_time": "2021-03-04T13:18:30.045865Z"
    }
   },
   "outputs": [],
   "source": [
    "    import fiona\n",
    "    import os,os.path\n",
    "    from shapely.geometry import shape,mapping\n",
    "    from shapely.ops import transform\n",
    "    from functools import partial\n",
    "    import pyproj\n",
    "    from fiona.crs import from_epsg\n",
    "    import osmnx as ox\n",
    "    import matplotlib.pyplot as plt\n",
    "    import geopandas as gpd\n",
    "    import glob\n",
    "    import json\n",
    "    import numpy as np\n",
    "    import requests as rq\n",
    "    import collections\n",
    "    import logging\n",
    "    import time\n",
    "    from PIL import Image\n",
    "    from io import BytesIO\n",
    "    import pandas as pd\n",
    "    import dateutil.parser\n",
    "    %matplotlib inline"
   ]
  },
  {
   "cell_type": "code",
   "execution_count": 2,
   "metadata": {
    "ExecuteTime": {
     "end_time": "2021-03-04T13:18:30.735911Z",
     "start_time": "2021-03-04T13:18:30.732372Z"
    }
   },
   "outputs": [],
   "source": [
    "# Create a custom logger\n",
    "logger = logging.getLogger(__name__)\n",
    "\n",
    "# Create handlers\n",
    "f_handler = logging.FileHandler('Mapillary_download.log')\n",
    "f_handler.setLevel(logging.DEBUG)\n",
    "\n",
    "# Create formatters and add it to handlers\n",
    "f_format = logging.Formatter('%(asctime)s - %(name)s - %(levelname)s - %(message)s')\n",
    "f_handler.setFormatter(f_format)\n",
    "\n",
    "# Add handlers to the logger\n",
    "logger.addHandler(f_handler)"
   ]
  },
  {
   "cell_type": "code",
   "execution_count": 3,
   "metadata": {
    "ExecuteTime": {
     "end_time": "2021-03-04T13:18:31.671099Z",
     "start_time": "2021-03-04T13:18:31.664374Z"
    }
   },
   "outputs": [],
   "source": [
    "city = '../Data/GreaterLondon/pointsJson/'\n",
    "files= glob.glob(city + 'Mapillary*.json')"
   ]
  },
  {
   "cell_type": "code",
   "execution_count": 4,
   "metadata": {
    "ExecuteTime": {
     "end_time": "2021-03-04T13:18:33.058697Z",
     "start_time": "2021-03-04T13:18:33.055142Z"
    }
   },
   "outputs": [],
   "source": [
    "mapillary_Image_url = 'https://images.mapillary.com/' #<image_key>/thumb-640.jpg"
   ]
  },
  {
   "cell_type": "code",
   "execution_count": 5,
   "metadata": {
    "ExecuteTime": {
     "end_time": "2021-03-04T13:18:35.863624Z",
     "start_time": "2021-03-04T13:18:35.860180Z"
    }
   },
   "outputs": [],
   "source": [
    "# Final_images = {} \n",
    "# for f in files:\n",
    "#     ImageDict = json.load(open(f,'rb'))\n",
    "#     for image in ImageDict:\n",
    "#         if image['properties']['key'] not in Final_images:\n",
    "#             Final_images[image['properties']['key']] = image"
   ]
  },
  {
   "cell_type": "code",
   "execution_count": 8,
   "metadata": {
    "ExecuteTime": {
     "end_time": "2021-03-04T13:20:22.435738Z",
     "start_time": "2021-03-04T13:20:18.589717Z"
    }
   },
   "outputs": [],
   "source": [
    "# json.dump(Final_images,open(city+\"All_London_images_mapillary.json\",'wb'))\n",
    "Final_images = json.load(open('../Data/GreaterLondon/pointsJson/All_London_images_mapillary.json'))"
   ]
  },
  {
   "cell_type": "code",
   "execution_count": 9,
   "metadata": {
    "ExecuteTime": {
     "end_time": "2021-03-04T13:20:28.195354Z",
     "start_time": "2021-03-04T13:20:28.183496Z"
    }
   },
   "outputs": [],
   "source": [
    "def FilterByTime(imageDict , ThreshYear, ThreshMonth ):\n",
    "    filtered = {}\n",
    "    for k in imageDict:\n",
    "        yourdate = dateutil.parser.parse(imageDict[k]['properties']['captured_at'])\n",
    "        if yourdate.year > ThreshYear and yourdate.month > ThreshMonth:\n",
    "            filtered[k] = imageDict[k]\n",
    "    return filtered\n",
    "\n",
    "def getYearDict(imageDict):\n",
    "    yearFreq = {}\n",
    "    for k in imageDict:\n",
    "        yourdate = dateutil.parser.parse(imageDict[k]['properties']['captured_at'])\n",
    "        if yourdate.year in yearFreq:\n",
    "            yearFreq[yourdate.year]+=1\n",
    "        else:\n",
    "            yearFreq[yourdate.year]=1\n",
    "    return yearFreq\n",
    "        "
   ]
  },
  {
   "cell_type": "code",
   "execution_count": 11,
   "metadata": {
    "ExecuteTime": {
     "end_time": "2021-03-04T13:20:36.904146Z",
     "start_time": "2021-03-04T13:20:36.900628Z"
    }
   },
   "outputs": [],
   "source": [
    "# Final_images"
   ]
  },
  {
   "cell_type": "code",
   "execution_count": 14,
   "metadata": {
    "ExecuteTime": {
     "end_time": "2021-03-04T13:22:58.013835Z",
     "start_time": "2021-03-04T13:22:57.995422Z"
    }
   },
   "outputs": [],
   "source": [
    "img_keys = list(Final_images.keys())"
   ]
  },
  {
   "cell_type": "code",
   "execution_count": 15,
   "metadata": {
    "ExecuteTime": {
     "end_time": "2021-03-04T13:23:04.844481Z",
     "start_time": "2021-03-04T13:23:04.837908Z"
    }
   },
   "outputs": [
    {
     "data": {
      "text/plain": [
       "{'geometry': {'type': 'Point', 'coordinates': [-0.0152268, 51.4903976]},\n",
       " 'type': 'Feature',\n",
       " 'properties': {'username': 'gness',\n",
       "  'sequence_key': '4W_dGaNuQW-xYFLqEOin8w',\n",
       "  'camera_make': 'Apple',\n",
       "  'user_key': 'FtLWg42ZUZzRDNaUUp-qAA',\n",
       "  'ca': 270.98468017578125,\n",
       "  'camera_model': 'iPhone',\n",
       "  'key': '0euG8WgIdEH_k3DlgkLbkg',\n",
       "  'pano': False,\n",
       "  'captured_at': '2019-02-24T14:25:15.893Z'}}"
      ]
     },
     "execution_count": 15,
     "metadata": {},
     "output_type": "execute_result"
    }
   ],
   "source": [
    "Final_images[img_keys[10]]"
   ]
  },
  {
   "cell_type": "code",
   "execution_count": 16,
   "metadata": {
    "ExecuteTime": {
     "end_time": "2021-03-04T13:23:11.882886Z",
     "start_time": "2021-03-04T13:23:11.876573Z"
    }
   },
   "outputs": [
    {
     "data": {
      "text/plain": [
       "[-0.0152268, 51.4903976]"
      ]
     },
     "execution_count": 16,
     "metadata": {},
     "output_type": "execute_result"
    }
   ],
   "source": [
    "Final_images[img_keys[10]]['geometry']['coordinates']"
   ]
  },
  {
   "cell_type": "code",
   "execution_count": 17,
   "metadata": {
    "ExecuteTime": {
     "end_time": "2021-03-04T13:23:59.664703Z",
     "start_time": "2021-03-04T13:23:27.604871Z"
    }
   },
   "outputs": [],
   "source": [
    "yearFreq = getYearDict(Final_images)"
   ]
  },
  {
   "cell_type": "code",
   "execution_count": 41,
   "metadata": {
    "ExecuteTime": {
     "end_time": "2019-11-18T14:06:07.323289Z",
     "start_time": "2019-11-18T14:06:07.319867Z"
    }
   },
   "outputs": [],
   "source": [
    "# yearFreq"
   ]
  },
  {
   "cell_type": "markdown",
   "metadata": {},
   "source": [
    "# Uncomment below block if you want to download images"
   ]
  },
  {
   "cell_type": "code",
   "execution_count": 18,
   "metadata": {
    "ExecuteTime": {
     "end_time": "2021-03-04T13:24:10.154551Z",
     "start_time": "2021-03-04T13:24:08.737515Z"
    }
   },
   "outputs": [],
   "source": [
    "ImageDir = city + \"_test_Mapillary_images\"\n",
    "for k in img_keys[:10]:\n",
    "    ImageKey = Final_images[k]['properties']['key']\n",
    "    url = mapillary_Image_url + ImageKey + \"/thumb-640.jpg\"\n",
    "    logger.debug(\"Downloading: %s\"%(url))\n",
    "    response = rq.get(url)\n",
    "    if response.status_code == 200:\n",
    "        try:\n",
    "            img = Image.open(BytesIO(response.content))\n",
    "            filename = '%s/%s.%s' % (ImageDir, ImageKey, 'jpg')\n",
    "            img.save(filename)\n",
    "        except:\n",
    "            logger.debug(\"Something bad happened while downloading: %s\"%(url))\n",
    "    else:\n",
    "        logger.debug(\"Download failed: %s\"%(url))"
   ]
  },
  {
   "cell_type": "code",
   "execution_count": 80,
   "metadata": {
    "ExecuteTime": {
     "end_time": "2019-11-21T14:15:19.904638Z",
     "start_time": "2019-11-21T14:15:16.985420Z"
    }
   },
   "outputs": [],
   "source": [
    "pandas_dict = {'Imgkey':[] , 'long': [] , 'lat': [], 'isPano':[] , 'captureTime':[], 'long_lat_string' : [] }  \n",
    "for k in Final_images:\n",
    "    pandas_dict['Imgkey'].append(Final_images[k]['properties']['key'])\n",
    "    pandas_dict['isPano'].append(Final_images[k]['properties']['pano'])\n",
    "    pandas_dict['captureTime'].append(Final_images[k]['properties']['captured_at'])\n",
    "    pandas_dict['long'].append(Final_images[k]['geometry']['coordinates'][0])\n",
    "    pandas_dict['lat'].append(Final_images[k]['geometry']['coordinates'][1])\n",
    "    coords = Final_images[k]['geometry']['coordinates']\n",
    "    pandas_dict['long_lat_string'].append(str(format(coords[0], '.4f')) + '_' + str(format(coords[1], '.4f')))\n",
    "mapillary_df = pd.DataFrame.from_dict(pandas_dict)\n"
   ]
  },
  {
   "cell_type": "code",
   "execution_count": 81,
   "metadata": {
    "ExecuteTime": {
     "end_time": "2019-11-21T14:15:20.651894Z",
     "start_time": "2019-11-21T14:15:20.573359Z"
    }
   },
   "outputs": [
    {
     "data": {
      "text/plain": [
       "203367"
      ]
     },
     "execution_count": 81,
     "metadata": {},
     "output_type": "execute_result"
    }
   ],
   "source": [
    "len(mapillary_df['long_lat_string'].unique())"
   ]
  },
  {
   "cell_type": "code",
   "execution_count": 82,
   "metadata": {
    "ExecuteTime": {
     "end_time": "2019-11-21T14:15:21.984338Z",
     "start_time": "2019-11-21T14:15:21.959040Z"
    }
   },
   "outputs": [
    {
     "data": {
      "text/html": [
       "<div>\n",
       "<style scoped>\n",
       "    .dataframe tbody tr th:only-of-type {\n",
       "        vertical-align: middle;\n",
       "    }\n",
       "\n",
       "    .dataframe tbody tr th {\n",
       "        vertical-align: top;\n",
       "    }\n",
       "\n",
       "    .dataframe thead th {\n",
       "        text-align: right;\n",
       "    }\n",
       "</style>\n",
       "<table border=\"1\" class=\"dataframe\">\n",
       "  <thead>\n",
       "    <tr style=\"text-align: right;\">\n",
       "      <th></th>\n",
       "      <th>Imgkey</th>\n",
       "      <th>captureTime</th>\n",
       "      <th>isPano</th>\n",
       "      <th>lat</th>\n",
       "      <th>long</th>\n",
       "      <th>long_lat_string</th>\n",
       "    </tr>\n",
       "  </thead>\n",
       "  <tbody>\n",
       "    <tr>\n",
       "      <th>0</th>\n",
       "      <td>SNkE9dXx2K0o3MaY9Zu-2A</td>\n",
       "      <td>2016-03-24T14:44:50.927Z</td>\n",
       "      <td>False</td>\n",
       "      <td>51.523651</td>\n",
       "      <td>-0.178409</td>\n",
       "      <td>-0.1784_51.5237</td>\n",
       "    </tr>\n",
       "    <tr>\n",
       "      <th>1</th>\n",
       "      <td>bneiFOYn9N2MQpjD-E7y-Q</td>\n",
       "      <td>2018-05-03T10:59:33.785Z</td>\n",
       "      <td>False</td>\n",
       "      <td>51.452568</td>\n",
       "      <td>-0.036538</td>\n",
       "      <td>-0.0365_51.4526</td>\n",
       "    </tr>\n",
       "    <tr>\n",
       "      <th>2</th>\n",
       "      <td>C5QMwGz01Rs6zk56q6fkeA</td>\n",
       "      <td>2018-12-09T15:42:45.172Z</td>\n",
       "      <td>False</td>\n",
       "      <td>51.462317</td>\n",
       "      <td>-0.389959</td>\n",
       "      <td>-0.3900_51.4623</td>\n",
       "    </tr>\n",
       "    <tr>\n",
       "      <th>3</th>\n",
       "      <td>YBQNM1wNdihc3tl1Jr1oDA</td>\n",
       "      <td>2014-08-04T10:19:53.000Z</td>\n",
       "      <td>False</td>\n",
       "      <td>51.508081</td>\n",
       "      <td>-0.095355</td>\n",
       "      <td>-0.0954_51.5081</td>\n",
       "    </tr>\n",
       "    <tr>\n",
       "      <th>4</th>\n",
       "      <td>6iT4CuOAHfSYNXWs_hlbdw</td>\n",
       "      <td>2015-11-25T13:50:11.000Z</td>\n",
       "      <td>False</td>\n",
       "      <td>51.485719</td>\n",
       "      <td>-0.120967</td>\n",
       "      <td>-0.1210_51.4857</td>\n",
       "    </tr>\n",
       "  </tbody>\n",
       "</table>\n",
       "</div>"
      ],
      "text/plain": [
       "                   Imgkey               captureTime  isPano        lat  \\\n",
       "0  SNkE9dXx2K0o3MaY9Zu-2A  2016-03-24T14:44:50.927Z   False  51.523651   \n",
       "1  bneiFOYn9N2MQpjD-E7y-Q  2018-05-03T10:59:33.785Z   False  51.452568   \n",
       "2  C5QMwGz01Rs6zk56q6fkeA  2018-12-09T15:42:45.172Z   False  51.462317   \n",
       "3  YBQNM1wNdihc3tl1Jr1oDA  2014-08-04T10:19:53.000Z   False  51.508081   \n",
       "4  6iT4CuOAHfSYNXWs_hlbdw  2015-11-25T13:50:11.000Z   False  51.485719   \n",
       "\n",
       "       long  long_lat_string  \n",
       "0 -0.178409  -0.1784_51.5237  \n",
       "1 -0.036538  -0.0365_51.4526  \n",
       "2 -0.389959  -0.3900_51.4623  \n",
       "3 -0.095355  -0.0954_51.5081  \n",
       "4 -0.120967  -0.1210_51.4857  "
      ]
     },
     "execution_count": 82,
     "metadata": {},
     "output_type": "execute_result"
    }
   ],
   "source": [
    "mapillary_df.head()"
   ]
  },
  {
   "cell_type": "code",
   "execution_count": 83,
   "metadata": {
    "ExecuteTime": {
     "end_time": "2019-11-21T14:15:30.643501Z",
     "start_time": "2019-11-21T14:15:29.088024Z"
    }
   },
   "outputs": [],
   "source": [
    "mapillary_df.to_csv(\"Mappilary_points.csv\")"
   ]
  },
  {
   "cell_type": "code",
   "execution_count": 84,
   "metadata": {
    "ExecuteTime": {
     "end_time": "2019-11-21T14:15:33.365475Z",
     "start_time": "2019-11-21T14:15:32.664151Z"
    }
   },
   "outputs": [],
   "source": [
    "test = pd.read_csv(\"Mappilary_points.csv\")"
   ]
  },
  {
   "cell_type": "code",
   "execution_count": 85,
   "metadata": {
    "ExecuteTime": {
     "end_time": "2019-11-21T14:15:37.680081Z",
     "start_time": "2019-11-21T14:15:36.574834Z"
    }
   },
   "outputs": [
    {
     "ename": "KeyError",
     "evalue": "'long_lat_list'",
     "output_type": "error",
     "traceback": [
      "\u001b[0;31m\u001b[0m",
      "\u001b[0;31mKeyError\u001b[0mTraceback (most recent call last)",
      "\u001b[0;32m<ipython-input-85-70feb761d3d0>\u001b[0m in \u001b[0;36m<module>\u001b[0;34m()\u001b[0m\n\u001b[0;32m----> 1\u001b[0;31m \u001b[0mtest\u001b[0m\u001b[0;34m[\u001b[0m\u001b[0;34m'long_lat_list'\u001b[0m\u001b[0;34m]\u001b[0m\u001b[0;34m.\u001b[0m\u001b[0munique\u001b[0m\u001b[0;34m(\u001b[0m\u001b[0;34m)\u001b[0m\u001b[0;34m\u001b[0m\u001b[0m\n\u001b[0m",
      "\u001b[0;32m/usr/local/lib/python2.7/dist-packages/pandas/core/frame.pyc\u001b[0m in \u001b[0;36m__getitem__\u001b[0;34m(self, key)\u001b[0m\n\u001b[1;32m   2925\u001b[0m             \u001b[0;32mif\u001b[0m \u001b[0mself\u001b[0m\u001b[0;34m.\u001b[0m\u001b[0mcolumns\u001b[0m\u001b[0;34m.\u001b[0m\u001b[0mnlevels\u001b[0m \u001b[0;34m>\u001b[0m \u001b[0;36m1\u001b[0m\u001b[0;34m:\u001b[0m\u001b[0;34m\u001b[0m\u001b[0m\n\u001b[1;32m   2926\u001b[0m                 \u001b[0;32mreturn\u001b[0m \u001b[0mself\u001b[0m\u001b[0;34m.\u001b[0m\u001b[0m_getitem_multilevel\u001b[0m\u001b[0;34m(\u001b[0m\u001b[0mkey\u001b[0m\u001b[0;34m)\u001b[0m\u001b[0;34m\u001b[0m\u001b[0m\n\u001b[0;32m-> 2927\u001b[0;31m             \u001b[0mindexer\u001b[0m \u001b[0;34m=\u001b[0m \u001b[0mself\u001b[0m\u001b[0;34m.\u001b[0m\u001b[0mcolumns\u001b[0m\u001b[0;34m.\u001b[0m\u001b[0mget_loc\u001b[0m\u001b[0;34m(\u001b[0m\u001b[0mkey\u001b[0m\u001b[0;34m)\u001b[0m\u001b[0;34m\u001b[0m\u001b[0m\n\u001b[0m\u001b[1;32m   2928\u001b[0m             \u001b[0;32mif\u001b[0m \u001b[0mis_integer\u001b[0m\u001b[0;34m(\u001b[0m\u001b[0mindexer\u001b[0m\u001b[0;34m)\u001b[0m\u001b[0;34m:\u001b[0m\u001b[0;34m\u001b[0m\u001b[0m\n\u001b[1;32m   2929\u001b[0m                 \u001b[0mindexer\u001b[0m \u001b[0;34m=\u001b[0m \u001b[0;34m[\u001b[0m\u001b[0mindexer\u001b[0m\u001b[0;34m]\u001b[0m\u001b[0;34m\u001b[0m\u001b[0m\n",
      "\u001b[0;32m/usr/local/lib/python2.7/dist-packages/pandas/core/indexes/base.pyc\u001b[0m in \u001b[0;36mget_loc\u001b[0;34m(self, key, method, tolerance)\u001b[0m\n\u001b[1;32m   2657\u001b[0m                 \u001b[0;32mreturn\u001b[0m \u001b[0mself\u001b[0m\u001b[0;34m.\u001b[0m\u001b[0m_engine\u001b[0m\u001b[0;34m.\u001b[0m\u001b[0mget_loc\u001b[0m\u001b[0;34m(\u001b[0m\u001b[0mkey\u001b[0m\u001b[0;34m)\u001b[0m\u001b[0;34m\u001b[0m\u001b[0m\n\u001b[1;32m   2658\u001b[0m             \u001b[0;32mexcept\u001b[0m \u001b[0mKeyError\u001b[0m\u001b[0;34m:\u001b[0m\u001b[0;34m\u001b[0m\u001b[0m\n\u001b[0;32m-> 2659\u001b[0;31m                 \u001b[0;32mreturn\u001b[0m \u001b[0mself\u001b[0m\u001b[0;34m.\u001b[0m\u001b[0m_engine\u001b[0m\u001b[0;34m.\u001b[0m\u001b[0mget_loc\u001b[0m\u001b[0;34m(\u001b[0m\u001b[0mself\u001b[0m\u001b[0;34m.\u001b[0m\u001b[0m_maybe_cast_indexer\u001b[0m\u001b[0;34m(\u001b[0m\u001b[0mkey\u001b[0m\u001b[0;34m)\u001b[0m\u001b[0;34m)\u001b[0m\u001b[0;34m\u001b[0m\u001b[0m\n\u001b[0m\u001b[1;32m   2660\u001b[0m         \u001b[0mindexer\u001b[0m \u001b[0;34m=\u001b[0m \u001b[0mself\u001b[0m\u001b[0;34m.\u001b[0m\u001b[0mget_indexer\u001b[0m\u001b[0;34m(\u001b[0m\u001b[0;34m[\u001b[0m\u001b[0mkey\u001b[0m\u001b[0;34m]\u001b[0m\u001b[0;34m,\u001b[0m \u001b[0mmethod\u001b[0m\u001b[0;34m=\u001b[0m\u001b[0mmethod\u001b[0m\u001b[0;34m,\u001b[0m \u001b[0mtolerance\u001b[0m\u001b[0;34m=\u001b[0m\u001b[0mtolerance\u001b[0m\u001b[0;34m)\u001b[0m\u001b[0;34m\u001b[0m\u001b[0m\n\u001b[1;32m   2661\u001b[0m         \u001b[0;32mif\u001b[0m \u001b[0mindexer\u001b[0m\u001b[0;34m.\u001b[0m\u001b[0mndim\u001b[0m \u001b[0;34m>\u001b[0m \u001b[0;36m1\u001b[0m \u001b[0;32mor\u001b[0m \u001b[0mindexer\u001b[0m\u001b[0;34m.\u001b[0m\u001b[0msize\u001b[0m \u001b[0;34m>\u001b[0m \u001b[0;36m1\u001b[0m\u001b[0;34m:\u001b[0m\u001b[0;34m\u001b[0m\u001b[0m\n",
      "\u001b[0;32mpandas/_libs/index.pyx\u001b[0m in \u001b[0;36mpandas._libs.index.IndexEngine.get_loc\u001b[0;34m()\u001b[0m\n",
      "\u001b[0;32mpandas/_libs/index.pyx\u001b[0m in \u001b[0;36mpandas._libs.index.IndexEngine.get_loc\u001b[0;34m()\u001b[0m\n",
      "\u001b[0;32mpandas/_libs/hashtable_class_helper.pxi\u001b[0m in \u001b[0;36mpandas._libs.hashtable.PyObjectHashTable.get_item\u001b[0;34m()\u001b[0m\n",
      "\u001b[0;32mpandas/_libs/hashtable_class_helper.pxi\u001b[0m in \u001b[0;36mpandas._libs.hashtable.PyObjectHashTable.get_item\u001b[0;34m()\u001b[0m\n",
      "\u001b[0;31mKeyError\u001b[0m: 'long_lat_list'"
     ]
    }
   ],
   "source": [
    "test['long_lat_list'].unique()"
   ]
  },
  {
   "cell_type": "code",
   "execution_count": null,
   "metadata": {},
   "outputs": [],
   "source": []
  }
 ],
 "metadata": {
  "kernelspec": {
   "display_name": "Python 2",
   "language": "python",
   "name": "python2"
  },
  "language_info": {
   "codemirror_mode": {
    "name": "ipython",
    "version": 3
   },
   "file_extension": ".py",
   "mimetype": "text/x-python",
   "name": "python",
   "nbconvert_exporter": "python",
   "pygments_lexer": "ipython3",
   "version": "3.7.0"
  }
 },
 "nbformat": 4,
 "nbformat_minor": 2
}
