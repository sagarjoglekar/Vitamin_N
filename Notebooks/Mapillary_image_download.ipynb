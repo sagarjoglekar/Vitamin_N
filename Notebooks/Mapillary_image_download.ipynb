{
 "cells": [
  {
   "cell_type": "code",
   "execution_count": 39,
   "metadata": {
    "ExecuteTime": {
     "end_time": "2019-11-18T13:59:40.472126Z",
     "start_time": "2019-11-18T13:59:40.454704Z"
    }
   },
   "outputs": [],
   "source": [
    "    import fiona\n",
    "    import os,os.path\n",
    "    from shapely.geometry import shape,mapping\n",
    "    from shapely.ops import transform\n",
    "    from functools import partial\n",
    "    import pyproj\n",
    "    from fiona.crs import from_epsg\n",
    "    import osmnx as ox\n",
    "    import matplotlib.pyplot as plt\n",
    "    import geopandas as gpd\n",
    "    import glob\n",
    "    import json\n",
    "    import numpy as np\n",
    "    import requests as rq\n",
    "    import collections\n",
    "    import logging\n",
    "    import time\n",
    "    from PIL import Image\n",
    "    from io import BytesIO\n",
    "    import dateutil.parser\n",
    "    %matplotlib inline"
   ]
  },
  {
   "cell_type": "code",
   "execution_count": 43,
   "metadata": {
    "ExecuteTime": {
     "end_time": "2019-11-18T14:06:26.220014Z",
     "start_time": "2019-11-18T14:06:26.210623Z"
    }
   },
   "outputs": [],
   "source": [
    "# Create a custom logger\n",
    "logger = logging.getLogger(__name__)\n",
    "\n",
    "# Create handlers\n",
    "f_handler = logging.FileHandler('Mapillary_download.log')\n",
    "f_handler.setLevel(logging.DEBUG)\n",
    "\n",
    "# Create formatters and add it to handlers\n",
    "f_format = logging.Formatter('%(asctime)s - %(name)s - %(levelname)s - %(message)s')\n",
    "f_handler.setFormatter(f_format)\n",
    "\n",
    "# Add handlers to the logger\n",
    "logger.addHandler(f_handler)"
   ]
  },
  {
   "cell_type": "code",
   "execution_count": 4,
   "metadata": {
    "ExecuteTime": {
     "end_time": "2019-11-18T13:23:41.203661Z",
     "start_time": "2019-11-18T13:23:41.198306Z"
    }
   },
   "outputs": [],
   "source": [
    "city = '../Data/GreaterLondon/'\n",
    "files= glob.glob(city + 'Mapillary*.json')"
   ]
  },
  {
   "cell_type": "code",
   "execution_count": 6,
   "metadata": {
    "ExecuteTime": {
     "end_time": "2019-11-18T13:24:37.538266Z",
     "start_time": "2019-11-18T13:24:37.534215Z"
    }
   },
   "outputs": [],
   "source": [
    "mapillary_Image_url = 'https://images.mapillary.com/' #<image_key>/thumb-640.jpg"
   ]
  },
  {
   "cell_type": "code",
   "execution_count": 15,
   "metadata": {
    "ExecuteTime": {
     "end_time": "2019-11-18T13:31:40.941893Z",
     "start_time": "2019-11-18T13:30:35.026086Z"
    }
   },
   "outputs": [],
   "source": [
    "Final_images = {} \n",
    "for f in files:\n",
    "    ImageDict = json.load(open(f,'rb'))\n",
    "    for image in ImageDict:\n",
    "        if image['properties']['key'] not in Final_images:\n",
    "            Final_images[image['properties']['key']] = image"
   ]
  },
  {
   "cell_type": "code",
   "execution_count": 18,
   "metadata": {
    "ExecuteTime": {
     "end_time": "2019-11-18T13:40:02.765993Z",
     "start_time": "2019-11-18T13:40:02.762334Z"
    }
   },
   "outputs": [],
   "source": [
    "# json.dump(Final_images,open(city+\"All_London_images_mapillary.json\",'wb'))\n"
   ]
  },
  {
   "cell_type": "code",
   "execution_count": 35,
   "metadata": {
    "ExecuteTime": {
     "end_time": "2019-11-18T13:53:26.012495Z",
     "start_time": "2019-11-18T13:53:25.995249Z"
    }
   },
   "outputs": [],
   "source": [
    "def FilterByTime(imageDict , ThreshYear, ThreshMonth ):\n",
    "    filtered = {}\n",
    "    for k in imageDict:\n",
    "        yourdate = dateutil.parser.parse(imageDict[k]['properties']['captured_at'])\n",
    "        if yourdate.year > ThreshYear and yourdate.month > ThreshMonth:\n",
    "            filtered[k] = imageDict[k]\n",
    "    return filtered\n",
    "\n",
    "def getYearDict(imageDict):\n",
    "    yearFreq = {}\n",
    "    for k in imageDict:\n",
    "        yourdate = dateutil.parser.parse(imageDict[k]['properties']['captured_at'])\n",
    "        if yourdate.year in yearFreq:\n",
    "            yearFreq[yourdate.year]+=1\n",
    "        else:\n",
    "            yearFreq[yourdate.year]=1\n",
    "    return yearFreq\n",
    "        "
   ]
  },
  {
   "cell_type": "code",
   "execution_count": 20,
   "metadata": {
    "ExecuteTime": {
     "end_time": "2019-11-18T13:40:19.997835Z",
     "start_time": "2019-11-18T13:40:19.949521Z"
    }
   },
   "outputs": [
    {
     "data": {
      "text/plain": [
       "{u'geometry': {u'coordinates': [-0.0152268, 51.4903976], u'type': u'Point'},\n",
       " u'properties': {u'ca': 270.98468017578125,\n",
       "  u'camera_make': u'Apple',\n",
       "  u'camera_model': u'iPhone',\n",
       "  u'captured_at': u'2019-02-24T14:25:15.893Z',\n",
       "  u'key': u'0euG8WgIdEH_k3DlgkLbkg',\n",
       "  u'pano': False,\n",
       "  u'sequence_key': u'4W_dGaNuQW-xYFLqEOin8w',\n",
       "  u'user_key': u'FtLWg42ZUZzRDNaUUp-qAA',\n",
       "  u'username': u'gness'},\n",
       " u'type': u'Feature'}"
      ]
     },
     "execution_count": 20,
     "metadata": {},
     "output_type": "execute_result"
    }
   ],
   "source": [
    "Final_images[Final_images.keys()[10]]"
   ]
  },
  {
   "cell_type": "code",
   "execution_count": 40,
   "metadata": {
    "ExecuteTime": {
     "end_time": "2019-11-18T14:06:03.227494Z",
     "start_time": "2019-11-18T14:06:03.223762Z"
    }
   },
   "outputs": [],
   "source": [
    "# yearFreq = getYearDict(Final_images)"
   ]
  },
  {
   "cell_type": "code",
   "execution_count": 41,
   "metadata": {
    "ExecuteTime": {
     "end_time": "2019-11-18T14:06:07.323289Z",
     "start_time": "2019-11-18T14:06:07.319867Z"
    }
   },
   "outputs": [],
   "source": [
    "# yearFreq"
   ]
  },
  {
   "cell_type": "markdown",
   "metadata": {},
   "source": [
    "# Uncomment below block if you want to download images"
   ]
  },
  {
   "cell_type": "code",
   "execution_count": null,
   "metadata": {
    "ExecuteTime": {
     "start_time": "2019-11-18T14:06:38.939Z"
    }
   },
   "outputs": [],
   "source": [
    "# ImageDir = city + \"Mapillary_images\"\n",
    "# for k in Final_images:\n",
    "#     ImageKey = Final_images[k]['properties']['key']\n",
    "#     url = mapillary_Image_url + ImageKey + \"/thumb-640.jpg\"\n",
    "#     logger.debug(\"Downloading: %s\"%(url))\n",
    "#     response = rq.get(url)\n",
    "#     if response.status_code == 200:\n",
    "#         try:\n",
    "#             img = Image.open(BytesIO(response.content))\n",
    "#             filename = '%s/%s.%s' % (ImageDir, ImageKey, 'jpg')\n",
    "#             img.save(filename)\n",
    "#         except:\n",
    "#             logger.debug(\"Something bad happened while downloading: %s\"%(url))\n",
    "#     else:\n",
    "#         logger.debug(\"Download failed: %s\"%(url))"
   ]
  },
  {
   "cell_type": "code",
   "execution_count": null,
   "metadata": {},
   "outputs": [],
   "source": []
  }
 ],
 "metadata": {
  "kernelspec": {
   "display_name": "Python 2",
   "language": "python",
   "name": "python2"
  },
  "language_info": {
   "codemirror_mode": {
    "name": "ipython",
    "version": 2
   },
   "file_extension": ".py",
   "mimetype": "text/x-python",
   "name": "python",
   "nbconvert_exporter": "python",
   "pygments_lexer": "ipython2",
   "version": "2.7.12"
  }
 },
 "nbformat": 4,
 "nbformat_minor": 2
}
