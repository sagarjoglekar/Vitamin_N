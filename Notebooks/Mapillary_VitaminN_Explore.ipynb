{
 "cells": [
  {
   "cell_type": "code",
   "execution_count": 1,
   "metadata": {
    "ExecuteTime": {
     "end_time": "2020-01-13T11:16:53.193977Z",
     "start_time": "2020-01-13T11:16:51.991920Z"
    }
   },
   "outputs": [
    {
     "name": "stderr",
     "output_type": "stream",
     "text": [
      "/usr/local/lib/python2.7/dist-packages/pysal/__init__.py:65: VisibleDeprecationWarning: PySAL's API will be changed on 2018-12-31. The last release made with this API is version 1.14.4. A preview of the next API version is provided in the `pysal` 2.0 prelease candidate. The API changes and a guide on how to change imports is provided at https://pysal.org/about\n",
      "  ), VisibleDeprecationWarning)\n",
      "/usr/local/lib/python2.7/dist-packages/pysal/contrib/viz/mapping.py:32: UserWarning: Bokeh not installed. Functionality related to it will not work\n",
      "  warn('Bokeh not installed. Functionality '\n"
     ]
    }
   ],
   "source": [
    "import pickle\n",
    "import pandas as pd\n",
    "import numpy as np\n",
    "import matplotlib.pyplot as plt\n",
    "import matplotlib.cm as cm\n",
    "import geopandas as gpd\n",
    "from geopandas import GeoSeries\n",
    "import seaborn as sns\n",
    "from itertools import chain\n",
    "from matplotlib.colors import Normalize\n",
    "from matplotlib.collections import PatchCollection\n",
    "%matplotlib inline\n",
    "import matplotlib.font_manager as fm\n",
    "from mpl_toolkits.basemap import Basemap\n",
    "from shapely.geometry import Point, Polygon, MultiPoint, MultiPolygon, shape \n",
    "from shapely.prepared import prep\n",
    "from pysal.esda.mapclassify import Natural_Breaks as nb\n",
    "from descartes import PolygonPatch\n",
    "\n",
    "import osmnx as ox\n",
    "import fiona\n",
    "from fiona.crs import from_epsg\n",
    "import pysal as ps\n",
    "from pysal.contrib.viz import mapping as maps\n",
    "from tqdm import tqdm\n",
    "import geopandas\n",
    "from geopandas.tools import sjoin"
   ]
  },
  {
   "cell_type": "code",
   "execution_count": 2,
   "metadata": {
    "ExecuteTime": {
     "end_time": "2020-01-13T11:16:53.204535Z",
     "start_time": "2020-01-13T11:16:53.196808Z"
    }
   },
   "outputs": [],
   "source": [
    "plt.style.use('seaborn-white')\n",
    "\n",
    "plt.rcParams['font.family'] = 'serif'\n",
    "plt.rcParams['font.serif'] = 'Ubuntu'\n",
    "plt.rcParams['font.monospace'] = 'Ubuntu Mono'\n",
    "plt.rcParams['font.size'] = 10\n",
    "plt.rcParams['axes.labelsize'] = 10\n",
    "plt.rcParams['axes.labelweight'] = 'bold'\n",
    "plt.rcParams['axes.titlesize'] = 10\n",
    "plt.rcParams['xtick.labelsize'] = 8\n",
    "plt.rcParams['ytick.labelsize'] = 8\n",
    "plt.rcParams['legend.fontsize'] = 10\n",
    "plt.rcParams['figure.titlesize'] = 12"
   ]
  },
  {
   "cell_type": "code",
   "execution_count": 3,
   "metadata": {
    "ExecuteTime": {
     "end_time": "2020-01-13T11:16:53.246709Z",
     "start_time": "2020-01-13T11:16:53.208733Z"
    }
   },
   "outputs": [],
   "source": [
    "def check(point, polygon):\n",
    "    if any(polygon.contains(point)):\n",
    "        return True\n",
    "    else:\n",
    "        return False\n",
    "\n",
    "def checkPoly(point,polygonArray):\n",
    "    truths = [check(point , poly) for poly in polygonArray]\n",
    "    return any(truths)"
   ]
  },
  {
   "cell_type": "code",
   "execution_count": 4,
   "metadata": {
    "ExecuteTime": {
     "end_time": "2020-01-13T11:16:53.773418Z",
     "start_time": "2020-01-13T11:16:53.754847Z"
    }
   },
   "outputs": [
    {
     "name": "stdout",
     "output_type": "stream",
     "text": [
      "{}\n",
      "(-0.5103750689005356, 51.28676016315085, 0.3340155643740321, 51.691874116909894)\n",
      "[-0.5103750689005356, 51.28676016315085, 0.3340155643740321, 51.691874116909894]\n",
      "(0.8443906332745678, 0.4051139537590416)\n"
     ]
    }
   ],
   "source": [
    "# ogr2ogr -t_srs EPSG:4326 LB_WGS84.shp London_Borough_Excluding_MHW.shp\n",
    "shp = fiona.open('../Data/Geo_Data/geo/london_wards.shp') # London_Borough_Excluding_MHW_wgs84.shp\n",
    "crs_data = shp.crs\n",
    "print(crs_data)\n",
    "bds = shp.bounds\n",
    "print (bds)\n",
    "shp.close()\n",
    "extra = 0.01\n",
    "# bounds need to be datum-shifted\n",
    "#wgs84 = pyproj.Proj(\"+init=EPSG:4326\")\n",
    "#osgb36 = pyproj.Proj(\"+init=EPSG:27700\")\n",
    "#ll = pyproj.transform(osgb36, wgs84, bds[0], bds[1])\n",
    "#ur = pyproj.transform(osgb36, wgs84, bds[2], bds[3])\n",
    "ll = (bds[0], bds[1])\n",
    "ur = (bds[2], bds[3])\n",
    "coords = list(chain(ll, ur))\n",
    "print (coords)\n",
    "\n",
    "w, h = coords[2] - coords[0], coords[3] - coords[1]\n",
    "\n",
    "print (w,h)"
   ]
  },
  {
   "cell_type": "code",
   "execution_count": 5,
   "metadata": {
    "ExecuteTime": {
     "end_time": "2020-01-13T11:16:54.111719Z",
     "start_time": "2020-01-13T11:16:54.100857Z"
    }
   },
   "outputs": [
    {
     "data": {
      "text/plain": [
       "{}"
      ]
     },
     "execution_count": 5,
     "metadata": {},
     "output_type": "execute_result"
    }
   ],
   "source": [
    "shp.crs"
   ]
  },
  {
   "cell_type": "code",
   "execution_count": 6,
   "metadata": {
    "ExecuteTime": {
     "end_time": "2020-01-13T11:16:54.783243Z",
     "start_time": "2020-01-13T11:16:54.491348Z"
    }
   },
   "outputs": [
    {
     "data": {
      "text/html": [
       "<div>\n",
       "<style scoped>\n",
       "    .dataframe tbody tr th:only-of-type {\n",
       "        vertical-align: middle;\n",
       "    }\n",
       "\n",
       "    .dataframe tbody tr th {\n",
       "        vertical-align: top;\n",
       "    }\n",
       "\n",
       "    .dataframe thead th {\n",
       "        text-align: right;\n",
       "    }\n",
       "</style>\n",
       "<table border=\"1\" class=\"dataframe\">\n",
       "  <thead>\n",
       "    <tr style=\"text-align: right;\">\n",
       "      <th></th>\n",
       "      <th>NAME</th>\n",
       "      <th>AREA_CODE</th>\n",
       "      <th>DESCRIPTIO</th>\n",
       "      <th>FILE_NAME</th>\n",
       "      <th>NUMBER</th>\n",
       "      <th>NUMBER0</th>\n",
       "      <th>POLYGON_ID</th>\n",
       "      <th>UNIT_ID</th>\n",
       "      <th>CODE</th>\n",
       "      <th>HECTARES</th>\n",
       "      <th>AREA</th>\n",
       "      <th>TYPE_CODE</th>\n",
       "      <th>DESCRIPT0</th>\n",
       "      <th>TYPE_COD0</th>\n",
       "      <th>DESCRIPT1</th>\n",
       "      <th>geometry</th>\n",
       "    </tr>\n",
       "  </thead>\n",
       "  <tbody>\n",
       "    <tr>\n",
       "      <th>0</th>\n",
       "      <td>Chessington South Ward</td>\n",
       "      <td>LBW</td>\n",
       "      <td>London Borough Ward</td>\n",
       "      <td>GREATER_LONDON_AUTHORITY</td>\n",
       "      <td>52</td>\n",
       "      <td>733</td>\n",
       "      <td>50840</td>\n",
       "      <td>10884</td>\n",
       "      <td>E05000405</td>\n",
       "      <td>755.173</td>\n",
       "      <td>0.000</td>\n",
       "      <td>VA</td>\n",
       "      <td>CIVIL VOTING AREA</td>\n",
       "      <td></td>\n",
       "      <td></td>\n",
       "      <td>POLYGON ((-0.33068 51.32901, -0.33059 51.32909...</td>\n",
       "    </tr>\n",
       "    <tr>\n",
       "      <th>1</th>\n",
       "      <td>Tolworth and Hook Rise Ward</td>\n",
       "      <td>LBW</td>\n",
       "      <td>London Borough Ward</td>\n",
       "      <td>GREATER_LONDON_AUTHORITY</td>\n",
       "      <td>106</td>\n",
       "      <td>734</td>\n",
       "      <td>117160</td>\n",
       "      <td>11407</td>\n",
       "      <td>E05000414</td>\n",
       "      <td>259.464</td>\n",
       "      <td>0.000</td>\n",
       "      <td>VA</td>\n",
       "      <td>CIVIL VOTING AREA</td>\n",
       "      <td></td>\n",
       "      <td></td>\n",
       "      <td>POLYGON ((-0.30846 51.37586, -0.30834 51.37606...</td>\n",
       "    </tr>\n",
       "    <tr>\n",
       "      <th>2</th>\n",
       "      <td>Berrylands Ward</td>\n",
       "      <td>LBW</td>\n",
       "      <td>London Borough Ward</td>\n",
       "      <td>GREATER_LONDON_AUTHORITY</td>\n",
       "      <td>107</td>\n",
       "      <td>735</td>\n",
       "      <td>50449</td>\n",
       "      <td>11413</td>\n",
       "      <td>E05000401</td>\n",
       "      <td>145.390</td>\n",
       "      <td>0.000</td>\n",
       "      <td>VA</td>\n",
       "      <td>CIVIL VOTING AREA</td>\n",
       "      <td></td>\n",
       "      <td></td>\n",
       "      <td>POLYGON ((-0.30385 51.39249, -0.30375 51.39252...</td>\n",
       "    </tr>\n",
       "    <tr>\n",
       "      <th>3</th>\n",
       "      <td>Alexandra Ward</td>\n",
       "      <td>LBW</td>\n",
       "      <td>London Borough Ward</td>\n",
       "      <td>GREATER_LONDON_AUTHORITY</td>\n",
       "      <td>108</td>\n",
       "      <td>736</td>\n",
       "      <td>50456</td>\n",
       "      <td>11420</td>\n",
       "      <td>E05000400</td>\n",
       "      <td>268.506</td>\n",
       "      <td>0.000</td>\n",
       "      <td>VA</td>\n",
       "      <td>CIVIL VOTING AREA</td>\n",
       "      <td></td>\n",
       "      <td></td>\n",
       "      <td>POLYGON ((-0.26990 51.38845, -0.26975 51.38838...</td>\n",
       "    </tr>\n",
       "    <tr>\n",
       "      <th>4</th>\n",
       "      <td>Beverley Ward</td>\n",
       "      <td>LBW</td>\n",
       "      <td>London Borough Ward</td>\n",
       "      <td>GREATER_LONDON_AUTHORITY</td>\n",
       "      <td>109</td>\n",
       "      <td>737</td>\n",
       "      <td>117161</td>\n",
       "      <td>11417</td>\n",
       "      <td>E05000402</td>\n",
       "      <td>187.821</td>\n",
       "      <td>0.000</td>\n",
       "      <td>VA</td>\n",
       "      <td>CIVIL VOTING AREA</td>\n",
       "      <td></td>\n",
       "      <td></td>\n",
       "      <td>POLYGON ((-0.24662 51.39921, -0.24672 51.39921...</td>\n",
       "    </tr>\n",
       "    <tr>\n",
       "      <th>5</th>\n",
       "      <td>Coombe Hill Ward</td>\n",
       "      <td>LBW</td>\n",
       "      <td>London Borough Ward</td>\n",
       "      <td>GREATER_LONDON_AUTHORITY</td>\n",
       "      <td>118</td>\n",
       "      <td>738</td>\n",
       "      <td>117159</td>\n",
       "      <td>11423</td>\n",
       "      <td>E05000406</td>\n",
       "      <td>442.170</td>\n",
       "      <td>0.000</td>\n",
       "      <td>VA</td>\n",
       "      <td>CIVIL VOTING AREA</td>\n",
       "      <td></td>\n",
       "      <td></td>\n",
       "      <td>POLYGON ((-0.24714 51.40958, -0.24820 51.41018...</td>\n",
       "    </tr>\n",
       "    <tr>\n",
       "      <th>6</th>\n",
       "      <td>Chessington North and Hook Ward</td>\n",
       "      <td>LBW</td>\n",
       "      <td>London Borough Ward</td>\n",
       "      <td>GREATER_LONDON_AUTHORITY</td>\n",
       "      <td>308</td>\n",
       "      <td>739</td>\n",
       "      <td>50530</td>\n",
       "      <td>11406</td>\n",
       "      <td>E05000404</td>\n",
       "      <td>192.980</td>\n",
       "      <td>0.000</td>\n",
       "      <td>VA</td>\n",
       "      <td>CIVIL VOTING AREA</td>\n",
       "      <td></td>\n",
       "      <td></td>\n",
       "      <td>POLYGON ((-0.31830 51.36368, -0.31841 51.36468...</td>\n",
       "    </tr>\n",
       "    <tr>\n",
       "      <th>7</th>\n",
       "      <td>Surbiton Hill Ward</td>\n",
       "      <td>LBW</td>\n",
       "      <td>London Borough Ward</td>\n",
       "      <td>GREATER_LONDON_AUTHORITY</td>\n",
       "      <td>309</td>\n",
       "      <td>740</td>\n",
       "      <td>50457</td>\n",
       "      <td>11421</td>\n",
       "      <td>E05000413</td>\n",
       "      <td>166.482</td>\n",
       "      <td>0.000</td>\n",
       "      <td>VA</td>\n",
       "      <td>CIVIL VOTING AREA</td>\n",
       "      <td></td>\n",
       "      <td></td>\n",
       "      <td>POLYGON ((-0.31316 51.38880, -0.30599 51.39168...</td>\n",
       "    </tr>\n",
       "    <tr>\n",
       "      <th>8</th>\n",
       "      <td>Old Malden Ward</td>\n",
       "      <td>LBW</td>\n",
       "      <td>London Borough Ward</td>\n",
       "      <td>GREATER_LONDON_AUTHORITY</td>\n",
       "      <td>310</td>\n",
       "      <td>741</td>\n",
       "      <td>50455</td>\n",
       "      <td>11419</td>\n",
       "      <td>E05000410</td>\n",
       "      <td>180.016</td>\n",
       "      <td>0.000</td>\n",
       "      <td>VA</td>\n",
       "      <td>CIVIL VOTING AREA</td>\n",
       "      <td></td>\n",
       "      <td></td>\n",
       "      <td>POLYGON ((-0.24505 51.38004, -0.24553 51.38006...</td>\n",
       "    </tr>\n",
       "    <tr>\n",
       "      <th>9</th>\n",
       "      <td>St. Mark's Ward</td>\n",
       "      <td>LBW</td>\n",
       "      <td>London Borough Ward</td>\n",
       "      <td>GREATER_LONDON_AUTHORITY</td>\n",
       "      <td>313</td>\n",
       "      <td>742</td>\n",
       "      <td>50450</td>\n",
       "      <td>11414</td>\n",
       "      <td>E05000412</td>\n",
       "      <td>137.578</td>\n",
       "      <td>0.000</td>\n",
       "      <td>VA</td>\n",
       "      <td>CIVIL VOTING AREA</td>\n",
       "      <td></td>\n",
       "      <td></td>\n",
       "      <td>POLYGON ((-0.31298 51.39711, -0.31256 51.39688...</td>\n",
       "    </tr>\n",
       "    <tr>\n",
       "      <th>10</th>\n",
       "      <td>Grove Ward</td>\n",
       "      <td>LBW</td>\n",
       "      <td>London Borough Ward</td>\n",
       "      <td>GREATER_LONDON_AUTHORITY</td>\n",
       "      <td>314</td>\n",
       "      <td>743</td>\n",
       "      <td>50458</td>\n",
       "      <td>11422</td>\n",
       "      <td>E05000408</td>\n",
       "      <td>192.034</td>\n",
       "      <td>0.000</td>\n",
       "      <td>VA</td>\n",
       "      <td>CIVIL VOTING AREA</td>\n",
       "      <td></td>\n",
       "      <td></td>\n",
       "      <td>POLYGON ((-0.31215 51.39814, -0.31202 51.39837...</td>\n",
       "    </tr>\n",
       "    <tr>\n",
       "      <th>11</th>\n",
       "      <td>Canbury Ward</td>\n",
       "      <td>LBW</td>\n",
       "      <td>London Borough Ward</td>\n",
       "      <td>GREATER_LONDON_AUTHORITY</td>\n",
       "      <td>315</td>\n",
       "      <td>744</td>\n",
       "      <td>51118</td>\n",
       "      <td>11469</td>\n",
       "      <td>E05000403</td>\n",
       "      <td>124.241</td>\n",
       "      <td>0.000</td>\n",
       "      <td>VA</td>\n",
       "      <td>CIVIL VOTING AREA</td>\n",
       "      <td></td>\n",
       "      <td></td>\n",
       "      <td>POLYGON ((-0.28662 51.42017, -0.28659 51.42011...</td>\n",
       "    </tr>\n",
       "    <tr>\n",
       "      <th>12</th>\n",
       "      <td>Norbiton Ward</td>\n",
       "      <td>LBW</td>\n",
       "      <td>London Borough Ward</td>\n",
       "      <td>GREATER_LONDON_AUTHORITY</td>\n",
       "      <td>316</td>\n",
       "      <td>745</td>\n",
       "      <td>50451</td>\n",
       "      <td>11415</td>\n",
       "      <td>E05000409</td>\n",
       "      <td>134.711</td>\n",
       "      <td>0.000</td>\n",
       "      <td>VA</td>\n",
       "      <td>CIVIL VOTING AREA</td>\n",
       "      <td></td>\n",
       "      <td></td>\n",
       "      <td>POLYGON ((-0.28399 51.41226, -0.28359 51.41210...</td>\n",
       "    </tr>\n",
       "    <tr>\n",
       "      <th>13</th>\n",
       "      <td>Coombe Vale Ward</td>\n",
       "      <td>LBW</td>\n",
       "      <td>London Borough Ward</td>\n",
       "      <td>GREATER_LONDON_AUTHORITY</td>\n",
       "      <td>317</td>\n",
       "      <td>746</td>\n",
       "      <td>50452</td>\n",
       "      <td>11416</td>\n",
       "      <td>E05000407</td>\n",
       "      <td>164.710</td>\n",
       "      <td>0.000</td>\n",
       "      <td>VA</td>\n",
       "      <td>CIVIL VOTING AREA</td>\n",
       "      <td></td>\n",
       "      <td></td>\n",
       "      <td>POLYGON ((-0.25873 51.40956, -0.25860 51.40916...</td>\n",
       "    </tr>\n",
       "    <tr>\n",
       "      <th>14</th>\n",
       "      <td>St. James Ward</td>\n",
       "      <td>LBW</td>\n",
       "      <td>London Borough Ward</td>\n",
       "      <td>GREATER_LONDON_AUTHORITY</td>\n",
       "      <td>318</td>\n",
       "      <td>747</td>\n",
       "      <td>50454</td>\n",
       "      <td>11418</td>\n",
       "      <td>E05000411</td>\n",
       "      <td>216.584</td>\n",
       "      <td>0.000</td>\n",
       "      <td>VA</td>\n",
       "      <td>CIVIL VOTING AREA</td>\n",
       "      <td></td>\n",
       "      <td></td>\n",
       "      <td>POLYGON ((-0.24085 51.39215, -0.24163 51.39019...</td>\n",
       "    </tr>\n",
       "    <tr>\n",
       "      <th>15</th>\n",
       "      <td>Tudor Ward</td>\n",
       "      <td>LBW</td>\n",
       "      <td>London Borough Ward</td>\n",
       "      <td>GREATER_LONDON_AUTHORITY</td>\n",
       "      <td>345</td>\n",
       "      <td>748</td>\n",
       "      <td>51117</td>\n",
       "      <td>11468</td>\n",
       "      <td>E05000415</td>\n",
       "      <td>158.255</td>\n",
       "      <td>0.000</td>\n",
       "      <td>VA</td>\n",
       "      <td>CIVIL VOTING AREA</td>\n",
       "      <td></td>\n",
       "      <td></td>\n",
       "      <td>POLYGON ((-0.28662 51.42017, -0.28763 51.42000...</td>\n",
       "    </tr>\n",
       "    <tr>\n",
       "      <th>16</th>\n",
       "      <td>Coulsdon East Ward</td>\n",
       "      <td>LBW</td>\n",
       "      <td>London Borough Ward</td>\n",
       "      <td>GREATER_LONDON_AUTHORITY</td>\n",
       "      <td>63</td>\n",
       "      <td>752</td>\n",
       "      <td>50897</td>\n",
       "      <td>10765</td>\n",
       "      <td>E05000150</td>\n",
       "      <td>774.358</td>\n",
       "      <td>0.000</td>\n",
       "      <td>VA</td>\n",
       "      <td>CIVIL VOTING AREA</td>\n",
       "      <td></td>\n",
       "      <td></td>\n",
       "      <td>POLYGON ((-0.12861 51.32565, -0.12847 51.32558...</td>\n",
       "    </tr>\n",
       "    <tr>\n",
       "      <th>17</th>\n",
       "      <td>Selsdon and Ballards Ward</td>\n",
       "      <td>LBW</td>\n",
       "      <td>London Borough Ward</td>\n",
       "      <td>GREATER_LONDON_AUTHORITY</td>\n",
       "      <td>64</td>\n",
       "      <td>753</td>\n",
       "      <td>50900</td>\n",
       "      <td>10768</td>\n",
       "      <td>E05000162</td>\n",
       "      <td>639.834</td>\n",
       "      <td>0.000</td>\n",
       "      <td>VA</td>\n",
       "      <td>CIVIL VOTING AREA</td>\n",
       "      <td></td>\n",
       "      <td></td>\n",
       "      <td>POLYGON ((-0.05628 51.32166, -0.05618 51.32171...</td>\n",
       "    </tr>\n",
       "    <tr>\n",
       "      <th>18</th>\n",
       "      <td>Coulsdon West Ward</td>\n",
       "      <td>LBW</td>\n",
       "      <td>London Borough Ward</td>\n",
       "      <td>GREATER_LONDON_AUTHORITY</td>\n",
       "      <td>96</td>\n",
       "      <td>754</td>\n",
       "      <td>51328</td>\n",
       "      <td>10894</td>\n",
       "      <td>E05000151</td>\n",
       "      <td>499.147</td>\n",
       "      <td>0.000</td>\n",
       "      <td>VA</td>\n",
       "      <td>CIVIL VOTING AREA</td>\n",
       "      <td></td>\n",
       "      <td></td>\n",
       "      <td>POLYGON ((-0.15657 51.32151, -0.15652 51.32152...</td>\n",
       "    </tr>\n",
       "    <tr>\n",
       "      <th>19</th>\n",
       "      <td>Waddon Ward</td>\n",
       "      <td>LBW</td>\n",
       "      <td>London Borough Ward</td>\n",
       "      <td>GREATER_LONDON_AUTHORITY</td>\n",
       "      <td>112</td>\n",
       "      <td>755</td>\n",
       "      <td>51256</td>\n",
       "      <td>10998</td>\n",
       "      <td>E05000167</td>\n",
       "      <td>364.759</td>\n",
       "      <td>0.000</td>\n",
       "      <td>VA</td>\n",
       "      <td>CIVIL VOTING AREA</td>\n",
       "      <td></td>\n",
       "      <td></td>\n",
       "      <td>POLYGON ((-0.10666 51.34892, -0.10690 51.34857...</td>\n",
       "    </tr>\n",
       "    <tr>\n",
       "      <th>20</th>\n",
       "      <td>Kenley Ward</td>\n",
       "      <td>LBW</td>\n",
       "      <td>London Borough Ward</td>\n",
       "      <td>GREATER_LONDON_AUTHORITY</td>\n",
       "      <td>129</td>\n",
       "      <td>756</td>\n",
       "      <td>50898</td>\n",
       "      <td>10766</td>\n",
       "      <td>E05000156</td>\n",
       "      <td>645.593</td>\n",
       "      <td>0.000</td>\n",
       "      <td>VA</td>\n",
       "      <td>CIVIL VOTING AREA</td>\n",
       "      <td></td>\n",
       "      <td></td>\n",
       "      <td>POLYGON ((-0.11979 51.33583, -0.11774 51.33497...</td>\n",
       "    </tr>\n",
       "    <tr>\n",
       "      <th>21</th>\n",
       "      <td>Purley Ward</td>\n",
       "      <td>LBW</td>\n",
       "      <td>London Borough Ward</td>\n",
       "      <td>GREATER_LONDON_AUTHORITY</td>\n",
       "      <td>130</td>\n",
       "      <td>757</td>\n",
       "      <td>51329</td>\n",
       "      <td>10895</td>\n",
       "      <td>E05000159</td>\n",
       "      <td>417.518</td>\n",
       "      <td>0.000</td>\n",
       "      <td>VA</td>\n",
       "      <td>CIVIL VOTING AREA</td>\n",
       "      <td></td>\n",
       "      <td></td>\n",
       "      <td>POLYGON ((-0.14427 51.33991, -0.14432 51.34021...</td>\n",
       "    </tr>\n",
       "    <tr>\n",
       "      <th>22</th>\n",
       "      <td>Sanderstead Ward</td>\n",
       "      <td>LBW</td>\n",
       "      <td>London Borough Ward</td>\n",
       "      <td>GREATER_LONDON_AUTHORITY</td>\n",
       "      <td>131</td>\n",
       "      <td>758</td>\n",
       "      <td>50899</td>\n",
       "      <td>10767</td>\n",
       "      <td>E05000160</td>\n",
       "      <td>634.600</td>\n",
       "      <td>0.000</td>\n",
       "      <td>VA</td>\n",
       "      <td>CIVIL VOTING AREA</td>\n",
       "      <td></td>\n",
       "      <td></td>\n",
       "      <td>POLYGON ((-0.06402 51.31864, -0.06408 51.31861...</td>\n",
       "    </tr>\n",
       "    <tr>\n",
       "      <th>23</th>\n",
       "      <td>Heathfield Ward</td>\n",
       "      <td>LBW</td>\n",
       "      <td>London Borough Ward</td>\n",
       "      <td>GREATER_LONDON_AUTHORITY</td>\n",
       "      <td>133</td>\n",
       "      <td>759</td>\n",
       "      <td>51332</td>\n",
       "      <td>10898</td>\n",
       "      <td>E05000155</td>\n",
       "      <td>871.342</td>\n",
       "      <td>0.000</td>\n",
       "      <td>VA</td>\n",
       "      <td>CIVIL VOTING AREA</td>\n",
       "      <td></td>\n",
       "      <td></td>\n",
       "      <td>POLYGON ((-0.06888 51.36274, -0.06885 51.36275...</td>\n",
       "    </tr>\n",
       "    <tr>\n",
       "      <th>24</th>\n",
       "      <td>Fairfield Ward</td>\n",
       "      <td>LBW</td>\n",
       "      <td>London Borough Ward</td>\n",
       "      <td>GREATER_LONDON_AUTHORITY</td>\n",
       "      <td>134</td>\n",
       "      <td>760</td>\n",
       "      <td>51198</td>\n",
       "      <td>11028</td>\n",
       "      <td>E05000153</td>\n",
       "      <td>377.221</td>\n",
       "      <td>0.000</td>\n",
       "      <td>VA</td>\n",
       "      <td>CIVIL VOTING AREA</td>\n",
       "      <td></td>\n",
       "      <td></td>\n",
       "      <td>POLYGON ((-0.06379 51.37556, -0.06350 51.37499...</td>\n",
       "    </tr>\n",
       "    <tr>\n",
       "      <th>25</th>\n",
       "      <td>Broad Green Ward</td>\n",
       "      <td>LBW</td>\n",
       "      <td>London Borough Ward</td>\n",
       "      <td>GREATER_LONDON_AUTHORITY</td>\n",
       "      <td>333</td>\n",
       "      <td>761</td>\n",
       "      <td>51196</td>\n",
       "      <td>11026</td>\n",
       "      <td>E05000149</td>\n",
       "      <td>266.195</td>\n",
       "      <td>0.000</td>\n",
       "      <td>VA</td>\n",
       "      <td>CIVIL VOTING AREA</td>\n",
       "      <td></td>\n",
       "      <td></td>\n",
       "      <td>POLYGON ((-0.12336 51.37055, -0.12336 51.37062...</td>\n",
       "    </tr>\n",
       "    <tr>\n",
       "      <th>26</th>\n",
       "      <td>West Thornton Ward</td>\n",
       "      <td>LBW</td>\n",
       "      <td>London Borough Ward</td>\n",
       "      <td>GREATER_LONDON_AUTHORITY</td>\n",
       "      <td>340</td>\n",
       "      <td>762</td>\n",
       "      <td>51197</td>\n",
       "      <td>11027</td>\n",
       "      <td>E05000168</td>\n",
       "      <td>197.117</td>\n",
       "      <td>0.000</td>\n",
       "      <td>VA</td>\n",
       "      <td>CIVIL VOTING AREA</td>\n",
       "      <td></td>\n",
       "      <td></td>\n",
       "      <td>POLYGON ((-0.13263 51.39013, -0.13271 51.39016...</td>\n",
       "    </tr>\n",
       "    <tr>\n",
       "      <th>27</th>\n",
       "      <td>Bensham Manor Ward</td>\n",
       "      <td>LBW</td>\n",
       "      <td>London Borough Ward</td>\n",
       "      <td>GREATER_LONDON_AUTHORITY</td>\n",
       "      <td>341</td>\n",
       "      <td>763</td>\n",
       "      <td>51145</td>\n",
       "      <td>11063</td>\n",
       "      <td>E05000148</td>\n",
       "      <td>144.147</td>\n",
       "      <td>0.000</td>\n",
       "      <td>VA</td>\n",
       "      <td>CIVIL VOTING AREA</td>\n",
       "      <td></td>\n",
       "      <td></td>\n",
       "      <td>POLYGON ((-0.10397 51.38893, -0.10401 51.38898...</td>\n",
       "    </tr>\n",
       "    <tr>\n",
       "      <th>28</th>\n",
       "      <td>Norbury Ward</td>\n",
       "      <td>LBW</td>\n",
       "      <td>London Borough Ward</td>\n",
       "      <td>GREATER_LONDON_AUTHORITY</td>\n",
       "      <td>344</td>\n",
       "      <td>764</td>\n",
       "      <td>51192</td>\n",
       "      <td>11022</td>\n",
       "      <td>E05000158</td>\n",
       "      <td>251.818</td>\n",
       "      <td>0.000</td>\n",
       "      <td>VA</td>\n",
       "      <td>CIVIL VOTING AREA</td>\n",
       "      <td></td>\n",
       "      <td></td>\n",
       "      <td>POLYGON ((-0.11862 51.40190, -0.11924 51.40165...</td>\n",
       "    </tr>\n",
       "    <tr>\n",
       "      <th>29</th>\n",
       "      <td>New Addington Ward</td>\n",
       "      <td>LBW</td>\n",
       "      <td>London Borough Ward</td>\n",
       "      <td>GREATER_LONDON_AUTHORITY</td>\n",
       "      <td>386</td>\n",
       "      <td>765</td>\n",
       "      <td>50901</td>\n",
       "      <td>10769</td>\n",
       "      <td>E05000157</td>\n",
       "      <td>241.710</td>\n",
       "      <td>0.000</td>\n",
       "      <td>VA</td>\n",
       "      <td>CIVIL VOTING AREA</td>\n",
       "      <td></td>\n",
       "      <td></td>\n",
       "      <td>POLYGON ((-0.02235 51.34803, -0.02221 51.34790...</td>\n",
       "    </tr>\n",
       "    <tr>\n",
       "      <th>...</th>\n",
       "      <td>...</td>\n",
       "      <td>...</td>\n",
       "      <td>...</td>\n",
       "      <td>...</td>\n",
       "      <td>...</td>\n",
       "      <td>...</td>\n",
       "      <td>...</td>\n",
       "      <td>...</td>\n",
       "      <td>...</td>\n",
       "      <td>...</td>\n",
       "      <td>...</td>\n",
       "      <td>...</td>\n",
       "      <td>...</td>\n",
       "      <td>...</td>\n",
       "      <td>...</td>\n",
       "      <td>...</td>\n",
       "    </tr>\n",
       "    <tr>\n",
       "      <th>619</th>\n",
       "      <td>Heath Ward</td>\n",
       "      <td>LBW</td>\n",
       "      <td>London Borough Ward</td>\n",
       "      <td>GREATER_LONDON_AUTHORITY</td>\n",
       "      <td>641</td>\n",
       "      <td>1427</td>\n",
       "      <td>117021</td>\n",
       "      <td>10937</td>\n",
       "      <td>E05000034</td>\n",
       "      <td>200.128</td>\n",
       "      <td>0.000</td>\n",
       "      <td>VA</td>\n",
       "      <td>CIVIL VOTING AREA</td>\n",
       "      <td></td>\n",
       "      <td></td>\n",
       "      <td>POLYGON ((0.15428 51.56614, 0.15465 51.56588, ...</td>\n",
       "    </tr>\n",
       "    <tr>\n",
       "      <th>620</th>\n",
       "      <td>Whalebone Ward</td>\n",
       "      <td>LBW</td>\n",
       "      <td>London Borough Ward</td>\n",
       "      <td>GREATER_LONDON_AUTHORITY</td>\n",
       "      <td>642</td>\n",
       "      <td>1428</td>\n",
       "      <td>117022</td>\n",
       "      <td>10950</td>\n",
       "      <td>E05000042</td>\n",
       "      <td>155.399</td>\n",
       "      <td>0.000</td>\n",
       "      <td>VA</td>\n",
       "      <td>CIVIL VOTING AREA</td>\n",
       "      <td></td>\n",
       "      <td></td>\n",
       "      <td>POLYGON ((0.15428 51.56614, 0.15399 51.56612, ...</td>\n",
       "    </tr>\n",
       "    <tr>\n",
       "      <th>621</th>\n",
       "      <td>Eastbrook Ward</td>\n",
       "      <td>LBW</td>\n",
       "      <td>London Borough Ward</td>\n",
       "      <td>GREATER_LONDON_AUTHORITY</td>\n",
       "      <td>643</td>\n",
       "      <td>1429</td>\n",
       "      <td>50856</td>\n",
       "      <td>10812</td>\n",
       "      <td>E05000030</td>\n",
       "      <td>345.060</td>\n",
       "      <td>0.000</td>\n",
       "      <td>VA</td>\n",
       "      <td>CIVIL VOTING AREA</td>\n",
       "      <td></td>\n",
       "      <td></td>\n",
       "      <td>POLYGON ((0.16157 51.54333, 0.16156 51.54378, ...</td>\n",
       "    </tr>\n",
       "    <tr>\n",
       "      <th>622</th>\n",
       "      <td>Chadwell Heath Ward</td>\n",
       "      <td>LBW</td>\n",
       "      <td>London Borough Ward</td>\n",
       "      <td>GREATER_LONDON_AUTHORITY</td>\n",
       "      <td>645</td>\n",
       "      <td>1430</td>\n",
       "      <td>117014</td>\n",
       "      <td>10952</td>\n",
       "      <td>E05000029</td>\n",
       "      <td>338.422</td>\n",
       "      <td>0.000</td>\n",
       "      <td>VA</td>\n",
       "      <td>CIVIL VOTING AREA</td>\n",
       "      <td></td>\n",
       "      <td></td>\n",
       "      <td>POLYGON ((0.13003 51.57075, 0.12999 51.57080, ...</td>\n",
       "    </tr>\n",
       "    <tr>\n",
       "      <th>623</th>\n",
       "      <td>Parsloes Ward</td>\n",
       "      <td>LBW</td>\n",
       "      <td>London Borough Ward</td>\n",
       "      <td>GREATER_LONDON_AUTHORITY</td>\n",
       "      <td>712</td>\n",
       "      <td>1431</td>\n",
       "      <td>117017</td>\n",
       "      <td>41837</td>\n",
       "      <td>E05000037</td>\n",
       "      <td>124.384</td>\n",
       "      <td>0.000</td>\n",
       "      <td>VA</td>\n",
       "      <td>CIVIL VOTING AREA</td>\n",
       "      <td></td>\n",
       "      <td></td>\n",
       "      <td>POLYGON ((0.12431 51.55143, 0.12425 51.55145, ...</td>\n",
       "    </tr>\n",
       "    <tr>\n",
       "      <th>624</th>\n",
       "      <td>Castle Baynard Ward</td>\n",
       "      <td>LBW</td>\n",
       "      <td>London Borough Ward</td>\n",
       "      <td>GREATER_LONDON_AUTHORITY</td>\n",
       "      <td>679</td>\n",
       "      <td>1434</td>\n",
       "      <td>122502</td>\n",
       "      <td>11096</td>\n",
       "      <td>E05009297</td>\n",
       "      <td>35.639</td>\n",
       "      <td>6.686</td>\n",
       "      <td>VA</td>\n",
       "      <td>CIVIL VOTING AREA</td>\n",
       "      <td></td>\n",
       "      <td></td>\n",
       "      <td>POLYGON ((-0.10849 51.50989, -0.10849 51.50998...</td>\n",
       "    </tr>\n",
       "    <tr>\n",
       "      <th>625</th>\n",
       "      <td>Farringdon Without Ward</td>\n",
       "      <td>LBW</td>\n",
       "      <td>London Borough Ward</td>\n",
       "      <td>GREATER_LONDON_AUTHORITY</td>\n",
       "      <td>680</td>\n",
       "      <td>1435</td>\n",
       "      <td>122517</td>\n",
       "      <td>11116</td>\n",
       "      <td>E05009305</td>\n",
       "      <td>32.996</td>\n",
       "      <td>2.271</td>\n",
       "      <td>VA</td>\n",
       "      <td>CIVIL VOTING AREA</td>\n",
       "      <td></td>\n",
       "      <td></td>\n",
       "      <td>POLYGON ((-0.10667 51.51665, -0.10718 51.51722...</td>\n",
       "    </tr>\n",
       "    <tr>\n",
       "      <th>626</th>\n",
       "      <td>Farringdon Within Ward</td>\n",
       "      <td>LBW</td>\n",
       "      <td>London Borough Ward</td>\n",
       "      <td>GREATER_LONDON_AUTHORITY</td>\n",
       "      <td>681</td>\n",
       "      <td>1436</td>\n",
       "      <td>122518</td>\n",
       "      <td>11104</td>\n",
       "      <td>E05009304</td>\n",
       "      <td>24.375</td>\n",
       "      <td>0.000</td>\n",
       "      <td>VA</td>\n",
       "      <td>CIVIL VOTING AREA</td>\n",
       "      <td></td>\n",
       "      <td></td>\n",
       "      <td>POLYGON ((-0.09762 51.52103, -0.09729 51.51935...</td>\n",
       "    </tr>\n",
       "    <tr>\n",
       "      <th>627</th>\n",
       "      <td>Cripplegate Ward</td>\n",
       "      <td>LBW</td>\n",
       "      <td>London Borough Ward</td>\n",
       "      <td>GREATER_LONDON_AUTHORITY</td>\n",
       "      <td>690</td>\n",
       "      <td>1437</td>\n",
       "      <td>122522</td>\n",
       "      <td>11103</td>\n",
       "      <td>E05009302</td>\n",
       "      <td>12.717</td>\n",
       "      <td>0.000</td>\n",
       "      <td>VA</td>\n",
       "      <td>CIVIL VOTING AREA</td>\n",
       "      <td></td>\n",
       "      <td></td>\n",
       "      <td>POLYGON ((-0.09237 51.52103, -0.09246 51.52097...</td>\n",
       "    </tr>\n",
       "    <tr>\n",
       "      <th>628</th>\n",
       "      <td>Langbourn Ward</td>\n",
       "      <td>LBW</td>\n",
       "      <td>London Borough Ward</td>\n",
       "      <td>GREATER_LONDON_AUTHORITY</td>\n",
       "      <td>697</td>\n",
       "      <td>1438</td>\n",
       "      <td>122513</td>\n",
       "      <td>11167</td>\n",
       "      <td>E05009306</td>\n",
       "      <td>5.193</td>\n",
       "      <td>0.000</td>\n",
       "      <td>VA</td>\n",
       "      <td>CIVIL VOTING AREA</td>\n",
       "      <td></td>\n",
       "      <td></td>\n",
       "      <td>POLYGON ((-0.08306 51.51156, -0.08381 51.51165...</td>\n",
       "    </tr>\n",
       "    <tr>\n",
       "      <th>629</th>\n",
       "      <td>Tower Ward</td>\n",
       "      <td>LBW</td>\n",
       "      <td>London Borough Ward</td>\n",
       "      <td>GREATER_LONDON_AUTHORITY</td>\n",
       "      <td>698</td>\n",
       "      <td>1439</td>\n",
       "      <td>122515</td>\n",
       "      <td>11169</td>\n",
       "      <td>E05009310</td>\n",
       "      <td>19.867</td>\n",
       "      <td>0.736</td>\n",
       "      <td>VA</td>\n",
       "      <td>CIVIL VOTING AREA</td>\n",
       "      <td></td>\n",
       "      <td></td>\n",
       "      <td>POLYGON ((-0.08024 51.51210, -0.07973 51.51225...</td>\n",
       "    </tr>\n",
       "    <tr>\n",
       "      <th>630</th>\n",
       "      <td>Bishopsgate Ward</td>\n",
       "      <td>LBW</td>\n",
       "      <td>London Borough Ward</td>\n",
       "      <td>GREATER_LONDON_AUTHORITY</td>\n",
       "      <td>700</td>\n",
       "      <td>1440</td>\n",
       "      <td>50670</td>\n",
       "      <td>11196</td>\n",
       "      <td>E05009292</td>\n",
       "      <td>25.385</td>\n",
       "      <td>0.000</td>\n",
       "      <td>VA</td>\n",
       "      <td>CIVIL VOTING AREA</td>\n",
       "      <td></td>\n",
       "      <td></td>\n",
       "      <td>POLYGON ((-0.08623 51.51881, -0.08590 51.51929...</td>\n",
       "    </tr>\n",
       "    <tr>\n",
       "      <th>631</th>\n",
       "      <td>Queenhithe Ward</td>\n",
       "      <td>LBW</td>\n",
       "      <td>London Borough Ward</td>\n",
       "      <td>GREATER_LONDON_AUTHORITY</td>\n",
       "      <td>713</td>\n",
       "      <td>1441</td>\n",
       "      <td>51176</td>\n",
       "      <td>11094</td>\n",
       "      <td>E05009309</td>\n",
       "      <td>7.948</td>\n",
       "      <td>3.583</td>\n",
       "      <td>VA</td>\n",
       "      <td>CIVIL VOTING AREA</td>\n",
       "      <td></td>\n",
       "      <td></td>\n",
       "      <td>POLYGON ((-0.09848 51.51195, -0.09843 51.51195...</td>\n",
       "    </tr>\n",
       "    <tr>\n",
       "      <th>632</th>\n",
       "      <td>Vintry Ward</td>\n",
       "      <td>LBW</td>\n",
       "      <td>London Borough Ward</td>\n",
       "      <td>GREATER_LONDON_AUTHORITY</td>\n",
       "      <td>714</td>\n",
       "      <td>1442</td>\n",
       "      <td>122510</td>\n",
       "      <td>10981</td>\n",
       "      <td>E05009311</td>\n",
       "      <td>10.401</td>\n",
       "      <td>2.406</td>\n",
       "      <td>VA</td>\n",
       "      <td>CIVIL VOTING AREA</td>\n",
       "      <td></td>\n",
       "      <td></td>\n",
       "      <td>POLYGON ((-0.09265 51.50851, -0.09282 51.50855...</td>\n",
       "    </tr>\n",
       "    <tr>\n",
       "      <th>633</th>\n",
       "      <td>Cordwainer Ward</td>\n",
       "      <td>LBW</td>\n",
       "      <td>London Borough Ward</td>\n",
       "      <td>GREATER_LONDON_AUTHORITY</td>\n",
       "      <td>715</td>\n",
       "      <td>1443</td>\n",
       "      <td>122507</td>\n",
       "      <td>11092</td>\n",
       "      <td>E05009300</td>\n",
       "      <td>5.965</td>\n",
       "      <td>0.000</td>\n",
       "      <td>VA</td>\n",
       "      <td>CIVIL VOTING AREA</td>\n",
       "      <td></td>\n",
       "      <td></td>\n",
       "      <td>POLYGON ((-0.09075 51.51169, -0.09077 51.51170...</td>\n",
       "    </tr>\n",
       "    <tr>\n",
       "      <th>634</th>\n",
       "      <td>Bread Street Ward</td>\n",
       "      <td>LBW</td>\n",
       "      <td>London Borough Ward</td>\n",
       "      <td>GREATER_LONDON_AUTHORITY</td>\n",
       "      <td>716</td>\n",
       "      <td>1444</td>\n",
       "      <td>122504</td>\n",
       "      <td>11093</td>\n",
       "      <td>E05009293</td>\n",
       "      <td>8.794</td>\n",
       "      <td>0.000</td>\n",
       "      <td>VA</td>\n",
       "      <td>CIVIL VOTING AREA</td>\n",
       "      <td></td>\n",
       "      <td></td>\n",
       "      <td>POLYGON ((-0.09449 51.51418, -0.09489 51.51324...</td>\n",
       "    </tr>\n",
       "    <tr>\n",
       "      <th>635</th>\n",
       "      <td>Cheap Ward</td>\n",
       "      <td>LBW</td>\n",
       "      <td>London Borough Ward</td>\n",
       "      <td>GREATER_LONDON_AUTHORITY</td>\n",
       "      <td>717</td>\n",
       "      <td>1445</td>\n",
       "      <td>122503</td>\n",
       "      <td>10979</td>\n",
       "      <td>E05009298</td>\n",
       "      <td>9.161</td>\n",
       "      <td>0.000</td>\n",
       "      <td>VA</td>\n",
       "      <td>CIVIL VOTING AREA</td>\n",
       "      <td></td>\n",
       "      <td></td>\n",
       "      <td>POLYGON ((-0.09449 51.51418, -0.09501 51.51427...</td>\n",
       "    </tr>\n",
       "    <tr>\n",
       "      <th>636</th>\n",
       "      <td>Bassishaw Ward</td>\n",
       "      <td>LBW</td>\n",
       "      <td>London Borough Ward</td>\n",
       "      <td>GREATER_LONDON_AUTHORITY</td>\n",
       "      <td>718</td>\n",
       "      <td>1446</td>\n",
       "      <td>122519</td>\n",
       "      <td>11102</td>\n",
       "      <td>E05009290</td>\n",
       "      <td>10.658</td>\n",
       "      <td>0.000</td>\n",
       "      <td>VA</td>\n",
       "      <td>CIVIL VOTING AREA</td>\n",
       "      <td></td>\n",
       "      <td></td>\n",
       "      <td>POLYGON ((-0.09107 51.51541, -0.09190 51.51543...</td>\n",
       "    </tr>\n",
       "    <tr>\n",
       "      <th>637</th>\n",
       "      <td>Aldersgate Ward</td>\n",
       "      <td>LBW</td>\n",
       "      <td>London Borough Ward</td>\n",
       "      <td>GREATER_LONDON_AUTHORITY</td>\n",
       "      <td>719</td>\n",
       "      <td>1447</td>\n",
       "      <td>122521</td>\n",
       "      <td>11106</td>\n",
       "      <td>E05009288</td>\n",
       "      <td>9.795</td>\n",
       "      <td>0.000</td>\n",
       "      <td>VA</td>\n",
       "      <td>CIVIL VOTING AREA</td>\n",
       "      <td></td>\n",
       "      <td></td>\n",
       "      <td>POLYGON ((-0.09740 51.52159, -0.09730 51.52158...</td>\n",
       "    </tr>\n",
       "    <tr>\n",
       "      <th>638</th>\n",
       "      <td>Dowgate Ward</td>\n",
       "      <td>LBW</td>\n",
       "      <td>London Borough Ward</td>\n",
       "      <td>GREATER_LONDON_AUTHORITY</td>\n",
       "      <td>720</td>\n",
       "      <td>1448</td>\n",
       "      <td>122509</td>\n",
       "      <td>11091</td>\n",
       "      <td>E05009303</td>\n",
       "      <td>9.568</td>\n",
       "      <td>2.507</td>\n",
       "      <td>VA</td>\n",
       "      <td>CIVIL VOTING AREA</td>\n",
       "      <td></td>\n",
       "      <td></td>\n",
       "      <td>POLYGON ((-0.09265 51.50851, -0.09199 51.50940...</td>\n",
       "    </tr>\n",
       "    <tr>\n",
       "      <th>639</th>\n",
       "      <td>Bridge Ward</td>\n",
       "      <td>LBW</td>\n",
       "      <td>London Borough Ward</td>\n",
       "      <td>GREATER_LONDON_AUTHORITY</td>\n",
       "      <td>721</td>\n",
       "      <td>1449</td>\n",
       "      <td>122506</td>\n",
       "      <td>11168</td>\n",
       "      <td>E05009294</td>\n",
       "      <td>9.421</td>\n",
       "      <td>2.413</td>\n",
       "      <td>VA</td>\n",
       "      <td>CIVIL VOTING AREA</td>\n",
       "      <td></td>\n",
       "      <td></td>\n",
       "      <td>POLYGON ((-0.08798 51.51023, -0.08780 51.51031...</td>\n",
       "    </tr>\n",
       "    <tr>\n",
       "      <th>640</th>\n",
       "      <td>Billingsgate Ward</td>\n",
       "      <td>LBW</td>\n",
       "      <td>London Borough Ward</td>\n",
       "      <td>GREATER_LONDON_AUTHORITY</td>\n",
       "      <td>722</td>\n",
       "      <td>1450</td>\n",
       "      <td>122512</td>\n",
       "      <td>11170</td>\n",
       "      <td>E05009291</td>\n",
       "      <td>12.067</td>\n",
       "      <td>3.944</td>\n",
       "      <td>VA</td>\n",
       "      <td>CIVIL VOTING AREA</td>\n",
       "      <td></td>\n",
       "      <td></td>\n",
       "      <td>POLYGON ((-0.08548 51.50860, -0.08548 51.50861...</td>\n",
       "    </tr>\n",
       "    <tr>\n",
       "      <th>641</th>\n",
       "      <td>Walbrook Ward</td>\n",
       "      <td>LBW</td>\n",
       "      <td>London Borough Ward</td>\n",
       "      <td>GREATER_LONDON_AUTHORITY</td>\n",
       "      <td>723</td>\n",
       "      <td>1451</td>\n",
       "      <td>122511</td>\n",
       "      <td>10980</td>\n",
       "      <td>E05009312</td>\n",
       "      <td>7.474</td>\n",
       "      <td>0.000</td>\n",
       "      <td>VA</td>\n",
       "      <td>CIVIL VOTING AREA</td>\n",
       "      <td></td>\n",
       "      <td></td>\n",
       "      <td>POLYGON ((-0.08840 51.51279, -0.08858 51.51259...</td>\n",
       "    </tr>\n",
       "    <tr>\n",
       "      <th>642</th>\n",
       "      <td>Cornhill Ward</td>\n",
       "      <td>LBW</td>\n",
       "      <td>London Borough Ward</td>\n",
       "      <td>GREATER_LONDON_AUTHORITY</td>\n",
       "      <td>724</td>\n",
       "      <td>1452</td>\n",
       "      <td>122508</td>\n",
       "      <td>11166</td>\n",
       "      <td>E05009301</td>\n",
       "      <td>6.478</td>\n",
       "      <td>0.000</td>\n",
       "      <td>VA</td>\n",
       "      <td>CIVIL VOTING AREA</td>\n",
       "      <td></td>\n",
       "      <td></td>\n",
       "      <td>POLYGON ((-0.08550 51.51484, -0.08532 51.51491...</td>\n",
       "    </tr>\n",
       "    <tr>\n",
       "      <th>643</th>\n",
       "      <td>Lime Street Ward</td>\n",
       "      <td>LBW</td>\n",
       "      <td>London Borough Ward</td>\n",
       "      <td>GREATER_LONDON_AUTHORITY</td>\n",
       "      <td>725</td>\n",
       "      <td>1453</td>\n",
       "      <td>122514</td>\n",
       "      <td>11165</td>\n",
       "      <td>E05009307</td>\n",
       "      <td>5.096</td>\n",
       "      <td>0.000</td>\n",
       "      <td>VA</td>\n",
       "      <td>CIVIL VOTING AREA</td>\n",
       "      <td></td>\n",
       "      <td></td>\n",
       "      <td>POLYGON ((-0.08250 51.51536, -0.08221 51.51524...</td>\n",
       "    </tr>\n",
       "    <tr>\n",
       "      <th>644</th>\n",
       "      <td>Aldgate Ward</td>\n",
       "      <td>LBW</td>\n",
       "      <td>London Borough Ward</td>\n",
       "      <td>GREATER_LONDON_AUTHORITY</td>\n",
       "      <td>726</td>\n",
       "      <td>1454</td>\n",
       "      <td>51182</td>\n",
       "      <td>11100</td>\n",
       "      <td>E05009289</td>\n",
       "      <td>11.230</td>\n",
       "      <td>0.000</td>\n",
       "      <td>VA</td>\n",
       "      <td>CIVIL VOTING AREA</td>\n",
       "      <td></td>\n",
       "      <td></td>\n",
       "      <td>POLYGON ((-0.08024 51.51210, -0.08036 51.51258...</td>\n",
       "    </tr>\n",
       "    <tr>\n",
       "      <th>645</th>\n",
       "      <td>Broad Street Ward</td>\n",
       "      <td>LBW</td>\n",
       "      <td>London Borough Ward</td>\n",
       "      <td>GREATER_LONDON_AUTHORITY</td>\n",
       "      <td>727</td>\n",
       "      <td>1455</td>\n",
       "      <td>50669</td>\n",
       "      <td>11195</td>\n",
       "      <td>E05009295</td>\n",
       "      <td>8.157</td>\n",
       "      <td>0.000</td>\n",
       "      <td>VA</td>\n",
       "      <td>CIVIL VOTING AREA</td>\n",
       "      <td></td>\n",
       "      <td></td>\n",
       "      <td>POLYGON ((-0.08447 51.51778, -0.08313 51.51757...</td>\n",
       "    </tr>\n",
       "    <tr>\n",
       "      <th>646</th>\n",
       "      <td>Coleman Street Ward</td>\n",
       "      <td>LBW</td>\n",
       "      <td>London Borough Ward</td>\n",
       "      <td>GREATER_LONDON_AUTHORITY</td>\n",
       "      <td>728</td>\n",
       "      <td>1456</td>\n",
       "      <td>122520</td>\n",
       "      <td>11101</td>\n",
       "      <td>E05009299</td>\n",
       "      <td>15.061</td>\n",
       "      <td>0.000</td>\n",
       "      <td>VA</td>\n",
       "      <td>CIVIL VOTING AREA</td>\n",
       "      <td></td>\n",
       "      <td></td>\n",
       "      <td>POLYGON ((-0.08623 51.51881, -0.08618 51.51879...</td>\n",
       "    </tr>\n",
       "    <tr>\n",
       "      <th>647</th>\n",
       "      <td>Portsoken Ward</td>\n",
       "      <td>LBW</td>\n",
       "      <td>London Borough Ward</td>\n",
       "      <td>GREATER_LONDON_AUTHORITY</td>\n",
       "      <td>729</td>\n",
       "      <td>1457</td>\n",
       "      <td>122516</td>\n",
       "      <td>11194</td>\n",
       "      <td>E05009308</td>\n",
       "      <td>6.288</td>\n",
       "      <td>0.000</td>\n",
       "      <td>VA</td>\n",
       "      <td>CIVIL VOTING AREA</td>\n",
       "      <td></td>\n",
       "      <td></td>\n",
       "      <td>POLYGON ((-0.07306 51.51181, -0.07389 51.51173...</td>\n",
       "    </tr>\n",
       "    <tr>\n",
       "      <th>648</th>\n",
       "      <td>Candlewick Ward</td>\n",
       "      <td>LBW</td>\n",
       "      <td>London Borough Ward</td>\n",
       "      <td>GREATER_LONDON_AUTHORITY</td>\n",
       "      <td>730</td>\n",
       "      <td>1458</td>\n",
       "      <td>122505</td>\n",
       "      <td>10857</td>\n",
       "      <td>E05009296</td>\n",
       "      <td>5.209</td>\n",
       "      <td>0.000</td>\n",
       "      <td>VA</td>\n",
       "      <td>CIVIL VOTING AREA</td>\n",
       "      <td></td>\n",
       "      <td></td>\n",
       "      <td>POLYGON ((-0.08941 51.51144, -0.08931 51.51163...</td>\n",
       "    </tr>\n",
       "  </tbody>\n",
       "</table>\n",
       "<p>649 rows × 16 columns</p>\n",
       "</div>"
      ],
      "text/plain": [
       "                                NAME AREA_CODE           DESCRIPTIO  \\\n",
       "0             Chessington South Ward       LBW  London Borough Ward   \n",
       "1        Tolworth and Hook Rise Ward       LBW  London Borough Ward   \n",
       "2                    Berrylands Ward       LBW  London Borough Ward   \n",
       "3                     Alexandra Ward       LBW  London Borough Ward   \n",
       "4                      Beverley Ward       LBW  London Borough Ward   \n",
       "5                   Coombe Hill Ward       LBW  London Borough Ward   \n",
       "6    Chessington North and Hook Ward       LBW  London Borough Ward   \n",
       "7                 Surbiton Hill Ward       LBW  London Borough Ward   \n",
       "8                    Old Malden Ward       LBW  London Borough Ward   \n",
       "9                    St. Mark's Ward       LBW  London Borough Ward   \n",
       "10                        Grove Ward       LBW  London Borough Ward   \n",
       "11                      Canbury Ward       LBW  London Borough Ward   \n",
       "12                     Norbiton Ward       LBW  London Borough Ward   \n",
       "13                  Coombe Vale Ward       LBW  London Borough Ward   \n",
       "14                    St. James Ward       LBW  London Borough Ward   \n",
       "15                        Tudor Ward       LBW  London Borough Ward   \n",
       "16                Coulsdon East Ward       LBW  London Borough Ward   \n",
       "17         Selsdon and Ballards Ward       LBW  London Borough Ward   \n",
       "18                Coulsdon West Ward       LBW  London Borough Ward   \n",
       "19                       Waddon Ward       LBW  London Borough Ward   \n",
       "20                       Kenley Ward       LBW  London Borough Ward   \n",
       "21                       Purley Ward       LBW  London Borough Ward   \n",
       "22                  Sanderstead Ward       LBW  London Borough Ward   \n",
       "23                   Heathfield Ward       LBW  London Borough Ward   \n",
       "24                    Fairfield Ward       LBW  London Borough Ward   \n",
       "25                  Broad Green Ward       LBW  London Borough Ward   \n",
       "26                West Thornton Ward       LBW  London Borough Ward   \n",
       "27                Bensham Manor Ward       LBW  London Borough Ward   \n",
       "28                      Norbury Ward       LBW  London Borough Ward   \n",
       "29                New Addington Ward       LBW  London Borough Ward   \n",
       "..                               ...       ...                  ...   \n",
       "619                       Heath Ward       LBW  London Borough Ward   \n",
       "620                   Whalebone Ward       LBW  London Borough Ward   \n",
       "621                   Eastbrook Ward       LBW  London Borough Ward   \n",
       "622              Chadwell Heath Ward       LBW  London Borough Ward   \n",
       "623                    Parsloes Ward       LBW  London Borough Ward   \n",
       "624              Castle Baynard Ward       LBW  London Borough Ward   \n",
       "625          Farringdon Without Ward       LBW  London Borough Ward   \n",
       "626           Farringdon Within Ward       LBW  London Borough Ward   \n",
       "627                 Cripplegate Ward       LBW  London Borough Ward   \n",
       "628                   Langbourn Ward       LBW  London Borough Ward   \n",
       "629                       Tower Ward       LBW  London Borough Ward   \n",
       "630                 Bishopsgate Ward       LBW  London Borough Ward   \n",
       "631                  Queenhithe Ward       LBW  London Borough Ward   \n",
       "632                      Vintry Ward       LBW  London Borough Ward   \n",
       "633                  Cordwainer Ward       LBW  London Borough Ward   \n",
       "634                Bread Street Ward       LBW  London Borough Ward   \n",
       "635                       Cheap Ward       LBW  London Borough Ward   \n",
       "636                   Bassishaw Ward       LBW  London Borough Ward   \n",
       "637                  Aldersgate Ward       LBW  London Borough Ward   \n",
       "638                     Dowgate Ward       LBW  London Borough Ward   \n",
       "639                      Bridge Ward       LBW  London Borough Ward   \n",
       "640                Billingsgate Ward       LBW  London Borough Ward   \n",
       "641                    Walbrook Ward       LBW  London Borough Ward   \n",
       "642                    Cornhill Ward       LBW  London Borough Ward   \n",
       "643                 Lime Street Ward       LBW  London Borough Ward   \n",
       "644                     Aldgate Ward       LBW  London Borough Ward   \n",
       "645                Broad Street Ward       LBW  London Borough Ward   \n",
       "646              Coleman Street Ward       LBW  London Borough Ward   \n",
       "647                   Portsoken Ward       LBW  London Borough Ward   \n",
       "648                  Candlewick Ward       LBW  London Borough Ward   \n",
       "\n",
       "                    FILE_NAME  NUMBER  NUMBER0  POLYGON_ID  UNIT_ID  \\\n",
       "0    GREATER_LONDON_AUTHORITY      52      733       50840    10884   \n",
       "1    GREATER_LONDON_AUTHORITY     106      734      117160    11407   \n",
       "2    GREATER_LONDON_AUTHORITY     107      735       50449    11413   \n",
       "3    GREATER_LONDON_AUTHORITY     108      736       50456    11420   \n",
       "4    GREATER_LONDON_AUTHORITY     109      737      117161    11417   \n",
       "5    GREATER_LONDON_AUTHORITY     118      738      117159    11423   \n",
       "6    GREATER_LONDON_AUTHORITY     308      739       50530    11406   \n",
       "7    GREATER_LONDON_AUTHORITY     309      740       50457    11421   \n",
       "8    GREATER_LONDON_AUTHORITY     310      741       50455    11419   \n",
       "9    GREATER_LONDON_AUTHORITY     313      742       50450    11414   \n",
       "10   GREATER_LONDON_AUTHORITY     314      743       50458    11422   \n",
       "11   GREATER_LONDON_AUTHORITY     315      744       51118    11469   \n",
       "12   GREATER_LONDON_AUTHORITY     316      745       50451    11415   \n",
       "13   GREATER_LONDON_AUTHORITY     317      746       50452    11416   \n",
       "14   GREATER_LONDON_AUTHORITY     318      747       50454    11418   \n",
       "15   GREATER_LONDON_AUTHORITY     345      748       51117    11468   \n",
       "16   GREATER_LONDON_AUTHORITY      63      752       50897    10765   \n",
       "17   GREATER_LONDON_AUTHORITY      64      753       50900    10768   \n",
       "18   GREATER_LONDON_AUTHORITY      96      754       51328    10894   \n",
       "19   GREATER_LONDON_AUTHORITY     112      755       51256    10998   \n",
       "20   GREATER_LONDON_AUTHORITY     129      756       50898    10766   \n",
       "21   GREATER_LONDON_AUTHORITY     130      757       51329    10895   \n",
       "22   GREATER_LONDON_AUTHORITY     131      758       50899    10767   \n",
       "23   GREATER_LONDON_AUTHORITY     133      759       51332    10898   \n",
       "24   GREATER_LONDON_AUTHORITY     134      760       51198    11028   \n",
       "25   GREATER_LONDON_AUTHORITY     333      761       51196    11026   \n",
       "26   GREATER_LONDON_AUTHORITY     340      762       51197    11027   \n",
       "27   GREATER_LONDON_AUTHORITY     341      763       51145    11063   \n",
       "28   GREATER_LONDON_AUTHORITY     344      764       51192    11022   \n",
       "29   GREATER_LONDON_AUTHORITY     386      765       50901    10769   \n",
       "..                        ...     ...      ...         ...      ...   \n",
       "619  GREATER_LONDON_AUTHORITY     641     1427      117021    10937   \n",
       "620  GREATER_LONDON_AUTHORITY     642     1428      117022    10950   \n",
       "621  GREATER_LONDON_AUTHORITY     643     1429       50856    10812   \n",
       "622  GREATER_LONDON_AUTHORITY     645     1430      117014    10952   \n",
       "623  GREATER_LONDON_AUTHORITY     712     1431      117017    41837   \n",
       "624  GREATER_LONDON_AUTHORITY     679     1434      122502    11096   \n",
       "625  GREATER_LONDON_AUTHORITY     680     1435      122517    11116   \n",
       "626  GREATER_LONDON_AUTHORITY     681     1436      122518    11104   \n",
       "627  GREATER_LONDON_AUTHORITY     690     1437      122522    11103   \n",
       "628  GREATER_LONDON_AUTHORITY     697     1438      122513    11167   \n",
       "629  GREATER_LONDON_AUTHORITY     698     1439      122515    11169   \n",
       "630  GREATER_LONDON_AUTHORITY     700     1440       50670    11196   \n",
       "631  GREATER_LONDON_AUTHORITY     713     1441       51176    11094   \n",
       "632  GREATER_LONDON_AUTHORITY     714     1442      122510    10981   \n",
       "633  GREATER_LONDON_AUTHORITY     715     1443      122507    11092   \n",
       "634  GREATER_LONDON_AUTHORITY     716     1444      122504    11093   \n",
       "635  GREATER_LONDON_AUTHORITY     717     1445      122503    10979   \n",
       "636  GREATER_LONDON_AUTHORITY     718     1446      122519    11102   \n",
       "637  GREATER_LONDON_AUTHORITY     719     1447      122521    11106   \n",
       "638  GREATER_LONDON_AUTHORITY     720     1448      122509    11091   \n",
       "639  GREATER_LONDON_AUTHORITY     721     1449      122506    11168   \n",
       "640  GREATER_LONDON_AUTHORITY     722     1450      122512    11170   \n",
       "641  GREATER_LONDON_AUTHORITY     723     1451      122511    10980   \n",
       "642  GREATER_LONDON_AUTHORITY     724     1452      122508    11166   \n",
       "643  GREATER_LONDON_AUTHORITY     725     1453      122514    11165   \n",
       "644  GREATER_LONDON_AUTHORITY     726     1454       51182    11100   \n",
       "645  GREATER_LONDON_AUTHORITY     727     1455       50669    11195   \n",
       "646  GREATER_LONDON_AUTHORITY     728     1456      122520    11101   \n",
       "647  GREATER_LONDON_AUTHORITY     729     1457      122516    11194   \n",
       "648  GREATER_LONDON_AUTHORITY     730     1458      122505    10857   \n",
       "\n",
       "          CODE  HECTARES   AREA TYPE_CODE          DESCRIPT0 TYPE_COD0  \\\n",
       "0    E05000405   755.173  0.000        VA  CIVIL VOTING AREA             \n",
       "1    E05000414   259.464  0.000        VA  CIVIL VOTING AREA             \n",
       "2    E05000401   145.390  0.000        VA  CIVIL VOTING AREA             \n",
       "3    E05000400   268.506  0.000        VA  CIVIL VOTING AREA             \n",
       "4    E05000402   187.821  0.000        VA  CIVIL VOTING AREA             \n",
       "5    E05000406   442.170  0.000        VA  CIVIL VOTING AREA             \n",
       "6    E05000404   192.980  0.000        VA  CIVIL VOTING AREA             \n",
       "7    E05000413   166.482  0.000        VA  CIVIL VOTING AREA             \n",
       "8    E05000410   180.016  0.000        VA  CIVIL VOTING AREA             \n",
       "9    E05000412   137.578  0.000        VA  CIVIL VOTING AREA             \n",
       "10   E05000408   192.034  0.000        VA  CIVIL VOTING AREA             \n",
       "11   E05000403   124.241  0.000        VA  CIVIL VOTING AREA             \n",
       "12   E05000409   134.711  0.000        VA  CIVIL VOTING AREA             \n",
       "13   E05000407   164.710  0.000        VA  CIVIL VOTING AREA             \n",
       "14   E05000411   216.584  0.000        VA  CIVIL VOTING AREA             \n",
       "15   E05000415   158.255  0.000        VA  CIVIL VOTING AREA             \n",
       "16   E05000150   774.358  0.000        VA  CIVIL VOTING AREA             \n",
       "17   E05000162   639.834  0.000        VA  CIVIL VOTING AREA             \n",
       "18   E05000151   499.147  0.000        VA  CIVIL VOTING AREA             \n",
       "19   E05000167   364.759  0.000        VA  CIVIL VOTING AREA             \n",
       "20   E05000156   645.593  0.000        VA  CIVIL VOTING AREA             \n",
       "21   E05000159   417.518  0.000        VA  CIVIL VOTING AREA             \n",
       "22   E05000160   634.600  0.000        VA  CIVIL VOTING AREA             \n",
       "23   E05000155   871.342  0.000        VA  CIVIL VOTING AREA             \n",
       "24   E05000153   377.221  0.000        VA  CIVIL VOTING AREA             \n",
       "25   E05000149   266.195  0.000        VA  CIVIL VOTING AREA             \n",
       "26   E05000168   197.117  0.000        VA  CIVIL VOTING AREA             \n",
       "27   E05000148   144.147  0.000        VA  CIVIL VOTING AREA             \n",
       "28   E05000158   251.818  0.000        VA  CIVIL VOTING AREA             \n",
       "29   E05000157   241.710  0.000        VA  CIVIL VOTING AREA             \n",
       "..         ...       ...    ...       ...                ...       ...   \n",
       "619  E05000034   200.128  0.000        VA  CIVIL VOTING AREA             \n",
       "620  E05000042   155.399  0.000        VA  CIVIL VOTING AREA             \n",
       "621  E05000030   345.060  0.000        VA  CIVIL VOTING AREA             \n",
       "622  E05000029   338.422  0.000        VA  CIVIL VOTING AREA             \n",
       "623  E05000037   124.384  0.000        VA  CIVIL VOTING AREA             \n",
       "624  E05009297    35.639  6.686        VA  CIVIL VOTING AREA             \n",
       "625  E05009305    32.996  2.271        VA  CIVIL VOTING AREA             \n",
       "626  E05009304    24.375  0.000        VA  CIVIL VOTING AREA             \n",
       "627  E05009302    12.717  0.000        VA  CIVIL VOTING AREA             \n",
       "628  E05009306     5.193  0.000        VA  CIVIL VOTING AREA             \n",
       "629  E05009310    19.867  0.736        VA  CIVIL VOTING AREA             \n",
       "630  E05009292    25.385  0.000        VA  CIVIL VOTING AREA             \n",
       "631  E05009309     7.948  3.583        VA  CIVIL VOTING AREA             \n",
       "632  E05009311    10.401  2.406        VA  CIVIL VOTING AREA             \n",
       "633  E05009300     5.965  0.000        VA  CIVIL VOTING AREA             \n",
       "634  E05009293     8.794  0.000        VA  CIVIL VOTING AREA             \n",
       "635  E05009298     9.161  0.000        VA  CIVIL VOTING AREA             \n",
       "636  E05009290    10.658  0.000        VA  CIVIL VOTING AREA             \n",
       "637  E05009288     9.795  0.000        VA  CIVIL VOTING AREA             \n",
       "638  E05009303     9.568  2.507        VA  CIVIL VOTING AREA             \n",
       "639  E05009294     9.421  2.413        VA  CIVIL VOTING AREA             \n",
       "640  E05009291    12.067  3.944        VA  CIVIL VOTING AREA             \n",
       "641  E05009312     7.474  0.000        VA  CIVIL VOTING AREA             \n",
       "642  E05009301     6.478  0.000        VA  CIVIL VOTING AREA             \n",
       "643  E05009307     5.096  0.000        VA  CIVIL VOTING AREA             \n",
       "644  E05009289    11.230  0.000        VA  CIVIL VOTING AREA             \n",
       "645  E05009295     8.157  0.000        VA  CIVIL VOTING AREA             \n",
       "646  E05009299    15.061  0.000        VA  CIVIL VOTING AREA             \n",
       "647  E05009308     6.288  0.000        VA  CIVIL VOTING AREA             \n",
       "648  E05009296     5.209  0.000        VA  CIVIL VOTING AREA             \n",
       "\n",
       "    DESCRIPT1                                           geometry  \n",
       "0              POLYGON ((-0.33068 51.32901, -0.33059 51.32909...  \n",
       "1              POLYGON ((-0.30846 51.37586, -0.30834 51.37606...  \n",
       "2              POLYGON ((-0.30385 51.39249, -0.30375 51.39252...  \n",
       "3              POLYGON ((-0.26990 51.38845, -0.26975 51.38838...  \n",
       "4              POLYGON ((-0.24662 51.39921, -0.24672 51.39921...  \n",
       "5              POLYGON ((-0.24714 51.40958, -0.24820 51.41018...  \n",
       "6              POLYGON ((-0.31830 51.36368, -0.31841 51.36468...  \n",
       "7              POLYGON ((-0.31316 51.38880, -0.30599 51.39168...  \n",
       "8              POLYGON ((-0.24505 51.38004, -0.24553 51.38006...  \n",
       "9              POLYGON ((-0.31298 51.39711, -0.31256 51.39688...  \n",
       "10             POLYGON ((-0.31215 51.39814, -0.31202 51.39837...  \n",
       "11             POLYGON ((-0.28662 51.42017, -0.28659 51.42011...  \n",
       "12             POLYGON ((-0.28399 51.41226, -0.28359 51.41210...  \n",
       "13             POLYGON ((-0.25873 51.40956, -0.25860 51.40916...  \n",
       "14             POLYGON ((-0.24085 51.39215, -0.24163 51.39019...  \n",
       "15             POLYGON ((-0.28662 51.42017, -0.28763 51.42000...  \n",
       "16             POLYGON ((-0.12861 51.32565, -0.12847 51.32558...  \n",
       "17             POLYGON ((-0.05628 51.32166, -0.05618 51.32171...  \n",
       "18             POLYGON ((-0.15657 51.32151, -0.15652 51.32152...  \n",
       "19             POLYGON ((-0.10666 51.34892, -0.10690 51.34857...  \n",
       "20             POLYGON ((-0.11979 51.33583, -0.11774 51.33497...  \n",
       "21             POLYGON ((-0.14427 51.33991, -0.14432 51.34021...  \n",
       "22             POLYGON ((-0.06402 51.31864, -0.06408 51.31861...  \n",
       "23             POLYGON ((-0.06888 51.36274, -0.06885 51.36275...  \n",
       "24             POLYGON ((-0.06379 51.37556, -0.06350 51.37499...  \n",
       "25             POLYGON ((-0.12336 51.37055, -0.12336 51.37062...  \n",
       "26             POLYGON ((-0.13263 51.39013, -0.13271 51.39016...  \n",
       "27             POLYGON ((-0.10397 51.38893, -0.10401 51.38898...  \n",
       "28             POLYGON ((-0.11862 51.40190, -0.11924 51.40165...  \n",
       "29             POLYGON ((-0.02235 51.34803, -0.02221 51.34790...  \n",
       "..        ...                                                ...  \n",
       "619            POLYGON ((0.15428 51.56614, 0.15465 51.56588, ...  \n",
       "620            POLYGON ((0.15428 51.56614, 0.15399 51.56612, ...  \n",
       "621            POLYGON ((0.16157 51.54333, 0.16156 51.54378, ...  \n",
       "622            POLYGON ((0.13003 51.57075, 0.12999 51.57080, ...  \n",
       "623            POLYGON ((0.12431 51.55143, 0.12425 51.55145, ...  \n",
       "624            POLYGON ((-0.10849 51.50989, -0.10849 51.50998...  \n",
       "625            POLYGON ((-0.10667 51.51665, -0.10718 51.51722...  \n",
       "626            POLYGON ((-0.09762 51.52103, -0.09729 51.51935...  \n",
       "627            POLYGON ((-0.09237 51.52103, -0.09246 51.52097...  \n",
       "628            POLYGON ((-0.08306 51.51156, -0.08381 51.51165...  \n",
       "629            POLYGON ((-0.08024 51.51210, -0.07973 51.51225...  \n",
       "630            POLYGON ((-0.08623 51.51881, -0.08590 51.51929...  \n",
       "631            POLYGON ((-0.09848 51.51195, -0.09843 51.51195...  \n",
       "632            POLYGON ((-0.09265 51.50851, -0.09282 51.50855...  \n",
       "633            POLYGON ((-0.09075 51.51169, -0.09077 51.51170...  \n",
       "634            POLYGON ((-0.09449 51.51418, -0.09489 51.51324...  \n",
       "635            POLYGON ((-0.09449 51.51418, -0.09501 51.51427...  \n",
       "636            POLYGON ((-0.09107 51.51541, -0.09190 51.51543...  \n",
       "637            POLYGON ((-0.09740 51.52159, -0.09730 51.52158...  \n",
       "638            POLYGON ((-0.09265 51.50851, -0.09199 51.50940...  \n",
       "639            POLYGON ((-0.08798 51.51023, -0.08780 51.51031...  \n",
       "640            POLYGON ((-0.08548 51.50860, -0.08548 51.50861...  \n",
       "641            POLYGON ((-0.08840 51.51279, -0.08858 51.51259...  \n",
       "642            POLYGON ((-0.08550 51.51484, -0.08532 51.51491...  \n",
       "643            POLYGON ((-0.08250 51.51536, -0.08221 51.51524...  \n",
       "644            POLYGON ((-0.08024 51.51210, -0.08036 51.51258...  \n",
       "645            POLYGON ((-0.08447 51.51778, -0.08313 51.51757...  \n",
       "646            POLYGON ((-0.08623 51.51881, -0.08618 51.51879...  \n",
       "647            POLYGON ((-0.07306 51.51181, -0.07389 51.51173...  \n",
       "648            POLYGON ((-0.08941 51.51144, -0.08931 51.51163...  \n",
       "\n",
       "[649 rows x 16 columns]"
      ]
     },
     "execution_count": 6,
     "metadata": {},
     "output_type": "execute_result"
    }
   ],
   "source": [
    "gpd.read_file('../Data/Geo_Data/geo/london_wards.shp')"
   ]
  },
  {
   "cell_type": "code",
   "execution_count": 7,
   "metadata": {
    "ExecuteTime": {
     "end_time": "2020-01-13T11:16:57.535974Z",
     "start_time": "2020-01-13T11:16:54.913155Z"
    }
   },
   "outputs": [
    {
     "data": {
      "text/plain": [
       "(649,\n",
       " 5,\n",
       " [-0.5103750689005356, 51.28676016315085, 0.0, 0.0],\n",
       " [0.3340155643740321, 51.691874116909894, 0.0, 0.0],\n",
       " <matplotlib.collections.LineCollection at 0x7f882ddfc490>)"
      ]
     },
     "execution_count": 7,
     "metadata": {},
     "output_type": "execute_result"
    },
    {
     "data": {
      "image/png": "[encoded data removed]",
      "text/plain": [
       "<Figure size 432x288 with 1 Axes>"
      ]
     },
     "metadata": {},
     "output_type": "display_data"
    }
   ],
   "source": [
    "m = Basemap(\n",
    "    projection='tmerc',\n",
    "    lon_0 = -2.,\n",
    "    lat_0 = 49.,\n",
    "    ellps = 'WGS84',\n",
    "    llcrnrlon=coords[0] - extra * w,\n",
    "    llcrnrlat=coords[1] - extra + 0.01 * h,\n",
    "    urcrnrlon=coords[2] + extra * w,\n",
    "    urcrnrlat=coords[3] + extra + 0.01 * h,\n",
    "    lat_ts=0,\n",
    "    resolution='i',\n",
    "    suppress_ticks=True)\n",
    "\n",
    "m.readshapefile(\n",
    "    '../Data/Geo_Data/geo/london_wards',\n",
    "    'london',\n",
    "    color='none',\n",
    "    zorder=2)"
   ]
  },
  {
   "cell_type": "code",
   "execution_count": 8,
   "metadata": {
    "ExecuteTime": {
     "end_time": "2020-01-13T11:16:57.673169Z",
     "start_time": "2020-01-13T11:16:57.539880Z"
    }
   },
   "outputs": [
    {
     "name": "stdout",
     "output_type": "stream",
     "text": [
      "{'TYPE_COD0': '   ', 'CODE': 'E05000405', 'NAME': 'Chessington South Ward', 'AREA': 0.0, 'POLYGON_ID': 50840, 'FILE_NAME': 'GREATER_LONDON_AUTHORITY', 'DESCRIPTIO': 'London Borough Ward', 'AREA_CODE': 'LBW', 'NUMBER': 52, 'UNIT_ID': 10884, 'HECTARES': 755.173, 'DESCRIPT1': '                                    ', 'TYPE_CODE': 'VA', 'NUMBER0': 733, 'SHAPENUM': 1, 'RINGNUM': 1, 'DESCRIPT0': 'CIVIL VOTING AREA'}\n",
      "{'TYPE_COD0': '   ', 'CODE': 'E05000414', 'NAME': 'Tolworth and Hook Rise Ward', 'AREA': 0.0, 'POLYGON_ID': 117160, 'FILE_NAME': 'GREATER_LONDON_AUTHORITY', 'DESCRIPTIO': 'London Borough Ward', 'AREA_CODE': 'LBW', 'NUMBER': 106, 'UNIT_ID': 11407, 'HECTARES': 259.464, 'DESCRIPT1': '                                    ', 'TYPE_CODE': 'VA', 'NUMBER0': 734, 'SHAPENUM': 2, 'RINGNUM': 1, 'DESCRIPT0': 'CIVIL VOTING AREA'}\n",
      "{'TYPE_COD0': '   ', 'CODE': 'E05000401', 'NAME': 'Berrylands Ward', 'AREA': 0.0, 'POLYGON_ID': 50449, 'FILE_NAME': 'GREATER_LONDON_AUTHORITY', 'DESCRIPTIO': 'London Borough Ward', 'AREA_CODE': 'LBW', 'NUMBER': 107, 'UNIT_ID': 11413, 'HECTARES': 145.39, 'DESCRIPT1': '                                    ', 'TYPE_CODE': 'VA', 'NUMBER0': 735, 'SHAPENUM': 3, 'RINGNUM': 1, 'DESCRIPT0': 'CIVIL VOTING AREA'}\n",
      "{'TYPE_COD0': '   ', 'CODE': 'E05000400', 'NAME': 'Alexandra Ward', 'AREA': 0.0, 'POLYGON_ID': 50456, 'FILE_NAME': 'GREATER_LONDON_AUTHORITY', 'DESCRIPTIO': 'London Borough Ward', 'AREA_CODE': 'LBW', 'NUMBER': 108, 'UNIT_ID': 11420, 'HECTARES': 268.506, 'DESCRIPT1': '                                    ', 'TYPE_CODE': 'VA', 'NUMBER0': 736, 'SHAPENUM': 4, 'RINGNUM': 1, 'DESCRIPT0': 'CIVIL VOTING AREA'}\n",
      "{'TYPE_COD0': '   ', 'CODE': 'E05000402', 'NAME': 'Beverley Ward', 'AREA': 0.0, 'POLYGON_ID': 117161, 'FILE_NAME': 'GREATER_LONDON_AUTHORITY', 'DESCRIPTIO': 'London Borough Ward', 'AREA_CODE': 'LBW', 'NUMBER': 109, 'UNIT_ID': 11417, 'HECTARES': 187.821, 'DESCRIPT1': '                                    ', 'TYPE_CODE': 'VA', 'NUMBER0': 737, 'SHAPENUM': 5, 'RINGNUM': 1, 'DESCRIPT0': 'CIVIL VOTING AREA'}\n",
      "{'TYPE_COD0': '   ', 'CODE': 'E05000406', 'NAME': 'Coombe Hill Ward', 'AREA': 0.0, 'POLYGON_ID': 117159, 'FILE_NAME': 'GREATER_LONDON_AUTHORITY', 'DESCRIPTIO': 'London Borough Ward', 'AREA_CODE': 'LBW', 'NUMBER': 118, 'UNIT_ID': 11423, 'HECTARES': 442.17, 'DESCRIPT1': '                                    ', 'TYPE_CODE': 'VA', 'NUMBER0': 738, 'SHAPENUM': 6, 'RINGNUM': 1, 'DESCRIPT0': 'CIVIL VOTING AREA'}\n",
      "{'TYPE_COD0': '   ', 'CODE': 'E05000404', 'NAME': 'Chessington North and Hook Ward', 'AREA': 0.0, 'POLYGON_ID': 50530, 'FILE_NAME': 'GREATER_LONDON_AUTHORITY', 'DESCRIPTIO': 'London Borough Ward', 'AREA_CODE': 'LBW', 'NUMBER': 308, 'UNIT_ID': 11406, 'HECTARES': 192.98, 'DESCRIPT1': '                                    ', 'TYPE_CODE': 'VA', 'NUMBER0': 739, 'SHAPENUM': 7, 'RINGNUM': 1, 'DESCRIPT0': 'CIVIL VOTING AREA'}\n",
      "{'TYPE_COD0': '   ', 'CODE': 'E05000413', 'NAME': 'Surbiton Hill Ward', 'AREA': 0.0, 'POLYGON_ID': 50457, 'FILE_NAME': 'GREATER_LONDON_AUTHORITY', 'DESCRIPTIO': 'London Borough Ward', 'AREA_CODE': 'LBW', 'NUMBER': 309, 'UNIT_ID': 11421, 'HECTARES': 166.482, 'DESCRIPT1': '                                    ', 'TYPE_CODE': 'VA', 'NUMBER0': 740, 'SHAPENUM': 8, 'RINGNUM': 1, 'DESCRIPT0': 'CIVIL VOTING AREA'}\n",
      "{'TYPE_COD0': '   ', 'CODE': 'E05000410', 'NAME': 'Old Malden Ward', 'AREA': 0.0, 'POLYGON_ID': 50455, 'FILE_NAME': 'GREATER_LONDON_AUTHORITY', 'DESCRIPTIO': 'London Borough Ward', 'AREA_CODE': 'LBW', 'NUMBER': 310, 'UNIT_ID': 11419, 'HECTARES': 180.016, 'DESCRIPT1': '                                    ', 'TYPE_CODE': 'VA', 'NUMBER0': 741, 'SHAPENUM': 9, 'RINGNUM': 1, 'DESCRIPT0': 'CIVIL VOTING AREA'}\n",
      "{'TYPE_COD0': '   ', 'CODE': 'E05000412', 'NAME': \"St. Mark's Ward\", 'AREA': 0.0, 'POLYGON_ID': 50450, 'FILE_NAME': 'GREATER_LONDON_AUTHORITY', 'DESCRIPTIO': 'London Borough Ward', 'AREA_CODE': 'LBW', 'NUMBER': 313, 'UNIT_ID': 11414, 'HECTARES': 137.578, 'DESCRIPT1': '                                    ', 'TYPE_CODE': 'VA', 'NUMBER0': 742, 'SHAPENUM': 10, 'RINGNUM': 1, 'DESCRIPT0': 'CIVIL VOTING AREA'}\n",
      "{'TYPE_COD0': '   ', 'CODE': 'E05000408', 'NAME': 'Grove Ward', 'AREA': 0.0, 'POLYGON_ID': 50458, 'FILE_NAME': 'GREATER_LONDON_AUTHORITY', 'DESCRIPTIO': 'London Borough Ward', 'AREA_CODE': 'LBW', 'NUMBER': 314, 'UNIT_ID': 11422, 'HECTARES': 192.034, 'DESCRIPT1': '                                    ', 'TYPE_CODE': 'VA', 'NUMBER0': 743, 'SHAPENUM': 11, 'RINGNUM': 1, 'DESCRIPT0': 'CIVIL VOTING AREA'}\n",
      "{'TYPE_COD0': '   ', 'CODE': 'E05000403', 'NAME': 'Canbury Ward', 'AREA': 0.0, 'POLYGON_ID': 51118, 'FILE_NAME': 'GREATER_LONDON_AUTHORITY', 'DESCRIPTIO': 'London Borough Ward', 'AREA_CODE': 'LBW', 'NUMBER': 315, 'UNIT_ID': 11469, 'HECTARES': 124.241, 'DESCRIPT1': '                                    ', 'TYPE_CODE': 'VA', 'NUMBER0': 744, 'SHAPENUM': 12, 'RINGNUM': 1, 'DESCRIPT0': 'CIVIL VOTING AREA'}\n",
      "{'TYPE_COD0': '   ', 'CODE': 'E05000409', 'NAME': 'Norbiton Ward', 'AREA': 0.0, 'POLYGON_ID': 50451, 'FILE_NAME': 'GREATER_LONDON_AUTHORITY', 'DESCRIPTIO': 'London Borough Ward', 'AREA_CODE': 'LBW', 'NUMBER': 316, 'UNIT_ID': 11415, 'HECTARES': 134.711, 'DESCRIPT1': '                                    ', 'TYPE_CODE': 'VA', 'NUMBER0': 745, 'SHAPENUM': 13, 'RINGNUM': 1, 'DESCRIPT0': 'CIVIL VOTING AREA'}\n",
      "{'TYPE_COD0': '   ', 'CODE': 'E05000407', 'NAME': 'Coombe Vale Ward', 'AREA': 0.0, 'POLYGON_ID': 50452, 'FILE_NAME': 'GREATER_LONDON_AUTHORITY', 'DESCRIPTIO': 'London Borough Ward', 'AREA_CODE': 'LBW', 'NUMBER': 317, 'UNIT_ID': 11416, 'HECTARES': 164.71, 'DESCRIPT1': '                                    ', 'TYPE_CODE': 'VA', 'NUMBER0': 746, 'SHAPENUM': 14, 'RINGNUM': 1, 'DESCRIPT0': 'CIVIL VOTING AREA'}\n",
      "{'TYPE_COD0': '   ', 'CODE': 'E05000411', 'NAME': 'St. James Ward', 'AREA': 0.0, 'POLYGON_ID': 50454, 'FILE_NAME': 'GREATER_LONDON_AUTHORITY', 'DESCRIPTIO': 'London Borough Ward', 'AREA_CODE': 'LBW', 'NUMBER': 318, 'UNIT_ID': 11418, 'HECTARES': 216.584, 'DESCRIPT1': '                                    ', 'TYPE_CODE': 'VA', 'NUMBER0': 747, 'SHAPENUM': 15, 'RINGNUM': 1, 'DESCRIPT0': 'CIVIL VOTING AREA'}\n",
      "{'TYPE_COD0': '   ', 'CODE': 'E05000415', 'NAME': 'Tudor Ward', 'AREA': 0.0, 'POLYGON_ID': 51117, 'FILE_NAME': 'GREATER_LONDON_AUTHORITY', 'DESCRIPTIO': 'London Borough Ward', 'AREA_CODE': 'LBW', 'NUMBER': 345, 'UNIT_ID': 11468, 'HECTARES': 158.255, 'DESCRIPT1': '                                    ', 'TYPE_CODE': 'VA', 'NUMBER0': 748, 'SHAPENUM': 16, 'RINGNUM': 1, 'DESCRIPT0': 'CIVIL VOTING AREA'}\n",
      "{'TYPE_COD0': '   ', 'CODE': 'E05000150', 'NAME': 'Coulsdon East Ward', 'AREA': 0.0, 'POLYGON_ID': 50897, 'FILE_NAME': 'GREATER_LONDON_AUTHORITY', 'DESCRIPTIO': 'London Borough Ward', 'AREA_CODE': 'LBW', 'NUMBER': 63, 'UNIT_ID': 10765, 'HECTARES': 774.358, 'DESCRIPT1': '                                    ', 'TYPE_CODE': 'VA', 'NUMBER0': 752, 'SHAPENUM': 17, 'RINGNUM': 1, 'DESCRIPT0': 'CIVIL VOTING AREA'}\n",
      "{'TYPE_COD0': '   ', 'CODE': 'E05000162', 'NAME': 'Selsdon and Ballards Ward', 'AREA': 0.0, 'POLYGON_ID': 50900, 'FILE_NAME': 'GREATER_LONDON_AUTHORITY', 'DESCRIPTIO': 'London Borough Ward', 'AREA_CODE': 'LBW', 'NUMBER': 64, 'UNIT_ID': 10768, 'HECTARES': 639.834, 'DESCRIPT1': '                                    ', 'TYPE_CODE': 'VA', 'NUMBER0': 753, 'SHAPENUM': 18, 'RINGNUM': 1, 'DESCRIPT0': 'CIVIL VOTING AREA'}\n",
      "{'TYPE_COD0': '   ', 'CODE': 'E05000151', 'NAME': 'Coulsdon West Ward', 'AREA': 0.0, 'POLYGON_ID': 51328, 'FILE_NAME': 'GREATER_LONDON_AUTHORITY', 'DESCRIPTIO': 'London Borough Ward', 'AREA_CODE': 'LBW', 'NUMBER': 96, 'UNIT_ID': 10894, 'HECTARES': 499.147, 'DESCRIPT1': '                                    ', 'TYPE_CODE': 'VA', 'NUMBER0': 754, 'SHAPENUM': 19, 'RINGNUM': 1, 'DESCRIPT0': 'CIVIL VOTING AREA'}\n",
      "{'TYPE_COD0': '   ', 'CODE': 'E05000167', 'NAME': 'Waddon Ward', 'AREA': 0.0, 'POLYGON_ID': 51256, 'FILE_NAME': 'GREATER_LONDON_AUTHORITY', 'DESCRIPTIO': 'London Borough Ward', 'AREA_CODE': 'LBW', 'NUMBER': 112, 'UNIT_ID': 10998, 'HECTARES': 364.759, 'DESCRIPT1': '                                    ', 'TYPE_CODE': 'VA', 'NUMBER0': 755, 'SHAPENUM': 20, 'RINGNUM': 1, 'DESCRIPT0': 'CIVIL VOTING AREA'}\n",
      "{'TYPE_COD0': '   ', 'CODE': 'E05000156', 'NAME': 'Kenley Ward', 'AREA': 0.0, 'POLYGON_ID': 50898, 'FILE_NAME': 'GREATER_LONDON_AUTHORITY', 'DESCRIPTIO': 'London Borough Ward', 'AREA_CODE': 'LBW', 'NUMBER': 129, 'UNIT_ID': 10766, 'HECTARES': 645.593, 'DESCRIPT1': '                                    ', 'TYPE_CODE': 'VA', 'NUMBER0': 756, 'SHAPENUM': 21, 'RINGNUM': 1, 'DESCRIPT0': 'CIVIL VOTING AREA'}\n",
      "{'TYPE_COD0': '   ', 'CODE': 'E05000159', 'NAME': 'Purley Ward', 'AREA': 0.0, 'POLYGON_ID': 51329, 'FILE_NAME': 'GREATER_LONDON_AUTHORITY', 'DESCRIPTIO': 'London Borough Ward', 'AREA_CODE': 'LBW', 'NUMBER': 130, 'UNIT_ID': 10895, 'HECTARES': 417.518, 'DESCRIPT1': '                                    ', 'TYPE_CODE': 'VA', 'NUMBER0': 757, 'SHAPENUM': 22, 'RINGNUM': 1, 'DESCRIPT0': 'CIVIL VOTING AREA'}\n",
      "{'TYPE_COD0': '   ', 'CODE': 'E05000160', 'NAME': 'Sanderstead Ward', 'AREA': 0.0, 'POLYGON_ID': 50899, 'FILE_NAME': 'GREATER_LONDON_AUTHORITY', 'DESCRIPTIO': 'London Borough Ward', 'AREA_CODE': 'LBW', 'NUMBER': 131, 'UNIT_ID': 10767, 'HECTARES': 634.6, 'DESCRIPT1': '                                    ', 'TYPE_CODE': 'VA', 'NUMBER0': 758, 'SHAPENUM': 23, 'RINGNUM': 1, 'DESCRIPT0': 'CIVIL VOTING AREA'}\n",
      "{'TYPE_COD0': '   ', 'CODE': 'E05000155', 'NAME': 'Heathfield Ward', 'AREA': 0.0, 'POLYGON_ID': 51332, 'FILE_NAME': 'GREATER_LONDON_AUTHORITY', 'DESCRIPTIO': 'London Borough Ward', 'AREA_CODE': 'LBW', 'NUMBER': 133, 'UNIT_ID': 10898, 'HECTARES': 871.342, 'DESCRIPT1': '                                    ', 'TYPE_CODE': 'VA', 'NUMBER0': 759, 'SHAPENUM': 24, 'RINGNUM': 1, 'DESCRIPT0': 'CIVIL VOTING AREA'}\n",
      "{'TYPE_COD0': '   ', 'CODE': 'E05000153', 'NAME': 'Fairfield Ward', 'AREA': 0.0, 'POLYGON_ID': 51198, 'FILE_NAME': 'GREATER_LONDON_AUTHORITY', 'DESCRIPTIO': 'London Borough Ward', 'AREA_CODE': 'LBW', 'NUMBER': 134, 'UNIT_ID': 11028, 'HECTARES': 377.221, 'DESCRIPT1': '                                    ', 'TYPE_CODE': 'VA', 'NUMBER0': 760, 'SHAPENUM': 25, 'RINGNUM': 1, 'DESCRIPT0': 'CIVIL VOTING AREA'}\n",
      "{'TYPE_COD0': '   ', 'CODE': 'E05000149', 'NAME': 'Broad Green Ward', 'AREA': 0.0, 'POLYGON_ID': 51196, 'FILE_NAME': 'GREATER_LONDON_AUTHORITY', 'DESCRIPTIO': 'London Borough Ward', 'AREA_CODE': 'LBW', 'NUMBER': 333, 'UNIT_ID': 11026, 'HECTARES': 266.195, 'DESCRIPT1': '                                    ', 'TYPE_CODE': 'VA', 'NUMBER0': 761, 'SHAPENUM': 26, 'RINGNUM': 1, 'DESCRIPT0': 'CIVIL VOTING AREA'}\n",
      "{'TYPE_COD0': '   ', 'CODE': 'E05000168', 'NAME': 'West Thornton Ward', 'AREA': 0.0, 'POLYGON_ID': 51197, 'FILE_NAME': 'GREATER_LONDON_AUTHORITY', 'DESCRIPTIO': 'London Borough Ward', 'AREA_CODE': 'LBW', 'NUMBER': 340, 'UNIT_ID': 11027, 'HECTARES': 197.117, 'DESCRIPT1': '                                    ', 'TYPE_CODE': 'VA', 'NUMBER0': 762, 'SHAPENUM': 27, 'RINGNUM': 1, 'DESCRIPT0': 'CIVIL VOTING AREA'}\n",
      "{'TYPE_COD0': '   ', 'CODE': 'E05000148', 'NAME': 'Bensham Manor Ward', 'AREA': 0.0, 'POLYGON_ID': 51145, 'FILE_NAME': 'GREATER_LONDON_AUTHORITY', 'DESCRIPTIO': 'London Borough Ward', 'AREA_CODE': 'LBW', 'NUMBER': 341, 'UNIT_ID': 11063, 'HECTARES': 144.147, 'DESCRIPT1': '                                    ', 'TYPE_CODE': 'VA', 'NUMBER0': 763, 'SHAPENUM': 28, 'RINGNUM': 1, 'DESCRIPT0': 'CIVIL VOTING AREA'}\n",
      "{'TYPE_COD0': '   ', 'CODE': 'E05000158', 'NAME': 'Norbury Ward', 'AREA': 0.0, 'POLYGON_ID': 51192, 'FILE_NAME': 'GREATER_LONDON_AUTHORITY', 'DESCRIPTIO': 'London Borough Ward', 'AREA_CODE': 'LBW', 'NUMBER': 344, 'UNIT_ID': 11022, 'HECTARES': 251.818, 'DESCRIPT1': '                                    ', 'TYPE_CODE': 'VA', 'NUMBER0': 764, 'SHAPENUM': 29, 'RINGNUM': 1, 'DESCRIPT0': 'CIVIL VOTING AREA'}\n",
      "{'TYPE_COD0': '   ', 'CODE': 'E05000157', 'NAME': 'New Addington Ward', 'AREA': 0.0, 'POLYGON_ID': 50901, 'FILE_NAME': 'GREATER_LONDON_AUTHORITY', 'DESCRIPTIO': 'London Borough Ward', 'AREA_CODE': 'LBW', 'NUMBER': 386, 'UNIT_ID': 10769, 'HECTARES': 241.71, 'DESCRIPT1': '                                    ', 'TYPE_CODE': 'VA', 'NUMBER0': 765, 'SHAPENUM': 30, 'RINGNUM': 1, 'DESCRIPT0': 'CIVIL VOTING AREA'}\n",
      "{'TYPE_COD0': '   ', 'CODE': 'E05000152', 'NAME': 'Croham Ward', 'AREA': 0.0, 'POLYGON_ID': 51331, 'FILE_NAME': 'GREATER_LONDON_AUTHORITY', 'DESCRIPTIO': 'London Borough Ward', 'AREA_CODE': 'LBW', 'NUMBER': 387, 'UNIT_ID': 10897, 'HECTARES': 352.705, 'DESCRIPT1': '                                    ', 'TYPE_CODE': 'VA', 'NUMBER0': 766, 'SHAPENUM': 31, 'RINGNUM': 1, 'DESCRIPT0': 'CIVIL VOTING AREA'}\n",
      "{'TYPE_COD0': '   ', 'CODE': 'E05000154', 'NAME': 'Fieldway Ward', 'AREA': 0.0, 'POLYGON_ID': 51261, 'FILE_NAME': 'GREATER_LONDON_AUTHORITY', 'DESCRIPTIO': 'London Borough Ward', 'AREA_CODE': 'LBW', 'NUMBER': 388, 'UNIT_ID': 11003, 'HECTARES': 148.649, 'DESCRIPT1': '                                    ', 'TYPE_CODE': 'VA', 'NUMBER0': 767, 'SHAPENUM': 32, 'RINGNUM': 1, 'DESCRIPT0': 'CIVIL VOTING AREA'}\n",
      "{'TYPE_COD0': '   ', 'CODE': 'E05000163', 'NAME': 'Shirley Ward', 'AREA': 0.0, 'POLYGON_ID': 116954, 'FILE_NAME': 'GREATER_LONDON_AUTHORITY', 'DESCRIPTIO': 'London Borough Ward', 'AREA_CODE': 'LBW', 'NUMBER': 389, 'UNIT_ID': 11002, 'HECTARES': 280.541, 'DESCRIPT1': '                                    ', 'TYPE_CODE': 'VA', 'NUMBER0': 768, 'SHAPENUM': 33, 'RINGNUM': 1, 'DESCRIPT0': 'CIVIL VOTING AREA'}\n",
      "{'TYPE_COD0': '   ', 'CODE': 'E05000161', 'NAME': 'Selhurst Ward', 'AREA': 0.0, 'POLYGON_ID': 51199, 'FILE_NAME': 'GREATER_LONDON_AUTHORITY', 'DESCRIPTIO': 'London Borough Ward', 'AREA_CODE': 'LBW', 'NUMBER': 390, 'UNIT_ID': 11029, 'HECTARES': 227.303, 'DESCRIPT1': '                                    ', 'TYPE_CODE': 'VA', 'NUMBER0': 769, 'SHAPENUM': 34, 'RINGNUM': 1, 'DESCRIPT0': 'CIVIL VOTING AREA'}\n",
      "{'TYPE_COD0': '   ', 'CODE': 'E05000147', 'NAME': 'Ashburton Ward', 'AREA': 0.0, 'POLYGON_ID': 51259, 'FILE_NAME': 'GREATER_LONDON_AUTHORITY', 'DESCRIPTIO': 'London Borough Ward', 'AREA_CODE': 'LBW', 'NUMBER': 391, 'UNIT_ID': 11001, 'HECTARES': 271.173, 'DESCRIPT1': '                                    ', 'TYPE_CODE': 'VA', 'NUMBER0': 770, 'SHAPENUM': 35, 'RINGNUM': 1, 'DESCRIPT0': 'CIVIL VOTING AREA'}\n",
      "{'TYPE_COD0': '   ', 'CODE': 'E05000169', 'NAME': 'Woodside Ward', 'AREA': 0.0, 'POLYGON_ID': 116956, 'FILE_NAME': 'GREATER_LONDON_AUTHORITY', 'DESCRIPTIO': 'London Borough Ward', 'AREA_CODE': 'LBW', 'NUMBER': 392, 'UNIT_ID': 11000, 'HECTARES': 216.651, 'DESCRIPT1': '                                    ', 'TYPE_CODE': 'VA', 'NUMBER0': 771, 'SHAPENUM': 36, 'RINGNUM': 1, 'DESCRIPT0': 'CIVIL VOTING AREA'}\n",
      "{'TYPE_COD0': '   ', 'CODE': 'E05000165', 'NAME': 'Thornton Heath Ward', 'AREA': 0.0, 'POLYGON_ID': 51232, 'FILE_NAME': 'GREATER_LONDON_AUTHORITY', 'DESCRIPTIO': 'London Borough Ward', 'AREA_CODE': 'LBW', 'NUMBER': 393, 'UNIT_ID': 11062, 'HECTARES': 168.107, 'DESCRIPT1': '                                    ', 'TYPE_CODE': 'VA', 'NUMBER0': 772, 'SHAPENUM': 37, 'RINGNUM': 1, 'DESCRIPT0': 'CIVIL VOTING AREA'}\n",
      "{'TYPE_COD0': '   ', 'CODE': 'E05000166', 'NAME': 'Upper Norwood Ward', 'AREA': 0.0, 'POLYGON_ID': 119328, 'FILE_NAME': 'GREATER_LONDON_AUTHORITY', 'DESCRIPTIO': 'London Borough Ward', 'AREA_CODE': 'LBW', 'NUMBER': 394, 'UNIT_ID': 11060, 'HECTARES': 262.328, 'DESCRIPT1': '                                    ', 'TYPE_CODE': 'VA', 'NUMBER0': 773, 'SHAPENUM': 38, 'RINGNUM': 1, 'DESCRIPT0': 'CIVIL VOTING AREA'}\n",
      "{'TYPE_COD0': '   ', 'CODE': 'E05000164', 'NAME': 'South Norwood Ward', 'AREA': 0.0, 'POLYGON_ID': 51146, 'FILE_NAME': 'GREATER_LONDON_AUTHORITY', 'DESCRIPTIO': 'London Borough Ward', 'AREA_CODE': 'LBW', 'NUMBER': 395, 'UNIT_ID': 11064, 'HECTARES': 237.817, 'DESCRIPT1': '                                    ', 'TYPE_CODE': 'VA', 'NUMBER0': 774, 'SHAPENUM': 39, 'RINGNUM': 1, 'DESCRIPT0': 'CIVIL VOTING AREA'}\n",
      "{'TYPE_COD0': '   ', 'CODE': 'E05000146', 'NAME': 'Addiscombe Ward', 'AREA': 0.0, 'POLYGON_ID': 51257, 'FILE_NAME': 'GREATER_LONDON_AUTHORITY', 'DESCRIPTIO': 'London Borough Ward', 'AREA_CODE': 'LBW', 'NUMBER': 663, 'UNIT_ID': 10999, 'HECTARES': 158.808, 'DESCRIPT1': '                                    ', 'TYPE_CODE': 'VA', 'NUMBER0': 775, 'SHAPENUM': 40, 'RINGNUM': 1, 'DESCRIPT0': 'CIVIL VOTING AREA'}\n",
      "{'TYPE_COD0': '   ', 'CODE': 'E05000117', 'NAME': 'Darwin Ward', 'AREA': 0.0, 'POLYGON_ID': 117267, 'FILE_NAME': 'GREATER_LONDON_AUTHORITY', 'DESCRIPTIO': 'London Borough Ward', 'AREA_CODE': 'LBW', 'NUMBER': 7, 'UNIT_ID': 10773, 'HECTARES': 2903.96, 'DESCRIPT1': '                                    ', 'TYPE_CODE': 'VA', 'NUMBER0': 777, 'SHAPENUM': 41, 'RINGNUM': 1, 'DESCRIPT0': 'CIVIL VOTING AREA'}\n",
      "{'TYPE_COD0': '   ', 'CODE': 'E05000119', 'NAME': 'Hayes and Coney Hall Ward', 'AREA': 0.0, 'POLYGON_ID': 117271, 'FILE_NAME': 'GREATER_LONDON_AUTHORITY', 'DESCRIPTIO': 'London Borough Ward', 'AREA_CODE': 'LBW', 'NUMBER': 65, 'UNIT_ID': 10900, 'HECTARES': 1082.306, 'DESCRIPT1': '                                    ', 'TYPE_CODE': 'VA', 'NUMBER0': 779, 'SHAPENUM': 42, 'RINGNUM': 1, 'DESCRIPT0': 'CIVIL VOTING AREA'}\n",
      "{'TYPE_COD0': '   ', 'CODE': 'E05000108', 'NAME': 'Bromley Common and Keston Ward', 'AREA': 0.0, 'POLYGON_ID': 50903, 'FILE_NAME': 'GREATER_LONDON_AUTHORITY', 'DESCRIPTIO': 'London Borough Ward', 'AREA_CODE': 'LBW', 'NUMBER': 66, 'UNIT_ID': 10771, 'HECTARES': 830.82, 'DESCRIPT1': '                                    ', 'TYPE_CODE': 'VA', 'NUMBER0': 780, 'SHAPENUM': 43, 'RINGNUM': 1, 'DESCRIPT0': 'CIVIL VOTING AREA'}\n",
      "{'TYPE_COD0': '   ', 'CODE': 'E05000110', 'NAME': 'Chelsfield and Pratts Bottom Ward', 'AREA': 0.0, 'POLYGON_ID': 117270, 'FILE_NAME': 'GREATER_LONDON_AUTHORITY', 'DESCRIPTIO': 'London Borough Ward', 'AREA_CODE': 'LBW', 'NUMBER': 67, 'UNIT_ID': 10763, 'HECTARES': 1256.32, 'DESCRIPT1': '                                    ', 'TYPE_CODE': 'VA', 'NUMBER0': 781, 'SHAPENUM': 44, 'RINGNUM': 1, 'DESCRIPT0': 'CIVIL VOTING AREA'}\n",
      "{'TYPE_COD0': '   ', 'CODE': 'E05000107', 'NAME': 'Biggin Hill Ward', 'AREA': 0.0, 'POLYGON_ID': 50896, 'FILE_NAME': 'GREATER_LONDON_AUTHORITY', 'DESCRIPTIO': 'London Borough Ward', 'AREA_CODE': 'LBW', 'NUMBER': 132, 'UNIT_ID': 10764, 'HECTARES': 828.039, 'DESCRIPT1': '                                    ', 'TYPE_CODE': 'VA', 'NUMBER0': 782, 'SHAPENUM': 45, 'RINGNUM': 1, 'DESCRIPT0': 'CIVIL VOTING AREA'}\n",
      "{'TYPE_COD0': '   ', 'CODE': 'E05000127', 'NAME': 'West Wickham Ward', 'AREA': 0.0, 'POLYGON_ID': 117268, 'FILE_NAME': 'GREATER_LONDON_AUTHORITY', 'DESCRIPTIO': 'London Borough Ward', 'AREA_CODE': 'LBW', 'NUMBER': 135, 'UNIT_ID': 11006, 'HECTARES': 441.047, 'DESCRIPT1': '                                    ', 'TYPE_CODE': 'VA', 'NUMBER0': 783, 'SHAPENUM': 46, 'RINGNUM': 1, 'DESCRIPT0': 'CIVIL VOTING AREA'}\n",
      "{'TYPE_COD0': '   ', 'CODE': 'E05000112', 'NAME': 'Clock House Ward', 'AREA': 0.0, 'POLYGON_ID': 117277, 'FILE_NAME': 'GREATER_LONDON_AUTHORITY', 'DESCRIPTIO': 'London Borough Ward', 'AREA_CODE': 'LBW', 'NUMBER': 136, 'UNIT_ID': 11030, 'HECTARES': 226.647, 'DESCRIPT1': '                                    ', 'TYPE_CODE': 'VA', 'NUMBER0': 784, 'SHAPENUM': 47, 'RINGNUM': 1, 'DESCRIPT0': 'CIVIL VOTING AREA'}\n",
      "{'TYPE_COD0': '   ', 'CODE': 'E05000120', 'NAME': 'Kelsey and Eden Park Ward', 'AREA': 0.0, 'POLYGON_ID': 117269, 'FILE_NAME': 'GREATER_LONDON_AUTHORITY', 'DESCRIPTIO': 'London Borough Ward', 'AREA_CODE': 'LBW', 'NUMBER': 137, 'UNIT_ID': 11004, 'HECTARES': 519.895, 'DESCRIPT1': '                                    ', 'TYPE_CODE': 'VA', 'NUMBER0': 785, 'SHAPENUM': 48, 'RINGNUM': 1, 'DESCRIPT0': 'CIVIL VOTING AREA'}\n",
      "{'TYPE_COD0': '   ', 'CODE': 'E05000118', 'NAME': 'Farnborough and Crofton Ward', 'AREA': 0.0, 'POLYGON_ID': 117272, 'FILE_NAME': 'GREATER_LONDON_AUTHORITY', 'DESCRIPTIO': 'London Borough Ward', 'AREA_CODE': 'LBW', 'NUMBER': 138, 'UNIT_ID': 10770, 'HECTARES': 700.584, 'DESCRIPT1': '                                    ', 'TYPE_CODE': 'VA', 'NUMBER0': 786, 'SHAPENUM': 49, 'RINGNUM': 1, 'DESCRIPT0': 'CIVIL VOTING AREA'}\n",
      "{'TYPE_COD0': '   ', 'CODE': 'E05000126', 'NAME': 'Shortlands Ward', 'AREA': 0.0, 'POLYGON_ID': 117276, 'FILE_NAME': 'GREATER_LONDON_AUTHORITY', 'DESCRIPTIO': 'London Borough Ward', 'AREA_CODE': 'LBW', 'NUMBER': 139, 'UNIT_ID': 11032, 'HECTARES': 245.665, 'DESCRIPT1': '                                    ', 'TYPE_CODE': 'VA', 'NUMBER0': 787, 'SHAPENUM': 50, 'RINGNUM': 1, 'DESCRIPT0': 'CIVIL VOTING AREA'}\n",
      "{'TYPE_COD0': '   ', 'CODE': 'E05000109', 'NAME': 'Bromley Town Ward', 'AREA': 0.0, 'POLYGON_ID': 117281, 'FILE_NAME': 'GREATER_LONDON_AUTHORITY', 'DESCRIPTIO': 'London Borough Ward', 'AREA_CODE': 'LBW', 'NUMBER': 140, 'UNIT_ID': 11034, 'HECTARES': 371.656, 'DESCRIPT1': '                                    ', 'TYPE_CODE': 'VA', 'NUMBER0': 788, 'SHAPENUM': 51, 'RINGNUM': 1, 'DESCRIPT0': 'CIVIL VOTING AREA'}\n",
      "{'TYPE_COD0': '   ', 'CODE': 'E05000106', 'NAME': 'Bickley Ward', 'AREA': 0.0, 'POLYGON_ID': 51335, 'FILE_NAME': 'GREATER_LONDON_AUTHORITY', 'DESCRIPTIO': 'London Borough Ward', 'AREA_CODE': 'LBW', 'NUMBER': 141, 'UNIT_ID': 10901, 'HECTARES': 486.913, 'DESCRIPT1': '                                    ', 'TYPE_CODE': 'VA', 'NUMBER0': 789, 'SHAPENUM': 52, 'RINGNUM': 1, 'DESCRIPT0': 'CIVIL VOTING AREA'}\n",
      "{'TYPE_COD0': '   ', 'CODE': 'E05000124', 'NAME': 'Petts Wood and Knoll Ward', 'AREA': 0.0, 'POLYGON_ID': 50912, 'FILE_NAME': 'GREATER_LONDON_AUTHORITY', 'DESCRIPTIO': 'London Borough Ward', 'AREA_CODE': 'LBW', 'NUMBER': 142, 'UNIT_ID': 10780, 'HECTARES': 430.127, 'DESCRIPT1': '                                    ', 'TYPE_CODE': 'VA', 'NUMBER0': 790, 'SHAPENUM': 53, 'RINGNUM': 1, 'DESCRIPT0': 'CIVIL VOTING AREA'}\n",
      "{'TYPE_COD0': '   ', 'CODE': 'E05000116', 'NAME': 'Crystal Palace Ward', 'AREA': 0.0, 'POLYGON_ID': 117275, 'FILE_NAME': 'GREATER_LONDON_AUTHORITY', 'DESCRIPTIO': 'London Borough Ward', 'AREA_CODE': 'LBW', 'NUMBER': 144, 'UNIT_ID': 11065, 'HECTARES': 229.114, 'DESCRIPT1': '                                    ', 'TYPE_CODE': 'VA', 'NUMBER0': 791, 'SHAPENUM': 54, 'RINGNUM': 1, 'DESCRIPT0': 'CIVIL VOTING AREA'}\n",
      "{'TYPE_COD0': '   ', 'CODE': 'E05000123', 'NAME': 'Penge and Cator Ward', 'AREA': 0.0, 'POLYGON_ID': 117278, 'FILE_NAME': 'GREATER_LONDON_AUTHORITY', 'DESCRIPTIO': 'London Borough Ward', 'AREA_CODE': 'LBW', 'NUMBER': 145, 'UNIT_ID': 11066, 'HECTARES': 295.972, 'DESCRIPT1': '                                    ', 'TYPE_CODE': 'VA', 'NUMBER0': 792, 'SHAPENUM': 55, 'RINGNUM': 1, 'DESCRIPT0': 'CIVIL VOTING AREA'}\n",
      "{'TYPE_COD0': '   ', 'CODE': 'E05000113', 'NAME': 'Copers Cope Ward', 'AREA': 0.0, 'POLYGON_ID': 117279, 'FILE_NAME': 'GREATER_LONDON_AUTHORITY', 'DESCRIPTIO': 'London Borough Ward', 'AREA_CODE': 'LBW', 'NUMBER': 146, 'UNIT_ID': 11067, 'HECTARES': 328.692, 'DESCRIPT1': '                                    ', 'TYPE_CODE': 'VA', 'NUMBER0': 793, 'SHAPENUM': 56, 'RINGNUM': 1, 'DESCRIPT0': 'CIVIL VOTING AREA'}\n",
      "{'TYPE_COD0': '   ', 'CODE': 'E05000125', 'NAME': 'Plaistow and Sundridge Ward', 'AREA': 0.0, 'POLYGON_ID': 51336, 'FILE_NAME': 'GREATER_LONDON_AUTHORITY', 'DESCRIPTIO': 'London Borough Ward', 'AREA_CODE': 'LBW', 'NUMBER': 149, 'UNIT_ID': 10902, 'HECTARES': 400.094, 'DESCRIPT1': '                                    ', 'TYPE_CODE': 'VA', 'NUMBER0': 794, 'SHAPENUM': 57, 'RINGNUM': 1, 'DESCRIPT0': 'CIVIL VOTING AREA'}\n",
      "{'TYPE_COD0': '   ', 'CODE': 'E05000111', 'NAME': 'Chislehurst Ward', 'AREA': 0.0, 'POLYGON_ID': 50911, 'FILE_NAME': 'GREATER_LONDON_AUTHORITY', 'DESCRIPTIO': 'London Borough Ward', 'AREA_CODE': 'LBW', 'NUMBER': 151, 'UNIT_ID': 10779, 'HECTARES': 1044.12, 'DESCRIPT1': '                                    ', 'TYPE_CODE': 'VA', 'NUMBER0': 795, 'SHAPENUM': 58, 'RINGNUM': 1, 'DESCRIPT0': 'CIVIL VOTING AREA'}\n",
      "{'TYPE_COD0': '   ', 'CODE': 'E05000121', 'NAME': 'Mottingham and Chislehurst North Ward', 'AREA': 0.0, 'POLYGON_ID': 51338, 'FILE_NAME': 'GREATER_LONDON_AUTHORITY', 'DESCRIPTIO': 'London Borough Ward', 'AREA_CODE': 'LBW', 'NUMBER': 152, 'UNIT_ID': 10904, 'HECTARES': 244.184, 'DESCRIPT1': '                                    ', 'TYPE_CODE': 'VA', 'NUMBER0': 796, 'SHAPENUM': 59, 'RINGNUM': 1, 'DESCRIPT0': 'CIVIL VOTING AREA'}\n",
      "{'TYPE_COD0': '   ', 'CODE': 'E05000122', 'NAME': 'Orpington Ward', 'AREA': 0.0, 'POLYGON_ID': 117280, 'FILE_NAME': 'GREATER_LONDON_AUTHORITY', 'DESCRIPTIO': 'London Borough Ward', 'AREA_CODE': 'LBW', 'NUMBER': 161, 'UNIT_ID': 10782, 'HECTARES': 425.616, 'DESCRIPT1': '                                    ', 'TYPE_CODE': 'VA', 'NUMBER0': 797, 'SHAPENUM': 60, 'RINGNUM': 1, 'DESCRIPT0': 'CIVIL VOTING AREA'}\n",
      "{'TYPE_COD0': '   ', 'CODE': 'E05000115', 'NAME': 'Cray Valley West Ward', 'AREA': 0.0, 'POLYGON_ID': 117273, 'FILE_NAME': 'GREATER_LONDON_AUTHORITY', 'DESCRIPTIO': 'London Borough Ward', 'AREA_CODE': 'LBW', 'NUMBER': 162, 'UNIT_ID': 10761, 'HECTARES': 393.85, 'DESCRIPT1': '                                    ', 'TYPE_CODE': 'VA', 'NUMBER0': 798, 'SHAPENUM': 61, 'RINGNUM': 1, 'DESCRIPT0': 'CIVIL VOTING AREA'}\n",
      "{'TYPE_COD0': '   ', 'CODE': 'E05000114', 'NAME': 'Cray Valley East Ward', 'AREA': 0.0, 'POLYGON_ID': 117274, 'FILE_NAME': 'GREATER_LONDON_AUTHORITY', 'DESCRIPTIO': 'London Borough Ward', 'AREA_CODE': 'LBW', 'NUMBER': 163, 'UNIT_ID': 10762, 'HECTARES': 1327.866, 'DESCRIPT1': '                                    ', 'TYPE_CODE': 'VA', 'NUMBER0': 799, 'SHAPENUM': 62, 'RINGNUM': 1, 'DESCRIPT0': 'CIVIL VOTING AREA'}\n",
      "{'TYPE_COD0': '   ', 'CODE': 'E05000346', 'NAME': 'Bedfont Ward', 'AREA': 0.0, 'POLYGON_ID': 51131, 'FILE_NAME': 'GREATER_LONDON_AUTHORITY', 'DESCRIPTIO': 'London Borough Ward', 'AREA_CODE': 'LBW', 'NUMBER': 98, 'UNIT_ID': 11482, 'HECTARES': 444.841, 'DESCRIPT1': '                                    ', 'TYPE_CODE': 'VA', 'NUMBER0': 803, 'SHAPENUM': 63, 'RINGNUM': 1, 'DESCRIPT0': 'CIVIL VOTING AREA'}\n",
      "{'TYPE_COD0': '   ', 'CODE': 'E05000353', 'NAME': 'Hanworth Ward', 'AREA': 0.0, 'POLYGON_ID': 51122, 'FILE_NAME': 'GREATER_LONDON_AUTHORITY', 'DESCRIPTIO': 'London Borough Ward', 'AREA_CODE': 'LBW', 'NUMBER': 99, 'UNIT_ID': 11473, 'HECTARES': 323.258, 'DESCRIPT1': '                                    ', 'TYPE_CODE': 'VA', 'NUMBER0': 804, 'SHAPENUM': 64, 'RINGNUM': 1, 'DESCRIPT0': 'CIVIL VOTING AREA'}\n",
      "{'TYPE_COD0': '   ', 'CODE': 'E05000350', 'NAME': 'Cranford Ward', 'AREA': 0.0, 'POLYGON_ID': 51125, 'FILE_NAME': 'GREATER_LONDON_AUTHORITY', 'DESCRIPTIO': 'London Borough Ward', 'AREA_CODE': 'LBW', 'NUMBER': 102, 'UNIT_ID': 11476, 'HECTARES': 272.63, 'DESCRIPT1': '                                    ', 'TYPE_CODE': 'VA', 'NUMBER0': 805, 'SHAPENUM': 65, 'RINGNUM': 1, 'DESCRIPT0': 'CIVIL VOTING AREA'}\n",
      "{'TYPE_COD0': '   ', 'CODE': 'E05000364', 'NAME': 'Syon Ward', 'AREA': 13.187, 'POLYGON_ID': 117104, 'FILE_NAME': 'GREATER_LONDON_AUTHORITY', 'DESCRIPTIO': 'London Borough Ward', 'AREA_CODE': 'LBW', 'NUMBER': 120, 'UNIT_ID': 41858, 'HECTARES': 285.378, 'DESCRIPT1': '                                    ', 'TYPE_CODE': 'VA', 'NUMBER0': 806, 'SHAPENUM': 66, 'RINGNUM': 1, 'DESCRIPT0': 'CIVIL VOTING AREA'}\n",
      "{'TYPE_COD0': '   ', 'CODE': 'E05000357', 'NAME': 'Heston West Ward', 'AREA': 0.0, 'POLYGON_ID': 51133, 'FILE_NAME': 'GREATER_LONDON_AUTHORITY', 'DESCRIPTIO': 'London Borough Ward', 'AREA_CODE': 'LBW', 'NUMBER': 174, 'UNIT_ID': 11484, 'HECTARES': 382.657, 'DESCRIPT1': '                                    ', 'TYPE_CODE': 'VA', 'NUMBER0': 807, 'SHAPENUM': 67, 'RINGNUM': 1, 'DESCRIPT0': 'CIVIL VOTING AREA'}\n",
      "{'TYPE_COD0': '   ', 'CODE': 'E05000356', 'NAME': 'Heston East Ward', 'AREA': 0.0, 'POLYGON_ID': 117113, 'FILE_NAME': 'GREATER_LONDON_AUTHORITY', 'DESCRIPTIO': 'London Borough Ward', 'AREA_CODE': 'LBW', 'NUMBER': 175, 'UNIT_ID': 11491, 'HECTARES': 205.913, 'DESCRIPT1': '                                    ', 'TYPE_CODE': 'VA', 'NUMBER0': 808, 'SHAPENUM': 68, 'RINGNUM': 1, 'DESCRIPT0': 'CIVIL VOTING AREA'}\n",
      "{'TYPE_COD0': '   ', 'CODE': 'E05000363', 'NAME': 'Osterley and Spring Grove Ward', 'AREA': 0.0, 'POLYGON_ID': 117103, 'FILE_NAME': 'GREATER_LONDON_AUTHORITY', 'DESCRIPTIO': 'London Borough Ward', 'AREA_CODE': 'LBW', 'NUMBER': 176, 'UNIT_ID': 41856, 'HECTARES': 627.784, 'DESCRIPT1': '                                    ', 'TYPE_CODE': 'VA', 'NUMBER0': 809, 'SHAPENUM': 69, 'RINGNUM': 1, 'DESCRIPT0': 'CIVIL VOTING AREA'}\n",
      "{'TYPE_COD0': '   ', 'CODE': 'E05000347', 'NAME': 'Brentford Ward', 'AREA': 3.263, 'POLYGON_ID': 117105, 'FILE_NAME': 'GREATER_LONDON_AUTHORITY', 'DESCRIPTIO': 'London Borough Ward', 'AREA_CODE': 'LBW', 'NUMBER': 199, 'UNIT_ID': 11401, 'HECTARES': 318.351, 'DESCRIPT1': '                                    ', 'TYPE_CODE': 'VA', 'NUMBER0': 810, 'SHAPENUM': 70, 'RINGNUM': 1, 'DESCRIPT0': 'CIVIL VOTING AREA'}\n",
      "{'TYPE_COD0': '   ', 'CODE': 'E05000348', 'NAME': 'Chiswick Homefields Ward', 'AREA': 22.286, 'POLYGON_ID': 117106, 'FILE_NAME': 'GREATER_LONDON_AUTHORITY', 'DESCRIPTIO': 'London Borough Ward', 'AREA_CODE': 'LBW', 'NUMBER': 200, 'UNIT_ID': 11439, 'HECTARES': 225.923, 'DESCRIPT1': '                                    ', 'TYPE_CODE': 'VA', 'NUMBER0': 811, 'SHAPENUM': 71, 'RINGNUM': 1, 'DESCRIPT0': 'CIVIL VOTING AREA'}\n",
      "{'TYPE_COD0': '   ', 'CODE': 'E05000352', 'NAME': 'Feltham West Ward', 'AREA': 0.0, 'POLYGON_ID': 117107, 'FILE_NAME': 'GREATER_LONDON_AUTHORITY', 'DESCRIPTIO': 'London Borough Ward', 'AREA_CODE': 'LBW', 'NUMBER': 293, 'UNIT_ID': 11480, 'HECTARES': 318.105, 'DESCRIPT1': '                                    ', 'TYPE_CODE': 'VA', 'NUMBER0': 812, 'SHAPENUM': 72, 'RINGNUM': 1, 'DESCRIPT0': 'CIVIL VOTING AREA'}\n",
      "{'TYPE_COD0': '   ', 'CODE': 'E05000354', 'NAME': 'Hanworth Park Ward', 'AREA': 0.0, 'POLYGON_ID': 51123, 'FILE_NAME': 'GREATER_LONDON_AUTHORITY', 'DESCRIPTIO': 'London Borough Ward', 'AREA_CODE': 'LBW', 'NUMBER': 295, 'UNIT_ID': 11474, 'HECTARES': 366.126, 'DESCRIPT1': '                                    ', 'TYPE_CODE': 'VA', 'NUMBER0': 813, 'SHAPENUM': 73, 'RINGNUM': 1, 'DESCRIPT0': 'CIVIL VOTING AREA'}\n",
      "{'TYPE_COD0': '   ', 'CODE': 'E05000351', 'NAME': 'Feltham North Ward', 'AREA': 0.0, 'POLYGON_ID': 117102, 'FILE_NAME': 'GREATER_LONDON_AUTHORITY', 'DESCRIPTIO': 'London Borough Ward', 'AREA_CODE': 'LBW', 'NUMBER': 300, 'UNIT_ID': 11481, 'HECTARES': 338.448, 'DESCRIPT1': '                                    ', 'TYPE_CODE': 'VA', 'NUMBER0': 814, 'SHAPENUM': 74, 'RINGNUM': 1, 'DESCRIPT0': 'CIVIL VOTING AREA'}\n",
      "{'TYPE_COD0': '   ', 'CODE': 'E05000359', 'NAME': 'Hounslow Heath Ward', 'AREA': 0.0, 'POLYGON_ID': 117108, 'FILE_NAME': 'GREATER_LONDON_AUTHORITY', 'DESCRIPTIO': 'London Borough Ward', 'AREA_CODE': 'LBW', 'NUMBER': 301, 'UNIT_ID': 41857, 'HECTARES': 278.178, 'DESCRIPT1': '                                    ', 'TYPE_CODE': 'VA', 'NUMBER0': 815, 'SHAPENUM': 75, 'RINGNUM': 1, 'DESCRIPT0': 'CIVIL VOTING AREA'}\n",
      "{'TYPE_COD0': '   ', 'CODE': 'E05000361', 'NAME': 'Hounslow West Ward', 'AREA': 0.0, 'POLYGON_ID': 117109, 'FILE_NAME': 'GREATER_LONDON_AUTHORITY', 'DESCRIPTIO': 'London Borough Ward', 'AREA_CODE': 'LBW', 'NUMBER': 302, 'UNIT_ID': 11492, 'HECTARES': 162.018, 'DESCRIPT1': '                                    ', 'TYPE_CODE': 'VA', 'NUMBER0': 816, 'SHAPENUM': 76, 'RINGNUM': 1, 'DESCRIPT0': 'CIVIL VOTING AREA'}\n",
      "{'TYPE_COD0': '   ', 'CODE': 'E05000355', 'NAME': 'Heston Central Ward', 'AREA': 0.0, 'POLYGON_ID': 117112, 'FILE_NAME': 'GREATER_LONDON_AUTHORITY', 'DESCRIPTIO': 'London Borough Ward', 'AREA_CODE': 'LBW', 'NUMBER': 303, 'UNIT_ID': 11483, 'HECTARES': 168.478, 'DESCRIPT1': '                                    ', 'TYPE_CODE': 'VA', 'NUMBER0': 817, 'SHAPENUM': 77, 'RINGNUM': 1, 'DESCRIPT0': 'CIVIL VOTING AREA'}\n",
      "{'TYPE_COD0': '   ', 'CODE': 'E05000360', 'NAME': 'Hounslow South Ward', 'AREA': 0.0, 'POLYGON_ID': 117110, 'FILE_NAME': 'GREATER_LONDON_AUTHORITY', 'DESCRIPTIO': 'London Borough Ward', 'AREA_CODE': 'LBW', 'NUMBER': 304, 'UNIT_ID': 11486, 'HECTARES': 179.011, 'DESCRIPT1': '                                    ', 'TYPE_CODE': 'VA', 'NUMBER0': 818, 'SHAPENUM': 78, 'RINGNUM': 1, 'DESCRIPT0': 'CIVIL VOTING AREA'}\n",
      "{'TYPE_COD0': '   ', 'CODE': 'E05000362', 'NAME': 'Isleworth Ward', 'AREA': 6.436, 'POLYGON_ID': 117111, 'FILE_NAME': 'GREATER_LONDON_AUTHORITY', 'DESCRIPTIO': 'London Borough Ward', 'AREA_CODE': 'LBW', 'NUMBER': 306, 'UNIT_ID': 11496, 'HECTARES': 203.089, 'DESCRIPT1': '                                    ', 'TYPE_CODE': 'VA', 'NUMBER0': 819, 'SHAPENUM': 79, 'RINGNUM': 1, 'DESCRIPT0': 'CIVIL VOTING AREA'}\n",
      "{'TYPE_COD0': '   ', 'CODE': 'E05000358', 'NAME': 'Hounslow Central Ward', 'AREA': 0.0, 'POLYGON_ID': 117116, 'FILE_NAME': 'GREATER_LONDON_AUTHORITY', 'DESCRIPTIO': 'London Borough Ward', 'AREA_CODE': 'LBW', 'NUMBER': 307, 'UNIT_ID': 11488, 'HECTARES': 173.393, 'DESCRIPT1': '                                    ', 'TYPE_CODE': 'VA', 'NUMBER0': 820, 'SHAPENUM': 80, 'RINGNUM': 1, 'DESCRIPT0': 'CIVIL VOTING AREA'}\n",
      "{'TYPE_COD0': '   ', 'CODE': 'E05000349', 'NAME': 'Chiswick Riverside Ward', 'AREA': 15.584, 'POLYGON_ID': 117114, 'FILE_NAME': 'GREATER_LONDON_AUTHORITY', 'DESCRIPTIO': 'London Borough Ward', 'AREA_CODE': 'LBW', 'NUMBER': 349, 'UNIT_ID': 11436, 'HECTARES': 208.007, 'DESCRIPT1': '                                    ', 'TYPE_CODE': 'VA', 'NUMBER0': 821, 'SHAPENUM': 81, 'RINGNUM': 1, 'DESCRIPT0': 'CIVIL VOTING AREA'}\n",
      "{'TYPE_COD0': '   ', 'CODE': 'E05000365', 'NAME': 'Turnham Green Ward', 'AREA': 0.0, 'POLYGON_ID': 117115, 'FILE_NAME': 'GREATER_LONDON_AUTHORITY', 'DESCRIPTIO': 'London Borough Ward', 'AREA_CODE': 'LBW', 'NUMBER': 460, 'UNIT_ID': 11435, 'HECTARES': 176.953, 'DESCRIPT1': '                                    ', 'TYPE_CODE': 'VA', 'NUMBER0': 822, 'SHAPENUM': 82, 'RINGNUM': 1, 'DESCRIPT0': 'CIVIL VOTING AREA'}\n",
      "{'TYPE_COD0': '   ', 'CODE': 'E05000186', 'NAME': 'Norwood Green Ward', 'AREA': 0.0, 'POLYGON_ID': 116744, 'FILE_NAME': 'GREATER_LONDON_AUTHORITY', 'DESCRIPTIO': 'London Borough Ward', 'AREA_CODE': 'LBW', 'NUMBER': 177, 'UNIT_ID': 41797, 'HECTARES': 379.609, 'DESCRIPT1': '                                    ', 'TYPE_CODE': 'VA', 'NUMBER0': 825, 'SHAPENUM': 83, 'RINGNUM': 1, 'DESCRIPT0': 'CIVIL VOTING AREA'}\n",
      "{'TYPE_COD0': '   ', 'CODE': 'E05000190', 'NAME': 'Southall Green Ward', 'AREA': 0.0, 'POLYGON_ID': 51134, 'FILE_NAME': 'GREATER_LONDON_AUTHORITY', 'DESCRIPTIO': 'London Borough Ward', 'AREA_CODE': 'LBW', 'NUMBER': 178, 'UNIT_ID': 11485, 'HECTARES': 158.616, 'DESCRIPT1': '                                    ', 'TYPE_CODE': 'VA', 'NUMBER0': 826, 'SHAPENUM': 84, 'RINGNUM': 1, 'DESCRIPT0': 'CIVIL VOTING AREA'}\n",
      "{'TYPE_COD0': '   ', 'CODE': 'E05000185', 'NAME': 'Northolt West End Ward', 'AREA': 0.0, 'POLYGON_ID': 51089, 'FILE_NAME': 'GREATER_LONDON_AUTHORITY', 'DESCRIPTIO': 'London Borough Ward', 'AREA_CODE': 'LBW', 'NUMBER': 179, 'UNIT_ID': 11527, 'HECTARES': 354.536, 'DESCRIPT1': '                                    ', 'TYPE_CODE': 'VA', 'NUMBER0': 827, 'SHAPENUM': 85, 'RINGNUM': 1, 'DESCRIPT0': 'CIVIL VOTING AREA'}\n",
      "{'TYPE_COD0': '   ', 'CODE': 'E05000172', 'NAME': 'Dormers Wells Ward', 'AREA': 0.0, 'POLYGON_ID': 116745, 'FILE_NAME': 'GREATER_LONDON_AUTHORITY', 'DESCRIPTIO': 'London Borough Ward', 'AREA_CODE': 'LBW', 'NUMBER': 180, 'UNIT_ID': 11526, 'HECTARES': 225.73, 'DESCRIPT1': '                                    ', 'TYPE_CODE': 'VA', 'NUMBER0': 828, 'SHAPENUM': 86, 'RINGNUM': 1, 'DESCRIPT0': 'CIVIL VOTING AREA'}\n",
      "{'TYPE_COD0': '   ', 'CODE': 'E05000177', 'NAME': 'Greenford Broadway Ward', 'AREA': 0.0, 'POLYGON_ID': 116746, 'FILE_NAME': 'GREATER_LONDON_AUTHORITY', 'DESCRIPTIO': 'London Borough Ward', 'AREA_CODE': 'LBW', 'NUMBER': 181, 'UNIT_ID': 11522, 'HECTARES': 251.669, 'DESCRIPT1': '                                    ', 'TYPE_CODE': 'VA', 'NUMBER0': 829, 'SHAPENUM': 87, 'RINGNUM': 1, 'DESCRIPT0': 'CIVIL VOTING AREA'}\n",
      "{'TYPE_COD0': '   ', 'CODE': 'E05000183', 'NAME': 'North Greenford Ward', 'AREA': 0.0, 'POLYGON_ID': 71036, 'FILE_NAME': 'GREATER_LONDON_AUTHORITY', 'DESCRIPTIO': 'London Borough Ward', 'AREA_CODE': 'LBW', 'NUMBER': 186, 'UNIT_ID': 25231, 'HECTARES': 325.737, 'DESCRIPT1': '                                    ', 'TYPE_CODE': 'VA', 'NUMBER0': 830, 'SHAPENUM': 88, 'RINGNUM': 1, 'DESCRIPT0': 'CIVIL VOTING AREA'}\n",
      "{'TYPE_COD0': '   ', 'CODE': 'E05000182', 'NAME': 'Northfield Ward', 'AREA': 0.0, 'POLYGON_ID': 50524, 'FILE_NAME': 'GREATER_LONDON_AUTHORITY', 'DESCRIPTIO': 'London Borough Ward', 'AREA_CODE': 'LBW', 'NUMBER': 198, 'UNIT_ID': 11400, 'HECTARES': 154.011, 'DESCRIPT1': '                                    ', 'TYPE_CODE': 'VA', 'NUMBER0': 831, 'SHAPENUM': 89, 'RINGNUM': 1, 'DESCRIPT0': 'CIVIL VOTING AREA'}\n",
      "{'TYPE_COD0': '   ', 'CODE': 'E05000175', 'NAME': 'East Acton Ward', 'AREA': 0.0, 'POLYGON_ID': 116749, 'FILE_NAME': 'GREATER_LONDON_AUTHORITY', 'DESCRIPTIO': 'London Borough Ward', 'AREA_CODE': 'LBW', 'NUMBER': 201, 'UNIT_ID': 11499, 'HECTARES': 427.588, 'DESCRIPT1': '                                    ', 'TYPE_CODE': 'VA', 'NUMBER0': 832, 'SHAPENUM': 90, 'RINGNUM': 1, 'DESCRIPT0': 'CIVIL VOTING AREA'}\n",
      "{'TYPE_COD0': '   ', 'CODE': 'E05000189', 'NAME': 'Southall Broadway Ward', 'AREA': 0.0, 'POLYGON_ID': 51091, 'FILE_NAME': 'GREATER_LONDON_AUTHORITY', 'DESCRIPTIO': 'London Borough Ward', 'AREA_CODE': 'LBW', 'NUMBER': 439, 'UNIT_ID': 11529, 'HECTARES': 161.725, 'DESCRIPT1': '                                    ', 'TYPE_CODE': 'VA', 'NUMBER0': 833, 'SHAPENUM': 91, 'RINGNUM': 1, 'DESCRIPT0': 'CIVIL VOTING AREA'}\n",
      "{'TYPE_COD0': '   ', 'CODE': 'E05000176', 'NAME': 'Elthorne Ward', 'AREA': 0.0, 'POLYGON_ID': 51087, 'FILE_NAME': 'GREATER_LONDON_AUTHORITY', 'DESCRIPTIO': 'London Borough Ward', 'AREA_CODE': 'LBW', 'NUMBER': 440, 'UNIT_ID': 11525, 'HECTARES': 199.963, 'DESCRIPT1': '                                    ', 'TYPE_CODE': 'VA', 'NUMBER0': 834, 'SHAPENUM': 92, 'RINGNUM': 1, 'DESCRIPT0': 'CIVIL VOTING AREA'}\n",
      "{'TYPE_COD0': '   ', 'CODE': 'E05000192', 'NAME': 'Walpole Ward', 'AREA': 0.0, 'POLYGON_ID': 51112, 'FILE_NAME': 'GREATER_LONDON_AUTHORITY', 'DESCRIPTIO': 'London Borough Ward', 'AREA_CODE': 'LBW', 'NUMBER': 441, 'UNIT_ID': 11465, 'HECTARES': 146.596, 'DESCRIPT1': '                                    ', 'TYPE_CODE': 'VA', 'NUMBER0': 835, 'SHAPENUM': 93, 'RINGNUM': 1, 'DESCRIPT0': 'CIVIL VOTING AREA'}\n",
      "{'TYPE_COD0': '   ', 'CODE': 'E05000181', 'NAME': 'Lady Margaret Ward', 'AREA': 0.0, 'POLYGON_ID': 50955, 'FILE_NAME': 'GREATER_LONDON_AUTHORITY', 'DESCRIPTIO': 'London Borough Ward', 'AREA_CODE': 'LBW', 'NUMBER': 444, 'UNIT_ID': 11569, 'HECTARES': 154.182, 'DESCRIPT1': '                                    ', 'TYPE_CODE': 'VA', 'NUMBER0': 836, 'SHAPENUM': 94, 'RINGNUM': 1, 'DESCRIPT0': 'CIVIL VOTING AREA'}\n",
      "{'TYPE_COD0': '   ', 'CODE': 'E05000184', 'NAME': 'Northolt Mandeville Ward', 'AREA': 0.0, 'POLYGON_ID': 51013, 'FILE_NAME': 'GREATER_LONDON_AUTHORITY', 'DESCRIPTIO': 'London Borough Ward', 'AREA_CODE': 'LBW', 'NUMBER': 445, 'UNIT_ID': 11541, 'HECTARES': 275.664, 'DESCRIPT1': '                                    ', 'TYPE_CODE': 'VA', 'NUMBER0': 837, 'SHAPENUM': 95, 'RINGNUM': 1, 'DESCRIPT0': 'CIVIL VOTING AREA'}\n",
      "{'TYPE_COD0': '   ', 'CODE': 'E05000180', 'NAME': 'Hobbayne Ward', 'AREA': 0.0, 'POLYGON_ID': 51086, 'FILE_NAME': 'GREATER_LONDON_AUTHORITY', 'DESCRIPTIO': 'London Borough Ward', 'AREA_CODE': 'LBW', 'NUMBER': 446, 'UNIT_ID': 11524, 'HECTARES': 220.937, 'DESCRIPT1': '                                    ', 'TYPE_CODE': 'VA', 'NUMBER0': 838, 'SHAPENUM': 96, 'RINGNUM': 1, 'DESCRIPT0': 'CIVIL VOTING AREA'}\n",
      "{'TYPE_COD0': '   ', 'CODE': 'E05000171', 'NAME': 'Cleveland Ward', 'AREA': 0.0, 'POLYGON_ID': 50521, 'FILE_NAME': 'GREATER_LONDON_AUTHORITY', 'DESCRIPTIO': 'London Borough Ward', 'AREA_CODE': 'LBW', 'NUMBER': 447, 'UNIT_ID': 11397, 'HECTARES': 222.856, 'DESCRIPT1': '                                    ', 'TYPE_CODE': 'VA', 'NUMBER0': 839, 'SHAPENUM': 97, 'RINGNUM': 1, 'DESCRIPT0': 'CIVIL VOTING AREA'}\n",
      "{'TYPE_COD0': '   ', 'CODE': 'E05000178', 'NAME': 'Greenford Green Ward', 'AREA': 0.0, 'POLYGON_ID': 116747, 'FILE_NAME': 'GREATER_LONDON_AUTHORITY', 'DESCRIPTIO': 'London Borough Ward', 'AREA_CODE': 'LBW', 'NUMBER': 448, 'UNIT_ID': 11396, 'HECTARES': 338.477, 'DESCRIPT1': '                                    ', 'TYPE_CODE': 'VA', 'NUMBER0': 840, 'SHAPENUM': 98, 'RINGNUM': 1, 'DESCRIPT0': 'CIVIL VOTING AREA'}\n",
      "{'TYPE_COD0': '   ', 'CODE': 'E05000187', 'NAME': 'Perivale Ward', 'AREA': 0.0, 'POLYGON_ID': 51106, 'FILE_NAME': 'GREATER_LONDON_AUTHORITY', 'DESCRIPTIO': 'London Borough Ward', 'AREA_CODE': 'LBW', 'NUMBER': 449, 'UNIT_ID': 11459, 'HECTARES': 336.775, 'DESCRIPT1': '                                    ', 'TYPE_CODE': 'VA', 'NUMBER0': 841, 'SHAPENUM': 99, 'RINGNUM': 1, 'DESCRIPT0': 'CIVIL VOTING AREA'}\n",
      "{'TYPE_COD0': '   ', 'CODE': 'E05000174', 'NAME': 'Ealing Common Ward', 'AREA': 0.0, 'POLYGON_ID': 51111, 'FILE_NAME': 'GREATER_LONDON_AUTHORITY', 'DESCRIPTIO': 'London Borough Ward', 'AREA_CODE': 'LBW', 'NUMBER': 461, 'UNIT_ID': 11464, 'HECTARES': 214.106, 'DESCRIPT1': '                                    ', 'TYPE_CODE': 'VA', 'NUMBER0': 842, 'SHAPENUM': 100, 'RINGNUM': 1, 'DESCRIPT0': 'CIVIL VOTING AREA'}\n",
      "{'TYPE_COD0': '   ', 'CODE': 'E05000173', 'NAME': 'Ealing Broadway Ward', 'AREA': 0.0, 'POLYGON_ID': 51110, 'FILE_NAME': 'GREATER_LONDON_AUTHORITY', 'DESCRIPTIO': 'London Borough Ward', 'AREA_CODE': 'LBW', 'NUMBER': 462, 'UNIT_ID': 11463, 'HECTARES': 185.676, 'DESCRIPT1': '                                    ', 'TYPE_CODE': 'VA', 'NUMBER0': 843, 'SHAPENUM': 101, 'RINGNUM': 1, 'DESCRIPT0': 'CIVIL VOTING AREA'}\n",
      "{'TYPE_COD0': '   ', 'CODE': 'E05000188', 'NAME': 'South Acton Ward', 'AREA': 0.0, 'POLYGON_ID': 51062, 'FILE_NAME': 'GREATER_LONDON_AUTHORITY', 'DESCRIPTIO': 'London Borough Ward', 'AREA_CODE': 'LBW', 'NUMBER': 463, 'UNIT_ID': 11500, 'HECTARES': 171.92, 'DESCRIPT1': '                                    ', 'TYPE_CODE': 'VA', 'NUMBER0': 844, 'SHAPENUM': 102, 'RINGNUM': 1, 'DESCRIPT0': 'CIVIL VOTING AREA'}\n",
      "{'TYPE_COD0': '   ', 'CODE': 'E05000191', 'NAME': 'Southfield Ward', 'AREA': 0.0, 'POLYGON_ID': 116748, 'FILE_NAME': 'GREATER_LONDON_AUTHORITY', 'DESCRIPTIO': 'London Borough Ward', 'AREA_CODE': 'LBW', 'NUMBER': 464, 'UNIT_ID': 11434, 'HECTARES': 142.869, 'DESCRIPT1': '                                    ', 'TYPE_CODE': 'VA', 'NUMBER0': 845, 'SHAPENUM': 103, 'RINGNUM': 1, 'DESCRIPT0': 'CIVIL VOTING AREA'}\n",
      "{'TYPE_COD0': '   ', 'CODE': 'E05000170', 'NAME': 'Acton Central Ward', 'AREA': 0.0, 'POLYGON_ID': 51060, 'FILE_NAME': 'GREATER_LONDON_AUTHORITY', 'DESCRIPTIO': 'London Borough Ward', 'AREA_CODE': 'LBW', 'NUMBER': 465, 'UNIT_ID': 11498, 'HECTARES': 177.463, 'DESCRIPT1': '                                    ', 'TYPE_CODE': 'VA', 'NUMBER0': 846, 'SHAPENUM': 104, 'RINGNUM': 1, 'DESCRIPT0': 'CIVIL VOTING AREA'}\n",
      "{'TYPE_COD0': '   ', 'CODE': 'E05000179', 'NAME': 'Hanger Hill Ward', 'AREA': 0.0, 'POLYGON_ID': 50522, 'FILE_NAME': 'GREATER_LONDON_AUTHORITY', 'DESCRIPTIO': 'London Borough Ward', 'AREA_CODE': 'LBW', 'NUMBER': 474, 'UNIT_ID': 11398, 'HECTARES': 327.724, 'DESCRIPT1': '                                    ', 'TYPE_CODE': 'VA', 'NUMBER0': 847, 'SHAPENUM': 105, 'RINGNUM': 1, 'DESCRIPT0': 'CIVIL VOTING AREA'}\n",
      "{'TYPE_COD0': '   ', 'CODE': 'E05000323', 'NAME': 'Upminster Ward', 'AREA': 0.0, 'POLYGON_ID': 116694, 'FILE_NAME': 'GREATER_LONDON_AUTHORITY', 'DESCRIPTIO': 'London Borough Ward', 'AREA_CODE': 'LBW', 'NUMBER': 16, 'UNIT_ID': 10785, 'HECTARES': 2253.736, 'DESCRIPT1': '                                    ', 'TYPE_CODE': 'VA', 'NUMBER0': 850, 'SHAPENUM': 106, 'RINGNUM': 1, 'DESCRIPT0': 'CIVIL VOTING AREA'}\n",
      "{'TYPE_COD0': '   ', 'CODE': 'E05000318', 'NAME': 'Rainham and Wennington Ward', 'AREA': 154.284, 'POLYGON_ID': 50925, 'FILE_NAME': 'GREATER_LONDON_AUTHORITY', 'DESCRIPTIO': 'London Borough Ward', 'AREA_CODE': 'LBW', 'NUMBER': 94, 'UNIT_ID': 10793, 'HECTARES': 1688.01, 'DESCRIPT1': '                                    ', 'TYPE_CODE': 'VA', 'NUMBER0': 852, 'SHAPENUM': 107, 'RINGNUM': 1, 'DESCRIPT0': 'CIVIL VOTING AREA'}\n",
      "{'TYPE_COD0': '   ', 'CODE': 'E05000321', 'NAME': 'South Hornchurch Ward', 'AREA': 56.479, 'POLYGON_ID': 116695, 'FILE_NAME': 'GREATER_LONDON_AUTHORITY', 'DESCRIPTIO': 'London Borough Ward', 'AREA_CODE': 'LBW', 'NUMBER': 264, 'UNIT_ID': 10815, 'HECTARES': 687.318, 'DESCRIPT1': '                                    ', 'TYPE_CODE': 'VA', 'NUMBER0': 853, 'SHAPENUM': 108, 'RINGNUM': 1, 'DESCRIPT0': 'CIVIL VOTING AREA'}\n",
      "{'TYPE_COD0': '   ', 'CODE': 'E05000308', 'NAME': 'Elm Park Ward', 'AREA': 0.0, 'POLYGON_ID': 116696, 'FILE_NAME': 'GREATER_LONDON_AUTHORITY', 'DESCRIPTIO': 'London Borough Ward', 'AREA_CODE': 'LBW', 'NUMBER': 265, 'UNIT_ID': 10796, 'HECTARES': 366.535, 'DESCRIPT1': '                                    ', 'TYPE_CODE': 'VA', 'NUMBER0': 854, 'SHAPENUM': 109, 'RINGNUM': 1, 'DESCRIPT0': 'CIVIL VOTING AREA'}\n",
      "{'TYPE_COD0': '   ', 'CODE': 'E05000306', 'NAME': 'Brooklands Ward', 'AREA': 0.0, 'POLYGON_ID': 116702, 'FILE_NAME': 'GREATER_LONDON_AUTHORITY', 'DESCRIPTIO': 'London Borough Ward', 'AREA_CODE': 'LBW', 'NUMBER': 268, 'UNIT_ID': 10811, 'HECTARES': 420.264, 'DESCRIPT1': '                                    ', 'TYPE_CODE': 'VA', 'NUMBER0': 855, 'SHAPENUM': 110, 'RINGNUM': 1, 'DESCRIPT0': 'CIVIL VOTING AREA'}\n",
      "{'TYPE_COD0': '   ', 'CODE': 'E05000319', 'NAME': 'Romford Town Ward', 'AREA': 0.0, 'POLYGON_ID': 116703, 'FILE_NAME': 'GREATER_LONDON_AUTHORITY', 'DESCRIPTIO': 'London Borough Ward', 'AREA_CODE': 'LBW', 'NUMBER': 269, 'UNIT_ID': 10938, 'HECTARES': 286.473, 'DESCRIPT1': '                                    ', 'TYPE_CODE': 'VA', 'NUMBER0': 856, 'SHAPENUM': 111, 'RINGNUM': 1, 'DESCRIPT0': 'CIVIL VOTING AREA'}\n",
      "{'TYPE_COD0': '   ', 'CODE': 'E05000316', 'NAME': 'Mawneys Ward', 'AREA': 0.0, 'POLYGON_ID': 51287, 'FILE_NAME': 'GREATER_LONDON_AUTHORITY', 'DESCRIPTIO': 'London Borough Ward', 'AREA_CODE': 'LBW', 'NUMBER': 270, 'UNIT_ID': 10941, 'HECTARES': 304.261, 'DESCRIPT1': '                                    ', 'TYPE_CODE': 'VA', 'NUMBER0': 857, 'SHAPENUM': 112, 'RINGNUM': 1, 'DESCRIPT0': 'CIVIL VOTING AREA'}\n",
      "{'TYPE_COD0': '   ', 'CODE': 'E05000317', 'NAME': 'Pettits Ward', 'AREA': 0.0, 'POLYGON_ID': 116708, 'FILE_NAME': 'GREATER_LONDON_AUTHORITY', 'DESCRIPTIO': 'London Borough Ward', 'AREA_CODE': 'LBW', 'NUMBER': 271, 'UNIT_ID': 10939, 'HECTARES': 395.457, 'DESCRIPT1': '                                    ', 'TYPE_CODE': 'VA', 'NUMBER0': 858, 'SHAPENUM': 113, 'RINGNUM': 1, 'DESCRIPT0': 'CIVIL VOTING AREA'}\n",
      "{'TYPE_COD0': '   ', 'CODE': 'E05000311', 'NAME': 'Hacton Ward', 'AREA': 0.0, 'POLYGON_ID': 116704, 'FILE_NAME': 'GREATER_LONDON_AUTHORITY', 'DESCRIPTIO': 'London Borough Ward', 'AREA_CODE': 'LBW', 'NUMBER': 272, 'UNIT_ID': 10795, 'HECTARES': 246.542, 'DESCRIPT1': '                                    ', 'TYPE_CODE': 'VA', 'NUMBER0': 859, 'SHAPENUM': 114, 'RINGNUM': 1, 'DESCRIPT0': 'CIVIL VOTING AREA'}\n",
      "{'TYPE_COD0': '   ', 'CODE': 'E05000320', 'NAME': \"St. Andrew's Ward\", 'AREA': 0.0, 'POLYGON_ID': 116705, 'FILE_NAME': 'GREATER_LONDON_AUTHORITY', 'DESCRIPTIO': 'London Borough Ward', 'AREA_CODE': 'LBW', 'NUMBER': 273, 'UNIT_ID': 10797, 'HECTARES': 267.712, 'DESCRIPT1': '                                    ', 'TYPE_CODE': 'VA', 'NUMBER0': 860, 'SHAPENUM': 115, 'RINGNUM': 1, 'DESCRIPT0': 'CIVIL VOTING AREA'}\n",
      "{'TYPE_COD0': '   ', 'CODE': 'E05000309', 'NAME': 'Emerson Park Ward', 'AREA': 0.0, 'POLYGON_ID': 116706, 'FILE_NAME': 'GREATER_LONDON_AUTHORITY', 'DESCRIPTIO': 'London Borough Ward', 'AREA_CODE': 'LBW', 'NUMBER': 274, 'UNIT_ID': 10803, 'HECTARES': 464.243, 'DESCRIPT1': '                                    ', 'TYPE_CODE': 'VA', 'NUMBER0': 861, 'SHAPENUM': 116, 'RINGNUM': 1, 'DESCRIPT0': 'CIVIL VOTING AREA'}\n",
      "{'TYPE_COD0': '   ', 'CODE': 'E05000322', 'NAME': \"Squirrel's Heath Ward\", 'AREA': 0.0, 'POLYGON_ID': 116697, 'FILE_NAME': 'GREATER_LONDON_AUTHORITY', 'DESCRIPTIO': 'London Borough Ward', 'AREA_CODE': 'LBW', 'NUMBER': 275, 'UNIT_ID': 10804, 'HECTARES': 265.147, 'DESCRIPT1': '                                    ', 'TYPE_CODE': 'VA', 'NUMBER0': 862, 'SHAPENUM': 117, 'RINGNUM': 1, 'DESCRIPT0': 'CIVIL VOTING AREA'}\n",
      "{'TYPE_COD0': '   ', 'CODE': 'E05000312', 'NAME': 'Harold Wood Ward', 'AREA': 0.0, 'POLYGON_ID': 116699, 'FILE_NAME': 'GREATER_LONDON_AUTHORITY', 'DESCRIPTIO': 'London Borough Ward', 'AREA_CODE': 'LBW', 'NUMBER': 276, 'UNIT_ID': 10800, 'HECTARES': 758.973, 'DESCRIPT1': '                                    ', 'TYPE_CODE': 'VA', 'NUMBER0': 863, 'SHAPENUM': 118, 'RINGNUM': 1, 'DESCRIPT0': 'CIVIL VOTING AREA'}\n",
      "{'TYPE_COD0': '   ', 'CODE': 'E05000307', 'NAME': 'Cranham Ward', 'AREA': 0.0, 'POLYGON_ID': 116707, 'FILE_NAME': 'GREATER_LONDON_AUTHORITY', 'DESCRIPTIO': 'London Borough Ward', 'AREA_CODE': 'LBW', 'NUMBER': 277, 'UNIT_ID': 10799, 'HECTARES': 655.501, 'DESCRIPT1': '                                    ', 'TYPE_CODE': 'VA', 'NUMBER0': 864, 'SHAPENUM': 119, 'RINGNUM': 1, 'DESCRIPT0': 'CIVIL VOTING AREA'}\n",
      "{'TYPE_COD0': '   ', 'CODE': 'E05000313', 'NAME': 'Havering Park Ward', 'AREA': 0.0, 'POLYGON_ID': 116698, 'FILE_NAME': 'GREATER_LONDON_AUTHORITY', 'DESCRIPTIO': 'London Borough Ward', 'AREA_CODE': 'LBW', 'NUMBER': 289, 'UNIT_ID': 10808, 'HECTARES': 978.33, 'DESCRIPT1': '                                    ', 'TYPE_CODE': 'VA', 'NUMBER0': 865, 'SHAPENUM': 120, 'RINGNUM': 1, 'DESCRIPT0': 'CIVIL VOTING AREA'}\n",
      "{'TYPE_COD0': '   ', 'CODE': 'E05000314', 'NAME': 'Heaton Ward', 'AREA': 0.0, 'POLYGON_ID': 116700, 'FILE_NAME': 'GREATER_LONDON_AUTHORITY', 'DESCRIPTIO': 'London Borough Ward', 'AREA_CODE': 'LBW', 'NUMBER': 290, 'UNIT_ID': 10806, 'HECTARES': 341.564, 'DESCRIPT1': '                                    ', 'TYPE_CODE': 'VA', 'NUMBER0': 866, 'SHAPENUM': 121, 'RINGNUM': 1, 'DESCRIPT0': 'CIVIL VOTING AREA'}\n",
      "{'TYPE_COD0': '   ', 'CODE': 'E05000310', 'NAME': 'Gooshays Ward', 'AREA': 0.0, 'POLYGON_ID': 116701, 'FILE_NAME': 'GREATER_LONDON_AUTHORITY', 'DESCRIPTIO': 'London Borough Ward', 'AREA_CODE': 'LBW', 'NUMBER': 291, 'UNIT_ID': 10801, 'HECTARES': 775.896, 'DESCRIPT1': '                                    ', 'TYPE_CODE': 'VA', 'NUMBER0': 867, 'SHAPENUM': 122, 'RINGNUM': 1, 'DESCRIPT0': 'CIVIL VOTING AREA'}\n",
      "{'TYPE_COD0': '   ', 'CODE': 'E05000315', 'NAME': 'Hylands Ward', 'AREA': 0.0, 'POLYGON_ID': 50930, 'FILE_NAME': 'GREATER_LONDON_AUTHORITY', 'DESCRIPTIO': 'London Borough Ward', 'AREA_CODE': 'LBW', 'NUMBER': 644, 'UNIT_ID': 10798, 'HECTARES': 289.774, 'DESCRIPT1': '                                    ', 'TYPE_CODE': 'VA', 'NUMBER0': 868, 'SHAPENUM': 123, 'RINGNUM': 1, 'DESCRIPT0': 'CIVIL VOTING AREA'}\n",
      "{'TYPE_COD0': '   ', 'CODE': 'E05000331', 'NAME': 'Heathrow Villages Ward', 'AREA': 0.0, 'POLYGON_ID': 116716, 'FILE_NAME': 'GREATER_LONDON_AUTHORITY', 'DESCRIPTIO': 'London Borough Ward', 'AREA_CODE': 'LBW', 'NUMBER': 68, 'UNIT_ID': 11533, 'HECTARES': 2352.117, 'DESCRIPT1': '                                    ', 'TYPE_CODE': 'VA', 'NUMBER0': 871, 'SHAPENUM': 124, 'RINGNUM': 1, 'DESCRIPT0': 'CIVIL VOTING AREA'}\n",
      "{'TYPE_COD0': '   ', 'CODE': 'E05000330', 'NAME': 'Harefield Ward', 'AREA': 0.0, 'POLYGON_ID': 51039, 'FILE_NAME': 'GREATER_LONDON_AUTHORITY', 'DESCRIPTIO': 'London Borough Ward', 'AREA_CODE': 'LBW', 'NUMBER': 78, 'UNIT_ID': 11567, 'HECTARES': 1522.704, 'DESCRIPT1': '                                    ', 'TYPE_CODE': 'VA', 'NUMBER0': 872, 'SHAPENUM': 125, 'RINGNUM': 1, 'DESCRIPT0': 'CIVIL VOTING AREA'}\n",
      "{'TYPE_COD0': '   ', 'CODE': 'E05000342', 'NAME': 'West Drayton Ward', 'AREA': 0.0, 'POLYGON_ID': 116720, 'FILE_NAME': 'GREATER_LONDON_AUTHORITY', 'DESCRIPTIO': 'London Borough Ward', 'AREA_CODE': 'LBW', 'NUMBER': 168, 'UNIT_ID': 11565, 'HECTARES': 349.07, 'DESCRIPT1': '                                    ', 'TYPE_CODE': 'VA', 'NUMBER0': 873, 'SHAPENUM': 126, 'RINGNUM': 1, 'DESCRIPT0': 'CIVIL VOTING AREA'}\n",
      "{'TYPE_COD0': '   ', 'CODE': 'E05000345', 'NAME': 'Yiewsley Ward', 'AREA': 0.0, 'POLYGON_ID': 116722, 'FILE_NAME': 'GREATER_LONDON_AUTHORITY', 'DESCRIPTIO': 'London Borough Ward', 'AREA_CODE': 'LBW', 'NUMBER': 169, 'UNIT_ID': 11563, 'HECTARES': 402.251, 'DESCRIPT1': '                                    ', 'TYPE_CODE': 'VA', 'NUMBER0': 874, 'SHAPENUM': 127, 'RINGNUM': 1, 'DESCRIPT0': 'CIVIL VOTING AREA'}\n",
      "{'TYPE_COD0': '   ', 'CODE': 'E05000341', 'NAME': 'Uxbridge South Ward', 'AREA': 0.0, 'POLYGON_ID': 116718, 'FILE_NAME': 'GREATER_LONDON_AUTHORITY', 'DESCRIPTIO': 'London Borough Ward', 'AREA_CODE': 'LBW', 'NUMBER': 170, 'UNIT_ID': 11566, 'HECTARES': 311.447, 'DESCRIPT1': '                                    ', 'TYPE_CODE': 'VA', 'NUMBER0': 875, 'SHAPENUM': 128, 'RINGNUM': 1, 'DESCRIPT0': 'CIVIL VOTING AREA'}\n",
      "{'TYPE_COD0': '   ', 'CODE': 'E05000326', 'NAME': 'Brunel Ward', 'AREA': 0.0, 'POLYGON_ID': 51033, 'FILE_NAME': 'GREATER_LONDON_AUTHORITY', 'DESCRIPTIO': 'London Borough Ward', 'AREA_CODE': 'LBW', 'NUMBER': 171, 'UNIT_ID': 11561, 'HECTARES': 327.691, 'DESCRIPT1': '                                    ', 'TYPE_CODE': 'VA', 'NUMBER0': 876, 'SHAPENUM': 129, 'RINGNUM': 1, 'DESCRIPT0': 'CIVIL VOTING AREA'}\n",
      "{'TYPE_COD0': '   ', 'CODE': 'E05000340', 'NAME': 'Uxbridge North Ward', 'AREA': 0.0, 'POLYGON_ID': 51032, 'FILE_NAME': 'GREATER_LONDON_AUTHORITY', 'DESCRIPTIO': 'London Borough Ward', 'AREA_CODE': 'LBW', 'NUMBER': 172, 'UNIT_ID': 11560, 'HECTARES': 464.118, 'DESCRIPT1': '                                    ', 'TYPE_CODE': 'VA', 'NUMBER0': 877, 'SHAPENUM': 130, 'RINGNUM': 1, 'DESCRIPT0': 'CIVIL VOTING AREA'}\n",
      "{'TYPE_COD0': '   ', 'CODE': 'E05000332', 'NAME': 'Hillingdon East Ward', 'AREA': 0.0, 'POLYGON_ID': 116723, 'FILE_NAME': 'GREATER_LONDON_AUTHORITY', 'DESCRIPTIO': 'London Borough Ward', 'AREA_CODE': 'LBW', 'NUMBER': 173, 'UNIT_ID': 11537, 'HECTARES': 359.812, 'DESCRIPT1': '                                    ', 'TYPE_CODE': 'VA', 'NUMBER0': 878, 'SHAPENUM': 131, 'RINGNUM': 1, 'DESCRIPT0': 'CIVIL VOTING AREA'}\n",
      "{'TYPE_COD0': '   ', 'CODE': 'E05000333', 'NAME': 'Ickenham Ward', 'AREA': 0.0, 'POLYGON_ID': 51031, 'FILE_NAME': 'GREATER_LONDON_AUTHORITY', 'DESCRIPTIO': 'London Borough Ward', 'AREA_CODE': 'LBW', 'NUMBER': 182, 'UNIT_ID': 11559, 'HECTARES': 620.442, 'DESCRIPT1': '                                    ', 'TYPE_CODE': 'VA', 'NUMBER0': 879, 'SHAPENUM': 132, 'RINGNUM': 1, 'DESCRIPT0': 'CIVIL VOTING AREA'}\n",
      "{'TYPE_COD0': '   ', 'CODE': 'E05000343', 'NAME': 'West Ruislip Ward', 'AREA': 0.0, 'POLYGON_ID': 51023, 'FILE_NAME': 'GREATER_LONDON_AUTHORITY', 'DESCRIPTIO': 'London Borough Ward', 'AREA_CODE': 'LBW', 'NUMBER': 183, 'UNIT_ID': 11551, 'HECTARES': 438.74, 'DESCRIPT1': '                                    ', 'TYPE_CODE': 'VA', 'NUMBER0': 880, 'SHAPENUM': 133, 'RINGNUM': 1, 'DESCRIPT0': 'CIVIL VOTING AREA'}\n",
      "{'TYPE_COD0': '   ', 'CODE': 'E05000335', 'NAME': 'Northwood Ward', 'AREA': 0.0, 'POLYGON_ID': 51029, 'FILE_NAME': 'GREATER_LONDON_AUTHORITY', 'DESCRIPTIO': 'London Borough Ward', 'AREA_CODE': 'LBW', 'NUMBER': 184, 'UNIT_ID': 11557, 'HECTARES': 739.794, 'DESCRIPT1': '                                    ', 'TYPE_CODE': 'VA', 'NUMBER0': 881, 'SHAPENUM': 134, 'RINGNUM': 1, 'DESCRIPT0': 'CIVIL VOTING AREA'}\n",
      "{'TYPE_COD0': '   ', 'CODE': 'E05000338', 'NAME': 'South Ruislip Ward', 'AREA': 0.0, 'POLYGON_ID': 116719, 'FILE_NAME': 'GREATER_LONDON_AUTHORITY', 'DESCRIPTIO': 'London Borough Ward', 'AREA_CODE': 'LBW', 'NUMBER': 185, 'UNIT_ID': 11552, 'HECTARES': 741.795, 'DESCRIPT1': '                                    ', 'TYPE_CODE': 'VA', 'NUMBER0': 882, 'SHAPENUM': 135, 'RINGNUM': 1, 'DESCRIPT0': 'CIVIL VOTING AREA'}\n",
      "{'TYPE_COD0': '   ', 'CODE': 'E05000334', 'NAME': 'Manor Ward', 'AREA': 0.0, 'POLYGON_ID': 51022, 'FILE_NAME': 'GREATER_LONDON_AUTHORITY', 'DESCRIPTIO': 'London Borough Ward', 'AREA_CODE': 'LBW', 'NUMBER': 190, 'UNIT_ID': 11550, 'HECTARES': 197.418, 'DESCRIPT1': '                                    ', 'TYPE_CODE': 'VA', 'NUMBER0': 883, 'SHAPENUM': 136, 'RINGNUM': 1, 'DESCRIPT0': 'CIVIL VOTING AREA'}\n",
      "{'TYPE_COD0': '   ', 'CODE': 'E05000329', 'NAME': 'Eastcote and East Ruislip Ward', 'AREA': 0.0, 'POLYGON_ID': 116724, 'FILE_NAME': 'GREATER_LONDON_AUTHORITY', 'DESCRIPTIO': 'London Borough Ward', 'AREA_CODE': 'LBW', 'NUMBER': 191, 'UNIT_ID': 11553, 'HECTARES': 406.341, 'DESCRIPT1': '                                    ', 'TYPE_CODE': 'VA', 'NUMBER0': 884, 'SHAPENUM': 137, 'RINGNUM': 1, 'DESCRIPT0': 'CIVIL VOTING AREA'}\n",
      "{'TYPE_COD0': '   ', 'CODE': 'E05000336', 'NAME': 'Northwood Hills Ward', 'AREA': 0.0, 'POLYGON_ID': 51028, 'FILE_NAME': 'GREATER_LONDON_AUTHORITY', 'DESCRIPTIO': 'London Borough Ward', 'AREA_CODE': 'LBW', 'NUMBER': 192, 'UNIT_ID': 11556, 'HECTARES': 332.854, 'DESCRIPT1': '                                    ', 'TYPE_CODE': 'VA', 'NUMBER0': 885, 'SHAPENUM': 138, 'RINGNUM': 1, 'DESCRIPT0': 'CIVIL VOTING AREA'}\n",
      "{'TYPE_COD0': '   ', 'CODE': 'E05000337', 'NAME': 'Pinkwell Ward', 'AREA': 0.0, 'POLYGON_ID': 116721, 'FILE_NAME': 'GREATER_LONDON_AUTHORITY', 'DESCRIPTIO': 'London Borough Ward', 'AREA_CODE': 'LBW', 'NUMBER': 435, 'UNIT_ID': 11532, 'HECTARES': 274.833, 'DESCRIPT1': '                                    ', 'TYPE_CODE': 'VA', 'NUMBER0': 886, 'SHAPENUM': 139, 'RINGNUM': 1, 'DESCRIPT0': 'CIVIL VOTING AREA'}\n",
      "{'TYPE_COD0': '   ', 'CODE': 'E05000325', 'NAME': 'Botwell Ward', 'AREA': 0.0, 'POLYGON_ID': 116717, 'FILE_NAME': 'GREATER_LONDON_AUTHORITY', 'DESCRIPTIO': 'London Borough Ward', 'AREA_CODE': 'LBW', 'NUMBER': 436, 'UNIT_ID': 11534, 'HECTARES': 436.277, 'DESCRIPT1': '                                    ', 'TYPE_CODE': 'VA', 'NUMBER0': 887, 'SHAPENUM': 140, 'RINGNUM': 1, 'DESCRIPT0': 'CIVIL VOTING AREA'}\n",
      "{'TYPE_COD0': '   ', 'CODE': 'E05000328', 'NAME': 'Charville Ward', 'AREA': 0.0, 'POLYGON_ID': 51098, 'FILE_NAME': 'GREATER_LONDON_AUTHORITY', 'DESCRIPTIO': 'London Borough Ward', 'AREA_CODE': 'LBW', 'NUMBER': 437, 'UNIT_ID': 11536, 'HECTARES': 297.433, 'DESCRIPT1': '                                    ', 'TYPE_CODE': 'VA', 'NUMBER0': 888, 'SHAPENUM': 141, 'RINGNUM': 1, 'DESCRIPT0': 'CIVIL VOTING AREA'}\n",
      "{'TYPE_COD0': '   ', 'CODE': 'E05000339', 'NAME': 'Townfield Ward', 'AREA': 0.0, 'POLYGON_ID': 51092, 'FILE_NAME': 'GREATER_LONDON_AUTHORITY', 'DESCRIPTIO': 'London Borough Ward', 'AREA_CODE': 'LBW', 'NUMBER': 438, 'UNIT_ID': 11530, 'HECTARES': 349.833, 'DESCRIPT1': '                                    ', 'TYPE_CODE': 'VA', 'NUMBER0': 889, 'SHAPENUM': 142, 'RINGNUM': 1, 'DESCRIPT0': 'CIVIL VOTING AREA'}\n",
      "{'TYPE_COD0': '   ', 'CODE': 'E05000324', 'NAME': 'Barnhill Ward', 'AREA': 0.0, 'POLYGON_ID': 51097, 'FILE_NAME': 'GREATER_LONDON_AUTHORITY', 'DESCRIPTIO': 'London Borough Ward', 'AREA_CODE': 'LBW', 'NUMBER': 442, 'UNIT_ID': 11535, 'HECTARES': 211.821, 'DESCRIPT1': '                                    ', 'TYPE_CODE': 'VA', 'NUMBER0': 890, 'SHAPENUM': 143, 'RINGNUM': 1, 'DESCRIPT0': 'CIVIL VOTING AREA'}\n",
      "{'TYPE_COD0': '   ', 'CODE': 'E05000344', 'NAME': 'Yeading Ward', 'AREA': 0.0, 'POLYGON_ID': 51090, 'FILE_NAME': 'GREATER_LONDON_AUTHORITY', 'DESCRIPTIO': 'London Borough Ward', 'AREA_CODE': 'LBW', 'NUMBER': 443, 'UNIT_ID': 11528, 'HECTARES': 232.126, 'DESCRIPT1': '                                    ', 'TYPE_CODE': 'VA', 'NUMBER0': 891, 'SHAPENUM': 144, 'RINGNUM': 1, 'DESCRIPT0': 'CIVIL VOTING AREA'}\n",
      "{'TYPE_COD0': '   ', 'CODE': 'E05000327', 'NAME': 'Cavendish Ward', 'AREA': 0.0, 'POLYGON_ID': 51021, 'FILE_NAME': 'GREATER_LONDON_AUTHORITY', 'DESCRIPTIO': 'London Borough Ward', 'AREA_CODE': 'LBW', 'NUMBER': 450, 'UNIT_ID': 11549, 'HECTARES': 201.145, 'DESCRIPT1': '                                    ', 'TYPE_CODE': 'VA', 'NUMBER0': 892, 'SHAPENUM': 145, 'RINGNUM': 1, 'DESCRIPT0': 'CIVIL VOTING AREA'}\n",
      "{'TYPE_COD0': '   ', 'CODE': 'E05000302', 'NAME': 'Roxeth Ward', 'AREA': 0.0, 'POLYGON_ID': 51083, 'FILE_NAME': 'GREATER_LONDON_AUTHORITY', 'DESCRIPTIO': 'London Borough Ward', 'AREA_CODE': 'LBW', 'NUMBER': 187, 'UNIT_ID': 11521, 'HECTARES': 157.492, 'DESCRIPT1': '                                    ', 'TYPE_CODE': 'VA', 'NUMBER0': 897, 'SHAPENUM': 146, 'RINGNUM': 1, 'DESCRIPT0': 'CIVIL VOTING AREA'}\n",
      "{'TYPE_COD0': '   ', 'CODE': 'E05000289', 'NAME': 'Harrow on the Hill Ward', 'AREA': 0.0, 'POLYGON_ID': 50518, 'FILE_NAME': 'GREATER_LONDON_AUTHORITY', 'DESCRIPTIO': 'London Borough Ward', 'AREA_CODE': 'LBW', 'NUMBER': 188, 'UNIT_ID': 11394, 'HECTARES': 357.209, 'DESCRIPT1': '                                    ', 'TYPE_CODE': 'VA', 'NUMBER0': 898, 'SHAPENUM': 147, 'RINGNUM': 1, 'DESCRIPT0': 'CIVIL VOTING AREA'}\n",
      "{'TYPE_COD0': '   ', 'CODE': 'E05000297', 'NAME': 'Pinner Ward', 'AREA': 0.0, 'POLYGON_ID': 51019, 'FILE_NAME': 'GREATER_LONDON_AUTHORITY', 'DESCRIPTIO': 'London Borough Ward', 'AREA_CODE': 'LBW', 'NUMBER': 193, 'UNIT_ID': 11547, 'HECTARES': 327.742, 'DESCRIPT1': '                                    ', 'TYPE_CODE': 'VA', 'NUMBER0': 899, 'SHAPENUM': 148, 'RINGNUM': 1, 'DESCRIPT0': 'CIVIL VOTING AREA'}\n",
      "{'TYPE_COD0': '   ', 'CODE': 'E05000298', 'NAME': 'Pinner South Ward', 'AREA': 0.0, 'POLYGON_ID': 51020, 'FILE_NAME': 'GREATER_LONDON_AUTHORITY', 'DESCRIPTIO': 'London Borough Ward', 'AREA_CODE': 'LBW', 'NUMBER': 194, 'UNIT_ID': 11548, 'HECTARES': 234.561, 'DESCRIPT1': '                                    ', 'TYPE_CODE': 'VA', 'NUMBER0': 900, 'SHAPENUM': 149, 'RINGNUM': 1, 'DESCRIPT0': 'CIVIL VOTING AREA'}\n",
      "{'TYPE_COD0': '   ', 'CODE': 'E05000288', 'NAME': 'Greenhill Ward', 'AREA': 0.0, 'POLYGON_ID': 51077, 'FILE_NAME': 'GREATER_LONDON_AUTHORITY', 'DESCRIPTIO': 'London Borough Ward', 'AREA_CODE': 'LBW', 'NUMBER': 195, 'UNIT_ID': 11515, 'HECTARES': 174.49, 'DESCRIPT1': '                                    ', 'TYPE_CODE': 'VA', 'NUMBER0': 901, 'SHAPENUM': 150, 'RINGNUM': 1, 'DESCRIPT0': 'CIVIL VOTING AREA'}\n",
      "{'TYPE_COD0': '   ', 'CODE': 'E05000292', 'NAME': 'Headstone North Ward', 'AREA': 0.0, 'POLYGON_ID': 51027, 'FILE_NAME': 'GREATER_LONDON_AUTHORITY', 'DESCRIPTIO': 'London Borough Ward', 'AREA_CODE': 'LBW', 'NUMBER': 196, 'UNIT_ID': 11555, 'HECTARES': 329.634, 'DESCRIPT1': '                                    ', 'TYPE_CODE': 'VA', 'NUMBER0': 902, 'SHAPENUM': 151, 'RINGNUM': 1, 'DESCRIPT0': 'CIVIL VOTING AREA'}\n",
      "{'TYPE_COD0': '   ', 'CODE': 'E05000296', 'NAME': 'Marlborough Ward', 'AREA': 0.0, 'POLYGON_ID': 51078, 'FILE_NAME': 'GREATER_LONDON_AUTHORITY', 'DESCRIPTIO': 'London Borough Ward', 'AREA_CODE': 'LBW', 'NUMBER': 197, 'UNIT_ID': 11516, 'HECTARES': 164.663, 'DESCRIPT1': '                                    ', 'TYPE_CODE': 'VA', 'NUMBER0': 903, 'SHAPENUM': 152, 'RINGNUM': 1, 'DESCRIPT0': 'CIVIL VOTING AREA'}\n",
      "{'TYPE_COD0': '   ', 'CODE': 'E05000290', 'NAME': 'Harrow Weald Ward', 'AREA': 0.0, 'POLYGON_ID': 51015, 'FILE_NAME': 'GREATER_LONDON_AUTHORITY', 'DESCRIPTIO': 'London Borough Ward', 'AREA_CODE': 'LBW', 'NUMBER': 222, 'UNIT_ID': 11543, 'HECTARES': 458.973, 'DESCRIPT1': '                                    ', 'TYPE_CODE': 'VA', 'NUMBER0': 904, 'SHAPENUM': 153, 'RINGNUM': 1, 'DESCRIPT0': 'CIVIL VOTING AREA'}\n",
      "{'TYPE_COD0': '   ', 'CODE': 'E05000303', 'NAME': 'Stanmore Park Ward', 'AREA': 0.0, 'POLYGON_ID': 50516, 'FILE_NAME': 'GREATER_LONDON_AUTHORITY', 'DESCRIPTIO': 'London Borough Ward', 'AREA_CODE': 'LBW', 'NUMBER': 223, 'UNIT_ID': 11392, 'HECTARES': 445.929, 'DESCRIPT1': '                                    ', 'TYPE_CODE': 'VA', 'NUMBER0': 905, 'SHAPENUM': 154, 'RINGNUM': 1, 'DESCRIPT0': 'CIVIL VOTING AREA'}\n",
      "{'TYPE_COD0': '   ', 'CODE': 'E05000286', 'NAME': 'Canons Ward', 'AREA': 0.0, 'POLYGON_ID': 116972, 'FILE_NAME': 'GREATER_LONDON_AUTHORITY', 'DESCRIPTIO': 'London Borough Ward', 'AREA_CODE': 'LBW', 'NUMBER': 224, 'UNIT_ID': 11544, 'HECTARES': 562.632, 'DESCRIPT1': '                                    ', 'TYPE_CODE': 'VA', 'NUMBER0': 906, 'SHAPENUM': 155, 'RINGNUM': 1, 'DESCRIPT0': 'CIVIL VOTING AREA'}\n",
      "{'TYPE_COD0': '   ', 'CODE': 'E05000300', 'NAME': 'Rayners Lane Ward', 'AREA': 0.0, 'POLYGON_ID': 50957, 'FILE_NAME': 'GREATER_LONDON_AUTHORITY', 'DESCRIPTIO': 'London Borough Ward', 'AREA_CODE': 'LBW', 'NUMBER': 451, 'UNIT_ID': 11570, 'HECTARES': 152.974, 'DESCRIPT1': '                                    ', 'TYPE_CODE': 'VA', 'NUMBER0': 907, 'SHAPENUM': 156, 'RINGNUM': 1, 'DESCRIPT0': 'CIVIL VOTING AREA'}\n",
      "{'TYPE_COD0': '   ', 'CODE': 'E05000301', 'NAME': 'Roxbourne Ward', 'AREA': 0.0, 'POLYGON_ID': 51082, 'FILE_NAME': 'GREATER_LONDON_AUTHORITY', 'DESCRIPTIO': 'London Borough Ward', 'AREA_CODE': 'LBW', 'NUMBER': 452, 'UNIT_ID': 11520, 'HECTARES': 150.576, 'DESCRIPT1': '                                    ', 'TYPE_CODE': 'VA', 'NUMBER0': 908, 'SHAPENUM': 157, 'RINGNUM': 1, 'DESCRIPT0': 'CIVIL VOTING AREA'}\n",
      "{'TYPE_COD0': '   ', 'CODE': 'E05000305', 'NAME': 'West Harrow Ward', 'AREA': 0.0, 'POLYGON_ID': 51026, 'FILE_NAME': 'GREATER_LONDON_AUTHORITY', 'DESCRIPTIO': 'London Borough Ward', 'AREA_CODE': 'LBW', 'NUMBER': 454, 'UNIT_ID': 11554, 'HECTARES': 151.462, 'DESCRIPT1': '                                    ', 'TYPE_CODE': 'VA', 'NUMBER0': 909, 'SHAPENUM': 158, 'RINGNUM': 1, 'DESCRIPT0': 'CIVIL VOTING AREA'}\n",
      "{'TYPE_COD0': '   ', 'CODE': 'E05000291', 'NAME': 'Hatch End Ward', 'AREA': 0.0, 'POLYGON_ID': 51014, 'FILE_NAME': 'GREATER_LONDON_AUTHORITY', 'DESCRIPTIO': 'London Borough Ward', 'AREA_CODE': 'LBW', 'NUMBER': 455, 'UNIT_ID': 11542, 'HECTARES': 327.866, 'DESCRIPT1': '                                    ', 'TYPE_CODE': 'VA', 'NUMBER0': 910, 'SHAPENUM': 159, 'RINGNUM': 1, 'DESCRIPT0': 'CIVIL VOTING AREA'}\n",
      "{'TYPE_COD0': '   ', 'CODE': 'E05000293', 'NAME': 'Headstone South Ward', 'AREA': 0.0, 'POLYGON_ID': 51080, 'FILE_NAME': 'GREATER_LONDON_AUTHORITY', 'DESCRIPTIO': 'London Borough Ward', 'AREA_CODE': 'LBW', 'NUMBER': 456, 'UNIT_ID': 11518, 'HECTARES': 146.764, 'DESCRIPT1': '                                    ', 'TYPE_CODE': 'VA', 'NUMBER0': 911, 'SHAPENUM': 160, 'RINGNUM': 1, 'DESCRIPT0': 'CIVIL VOTING AREA'}\n",
      "{'TYPE_COD0': '   ', 'CODE': 'E05000295', 'NAME': 'Kenton West Ward', 'AREA': 0.0, 'POLYGON_ID': 50514, 'FILE_NAME': 'GREATER_LONDON_AUTHORITY', 'DESCRIPTIO': 'London Borough Ward', 'AREA_CODE': 'LBW', 'NUMBER': 457, 'UNIT_ID': 11390, 'HECTARES': 176.456, 'DESCRIPT1': '                                    ', 'TYPE_CODE': 'VA', 'NUMBER0': 912, 'SHAPENUM': 161, 'RINGNUM': 1, 'DESCRIPT0': 'CIVIL VOTING AREA'}\n",
      "{'TYPE_COD0': '   ', 'CODE': 'E05000304', 'NAME': 'Wealdstone Ward', 'AREA': 0.0, 'POLYGON_ID': 51079, 'FILE_NAME': 'GREATER_LONDON_AUTHORITY', 'DESCRIPTIO': 'London Borough Ward', 'AREA_CODE': 'LBW', 'NUMBER': 458, 'UNIT_ID': 11517, 'HECTARES': 119.595, 'DESCRIPT1': '                                    ', 'TYPE_CODE': 'VA', 'NUMBER0': 913, 'SHAPENUM': 162, 'RINGNUM': 1, 'DESCRIPT0': 'CIVIL VOTING AREA'}\n",
      "{'TYPE_COD0': '   ', 'CODE': 'E05000285', 'NAME': 'Belmont Ward', 'AREA': 0.0, 'POLYGON_ID': 116973, 'FILE_NAME': 'GREATER_LONDON_AUTHORITY', 'DESCRIPTIO': 'London Borough Ward', 'AREA_CODE': 'LBW', 'NUMBER': 459, 'UNIT_ID': 11393, 'HECTARES': 177.704, 'DESCRIPT1': '                                    ', 'TYPE_CODE': 'VA', 'NUMBER0': 914, 'SHAPENUM': 163, 'RINGNUM': 1, 'DESCRIPT0': 'CIVIL VOTING AREA'}\n",
      "{'TYPE_COD0': '   ', 'CODE': 'E05000294', 'NAME': 'Kenton East Ward', 'AREA': 0.0, 'POLYGON_ID': 50511, 'FILE_NAME': 'GREATER_LONDON_AUTHORITY', 'DESCRIPTIO': 'London Borough Ward', 'AREA_CODE': 'LBW', 'NUMBER': 518, 'UNIT_ID': 11387, 'HECTARES': 127.926, 'DESCRIPT1': '                                    ', 'TYPE_CODE': 'VA', 'NUMBER0': 915, 'SHAPENUM': 164, 'RINGNUM': 1, 'DESCRIPT0': 'CIVIL VOTING AREA'}\n",
      "{'TYPE_COD0': '   ', 'CODE': 'E05000299', 'NAME': 'Queensbury Ward', 'AREA': 0.0, 'POLYGON_ID': 116974, 'FILE_NAME': 'GREATER_LONDON_AUTHORITY', 'DESCRIPTIO': 'London Borough Ward', 'AREA_CODE': 'LBW', 'NUMBER': 520, 'UNIT_ID': 41832, 'HECTARES': 161.364, 'DESCRIPT1': '                                    ', 'TYPE_CODE': 'VA', 'NUMBER0': 916, 'SHAPENUM': 165, 'RINGNUM': 1, 'DESCRIPT0': 'CIVIL VOTING AREA'}\n",
      "{'TYPE_COD0': '   ', 'CODE': 'E05000287', 'NAME': 'Edgware Ward', 'AREA': 0.0, 'POLYGON_ID': 116975, 'FILE_NAME': 'GREATER_LONDON_AUTHORITY', 'DESCRIPTIO': 'London Borough Ward', 'AREA_CODE': 'LBW', 'NUMBER': 521, 'UNIT_ID': 41833, 'HECTARES': 140.319, 'DESCRIPT1': '                                    ', 'TYPE_CODE': 'VA', 'NUMBER0': 917, 'SHAPENUM': 166, 'RINGNUM': 1, 'DESCRIPT0': 'CIVIL VOTING AREA'}\n",
      "{'TYPE_COD0': '   ', 'CODE': 'E05000096', 'NAME': 'Northwick Park Ward', 'AREA': 0.0, 'POLYGON_ID': 51109, 'FILE_NAME': 'GREATER_LONDON_AUTHORITY', 'DESCRIPTIO': 'London Borough Ward', 'AREA_CODE': 'LBW', 'NUMBER': 189, 'UNIT_ID': 11462, 'HECTARES': 267.991, 'DESCRIPT1': '                                    ', 'TYPE_CODE': 'VA', 'NUMBER0': 920, 'SHAPENUM': 167, 'RINGNUM': 1, 'DESCRIPT0': 'CIVIL VOTING AREA'}\n",
      "{'TYPE_COD0': '   ', 'CODE': 'E05000104', 'NAME': 'Wembley Central Ward', 'AREA': 0.0, 'POLYGON_ID': 51105, 'FILE_NAME': 'GREATER_LONDON_AUTHORITY', 'DESCRIPTIO': 'London Borough Ward', 'AREA_CODE': 'LBW', 'NUMBER': 204, 'UNIT_ID': 11458, 'HECTARES': 160.424, 'DESCRIPT1': '                                    ', 'TYPE_CODE': 'VA', 'NUMBER0': 921, 'SHAPENUM': 168, 'RINGNUM': 1, 'DESCRIPT0': 'CIVIL VOTING AREA'}\n",
      "{'TYPE_COD0': '   ', 'CODE': 'E05000097', 'NAME': 'Preston Ward', 'AREA': 0.0, 'POLYGON_ID': 51071, 'FILE_NAME': 'GREATER_LONDON_AUTHORITY', 'DESCRIPTIO': 'London Borough Ward', 'AREA_CODE': 'LBW', 'NUMBER': 205, 'UNIT_ID': 11509, 'HECTARES': 238.828, 'DESCRIPT1': '                                    ', 'TYPE_CODE': 'VA', 'NUMBER0': 922, 'SHAPENUM': 169, 'RINGNUM': 1, 'DESCRIPT0': 'CIVIL VOTING AREA'}\n",
      "{'TYPE_COD0': '   ', 'CODE': 'E05000100', 'NAME': 'Stonebridge Ward', 'AREA': 0.0, 'POLYGON_ID': 116943, 'FILE_NAME': 'GREATER_LONDON_AUTHORITY', 'DESCRIPTIO': 'London Borough Ward', 'AREA_CODE': 'LBW', 'NUMBER': 206, 'UNIT_ID': 11508, 'HECTARES': 405.063, 'DESCRIPT1': '                                    ', 'TYPE_CODE': 'VA', 'NUMBER0': 923, 'SHAPENUM': 170, 'RINGNUM': 1, 'DESCRIPT0': 'CIVIL VOTING AREA'}\n",
      "{'TYPE_COD0': '   ', 'CODE': 'E05000103', 'NAME': 'Welsh Harp Ward', 'AREA': 0.0, 'POLYGON_ID': 116949, 'FILE_NAME': 'GREATER_LONDON_AUTHORITY', 'DESCRIPTIO': 'London Borough Ward', 'AREA_CODE': 'LBW', 'NUMBER': 207, 'UNIT_ID': 41828, 'HECTARES': 231.897, 'DESCRIPT1': '                                    ', 'TYPE_CODE': 'VA', 'NUMBER0': 924, 'SHAPENUM': 171, 'RINGNUM': 1, 'DESCRIPT0': 'CIVIL VOTING AREA'}\n",
      "{'TYPE_COD0': '   ', 'CODE': 'E05000086', 'NAME': 'Barnhill Ward', 'AREA': 0.0, 'POLYGON_ID': 116945, 'FILE_NAME': 'GREATER_LONDON_AUTHORITY', 'DESCRIPTIO': 'London Borough Ward', 'AREA_CODE': 'LBW', 'NUMBER': 208, 'UNIT_ID': 11506, 'HECTARES': 297.908, 'DESCRIPT1': '                                    ', 'TYPE_CODE': 'VA', 'NUMBER0': 925, 'SHAPENUM': 172, 'RINGNUM': 1, 'DESCRIPT0': 'CIVIL VOTING AREA'}\n",
      "{'TYPE_COD0': '   ', 'CODE': 'E05000090', 'NAME': 'Fryent Ward', 'AREA': 0.0, 'POLYGON_ID': 116950, 'FILE_NAME': 'GREATER_LONDON_AUTHORITY', 'DESCRIPTIO': 'London Borough Ward', 'AREA_CODE': 'LBW', 'NUMBER': 209, 'UNIT_ID': 11512, 'HECTARES': 265.938, 'DESCRIPT1': '                                    ', 'TYPE_CODE': 'VA', 'NUMBER0': 926, 'SHAPENUM': 173, 'RINGNUM': 1, 'DESCRIPT0': 'CIVIL VOTING AREA'}\n",
      "{'TYPE_COD0': '   ', 'CODE': 'E05000101', 'NAME': 'Sudbury Ward', 'AREA': 0.0, 'POLYGON_ID': 116944, 'FILE_NAME': 'GREATER_LONDON_AUTHORITY', 'DESCRIPTIO': 'London Borough Ward', 'AREA_CODE': 'LBW', 'NUMBER': 453, 'UNIT_ID': 11461, 'HECTARES': 212.48, 'DESCRIPT1': '                                    ', 'TYPE_CODE': 'VA', 'NUMBER0': 927, 'SHAPENUM': 174, 'RINGNUM': 1, 'DESCRIPT0': 'CIVIL VOTING AREA'}\n",
      "{'TYPE_COD0': '   ', 'CODE': 'E05000085', 'NAME': 'Alperton Ward', 'AREA': 0.0, 'POLYGON_ID': 51069, 'FILE_NAME': 'GREATER_LONDON_AUTHORITY', 'DESCRIPTIO': 'London Borough Ward', 'AREA_CODE': 'LBW', 'NUMBER': 475, 'UNIT_ID': 11507, 'HECTARES': 205.853, 'DESCRIPT1': '                                    ', 'TYPE_CODE': 'VA', 'NUMBER0': 928, 'SHAPENUM': 175, 'RINGNUM': 1, 'DESCRIPT0': 'CIVIL VOTING AREA'}\n",
      "{'TYPE_COD0': '   ', 'CODE': 'E05000092', 'NAME': 'Kensal Green Ward', 'AREA': 0.0, 'POLYGON_ID': 116951, 'FILE_NAME': 'GREATER_LONDON_AUTHORITY', 'DESCRIPTIO': 'London Borough Ward', 'AREA_CODE': 'LBW', 'NUMBER': 478, 'UNIT_ID': 11501, 'HECTARES': 112.008, 'DESCRIPT1': '                                    ', 'TYPE_CODE': 'VA', 'NUMBER0': 929, 'SHAPENUM': 176, 'RINGNUM': 1, 'DESCRIPT0': 'CIVIL VOTING AREA'}\n",
      "{'TYPE_COD0': '   ', 'CODE': 'E05000091', 'NAME': 'Harlesden Ward', 'AREA': 0.0, 'POLYGON_ID': 116952, 'FILE_NAME': 'GREATER_LONDON_AUTHORITY', 'DESCRIPTIO': 'London Borough Ward', 'AREA_CODE': 'LBW', 'NUMBER': 479, 'UNIT_ID': 11502, 'HECTARES': 111.37, 'DESCRIPT1': '                                    ', 'TYPE_CODE': 'VA', 'NUMBER0': 930, 'SHAPENUM': 177, 'RINGNUM': 1, 'DESCRIPT0': 'CIVIL VOTING AREA'}\n",
      "{'TYPE_COD0': '   ', 'CODE': 'E05000105', 'NAME': 'Willesden Green Ward', 'AREA': 0.0, 'POLYGON_ID': 50490, 'FILE_NAME': 'GREATER_LONDON_AUTHORITY', 'DESCRIPTIO': 'London Borough Ward', 'AREA_CODE': 'LBW', 'NUMBER': 480, 'UNIT_ID': 11452, 'HECTARES': 154.803, 'DESCRIPT1': '                                    ', 'TYPE_CODE': 'VA', 'NUMBER0': 931, 'SHAPENUM': 178, 'RINGNUM': 1, 'DESCRIPT0': 'CIVIL VOTING AREA'}\n",
      "{'TYPE_COD0': '   ', 'CODE': 'E05000098', 'NAME': 'Queens Park Ward', 'AREA': 0.0, 'POLYGON_ID': 116947, 'FILE_NAME': 'GREATER_LONDON_AUTHORITY', 'DESCRIPTIO': 'London Borough Ward', 'AREA_CODE': 'LBW', 'NUMBER': 481, 'UNIT_ID': 11344, 'HECTARES': 148.562, 'DESCRIPT1': '                                    ', 'TYPE_CODE': 'VA', 'NUMBER0': 932, 'SHAPENUM': 179, 'RINGNUM': 1, 'DESCRIPT0': 'CIVIL VOTING AREA'}\n",
      "{'TYPE_COD0': '   ', 'CODE': 'E05000087', 'NAME': 'Brondesbury Park Ward', 'AREA': 0.0, 'POLYGON_ID': 116953, 'FILE_NAME': 'GREATER_LONDON_AUTHORITY', 'DESCRIPTIO': 'London Borough Ward', 'AREA_CODE': 'LBW', 'NUMBER': 482, 'UNIT_ID': 11337, 'HECTARES': 172.942, 'DESCRIPT1': '                                    ', 'TYPE_CODE': 'VA', 'NUMBER0': 933, 'SHAPENUM': 180, 'RINGNUM': 1, 'DESCRIPT0': 'CIVIL VOTING AREA'}\n",
      "{'TYPE_COD0': '   ', 'CODE': 'E05000094', 'NAME': 'Kilburn Ward', 'AREA': 0.0, 'POLYGON_ID': 50487, 'FILE_NAME': 'GREATER_LONDON_AUTHORITY', 'DESCRIPTIO': 'London Borough Ward', 'AREA_CODE': 'LBW', 'NUMBER': 500, 'UNIT_ID': 11449, 'HECTARES': 94.4, 'DESCRIPT1': '                                    ', 'TYPE_CODE': 'VA', 'NUMBER0': 934, 'SHAPENUM': 181, 'RINGNUM': 1, 'DESCRIPT0': 'CIVIL VOTING AREA'}\n",
      "{'TYPE_COD0': '   ', 'CODE': 'E05000102', 'NAME': 'Tokyngton Ward', 'AREA': 0.0, 'POLYGON_ID': 51104, 'FILE_NAME': 'GREATER_LONDON_AUTHORITY', 'DESCRIPTIO': 'London Borough Ward', 'AREA_CODE': 'LBW', 'NUMBER': 513, 'UNIT_ID': 11457, 'HECTARES': 275.917, 'DESCRIPT1': '                                    ', 'TYPE_CODE': 'VA', 'NUMBER0': 935, 'SHAPENUM': 182, 'RINGNUM': 1, 'DESCRIPT0': 'CIVIL VOTING AREA'}\n",
      "{'TYPE_COD0': '   ', 'CODE': 'E05000093', 'NAME': 'Kenton Ward', 'AREA': 0.0, 'POLYGON_ID': 116946, 'FILE_NAME': 'GREATER_LONDON_AUTHORITY', 'DESCRIPTIO': 'London Borough Ward', 'AREA_CODE': 'LBW', 'NUMBER': 514, 'UNIT_ID': 11514, 'HECTARES': 224.315, 'DESCRIPT1': '                                    ', 'TYPE_CODE': 'VA', 'NUMBER0': 936, 'SHAPENUM': 183, 'RINGNUM': 1, 'DESCRIPT0': 'CIVIL VOTING AREA'}\n",
      "{'TYPE_COD0': '   ', 'CODE': 'E05000089', 'NAME': 'Dudden Hill Ward', 'AREA': 0.0, 'POLYGON_ID': 116948, 'FILE_NAME': 'GREATER_LONDON_AUTHORITY', 'DESCRIPTIO': 'London Borough Ward', 'AREA_CODE': 'LBW', 'NUMBER': 515, 'UNIT_ID': 11454, 'HECTARES': 168.144, 'DESCRIPT1': '                                    ', 'TYPE_CODE': 'VA', 'NUMBER0': 937, 'SHAPENUM': 184, 'RINGNUM': 1, 'DESCRIPT0': 'CIVIL VOTING AREA'}\n",
      "{'TYPE_COD0': '   ', 'CODE': 'E05000088', 'NAME': 'Dollis Hill Ward', 'AREA': 0.0, 'POLYGON_ID': 50548, 'FILE_NAME': 'GREATER_LONDON_AUTHORITY', 'DESCRIPTIO': 'London Borough Ward', 'AREA_CODE': 'LBW', 'NUMBER': 516, 'UNIT_ID': 11336, 'HECTARES': 229.956, 'DESCRIPT1': '                                    ', 'TYPE_CODE': 'VA', 'NUMBER0': 938, 'SHAPENUM': 185, 'RINGNUM': 1, 'DESCRIPT0': 'CIVIL VOTING AREA'}\n",
      "{'TYPE_COD0': '   ', 'CODE': 'E05000095', 'NAME': 'Mapesbury Ward', 'AREA': 0.0, 'POLYGON_ID': 50489, 'FILE_NAME': 'GREATER_LONDON_AUTHORITY', 'DESCRIPTIO': 'London Borough Ward', 'AREA_CODE': 'LBW', 'NUMBER': 517, 'UNIT_ID': 11451, 'HECTARES': 139.347, 'DESCRIPT1': '                                    ', 'TYPE_CODE': 'VA', 'NUMBER0': 939, 'SHAPENUM': 186, 'RINGNUM': 1, 'DESCRIPT0': 'CIVIL VOTING AREA'}\n",
      "{'TYPE_COD0': '   ', 'CODE': 'E05000099', 'NAME': 'Queensbury Ward', 'AREA': 0.0, 'POLYGON_ID': 50512, 'FILE_NAME': 'GREATER_LONDON_AUTHORITY', 'DESCRIPTIO': 'London Borough Ward', 'AREA_CODE': 'LBW', 'NUMBER': 519, 'UNIT_ID': 11388, 'HECTARES': 205.124, 'DESCRIPT1': '                                    ', 'TYPE_CODE': 'VA', 'NUMBER0': 940, 'SHAPENUM': 187, 'RINGNUM': 1, 'DESCRIPT0': 'CIVIL VOTING AREA'}\n",
      "{'TYPE_COD0': '   ', 'CODE': 'E05000060', 'NAME': 'Underhill Ward', 'AREA': 0.0, 'POLYGON_ID': 116789, 'FILE_NAME': 'GREATER_LONDON_AUTHORITY', 'DESCRIPTIO': 'London Borough Ward', 'AREA_CODE': 'LBW', 'NUMBER': 79, 'UNIT_ID': 41806, 'HECTARES': 455.053, 'DESCRIPT1': '                                    ', 'TYPE_CODE': 'VA', 'NUMBER0': 944, 'SHAPENUM': 188, 'RINGNUM': 1, 'DESCRIPT0': 'CIVIL VOTING AREA'}\n",
      "{'TYPE_COD0': '   ', 'CODE': 'E05000056', 'NAME': 'High Barnet Ward', 'AREA': 0.0, 'POLYGON_ID': 116787, 'FILE_NAME': 'GREATER_LONDON_AUTHORITY', 'DESCRIPTIO': 'London Borough Ward', 'AREA_CODE': 'LBW', 'NUMBER': 80, 'UNIT_ID': 11546, 'HECTARES': 830.666, 'DESCRIPT1': '                                    ', 'TYPE_CODE': 'VA', 'NUMBER0': 945, 'SHAPENUM': 189, 'RINGNUM': 1, 'DESCRIPT0': 'CIVIL VOTING AREA'}\n",
      "{'TYPE_COD0': '   ', 'CODE': 'E05000062', 'NAME': 'West Hendon Ward', 'AREA': 0.0, 'POLYGON_ID': 51065, 'FILE_NAME': 'GREATER_LONDON_AUTHORITY', 'DESCRIPTIO': 'London Borough Ward', 'AREA_CODE': 'LBW', 'NUMBER': 210, 'UNIT_ID': 11503, 'HECTARES': 342.865, 'DESCRIPT1': '                                    ', 'TYPE_CODE': 'VA', 'NUMBER0': 946, 'SHAPENUM': 190, 'RINGNUM': 1, 'DESCRIPT0': 'CIVIL VOTING AREA'}\n",
      "{'TYPE_COD0': '   ', 'CODE': 'E05000053', 'NAME': 'Golders Green Ward', 'AREA': 0.0, 'POLYGON_ID': 116790, 'FILE_NAME': 'GREATER_LONDON_AUTHORITY', 'DESCRIPTIO': 'London Borough Ward', 'AREA_CODE': 'LBW', 'NUMBER': 211, 'UNIT_ID': 11367, 'HECTARES': 297.292, 'DESCRIPT1': '                                    ', 'TYPE_CODE': 'VA', 'NUMBER0': 947, 'SHAPENUM': 191, 'RINGNUM': 1, 'DESCRIPT0': 'CIVIL VOTING AREA'}\n",
      "{'TYPE_COD0': '   ', 'CODE': 'E05000046', 'NAME': 'Colindale Ward', 'AREA': 0.0, 'POLYGON_ID': 51066, 'FILE_NAME': 'GREATER_LONDON_AUTHORITY', 'DESCRIPTIO': 'London Borough Ward', 'AREA_CODE': 'LBW', 'NUMBER': 212, 'UNIT_ID': 11504, 'HECTARES': 263.627, 'DESCRIPT1': '                                    ', 'TYPE_CODE': 'VA', 'NUMBER0': 948, 'SHAPENUM': 192, 'RINGNUM': 1, 'DESCRIPT0': 'CIVIL VOTING AREA'}\n",
      "{'TYPE_COD0': '   ', 'CODE': 'E05000045', 'NAME': 'Childs Hill Ward', 'AREA': 0.0, 'POLYGON_ID': 50578, 'FILE_NAME': 'GREATER_LONDON_AUTHORITY', 'DESCRIPTIO': 'London Borough Ward', 'AREA_CODE': 'LBW', 'NUMBER': 213, 'UNIT_ID': 11366, 'HECTARES': 309.301, 'DESCRIPT1': '                                    ', 'TYPE_CODE': 'VA', 'NUMBER0': 949, 'SHAPENUM': 193, 'RINGNUM': 1, 'DESCRIPT0': 'CIVIL VOTING AREA'}\n",
      "{'TYPE_COD0': '   ', 'CODE': 'E05000052', 'NAME': 'Garden Suburb Ward', 'AREA': 0.0, 'POLYGON_ID': 119325, 'FILE_NAME': 'GREATER_LONDON_AUTHORITY', 'DESCRIPTIO': 'London Borough Ward', 'AREA_CODE': 'LBW', 'NUMBER': 215, 'UNIT_ID': 11362, 'HECTARES': 472.705, 'DESCRIPT1': '                                    ', 'TYPE_CODE': 'VA', 'NUMBER0': 950, 'SHAPENUM': 194, 'RINGNUM': 1, 'DESCRIPT0': 'CIVIL VOTING AREA'}\n",
      "{'TYPE_COD0': '   ', 'CODE': 'E05000051', 'NAME': 'Finchley Church End Ward', 'AREA': 0.0, 'POLYGON_ID': 116791, 'FILE_NAME': 'GREATER_LONDON_AUTHORITY', 'DESCRIPTIO': 'London Borough Ward', 'AREA_CODE': 'LBW', 'NUMBER': 216, 'UNIT_ID': 11381, 'HECTARES': 272.564, 'DESCRIPT1': '                                    ', 'TYPE_CODE': 'VA', 'NUMBER0': 951, 'SHAPENUM': 195, 'RINGNUM': 1, 'DESCRIPT0': 'CIVIL VOTING AREA'}\n",
      "{'TYPE_COD0': '   ', 'CODE': 'E05000049', 'NAME': 'East Finchley Ward', 'AREA': 0.0, 'POLYGON_ID': 50492, 'FILE_NAME': 'GREATER_LONDON_AUTHORITY', 'DESCRIPTIO': 'London Borough Ward', 'AREA_CODE': 'LBW', 'NUMBER': 219, 'UNIT_ID': 11368, 'HECTARES': 250.989, 'DESCRIPT1': '                                    ', 'TYPE_CODE': 'VA', 'NUMBER0': 952, 'SHAPENUM': 196, 'RINGNUM': 1, 'DESCRIPT0': 'CIVIL VOTING AREA'}\n",
      "{'TYPE_COD0': '   ', 'CODE': 'E05000050', 'NAME': 'Edgware Ward', 'AREA': 0.0, 'POLYGON_ID': 50509, 'FILE_NAME': 'GREATER_LONDON_AUTHORITY', 'DESCRIPTIO': 'London Borough Ward', 'AREA_CODE': 'LBW', 'NUMBER': 225, 'UNIT_ID': 11385, 'HECTARES': 555.652, 'DESCRIPT1': '                                    ', 'TYPE_CODE': 'VA', 'NUMBER0': 953, 'SHAPENUM': 197, 'RINGNUM': 1, 'DESCRIPT0': 'CIVIL VOTING AREA'}\n",
      "{'TYPE_COD0': '   ', 'CODE': 'E05000057', 'NAME': 'Mill Hill Ward', 'AREA': 0.0, 'POLYGON_ID': 116788, 'FILE_NAME': 'GREATER_LONDON_AUTHORITY', 'DESCRIPTIO': 'London Borough Ward', 'AREA_CODE': 'LBW', 'NUMBER': 226, 'UNIT_ID': 11334, 'HECTARES': 938.921, 'DESCRIPT1': '                                    ', 'TYPE_CODE': 'VA', 'NUMBER0': 954, 'SHAPENUM': 198, 'RINGNUM': 1, 'DESCRIPT0': 'CIVIL VOTING AREA'}\n",
      "{'TYPE_COD0': '   ', 'CODE': 'E05000054', 'NAME': 'Hale Ward', 'AREA': 0.0, 'POLYGON_ID': 116792, 'FILE_NAME': 'GREATER_LONDON_AUTHORITY', 'DESCRIPTIO': 'London Borough Ward', 'AREA_CODE': 'LBW', 'NUMBER': 227, 'UNIT_ID': 11384, 'HECTARES': 542.315, 'DESCRIPT1': '                                    ', 'TYPE_CODE': 'VA', 'NUMBER0': 955, 'SHAPENUM': 199, 'RINGNUM': 1, 'DESCRIPT0': 'CIVIL VOTING AREA'}\n",
      "{'TYPE_COD0': '   ', 'CODE': 'E05000059', 'NAME': 'Totteridge Ward', 'AREA': 0.0, 'POLYGON_ID': 123573, 'FILE_NAME': 'GREATER_LONDON_AUTHORITY', 'DESCRIPTIO': 'London Borough Ward', 'AREA_CODE': 'LBW', 'NUMBER': 228, 'UNIT_ID': 11545, 'HECTARES': 877.446, 'DESCRIPT1': '                                    ', 'TYPE_CODE': 'VA', 'NUMBER0': 956, 'SHAPENUM': 200, 'RINGNUM': 1, 'DESCRIPT0': 'CIVIL VOTING AREA'}\n",
      "{'TYPE_COD0': '   ', 'CODE': 'E05000058', 'NAME': 'Oakleigh Ward', 'AREA': 0.0, 'POLYGON_ID': 50501, 'FILE_NAME': 'GREATER_LONDON_AUTHORITY', 'DESCRIPTIO': 'London Borough Ward', 'AREA_CODE': 'LBW', 'NUMBER': 229, 'UNIT_ID': 11377, 'HECTARES': 331.861, 'DESCRIPT1': '                                    ', 'TYPE_CODE': 'VA', 'NUMBER0': 957, 'SHAPENUM': 201, 'RINGNUM': 1, 'DESCRIPT0': 'CIVIL VOTING AREA'}\n",
      "{'TYPE_COD0': '   ', 'CODE': 'E05000063', 'NAME': 'Woodhouse Ward', 'AREA': 0.0, 'POLYGON_ID': 116794, 'FILE_NAME': 'GREATER_LONDON_AUTHORITY', 'DESCRIPTIO': 'London Borough Ward', 'AREA_CODE': 'LBW', 'NUMBER': 230, 'UNIT_ID': 11379, 'HECTARES': 262.117, 'DESCRIPT1': '                                    ', 'TYPE_CODE': 'VA', 'NUMBER0': 958, 'SHAPENUM': 202, 'RINGNUM': 1, 'DESCRIPT0': 'CIVIL VOTING AREA'}\n",
      "{'TYPE_COD0': '   ', 'CODE': 'E05000047', 'NAME': 'Coppetts Ward', 'AREA': 0.0, 'POLYGON_ID': 116795, 'FILE_NAME': 'GREATER_LONDON_AUTHORITY', 'DESCRIPTIO': 'London Borough Ward', 'AREA_CODE': 'LBW', 'NUMBER': 231, 'UNIT_ID': 41805, 'HECTARES': 272.058, 'DESCRIPT1': '                                    ', 'TYPE_CODE': 'VA', 'NUMBER0': 959, 'SHAPENUM': 203, 'RINGNUM': 1, 'DESCRIPT0': 'CIVIL VOTING AREA'}\n",
      "{'TYPE_COD0': '   ', 'CODE': 'E05000043', 'NAME': 'Brunswick Park Ward', 'AREA': 0.0, 'POLYGON_ID': 50500, 'FILE_NAME': 'GREATER_LONDON_AUTHORITY', 'DESCRIPTIO': 'London Borough Ward', 'AREA_CODE': 'LBW', 'NUMBER': 232, 'UNIT_ID': 11376, 'HECTARES': 317.526, 'DESCRIPT1': '                                    ', 'TYPE_CODE': 'VA', 'NUMBER0': 960, 'SHAPENUM': 204, 'RINGNUM': 1, 'DESCRIPT0': 'CIVIL VOTING AREA'}\n",
      "{'TYPE_COD0': '   ', 'CODE': 'E05000048', 'NAME': 'East Barnet Ward', 'AREA': 0.0, 'POLYGON_ID': 50507, 'FILE_NAME': 'GREATER_LONDON_AUTHORITY', 'DESCRIPTIO': 'London Borough Ward', 'AREA_CODE': 'LBW', 'NUMBER': 234, 'UNIT_ID': 11383, 'HECTARES': 374.943, 'DESCRIPT1': '                                    ', 'TYPE_CODE': 'VA', 'NUMBER0': 961, 'SHAPENUM': 205, 'RINGNUM': 1, 'DESCRIPT0': 'CIVIL VOTING AREA'}\n",
      "{'TYPE_COD0': '   ', 'CODE': 'E05000044', 'NAME': 'Burnt Oak Ward', 'AREA': 0.0, 'POLYGON_ID': 51073, 'FILE_NAME': 'GREATER_LONDON_AUTHORITY', 'DESCRIPTIO': 'London Borough Ward', 'AREA_CODE': 'LBW', 'NUMBER': 522, 'UNIT_ID': 11511, 'HECTARES': 206.719, 'DESCRIPT1': '                                    ', 'TYPE_CODE': 'VA', 'NUMBER0': 962, 'SHAPENUM': 206, 'RINGNUM': 1, 'DESCRIPT0': 'CIVIL VOTING AREA'}\n",
      "{'TYPE_COD0': '   ', 'CODE': 'E05000055', 'NAME': 'Hendon Ward', 'AREA': 0.0, 'POLYGON_ID': 50547, 'FILE_NAME': 'GREATER_LONDON_AUTHORITY', 'DESCRIPTIO': 'London Borough Ward', 'AREA_CODE': 'LBW', 'NUMBER': 523, 'UNIT_ID': 11335, 'HECTARES': 283.871, 'DESCRIPT1': '                                    ', 'TYPE_CODE': 'VA', 'NUMBER0': 963, 'SHAPENUM': 207, 'RINGNUM': 1, 'DESCRIPT0': 'CIVIL VOTING AREA'}\n",
      "{'TYPE_COD0': '   ', 'CODE': 'E05000061', 'NAME': 'West Finchley Ward', 'AREA': 0.0, 'POLYGON_ID': 116793, 'FILE_NAME': 'GREATER_LONDON_AUTHORITY', 'DESCRIPTIO': 'London Borough Ward', 'AREA_CODE': 'LBW', 'NUMBER': 536, 'UNIT_ID': 11380, 'HECTARES': 216.344, 'DESCRIPT1': '                                    ', 'TYPE_CODE': 'VA', 'NUMBER0': 964, 'SHAPENUM': 208, 'RINGNUM': 1, 'DESCRIPT0': 'CIVIL VOTING AREA'}\n",
      "{'TYPE_COD0': '   ', 'CODE': 'E05000431', 'NAME': 'Streatham South Ward', 'AREA': 0.0, 'POLYGON_ID': 50786, 'FILE_NAME': 'GREATER_LONDON_AUTHORITY', 'DESCRIPTIO': 'London Borough Ward', 'AREA_CODE': 'LBW', 'NUMBER': 116, 'UNIT_ID': 11138, 'HECTARES': 169.809, 'DESCRIPT1': '                                    ', 'TYPE_CODE': 'VA', 'NUMBER0': 967, 'SHAPENUM': 209, 'RINGNUM': 1, 'DESCRIPT0': 'CIVIL VOTING AREA'}\n",
      "{'TYPE_COD0': '   ', 'CODE': 'E05000428', 'NAME': \"St. Leonard's Ward\", 'AREA': 0.0, 'POLYGON_ID': 51191, 'FILE_NAME': 'GREATER_LONDON_AUTHORITY', 'DESCRIPTIO': 'London Borough Ward', 'AREA_CODE': 'LBW', 'NUMBER': 362, 'UNIT_ID': 11021, 'HECTARES': 144.773, 'DESCRIPT1': '                                    ', 'TYPE_CODE': 'VA', 'NUMBER0': 968, 'SHAPENUM': 210, 'RINGNUM': 1, 'DESCRIPT0': 'CIVIL VOTING AREA'}\n",
      "{'TYPE_COD0': '   ', 'CODE': 'E05000432', 'NAME': 'Streatham Wells Ward', 'AREA': 0.0, 'POLYGON_ID': 51190, 'FILE_NAME': 'GREATER_LONDON_AUTHORITY', 'DESCRIPTIO': 'London Borough Ward', 'AREA_CODE': 'LBW', 'NUMBER': 363, 'UNIT_ID': 11020, 'HECTARES': 144.978, 'DESCRIPT1': '                                    ', 'TYPE_CODE': 'VA', 'NUMBER0': 969, 'SHAPENUM': 211, 'RINGNUM': 1, 'DESCRIPT0': 'CIVIL VOTING AREA'}\n",
      "{'TYPE_COD0': '   ', 'CODE': 'E05000424', 'NAME': \"Knight's Hill Ward\", 'AREA': 0.0, 'POLYGON_ID': 117361, 'FILE_NAME': 'GREATER_LONDON_AUTHORITY', 'DESCRIPTIO': 'London Borough Ward', 'AREA_CODE': 'LBW', 'NUMBER': 364, 'UNIT_ID': 11139, 'HECTARES': 147.166, 'DESCRIPT1': '                                    ', 'TYPE_CODE': 'VA', 'NUMBER0': 970, 'SHAPENUM': 212, 'RINGNUM': 1, 'DESCRIPT0': 'CIVIL VOTING AREA'}\n",
      "{'TYPE_COD0': '   ', 'CODE': 'E05000433', 'NAME': 'Thornton Ward', 'AREA': 0.0, 'POLYGON_ID': 117357, 'FILE_NAME': 'GREATER_LONDON_AUTHORITY', 'DESCRIPTIO': 'London Borough Ward', 'AREA_CODE': 'LBW', 'NUMBER': 367, 'UNIT_ID': 11019, 'HECTARES': 107.759, 'DESCRIPT1': '                                    ', 'TYPE_CODE': 'VA', 'NUMBER0': 971, 'SHAPENUM': 213, 'RINGNUM': 1, 'DESCRIPT0': 'CIVIL VOTING AREA'}\n",
      "{'TYPE_COD0': '   ', 'CODE': 'E05000430', 'NAME': 'Streatham Hill Ward', 'AREA': 0.0, 'POLYGON_ID': 117358, 'FILE_NAME': 'GREATER_LONDON_AUTHORITY', 'DESCRIPTIO': 'London Borough Ward', 'AREA_CODE': 'LBW', 'NUMBER': 368, 'UNIT_ID': 11140, 'HECTARES': 127.063, 'DESCRIPT1': '                                    ', 'TYPE_CODE': 'VA', 'NUMBER0': 972, 'SHAPENUM': 214, 'RINGNUM': 1, 'DESCRIPT0': 'CIVIL VOTING AREA'}\n",
      "{'TYPE_COD0': '   ', 'CODE': 'E05000418', 'NAME': 'Clapham Common Ward', 'AREA': 0.0, 'POLYGON_ID': 51276, 'FILE_NAME': 'GREATER_LONDON_AUTHORITY', 'DESCRIPTIO': 'London Borough Ward', 'AREA_CODE': 'LBW', 'NUMBER': 377, 'UNIT_ID': 11018, 'HECTARES': 133.854, 'DESCRIPT1': '                                    ', 'TYPE_CODE': 'VA', 'NUMBER0': 973, 'SHAPENUM': 215, 'RINGNUM': 1, 'DESCRIPT0': 'CIVIL VOTING AREA'}\n",
      "{'TYPE_COD0': '   ', 'CODE': 'E05000417', 'NAME': 'Brixton Hill Ward', 'AREA': 0.0, 'POLYGON_ID': 117363, 'FILE_NAME': 'GREATER_LONDON_AUTHORITY', 'DESCRIPTIO': 'London Borough Ward', 'AREA_CODE': 'LBW', 'NUMBER': 378, 'UNIT_ID': 11141, 'HECTARES': 113.124, 'DESCRIPT1': '                                    ', 'TYPE_CODE': 'VA', 'NUMBER0': 974, 'SHAPENUM': 216, 'RINGNUM': 1, 'DESCRIPT0': 'CIVIL VOTING AREA'}\n",
      "{'TYPE_COD0': '   ', 'CODE': 'E05000435', 'NAME': 'Tulse Hill Ward', 'AREA': 0.0, 'POLYGON_ID': 117359, 'FILE_NAME': 'GREATER_LONDON_AUTHORITY', 'DESCRIPTIO': 'London Borough Ward', 'AREA_CODE': 'LBW', 'NUMBER': 379, 'UNIT_ID': 11056, 'HECTARES': 103.195, 'DESCRIPT1': '                                    ', 'TYPE_CODE': 'VA', 'NUMBER0': 975, 'SHAPENUM': 217, 'RINGNUM': 1, 'DESCRIPT0': 'CIVIL VOTING AREA'}\n",
      "{'TYPE_COD0': '   ', 'CODE': 'E05000420', 'NAME': 'Coldharbour Ward', 'AREA': 0.0, 'POLYGON_ID': 117364, 'FILE_NAME': 'GREATER_LONDON_AUTHORITY', 'DESCRIPTIO': 'London Borough Ward', 'AREA_CODE': 'LBW', 'NUMBER': 380, 'UNIT_ID': 41889, 'HECTARES': 120.806, 'DESCRIPT1': '                                    ', 'TYPE_CODE': 'VA', 'NUMBER0': 976, 'SHAPENUM': 218, 'RINGNUM': 1, 'DESCRIPT0': 'CIVIL VOTING AREA'}\n",
      "{'TYPE_COD0': '   ', 'CODE': 'E05000421', 'NAME': 'Ferndale Ward', 'AREA': 0.0, 'POLYGON_ID': 50790, 'FILE_NAME': 'GREATER_LONDON_AUTHORITY', 'DESCRIPTIO': 'London Borough Ward', 'AREA_CODE': 'LBW', 'NUMBER': 382, 'UNIT_ID': 11142, 'HECTARES': 85.073, 'DESCRIPT1': '                                    ', 'TYPE_CODE': 'VA', 'NUMBER0': 977, 'SHAPENUM': 219, 'RINGNUM': 1, 'DESCRIPT0': 'CIVIL VOTING AREA'}\n",
      "{'TYPE_COD0': '   ', 'CODE': 'E05000425', 'NAME': 'Larkhall Ward', 'AREA': 0.0, 'POLYGON_ID': 50793, 'FILE_NAME': 'GREATER_LONDON_AUTHORITY', 'DESCRIPTIO': 'London Borough Ward', 'AREA_CODE': 'LBW', 'NUMBER': 383, 'UNIT_ID': 11145, 'HECTARES': 106.124, 'DESCRIPT1': '                                    ', 'TYPE_CODE': 'VA', 'NUMBER0': 978, 'SHAPENUM': 220, 'RINGNUM': 1, 'DESCRIPT0': 'CIVIL VOTING AREA'}\n",
      "{'TYPE_COD0': '   ', 'CODE': 'E05000426', 'NAME': 'Oval Ward', 'AREA': 3.586, 'POLYGON_ID': 117366, 'FILE_NAME': 'GREATER_LONDON_AUTHORITY', 'DESCRIPTIO': 'London Borough Ward', 'AREA_CODE': 'LBW', 'NUMBER': 384, 'UNIT_ID': 10859, 'HECTARES': 127.764, 'DESCRIPT1': '                                    ', 'TYPE_CODE': 'VA', 'NUMBER0': 979, 'SHAPENUM': 221, 'RINGNUM': 1, 'DESCRIPT0': 'CIVIL VOTING AREA'}\n",
      "{'TYPE_COD0': '   ', 'CODE': 'E05000436', 'NAME': 'Vassall Ward', 'AREA': 0.0, 'POLYGON_ID': 51224, 'FILE_NAME': 'GREATER_LONDON_AUTHORITY', 'DESCRIPTIO': 'London Borough Ward', 'AREA_CODE': 'LBW', 'NUMBER': 385, 'UNIT_ID': 11054, 'HECTARES': 112.973, 'DESCRIPT1': '                                    ', 'TYPE_CODE': 'VA', 'NUMBER0': 980, 'SHAPENUM': 222, 'RINGNUM': 1, 'DESCRIPT0': 'CIVIL VOTING AREA'}\n",
      "{'TYPE_COD0': '   ', 'CODE': 'E05000422', 'NAME': 'Gipsy Hill Ward', 'AREA': 0.0, 'POLYGON_ID': 51228, 'FILE_NAME': 'GREATER_LONDON_AUTHORITY', 'DESCRIPTIO': 'London Borough Ward', 'AREA_CODE': 'LBW', 'NUMBER': 396, 'UNIT_ID': 11058, 'HECTARES': 157.067, 'DESCRIPT1': '                                    ', 'TYPE_CODE': 'VA', 'NUMBER0': 981, 'SHAPENUM': 223, 'RINGNUM': 1, 'DESCRIPT0': 'CIVIL VOTING AREA'}\n",
      "{'TYPE_COD0': '   ', 'CODE': 'E05000434', 'NAME': 'Thurlow Park Ward', 'AREA': 0.0, 'POLYGON_ID': 117362, 'FILE_NAME': 'GREATER_LONDON_AUTHORITY', 'DESCRIPTIO': 'London Borough Ward', 'AREA_CODE': 'LBW', 'NUMBER': 398, 'UNIT_ID': 11016, 'HECTARES': 151.482, 'DESCRIPT1': '                                    ', 'TYPE_CODE': 'VA', 'NUMBER0': 982, 'SHAPENUM': 224, 'RINGNUM': 1, 'DESCRIPT0': 'CIVIL VOTING AREA'}\n",
      "{'TYPE_COD0': '   ', 'CODE': 'E05000423', 'NAME': 'Herne Hill Ward', 'AREA': 0.0, 'POLYGON_ID': 117360, 'FILE_NAME': 'GREATER_LONDON_AUTHORITY', 'DESCRIPTIO': 'London Borough Ward', 'AREA_CODE': 'LBW', 'NUMBER': 404, 'UNIT_ID': 11017, 'HECTARES': 203.038, 'DESCRIPT1': '                                    ', 'TYPE_CODE': 'VA', 'NUMBER0': 983, 'SHAPENUM': 225, 'RINGNUM': 1, 'DESCRIPT0': 'CIVIL VOTING AREA'}\n",
      "{'TYPE_COD0': '   ', 'CODE': 'E05000416', 'NAME': \"Bishop's Ward\", 'AREA': 30.258, 'POLYGON_ID': 51177, 'FILE_NAME': 'GREATER_LONDON_AUTHORITY', 'DESCRIPTIO': 'London Borough Ward', 'AREA_CODE': 'LBW', 'NUMBER': 496, 'UNIT_ID': 11095, 'HECTARES': 153.959, 'DESCRIPT1': '                                    ', 'TYPE_CODE': 'VA', 'NUMBER0': 984, 'SHAPENUM': 226, 'RINGNUM': 1, 'DESCRIPT0': 'CIVIL VOTING AREA'}\n",
      "{'TYPE_COD0': '   ', 'CODE': 'E05000419', 'NAME': 'Clapham Town Ward', 'AREA': 0.0, 'POLYGON_ID': 50816, 'FILE_NAME': 'GREATER_LONDON_AUTHORITY', 'DESCRIPTIO': 'London Borough Ward', 'AREA_CODE': 'LBW', 'NUMBER': 661, 'UNIT_ID': 10860, 'HECTARES': 111.893, 'DESCRIPT1': '                                    ', 'TYPE_CODE': 'VA', 'NUMBER0': 985, 'SHAPENUM': 227, 'RINGNUM': 1, 'DESCRIPT0': 'CIVIL VOTING AREA'}\n",
      "{'TYPE_COD0': '   ', 'CODE': 'E05000429', 'NAME': 'Stockwell Ward', 'AREA': 0.0, 'POLYGON_ID': 117365, 'FILE_NAME': 'GREATER_LONDON_AUTHORITY', 'DESCRIPTIO': 'London Borough Ward', 'AREA_CODE': 'LBW', 'NUMBER': 662, 'UNIT_ID': 11143, 'HECTARES': 86.678, 'DESCRIPT1': '                                    ', 'TYPE_CODE': 'VA', 'NUMBER0': 986, 'SHAPENUM': 228, 'RINGNUM': 1, 'DESCRIPT0': 'CIVIL VOTING AREA'}\n",
      "{'TYPE_COD0': '   ', 'CODE': 'E05000427', 'NAME': \"Prince's Ward\", 'AREA': 10.083, 'POLYGON_ID': 51181, 'FILE_NAME': 'GREATER_LONDON_AUTHORITY', 'DESCRIPTIO': 'London Borough Ward', 'AREA_CODE': 'LBW', 'NUMBER': 678, 'UNIT_ID': 11099, 'HECTARES': 116.363, 'DESCRIPT1': '                                    ', 'TYPE_CODE': 'VA', 'NUMBER0': 987, 'SHAPENUM': 229, 'RINGNUM': 1, 'DESCRIPT0': 'CIVIL VOTING AREA'}\n",
      "{'TYPE_COD0': '   ', 'CODE': 'E05000538', 'NAME': 'College Ward', 'AREA': 0.0, 'POLYGON_ID': 51229, 'FILE_NAME': 'GREATER_LONDON_AUTHORITY', 'DESCRIPTIO': 'London Borough Ward', 'AREA_CODE': 'LBW', 'NUMBER': 143, 'UNIT_ID': 11059, 'HECTARES': 323.324, 'DESCRIPT1': '                                    ', 'TYPE_CODE': 'VA', 'NUMBER0': 991, 'SHAPENUM': 230, 'RINGNUM': 1, 'DESCRIPT0': 'CIVIL VOTING AREA'}\n",
      "{'TYPE_COD0': '   ', 'CODE': 'E05000548', 'NAME': 'Riverside Ward', 'AREA': 28.574, 'POLYGON_ID': 51236, 'FILE_NAME': 'GREATER_LONDON_AUTHORITY', 'DESCRIPTIO': 'London Borough Ward', 'AREA_CODE': 'LBW', 'NUMBER': 239, 'UNIT_ID': 10978, 'HECTARES': 132.822, 'DESCRIPT1': '                                    ', 'TYPE_CODE': 'VA', 'NUMBER0': 992, 'SHAPENUM': 231, 'RINGNUM': 1, 'DESCRIPT0': 'CIVIL VOTING AREA'}\n",
      "{'TYPE_COD0': '   ', 'CODE': 'E05000554', 'NAME': 'Village Ward', 'AREA': 0.0, 'POLYGON_ID': 117345, 'FILE_NAME': 'GREATER_LONDON_AUTHORITY', 'DESCRIPTIO': 'London Borough Ward', 'AREA_CODE': 'LBW', 'NUMBER': 403, 'UNIT_ID': 11012, 'HECTARES': 278.745, 'DESCRIPT1': '                                    ', 'TYPE_CODE': 'VA', 'NUMBER0': 993, 'SHAPENUM': 232, 'RINGNUM': 1, 'DESCRIPT0': 'CIVIL VOTING AREA'}\n",
      "{'TYPE_COD0': '   ', 'CODE': 'E05000551', 'NAME': 'South Camberwell Ward', 'AREA': 0.0, 'POLYGON_ID': 117350, 'FILE_NAME': 'GREATER_LONDON_AUTHORITY', 'DESCRIPTIO': 'London Borough Ward', 'AREA_CODE': 'LBW', 'NUMBER': 405, 'UNIT_ID': 11015, 'HECTARES': 133.149, 'DESCRIPT1': '                                    ', 'TYPE_CODE': 'VA', 'NUMBER0': 994, 'SHAPENUM': 233, 'RINGNUM': 1, 'DESCRIPT0': 'CIVIL VOTING AREA'}\n",
      "{'TYPE_COD0': '   ', 'CODE': 'E05000539', 'NAME': 'East Dulwich Ward', 'AREA': 0.0, 'POLYGON_ID': 51269, 'FILE_NAME': 'GREATER_LONDON_AUTHORITY', 'DESCRIPTIO': 'London Borough Ward', 'AREA_CODE': 'LBW', 'NUMBER': 406, 'UNIT_ID': 11011, 'HECTARES': 102.069, 'DESCRIPT1': '                                    ', 'TYPE_CODE': 'VA', 'NUMBER0': 995, 'SHAPENUM': 234, 'RINGNUM': 1, 'DESCRIPT0': 'CIVIL VOTING AREA'}\n",
      "{'TYPE_COD0': '   ', 'CODE': 'E05000547', 'NAME': 'Peckham Rye Ward', 'AREA': 0.0, 'POLYGON_ID': 117346, 'FILE_NAME': 'GREATER_LONDON_AUTHORITY', 'DESCRIPTIO': 'London Borough Ward', 'AREA_CODE': 'LBW', 'NUMBER': 407, 'UNIT_ID': 11083, 'HECTARES': 225.242, 'DESCRIPT1': '                                    ', 'TYPE_CODE': 'VA', 'NUMBER0': 996, 'SHAPENUM': 235, 'RINGNUM': 1, 'DESCRIPT0': 'CIVIL VOTING AREA'}\n",
      "{'TYPE_COD0': '   ', 'CODE': 'E05000535', 'NAME': 'Camberwell Green Ward', 'AREA': 0.0, 'POLYGON_ID': 117353, 'FILE_NAME': 'GREATER_LONDON_AUTHORITY', 'DESCRIPTIO': 'London Borough Ward', 'AREA_CODE': 'LBW', 'NUMBER': 408, 'UNIT_ID': 11053, 'HECTARES': 97.461, 'DESCRIPT1': '                                    ', 'TYPE_CODE': 'VA', 'NUMBER0': 997, 'SHAPENUM': 236, 'RINGNUM': 1, 'DESCRIPT0': 'CIVIL VOTING AREA'}\n",
      "{'TYPE_COD0': '   ', 'CODE': 'E05000534', 'NAME': 'Brunswick Park Ward', 'AREA': 0.0, 'POLYGON_ID': 51222, 'FILE_NAME': 'GREATER_LONDON_AUTHORITY', 'DESCRIPTIO': 'London Borough Ward', 'AREA_CODE': 'LBW', 'NUMBER': 409, 'UNIT_ID': 11052, 'HECTARES': 93.441, 'DESCRIPT1': '                                    ', 'TYPE_CODE': 'VA', 'NUMBER0': 998, 'SHAPENUM': 237, 'RINGNUM': 1, 'DESCRIPT0': 'CIVIL VOTING AREA'}\n",
      "{'TYPE_COD0': '   ', 'CODE': 'E05000553', 'NAME': 'The Lane Ward', 'AREA': 0.0, 'POLYGON_ID': 117351, 'FILE_NAME': 'GREATER_LONDON_AUTHORITY', 'DESCRIPTIO': 'London Borough Ward', 'AREA_CODE': 'LBW', 'NUMBER': 410, 'UNIT_ID': 11051, 'HECTARES': 138.888, 'DESCRIPT1': '                                    ', 'TYPE_CODE': 'VA', 'NUMBER0': 999, 'SHAPENUM': 238, 'RINGNUM': 1, 'DESCRIPT0': 'CIVIL VOTING AREA'}\n",
      "{'TYPE_COD0': '   ', 'CODE': 'E05000545', 'NAME': 'Nunhead Ward', 'AREA': 0.0, 'POLYGON_ID': 117352, 'FILE_NAME': 'GREATER_LONDON_AUTHORITY', 'DESCRIPTIO': 'London Borough Ward', 'AREA_CODE': 'LBW', 'NUMBER': 411, 'UNIT_ID': 11073, 'HECTARES': 132.84, 'DESCRIPT1': '                                    ', 'TYPE_CODE': 'VA', 'NUMBER0': 1000, 'SHAPENUM': 239, 'RINGNUM': 1, 'DESCRIPT0': 'CIVIL VOTING AREA'}\n",
      "{'TYPE_COD0': '   ', 'CODE': 'E05000546', 'NAME': 'Peckham Ward', 'AREA': 0.0, 'POLYGON_ID': 51170, 'FILE_NAME': 'GREATER_LONDON_AUTHORITY', 'DESCRIPTIO': 'London Borough Ward', 'AREA_CODE': 'LBW', 'NUMBER': 412, 'UNIT_ID': 11088, 'HECTARES': 86.966, 'DESCRIPT1': '                                    ', 'TYPE_CODE': 'VA', 'NUMBER0': 1001, 'SHAPENUM': 240, 'RINGNUM': 1, 'DESCRIPT0': 'CIVIL VOTING AREA'}\n",
      "{'TYPE_COD0': '   ', 'CODE': 'E05000544', 'NAME': 'Newington Ward', 'AREA': 0.0, 'POLYGON_ID': 51180, 'FILE_NAME': 'GREATER_LONDON_AUTHORITY', 'DESCRIPTIO': 'London Borough Ward', 'AREA_CODE': 'LBW', 'NUMBER': 494, 'UNIT_ID': 11098, 'HECTARES': 83.358, 'DESCRIPT1': '                                    ', 'TYPE_CODE': 'VA', 'NUMBER0': 1002, 'SHAPENUM': 241, 'RINGNUM': 1, 'DESCRIPT0': 'CIVIL VOTING AREA'}\n",
      "{'TYPE_COD0': '   ', 'CODE': 'E05000541', 'NAME': 'Faraday Ward', 'AREA': 0.0, 'POLYGON_ID': 51169, 'FILE_NAME': 'GREATER_LONDON_AUTHORITY', 'DESCRIPTIO': 'London Borough Ward', 'AREA_CODE': 'LBW', 'NUMBER': 545, 'UNIT_ID': 11087, 'HECTARES': 87.815, 'DESCRIPT1': '                                    ', 'TYPE_CODE': 'VA', 'NUMBER0': 1003, 'SHAPENUM': 242, 'RINGNUM': 1, 'DESCRIPT0': 'CIVIL VOTING AREA'}\n",
      "{'TYPE_COD0': '   ', 'CODE': 'E05000540', 'NAME': 'East Walworth Ward', 'AREA': 0.0, 'POLYGON_ID': 117348, 'FILE_NAME': 'GREATER_LONDON_AUTHORITY', 'DESCRIPTIO': 'London Borough Ward', 'AREA_CODE': 'LBW', 'NUMBER': 546, 'UNIT_ID': 11086, 'HECTARES': 114.662, 'DESCRIPT1': '                                    ', 'TYPE_CODE': 'VA', 'NUMBER0': 1004, 'SHAPENUM': 243, 'RINGNUM': 1, 'DESCRIPT0': 'CIVIL VOTING AREA'}\n",
      "{'TYPE_COD0': '   ', 'CODE': 'E05000543', 'NAME': 'Livesey Ward', 'AREA': 0.0, 'POLYGON_ID': 117347, 'FILE_NAME': 'GREATER_LONDON_AUTHORITY', 'DESCRIPTIO': 'London Borough Ward', 'AREA_CODE': 'LBW', 'NUMBER': 547, 'UNIT_ID': 11074, 'HECTARES': 143.832, 'DESCRIPT1': '                                    ', 'TYPE_CODE': 'VA', 'NUMBER0': 1005, 'SHAPENUM': 244, 'RINGNUM': 1, 'DESCRIPT0': 'CIVIL VOTING AREA'}\n",
      "{'TYPE_COD0': '   ', 'CODE': 'E05000550', 'NAME': 'South Bermondsey Ward', 'AREA': 0.0, 'POLYGON_ID': 51172, 'FILE_NAME': 'GREATER_LONDON_AUTHORITY', 'DESCRIPTIO': 'London Borough Ward', 'AREA_CODE': 'LBW', 'NUMBER': 548, 'UNIT_ID': 11090, 'HECTARES': 97.363, 'DESCRIPT1': '                                    ', 'TYPE_CODE': 'VA', 'NUMBER0': 1006, 'SHAPENUM': 245, 'RINGNUM': 1, 'DESCRIPT0': 'CIVIL VOTING AREA'}\n",
      "{'TYPE_COD0': '   ', 'CODE': 'E05000536', 'NAME': 'Cathedrals Ward', 'AREA': 18.584, 'POLYGON_ID': 117349, 'FILE_NAME': 'GREATER_LONDON_AUTHORITY', 'DESCRIPTIO': 'London Borough Ward', 'AREA_CODE': 'LBW', 'NUMBER': 549, 'UNIT_ID': 11097, 'HECTARES': 176.822, 'DESCRIPT1': '                                    ', 'TYPE_CODE': 'VA', 'NUMBER0': 1007, 'SHAPENUM': 246, 'RINGNUM': 1, 'DESCRIPT0': 'CIVIL VOTING AREA'}\n",
      "{'TYPE_COD0': '   ', 'CODE': 'E05000542', 'NAME': 'Grange Ward', 'AREA': 0.0, 'POLYGON_ID': 117354, 'FILE_NAME': 'GREATER_LONDON_AUTHORITY', 'DESCRIPTIO': 'London Borough Ward', 'AREA_CODE': 'LBW', 'NUMBER': 550, 'UNIT_ID': 11089, 'HECTARES': 121.453, 'DESCRIPT1': '                                    ', 'TYPE_CODE': 'VA', 'NUMBER0': 1008, 'SHAPENUM': 247, 'RINGNUM': 1, 'DESCRIPT0': 'CIVIL VOTING AREA'}\n",
      "{'TYPE_COD0': '   ', 'CODE': 'E05000549', 'NAME': 'Rotherhithe Ward', 'AREA': 12.968, 'POLYGON_ID': 117355, 'FILE_NAME': 'GREATER_LONDON_AUTHORITY', 'DESCRIPTIO': 'London Borough Ward', 'AREA_CODE': 'LBW', 'NUMBER': 551, 'UNIT_ID': 41888, 'HECTARES': 149.05, 'DESCRIPT1': '                                    ', 'TYPE_CODE': 'VA', 'NUMBER0': 1009, 'SHAPENUM': 248, 'RINGNUM': 1, 'DESCRIPT0': 'CIVIL VOTING AREA'}\n",
      "{'TYPE_COD0': '   ', 'CODE': 'E05000552', 'NAME': 'Surrey Docks Ward', 'AREA': 45.013, 'POLYGON_ID': 50733, 'FILE_NAME': 'GREATER_LONDON_AUTHORITY', 'DESCRIPTIO': 'London Borough Ward', 'AREA_CODE': 'LBW', 'NUMBER': 554, 'UNIT_ID': 11172, 'HECTARES': 190.062, 'DESCRIPT1': '                                    ', 'TYPE_CODE': 'VA', 'NUMBER0': 1010, 'SHAPENUM': 249, 'RINGNUM': 1, 'DESCRIPT0': 'CIVIL VOTING AREA'}\n",
      "{'TYPE_COD0': '   ', 'CODE': 'E05000537', 'NAME': 'Chaucer Ward', 'AREA': 0.0, 'POLYGON_ID': 50814, 'FILE_NAME': 'GREATER_LONDON_AUTHORITY', 'DESCRIPTIO': 'London Borough Ward', 'AREA_CODE': 'LBW', 'NUMBER': 696, 'UNIT_ID': 10858, 'HECTARES': 81.977, 'DESCRIPT1': '                                    ', 'TYPE_CODE': 'VA', 'NUMBER0': 1011, 'SHAPENUM': 250, 'RINGNUM': 1, 'DESCRIPT0': 'CIVIL VOTING AREA'}\n",
      "{'TYPE_COD0': '   ', 'CODE': 'E05000437', 'NAME': 'Bellingham Ward', 'AREA': 0.0, 'POLYGON_ID': 117089, 'FILE_NAME': 'GREATER_LONDON_AUTHORITY', 'DESCRIPTIO': 'London Borough Ward', 'AREA_CODE': 'LBW', 'NUMBER': 147, 'UNIT_ID': 11009, 'HECTARES': 308.471, 'DESCRIPT1': '                                    ', 'TYPE_CODE': 'VA', 'NUMBER0': 1014, 'SHAPENUM': 251, 'RINGNUM': 1, 'DESCRIPT0': 'CIVIL VOTING AREA'}\n",
      "{'TYPE_COD0': '   ', 'CODE': 'E05000453', 'NAME': 'Telegraph Hill Ward', 'AREA': 0.0, 'POLYGON_ID': 117094, 'FILE_NAME': 'GREATER_LONDON_AUTHORITY', 'DESCRIPTIO': 'London Borough Ward', 'AREA_CODE': 'LBW', 'NUMBER': 148, 'UNIT_ID': 11072, 'HECTARES': 154.631, 'DESCRIPT1': '                                    ', 'TYPE_CODE': 'VA', 'NUMBER0': 1015, 'SHAPENUM': 252, 'RINGNUM': 1, 'DESCRIPT0': 'CIVIL VOTING AREA'}\n",
      "{'TYPE_COD0': '   ', 'CODE': 'E05000442', 'NAME': 'Downham Ward', 'AREA': 0.0, 'POLYGON_ID': 117085, 'FILE_NAME': 'GREATER_LONDON_AUTHORITY', 'DESCRIPTIO': 'London Borough Ward', 'AREA_CODE': 'LBW', 'NUMBER': 150, 'UNIT_ID': 11007, 'HECTARES': 238.178, 'DESCRIPT1': '                                    ', 'TYPE_CODE': 'VA', 'NUMBER0': 1016, 'SHAPENUM': 253, 'RINGNUM': 1, 'DESCRIPT0': 'CIVIL VOTING AREA'}\n",
      "{'TYPE_COD0': '   ', 'CODE': 'E05000454', 'NAME': 'Whitefoot Ward', 'AREA': 0.0, 'POLYGON_ID': 117086, 'FILE_NAME': 'GREATER_LONDON_AUTHORITY', 'DESCRIPTIO': 'London Borough Ward', 'AREA_CODE': 'LBW', 'NUMBER': 154, 'UNIT_ID': 11069, 'HECTARES': 223.004, 'DESCRIPT1': '                                    ', 'TYPE_CODE': 'VA', 'NUMBER0': 1017, 'SHAPENUM': 254, 'RINGNUM': 1, 'DESCRIPT0': 'CIVIL VOTING AREA'}\n",
      "{'TYPE_COD0': '   ', 'CODE': 'E05000438', 'NAME': 'Blackheath Ward', 'AREA': 0.0, 'POLYGON_ID': 117096, 'FILE_NAME': 'GREATER_LONDON_AUTHORITY', 'DESCRIPTIO': 'London Borough Ward', 'AREA_CODE': 'LBW', 'NUMBER': 156, 'UNIT_ID': 11046, 'HECTARES': 231.823, 'DESCRIPT1': '                                    ', 'TYPE_CODE': 'VA', 'NUMBER0': 1018, 'SHAPENUM': 255, 'RINGNUM': 1, 'DESCRIPT0': 'CIVIL VOTING AREA'}\n",
      "{'TYPE_COD0': '   ', 'CODE': 'E05000452', 'NAME': 'Sydenham Ward', 'AREA': 0.0, 'POLYGON_ID': 117087, 'FILE_NAME': 'GREATER_LONDON_AUTHORITY', 'DESCRIPTIO': 'London Borough Ward', 'AREA_CODE': 'LBW', 'NUMBER': 397, 'UNIT_ID': 11084, 'HECTARES': 174.372, 'DESCRIPT1': '                                    ', 'TYPE_CODE': 'VA', 'NUMBER0': 1019, 'SHAPENUM': 256, 'RINGNUM': 1, 'DESCRIPT0': 'CIVIL VOTING AREA'}\n",
      "{'TYPE_COD0': '   ', 'CODE': 'E05000444', 'NAME': 'Forest Hill Ward', 'AREA': 0.0, 'POLYGON_ID': 51164, 'FILE_NAME': 'GREATER_LONDON_AUTHORITY', 'DESCRIPTIO': 'London Borough Ward', 'AREA_CODE': 'LBW', 'NUMBER': 399, 'UNIT_ID': 11082, 'HECTARES': 182.785, 'DESCRIPT1': '                                    ', 'TYPE_CODE': 'VA', 'NUMBER0': 1020, 'SHAPENUM': 257, 'RINGNUM': 1, 'DESCRIPT0': 'CIVIL VOTING AREA'}\n",
      "{'TYPE_COD0': '   ', 'CODE': 'E05000450', 'NAME': 'Perry Vale Ward', 'AREA': 0.0, 'POLYGON_ID': 117088, 'FILE_NAME': 'GREATER_LONDON_AUTHORITY', 'DESCRIPTIO': 'London Borough Ward', 'AREA_CODE': 'LBW', 'NUMBER': 400, 'UNIT_ID': 11079, 'HECTARES': 168.45, 'DESCRIPT1': '                                    ', 'TYPE_CODE': 'VA', 'NUMBER0': 1021, 'SHAPENUM': 258, 'RINGNUM': 1, 'DESCRIPT0': 'CIVIL VOTING AREA'}\n",
      "{'TYPE_COD0': '   ', 'CODE': 'E05000451', 'NAME': 'Rushey Green Ward', 'AREA': 0.0, 'POLYGON_ID': 117090, 'FILE_NAME': 'GREATER_LONDON_AUTHORITY', 'DESCRIPTIO': 'London Borough Ward', 'AREA_CODE': 'LBW', 'NUMBER': 401, 'UNIT_ID': 11070, 'HECTARES': 178.524, 'DESCRIPT1': '                                    ', 'TYPE_CODE': 'VA', 'NUMBER0': 1022, 'SHAPENUM': 259, 'RINGNUM': 1, 'DESCRIPT0': 'CIVIL VOTING AREA'}\n",
      "{'TYPE_COD0': '   ', 'CODE': 'E05000440', 'NAME': 'Catford South Ward', 'AREA': 0.0, 'POLYGON_ID': 117091, 'FILE_NAME': 'GREATER_LONDON_AUTHORITY', 'DESCRIPTIO': 'London Borough Ward', 'AREA_CODE': 'LBW', 'NUMBER': 402, 'UNIT_ID': 11036, 'HECTARES': 186.655, 'DESCRIPT1': '                                    ', 'TYPE_CODE': 'VA', 'NUMBER0': 1023, 'SHAPENUM': 260, 'RINGNUM': 1, 'DESCRIPT0': 'CIVIL VOTING AREA'}\n",
      "{'TYPE_COD0': '   ', 'CODE': 'E05000441', 'NAME': 'Crofton Park Ward', 'AREA': 0.0, 'POLYGON_ID': 117100, 'FILE_NAME': 'GREATER_LONDON_AUTHORITY', 'DESCRIPTIO': 'London Borough Ward', 'AREA_CODE': 'LBW', 'NUMBER': 413, 'UNIT_ID': 11078, 'HECTARES': 171.962, 'DESCRIPT1': '                                    ', 'TYPE_CODE': 'VA', 'NUMBER0': 1024, 'SHAPENUM': 261, 'RINGNUM': 1, 'DESCRIPT0': 'CIVIL VOTING AREA'}\n",
      "{'TYPE_COD0': '   ', 'CODE': 'E05000446', 'NAME': 'Ladywell Ward', 'AREA': 0.0, 'POLYGON_ID': 117092, 'FILE_NAME': 'GREATER_LONDON_AUTHORITY', 'DESCRIPTIO': 'London Borough Ward', 'AREA_CODE': 'LBW', 'NUMBER': 414, 'UNIT_ID': 11038, 'HECTARES': 160.598, 'DESCRIPT1': '                                    ', 'TYPE_CODE': 'VA', 'NUMBER0': 1025, 'SHAPENUM': 262, 'RINGNUM': 1, 'DESCRIPT0': 'CIVIL VOTING AREA'}\n",
      "{'TYPE_COD0': '   ', 'CODE': 'E05000448', 'NAME': 'Lewisham Central Ward', 'AREA': 0.0, 'POLYGON_ID': 117093, 'FILE_NAME': 'GREATER_LONDON_AUTHORITY', 'DESCRIPTIO': 'London Borough Ward', 'AREA_CODE': 'LBW', 'NUMBER': 415, 'UNIT_ID': 11037, 'HECTARES': 206.203, 'DESCRIPT1': '                                    ', 'TYPE_CODE': 'VA', 'NUMBER0': 1026, 'SHAPENUM': 263, 'RINGNUM': 1, 'DESCRIPT0': 'CIVIL VOTING AREA'}\n",
      "{'TYPE_COD0': '   ', 'CODE': 'E05000439', 'NAME': 'Brockley Ward', 'AREA': 0.0, 'POLYGON_ID': 117095, 'FILE_NAME': 'GREATER_LONDON_AUTHORITY', 'DESCRIPTIO': 'London Borough Ward', 'AREA_CODE': 'LBW', 'NUMBER': 416, 'UNIT_ID': 41855, 'HECTARES': 168.183, 'DESCRIPT1': '                                    ', 'TYPE_CODE': 'VA', 'NUMBER0': 1027, 'SHAPENUM': 264, 'RINGNUM': 1, 'DESCRIPT0': 'CIVIL VOTING AREA'}\n",
      "{'TYPE_COD0': '   ', 'CODE': 'E05000449', 'NAME': 'New Cross Ward', 'AREA': 1.407, 'POLYGON_ID': 117097, 'FILE_NAME': 'GREATER_LONDON_AUTHORITY', 'DESCRIPTIO': 'London Borough Ward', 'AREA_CODE': 'LBW', 'NUMBER': 417, 'UNIT_ID': 11049, 'HECTARES': 181.114, 'DESCRIPT1': '                                    ', 'TYPE_CODE': 'VA', 'NUMBER0': 1028, 'SHAPENUM': 265, 'RINGNUM': 1, 'DESCRIPT0': 'CIVIL VOTING AREA'}\n",
      "{'TYPE_COD0': '   ', 'CODE': 'E05000445', 'NAME': 'Grove Park Ward', 'AREA': 0.0, 'POLYGON_ID': 117098, 'FILE_NAME': 'GREATER_LONDON_AUTHORITY', 'DESCRIPTIO': 'London Borough Ward', 'AREA_CODE': 'LBW', 'NUMBER': 419, 'UNIT_ID': 10903, 'HECTARES': 239.291, 'DESCRIPT1': '                                    ', 'TYPE_CODE': 'VA', 'NUMBER0': 1029, 'SHAPENUM': 266, 'RINGNUM': 1, 'DESCRIPT0': 'CIVIL VOTING AREA'}\n",
      "{'TYPE_COD0': '   ', 'CODE': 'E05000447', 'NAME': 'Lee Green Ward', 'AREA': 0.0, 'POLYGON_ID': 117099, 'FILE_NAME': 'GREATER_LONDON_AUTHORITY', 'DESCRIPTIO': 'London Borough Ward', 'AREA_CODE': 'LBW', 'NUMBER': 420, 'UNIT_ID': 11040, 'HECTARES': 179.842, 'DESCRIPT1': '                                    ', 'TYPE_CODE': 'VA', 'NUMBER0': 1030, 'SHAPENUM': 267, 'RINGNUM': 1, 'DESCRIPT0': 'CIVIL VOTING AREA'}\n",
      "{'TYPE_COD0': '   ', 'CODE': 'E05000443', 'NAME': 'Evelyn Ward', 'AREA': 15.388, 'POLYGON_ID': 117101, 'FILE_NAME': 'GREATER_LONDON_AUTHORITY', 'DESCRIPTIO': 'London Borough Ward', 'AREA_CODE': 'LBW', 'NUMBER': 553, 'UNIT_ID': 11071, 'HECTARES': 177.62, 'DESCRIPT1': '                                    ', 'TYPE_CODE': 'VA', 'NUMBER0': 1031, 'SHAPENUM': 268, 'RINGNUM': 1, 'DESCRIPT0': 'CIVIL VOTING AREA'}\n",
      "{'TYPE_COD0': '   ', 'CODE': 'E05000224', 'NAME': 'Middle Park and Sutcliffe Ward', 'AREA': 0.0, 'POLYGON_ID': 117371, 'FILE_NAME': 'GREATER_LONDON_AUTHORITY', 'DESCRIPTIO': 'London Borough Ward', 'AREA_CODE': 'LBW', 'NUMBER': 155, 'UNIT_ID': 10905, 'HECTARES': 329.143, 'DESCRIPT1': '                                    ', 'TYPE_CODE': 'VA', 'NUMBER0': 1035, 'SHAPENUM': 269, 'RINGNUM': 1, 'DESCRIPT0': 'CIVIL VOTING AREA'}\n",
      "{'TYPE_COD0': '   ', 'CODE': 'E05000217', 'NAME': 'Coldharbour and New Eltham Ward', 'AREA': 0.0, 'POLYGON_ID': 117370, 'FILE_NAME': 'GREATER_LONDON_AUTHORITY', 'DESCRIPTIO': 'London Borough Ward', 'AREA_CODE': 'LBW', 'NUMBER': 157, 'UNIT_ID': 10778, 'HECTARES': 254.935, 'DESCRIPT1': '                                    ', 'TYPE_CODE': 'VA', 'NUMBER0': 1036, 'SHAPENUM': 270, 'RINGNUM': 1, 'DESCRIPT0': 'CIVIL VOTING AREA'}\n",
      "{'TYPE_COD0': '   ', 'CODE': 'E05000219', 'NAME': 'Eltham South Ward', 'AREA': 0.0, 'POLYGON_ID': 117367, 'FILE_NAME': 'GREATER_LONDON_AUTHORITY', 'DESCRIPTIO': 'London Borough Ward', 'AREA_CODE': 'LBW', 'NUMBER': 158, 'UNIT_ID': 10834, 'HECTARES': 462.641, 'DESCRIPT1': '                                    ', 'TYPE_CODE': 'VA', 'NUMBER0': 1037, 'SHAPENUM': 271, 'RINGNUM': 1, 'DESCRIPT0': 'CIVIL VOTING AREA'}\n",
      "{'TYPE_COD0': '   ', 'CODE': 'E05000227', 'NAME': 'Shooters Hill Ward', 'AREA': 0.0, 'POLYGON_ID': 117368, 'FILE_NAME': 'GREATER_LONDON_AUTHORITY', 'DESCRIPTIO': 'London Borough Ward', 'AREA_CODE': 'LBW', 'NUMBER': 160, 'UNIT_ID': 41894, 'HECTARES': 377.072, 'DESCRIPT1': '                                    ', 'TYPE_CODE': 'VA', 'NUMBER0': 1038, 'SHAPENUM': 272, 'RINGNUM': 1, 'DESCRIPT0': 'CIVIL VOTING AREA'}\n",
      "{'TYPE_COD0': '   ', 'CODE': 'E05000225', 'NAME': 'Peninsula Ward', 'AREA': 107.254, 'POLYGON_ID': 117376, 'FILE_NAME': 'GREATER_LONDON_AUTHORITY', 'DESCRIPTIO': 'London Borough Ward', 'AREA_CODE': 'LBW', 'NUMBER': 242, 'UNIT_ID': 10910, 'HECTARES': 449.194, 'DESCRIPT1': '                                    ', 'TYPE_CODE': 'VA', 'NUMBER0': 1039, 'SHAPENUM': 273, 'RINGNUM': 1, 'DESCRIPT0': 'CIVIL VOTING AREA'}\n",
      "{'TYPE_COD0': '   ', 'CODE': 'E05000230', 'NAME': 'Woolwich Riverside Ward', 'AREA': 72.317, 'POLYGON_ID': 117378, 'FILE_NAME': 'GREATER_LONDON_AUTHORITY', 'DESCRIPTIO': 'London Borough Ward', 'AREA_CODE': 'LBW', 'NUMBER': 243, 'UNIT_ID': 41895, 'HECTARES': 326.109, 'DESCRIPT1': '                                    ', 'TYPE_CODE': 'VA', 'NUMBER0': 1040, 'SHAPENUM': 274, 'RINGNUM': 1, 'DESCRIPT0': 'CIVIL VOTING AREA'}\n",
      "{'TYPE_COD0': '   ', 'CODE': 'E05000222', 'NAME': 'Greenwich West Ward', 'AREA': 26.431, 'POLYGON_ID': 117369, 'FILE_NAME': 'GREATER_LONDON_AUTHORITY', 'DESCRIPTIO': 'London Borough Ward', 'AREA_CODE': 'LBW', 'NUMBER': 418, 'UNIT_ID': 41890, 'HECTARES': 279.234, 'DESCRIPT1': '                                    ', 'TYPE_CODE': 'VA', 'NUMBER0': 1041, 'SHAPENUM': 275, 'RINGNUM': 1, 'DESCRIPT0': 'CIVIL VOTING AREA'}\n",
      "{'TYPE_COD0': '   ', 'CODE': 'E05000220', 'NAME': 'Eltham West Ward', 'AREA': 0.0, 'POLYGON_ID': 117382, 'FILE_NAME': 'GREATER_LONDON_AUTHORITY', 'DESCRIPTIO': 'London Borough Ward', 'AREA_CODE': 'LBW', 'NUMBER': 421, 'UNIT_ID': 41893, 'HECTARES': 242.564, 'DESCRIPT1': '                                    ', 'TYPE_CODE': 'VA', 'NUMBER0': 1042, 'SHAPENUM': 276, 'RINGNUM': 1, 'DESCRIPT0': 'CIVIL VOTING AREA'}\n",
      "{'TYPE_COD0': '   ', 'CODE': 'E05000215', 'NAME': 'Blackheath Westcombe Ward', 'AREA': 0.0, 'POLYGON_ID': 117373, 'FILE_NAME': 'GREATER_LONDON_AUTHORITY', 'DESCRIPTIO': 'London Borough Ward', 'AREA_CODE': 'LBW', 'NUMBER': 422, 'UNIT_ID': 11042, 'HECTARES': 213.815, 'DESCRIPT1': '                                    ', 'TYPE_CODE': 'VA', 'NUMBER0': 1043, 'SHAPENUM': 277, 'RINGNUM': 1, 'DESCRIPT0': 'CIVIL VOTING AREA'}\n",
      "{'TYPE_COD0': '   ', 'CODE': 'E05000223', 'NAME': 'Kidbrooke with Hornfair Ward', 'AREA': 0.0, 'POLYGON_ID': 117374, 'FILE_NAME': 'GREATER_LONDON_AUTHORITY', 'DESCRIPTIO': 'London Borough Ward', 'AREA_CODE': 'LBW', 'NUMBER': 423, 'UNIT_ID': 10917, 'HECTARES': 237.454, 'DESCRIPT1': '                                    ', 'TYPE_CODE': 'VA', 'NUMBER0': 1044, 'SHAPENUM': 278, 'RINGNUM': 1, 'DESCRIPT0': 'CIVIL VOTING AREA'}\n",
      "{'TYPE_COD0': '   ', 'CODE': 'E05000218', 'NAME': 'Eltham North Ward', 'AREA': 0.0, 'POLYGON_ID': 117372, 'FILE_NAME': 'GREATER_LONDON_AUTHORITY', 'DESCRIPTIO': 'London Borough Ward', 'AREA_CODE': 'LBW', 'NUMBER': 424, 'UNIT_ID': 41891, 'HECTARES': 255.512, 'DESCRIPT1': '                                    ', 'TYPE_CODE': 'VA', 'NUMBER0': 1045, 'SHAPENUM': 279, 'RINGNUM': 1, 'DESCRIPT0': 'CIVIL VOTING AREA'}\n",
      "{'TYPE_COD0': '   ', 'CODE': 'E05000216', 'NAME': 'Charlton Ward', 'AREA': 0.0, 'POLYGON_ID': 117377, 'FILE_NAME': 'GREATER_LONDON_AUTHORITY', 'DESCRIPTIO': 'London Borough Ward', 'AREA_CODE': 'LBW', 'NUMBER': 574, 'UNIT_ID': 10909, 'HECTARES': 203.12, 'DESCRIPT1': '                                    ', 'TYPE_CODE': 'VA', 'NUMBER0': 1046, 'SHAPENUM': 280, 'RINGNUM': 1, 'DESCRIPT0': 'CIVIL VOTING AREA'}\n",
      "{'TYPE_COD0': '   ', 'CODE': 'E05000229', 'NAME': 'Woolwich Common Ward', 'AREA': 0.0, 'POLYGON_ID': 117375, 'FILE_NAME': 'GREATER_LONDON_AUTHORITY', 'DESCRIPTIO': 'London Borough Ward', 'AREA_CODE': 'LBW', 'NUMBER': 575, 'UNIT_ID': 41892, 'HECTARES': 262.035, 'DESCRIPT1': '                                    ', 'TYPE_CODE': 'VA', 'NUMBER0': 1047, 'SHAPENUM': 281, 'RINGNUM': 1, 'DESCRIPT0': 'CIVIL VOTING AREA'}\n",
      "{'TYPE_COD0': '   ', 'CODE': 'E05000226', 'NAME': 'Plumstead Ward', 'AREA': 0.0, 'POLYGON_ID': 117380, 'FILE_NAME': 'GREATER_LONDON_AUTHORITY', 'DESCRIPTIO': 'London Borough Ward', 'AREA_CODE': 'LBW', 'NUMBER': 576, 'UNIT_ID': 10831, 'HECTARES': 234.189, 'DESCRIPT1': '                                    ', 'TYPE_CODE': 'VA', 'NUMBER0': 1048, 'SHAPENUM': 282, 'RINGNUM': 1, 'DESCRIPT0': 'CIVIL VOTING AREA'}\n",
      "{'TYPE_COD0': '   ', 'CODE': 'E05000221', 'NAME': 'Glyndon Ward', 'AREA': 15.42, 'POLYGON_ID': 117379, 'FILE_NAME': 'GREATER_LONDON_AUTHORITY', 'DESCRIPTIO': 'London Borough Ward', 'AREA_CODE': 'LBW', 'NUMBER': 577, 'UNIT_ID': 10827, 'HECTARES': 170.196, 'DESCRIPT1': '                                    ', 'TYPE_CODE': 'VA', 'NUMBER0': 1049, 'SHAPENUM': 283, 'RINGNUM': 1, 'DESCRIPT0': 'CIVIL VOTING AREA'}\n",
      "{'TYPE_COD0': '   ', 'CODE': 'E05000228', 'NAME': 'Thamesmead Moorings Ward', 'AREA': 89.362, 'POLYGON_ID': 50872, 'FILE_NAME': 'GREATER_LONDON_AUTHORITY', 'DESCRIPTIO': 'London Borough Ward', 'AREA_CODE': 'LBW', 'NUMBER': 578, 'UNIT_ID': 10828, 'HECTARES': 481.256, 'DESCRIPT1': '                                    ', 'TYPE_CODE': 'VA', 'NUMBER0': 1050, 'SHAPENUM': 284, 'RINGNUM': 1, 'DESCRIPT0': 'CIVIL VOTING AREA'}\n",
      "{'TYPE_COD0': '   ', 'CODE': 'E05000214', 'NAME': 'Abbey Wood Ward', 'AREA': 0.0, 'POLYGON_ID': 117381, 'FILE_NAME': 'GREATER_LONDON_AUTHORITY', 'DESCRIPTIO': 'London Borough Ward', 'AREA_CODE': 'LBW', 'NUMBER': 634, 'UNIT_ID': 10832, 'HECTARES': 265.721, 'DESCRIPT1': '                                    ', 'TYPE_CODE': 'VA', 'NUMBER0': 1051, 'SHAPENUM': 285, 'RINGNUM': 1, 'DESCRIPT0': 'CIVIL VOTING AREA'}\n",
      "{'TYPE_COD0': '   ', 'CODE': 'E05000078', 'NAME': 'Longlands Ward', 'AREA': 0.0, 'POLYGON_ID': 117119, 'FILE_NAME': 'GREATER_LONDON_AUTHORITY', 'DESCRIPTIO': 'London Borough Ward', 'AREA_CODE': 'LBW', 'NUMBER': 153, 'UNIT_ID': 10774, 'HECTARES': 259.723, 'DESCRIPT1': '                                    ', 'TYPE_CODE': 'VA', 'NUMBER0': 1054, 'SHAPENUM': 286, 'RINGNUM': 1, 'DESCRIPT0': 'CIVIL VOTING AREA'}\n",
      "{'TYPE_COD0': '   ', 'CODE': 'E05000066', 'NAME': 'Blackfen and Lamorbey Ward', 'AREA': 0.0, 'POLYGON_ID': 117121, 'FILE_NAME': 'GREATER_LONDON_AUTHORITY', 'DESCRIPTIO': 'London Borough Ward', 'AREA_CODE': 'LBW', 'NUMBER': 159, 'UNIT_ID': 10835, 'HECTARES': 168.558, 'DESCRIPT1': '                                    ', 'TYPE_CODE': 'VA', 'NUMBER0': 1055, 'SHAPENUM': 287, 'RINGNUM': 1, 'DESCRIPT0': 'CIVIL VOTING AREA'}\n",
      "{'TYPE_COD0': '   ', 'CODE': 'E05000072', 'NAME': 'Cray Meadows Ward', 'AREA': 0.0, 'POLYGON_ID': 117118, 'FILE_NAME': 'GREATER_LONDON_AUTHORITY', 'DESCRIPTIO': 'London Borough Ward', 'AREA_CODE': 'LBW', 'NUMBER': 164, 'UNIT_ID': 10760, 'HECTARES': 719.031, 'DESCRIPT1': '                                    ', 'TYPE_CODE': 'VA', 'NUMBER0': 1056, 'SHAPENUM': 288, 'RINGNUM': 1, 'DESCRIPT0': 'CIVIL VOTING AREA'}\n",
      "{'TYPE_COD0': '   ', 'CODE': 'E05000083', 'NAME': 'Sidcup Ward', 'AREA': 0.0, 'POLYGON_ID': 117120, 'FILE_NAME': 'GREATER_LONDON_AUTHORITY', 'DESCRIPTIO': 'London Borough Ward', 'AREA_CODE': 'LBW', 'NUMBER': 165, 'UNIT_ID': 10837, 'HECTARES': 270.347, 'DESCRIPT1': '                                    ', 'TYPE_CODE': 'VA', 'NUMBER0': 1057, 'SHAPENUM': 289, 'RINGNUM': 1, 'DESCRIPT0': 'CIVIL VOTING AREA'}\n",
      "{'TYPE_COD0': '   ', 'CODE': 'E05000081', 'NAME': \"St. Mary's Ward\", 'AREA': 0.0, 'POLYGON_ID': 50888, 'FILE_NAME': 'GREATER_LONDON_AUTHORITY', 'DESCRIPTIO': 'London Borough Ward', 'AREA_CODE': 'LBW', 'NUMBER': 166, 'UNIT_ID': 10756, 'HECTARES': 442.853, 'DESCRIPT1': '                                    ', 'TYPE_CODE': 'VA', 'NUMBER0': 1058, 'SHAPENUM': 290, 'RINGNUM': 1, 'DESCRIPT0': 'CIVIL VOTING AREA'}\n",
      "{'TYPE_COD0': '   ', 'CODE': 'E05000071', 'NAME': 'Crayford Ward', 'AREA': 0.451, 'POLYGON_ID': 117126, 'FILE_NAME': 'GREATER_LONDON_AUTHORITY', 'DESCRIPTIO': 'London Borough Ward', 'AREA_CODE': 'LBW', 'NUMBER': 167, 'UNIT_ID': 10784, 'HECTARES': 397.229, 'DESCRIPT1': '                                    ', 'TYPE_CODE': 'VA', 'NUMBER0': 1059, 'SHAPENUM': 291, 'RINGNUM': 1, 'DESCRIPT0': 'CIVIL VOTING AREA'}\n",
      "{'TYPE_COD0': '   ', 'CODE': 'E05000079', 'NAME': 'North End Ward', 'AREA': 122.841, 'POLYGON_ID': 50918, 'FILE_NAME': 'GREATER_LONDON_AUTHORITY', 'DESCRIPTIO': 'London Borough Ward', 'AREA_CODE': 'LBW', 'NUMBER': 257, 'UNIT_ID': 10786, 'HECTARES': 568.001, 'DESCRIPT1': '                                    ', 'TYPE_CODE': 'VA', 'NUMBER0': 1060, 'SHAPENUM': 292, 'RINGNUM': 1, 'DESCRIPT0': 'CIVIL VOTING AREA'}\n",
      "{'TYPE_COD0': '   ', 'CODE': 'E05000075', 'NAME': 'Erith Ward', 'AREA': 131.166, 'POLYGON_ID': 117129, 'FILE_NAME': 'GREATER_LONDON_AUTHORITY', 'DESCRIPTIO': 'London Borough Ward', 'AREA_CODE': 'LBW', 'NUMBER': 258, 'UNIT_ID': 10791, 'HECTARES': 475.333, 'DESCRIPT1': '                                    ', 'TYPE_CODE': 'VA', 'NUMBER0': 1061, 'SHAPENUM': 293, 'RINGNUM': 1, 'DESCRIPT0': 'CIVIL VOTING AREA'}\n",
      "{'TYPE_COD0': '   ', 'CODE': 'E05000065', 'NAME': 'Belvedere Ward', 'AREA': 30.441, 'POLYGON_ID': 117130, 'FILE_NAME': 'GREATER_LONDON_AUTHORITY', 'DESCRIPTIO': 'London Borough Ward', 'AREA_CODE': 'LBW', 'NUMBER': 259, 'UNIT_ID': 10790, 'HECTARES': 317.549, 'DESCRIPT1': '                                    ', 'TYPE_CODE': 'VA', 'NUMBER0': 1062, 'SHAPENUM': 294, 'RINGNUM': 1, 'DESCRIPT0': 'CIVIL VOTING AREA'}\n",
      "{'TYPE_COD0': '   ', 'CODE': 'E05000084', 'NAME': 'Thamesmead East Ward', 'AREA': 85.721, 'POLYGON_ID': 50862, 'FILE_NAME': 'GREATER_LONDON_AUTHORITY', 'DESCRIPTIO': 'London Borough Ward', 'AREA_CODE': 'LBW', 'NUMBER': 260, 'UNIT_ID': 10818, 'HECTARES': 483.369, 'DESCRIPT1': '                                    ', 'TYPE_CODE': 'VA', 'NUMBER0': 1063, 'SHAPENUM': 295, 'RINGNUM': 1, 'DESCRIPT0': 'CIVIL VOTING AREA'}\n",
      "{'TYPE_COD0': '   ', 'CODE': 'E05000076', 'NAME': 'Falconwood and Welling Ward', 'AREA': 0.0, 'POLYGON_ID': 117122, 'FILE_NAME': 'GREATER_LONDON_AUTHORITY', 'DESCRIPTIO': 'London Borough Ward', 'AREA_CODE': 'LBW', 'NUMBER': 425, 'UNIT_ID': 10840, 'HECTARES': 167.026, 'DESCRIPT1': '                                    ', 'TYPE_CODE': 'VA', 'NUMBER0': 1064, 'SHAPENUM': 296, 'RINGNUM': 1, 'DESCRIPT0': 'CIVIL VOTING AREA'}\n",
      "{'TYPE_COD0': '   ', 'CODE': 'E05000074', 'NAME': 'East Wickham Ward', 'AREA': 0.0, 'POLYGON_ID': 50877, 'FILE_NAME': 'GREATER_LONDON_AUTHORITY', 'DESCRIPTIO': 'London Borough Ward', 'AREA_CODE': 'LBW', 'NUMBER': 426, 'UNIT_ID': 10833, 'HECTARES': 217.313, 'DESCRIPT1': '                                    ', 'TYPE_CODE': 'VA', 'NUMBER0': 1065, 'SHAPENUM': 297, 'RINGNUM': 1, 'DESCRIPT0': 'CIVIL VOTING AREA'}\n",
      "{'TYPE_COD0': '   ', 'CODE': 'E05000067', 'NAME': 'Blendon and Penhill Ward', 'AREA': 0.0, 'POLYGON_ID': 50890, 'FILE_NAME': 'GREATER_LONDON_AUTHORITY', 'DESCRIPTIO': 'London Borough Ward', 'AREA_CODE': 'LBW', 'NUMBER': 427, 'UNIT_ID': 10758, 'HECTARES': 209.79, 'DESCRIPT1': '                                    ', 'TYPE_CODE': 'VA', 'NUMBER0': 1066, 'SHAPENUM': 298, 'RINGNUM': 1, 'DESCRIPT0': 'CIVIL VOTING AREA'}\n",
      "{'TYPE_COD0': '   ', 'CODE': 'E05000073', 'NAME': 'Danson Park Ward', 'AREA': 0.0, 'POLYGON_ID': 117123, 'FILE_NAME': 'GREATER_LONDON_AUTHORITY', 'DESCRIPTIO': 'London Borough Ward', 'AREA_CODE': 'LBW', 'NUMBER': 428, 'UNIT_ID': 10841, 'HECTARES': 271.324, 'DESCRIPT1': '                                    ', 'TYPE_CODE': 'VA', 'NUMBER0': 1067, 'SHAPENUM': 299, 'RINGNUM': 1, 'DESCRIPT0': 'CIVIL VOTING AREA'}\n",
      "{'TYPE_COD0': '   ', 'CODE': 'E05000069', 'NAME': 'Christchurch Ward', 'AREA': 0.0, 'POLYGON_ID': 117124, 'FILE_NAME': 'GREATER_LONDON_AUTHORITY', 'DESCRIPTIO': 'London Borough Ward', 'AREA_CODE': 'LBW', 'NUMBER': 429, 'UNIT_ID': 10838, 'HECTARES': 255.207, 'DESCRIPT1': '                                    ', 'TYPE_CODE': 'VA', 'NUMBER0': 1068, 'SHAPENUM': 300, 'RINGNUM': 1, 'DESCRIPT0': 'CIVIL VOTING AREA'}\n",
      "{'TYPE_COD0': '   ', 'CODE': 'E05000082', 'NAME': \"St. Michael's Ward\", 'AREA': 0.0, 'POLYGON_ID': 50864, 'FILE_NAME': 'GREATER_LONDON_AUTHORITY', 'DESCRIPTIO': 'London Borough Ward', 'AREA_CODE': 'LBW', 'NUMBER': 430, 'UNIT_ID': 10820, 'HECTARES': 144.814, 'DESCRIPT1': '                                    ', 'TYPE_CODE': 'VA', 'NUMBER0': 1069, 'SHAPENUM': 301, 'RINGNUM': 1, 'DESCRIPT0': 'CIVIL VOTING AREA'}\n",
      "{'TYPE_COD0': '   ', 'CODE': 'E05000068', 'NAME': 'Brampton Ward', 'AREA': 0.0, 'POLYGON_ID': 50883, 'FILE_NAME': 'GREATER_LONDON_AUTHORITY', 'DESCRIPTIO': 'London Borough Ward', 'AREA_CODE': 'LBW', 'NUMBER': 431, 'UNIT_ID': 10839, 'HECTARES': 196.746, 'DESCRIPT1': '                                    ', 'TYPE_CODE': 'VA', 'NUMBER0': 1070, 'SHAPENUM': 302, 'RINGNUM': 1, 'DESCRIPT0': 'CIVIL VOTING AREA'}\n",
      "{'TYPE_COD0': '   ', 'CODE': 'E05000080', 'NAME': 'Northumberland Heath Ward', 'AREA': 0.0, 'POLYGON_ID': 117127, 'FILE_NAME': 'GREATER_LONDON_AUTHORITY', 'DESCRIPTIO': 'London Borough Ward', 'AREA_CODE': 'LBW', 'NUMBER': 432, 'UNIT_ID': 10789, 'HECTARES': 175.282, 'DESCRIPT1': '                                    ', 'TYPE_CODE': 'VA', 'NUMBER0': 1071, 'SHAPENUM': 303, 'RINGNUM': 1, 'DESCRIPT0': 'CIVIL VOTING AREA'}\n",
      "{'TYPE_COD0': '   ', 'CODE': 'E05000064', 'NAME': 'Barnehurst Ward', 'AREA': 0.0, 'POLYGON_ID': 117125, 'FILE_NAME': 'GREATER_LONDON_AUTHORITY', 'DESCRIPTIO': 'London Borough Ward', 'AREA_CODE': 'LBW', 'NUMBER': 433, 'UNIT_ID': 10787, 'HECTARES': 287.74, 'DESCRIPT1': '                                    ', 'TYPE_CODE': 'VA', 'NUMBER0': 1072, 'SHAPENUM': 304, 'RINGNUM': 1, 'DESCRIPT0': 'CIVIL VOTING AREA'}\n",
      "{'TYPE_COD0': '   ', 'CODE': 'E05000070', 'NAME': 'Colyers Ward', 'AREA': 0.0, 'POLYGON_ID': 117128, 'FILE_NAME': 'GREATER_LONDON_AUTHORITY', 'DESCRIPTIO': 'London Borough Ward', 'AREA_CODE': 'LBW', 'NUMBER': 434, 'UNIT_ID': 41859, 'HECTARES': 164.393, 'DESCRIPT1': '                                    ', 'TYPE_CODE': 'VA', 'NUMBER0': 1073, 'SHAPENUM': 305, 'RINGNUM': 1, 'DESCRIPT0': 'CIVIL VOTING AREA'}\n",
      "{'TYPE_COD0': '   ', 'CODE': 'E05000077', 'NAME': 'Lesnes Abbey Ward', 'AREA': 0.0, 'POLYGON_ID': 117117, 'FILE_NAME': 'GREATER_LONDON_AUTHORITY', 'DESCRIPTIO': 'London Borough Ward', 'AREA_CODE': 'LBW', 'NUMBER': 633, 'UNIT_ID': 10819, 'HECTARES': 237.019, 'DESCRIPT1': '                                    ', 'TYPE_CODE': 'VA', 'NUMBER0': 1074, 'SHAPENUM': 306, 'RINGNUM': 1, 'DESCRIPT0': 'CIVIL VOTING AREA'}\n",
      "{'TYPE_COD0': '   ', 'CODE': 'E05000195', 'NAME': 'Chase Ward', 'AREA': 0.0, 'POLYGON_ID': 117071, 'FILE_NAME': 'GREATER_LONDON_AUTHORITY', 'DESCRIPTIO': 'London Borough Ward', 'AREA_CODE': 'LBW', 'NUMBER': 95, 'UNIT_ID': 11332, 'HECTARES': 1693.541, 'DESCRIPT1': '                                    ', 'TYPE_CODE': 'VA', 'NUMBER0': 1079, 'SHAPENUM': 307, 'RINGNUM': 1, 'DESCRIPT0': 'CIVIL VOTING AREA'}\n",
      "{'TYPE_COD0': '   ', 'CODE': 'E05000213', 'NAME': 'Winchmore Hill Ward', 'AREA': 0.0, 'POLYGON_ID': 117075, 'FILE_NAME': 'GREATER_LONDON_AUTHORITY', 'DESCRIPTIO': 'London Borough Ward', 'AREA_CODE': 'LBW', 'NUMBER': 233, 'UNIT_ID': 11321, 'HECTARES': 276.07, 'DESCRIPT1': '                                    ', 'TYPE_CODE': 'VA', 'NUMBER0': 1080, 'SHAPENUM': 308, 'RINGNUM': 1, 'DESCRIPT0': 'CIVIL VOTING AREA'}\n",
      "{'TYPE_COD0': '   ', 'CODE': 'E05000196', 'NAME': 'Cockfosters Ward', 'AREA': 0.0, 'POLYGON_ID': 117065, 'FILE_NAME': 'GREATER_LONDON_AUTHORITY', 'DESCRIPTIO': 'London Borough Ward', 'AREA_CODE': 'LBW', 'NUMBER': 235, 'UNIT_ID': 41853, 'HECTARES': 1041.279, 'DESCRIPT1': '                                    ', 'TYPE_CODE': 'VA', 'NUMBER0': 1081, 'SHAPENUM': 309, 'RINGNUM': 1, 'DESCRIPT0': 'CIVIL VOTING AREA'}\n",
      "{'TYPE_COD0': '   ', 'CODE': 'E05000202', 'NAME': 'Highlands Ward', 'AREA': 0.0, 'POLYGON_ID': 117068, 'FILE_NAME': 'GREATER_LONDON_AUTHORITY', 'DESCRIPTIO': 'London Borough Ward', 'AREA_CODE': 'LBW', 'NUMBER': 236, 'UNIT_ID': 11382, 'HECTARES': 508.803, 'DESCRIPT1': '                                    ', 'TYPE_CODE': 'VA', 'NUMBER0': 1082, 'SHAPENUM': 310, 'RINGNUM': 1, 'DESCRIPT0': 'CIVIL VOTING AREA'}\n",
      "{'TYPE_COD0': '   ', 'CODE': 'E05000212', 'NAME': 'Upper Edmonton Ward', 'AREA': 0.0, 'POLYGON_ID': 117069, 'FILE_NAME': 'GREATER_LONDON_AUTHORITY', 'DESCRIPTIO': 'London Borough Ward', 'AREA_CODE': 'LBW', 'NUMBER': 249, 'UNIT_ID': 11295, 'HECTARES': 264.24, 'DESCRIPT1': '                                    ', 'TYPE_CODE': 'VA', 'NUMBER0': 1083, 'SHAPENUM': 311, 'RINGNUM': 1, 'DESCRIPT0': 'CIVIL VOTING AREA'}\n",
      "{'TYPE_COD0': '   ', 'CODE': 'E05000205', 'NAME': 'Palmers Green Ward', 'AREA': 0.0, 'POLYGON_ID': 117074, 'FILE_NAME': 'GREATER_LONDON_AUTHORITY', 'DESCRIPTIO': 'London Borough Ward', 'AREA_CODE': 'LBW', 'NUMBER': 278, 'UNIT_ID': 11323, 'HECTARES': 194.212, 'DESCRIPT1': '                                    ', 'TYPE_CODE': 'VA', 'NUMBER0': 1084, 'SHAPENUM': 312, 'RINGNUM': 1, 'DESCRIPT0': 'CIVIL VOTING AREA'}\n",
      "{'TYPE_COD0': '   ', 'CODE': 'E05000197', 'NAME': 'Edmonton Green Ward', 'AREA': 0.0, 'POLYGON_ID': 117076, 'FILE_NAME': 'GREATER_LONDON_AUTHORITY', 'DESCRIPTIO': 'London Borough Ward', 'AREA_CODE': 'LBW', 'NUMBER': 279, 'UNIT_ID': 11298, 'HECTARES': 312.642, 'DESCRIPT1': '                                    ', 'TYPE_CODE': 'VA', 'NUMBER0': 1085, 'SHAPENUM': 313, 'RINGNUM': 1, 'DESCRIPT0': 'CIVIL VOTING AREA'}\n",
      "{'TYPE_COD0': '   ', 'CODE': 'E05000204', 'NAME': 'Lower Edmonton Ward', 'AREA': 0.0, 'POLYGON_ID': 117077, 'FILE_NAME': 'GREATER_LONDON_AUTHORITY', 'DESCRIPTIO': 'London Borough Ward', 'AREA_CODE': 'LBW', 'NUMBER': 281, 'UNIT_ID': 41854, 'HECTARES': 218.248, 'DESCRIPT1': '                                    ', 'TYPE_CODE': 'VA', 'NUMBER0': 1086, 'SHAPENUM': 314, 'RINGNUM': 1, 'DESCRIPT0': 'CIVIL VOTING AREA'}\n",
      "{'TYPE_COD0': '   ', 'CODE': 'E05000200', 'NAME': 'Grange Ward', 'AREA': 0.0, 'POLYGON_ID': 117067, 'FILE_NAME': 'GREATER_LONDON_AUTHORITY', 'DESCRIPTIO': 'London Borough Ward', 'AREA_CODE': 'LBW', 'NUMBER': 282, 'UNIT_ID': 11320, 'HECTARES': 328.516, 'DESCRIPT1': '                                    ', 'TYPE_CODE': 'VA', 'NUMBER0': 1087, 'SHAPENUM': 315, 'RINGNUM': 1, 'DESCRIPT0': 'CIVIL VOTING AREA'}\n",
      "{'TYPE_COD0': '   ', 'CODE': 'E05000203', 'NAME': 'Jubilee Ward', 'AREA': 0.0, 'POLYGON_ID': 117078, 'FILE_NAME': 'GREATER_LONDON_AUTHORITY', 'DESCRIPTIO': 'London Borough Ward', 'AREA_CODE': 'LBW', 'NUMBER': 283, 'UNIT_ID': 11311, 'HECTARES': 392.833, 'DESCRIPT1': '                                    ', 'TYPE_CODE': 'VA', 'NUMBER0': 1088, 'SHAPENUM': 316, 'RINGNUM': 1, 'DESCRIPT0': 'CIVIL VOTING AREA'}\n",
      "{'TYPE_COD0': '   ', 'CODE': 'E05000206', 'NAME': 'Ponders End Ward', 'AREA': 0.0, 'POLYGON_ID': 117081, 'FILE_NAME': 'GREATER_LONDON_AUTHORITY', 'DESCRIPTIO': 'London Borough Ward', 'AREA_CODE': 'LBW', 'NUMBER': 284, 'UNIT_ID': 11307, 'HECTARES': 354.296, 'DESCRIPT1': '                                    ', 'TYPE_CODE': 'VA', 'NUMBER0': 1089, 'SHAPENUM': 317, 'RINGNUM': 1, 'DESCRIPT0': 'CIVIL VOTING AREA'}\n",
      "{'TYPE_COD0': '   ', 'CODE': 'E05000198', 'NAME': 'Enfield Highway Ward', 'AREA': 0.0, 'POLYGON_ID': 117082, 'FILE_NAME': 'GREATER_LONDON_AUTHORITY', 'DESCRIPTIO': 'London Borough Ward', 'AREA_CODE': 'LBW', 'NUMBER': 285, 'UNIT_ID': 11306, 'HECTARES': 463.653, 'DESCRIPT1': '                                    ', 'TYPE_CODE': 'VA', 'NUMBER0': 1090, 'SHAPENUM': 318, 'RINGNUM': 1, 'DESCRIPT0': 'CIVIL VOTING AREA'}\n",
      "{'TYPE_COD0': '   ', 'CODE': 'E05000193', 'NAME': 'Bowes Ward', 'AREA': 0.0, 'POLYGON_ID': 117073, 'FILE_NAME': 'GREATER_LONDON_AUTHORITY', 'DESCRIPTIO': 'London Borough Ward', 'AREA_CODE': 'LBW', 'NUMBER': 542, 'UNIT_ID': 11324, 'HECTARES': 148.337, 'DESCRIPT1': '                                    ', 'TYPE_CODE': 'VA', 'NUMBER0': 1091, 'SHAPENUM': 319, 'RINGNUM': 1, 'DESCRIPT0': 'CIVIL VOTING AREA'}\n",
      "{'TYPE_COD0': '   ', 'CODE': 'E05000209', 'NAME': 'Southgate Green Ward', 'AREA': 0.0, 'POLYGON_ID': 117072, 'FILE_NAME': 'GREATER_LONDON_AUTHORITY', 'DESCRIPTIO': 'London Borough Ward', 'AREA_CODE': 'LBW', 'NUMBER': 543, 'UNIT_ID': 11372, 'HECTARES': 261.351, 'DESCRIPT1': '                                    ', 'TYPE_CODE': 'VA', 'NUMBER0': 1092, 'SHAPENUM': 320, 'RINGNUM': 1, 'DESCRIPT0': 'CIVIL VOTING AREA'}\n",
      "{'TYPE_COD0': '   ', 'CODE': 'E05000208', 'NAME': 'Southgate Ward', 'AREA': 0.0, 'POLYGON_ID': 117066, 'FILE_NAME': 'GREATER_LONDON_AUTHORITY', 'DESCRIPTIO': 'London Borough Ward', 'AREA_CODE': 'LBW', 'NUMBER': 544, 'UNIT_ID': 11374, 'HECTARES': 268.727, 'DESCRIPT1': '                                    ', 'TYPE_CODE': 'VA', 'NUMBER0': 1093, 'SHAPENUM': 321, 'RINGNUM': 1, 'DESCRIPT0': 'CIVIL VOTING AREA'}\n",
      "{'TYPE_COD0': '   ', 'CODE': 'E05000201', 'NAME': 'Haselbury Ward', 'AREA': 0.0, 'POLYGON_ID': 117084, 'FILE_NAME': 'GREATER_LONDON_AUTHORITY', 'DESCRIPTIO': 'London Borough Ward', 'AREA_CODE': 'LBW', 'NUMBER': 646, 'UNIT_ID': 11326, 'HECTARES': 179.602, 'DESCRIPT1': '                                    ', 'TYPE_CODE': 'VA', 'NUMBER0': 1094, 'SHAPENUM': 322, 'RINGNUM': 1, 'DESCRIPT0': 'CIVIL VOTING AREA'}\n",
      "{'TYPE_COD0': '   ', 'CODE': 'E05000194', 'NAME': 'Bush Hill Park Ward', 'AREA': 0.0, 'POLYGON_ID': 117070, 'FILE_NAME': 'GREATER_LONDON_AUTHORITY', 'DESCRIPTIO': 'London Borough Ward', 'AREA_CODE': 'LBW', 'NUMBER': 647, 'UNIT_ID': 11310, 'HECTARES': 252.449, 'DESCRIPT1': '                                    ', 'TYPE_CODE': 'VA', 'NUMBER0': 1095, 'SHAPENUM': 323, 'RINGNUM': 1, 'DESCRIPT0': 'CIVIL VOTING AREA'}\n",
      "{'TYPE_COD0': '   ', 'CODE': 'E05000210', 'NAME': 'Town Ward', 'AREA': 0.0, 'POLYGON_ID': 117080, 'FILE_NAME': 'GREATER_LONDON_AUTHORITY', 'DESCRIPTIO': 'London Borough Ward', 'AREA_CODE': 'LBW', 'NUMBER': 650, 'UNIT_ID': 11319, 'HECTARES': 223.14, 'DESCRIPT1': '                                    ', 'TYPE_CODE': 'VA', 'NUMBER0': 1096, 'SHAPENUM': 324, 'RINGNUM': 1, 'DESCRIPT0': 'CIVIL VOTING AREA'}\n",
      "{'TYPE_COD0': '   ', 'CODE': 'E05000207', 'NAME': 'Southbury Ward', 'AREA': 0.0, 'POLYGON_ID': 117079, 'FILE_NAME': 'GREATER_LONDON_AUTHORITY', 'DESCRIPTIO': 'London Borough Ward', 'AREA_CODE': 'LBW', 'NUMBER': 651, 'UNIT_ID': 11317, 'HECTARES': 286.704, 'DESCRIPT1': '                                    ', 'TYPE_CODE': 'VA', 'NUMBER0': 1097, 'SHAPENUM': 325, 'RINGNUM': 1, 'DESCRIPT0': 'CIVIL VOTING AREA'}\n",
      "{'TYPE_COD0': '   ', 'CODE': 'E05000211', 'NAME': 'Turkey Street Ward', 'AREA': 0.0, 'POLYGON_ID': 117083, 'FILE_NAME': 'GREATER_LONDON_AUTHORITY', 'DESCRIPTIO': 'London Borough Ward', 'AREA_CODE': 'LBW', 'NUMBER': 652, 'UNIT_ID': 11331, 'HECTARES': 226.15, 'DESCRIPT1': '                                    ', 'TYPE_CODE': 'VA', 'NUMBER0': 1098, 'SHAPENUM': 326, 'RINGNUM': 1, 'DESCRIPT0': 'CIVIL VOTING AREA'}\n",
      "{'TYPE_COD0': '   ', 'CODE': 'E05000199', 'NAME': 'Enfield Lock Ward', 'AREA': 0.0, 'POLYGON_ID': 50605, 'FILE_NAME': 'GREATER_LONDON_AUTHORITY', 'DESCRIPTIO': 'London Borough Ward', 'AREA_CODE': 'LBW', 'NUMBER': 653, 'UNIT_ID': 11305, 'HECTARES': 325.231, 'DESCRIPT1': '                                    ', 'TYPE_CODE': 'VA', 'NUMBER0': 1099, 'SHAPENUM': 327, 'RINGNUM': 1, 'DESCRIPT0': 'CIVIL VOTING AREA'}\n",
      "{'TYPE_COD0': '   ', 'CODE': 'E05000604', 'NAME': 'Leyton Ward', 'AREA': 0.0, 'POLYGON_ID': 50808, 'FILE_NAME': 'GREATER_LONDON_AUTHORITY', 'DESCRIPTIO': 'London Borough Ward', 'AREA_CODE': 'LBW', 'NUMBER': 248, 'UNIT_ID': 10852, 'HECTARES': 203.218, 'DESCRIPT1': '                                    ', 'TYPE_CODE': 'VA', 'NUMBER0': 1103, 'SHAPENUM': 328, 'RINGNUM': 1, 'DESCRIPT0': 'CIVIL VOTING AREA'}\n",
      "{'TYPE_COD0': '   ', 'CODE': 'E05000599', 'NAME': 'High Street Ward', 'AREA': 0.0, 'POLYGON_ID': 50677, 'FILE_NAME': 'GREATER_LONDON_AUTHORITY', 'DESCRIPTIO': 'London Borough Ward', 'AREA_CODE': 'LBW', 'NUMBER': 250, 'UNIT_ID': 11203, 'HECTARES': 305.893, 'DESCRIPT1': '                                    ', 'TYPE_CODE': 'VA', 'NUMBER0': 1104, 'SHAPENUM': 329, 'RINGNUM': 1, 'DESCRIPT0': 'CIVIL VOTING AREA'}\n",
      "{'TYPE_COD0': '   ', 'CODE': 'E05000600', 'NAME': 'Higham Hill Ward', 'AREA': 0.0, 'POLYGON_ID': 50613, 'FILE_NAME': 'GREATER_LONDON_AUTHORITY', 'DESCRIPTIO': 'London Borough Ward', 'AREA_CODE': 'LBW', 'NUMBER': 251, 'UNIT_ID': 11313, 'HECTARES': 322.124, 'DESCRIPT1': '                                    ', 'TYPE_CODE': 'VA', 'NUMBER0': 1105, 'SHAPENUM': 330, 'RINGNUM': 1, 'DESCRIPT0': 'CIVIL VOTING AREA'}\n",
      "{'TYPE_COD0': '   ', 'CODE': 'E05000607', 'NAME': 'Valley Ward', 'AREA': 0.0, 'POLYGON_ID': 50612, 'FILE_NAME': 'GREATER_LONDON_AUTHORITY', 'DESCRIPTIO': 'London Borough Ward', 'AREA_CODE': 'LBW', 'NUMBER': 280, 'UNIT_ID': 11312, 'HECTARES': 198.482, 'DESCRIPT1': '                                    ', 'TYPE_CODE': 'VA', 'NUMBER0': 1106, 'SHAPENUM': 331, 'RINGNUM': 1, 'DESCRIPT0': 'CIVIL VOTING AREA'}\n",
      "{'TYPE_COD0': '   ', 'CODE': 'E05000593', 'NAME': 'Chingford Green Ward', 'AREA': 0.0, 'POLYGON_ID': 50614, 'FILE_NAME': 'GREATER_LONDON_AUTHORITY', 'DESCRIPTIO': 'London Borough Ward', 'AREA_CODE': 'LBW', 'NUMBER': 287, 'UNIT_ID': 11314, 'HECTARES': 372.664, 'DESCRIPT1': '                                    ', 'TYPE_CODE': 'VA', 'NUMBER0': 1107, 'SHAPENUM': 332, 'RINGNUM': 1, 'DESCRIPT0': 'CIVIL VOTING AREA'}\n",
      "{'TYPE_COD0': '   ', 'CODE': 'E05000591', 'NAME': 'Cathall Ward', 'AREA': 0.0, 'POLYGON_ID': 50807, 'FILE_NAME': 'GREATER_LONDON_AUTHORITY', 'DESCRIPTIO': 'London Borough Ward', 'AREA_CODE': 'LBW', 'NUMBER': 603, 'UNIT_ID': 10851, 'HECTARES': 105.712, 'DESCRIPT1': '                                    ', 'TYPE_CODE': 'VA', 'NUMBER0': 1108, 'SHAPENUM': 333, 'RINGNUM': 1, 'DESCRIPT0': 'CIVIL VOTING AREA'}\n",
      "{'TYPE_COD0': '   ', 'CODE': 'E05000603', 'NAME': 'Lea Bridge Ward', 'AREA': 0.0, 'POLYGON_ID': 50683, 'FILE_NAME': 'GREATER_LONDON_AUTHORITY', 'DESCRIPTIO': 'London Borough Ward', 'AREA_CODE': 'LBW', 'NUMBER': 604, 'UNIT_ID': 11209, 'HECTARES': 264.686, 'DESCRIPT1': '                                    ', 'TYPE_CODE': 'VA', 'NUMBER0': 1109, 'SHAPENUM': 334, 'RINGNUM': 1, 'DESCRIPT0': 'CIVIL VOTING AREA'}\n",
      "{'TYPE_COD0': '   ', 'CODE': 'E05000606', 'NAME': 'Markhouse Ward', 'AREA': 0.0, 'POLYGON_ID': 50692, 'FILE_NAME': 'GREATER_LONDON_AUTHORITY', 'DESCRIPTIO': 'London Borough Ward', 'AREA_CODE': 'LBW', 'NUMBER': 605, 'UNIT_ID': 11217, 'HECTARES': 145.704, 'DESCRIPT1': '                                    ', 'TYPE_CODE': 'VA', 'NUMBER0': 1110, 'SHAPENUM': 335, 'RINGNUM': 1, 'DESCRIPT0': 'CIVIL VOTING AREA'}\n",
      "{'TYPE_COD0': '   ', 'CODE': 'E05000596', 'NAME': 'Grove Green Ward', 'AREA': 0.0, 'POLYGON_ID': 50685, 'FILE_NAME': 'GREATER_LONDON_AUTHORITY', 'DESCRIPTIO': 'London Borough Ward', 'AREA_CODE': 'LBW', 'NUMBER': 606, 'UNIT_ID': 11211, 'HECTARES': 89.582, 'DESCRIPT1': '                                    ', 'TYPE_CODE': 'VA', 'NUMBER0': 1111, 'SHAPENUM': 336, 'RINGNUM': 1, 'DESCRIPT0': 'CIVIL VOTING AREA'}\n",
      "{'TYPE_COD0': '   ', 'CODE': 'E05000595', 'NAME': 'Forest Ward', 'AREA': 0.0, 'POLYGON_ID': 51314, 'FILE_NAME': 'GREATER_LONDON_AUTHORITY', 'DESCRIPTIO': 'London Borough Ward', 'AREA_CODE': 'LBW', 'NUMBER': 607, 'UNIT_ID': 10968, 'HECTARES': 198.605, 'DESCRIPT1': '                                    ', 'TYPE_CODE': 'VA', 'NUMBER0': 1112, 'SHAPENUM': 337, 'RINGNUM': 1, 'DESCRIPT0': 'CIVIL VOTING AREA'}\n",
      "{'TYPE_COD0': '   ', 'CODE': 'E05000608', 'NAME': 'William Morris Ward', 'AREA': 0.0, 'POLYGON_ID': 50690, 'FILE_NAME': 'GREATER_LONDON_AUTHORITY', 'DESCRIPTIO': 'London Borough Ward', 'AREA_CODE': 'LBW', 'NUMBER': 614, 'UNIT_ID': 11216, 'HECTARES': 99.919, 'DESCRIPT1': '                                    ', 'TYPE_CODE': 'VA', 'NUMBER0': 1113, 'SHAPENUM': 338, 'RINGNUM': 1, 'DESCRIPT0': 'CIVIL VOTING AREA'}\n",
      "{'TYPE_COD0': '   ', 'CODE': 'E05000601', 'NAME': 'Hoe Street Ward', 'AREA': 0.0, 'POLYGON_ID': 50686, 'FILE_NAME': 'GREATER_LONDON_AUTHORITY', 'DESCRIPTIO': 'London Borough Ward', 'AREA_CODE': 'LBW', 'NUMBER': 615, 'UNIT_ID': 11212, 'HECTARES': 110.006, 'DESCRIPT1': '                                    ', 'TYPE_CODE': 'VA', 'NUMBER0': 1114, 'SHAPENUM': 339, 'RINGNUM': 1, 'DESCRIPT0': 'CIVIL VOTING AREA'}\n",
      "{'TYPE_COD0': '   ', 'CODE': 'E05000609', 'NAME': 'Wood Street Ward', 'AREA': 0.0, 'POLYGON_ID': 50688, 'FILE_NAME': 'GREATER_LONDON_AUTHORITY', 'DESCRIPTIO': 'London Borough Ward', 'AREA_CODE': 'LBW', 'NUMBER': 616, 'UNIT_ID': 11214, 'HECTARES': 185.011, 'DESCRIPT1': '                                    ', 'TYPE_CODE': 'VA', 'NUMBER0': 1115, 'SHAPENUM': 340, 'RINGNUM': 1, 'DESCRIPT0': 'CIVIL VOTING AREA'}\n",
      "{'TYPE_COD0': '   ', 'CODE': 'E05000592', 'NAME': 'Chapel End Ward', 'AREA': 0.0, 'POLYGON_ID': 50689, 'FILE_NAME': 'GREATER_LONDON_AUTHORITY', 'DESCRIPTIO': 'London Borough Ward', 'AREA_CODE': 'LBW', 'NUMBER': 617, 'UNIT_ID': 11215, 'HECTARES': 185.015, 'DESCRIPT1': '                                    ', 'TYPE_CODE': 'VA', 'NUMBER0': 1116, 'SHAPENUM': 341, 'RINGNUM': 1, 'DESCRIPT0': 'CIVIL VOTING AREA'}\n",
      "{'TYPE_COD0': '   ', 'CODE': 'E05000597', 'NAME': 'Hale End and Highams Park Ward', 'AREA': 0.0, 'POLYGON_ID': 50603, 'FILE_NAME': 'GREATER_LONDON_AUTHORITY', 'DESCRIPTIO': 'London Borough Ward', 'AREA_CODE': 'LBW', 'NUMBER': 618, 'UNIT_ID': 11303, 'HECTARES': 234.689, 'DESCRIPT1': '                                    ', 'TYPE_CODE': 'VA', 'NUMBER0': 1117, 'SHAPENUM': 342, 'RINGNUM': 1, 'DESCRIPT0': 'CIVIL VOTING AREA'}\n",
      "{'TYPE_COD0': '   ', 'CODE': 'E05000590', 'NAME': 'Cann Hall Ward', 'AREA': 0.0, 'POLYGON_ID': 51317, 'FILE_NAME': 'GREATER_LONDON_AUTHORITY', 'DESCRIPTIO': 'London Borough Ward', 'AREA_CODE': 'LBW', 'NUMBER': 620, 'UNIT_ID': 10971, 'HECTARES': 85.788, 'DESCRIPT1': '                                    ', 'TYPE_CODE': 'VA', 'NUMBER0': 1118, 'SHAPENUM': 343, 'RINGNUM': 1, 'DESCRIPT0': 'CIVIL VOTING AREA'}\n",
      "{'TYPE_COD0': '   ', 'CODE': 'E05000602', 'NAME': 'Larkswood Ward', 'AREA': 0.0, 'POLYGON_ID': 50601, 'FILE_NAME': 'GREATER_LONDON_AUTHORITY', 'DESCRIPTIO': 'London Borough Ward', 'AREA_CODE': 'LBW', 'NUMBER': 648, 'UNIT_ID': 11301, 'HECTARES': 206.57, 'DESCRIPT1': '                                    ', 'TYPE_CODE': 'VA', 'NUMBER0': 1119, 'SHAPENUM': 344, 'RINGNUM': 1, 'DESCRIPT0': 'CIVIL VOTING AREA'}\n",
      "{'TYPE_COD0': '   ', 'CODE': 'E05000594', 'NAME': 'Endlebury Ward', 'AREA': 0.0, 'POLYGON_ID': 50602, 'FILE_NAME': 'GREATER_LONDON_AUTHORITY', 'DESCRIPTIO': 'London Borough Ward', 'AREA_CODE': 'LBW', 'NUMBER': 649, 'UNIT_ID': 11302, 'HECTARES': 194.912, 'DESCRIPT1': '                                    ', 'TYPE_CODE': 'VA', 'NUMBER0': 1120, 'SHAPENUM': 345, 'RINGNUM': 1, 'DESCRIPT0': 'CIVIL VOTING AREA'}\n",
      "{'TYPE_COD0': '   ', 'CODE': 'E05000598', 'NAME': 'Hatch Lane Ward', 'AREA': 0.0, 'POLYGON_ID': 51311, 'FILE_NAME': 'GREATER_LONDON_AUTHORITY', 'DESCRIPTIO': 'London Borough Ward', 'AREA_CODE': 'LBW', 'NUMBER': 654, 'UNIT_ID': 10965, 'HECTARES': 241.621, 'DESCRIPT1': '                                    ', 'TYPE_CODE': 'VA', 'NUMBER0': 1121, 'SHAPENUM': 346, 'RINGNUM': 1, 'DESCRIPT0': 'CIVIL VOTING AREA'}\n",
      "{'TYPE_COD0': '   ', 'CODE': 'E05000605', 'NAME': 'Leytonstone Ward', 'AREA': 0.0, 'POLYGON_ID': 51313, 'FILE_NAME': 'GREATER_LONDON_AUTHORITY', 'DESCRIPTIO': 'London Borough Ward', 'AREA_CODE': 'LBW', 'NUMBER': 711, 'UNIT_ID': 10967, 'HECTARES': 130.591, 'DESCRIPT1': '                                    ', 'TYPE_CODE': 'VA', 'NUMBER0': 1122, 'SHAPENUM': 347, 'RINGNUM': 1, 'DESCRIPT0': 'CIVIL VOTING AREA'}\n",
      "{'TYPE_COD0': '   ', 'CODE': 'E05000515', 'NAME': 'Wanstead Ward', 'AREA': 0.0, 'POLYGON_ID': 116755, 'FILE_NAME': 'GREATER_LONDON_AUTHORITY', 'DESCRIPTIO': 'London Borough Ward', 'AREA_CODE': 'LBW', 'NUMBER': 252, 'UNIT_ID': 10926, 'HECTARES': 519.133, 'DESCRIPT1': '                                    ', 'TYPE_CODE': 'VA', 'NUMBER0': 1125, 'SHAPENUM': 348, 'RINGNUM': 1, 'DESCRIPT0': 'CIVIL VOTING AREA'}\n",
      "{'TYPE_COD0': '   ', 'CODE': 'E05000502', 'NAME': 'Cranbrook Ward', 'AREA': 0.0, 'POLYGON_ID': 51304, 'FILE_NAME': 'GREATER_LONDON_AUTHORITY', 'DESCRIPTIO': 'London Borough Ward', 'AREA_CODE': 'LBW', 'NUMBER': 253, 'UNIT_ID': 10958, 'HECTARES': 240.079, 'DESCRIPT1': '                                    ', 'TYPE_CODE': 'VA', 'NUMBER0': 1126, 'SHAPENUM': 349, 'RINGNUM': 1, 'DESCRIPT0': 'CIVIL VOTING AREA'}\n",
      "{'TYPE_COD0': '   ', 'CODE': 'E05000510', 'NAME': 'Newbury Ward', 'AREA': 0.0, 'POLYGON_ID': 51302, 'FILE_NAME': 'GREATER_LONDON_AUTHORITY', 'DESCRIPTIO': 'London Borough Ward', 'AREA_CODE': 'LBW', 'NUMBER': 254, 'UNIT_ID': 10956, 'HECTARES': 212.023, 'DESCRIPT1': '                                    ', 'TYPE_CODE': 'VA', 'NUMBER0': 1127, 'SHAPENUM': 350, 'RINGNUM': 1, 'DESCRIPT0': 'CIVIL VOTING AREA'}\n",
      "{'TYPE_COD0': '   ', 'CODE': 'E05000511', 'NAME': 'Roding Ward', 'AREA': 0.0, 'POLYGON_ID': 51306, 'FILE_NAME': 'GREATER_LONDON_AUTHORITY', 'DESCRIPTIO': 'London Borough Ward', 'AREA_CODE': 'LBW', 'NUMBER': 255, 'UNIT_ID': 10960, 'HECTARES': 236.297, 'DESCRIPT1': '                                    ', 'TYPE_CODE': 'VA', 'NUMBER0': 1128, 'SHAPENUM': 351, 'RINGNUM': 1, 'DESCRIPT0': 'CIVIL VOTING AREA'}\n",
      "{'TYPE_COD0': '   ', 'CODE': 'E05000503', 'NAME': 'Fairlop Ward', 'AREA': 0.0, 'POLYGON_ID': 51300, 'FILE_NAME': 'GREATER_LONDON_AUTHORITY', 'DESCRIPTIO': 'London Borough Ward', 'AREA_CODE': 'LBW', 'NUMBER': 256, 'UNIT_ID': 10954, 'HECTARES': 359.569, 'DESCRIPT1': '                                    ', 'TYPE_CODE': 'VA', 'NUMBER0': 1129, 'SHAPENUM': 352, 'RINGNUM': 1, 'DESCRIPT0': 'CIVIL VOTING AREA'}\n",
      "{'TYPE_COD0': '   ', 'CODE': 'E05000505', 'NAME': 'Goodmayes Ward', 'AREA': 0.0, 'POLYGON_ID': 51293, 'FILE_NAME': 'GREATER_LONDON_AUTHORITY', 'DESCRIPTIO': 'London Borough Ward', 'AREA_CODE': 'LBW', 'NUMBER': 266, 'UNIT_ID': 10947, 'HECTARES': 164.034, 'DESCRIPT1': '                                    ', 'TYPE_CODE': 'VA', 'NUMBER0': 1130, 'SHAPENUM': 353, 'RINGNUM': 1, 'DESCRIPT0': 'CIVIL VOTING AREA'}\n",
      "{'TYPE_COD0': '   ', 'CODE': 'E05000495', 'NAME': 'Aldborough Ward', 'AREA': 0.0, 'POLYGON_ID': 51299, 'FILE_NAME': 'GREATER_LONDON_AUTHORITY', 'DESCRIPTIO': 'London Borough Ward', 'AREA_CODE': 'LBW', 'NUMBER': 267, 'UNIT_ID': 10953, 'HECTARES': 859.974, 'DESCRIPT1': '                                    ', 'TYPE_CODE': 'VA', 'NUMBER0': 1131, 'SHAPENUM': 354, 'RINGNUM': 1, 'DESCRIPT0': 'CIVIL VOTING AREA'}\n",
      "{'TYPE_COD0': '   ', 'CODE': 'E05000497', 'NAME': 'Bridge Ward', 'AREA': 0.0, 'POLYGON_ID': 50604, 'FILE_NAME': 'GREATER_LONDON_AUTHORITY', 'DESCRIPTIO': 'London Borough Ward', 'AREA_CODE': 'LBW', 'NUMBER': 286, 'UNIT_ID': 11304, 'HECTARES': 257.86, 'DESCRIPT1': '                                    ', 'TYPE_CODE': 'VA', 'NUMBER0': 1132, 'SHAPENUM': 355, 'RINGNUM': 1, 'DESCRIPT0': 'CIVIL VOTING AREA'}\n",
      "{'TYPE_COD0': '   ', 'CODE': 'E05000506', 'NAME': 'Hainault Ward', 'AREA': 0.0, 'POLYGON_ID': 51288, 'FILE_NAME': 'GREATER_LONDON_AUTHORITY', 'DESCRIPTIO': 'London Borough Ward', 'AREA_CODE': 'LBW', 'NUMBER': 288, 'UNIT_ID': 10942, 'HECTARES': 565.287, 'DESCRIPT1': '                                    ', 'TYPE_CODE': 'VA', 'NUMBER0': 1133, 'SHAPENUM': 356, 'RINGNUM': 1, 'DESCRIPT0': 'CIVIL VOTING AREA'}\n",
      "{'TYPE_COD0': '   ', 'CODE': 'E05000507', 'NAME': 'Loxford Ward', 'AREA': 2.3, 'POLYGON_ID': 51354, 'FILE_NAME': 'GREATER_LONDON_AUTHORITY', 'DESCRIPTIO': 'London Borough Ward', 'AREA_CODE': 'LBW', 'NUMBER': 623, 'UNIT_ID': 10920, 'HECTARES': 128.823, 'DESCRIPT1': '                                    ', 'TYPE_CODE': 'VA', 'NUMBER0': 1134, 'SHAPENUM': 357, 'RINGNUM': 1, 'DESCRIPT0': 'CIVIL VOTING AREA'}\n",
      "{'TYPE_COD0': '   ', 'CODE': 'E05000501', 'NAME': 'Clementswood Ward', 'AREA': 0.0, 'POLYGON_ID': 51303, 'FILE_NAME': 'GREATER_LONDON_AUTHORITY', 'DESCRIPTIO': 'London Borough Ward', 'AREA_CODE': 'LBW', 'NUMBER': 624, 'UNIT_ID': 10957, 'HECTARES': 127.215, 'DESCRIPT1': '                                    ', 'TYPE_CODE': 'VA', 'NUMBER0': 1135, 'SHAPENUM': 358, 'RINGNUM': 1, 'DESCRIPT0': 'CIVIL VOTING AREA'}\n",
      "{'TYPE_COD0': '   ', 'CODE': 'E05000508', 'NAME': 'Mayfield Ward', 'AREA': 0.0, 'POLYGON_ID': 51292, 'FILE_NAME': 'GREATER_LONDON_AUTHORITY', 'DESCRIPTIO': 'London Borough Ward', 'AREA_CODE': 'LBW', 'NUMBER': 625, 'UNIT_ID': 10946, 'HECTARES': 188.217, 'DESCRIPT1': '                                    ', 'TYPE_CODE': 'VA', 'NUMBER0': 1136, 'SHAPENUM': 359, 'RINGNUM': 1, 'DESCRIPT0': 'CIVIL VOTING AREA'}\n",
      "{'TYPE_COD0': '   ', 'CODE': 'E05000514', 'NAME': 'Valentines Ward', 'AREA': 0.0, 'POLYGON_ID': 51307, 'FILE_NAME': 'GREATER_LONDON_AUTHORITY', 'DESCRIPTIO': 'London Borough Ward', 'AREA_CODE': 'LBW', 'NUMBER': 626, 'UNIT_ID': 10961, 'HECTARES': 150.328, 'DESCRIPT1': '                                    ', 'TYPE_CODE': 'VA', 'NUMBER0': 1137, 'SHAPENUM': 360, 'RINGNUM': 1, 'DESCRIPT0': 'CIVIL VOTING AREA'}\n",
      "{'TYPE_COD0': '   ', 'CODE': 'E05000512', 'NAME': 'Seven Kings Ward', 'AREA': 0.0, 'POLYGON_ID': 51291, 'FILE_NAME': 'GREATER_LONDON_AUTHORITY', 'DESCRIPTIO': 'London Borough Ward', 'AREA_CODE': 'LBW', 'NUMBER': 627, 'UNIT_ID': 10945, 'HECTARES': 208.338, 'DESCRIPT1': '                                    ', 'TYPE_CODE': 'VA', 'NUMBER0': 1138, 'SHAPENUM': 361, 'RINGNUM': 1, 'DESCRIPT0': 'CIVIL VOTING AREA'}\n",
      "{'TYPE_COD0': '   ', 'CODE': 'E05000513', 'NAME': 'Snaresbrook Ward', 'AREA': 0.0, 'POLYGON_ID': 116756, 'FILE_NAME': 'GREATER_LONDON_AUTHORITY', 'DESCRIPTIO': 'London Borough Ward', 'AREA_CODE': 'LBW', 'NUMBER': 628, 'UNIT_ID': 10969, 'HECTARES': 198.516, 'DESCRIPT1': '                                    ', 'TYPE_CODE': 'VA', 'NUMBER0': 1139, 'SHAPENUM': 362, 'RINGNUM': 1, 'DESCRIPT0': 'CIVIL VOTING AREA'}\n",
      "{'TYPE_COD0': '   ', 'CODE': 'E05000500', 'NAME': 'Clayhall Ward', 'AREA': 0.0, 'POLYGON_ID': 51305, 'FILE_NAME': 'GREATER_LONDON_AUTHORITY', 'DESCRIPTIO': 'London Borough Ward', 'AREA_CODE': 'LBW', 'NUMBER': 629, 'UNIT_ID': 10959, 'HECTARES': 249.389, 'DESCRIPT1': '                                    ', 'TYPE_CODE': 'VA', 'NUMBER0': 1140, 'SHAPENUM': 363, 'RINGNUM': 1, 'DESCRIPT0': 'CIVIL VOTING AREA'}\n",
      "{'TYPE_COD0': '   ', 'CODE': 'E05000499', 'NAME': 'Church End Ward', 'AREA': 0.0, 'POLYGON_ID': 51312, 'FILE_NAME': 'GREATER_LONDON_AUTHORITY', 'DESCRIPTIO': 'London Borough Ward', 'AREA_CODE': 'LBW', 'NUMBER': 630, 'UNIT_ID': 10966, 'HECTARES': 148.496, 'DESCRIPT1': '                                    ', 'TYPE_CODE': 'VA', 'NUMBER0': 1141, 'SHAPENUM': 364, 'RINGNUM': 1, 'DESCRIPT0': 'CIVIL VOTING AREA'}\n",
      "{'TYPE_COD0': '   ', 'CODE': 'E05000496', 'NAME': 'Barkingside Ward', 'AREA': 0.0, 'POLYGON_ID': 51308, 'FILE_NAME': 'GREATER_LONDON_AUTHORITY', 'DESCRIPTIO': 'London Borough Ward', 'AREA_CODE': 'LBW', 'NUMBER': 631, 'UNIT_ID': 10962, 'HECTARES': 152.92, 'DESCRIPT1': '                                    ', 'TYPE_CODE': 'VA', 'NUMBER0': 1142, 'SHAPENUM': 365, 'RINGNUM': 1, 'DESCRIPT0': 'CIVIL VOTING AREA'}\n",
      "{'TYPE_COD0': '   ', 'CODE': 'E05000504', 'NAME': 'Fullwell Ward', 'AREA': 0.0, 'POLYGON_ID': 51309, 'FILE_NAME': 'GREATER_LONDON_AUTHORITY', 'DESCRIPTIO': 'London Borough Ward', 'AREA_CODE': 'LBW', 'NUMBER': 632, 'UNIT_ID': 10963, 'HECTARES': 218.787, 'DESCRIPT1': '                                    ', 'TYPE_CODE': 'VA', 'NUMBER0': 1143, 'SHAPENUM': 366, 'RINGNUM': 1, 'DESCRIPT0': 'CIVIL VOTING AREA'}\n",
      "{'TYPE_COD0': '   ', 'CODE': 'E05000498', 'NAME': 'Chadwell Ward', 'AREA': 0.0, 'POLYGON_ID': 51290, 'FILE_NAME': 'GREATER_LONDON_AUTHORITY', 'DESCRIPTIO': 'London Borough Ward', 'AREA_CODE': 'LBW', 'NUMBER': 640, 'UNIT_ID': 10944, 'HECTARES': 151.263, 'DESCRIPT1': '                                    ', 'TYPE_CODE': 'VA', 'NUMBER0': 1144, 'SHAPENUM': 367, 'RINGNUM': 1, 'DESCRIPT0': 'CIVIL VOTING AREA'}\n",
      "{'TYPE_COD0': '   ', 'CODE': 'E05000509', 'NAME': 'Monkhams Ward', 'AREA': 0.0, 'POLYGON_ID': 51310, 'FILE_NAME': 'GREATER_LONDON_AUTHORITY', 'DESCRIPTIO': 'London Borough Ward', 'AREA_CODE': 'LBW', 'NUMBER': 655, 'UNIT_ID': 10964, 'HECTARES': 307.676, 'DESCRIPT1': '                                    ', 'TYPE_CODE': 'VA', 'NUMBER0': 1145, 'SHAPENUM': 368, 'RINGNUM': 1, 'DESCRIPT0': 'CIVIL VOTING AREA'}\n",
      "{'TYPE_COD0': '   ', 'CODE': 'E05000559', 'NAME': 'Carshalton South and Clockhouse Ward', 'AREA': 0.0, 'POLYGON_ID': 116887, 'FILE_NAME': 'GREATER_LONDON_AUTHORITY', 'DESCRIPTIO': 'London Borough Ward', 'AREA_CODE': 'LBW', 'NUMBER': 53, 'UNIT_ID': 10875, 'HECTARES': 705.342, 'DESCRIPT1': '                                    ', 'TYPE_CODE': 'VA', 'NUMBER0': 1147, 'SHAPENUM': 369, 'RINGNUM': 1, 'DESCRIPT0': 'CIVIL VOTING AREA'}\n",
      "{'TYPE_COD0': '   ', 'CODE': 'E05000560', 'NAME': 'Cheam Ward', 'AREA': 0.0, 'POLYGON_ID': 116888, 'FILE_NAME': 'GREATER_LONDON_AUTHORITY', 'DESCRIPTIO': 'London Borough Ward', 'AREA_CODE': 'LBW', 'NUMBER': 105, 'UNIT_ID': 10883, 'HECTARES': 393.038, 'DESCRIPT1': '                                    ', 'TYPE_CODE': 'VA', 'NUMBER0': 1149, 'SHAPENUM': 370, 'RINGNUM': 1, 'DESCRIPT0': 'CIVIL VOTING AREA'}\n",
      "{'TYPE_COD0': '   ', 'CODE': 'E05000556', 'NAME': 'Beddington South Ward', 'AREA': 0.0, 'POLYGON_ID': 116898, 'FILE_NAME': 'GREATER_LONDON_AUTHORITY', 'DESCRIPTIO': 'London Borough Ward', 'AREA_CODE': 'LBW', 'NUMBER': 111, 'UNIT_ID': 10997, 'HECTARES': 306.104, 'DESCRIPT1': '                                    ', 'TYPE_CODE': 'VA', 'NUMBER0': 1150, 'SHAPENUM': 371, 'RINGNUM': 1, 'DESCRIPT0': 'CIVIL VOTING AREA'}\n",
      "{'TYPE_COD0': '   ', 'CODE': 'E05000562', 'NAME': 'St. Helier Ward', 'AREA': 0.0, 'POLYGON_ID': 116894, 'FILE_NAME': 'GREATER_LONDON_AUTHORITY', 'DESCRIPTIO': 'London Borough Ward', 'AREA_CODE': 'LBW', 'NUMBER': 113, 'UNIT_ID': 10996, 'HECTARES': 149.667, 'DESCRIPT1': '                                    ', 'TYPE_CODE': 'VA', 'NUMBER0': 1151, 'SHAPENUM': 372, 'RINGNUM': 1, 'DESCRIPT0': 'CIVIL VOTING AREA'}\n",
      "{'TYPE_COD0': '   ', 'CODE': 'E05000571', 'NAME': 'Wandle Valley Ward', 'AREA': 0.0, 'POLYGON_ID': 116897, 'FILE_NAME': 'GREATER_LONDON_AUTHORITY', 'DESCRIPTIO': 'London Borough Ward', 'AREA_CODE': 'LBW', 'NUMBER': 114, 'UNIT_ID': 11024, 'HECTARES': 205.369, 'DESCRIPT1': '                                    ', 'TYPE_CODE': 'VA', 'NUMBER0': 1152, 'SHAPENUM': 373, 'RINGNUM': 1, 'DESCRIPT0': 'CIVIL VOTING AREA'}\n",
      "{'TYPE_COD0': '   ', 'CODE': 'E05000557', 'NAME': 'Belmont Ward', 'AREA': 0.0, 'POLYGON_ID': 116890, 'FILE_NAME': 'GREATER_LONDON_AUTHORITY', 'DESCRIPTIO': 'London Borough Ward', 'AREA_CODE': 'LBW', 'NUMBER': 292, 'UNIT_ID': 10881, 'HECTARES': 233.332, 'DESCRIPT1': '                                    ', 'TYPE_CODE': 'VA', 'NUMBER0': 1153, 'SHAPENUM': 374, 'RINGNUM': 1, 'DESCRIPT0': 'CIVIL VOTING AREA'}\n",
      "{'TYPE_COD0': '   ', 'CODE': 'E05000561', 'NAME': 'Nonsuch Ward', 'AREA': 0.0, 'POLYGON_ID': 116889, 'FILE_NAME': 'GREATER_LONDON_AUTHORITY', 'DESCRIPTIO': 'London Borough Ward', 'AREA_CODE': 'LBW', 'NUMBER': 311, 'UNIT_ID': 10874, 'HECTARES': 190.702, 'DESCRIPT1': '                                    ', 'TYPE_CODE': 'VA', 'NUMBER0': 1154, 'SHAPENUM': 375, 'RINGNUM': 1, 'DESCRIPT0': 'CIVIL VOTING AREA'}\n",
      "{'TYPE_COD0': '   ', 'CODE': 'E05000572', 'NAME': 'Worcester Park Ward', 'AREA': 0.0, 'POLYGON_ID': 50827, 'FILE_NAME': 'GREATER_LONDON_AUTHORITY', 'DESCRIPTIO': 'London Borough Ward', 'AREA_CODE': 'LBW', 'NUMBER': 312, 'UNIT_ID': 10871, 'HECTARES': 195.703, 'DESCRIPT1': '                                    ', 'TYPE_CODE': 'VA', 'NUMBER0': 1155, 'SHAPENUM': 376, 'RINGNUM': 1, 'DESCRIPT0': 'CIVIL VOTING AREA'}\n",
      "{'TYPE_COD0': '   ', 'CODE': 'E05000566', 'NAME': 'Sutton South Ward', 'AREA': 0.0, 'POLYGON_ID': 116900, 'FILE_NAME': 'GREATER_LONDON_AUTHORITY', 'DESCRIPTIO': 'London Borough Ward', 'AREA_CODE': 'LBW', 'NUMBER': 323, 'UNIT_ID': 41824, 'HECTARES': 127.159, 'DESCRIPT1': '                                    ', 'TYPE_CODE': 'VA', 'NUMBER0': 1156, 'SHAPENUM': 377, 'RINGNUM': 1, 'DESCRIPT0': 'CIVIL VOTING AREA'}\n",
      "{'TYPE_COD0': '   ', 'CODE': 'E05000567', 'NAME': 'Sutton West Ward', 'AREA': 0.0, 'POLYGON_ID': 116892, 'FILE_NAME': 'GREATER_LONDON_AUTHORITY', 'DESCRIPTIO': 'London Borough Ward', 'AREA_CODE': 'LBW', 'NUMBER': 324, 'UNIT_ID': 10880, 'HECTARES': 178.215, 'DESCRIPT1': '                                    ', 'TYPE_CODE': 'VA', 'NUMBER0': 1157, 'SHAPENUM': 378, 'RINGNUM': 1, 'DESCRIPT0': 'CIVIL VOTING AREA'}\n",
      "{'TYPE_COD0': '   ', 'CODE': 'E05000564', 'NAME': 'Sutton Central Ward', 'AREA': 0.0, 'POLYGON_ID': 116901, 'FILE_NAME': 'GREATER_LONDON_AUTHORITY', 'DESCRIPTIO': 'London Borough Ward', 'AREA_CODE': 'LBW', 'NUMBER': 325, 'UNIT_ID': 10882, 'HECTARES': 131.048, 'DESCRIPT1': '                                    ', 'TYPE_CODE': 'VA', 'NUMBER0': 1158, 'SHAPENUM': 379, 'RINGNUM': 1, 'DESCRIPT0': 'CIVIL VOTING AREA'}\n",
      "{'TYPE_COD0': '   ', 'CODE': 'E05000558', 'NAME': 'Carshalton Central Ward', 'AREA': 0.0, 'POLYGON_ID': 116895, 'FILE_NAME': 'GREATER_LONDON_AUTHORITY', 'DESCRIPTIO': 'London Borough Ward', 'AREA_CODE': 'LBW', 'NUMBER': 326, 'UNIT_ID': 10877, 'HECTARES': 202.382, 'DESCRIPT1': '                                    ', 'TYPE_CODE': 'VA', 'NUMBER0': 1159, 'SHAPENUM': 380, 'RINGNUM': 1, 'DESCRIPT0': 'CIVIL VOTING AREA'}\n",
      "{'TYPE_COD0': '   ', 'CODE': 'E05000565', 'NAME': 'Sutton North Ward', 'AREA': 0.0, 'POLYGON_ID': 116893, 'FILE_NAME': 'GREATER_LONDON_AUTHORITY', 'DESCRIPTIO': 'London Borough Ward', 'AREA_CODE': 'LBW', 'NUMBER': 327, 'UNIT_ID': 10879, 'HECTARES': 187.372, 'DESCRIPT1': '                                    ', 'TYPE_CODE': 'VA', 'NUMBER0': 1160, 'SHAPENUM': 381, 'RINGNUM': 1, 'DESCRIPT0': 'CIVIL VOTING AREA'}\n",
      "{'TYPE_COD0': '   ', 'CODE': 'E05000563', 'NAME': 'Stonecot Ward', 'AREA': 0.0, 'POLYGON_ID': 116899, 'FILE_NAME': 'GREATER_LONDON_AUTHORITY', 'DESCRIPTIO': 'London Borough Ward', 'AREA_CODE': 'LBW', 'NUMBER': 328, 'UNIT_ID': 10885, 'HECTARES': 198.358, 'DESCRIPT1': '                                    ', 'TYPE_CODE': 'VA', 'NUMBER0': 1161, 'SHAPENUM': 382, 'RINGNUM': 1, 'DESCRIPT0': 'CIVIL VOTING AREA'}\n",
      "{'TYPE_COD0': '   ', 'CODE': 'E05000568', 'NAME': 'The Wrythe Ward', 'AREA': 0.0, 'POLYGON_ID': 119327, 'FILE_NAME': 'GREATER_LONDON_AUTHORITY', 'DESCRIPTIO': 'London Borough Ward', 'AREA_CODE': 'LBW', 'NUMBER': 329, 'UNIT_ID': 10890, 'HECTARES': 148.361, 'DESCRIPT1': '                                    ', 'TYPE_CODE': 'VA', 'NUMBER0': 1162, 'SHAPENUM': 383, 'RINGNUM': 1, 'DESCRIPT0': 'CIVIL VOTING AREA'}\n",
      "{'TYPE_COD0': '   ', 'CODE': 'E05000570', 'NAME': 'Wallington South Ward', 'AREA': 0.0, 'POLYGON_ID': 116891, 'FILE_NAME': 'GREATER_LONDON_AUTHORITY', 'DESCRIPTIO': 'London Borough Ward', 'AREA_CODE': 'LBW', 'NUMBER': 330, 'UNIT_ID': 11025, 'HECTARES': 171.798, 'DESCRIPT1': '                                    ', 'TYPE_CODE': 'VA', 'NUMBER0': 1163, 'SHAPENUM': 384, 'RINGNUM': 1, 'DESCRIPT0': 'CIVIL VOTING AREA'}\n",
      "{'TYPE_COD0': '   ', 'CODE': 'E05000569', 'NAME': 'Wallington North Ward', 'AREA': 0.0, 'POLYGON_ID': 51325, 'FILE_NAME': 'GREATER_LONDON_AUTHORITY', 'DESCRIPTIO': 'London Borough Ward', 'AREA_CODE': 'LBW', 'NUMBER': 331, 'UNIT_ID': 10891, 'HECTARES': 161.927, 'DESCRIPT1': '                                    ', 'TYPE_CODE': 'VA', 'NUMBER0': 1164, 'SHAPENUM': 385, 'RINGNUM': 1, 'DESCRIPT0': 'CIVIL VOTING AREA'}\n",
      "{'TYPE_COD0': '   ', 'CODE': 'E05000555', 'NAME': 'Beddington North Ward', 'AREA': 0.0, 'POLYGON_ID': 51326, 'FILE_NAME': 'GREATER_LONDON_AUTHORITY', 'DESCRIPTIO': 'London Borough Ward', 'AREA_CODE': 'LBW', 'NUMBER': 332, 'UNIT_ID': 10892, 'HECTARES': 498.821, 'DESCRIPT1': '                                    ', 'TYPE_CODE': 'VA', 'NUMBER0': 1165, 'SHAPENUM': 386, 'RINGNUM': 1, 'DESCRIPT0': 'CIVIL VOTING AREA'}\n",
      "{'TYPE_COD0': '   ', 'CODE': 'E05000520', 'NAME': 'Hampton Ward', 'AREA': 0.0, 'POLYGON_ID': 117445, 'FILE_NAME': 'GREATER_LONDON_AUTHORITY', 'DESCRIPTIO': 'London Borough Ward', 'AREA_CODE': 'LBW', 'NUMBER': 97, 'UNIT_ID': 11471, 'HECTARES': 687.724, 'DESCRIPT1': '                                    ', 'TYPE_CODE': 'VA', 'NUMBER0': 1168, 'SHAPENUM': 387, 'RINGNUM': 1, 'DESCRIPT0': 'CIVIL VOTING AREA'}\n",
      "{'TYPE_COD0': '   ', 'CODE': 'E05000530', 'NAME': 'Teddington Ward', 'AREA': 2.823, 'POLYGON_ID': 117446, 'FILE_NAME': 'GREATER_LONDON_AUTHORITY', 'DESCRIPTIO': 'London Borough Ward', 'AREA_CODE': 'LBW', 'NUMBER': 100, 'UNIT_ID': 11470, 'HECTARES': 429.55, 'DESCRIPT1': '                                    ', 'TYPE_CODE': 'VA', 'NUMBER0': 1169, 'SHAPENUM': 388, 'RINGNUM': 1, 'DESCRIPT0': 'CIVIL VOTING AREA'}\n",
      "{'TYPE_COD0': '   ', 'CODE': 'E05000522', 'NAME': 'Hampton Wick Ward', 'AREA': 0.444, 'POLYGON_ID': 50529, 'FILE_NAME': 'GREATER_LONDON_AUTHORITY', 'DESCRIPTIO': 'London Borough Ward', 'AREA_CODE': 'LBW', 'NUMBER': 101, 'UNIT_ID': 11405, 'HECTARES': 274.552, 'DESCRIPT1': '                                    ', 'TYPE_CODE': 'VA', 'NUMBER0': 1170, 'SHAPENUM': 389, 'RINGNUM': 1, 'DESCRIPT0': 'CIVIL VOTING AREA'}\n",
      "{'TYPE_COD0': '   ', 'CODE': 'E05000523', 'NAME': 'Heathfield Ward', 'AREA': 0.0, 'POLYGON_ID': 51143, 'FILE_NAME': 'GREATER_LONDON_AUTHORITY', 'DESCRIPTIO': 'London Borough Ward', 'AREA_CODE': 'LBW', 'NUMBER': 103, 'UNIT_ID': 11494, 'HECTARES': 191.058, 'DESCRIPT1': '                                    ', 'TYPE_CODE': 'VA', 'NUMBER0': 1171, 'SHAPENUM': 390, 'RINGNUM': 1, 'DESCRIPT0': 'CIVIL VOTING AREA'}\n",
      "{'TYPE_COD0': '   ', 'CODE': 'E05000531', 'NAME': 'Twickenham Riverside Ward', 'AREA': 21.262, 'POLYGON_ID': 117431, 'FILE_NAME': 'GREATER_LONDON_AUTHORITY', 'DESCRIPTIO': 'London Borough Ward', 'AREA_CODE': 'LBW', 'NUMBER': 104, 'UNIT_ID': 11404, 'HECTARES': 196.431, 'DESCRIPT1': '                                    ', 'TYPE_CODE': 'VA', 'NUMBER0': 1172, 'SHAPENUM': 391, 'RINGNUM': 1, 'DESCRIPT0': 'CIVIL VOTING AREA'}\n",
      "{'TYPE_COD0': '   ', 'CODE': 'E05000519', 'NAME': 'Ham, Petersham and Richmond Riverside Ward', 'AREA': 18.15, 'POLYGON_ID': 51116, 'FILE_NAME': 'GREATER_LONDON_AUTHORITY', 'DESCRIPTIO': 'London Borough Ward', 'AREA_CODE': 'LBW', 'NUMBER': 117, 'UNIT_ID': 11467, 'HECTARES': 943.267, 'DESCRIPT1': '                                    ', 'TYPE_CODE': 'VA', 'NUMBER0': 1173, 'SHAPENUM': 392, 'RINGNUM': 1, 'DESCRIPT0': 'CIVIL VOTING AREA'}\n",
      "{'TYPE_COD0': '   ', 'CODE': 'E05000526', 'NAME': 'North Richmond Ward', 'AREA': 8.585, 'POLYGON_ID': 117432, 'FILE_NAME': 'GREATER_LONDON_AUTHORITY', 'DESCRIPTIO': 'London Borough Ward', 'AREA_CODE': 'LBW', 'NUMBER': 121, 'UNIT_ID': 11402, 'HECTARES': 280.147, 'DESCRIPT1': '                                    ', 'TYPE_CODE': 'VA', 'NUMBER0': 1174, 'SHAPENUM': 393, 'RINGNUM': 1, 'DESCRIPT0': 'CIVIL VOTING AREA'}\n",
      "{'TYPE_COD0': '   ', 'CODE': 'E05000524', 'NAME': 'Kew Ward', 'AREA': 27.583, 'POLYGON_ID': 51115, 'FILE_NAME': 'GREATER_LONDON_AUTHORITY', 'DESCRIPTIO': 'London Borough Ward', 'AREA_CODE': 'LBW', 'NUMBER': 122, 'UNIT_ID': 11466, 'HECTARES': 357.625, 'DESCRIPT1': '                                    ', 'TYPE_CODE': 'VA', 'NUMBER0': 1175, 'SHAPENUM': 394, 'RINGNUM': 1, 'DESCRIPT0': 'CIVIL VOTING AREA'}\n",
      "{'TYPE_COD0': '   ', 'CODE': 'E05000517', 'NAME': 'East Sheen Ward', 'AREA': 0.0, 'POLYGON_ID': 117429, 'FILE_NAME': 'GREATER_LONDON_AUTHORITY', 'DESCRIPTIO': 'London Borough Ward', 'AREA_CODE': 'LBW', 'NUMBER': 123, 'UNIT_ID': 11426, 'HECTARES': 583.319, 'DESCRIPT1': '                                    ', 'TYPE_CODE': 'VA', 'NUMBER0': 1176, 'SHAPENUM': 395, 'RINGNUM': 1, 'DESCRIPT0': 'CIVIL VOTING AREA'}\n",
      "{'TYPE_COD0': '   ', 'CODE': 'E05000525', 'NAME': 'Mortlake and Barnes Common Ward', 'AREA': 9.313, 'POLYGON_ID': 50461, 'FILE_NAME': 'GREATER_LONDON_AUTHORITY', 'DESCRIPTIO': 'London Borough Ward', 'AREA_CODE': 'LBW', 'NUMBER': 125, 'UNIT_ID': 11425, 'HECTARES': 193.608, 'DESCRIPT1': '                                    ', 'TYPE_CODE': 'VA', 'NUMBER0': 1177, 'SHAPENUM': 396, 'RINGNUM': 1, 'DESCRIPT0': 'CIVIL VOTING AREA'}\n",
      "{'TYPE_COD0': '   ', 'CODE': 'E05000521', 'NAME': 'Hampton North Ward', 'AREA': 0.0, 'POLYGON_ID': 117449, 'FILE_NAME': 'GREATER_LONDON_AUTHORITY', 'DESCRIPTIO': 'London Borough Ward', 'AREA_CODE': 'LBW', 'NUMBER': 294, 'UNIT_ID': 11472, 'HECTARES': 194.98, 'DESCRIPT1': '                                    ', 'TYPE_CODE': 'VA', 'NUMBER0': 1178, 'SHAPENUM': 397, 'RINGNUM': 1, 'DESCRIPT0': 'CIVIL VOTING AREA'}\n",
      "{'TYPE_COD0': '   ', 'CODE': 'E05000518', 'NAME': 'Fulwell and Hampton Hill Ward', 'AREA': 0.0, 'POLYGON_ID': 51128, 'FILE_NAME': 'GREATER_LONDON_AUTHORITY', 'DESCRIPTIO': 'London Borough Ward', 'AREA_CODE': 'LBW', 'NUMBER': 296, 'UNIT_ID': 11479, 'HECTARES': 191.772, 'DESCRIPT1': '                                    ', 'TYPE_CODE': 'VA', 'NUMBER0': 1179, 'SHAPENUM': 398, 'RINGNUM': 1, 'DESCRIPT0': 'CIVIL VOTING AREA'}\n",
      "{'TYPE_COD0': '   ', 'CODE': 'E05000532', 'NAME': 'West Twickenham Ward', 'AREA': 0.0, 'POLYGON_ID': 117447, 'FILE_NAME': 'GREATER_LONDON_AUTHORITY', 'DESCRIPTIO': 'London Borough Ward', 'AREA_CODE': 'LBW', 'NUMBER': 297, 'UNIT_ID': 11477, 'HECTARES': 245.856, 'DESCRIPT1': '                                    ', 'TYPE_CODE': 'VA', 'NUMBER0': 1180, 'SHAPENUM': 399, 'RINGNUM': 1, 'DESCRIPT0': 'CIVIL VOTING AREA'}\n",
      "{'TYPE_COD0': '   ', 'CODE': 'E05000533', 'NAME': 'Whitton Ward', 'AREA': 0.0, 'POLYGON_ID': 51142, 'FILE_NAME': 'GREATER_LONDON_AUTHORITY', 'DESCRIPTIO': 'London Borough Ward', 'AREA_CODE': 'LBW', 'NUMBER': 298, 'UNIT_ID': 11493, 'HECTARES': 162.597, 'DESCRIPT1': '                                    ', 'TYPE_CODE': 'VA', 'NUMBER0': 1181, 'SHAPENUM': 400, 'RINGNUM': 1, 'DESCRIPT0': 'CIVIL VOTING AREA'}\n",
      "{'TYPE_COD0': '   ', 'CODE': 'E05000529', 'NAME': 'South Twickenham Ward', 'AREA': 3.688, 'POLYGON_ID': 117448, 'FILE_NAME': 'GREATER_LONDON_AUTHORITY', 'DESCRIPTIO': 'London Borough Ward', 'AREA_CODE': 'LBW', 'NUMBER': 299, 'UNIT_ID': 11478, 'HECTARES': 172.727, 'DESCRIPT1': '                                    ', 'TYPE_CODE': 'VA', 'NUMBER0': 1182, 'SHAPENUM': 401, 'RINGNUM': 1, 'DESCRIPT0': 'CIVIL VOTING AREA'}\n",
      "{'TYPE_COD0': '   ', 'CODE': 'E05000527', 'NAME': 'St. Margarets and North Twickenham Ward', 'AREA': 4.026, 'POLYGON_ID': 117430, 'FILE_NAME': 'GREATER_LONDON_AUTHORITY', 'DESCRIPTIO': 'London Borough Ward', 'AREA_CODE': 'LBW', 'NUMBER': 305, 'UNIT_ID': 11495, 'HECTARES': 200.763, 'DESCRIPT1': '                                    ', 'TYPE_CODE': 'VA', 'NUMBER0': 1183, 'SHAPENUM': 402, 'RINGNUM': 1, 'DESCRIPT0': 'CIVIL VOTING AREA'}\n",
      "{'TYPE_COD0': '   ', 'CODE': 'E05000528', 'NAME': 'South Richmond Ward', 'AREA': 3.142, 'POLYGON_ID': 50527, 'FILE_NAME': 'GREATER_LONDON_AUTHORITY', 'DESCRIPTIO': 'London Borough Ward', 'AREA_CODE': 'LBW', 'NUMBER': 348, 'UNIT_ID': 11403, 'HECTARES': 269.139, 'DESCRIPT1': '                                    ', 'TYPE_CODE': 'VA', 'NUMBER0': 1184, 'SHAPENUM': 403, 'RINGNUM': 1, 'DESCRIPT0': 'CIVIL VOTING AREA'}\n",
      "{'TYPE_COD0': '   ', 'CODE': 'E05000516', 'NAME': 'Barnes Ward', 'AREA': 36.426, 'POLYGON_ID': 50474, 'FILE_NAME': 'GREATER_LONDON_AUTHORITY', 'DESCRIPTIO': 'London Borough Ward', 'AREA_CODE': 'LBW', 'NUMBER': 352, 'UNIT_ID': 11437, 'HECTARES': 300.994, 'DESCRIPT1': '                                    ', 'TYPE_CODE': 'VA', 'NUMBER0': 1185, 'SHAPENUM': 404, 'RINGNUM': 1, 'DESCRIPT0': 'CIVIL VOTING AREA'}\n",
      "{'TYPE_COD0': '   ', 'CODE': 'E05000456', 'NAME': 'Cannon Hill Ward', 'AREA': 0.0, 'POLYGON_ID': 50826, 'FILE_NAME': 'GREATER_LONDON_AUTHORITY', 'DESCRIPTIO': 'London Borough Ward', 'AREA_CODE': 'LBW', 'NUMBER': 110, 'UNIT_ID': 10870, 'HECTARES': 222.344, 'DESCRIPT1': '                                    ', 'TYPE_CODE': 'VA', 'NUMBER0': 1188, 'SHAPENUM': 405, 'RINGNUM': 1, 'DESCRIPT0': 'CIVIL VOTING AREA'}\n",
      "{'TYPE_COD0': '   ', 'CODE': 'E05000458', 'NAME': 'Cricket Green Ward', 'AREA': 0.0, 'POLYGON_ID': 50783, 'FILE_NAME': 'GREATER_LONDON_AUTHORITY', 'DESCRIPTIO': 'London Borough Ward', 'AREA_CODE': 'LBW', 'NUMBER': 115, 'UNIT_ID': 11135, 'HECTARES': 299.553, 'DESCRIPT1': '                                    ', 'TYPE_CODE': 'VA', 'NUMBER0': 1189, 'SHAPENUM': 406, 'RINGNUM': 1, 'DESCRIPT0': 'CIVIL VOTING AREA'}\n",
      "{'TYPE_COD0': '   ', 'CODE': 'E05000472', 'NAME': 'Village Ward', 'AREA': 0.0, 'POLYGON_ID': 50778, 'FILE_NAME': 'GREATER_LONDON_AUTHORITY', 'DESCRIPTIO': 'London Borough Ward', 'AREA_CODE': 'LBW', 'NUMBER': 119, 'UNIT_ID': 11130, 'HECTARES': 621.285, 'DESCRIPT1': '                                    ', 'TYPE_CODE': 'VA', 'NUMBER0': 1190, 'SHAPENUM': 407, 'RINGNUM': 1, 'DESCRIPT0': 'CIVIL VOTING AREA'}\n",
      "{'TYPE_COD0': '   ', 'CODE': 'E05000474', 'NAME': 'Wimbledon Park Ward', 'AREA': 0.0, 'POLYGON_ID': 51250, 'FILE_NAME': 'GREATER_LONDON_AUTHORITY', 'DESCRIPTIO': 'London Borough Ward', 'AREA_CODE': 'LBW', 'NUMBER': 126, 'UNIT_ID': 10992, 'HECTARES': 231.007, 'DESCRIPT1': '                                    ', 'TYPE_CODE': 'VA', 'NUMBER0': 1191, 'SHAPENUM': 408, 'RINGNUM': 1, 'DESCRIPT0': 'CIVIL VOTING AREA'}\n",
      "{'TYPE_COD0': '   ', 'CODE': 'E05000465', 'NAME': 'Lower Morden Ward', 'AREA': 0.0, 'POLYGON_ID': 50534, 'FILE_NAME': 'GREATER_LONDON_AUTHORITY', 'DESCRIPTIO': 'London Borough Ward', 'AREA_CODE': 'LBW', 'NUMBER': 319, 'UNIT_ID': 11410, 'HECTARES': 180.378, 'DESCRIPT1': '                                    ', 'TYPE_CODE': 'VA', 'NUMBER0': 1192, 'SHAPENUM': 409, 'RINGNUM': 1, 'DESCRIPT0': 'CIVIL VOTING AREA'}\n",
      "{'TYPE_COD0': '   ', 'CODE': 'E05000473', 'NAME': 'West Barnes Ward', 'AREA': 0.0, 'POLYGON_ID': 50825, 'FILE_NAME': 'GREATER_LONDON_AUTHORITY', 'DESCRIPTIO': 'London Borough Ward', 'AREA_CODE': 'LBW', 'NUMBER': 320, 'UNIT_ID': 10869, 'HECTARES': 195.164, 'DESCRIPT1': '                                    ', 'TYPE_CODE': 'VA', 'NUMBER0': 1193, 'SHAPENUM': 410, 'RINGNUM': 1, 'DESCRIPT0': 'CIVIL VOTING AREA'}\n",
      "{'TYPE_COD0': '   ', 'CODE': 'E05000469', 'NAME': 'Raynes Park Ward', 'AREA': 0.0, 'POLYGON_ID': 50822, 'FILE_NAME': 'GREATER_LONDON_AUTHORITY', 'DESCRIPTIO': 'London Borough Ward', 'AREA_CODE': 'LBW', 'NUMBER': 321, 'UNIT_ID': 10866, 'HECTARES': 185.651, 'DESCRIPT1': '                                    ', 'TYPE_CODE': 'VA', 'NUMBER0': 1194, 'SHAPENUM': 411, 'RINGNUM': 1, 'DESCRIPT0': 'CIVIL VOTING AREA'}\n",
      "{'TYPE_COD0': '   ', 'CODE': 'E05000459', 'NAME': 'Dundonald Ward', 'AREA': 0.0, 'POLYGON_ID': 50823, 'FILE_NAME': 'GREATER_LONDON_AUTHORITY', 'DESCRIPTIO': 'London Borough Ward', 'AREA_CODE': 'LBW', 'NUMBER': 322, 'UNIT_ID': 10867, 'HECTARES': 115.197, 'DESCRIPT1': '                                    ', 'TYPE_CODE': 'VA', 'NUMBER0': 1195, 'SHAPENUM': 412, 'RINGNUM': 1, 'DESCRIPT0': 'CIVIL VOTING AREA'}\n",
      "{'TYPE_COD0': '   ', 'CODE': 'E05000470', 'NAME': 'St. Helier Ward', 'AREA': 0.0, 'POLYGON_ID': 50842, 'FILE_NAME': 'GREATER_LONDON_AUTHORITY', 'DESCRIPTIO': 'London Borough Ward', 'AREA_CODE': 'LBW', 'NUMBER': 334, 'UNIT_ID': 10886, 'HECTARES': 184.527, 'DESCRIPT1': '                                    ', 'TYPE_CODE': 'VA', 'NUMBER0': 1196, 'SHAPENUM': 413, 'RINGNUM': 1, 'DESCRIPT0': 'CIVIL VOTING AREA'}\n",
      "{'TYPE_COD0': '   ', 'CODE': 'E05000468', 'NAME': 'Ravensbury Ward', 'AREA': 0.0, 'POLYGON_ID': 50780, 'FILE_NAME': 'GREATER_LONDON_AUTHORITY', 'DESCRIPTIO': 'London Borough Ward', 'AREA_CODE': 'LBW', 'NUMBER': 335, 'UNIT_ID': 11132, 'HECTARES': 183.954, 'DESCRIPT1': '                                    ', 'TYPE_CODE': 'VA', 'NUMBER0': 1197, 'SHAPENUM': 414, 'RINGNUM': 1, 'DESCRIPT0': 'CIVIL VOTING AREA'}\n",
      "{'TYPE_COD0': '   ', 'CODE': 'E05000466', 'NAME': 'Merton Park Ward', 'AREA': 0.0, 'POLYGON_ID': 51252, 'FILE_NAME': 'GREATER_LONDON_AUTHORITY', 'DESCRIPTIO': 'London Borough Ward', 'AREA_CODE': 'LBW', 'NUMBER': 336, 'UNIT_ID': 10994, 'HECTARES': 181.418, 'DESCRIPT1': '                                    ', 'TYPE_CODE': 'VA', 'NUMBER0': 1198, 'SHAPENUM': 415, 'RINGNUM': 1, 'DESCRIPT0': 'CIVIL VOTING AREA'}\n",
      "{'TYPE_COD0': '   ', 'CODE': 'E05000455', 'NAME': 'Abbey Ward', 'AREA': 0.0, 'POLYGON_ID': 50779, 'FILE_NAME': 'GREATER_LONDON_AUTHORITY', 'DESCRIPTIO': 'London Borough Ward', 'AREA_CODE': 'LBW', 'NUMBER': 337, 'UNIT_ID': 11131, 'HECTARES': 139.326, 'DESCRIPT1': '                                    ', 'TYPE_CODE': 'VA', 'NUMBER0': 1199, 'SHAPENUM': 416, 'RINGNUM': 1, 'DESCRIPT0': 'CIVIL VOTING AREA'}\n",
      "{'TYPE_COD0': '   ', 'CODE': 'E05000460', 'NAME': \"Figge's Marsh Ward\", 'AREA': 0.0, 'POLYGON_ID': 117356, 'FILE_NAME': 'GREATER_LONDON_AUTHORITY', 'DESCRIPTIO': 'London Borough Ward', 'AREA_CODE': 'LBW', 'NUMBER': 338, 'UNIT_ID': 11134, 'HECTARES': 114.19, 'DESCRIPT1': '                                    ', 'TYPE_CODE': 'VA', 'NUMBER0': 1200, 'SHAPENUM': 417, 'RINGNUM': 1, 'DESCRIPT0': 'CIVIL VOTING AREA'}\n",
      "{'TYPE_COD0': '   ', 'CODE': 'E05000467', 'NAME': 'Pollards Hill Ward', 'AREA': 0.0, 'POLYGON_ID': 51193, 'FILE_NAME': 'GREATER_LONDON_AUTHORITY', 'DESCRIPTIO': 'London Borough Ward', 'AREA_CODE': 'LBW', 'NUMBER': 339, 'UNIT_ID': 11023, 'HECTARES': 216.326, 'DESCRIPT1': '                                    ', 'TYPE_CODE': 'VA', 'NUMBER0': 1201, 'SHAPENUM': 418, 'RINGNUM': 1, 'DESCRIPT0': 'CIVIL VOTING AREA'}\n",
      "{'TYPE_COD0': '   ', 'CODE': 'E05000461', 'NAME': 'Graveney Ward', 'AREA': 0.0, 'POLYGON_ID': 122408, 'FILE_NAME': 'GREATER_LONDON_AUTHORITY', 'DESCRIPTIO': 'London Borough Ward', 'AREA_CODE': 'LBW', 'NUMBER': 342, 'UNIT_ID': 11154, 'HECTARES': 88.249, 'DESCRIPT1': '                                    ', 'TYPE_CODE': 'VA', 'NUMBER0': 1202, 'SHAPENUM': 419, 'RINGNUM': 1, 'DESCRIPT0': 'CIVIL VOTING AREA'}\n",
      "{'TYPE_COD0': '   ', 'CODE': 'E05000464', 'NAME': 'Longthornton Ward', 'AREA': 0.0, 'POLYGON_ID': 50785, 'FILE_NAME': 'GREATER_LONDON_AUTHORITY', 'DESCRIPTIO': 'London Borough Ward', 'AREA_CODE': 'LBW', 'NUMBER': 343, 'UNIT_ID': 11137, 'HECTARES': 148.343, 'DESCRIPT1': '                                    ', 'TYPE_CODE': 'VA', 'NUMBER0': 1203, 'SHAPENUM': 420, 'RINGNUM': 1, 'DESCRIPT0': 'CIVIL VOTING AREA'}\n",
      "{'TYPE_COD0': '   ', 'CODE': 'E05000462', 'NAME': 'Hillside Ward', 'AREA': 0.0, 'POLYGON_ID': 50824, 'FILE_NAME': 'GREATER_LONDON_AUTHORITY', 'DESCRIPTIO': 'London Borough Ward', 'AREA_CODE': 'LBW', 'NUMBER': 346, 'UNIT_ID': 10868, 'HECTARES': 118.898, 'DESCRIPT1': '                                    ', 'TYPE_CODE': 'VA', 'NUMBER0': 1204, 'SHAPENUM': 421, 'RINGNUM': 1, 'DESCRIPT0': 'CIVIL VOTING AREA'}\n",
      "{'TYPE_COD0': '   ', 'CODE': 'E05000471', 'NAME': 'Trinity Ward', 'AREA': 0.0, 'POLYGON_ID': 51251, 'FILE_NAME': 'GREATER_LONDON_AUTHORITY', 'DESCRIPTIO': 'London Borough Ward', 'AREA_CODE': 'LBW', 'NUMBER': 355, 'UNIT_ID': 10993, 'HECTARES': 107.601, 'DESCRIPT1': '                                    ', 'TYPE_CODE': 'VA', 'NUMBER0': 1205, 'SHAPENUM': 422, 'RINGNUM': 1, 'DESCRIPT0': 'CIVIL VOTING AREA'}\n",
      "{'TYPE_COD0': '   ', 'CODE': 'E05000463', 'NAME': 'Lavender Fields Ward', 'AREA': 0.0, 'POLYGON_ID': 50781, 'FILE_NAME': 'GREATER_LONDON_AUTHORITY', 'DESCRIPTIO': 'London Borough Ward', 'AREA_CODE': 'LBW', 'NUMBER': 656, 'UNIT_ID': 11133, 'HECTARES': 117.965, 'DESCRIPT1': '                                    ', 'TYPE_CODE': 'VA', 'NUMBER0': 1206, 'SHAPENUM': 423, 'RINGNUM': 1, 'DESCRIPT0': 'CIVIL VOTING AREA'}\n",
      "{'TYPE_COD0': '   ', 'CODE': 'E05000457', 'NAME': 'Colliers Wood Ward', 'AREA': 0.0, 'POLYGON_ID': 122406, 'FILE_NAME': 'GREATER_LONDON_AUTHORITY', 'DESCRIPTIO': 'London Borough Ward', 'AREA_CODE': 'LBW', 'NUMBER': 657, 'UNIT_ID': 11156, 'HECTARES': 111.09, 'DESCRIPT1': '                                    ', 'TYPE_CODE': 'VA', 'NUMBER0': 1207, 'SHAPENUM': 424, 'RINGNUM': 1, 'DESCRIPT0': 'CIVIL VOTING AREA'}\n",
      "{'TYPE_COD0': '   ', 'CODE': 'E05000621', 'NAME': 'Roehampton and Putney Heath Ward', 'AREA': 0.0, 'POLYGON_ID': 117302, 'FILE_NAME': 'GREATER_LONDON_AUTHORITY', 'DESCRIPTIO': 'London Borough Ward', 'AREA_CODE': 'LBW', 'NUMBER': 124, 'UNIT_ID': 11429, 'HECTARES': 442.415, 'DESCRIPT1': '                                    ', 'TYPE_CODE': 'VA', 'NUMBER0': 1211, 'SHAPENUM': 425, 'RINGNUM': 1, 'DESCRIPT0': 'CIVIL VOTING AREA'}\n",
      "{'TYPE_COD0': '   ', 'CODE': 'E05000625', 'NAME': 'Thamesfield Ward', 'AREA': 26.211, 'POLYGON_ID': 51249, 'FILE_NAME': 'GREATER_LONDON_AUTHORITY', 'DESCRIPTIO': 'London Borough Ward', 'AREA_CODE': 'LBW', 'NUMBER': 127, 'UNIT_ID': 10991, 'HECTARES': 192.172, 'DESCRIPT1': '                                    ', 'TYPE_CODE': 'VA', 'NUMBER0': 1212, 'SHAPENUM': 426, 'RINGNUM': 1, 'DESCRIPT0': 'CIVIL VOTING AREA'}\n",
      "{'TYPE_COD0': '   ', 'CODE': 'E05000627', 'NAME': 'Wandsworth Common Ward', 'AREA': 0.0, 'POLYGON_ID': 117305, 'FILE_NAME': 'GREATER_LONDON_AUTHORITY', 'DESCRIPTIO': 'London Borough Ward', 'AREA_CODE': 'LBW', 'NUMBER': 128, 'UNIT_ID': 11129, 'HECTARES': 276.497, 'DESCRIPT1': '                                    ', 'TYPE_CODE': 'VA', 'NUMBER0': 1213, 'SHAPENUM': 427, 'RINGNUM': 1, 'DESCRIPT0': 'CIVIL VOTING AREA'}\n",
      "{'TYPE_COD0': '   ', 'CODE': 'E05000628', 'NAME': 'West Hill Ward', 'AREA': 0.0, 'POLYGON_ID': 117310, 'FILE_NAME': 'GREATER_LONDON_AUTHORITY', 'DESCRIPTIO': 'London Borough Ward', 'AREA_CODE': 'LBW', 'NUMBER': 347, 'UNIT_ID': 10865, 'HECTARES': 168.568, 'DESCRIPT1': '                                    ', 'TYPE_CODE': 'VA', 'NUMBER0': 1214, 'SHAPENUM': 428, 'RINGNUM': 1, 'DESCRIPT0': 'CIVIL VOTING AREA'}\n",
      "{'TYPE_COD0': '   ', 'CODE': 'E05000629', 'NAME': 'West Putney Ward', 'AREA': 0.0, 'POLYGON_ID': 50644, 'FILE_NAME': 'GREATER_LONDON_AUTHORITY', 'DESCRIPTIO': 'London Borough Ward', 'AREA_CODE': 'LBW', 'NUMBER': 350, 'UNIT_ID': 11256, 'HECTARES': 184.761, 'DESCRIPT1': '                                    ', 'TYPE_CODE': 'VA', 'NUMBER0': 1215, 'SHAPENUM': 429, 'RINGNUM': 1, 'DESCRIPT0': 'CIVIL VOTING AREA'}\n",
      "{'TYPE_COD0': '   ', 'CODE': 'E05000613', 'NAME': 'East Putney Ward', 'AREA': 0.0, 'POLYGON_ID': 117303, 'FILE_NAME': 'GREATER_LONDON_AUTHORITY', 'DESCRIPTIO': 'London Borough Ward', 'AREA_CODE': 'LBW', 'NUMBER': 351, 'UNIT_ID': 10986, 'HECTARES': 161.034, 'DESCRIPT1': '                                    ', 'TYPE_CODE': 'VA', 'NUMBER0': 1216, 'SHAPENUM': 430, 'RINGNUM': 1, 'DESCRIPT0': 'CIVIL VOTING AREA'}\n",
      "{'TYPE_COD0': '   ', 'CODE': 'E05000616', 'NAME': 'Graveney Ward', 'AREA': 0.0, 'POLYGON_ID': 122407, 'FILE_NAME': 'GREATER_LONDON_AUTHORITY', 'DESCRIPTIO': 'London Borough Ward', 'AREA_CODE': 'LBW', 'NUMBER': 356, 'UNIT_ID': 11151, 'HECTARES': 101.117, 'DESCRIPT1': '                                    ', 'TYPE_CODE': 'VA', 'NUMBER0': 1217, 'SHAPENUM': 431, 'RINGNUM': 1, 'DESCRIPT0': 'CIVIL VOTING AREA'}\n",
      "{'TYPE_COD0': '   ', 'CODE': 'E05000626', 'NAME': 'Tooting Ward', 'AREA': 0.0, 'POLYGON_ID': 50715, 'FILE_NAME': 'GREATER_LONDON_AUTHORITY', 'DESCRIPTIO': 'London Borough Ward', 'AREA_CODE': 'LBW', 'NUMBER': 357, 'UNIT_ID': 11155, 'HECTARES': 160.02, 'DESCRIPT1': '                                    ', 'TYPE_CODE': 'VA', 'NUMBER0': 1218, 'SHAPENUM': 432, 'RINGNUM': 1, 'DESCRIPT0': 'CIVIL VOTING AREA'}\n",
      "{'TYPE_COD0': '   ', 'CODE': 'E05000624', 'NAME': 'Southfields Ward', 'AREA': 0.0, 'POLYGON_ID': 50645, 'FILE_NAME': 'GREATER_LONDON_AUTHORITY', 'DESCRIPTIO': 'London Borough Ward', 'AREA_CODE': 'LBW', 'NUMBER': 358, 'UNIT_ID': 11257, 'HECTARES': 152.469, 'DESCRIPT1': '                                    ', 'TYPE_CODE': 'VA', 'NUMBER0': 1219, 'SHAPENUM': 433, 'RINGNUM': 1, 'DESCRIPT0': 'CIVIL VOTING AREA'}\n",
      "{'TYPE_COD0': '   ', 'CODE': 'E05000612', 'NAME': 'Earlsfield Ward', 'AREA': 0.0, 'POLYGON_ID': 117304, 'FILE_NAME': 'GREATER_LONDON_AUTHORITY', 'DESCRIPTIO': 'London Borough Ward', 'AREA_CODE': 'LBW', 'NUMBER': 359, 'UNIT_ID': 11128, 'HECTARES': 140.341, 'DESCRIPT1': '                                    ', 'TYPE_CODE': 'VA', 'NUMBER0': 1220, 'SHAPENUM': 434, 'RINGNUM': 1, 'DESCRIPT0': 'CIVIL VOTING AREA'}\n",
      "{'TYPE_COD0': '   ', 'CODE': 'E05000618', 'NAME': 'Nightingale Ward', 'AREA': 0.0, 'POLYGON_ID': 117311, 'FILE_NAME': 'GREATER_LONDON_AUTHORITY', 'DESCRIPTIO': 'London Borough Ward', 'AREA_CODE': 'LBW', 'NUMBER': 360, 'UNIT_ID': 11158, 'HECTARES': 123.197, 'DESCRIPT1': '                                    ', 'TYPE_CODE': 'VA', 'NUMBER0': 1221, 'SHAPENUM': 435, 'RINGNUM': 1, 'DESCRIPT0': 'CIVIL VOTING AREA'}\n",
      "{'TYPE_COD0': '   ', 'CODE': 'E05000615', 'NAME': 'Furzedown Ward', 'AREA': 0.0, 'POLYGON_ID': 122411, 'FILE_NAME': 'GREATER_LONDON_AUTHORITY', 'DESCRIPTIO': 'London Borough Ward', 'AREA_CODE': 'LBW', 'NUMBER': 361, 'UNIT_ID': 11152, 'HECTARES': 141.528, 'DESCRIPT1': '                                    ', 'TYPE_CODE': 'VA', 'NUMBER0': 1222, 'SHAPENUM': 436, 'RINGNUM': 1, 'DESCRIPT0': 'CIVIL VOTING AREA'}\n",
      "{'TYPE_COD0': '   ', 'CODE': 'E05000611', 'NAME': 'Bedford Ward', 'AREA': 0.0, 'POLYGON_ID': 50713, 'FILE_NAME': 'GREATER_LONDON_AUTHORITY', 'DESCRIPTIO': 'London Borough Ward', 'AREA_CODE': 'LBW', 'NUMBER': 365, 'UNIT_ID': 11153, 'HECTARES': 180.48, 'DESCRIPT1': '                                    ', 'TYPE_CODE': 'VA', 'NUMBER0': 1223, 'SHAPENUM': 437, 'RINGNUM': 1, 'DESCRIPT0': 'CIVIL VOTING AREA'}\n",
      "{'TYPE_COD0': '   ', 'CODE': 'E05000610', 'NAME': 'Balham Ward', 'AREA': 0.0, 'POLYGON_ID': 50717, 'FILE_NAME': 'GREATER_LONDON_AUTHORITY', 'DESCRIPTIO': 'London Borough Ward', 'AREA_CODE': 'LBW', 'NUMBER': 366, 'UNIT_ID': 11157, 'HECTARES': 121.176, 'DESCRIPT1': '                                    ', 'TYPE_CODE': 'VA', 'NUMBER0': 1224, 'SHAPENUM': 438, 'RINGNUM': 1, 'DESCRIPT0': 'CIVIL VOTING AREA'}\n",
      "{'TYPE_COD0': '   ', 'CODE': 'E05000614', 'NAME': 'Fairfield Ward', 'AREA': 6.745, 'POLYGON_ID': 117306, 'FILE_NAME': 'GREATER_LONDON_AUTHORITY', 'DESCRIPTIO': 'London Borough Ward', 'AREA_CODE': 'LBW', 'NUMBER': 369, 'UNIT_ID': 10863, 'HECTARES': 145.428, 'DESCRIPT1': '                                    ', 'TYPE_CODE': 'VA', 'NUMBER0': 1225, 'SHAPENUM': 439, 'RINGNUM': 1, 'DESCRIPT0': 'CIVIL VOTING AREA'}\n",
      "{'TYPE_COD0': '   ', 'CODE': 'E05000619', 'NAME': 'Northcote Ward', 'AREA': 0.0, 'POLYGON_ID': 117307, 'FILE_NAME': 'GREATER_LONDON_AUTHORITY', 'DESCRIPTIO': 'London Borough Ward', 'AREA_CODE': 'LBW', 'NUMBER': 370, 'UNIT_ID': 10861, 'HECTARES': 167.535, 'DESCRIPT1': '                                    ', 'TYPE_CODE': 'VA', 'NUMBER0': 1226, 'SHAPENUM': 440, 'RINGNUM': 1, 'DESCRIPT0': 'CIVIL VOTING AREA'}\n",
      "{'TYPE_COD0': '   ', 'CODE': 'E05000617', 'NAME': 'Latchmere Ward', 'AREA': 0.0, 'POLYGON_ID': 117312, 'FILE_NAME': 'GREATER_LONDON_AUTHORITY', 'DESCRIPTIO': 'London Borough Ward', 'AREA_CODE': 'LBW', 'NUMBER': 374, 'UNIT_ID': 10862, 'HECTARES': 108.326, 'DESCRIPT1': '                                    ', 'TYPE_CODE': 'VA', 'NUMBER0': 1227, 'SHAPENUM': 441, 'RINGNUM': 1, 'DESCRIPT0': 'CIVIL VOTING AREA'}\n",
      "{'TYPE_COD0': '   ', 'CODE': 'E05000622', 'NAME': \"St. Mary's Park Ward\", 'AREA': 31.399, 'POLYGON_ID': 117308, 'FILE_NAME': 'GREATER_LONDON_AUTHORITY', 'DESCRIPTIO': 'London Borough Ward', 'AREA_CODE': 'LBW', 'NUMBER': 375, 'UNIT_ID': 11258, 'HECTARES': 139.685, 'DESCRIPT1': '                                    ', 'TYPE_CODE': 'VA', 'NUMBER0': 1228, 'SHAPENUM': 442, 'RINGNUM': 1, 'DESCRIPT0': 'CIVIL VOTING AREA'}\n",
      "{'TYPE_COD0': '   ', 'CODE': 'E05000620', 'NAME': 'Queenstown Ward', 'AREA': 31.244, 'POLYGON_ID': 117309, 'FILE_NAME': 'GREATER_LONDON_AUTHORITY', 'DESCRIPTIO': 'London Borough Ward', 'AREA_CODE': 'LBW', 'NUMBER': 381, 'UNIT_ID': 11160, 'HECTARES': 320.486, 'DESCRIPT1': '                                    ', 'TYPE_CODE': 'VA', 'NUMBER0': 1229, 'SHAPENUM': 443, 'RINGNUM': 1, 'DESCRIPT0': 'CIVIL VOTING AREA'}\n",
      "{'TYPE_COD0': '   ', 'CODE': 'E05000623', 'NAME': 'Shaftesbury Ward', 'AREA': 0.0, 'POLYGON_ID': 50798, 'FILE_NAME': 'GREATER_LONDON_AUTHORITY', 'DESCRIPTIO': 'London Borough Ward', 'AREA_CODE': 'LBW', 'NUMBER': 660, 'UNIT_ID': 11150, 'HECTARES': 94.789, 'DESCRIPT1': '                                    ', 'TYPE_CODE': 'VA', 'NUMBER0': 1230, 'SHAPENUM': 444, 'RINGNUM': 1, 'DESCRIPT0': 'CIVIL VOTING AREA'}\n",
      "{'TYPE_COD0': '   ', 'CODE': 'E05000259', 'NAME': 'Palace Riverside Ward', 'AREA': 34.321, 'POLYGON_ID': 117145, 'FILE_NAME': 'GREATER_LONDON_AUTHORITY', 'DESCRIPTIO': 'London Borough Ward', 'AREA_CODE': 'LBW', 'NUMBER': 353, 'UNIT_ID': 10990, 'HECTARES': 148.083, 'DESCRIPT1': '                                    ', 'TYPE_CODE': 'VA', 'NUMBER0': 1233, 'SHAPENUM': 445, 'RINGNUM': 1, 'DESCRIPT0': 'CIVIL VOTING AREA'}\n",
      "{'TYPE_COD0': '   ', 'CODE': 'E05000257', 'NAME': 'Munster Ward', 'AREA': 0.0, 'POLYGON_ID': 117153, 'FILE_NAME': 'GREATER_LONDON_AUTHORITY', 'DESCRIPTIO': 'London Borough Ward', 'AREA_CODE': 'LBW', 'NUMBER': 354, 'UNIT_ID': 11261, 'HECTARES': 62.427, 'DESCRIPT1': '                                    ', 'TYPE_CODE': 'VA', 'NUMBER0': 1234, 'SHAPENUM': 446, 'RINGNUM': 1, 'DESCRIPT0': 'CIVIL VOTING AREA'}\n",
      "{'TYPE_COD0': '   ', 'CODE': 'E05000262', 'NAME': 'Sands End Ward', 'AREA': 23.596, 'POLYGON_ID': 117151, 'FILE_NAME': 'GREATER_LONDON_AUTHORITY', 'DESCRIPTIO': 'London Borough Ward', 'AREA_CODE': 'LBW', 'NUMBER': 371, 'UNIT_ID': 11260, 'HECTARES': 137.806, 'DESCRIPT1': '                                    ', 'TYPE_CODE': 'VA', 'NUMBER0': 1235, 'SHAPENUM': 447, 'RINGNUM': 1, 'DESCRIPT0': 'CIVIL VOTING AREA'}\n",
      "{'TYPE_COD0': '   ', 'CODE': 'E05000260', 'NAME': 'Parsons Green and Walham Ward', 'AREA': 0.0, 'POLYGON_ID': 117150, 'FILE_NAME': 'GREATER_LONDON_AUTHORITY', 'DESCRIPTIO': 'London Borough Ward', 'AREA_CODE': 'LBW', 'NUMBER': 372, 'UNIT_ID': 41863, 'HECTARES': 89.587, 'DESCRIPT1': '                                    ', 'TYPE_CODE': 'VA', 'NUMBER0': 1236, 'SHAPENUM': 448, 'RINGNUM': 1, 'DESCRIPT0': 'CIVIL VOTING AREA'}\n",
      "{'TYPE_COD0': '   ', 'CODE': 'E05000254', 'NAME': 'Fulham Broadway Ward', 'AREA': 0.0, 'POLYGON_ID': 117155, 'FILE_NAME': 'GREATER_LONDON_AUTHORITY', 'DESCRIPTIO': 'London Borough Ward', 'AREA_CODE': 'LBW', 'NUMBER': 373, 'UNIT_ID': 11263, 'HECTARES': 66.797, 'DESCRIPT1': '                                    ', 'TYPE_CODE': 'VA', 'NUMBER0': 1237, 'SHAPENUM': 449, 'RINGNUM': 1, 'DESCRIPT0': 'CIVIL VOTING AREA'}\n",
      "{'TYPE_COD0': '   ', 'CODE': 'E05000261', 'NAME': 'Ravenscourt Park Ward', 'AREA': 6.317, 'POLYGON_ID': 117147, 'FILE_NAME': 'GREATER_LONDON_AUTHORITY', 'DESCRIPTIO': 'London Borough Ward', 'AREA_CODE': 'LBW', 'NUMBER': 466, 'UNIT_ID': 11438, 'HECTARES': 121.533, 'DESCRIPT1': '                                    ', 'TYPE_CODE': 'VA', 'NUMBER0': 1238, 'SHAPENUM': 450, 'RINGNUM': 1, 'DESCRIPT0': 'CIVIL VOTING AREA'}\n",
      "{'TYPE_COD0': '   ', 'CODE': 'E05000256', 'NAME': 'Hammersmith Broadway Ward', 'AREA': 5.486, 'POLYGON_ID': 117148, 'FILE_NAME': 'GREATER_LONDON_AUTHORITY', 'DESCRIPTIO': 'London Borough Ward', 'AREA_CODE': 'LBW', 'NUMBER': 467, 'UNIT_ID': 11431, 'HECTARES': 110.305, 'DESCRIPT1': '                                    ', 'TYPE_CODE': 'VA', 'NUMBER0': 1239, 'SHAPENUM': 451, 'RINGNUM': 1, 'DESCRIPT0': 'CIVIL VOTING AREA'}\n",
      "{'TYPE_COD0': '   ', 'CODE': 'E05000252', 'NAME': 'Avonmore and Brook Green Ward', 'AREA': 0.0, 'POLYGON_ID': 117149, 'FILE_NAME': 'GREATER_LONDON_AUTHORITY', 'DESCRIPTIO': 'London Borough Ward', 'AREA_CODE': 'LBW', 'NUMBER': 468, 'UNIT_ID': 11271, 'HECTARES': 89.659, 'DESCRIPT1': '                                    ', 'TYPE_CODE': 'VA', 'NUMBER0': 1240, 'SHAPENUM': 452, 'RINGNUM': 1, 'DESCRIPT0': 'CIVIL VOTING AREA'}\n",
      "{'TYPE_COD0': '   ', 'CODE': 'E05000251', 'NAME': 'Askew Ward', 'AREA': 0.0, 'POLYGON_ID': 117146, 'FILE_NAME': 'GREATER_LONDON_AUTHORITY', 'DESCRIPTIO': 'London Borough Ward', 'AREA_CODE': 'LBW', 'NUMBER': 469, 'UNIT_ID': 11441, 'HECTARES': 76.25, 'DESCRIPT1': '                                    ', 'TYPE_CODE': 'VA', 'NUMBER0': 1241, 'SHAPENUM': 453, 'RINGNUM': 1, 'DESCRIPT0': 'CIVIL VOTING AREA'}\n",
      "{'TYPE_COD0': '   ', 'CODE': 'E05000265', 'NAME': 'Wormholt and White City Ward', 'AREA': 0.0, 'POLYGON_ID': 117157, 'FILE_NAME': 'GREATER_LONDON_AUTHORITY', 'DESCRIPTIO': 'London Borough Ward', 'AREA_CODE': 'LBW', 'NUMBER': 470, 'UNIT_ID': 11444, 'HECTARES': 90.164, 'DESCRIPT1': '                                    ', 'TYPE_CODE': 'VA', 'NUMBER0': 1242, 'SHAPENUM': 454, 'RINGNUM': 1, 'DESCRIPT0': 'CIVIL VOTING AREA'}\n",
      "{'TYPE_COD0': '   ', 'CODE': 'E05000263', 'NAME': \"Shepherd's Bush Green Ward\", 'AREA': 0.0, 'POLYGON_ID': 117158, 'FILE_NAME': 'GREATER_LONDON_AUTHORITY', 'DESCRIPTIO': 'London Borough Ward', 'AREA_CODE': 'LBW', 'NUMBER': 471, 'UNIT_ID': 11440, 'HECTARES': 106.82, 'DESCRIPT1': '                                    ', 'TYPE_CODE': 'VA', 'NUMBER0': 1243, 'SHAPENUM': 455, 'RINGNUM': 1, 'DESCRIPT0': 'CIVIL VOTING AREA'}\n",
      "{'TYPE_COD0': '   ', 'CODE': 'E05000253', 'NAME': 'College Park and Old Oak Ward', 'AREA': 0.0, 'POLYGON_ID': 50480, 'FILE_NAME': 'GREATER_LONDON_AUTHORITY', 'DESCRIPTIO': 'London Borough Ward', 'AREA_CODE': 'LBW', 'NUMBER': 476, 'UNIT_ID': 11442, 'HECTARES': 343.654, 'DESCRIPT1': '                                    ', 'TYPE_CODE': 'VA', 'NUMBER0': 1244, 'SHAPENUM': 456, 'RINGNUM': 1, 'DESCRIPT0': 'CIVIL VOTING AREA'}\n",
      "{'TYPE_COD0': '   ', 'CODE': 'E05000264', 'NAME': 'Town Ward', 'AREA': 0.0, 'POLYGON_ID': 117152, 'FILE_NAME': 'GREATER_LONDON_AUTHORITY', 'DESCRIPTIO': 'London Borough Ward', 'AREA_CODE': 'LBW', 'NUMBER': 658, 'UNIT_ID': 11264, 'HECTARES': 65.129, 'DESCRIPT1': '                                    ', 'TYPE_CODE': 'VA', 'NUMBER0': 1245, 'SHAPENUM': 457, 'RINGNUM': 1, 'DESCRIPT0': 'CIVIL VOTING AREA'}\n",
      "{'TYPE_COD0': '   ', 'CODE': 'E05000255', 'NAME': 'Fulham Reach Ward', 'AREA': 5.928, 'POLYGON_ID': 117154, 'FILE_NAME': 'GREATER_LONDON_AUTHORITY', 'DESCRIPTIO': 'London Borough Ward', 'AREA_CODE': 'LBW', 'NUMBER': 659, 'UNIT_ID': 11432, 'HECTARES': 88.198, 'DESCRIPT1': '                                    ', 'TYPE_CODE': 'VA', 'NUMBER0': 1246, 'SHAPENUM': 458, 'RINGNUM': 1, 'DESCRIPT0': 'CIVIL VOTING AREA'}\n",
      "{'TYPE_COD0': '   ', 'CODE': 'E05000258', 'NAME': 'North End Ward', 'AREA': 0.0, 'POLYGON_ID': 117156, 'FILE_NAME': 'GREATER_LONDON_AUTHORITY', 'DESCRIPTIO': 'London Borough Ward', 'AREA_CODE': 'LBW', 'NUMBER': 664, 'UNIT_ID': 11275, 'HECTARES': 63.517, 'DESCRIPT1': '                                    ', 'TYPE_CODE': 'VA', 'NUMBER0': 1247, 'SHAPENUM': 459, 'RINGNUM': 1, 'DESCRIPT0': 'CIVIL VOTING AREA'}\n",
      "{'TYPE_COD0': '   ', 'CODE': 'E05000250', 'NAME': 'Addison Ward', 'AREA': 0.0, 'POLYGON_ID': 50641, 'FILE_NAME': 'GREATER_LONDON_AUTHORITY', 'DESCRIPTIO': 'London Borough Ward', 'AREA_CODE': 'LBW', 'NUMBER': 665, 'UNIT_ID': 11253, 'HECTARES': 55.481, 'DESCRIPT1': '                                    ', 'TYPE_CODE': 'VA', 'NUMBER0': 1248, 'SHAPENUM': 460, 'RINGNUM': 1, 'DESCRIPT0': 'CIVIL VOTING AREA'}\n",
      "{'TYPE_COD0': '   ', 'CODE': 'E05000387', 'NAME': 'Cremorne Ward', 'AREA': 13.241, 'POLYGON_ID': 51243, 'FILE_NAME': 'GREATER_LONDON_AUTHORITY', 'DESCRIPTIO': 'London Borough Ward', 'AREA_CODE': 'LBW', 'NUMBER': 376, 'UNIT_ID': 10985, 'HECTARES': 61.028, 'DESCRIPT1': '                                    ', 'TYPE_CODE': 'VA', 'NUMBER0': 1252, 'SHAPENUM': 461, 'RINGNUM': 1, 'DESCRIPT0': 'CIVIL VOTING AREA'}\n",
      "{'TYPE_COD0': '   ', 'CODE': 'E05000391', 'NAME': 'Holland Ward', 'AREA': 0.0, 'POLYGON_ID': 50661, 'FILE_NAME': 'GREATER_LONDON_AUTHORITY', 'DESCRIPTIO': 'London Borough Ward', 'AREA_CODE': 'LBW', 'NUMBER': 472, 'UNIT_ID': 11273, 'HECTARES': 103.896, 'DESCRIPT1': '                                    ', 'TYPE_CODE': 'VA', 'NUMBER0': 1253, 'SHAPENUM': 462, 'RINGNUM': 1, 'DESCRIPT0': 'CIVIL VOTING AREA'}\n",
      "{'TYPE_COD0': '   ', 'CODE': 'E05000392', 'NAME': 'Norland Ward', 'AREA': 0.0, 'POLYGON_ID': 117492, 'FILE_NAME': 'GREATER_LONDON_AUTHORITY', 'DESCRIPTIO': 'London Borough Ward', 'AREA_CODE': 'LBW', 'NUMBER': 473, 'UNIT_ID': 11348, 'HECTARES': 72.393, 'DESCRIPT1': '                                    ', 'TYPE_CODE': 'VA', 'NUMBER0': 1254, 'SHAPENUM': 463, 'RINGNUM': 1, 'DESCRIPT0': 'CIVIL VOTING AREA'}\n",
      "{'TYPE_COD0': '   ', 'CODE': 'E05000389', 'NAME': 'Golborne Ward', 'AREA': 0.0, 'POLYGON_ID': 50559, 'FILE_NAME': 'GREATER_LONDON_AUTHORITY', 'DESCRIPTIO': 'London Borough Ward', 'AREA_CODE': 'LBW', 'NUMBER': 477, 'UNIT_ID': 11347, 'HECTARES': 94.413, 'DESCRIPT1': '                                    ', 'TYPE_CODE': 'VA', 'NUMBER0': 1255, 'SHAPENUM': 464, 'RINGNUM': 1, 'DESCRIPT0': 'CIVIL VOTING AREA'}\n",
      "{'TYPE_COD0': '   ', 'CODE': 'E05000396', 'NAME': 'Redcliffe Ward', 'AREA': 0.0, 'POLYGON_ID': 51247, 'FILE_NAME': 'GREATER_LONDON_AUTHORITY', 'DESCRIPTIO': 'London Borough Ward', 'AREA_CODE': 'LBW', 'NUMBER': 483, 'UNIT_ID': 10989, 'HECTARES': 69.64, 'DESCRIPT1': '                                    ', 'TYPE_CODE': 'VA', 'NUMBER0': 1256, 'SHAPENUM': 465, 'RINGNUM': 1, 'DESCRIPT0': 'CIVIL VOTING AREA'}\n",
      "{'TYPE_COD0': '   ', 'CODE': 'E05000399', 'NAME': 'Stanley Ward', 'AREA': 0.0, 'POLYGON_ID': 117490, 'FILE_NAME': 'GREATER_LONDON_AUTHORITY', 'DESCRIPTIO': 'London Borough Ward', 'AREA_CODE': 'LBW', 'NUMBER': 484, 'UNIT_ID': 10984, 'HECTARES': 66.235, 'DESCRIPT1': '                                    ', 'TYPE_CODE': 'VA', 'NUMBER0': 1257, 'SHAPENUM': 466, 'RINGNUM': 1, 'DESCRIPT0': 'CIVIL VOTING AREA'}\n",
      "{'TYPE_COD0': '   ', 'CODE': 'E05000397', 'NAME': 'Royal Hospital Ward', 'AREA': 12.753, 'POLYGON_ID': 117491, 'FILE_NAME': 'GREATER_LONDON_AUTHORITY', 'DESCRIPTIO': 'London Borough Ward', 'AREA_CODE': 'LBW', 'NUMBER': 485, 'UNIT_ID': 11149, 'HECTARES': 90.143, 'DESCRIPT1': '                                    ', 'TYPE_CODE': 'VA', 'NUMBER0': 1258, 'SHAPENUM': 467, 'RINGNUM': 1, 'DESCRIPT0': 'CIVIL VOTING AREA'}\n",
      "{'TYPE_COD0': '   ', 'CODE': 'E05000383', 'NAME': 'Brompton Ward', 'AREA': 0.0, 'POLYGON_ID': 117493, 'FILE_NAME': 'GREATER_LONDON_AUTHORITY', 'DESCRIPTIO': 'London Borough Ward', 'AREA_CODE': 'LBW', 'NUMBER': 486, 'UNIT_ID': 11267, 'HECTARES': 95.504, 'DESCRIPT1': '                                    ', 'TYPE_CODE': 'VA', 'NUMBER0': 1259, 'SHAPENUM': 468, 'RINGNUM': 1, 'DESCRIPT0': 'CIVIL VOTING AREA'}\n",
      "{'TYPE_COD0': '   ', 'CODE': 'E05000382', 'NAME': 'Abingdon Ward', 'AREA': 0.0, 'POLYGON_ID': 50660, 'FILE_NAME': 'GREATER_LONDON_AUTHORITY', 'DESCRIPTIO': 'London Borough Ward', 'AREA_CODE': 'LBW', 'NUMBER': 487, 'UNIT_ID': 11272, 'HECTARES': 63.06, 'DESCRIPT1': '                                    ', 'TYPE_CODE': 'VA', 'NUMBER0': 1260, 'SHAPENUM': 469, 'RINGNUM': 1, 'DESCRIPT0': 'CIVIL VOTING AREA'}\n",
      "{'TYPE_COD0': '   ', 'CODE': 'E05000394', 'NAME': 'Pembridge Ward', 'AREA': 0.0, 'POLYGON_ID': 50562, 'FILE_NAME': 'GREATER_LONDON_AUTHORITY', 'DESCRIPTIO': 'London Borough Ward', 'AREA_CODE': 'LBW', 'NUMBER': 488, 'UNIT_ID': 11350, 'HECTARES': 48.904, 'DESCRIPT1': '                                    ', 'TYPE_CODE': 'VA', 'NUMBER0': 1261, 'SHAPENUM': 470, 'RINGNUM': 1, 'DESCRIPT0': 'CIVIL VOTING AREA'}\n",
      "{'TYPE_COD0': '   ', 'CODE': 'E05000393', 'NAME': 'Notting Barns Ward', 'AREA': 0.0, 'POLYGON_ID': 50484, 'FILE_NAME': 'GREATER_LONDON_AUTHORITY', 'DESCRIPTIO': 'London Borough Ward', 'AREA_CODE': 'LBW', 'NUMBER': 666, 'UNIT_ID': 11446, 'HECTARES': 62.332, 'DESCRIPT1': '                                    ', 'TYPE_CODE': 'VA', 'NUMBER0': 1262, 'SHAPENUM': 471, 'RINGNUM': 1, 'DESCRIPT0': 'CIVIL VOTING AREA'}\n",
      "{'TYPE_COD0': '   ', 'CODE': 'E05000385', 'NAME': 'Colville Ward', 'AREA': 0.0, 'POLYGON_ID': 50563, 'FILE_NAME': 'GREATER_LONDON_AUTHORITY', 'DESCRIPTIO': 'London Borough Ward', 'AREA_CODE': 'LBW', 'NUMBER': 667, 'UNIT_ID': 11351, 'HECTARES': 39.212, 'DESCRIPT1': '                                    ', 'TYPE_CODE': 'VA', 'NUMBER0': 1263, 'SHAPENUM': 472, 'RINGNUM': 1, 'DESCRIPT0': 'CIVIL VOTING AREA'}\n",
      "{'TYPE_COD0': '   ', 'CODE': 'E05000398', 'NAME': 'St. Charles Ward', 'AREA': 0.0, 'POLYGON_ID': 50483, 'FILE_NAME': 'GREATER_LONDON_AUTHORITY', 'DESCRIPTIO': 'London Borough Ward', 'AREA_CODE': 'LBW', 'NUMBER': 668, 'UNIT_ID': 11445, 'HECTARES': 70.783, 'DESCRIPT1': '                                    ', 'TYPE_CODE': 'VA', 'NUMBER0': 1264, 'SHAPENUM': 473, 'RINGNUM': 1, 'DESCRIPT0': 'CIVIL VOTING AREA'}\n",
      "{'TYPE_COD0': '   ', 'CODE': 'E05000388', 'NAME': \"Earl's Court Ward\", 'AREA': 0.0, 'POLYGON_ID': 50662, 'FILE_NAME': 'GREATER_LONDON_AUTHORITY', 'DESCRIPTIO': 'London Borough Ward', 'AREA_CODE': 'LBW', 'NUMBER': 670, 'UNIT_ID': 11274, 'HECTARES': 45.828, 'DESCRIPT1': '                                    ', 'TYPE_CODE': 'VA', 'NUMBER0': 1265, 'SHAPENUM': 474, 'RINGNUM': 1, 'DESCRIPT0': 'CIVIL VOTING AREA'}\n",
      "{'TYPE_COD0': '   ', 'CODE': 'E05000386', 'NAME': 'Courtfield Ward', 'AREA': 0.0, 'POLYGON_ID': 50654, 'FILE_NAME': 'GREATER_LONDON_AUTHORITY', 'DESCRIPTIO': 'London Borough Ward', 'AREA_CODE': 'LBW', 'NUMBER': 671, 'UNIT_ID': 11266, 'HECTARES': 47.76, 'DESCRIPT1': '                                    ', 'TYPE_CODE': 'VA', 'NUMBER0': 1266, 'SHAPENUM': 475, 'RINGNUM': 1, 'DESCRIPT0': 'CIVIL VOTING AREA'}\n",
      "{'TYPE_COD0': '   ', 'CODE': 'E05000395', 'NAME': \"Queen's Gate Ward\", 'AREA': 0.0, 'POLYGON_ID': 50657, 'FILE_NAME': 'GREATER_LONDON_AUTHORITY', 'DESCRIPTIO': 'London Borough Ward', 'AREA_CODE': 'LBW', 'NUMBER': 672, 'UNIT_ID': 11269, 'HECTARES': 60.645, 'DESCRIPT1': '                                    ', 'TYPE_CODE': 'VA', 'NUMBER0': 1267, 'SHAPENUM': 476, 'RINGNUM': 1, 'DESCRIPT0': 'CIVIL VOTING AREA'}\n",
      "{'TYPE_COD0': '   ', 'CODE': 'E05000390', 'NAME': 'Hans Town Ward', 'AREA': 0.0, 'POLYGON_ID': 117494, 'FILE_NAME': 'GREATER_LONDON_AUTHORITY', 'DESCRIPTIO': 'London Borough Ward', 'AREA_CODE': 'LBW', 'NUMBER': 673, 'UNIT_ID': 11126, 'HECTARES': 55.234, 'DESCRIPT1': '                                    ', 'TYPE_CODE': 'VA', 'NUMBER0': 1268, 'SHAPENUM': 477, 'RINGNUM': 1, 'DESCRIPT0': 'CIVIL VOTING AREA'}\n",
      "{'TYPE_COD0': '   ', 'CODE': 'E05000384', 'NAME': 'Campden Ward', 'AREA': 0.0, 'POLYGON_ID': 50561, 'FILE_NAME': 'GREATER_LONDON_AUTHORITY', 'DESCRIPTIO': 'London Borough Ward', 'AREA_CODE': 'LBW', 'NUMBER': 674, 'UNIT_ID': 11349, 'HECTARES': 91.37, 'DESCRIPT1': '                                    ', 'TYPE_CODE': 'VA', 'NUMBER0': 1269, 'SHAPENUM': 478, 'RINGNUM': 1, 'DESCRIPT0': 'CIVIL VOTING AREA'}\n",
      "{'TYPE_COD0': '   ', 'CODE': 'E05000644', 'NAME': \"St. James's Ward\", 'AREA': 27.146, 'POLYGON_ID': 117483, 'FILE_NAME': 'GREATER_LONDON_AUTHORITY', 'DESCRIPTIO': 'London Borough Ward', 'AREA_CODE': 'LBW', 'NUMBER': 203, 'UNIT_ID': 11162, 'HECTARES': 346.379, 'DESCRIPT1': '                                    ', 'TYPE_CODE': 'VA', 'NUMBER0': 1272, 'SHAPENUM': 479, 'RINGNUM': 1, 'DESCRIPT0': 'CIVIL VOTING AREA'}\n",
      "{'TYPE_COD0': '   ', 'CODE': 'E05000638', 'NAME': 'Lancaster Gate Ward', 'AREA': 0.0, 'POLYGON_ID': 50773, 'FILE_NAME': 'GREATER_LONDON_AUTHORITY', 'DESCRIPTIO': 'London Borough Ward', 'AREA_CODE': 'LBW', 'NUMBER': 489, 'UNIT_ID': 11125, 'HECTARES': 63.082, 'DESCRIPT1': '                                    ', 'TYPE_CODE': 'VA', 'NUMBER0': 1273, 'SHAPENUM': 480, 'RINGNUM': 1, 'DESCRIPT0': 'CIVIL VOTING AREA'}\n",
      "{'TYPE_COD0': '   ', 'CODE': 'E05000637', 'NAME': 'Knightsbridge and Belgravia Ward', 'AREA': 0.0, 'POLYGON_ID': 117482, 'FILE_NAME': 'GREATER_LONDON_AUTHORITY', 'DESCRIPTIO': 'London Borough Ward', 'AREA_CODE': 'LBW', 'NUMBER': 490, 'UNIT_ID': 11276, 'HECTARES': 359.43, 'DESCRIPT1': '                                    ', 'TYPE_CODE': 'VA', 'NUMBER0': 1274, 'SHAPENUM': 481, 'RINGNUM': 1, 'DESCRIPT0': 'CIVIL VOTING AREA'}\n",
      "{'TYPE_COD0': '   ', 'CODE': 'E05000636', 'NAME': 'Hyde Park Ward', 'AREA': 0.0, 'POLYGON_ID': 50772, 'FILE_NAME': 'GREATER_LONDON_AUTHORITY', 'DESCRIPTIO': 'London Borough Ward', 'AREA_CODE': 'LBW', 'NUMBER': 491, 'UNIT_ID': 11124, 'HECTARES': 95.514, 'DESCRIPT1': '                                    ', 'TYPE_CODE': 'VA', 'NUMBER0': 1275, 'SHAPENUM': 482, 'RINGNUM': 1, 'DESCRIPT0': 'CIVIL VOTING AREA'}\n",
      "{'TYPE_COD0': '   ', 'CODE': 'E05000633', 'NAME': 'Churchill Ward', 'AREA': 9.333, 'POLYGON_ID': 50796, 'FILE_NAME': 'GREATER_LONDON_AUTHORITY', 'DESCRIPTIO': 'London Borough Ward', 'AREA_CODE': 'LBW', 'NUMBER': 492, 'UNIT_ID': 11148, 'HECTARES': 60.923, 'DESCRIPT1': '                                    ', 'TYPE_CODE': 'VA', 'NUMBER0': 1276, 'SHAPENUM': 483, 'RINGNUM': 1, 'DESCRIPT0': 'CIVIL VOTING AREA'}\n",
      "{'TYPE_COD0': '   ', 'CODE': 'E05000646', 'NAME': 'Vincent Square Ward', 'AREA': 8.89, 'POLYGON_ID': 117485, 'FILE_NAME': 'GREATER_LONDON_AUTHORITY', 'DESCRIPTIO': 'London Borough Ward', 'AREA_CODE': 'LBW', 'NUMBER': 493, 'UNIT_ID': 41912, 'HECTARES': 68.355, 'DESCRIPT1': '                                    ', 'TYPE_CODE': 'VA', 'NUMBER0': 1277, 'SHAPENUM': 484, 'RINGNUM': 1, 'DESCRIPT0': 'CIVIL VOTING AREA'}\n",
      "{'TYPE_COD0': '   ', 'CODE': 'E05000649', 'NAME': 'West End Ward', 'AREA': 0.0, 'POLYGON_ID': 50723, 'FILE_NAME': 'GREATER_LONDON_AUTHORITY', 'DESCRIPTIO': 'London Borough Ward', 'AREA_CODE': 'LBW', 'NUMBER': 495, 'UNIT_ID': 11163, 'HECTARES': 199.973, 'DESCRIPT1': '                                    ', 'TYPE_CODE': 'VA', 'NUMBER0': 1278, 'SHAPENUM': 485, 'RINGNUM': 1, 'DESCRIPT0': 'CIVIL VOTING AREA'}\n",
      "{'TYPE_COD0': '   ', 'CODE': 'E05000635', 'NAME': 'Harrow Road Ward', 'AREA': 0.0, 'POLYGON_ID': 50565, 'FILE_NAME': 'GREATER_LONDON_AUTHORITY', 'DESCRIPTIO': 'London Borough Ward', 'AREA_CODE': 'LBW', 'NUMBER': 497, 'UNIT_ID': 11353, 'HECTARES': 49.519, 'DESCRIPT1': '                                    ', 'TYPE_CODE': 'VA', 'NUMBER0': 1279, 'SHAPENUM': 486, 'RINGNUM': 1, 'DESCRIPT0': 'CIVIL VOTING AREA'}\n",
      "{'TYPE_COD0': '   ', 'CODE': 'E05000632', 'NAME': 'Bryanston and Dorset Square Ward', 'AREA': 0.0, 'POLYGON_ID': 50771, 'FILE_NAME': 'GREATER_LONDON_AUTHORITY', 'DESCRIPTIO': 'London Borough Ward', 'AREA_CODE': 'LBW', 'NUMBER': 498, 'UNIT_ID': 11123, 'HECTARES': 72.318, 'DESCRIPT1': '                                    ', 'TYPE_CODE': 'VA', 'NUMBER0': 1280, 'SHAPENUM': 487, 'RINGNUM': 1, 'DESCRIPT0': 'CIVIL VOTING AREA'}\n",
      "{'TYPE_COD0': '   ', 'CODE': 'E05000643', 'NAME': \"Regent's Park Ward\", 'AREA': 0.0, 'POLYGON_ID': 50571, 'FILE_NAME': 'GREATER_LONDON_AUTHORITY', 'DESCRIPTIO': 'London Borough Ward', 'AREA_CODE': 'LBW', 'NUMBER': 499, 'UNIT_ID': 11359, 'HECTARES': 225.576, 'DESCRIPT1': '                                    ', 'TYPE_CODE': 'VA', 'NUMBER0': 1281, 'SHAPENUM': 488, 'RINGNUM': 1, 'DESCRIPT0': 'CIVIL VOTING AREA'}\n",
      "{'TYPE_COD0': '   ', 'CODE': 'E05000630', 'NAME': 'Abbey Road Ward', 'AREA': 0.0, 'POLYGON_ID': 117484, 'FILE_NAME': 'GREATER_LONDON_AUTHORITY', 'DESCRIPTIO': 'London Borough Ward', 'AREA_CODE': 'LBW', 'NUMBER': 502, 'UNIT_ID': 11250, 'HECTARES': 109.492, 'DESCRIPT1': '                                    ', 'TYPE_CODE': 'VA', 'NUMBER0': 1282, 'SHAPENUM': 489, 'RINGNUM': 1, 'DESCRIPT0': 'CIVIL VOTING AREA'}\n",
      "{'TYPE_COD0': '   ', 'CODE': 'E05000641', 'NAME': 'Marylebone High Street Ward', 'AREA': 0.0, 'POLYGON_ID': 117487, 'FILE_NAME': 'GREATER_LONDON_AUTHORITY', 'DESCRIPTIO': 'London Borough Ward', 'AREA_CODE': 'LBW', 'NUMBER': 503, 'UNIT_ID': 11121, 'HECTARES': 100.107, 'DESCRIPT1': '                                    ', 'TYPE_CODE': 'VA', 'NUMBER0': 1283, 'SHAPENUM': 490, 'RINGNUM': 1, 'DESCRIPT0': 'CIVIL VOTING AREA'}\n",
      "{'TYPE_COD0': '   ', 'CODE': 'E05000642', 'NAME': \"Queen's Park Ward\", 'AREA': 0.0, 'POLYGON_ID': 50555, 'FILE_NAME': 'GREATER_LONDON_AUTHORITY', 'DESCRIPTIO': 'London Borough Ward', 'AREA_CODE': 'LBW', 'NUMBER': 669, 'UNIT_ID': 11343, 'HECTARES': 58.441, 'DESCRIPT1': '                                    ', 'TYPE_CODE': 'VA', 'NUMBER0': 1284, 'SHAPENUM': 491, 'RINGNUM': 1, 'DESCRIPT0': 'CIVIL VOTING AREA'}\n",
      "{'TYPE_COD0': '   ', 'CODE': 'E05000631', 'NAME': 'Bayswater Ward', 'AREA': 0.0, 'POLYGON_ID': 50564, 'FILE_NAME': 'GREATER_LONDON_AUTHORITY', 'DESCRIPTIO': 'London Borough Ward', 'AREA_CODE': 'LBW', 'NUMBER': 675, 'UNIT_ID': 11352, 'HECTARES': 51.949, 'DESCRIPT1': '                                    ', 'TYPE_CODE': 'VA', 'NUMBER0': 1285, 'SHAPENUM': 492, 'RINGNUM': 1, 'DESCRIPT0': 'CIVIL VOTING AREA'}\n",
      "{'TYPE_COD0': '   ', 'CODE': 'E05000647', 'NAME': 'Warwick Ward', 'AREA': 0.0, 'POLYGON_ID': 50794, 'FILE_NAME': 'GREATER_LONDON_AUTHORITY', 'DESCRIPTIO': 'London Borough Ward', 'AREA_CODE': 'LBW', 'NUMBER': 676, 'UNIT_ID': 11146, 'HECTARES': 57.354, 'DESCRIPT1': '                                    ', 'TYPE_CODE': 'VA', 'NUMBER0': 1286, 'SHAPENUM': 493, 'RINGNUM': 1, 'DESCRIPT0': 'CIVIL VOTING AREA'}\n",
      "{'TYPE_COD0': '   ', 'CODE': 'E05000645', 'NAME': 'Tachbrook Ward', 'AREA': 8.94, 'POLYGON_ID': 117486, 'FILE_NAME': 'GREATER_LONDON_AUTHORITY', 'DESCRIPTIO': 'London Borough Ward', 'AREA_CODE': 'LBW', 'NUMBER': 677, 'UNIT_ID': 11161, 'HECTARES': 44.328, 'DESCRIPT1': '                                    ', 'TYPE_CODE': 'VA', 'NUMBER0': 1287, 'SHAPENUM': 494, 'RINGNUM': 1, 'DESCRIPT0': 'CIVIL VOTING AREA'}\n",
      "{'TYPE_COD0': '   ', 'CODE': 'E05000648', 'NAME': 'Westbourne Ward', 'AREA': 0.0, 'POLYGON_ID': 50566, 'FILE_NAME': 'GREATER_LONDON_AUTHORITY', 'DESCRIPTIO': 'London Borough Ward', 'AREA_CODE': 'LBW', 'NUMBER': 682, 'UNIT_ID': 11354, 'HECTARES': 67.646, 'DESCRIPT1': '                                    ', 'TYPE_CODE': 'VA', 'NUMBER0': 1288, 'SHAPENUM': 495, 'RINGNUM': 1, 'DESCRIPT0': 'CIVIL VOTING AREA'}\n",
      "{'TYPE_COD0': '   ', 'CODE': 'E05000639', 'NAME': 'Little Venice Ward', 'AREA': 0.0, 'POLYGON_ID': 50568, 'FILE_NAME': 'GREATER_LONDON_AUTHORITY', 'DESCRIPTIO': 'London Borough Ward', 'AREA_CODE': 'LBW', 'NUMBER': 683, 'UNIT_ID': 11356, 'HECTARES': 63.733, 'DESCRIPT1': '                                    ', 'TYPE_CODE': 'VA', 'NUMBER0': 1289, 'SHAPENUM': 496, 'RINGNUM': 1, 'DESCRIPT0': 'CIVIL VOTING AREA'}\n",
      "{'TYPE_COD0': '   ', 'CODE': 'E05000640', 'NAME': 'Maida Vale Ward', 'AREA': 0.0, 'POLYGON_ID': 50639, 'FILE_NAME': 'GREATER_LONDON_AUTHORITY', 'DESCRIPTIO': 'London Borough Ward', 'AREA_CODE': 'LBW', 'NUMBER': 684, 'UNIT_ID': 11251, 'HECTARES': 64.615, 'DESCRIPT1': '                                    ', 'TYPE_CODE': 'VA', 'NUMBER0': 1290, 'SHAPENUM': 497, 'RINGNUM': 1, 'DESCRIPT0': 'CIVIL VOTING AREA'}\n",
      "{'TYPE_COD0': '   ', 'CODE': 'E05000634', 'NAME': 'Church Street Ward', 'AREA': 0.0, 'POLYGON_ID': 50567, 'FILE_NAME': 'GREATER_LONDON_AUTHORITY', 'DESCRIPTIO': 'London Borough Ward', 'AREA_CODE': 'LBW', 'NUMBER': 685, 'UNIT_ID': 11355, 'HECTARES': 44.269, 'DESCRIPT1': '                                    ', 'TYPE_CODE': 'VA', 'NUMBER0': 1291, 'SHAPENUM': 498, 'RINGNUM': 1, 'DESCRIPT0': 'CIVIL VOTING AREA'}\n",
      "{'TYPE_COD0': '   ', 'CODE': 'E05000144', 'NAME': 'Swiss Cottage Ward', 'AREA': 0.0, 'POLYGON_ID': 117288, 'FILE_NAME': 'GREATER_LONDON_AUTHORITY', 'DESCRIPTIO': 'London Borough Ward', 'AREA_CODE': 'LBW', 'NUMBER': 202, 'UNIT_ID': 11338, 'HECTARES': 125.671, 'DESCRIPT1': '                                    ', 'TYPE_CODE': 'VA', 'NUMBER0': 1294, 'SHAPENUM': 499, 'RINGNUM': 1, 'DESCRIPT0': 'CIVIL VOTING AREA'}\n",
      "{'TYPE_COD0': '   ', 'CODE': 'E05000137', 'NAME': 'Highgate Ward', 'AREA': 0.0, 'POLYGON_ID': 50573, 'FILE_NAME': 'GREATER_LONDON_AUTHORITY', 'DESCRIPTIO': 'London Borough Ward', 'AREA_CODE': 'LBW', 'NUMBER': 214, 'UNIT_ID': 11361, 'HECTARES': 323.926, 'DESCRIPT1': '                                    ', 'TYPE_CODE': 'VA', 'NUMBER0': 1295, 'SHAPENUM': 500, 'RINGNUM': 1, 'DESCRIPT0': 'CIVIL VOTING AREA'}\n",
      "{'TYPE_COD0': '   ', 'CODE': 'E05000140', 'NAME': 'Kilburn Ward', 'AREA': 0.0, 'POLYGON_ID': 117286, 'FILE_NAME': 'GREATER_LONDON_AUTHORITY', 'DESCRIPTIO': 'London Borough Ward', 'AREA_CODE': 'LBW', 'NUMBER': 501, 'UNIT_ID': 11339, 'HECTARES': 68.518, 'DESCRIPT1': '                                    ', 'TYPE_CODE': 'VA', 'NUMBER0': 1296, 'SHAPENUM': 501, 'RINGNUM': 1, 'DESCRIPT0': 'CIVIL VOTING AREA'}\n",
      "{'TYPE_COD0': '   ', 'CODE': 'E05000129', 'NAME': 'Bloomsbury Ward', 'AREA': 0.0, 'POLYGON_ID': 117296, 'FILE_NAME': 'GREATER_LONDON_AUTHORITY', 'DESCRIPTIO': 'London Borough Ward', 'AREA_CODE': 'LBW', 'NUMBER': 504, 'UNIT_ID': 11120, 'HECTARES': 102.091, 'DESCRIPT1': '                                    ', 'TYPE_CODE': 'VA', 'NUMBER0': 1297, 'SHAPENUM': 502, 'RINGNUM': 1, 'DESCRIPT0': 'CIVIL VOTING AREA'}\n",
      "{'TYPE_COD0': '   ', 'CODE': 'E05000138', 'NAME': 'Holborn and Covent Garden Ward', 'AREA': 0.0, 'POLYGON_ID': 117300, 'FILE_NAME': 'GREATER_LONDON_AUTHORITY', 'DESCRIPTIO': 'London Borough Ward', 'AREA_CODE': 'LBW', 'NUMBER': 505, 'UNIT_ID': 11117, 'HECTARES': 119.493, 'DESCRIPT1': '                                    ', 'TYPE_CODE': 'VA', 'NUMBER0': 1298, 'SHAPENUM': 503, 'RINGNUM': 1, 'DESCRIPT0': 'CIVIL VOTING AREA'}\n",
      "{'TYPE_COD0': '   ', 'CODE': 'E05000143', 'NAME': 'St. Pancras and Somers Town Ward', 'AREA': 0.0, 'POLYGON_ID': 117290, 'FILE_NAME': 'GREATER_LONDON_AUTHORITY', 'DESCRIPTIO': 'London Borough Ward', 'AREA_CODE': 'LBW', 'NUMBER': 507, 'UNIT_ID': 11277, 'HECTARES': 139.889, 'DESCRIPT1': '                                    ', 'TYPE_CODE': 'VA', 'NUMBER0': 1299, 'SHAPENUM': 504, 'RINGNUM': 1, 'DESCRIPT0': 'CIVIL VOTING AREA'}\n",
      "{'TYPE_COD0': '   ', 'CODE': 'E05000130', 'NAME': 'Camden Town with Primrose Hill Ward', 'AREA': 0.0, 'POLYGON_ID': 117297, 'FILE_NAME': 'GREATER_LONDON_AUTHORITY', 'DESCRIPTIO': 'London Borough Ward', 'AREA_CODE': 'LBW', 'NUMBER': 508, 'UNIT_ID': 11358, 'HECTARES': 116.615, 'DESCRIPT1': '                                    ', 'TYPE_CODE': 'VA', 'NUMBER0': 1300, 'SHAPENUM': 505, 'RINGNUM': 1, 'DESCRIPT0': 'CIVIL VOTING AREA'}\n",
      "{'TYPE_COD0': '   ', 'CODE': 'E05000131', 'NAME': 'Cantelowes Ward', 'AREA': 0.0, 'POLYGON_ID': 117299, 'FILE_NAME': 'GREATER_LONDON_AUTHORITY', 'DESCRIPTIO': 'London Borough Ward', 'AREA_CODE': 'LBW', 'NUMBER': 509, 'UNIT_ID': 11239, 'HECTARES': 75.933, 'DESCRIPT1': '                                    ', 'TYPE_CODE': 'VA', 'NUMBER0': 1301, 'SHAPENUM': 506, 'RINGNUM': 1, 'DESCRIPT0': 'CIVIL VOTING AREA'}\n",
      "{'TYPE_COD0': '   ', 'CODE': 'E05000141', 'NAME': \"King's Cross Ward\", 'AREA': 0.0, 'POLYGON_ID': 117301, 'FILE_NAME': 'GREATER_LONDON_AUTHORITY', 'DESCRIPTIO': 'London Borough Ward', 'AREA_CODE': 'LBW', 'NUMBER': 510, 'UNIT_ID': 11119, 'HECTARES': 61.138, 'DESCRIPT1': '                                    ', 'TYPE_CODE': 'VA', 'NUMBER0': 1302, 'SHAPENUM': 507, 'RINGNUM': 1, 'DESCRIPT0': 'CIVIL VOTING AREA'}\n",
      "{'TYPE_COD0': '   ', 'CODE': 'E05000132', 'NAME': 'Fortune Green Ward', 'AREA': 0.0, 'POLYGON_ID': 117295, 'FILE_NAME': 'GREATER_LONDON_AUTHORITY', 'DESCRIPTIO': 'London Borough Ward', 'AREA_CODE': 'LBW', 'NUMBER': 524, 'UNIT_ID': 11342, 'HECTARES': 100.652, 'DESCRIPT1': '                                    ', 'TYPE_CODE': 'VA', 'NUMBER0': 1303, 'SHAPENUM': 508, 'RINGNUM': 1, 'DESCRIPT0': 'CIVIL VOTING AREA'}\n",
      "{'TYPE_COD0': '   ', 'CODE': 'E05000133', 'NAME': 'Frognal and Fitzjohns Ward', 'AREA': 0.0, 'POLYGON_ID': 117293, 'FILE_NAME': 'GREATER_LONDON_AUTHORITY', 'DESCRIPTIO': 'London Borough Ward', 'AREA_CODE': 'LBW', 'NUMBER': 525, 'UNIT_ID': 11340, 'HECTARES': 153.023, 'DESCRIPT1': '                                    ', 'TYPE_CODE': 'VA', 'NUMBER0': 1304, 'SHAPENUM': 509, 'RINGNUM': 1, 'DESCRIPT0': 'CIVIL VOTING AREA'}\n",
      "{'TYPE_COD0': '   ', 'CODE': 'E05000134', 'NAME': 'Gospel Oak Ward', 'AREA': 0.0, 'POLYGON_ID': 117291, 'FILE_NAME': 'GREATER_LONDON_AUTHORITY', 'DESCRIPTIO': 'London Borough Ward', 'AREA_CODE': 'LBW', 'NUMBER': 526, 'UNIT_ID': 11246, 'HECTARES': 69.232, 'DESCRIPT1': '                                    ', 'TYPE_CODE': 'VA', 'NUMBER0': 1305, 'SHAPENUM': 510, 'RINGNUM': 1, 'DESCRIPT0': 'CIVIL VOTING AREA'}\n",
      "{'TYPE_COD0': '   ', 'CODE': 'E05000135', 'NAME': 'Hampstead Town Ward', 'AREA': 0.0, 'POLYGON_ID': 117294, 'FILE_NAME': 'GREATER_LONDON_AUTHORITY', 'DESCRIPTIO': 'London Borough Ward', 'AREA_CODE': 'LBW', 'NUMBER': 527, 'UNIT_ID': 11363, 'HECTARES': 244.939, 'DESCRIPT1': '                                    ', 'TYPE_CODE': 'VA', 'NUMBER0': 1306, 'SHAPENUM': 511, 'RINGNUM': 1, 'DESCRIPT0': 'CIVIL VOTING AREA'}\n",
      "{'TYPE_COD0': '   ', 'CODE': 'E05000139', 'NAME': 'Kentish Town Ward', 'AREA': 0.0, 'POLYGON_ID': 117292, 'FILE_NAME': 'GREATER_LONDON_AUTHORITY', 'DESCRIPTIO': 'London Borough Ward', 'AREA_CODE': 'LBW', 'NUMBER': 528, 'UNIT_ID': 11245, 'HECTARES': 102.895, 'DESCRIPT1': '                                    ', 'TYPE_CODE': 'VA', 'NUMBER0': 1307, 'SHAPENUM': 512, 'RINGNUM': 1, 'DESCRIPT0': 'CIVIL VOTING AREA'}\n",
      "{'TYPE_COD0': '   ', 'CODE': 'E05000145', 'NAME': 'West Hampstead Ward', 'AREA': 0.0, 'POLYGON_ID': 117287, 'FILE_NAME': 'GREATER_LONDON_AUTHORITY', 'DESCRIPTIO': 'London Borough Ward', 'AREA_CODE': 'LBW', 'NUMBER': 686, 'UNIT_ID': 11341, 'HECTARES': 88.729, 'DESCRIPT1': '                                    ', 'TYPE_CODE': 'VA', 'NUMBER0': 1308, 'SHAPENUM': 513, 'RINGNUM': 1, 'DESCRIPT0': 'CIVIL VOTING AREA'}\n",
      "{'TYPE_COD0': '   ', 'CODE': 'E05000128', 'NAME': 'Belsize Ward', 'AREA': 0.0, 'POLYGON_ID': 50576, 'FILE_NAME': 'GREATER_LONDON_AUTHORITY', 'DESCRIPTIO': 'London Borough Ward', 'AREA_CODE': 'LBW', 'NUMBER': 687, 'UNIT_ID': 11364, 'HECTARES': 78.057, 'DESCRIPT1': '                                    ', 'TYPE_CODE': 'VA', 'NUMBER0': 1309, 'SHAPENUM': 514, 'RINGNUM': 1, 'DESCRIPT0': 'CIVIL VOTING AREA'}\n",
      "{'TYPE_COD0': '   ', 'CODE': 'E05000136', 'NAME': 'Haverstock Ward', 'AREA': 0.0, 'POLYGON_ID': 117298, 'FILE_NAME': 'GREATER_LONDON_AUTHORITY', 'DESCRIPTIO': 'London Borough Ward', 'AREA_CODE': 'LBW', 'NUMBER': 688, 'UNIT_ID': 11247, 'HECTARES': 73.177, 'DESCRIPT1': '                                    ', 'TYPE_CODE': 'VA', 'NUMBER0': 1310, 'SHAPENUM': 515, 'RINGNUM': 1, 'DESCRIPT0': 'CIVIL VOTING AREA'}\n",
      "{'TYPE_COD0': '   ', 'CODE': 'E05000142', 'NAME': \"Regent's Park Ward\", 'AREA': 0.0, 'POLYGON_ID': 117289, 'FILE_NAME': 'GREATER_LONDON_AUTHORITY', 'DESCRIPTIO': 'London Borough Ward', 'AREA_CODE': 'LBW', 'NUMBER': 689, 'UNIT_ID': 11357, 'HECTARES': 134.956, 'DESCRIPT1': '                                    ', 'TYPE_CODE': 'VA', 'NUMBER0': 1311, 'SHAPENUM': 516, 'RINGNUM': 1, 'DESCRIPT0': 'CIVIL VOTING AREA'}\n",
      "{'TYPE_COD0': '   ', 'CODE': 'E05000583', 'NAME': 'Millwall Ward', 'AREA': 49.743, 'POLYGON_ID': 117257, 'FILE_NAME': 'GREATER_LONDON_AUTHORITY', 'DESCRIPTIO': 'London Borough Ward', 'AREA_CODE': 'LBW', 'NUMBER': 237, 'UNIT_ID': 11048, 'HECTARES': 245.818, 'DESCRIPT1': '                                    ', 'TYPE_CODE': 'VA', 'NUMBER0': 1314, 'SHAPENUM': 517, 'RINGNUM': 1, 'DESCRIPT0': 'CIVIL VOTING AREA'}\n",
      "{'TYPE_COD0': '   ', 'CODE': 'E05000575', 'NAME': 'Blackwall and Cubitt Town Ward', 'AREA': 72.369, 'POLYGON_ID': 117258, 'FILE_NAME': 'GREATER_LONDON_AUTHORITY', 'DESCRIPTIO': 'London Borough Ward', 'AREA_CODE': 'LBW', 'NUMBER': 238, 'UNIT_ID': 11174, 'HECTARES': 296.713, 'DESCRIPT1': '                                    ', 'TYPE_CODE': 'VA', 'NUMBER0': 1315, 'SHAPENUM': 518, 'RINGNUM': 1, 'DESCRIPT0': 'CIVIL VOTING AREA'}\n",
      "{'TYPE_COD0': '   ', 'CODE': 'E05000586', 'NAME': 'Shadwell Ward', 'AREA': 9.72, 'POLYGON_ID': 51234, 'FILE_NAME': 'GREATER_LONDON_AUTHORITY', 'DESCRIPTIO': 'London Borough Ward', 'AREA_CODE': 'LBW', 'NUMBER': 240, 'UNIT_ID': 10976, 'HECTARES': 96.225, 'DESCRIPT1': '                                    ', 'TYPE_CODE': 'VA', 'NUMBER0': 1316, 'SHAPENUM': 519, 'RINGNUM': 1, 'DESCRIPT0': 'CIVIL VOTING AREA'}\n",
      "{'TYPE_COD0': '   ', 'CODE': 'E05000585', 'NAME': \"St. Katharine's and Wapping Ward\", 'AREA': 36.301, 'POLYGON_ID': 51235, 'FILE_NAME': 'GREATER_LONDON_AUTHORITY', 'DESCRIPTIO': 'London Borough Ward', 'AREA_CODE': 'LBW', 'NUMBER': 552, 'UNIT_ID': 10977, 'HECTARES': 150.909, 'DESCRIPT1': '                                    ', 'TYPE_CODE': 'VA', 'NUMBER0': 1317, 'SHAPENUM': 520, 'RINGNUM': 1, 'DESCRIPT0': 'CIVIL VOTING AREA'}\n",
      "{'TYPE_COD0': '   ', 'CODE': 'E05000580', 'NAME': 'Limehouse Ward', 'AREA': 7.034, 'POLYGON_ID': 117259, 'FILE_NAME': 'GREATER_LONDON_AUTHORITY', 'DESCRIPTIO': 'London Borough Ward', 'AREA_CODE': 'LBW', 'NUMBER': 555, 'UNIT_ID': 10975, 'HECTARES': 114.284, 'DESCRIPT1': '                                    ', 'TYPE_CODE': 'VA', 'NUMBER0': 1318, 'SHAPENUM': 521, 'RINGNUM': 1, 'DESCRIPT0': 'CIVIL VOTING AREA'}\n",
      "{'TYPE_COD0': '   ', 'CODE': 'E05000574', 'NAME': 'Bethnal Green South Ward', 'AREA': 0.0, 'POLYGON_ID': 117260, 'FILE_NAME': 'GREATER_LONDON_AUTHORITY', 'DESCRIPTIO': 'London Borough Ward', 'AREA_CODE': 'LBW', 'NUMBER': 559, 'UNIT_ID': 11189, 'HECTARES': 88.187, 'DESCRIPT1': '                                    ', 'TYPE_CODE': 'VA', 'NUMBER0': 1319, 'SHAPENUM': 522, 'RINGNUM': 1, 'DESCRIPT0': 'CIVIL VOTING AREA'}\n",
      "{'TYPE_COD0': '   ', 'CODE': 'E05000581', 'NAME': 'Mile End and Globe Town Ward', 'AREA': 0.0, 'POLYGON_ID': 50748, 'FILE_NAME': 'GREATER_LONDON_AUTHORITY', 'DESCRIPTIO': 'London Borough Ward', 'AREA_CODE': 'LBW', 'NUMBER': 560, 'UNIT_ID': 11187, 'HECTARES': 90.039, 'DESCRIPT1': '                                    ', 'TYPE_CODE': 'VA', 'NUMBER0': 1320, 'SHAPENUM': 523, 'RINGNUM': 1, 'DESCRIPT0': 'CIVIL VOTING AREA'}\n",
      "{'TYPE_COD0': '   ', 'CODE': 'E05000573', 'NAME': 'Bethnal Green North Ward', 'AREA': 0.0, 'POLYGON_ID': 117261, 'FILE_NAME': 'GREATER_LONDON_AUTHORITY', 'DESCRIPTIO': 'London Borough Ward', 'AREA_CODE': 'LBW', 'NUMBER': 564, 'UNIT_ID': 41879, 'HECTARES': 82.534, 'DESCRIPT1': '                                    ', 'TYPE_CODE': 'VA', 'NUMBER0': 1321, 'SHAPENUM': 524, 'RINGNUM': 1, 'DESCRIPT0': 'CIVIL VOTING AREA'}\n",
      "{'TYPE_COD0': '   ', 'CODE': 'E05000584', 'NAME': \"St. Dunstan's and Stepney Green Ward\", 'AREA': 0.0, 'POLYGON_ID': 117264, 'FILE_NAME': 'GREATER_LONDON_AUTHORITY', 'DESCRIPTIO': 'London Borough Ward', 'AREA_CODE': 'LBW', 'NUMBER': 566, 'UNIT_ID': 11186, 'HECTARES': 101.848, 'DESCRIPT1': '                                    ', 'TYPE_CODE': 'VA', 'NUMBER0': 1322, 'SHAPENUM': 525, 'RINGNUM': 1, 'DESCRIPT0': 'CIVIL VOTING AREA'}\n",
      "{'TYPE_COD0': '   ', 'CODE': 'E05000582', 'NAME': 'Mile End East Ward', 'AREA': 0.0, 'POLYGON_ID': 50745, 'FILE_NAME': 'GREATER_LONDON_AUTHORITY', 'DESCRIPTIO': 'London Borough Ward', 'AREA_CODE': 'LBW', 'NUMBER': 567, 'UNIT_ID': 11184, 'HECTARES': 107.133, 'DESCRIPT1': '                                    ', 'TYPE_CODE': 'VA', 'NUMBER0': 1323, 'SHAPENUM': 526, 'RINGNUM': 1, 'DESCRIPT0': 'CIVIL VOTING AREA'}\n",
      "{'TYPE_COD0': '   ', 'CODE': 'E05000579', 'NAME': 'East India and Lansbury Ward', 'AREA': 4.54, 'POLYGON_ID': 117265, 'FILE_NAME': 'GREATER_LONDON_AUTHORITY', 'DESCRIPTIO': 'London Borough Ward', 'AREA_CODE': 'LBW', 'NUMBER': 568, 'UNIT_ID': 11175, 'HECTARES': 122.341, 'DESCRIPT1': '                                    ', 'TYPE_CODE': 'VA', 'NUMBER0': 1324, 'SHAPENUM': 527, 'RINGNUM': 1, 'DESCRIPT0': 'CIVIL VOTING AREA'}\n",
      "{'TYPE_COD0': '   ', 'CODE': 'E05000578', 'NAME': 'Bromley-by-Bow Ward', 'AREA': 0.0, 'POLYGON_ID': 117266, 'FILE_NAME': 'GREATER_LONDON_AUTHORITY', 'DESCRIPTIO': 'London Borough Ward', 'AREA_CODE': 'LBW', 'NUMBER': 569, 'UNIT_ID': 10974, 'HECTARES': 107.073, 'DESCRIPT1': '                                    ', 'TYPE_CODE': 'VA', 'NUMBER0': 1325, 'SHAPENUM': 528, 'RINGNUM': 1, 'DESCRIPT0': 'CIVIL VOTING AREA'}\n",
      "{'TYPE_COD0': '   ', 'CODE': 'E05000577', 'NAME': 'Bow West Ward', 'AREA': 0.0, 'POLYGON_ID': 117262, 'FILE_NAME': 'GREATER_LONDON_AUTHORITY', 'DESCRIPTIO': 'London Borough Ward', 'AREA_CODE': 'LBW', 'NUMBER': 570, 'UNIT_ID': 11183, 'HECTARES': 134.293, 'DESCRIPT1': '                                    ', 'TYPE_CODE': 'VA', 'NUMBER0': 1326, 'SHAPENUM': 529, 'RINGNUM': 1, 'DESCRIPT0': 'CIVIL VOTING AREA'}\n",
      "{'TYPE_COD0': '   ', 'CODE': 'E05000576', 'NAME': 'Bow East Ward', 'AREA': 0.0, 'POLYGON_ID': 117263, 'FILE_NAME': 'GREATER_LONDON_AUTHORITY', 'DESCRIPTIO': 'London Borough Ward', 'AREA_CODE': 'LBW', 'NUMBER': 571, 'UNIT_ID': 11181, 'HECTARES': 186.61, 'DESCRIPT1': '                                    ', 'TYPE_CODE': 'VA', 'NUMBER0': 1327, 'SHAPENUM': 530, 'RINGNUM': 1, 'DESCRIPT0': 'CIVIL VOTING AREA'}\n",
      "{'TYPE_COD0': '   ', 'CODE': 'E05000589', 'NAME': 'Whitechapel Ward', 'AREA': 0.0, 'POLYGON_ID': 50753, 'FILE_NAME': 'GREATER_LONDON_AUTHORITY', 'DESCRIPTIO': 'London Borough Ward', 'AREA_CODE': 'LBW', 'NUMBER': 699, 'UNIT_ID': 11192, 'HECTARES': 92.147, 'DESCRIPT1': '                                    ', 'TYPE_CODE': 'VA', 'NUMBER0': 1328, 'SHAPENUM': 531, 'RINGNUM': 1, 'DESCRIPT0': 'CIVIL VOTING AREA'}\n",
      "{'TYPE_COD0': '   ', 'CODE': 'E05000587', 'NAME': 'Spitalfields and Banglatown Ward', 'AREA': 0.0, 'POLYGON_ID': 50754, 'FILE_NAME': 'GREATER_LONDON_AUTHORITY', 'DESCRIPTIO': 'London Borough Ward', 'AREA_CODE': 'LBW', 'NUMBER': 701, 'UNIT_ID': 11193, 'HECTARES': 63.773, 'DESCRIPT1': '                                    ', 'TYPE_CODE': 'VA', 'NUMBER0': 1329, 'SHAPENUM': 532, 'RINGNUM': 1, 'DESCRIPT0': 'CIVIL VOTING AREA'}\n",
      "{'TYPE_COD0': '   ', 'CODE': 'E05000588', 'NAME': 'Weavers Ward', 'AREA': 0.0, 'POLYGON_ID': 50811, 'FILE_NAME': 'GREATER_LONDON_AUTHORITY', 'DESCRIPTIO': 'London Borough Ward', 'AREA_CODE': 'LBW', 'NUMBER': 703, 'UNIT_ID': 10855, 'HECTARES': 77.575, 'DESCRIPT1': '                                    ', 'TYPE_CODE': 'VA', 'NUMBER0': 1330, 'SHAPENUM': 533, 'RINGNUM': 1, 'DESCRIPT0': 'CIVIL VOTING AREA'}\n",
      "{'TYPE_COD0': '   ', 'CODE': 'E05000370', 'NAME': 'Clerkenwell Ward', 'AREA': 0.0, 'POLYGON_ID': 50755, 'FILE_NAME': 'GREATER_LONDON_AUTHORITY', 'DESCRIPTIO': 'London Borough Ward', 'AREA_CODE': 'LBW', 'NUMBER': 506, 'UNIT_ID': 11107, 'HECTARES': 93.263, 'DESCRIPT1': '                                    ', 'TYPE_CODE': 'VA', 'NUMBER0': 1333, 'SHAPENUM': 534, 'RINGNUM': 1, 'DESCRIPT0': 'CIVIL VOTING AREA'}\n",
      "{'TYPE_COD0': '   ', 'CODE': 'E05000368', 'NAME': 'Caledonian Ward', 'AREA': 0.0, 'POLYGON_ID': 50626, 'FILE_NAME': 'GREATER_LONDON_AUTHORITY', 'DESCRIPTIO': 'London Borough Ward', 'AREA_CODE': 'LBW', 'NUMBER': 511, 'UNIT_ID': 11238, 'HECTARES': 113.611, 'DESCRIPT1': '                                    ', 'TYPE_CODE': 'VA', 'NUMBER0': 1334, 'SHAPENUM': 535, 'RINGNUM': 1, 'DESCRIPT0': 'CIVIL VOTING AREA'}\n",
      "{'TYPE_COD0': '   ', 'CODE': 'E05000379', 'NAME': \"St. Mary's Ward\", 'AREA': 0.0, 'POLYGON_ID': 50761, 'FILE_NAME': 'GREATER_LONDON_AUTHORITY', 'DESCRIPTIO': 'London Borough Ward', 'AREA_CODE': 'LBW', 'NUMBER': 512, 'UNIT_ID': 11113, 'HECTARES': 86.831, 'DESCRIPT1': '                                    ', 'TYPE_CODE': 'VA', 'NUMBER0': 1335, 'SHAPENUM': 536, 'RINGNUM': 1, 'DESCRIPT0': 'CIVIL VOTING AREA'}\n",
      "{'TYPE_COD0': '   ', 'CODE': 'E05000375', 'NAME': 'Holloway Ward', 'AREA': 0.0, 'POLYGON_ID': 117408, 'FILE_NAME': 'GREATER_LONDON_AUTHORITY', 'DESCRIPTIO': 'London Borough Ward', 'AREA_CODE': 'LBW', 'NUMBER': 529, 'UNIT_ID': 11240, 'HECTARES': 100.874, 'DESCRIPT1': '                                    ', 'TYPE_CODE': 'VA', 'NUMBER0': 1336, 'SHAPENUM': 537, 'RINGNUM': 1, 'DESCRIPT0': 'CIVIL VOTING AREA'}\n",
      "{'TYPE_COD0': '   ', 'CODE': 'E05000372', 'NAME': 'Highbury East Ward', 'AREA': 0.0, 'POLYGON_ID': 50667, 'FILE_NAME': 'GREATER_LONDON_AUTHORITY', 'DESCRIPTIO': 'London Borough Ward', 'AREA_CODE': 'LBW', 'NUMBER': 530, 'UNIT_ID': 11279, 'HECTARES': 100.809, 'DESCRIPT1': '                                    ', 'TYPE_CODE': 'VA', 'NUMBER0': 1337, 'SHAPENUM': 538, 'RINGNUM': 1, 'DESCRIPT0': 'CIVIL VOTING AREA'}\n",
      "{'TYPE_COD0': '   ', 'CODE': 'E05000373', 'NAME': 'Highbury West Ward', 'AREA': 0.0, 'POLYGON_ID': 117409, 'FILE_NAME': 'GREATER_LONDON_AUTHORITY', 'DESCRIPTIO': 'London Borough Ward', 'AREA_CODE': 'LBW', 'NUMBER': 531, 'UNIT_ID': 11287, 'HECTARES': 108.254, 'DESCRIPT1': '                                    ', 'TYPE_CODE': 'VA', 'NUMBER0': 1338, 'SHAPENUM': 539, 'RINGNUM': 1, 'DESCRIPT0': 'CIVIL VOTING AREA'}\n",
      "{'TYPE_COD0': '   ', 'CODE': 'E05000381', 'NAME': 'Tollington Ward', 'AREA': 0.0, 'POLYGON_ID': 117405, 'FILE_NAME': 'GREATER_LONDON_AUTHORITY', 'DESCRIPTIO': 'London Borough Ward', 'AREA_CODE': 'LBW', 'NUMBER': 533, 'UNIT_ID': 11284, 'HECTARES': 84.866, 'DESCRIPT1': '                                    ', 'TYPE_CODE': 'VA', 'NUMBER0': 1339, 'SHAPENUM': 540, 'RINGNUM': 1, 'DESCRIPT0': 'CIVIL VOTING AREA'}\n",
      "{'TYPE_COD0': '   ', 'CODE': 'E05000367', 'NAME': 'Bunhill Ward', 'AREA': 0.0, 'POLYGON_ID': 50812, 'FILE_NAME': 'GREATER_LONDON_AUTHORITY', 'DESCRIPTIO': 'London Borough Ward', 'AREA_CODE': 'LBW', 'NUMBER': 558, 'UNIT_ID': 10856, 'HECTARES': 108.263, 'DESCRIPT1': '                                    ', 'TYPE_CODE': 'VA', 'NUMBER0': 1340, 'SHAPENUM': 541, 'RINGNUM': 1, 'DESCRIPT0': 'CIVIL VOTING AREA'}\n",
      "{'TYPE_COD0': '   ', 'CODE': 'E05000380', 'NAME': \"St. Peter's Ward\", 'AREA': 0.0, 'POLYGON_ID': 50762, 'FILE_NAME': 'GREATER_LONDON_AUTHORITY', 'DESCRIPTIO': 'London Borough Ward', 'AREA_CODE': 'LBW', 'NUMBER': 561, 'UNIT_ID': 11114, 'HECTARES': 81.053, 'DESCRIPT1': '                                    ', 'TYPE_CODE': 'VA', 'NUMBER0': 1341, 'SHAPENUM': 542, 'RINGNUM': 1, 'DESCRIPT0': 'CIVIL VOTING AREA'}\n",
      "{'TYPE_COD0': '   ', 'CODE': 'E05000369', 'NAME': 'Canonbury Ward', 'AREA': 0.0, 'POLYGON_ID': 117407, 'FILE_NAME': 'GREATER_LONDON_AUTHORITY', 'DESCRIPTIO': 'London Borough Ward', 'AREA_CODE': 'LBW', 'NUMBER': 562, 'UNIT_ID': 11280, 'HECTARES': 80.72, 'DESCRIPT1': '                                    ', 'TYPE_CODE': 'VA', 'NUMBER0': 1342, 'SHAPENUM': 543, 'RINGNUM': 1, 'DESCRIPT0': 'CIVIL VOTING AREA'}\n",
      "{'TYPE_COD0': '   ', 'CODE': 'E05000366', 'NAME': 'Barnsbury Ward', 'AREA': 0.0, 'POLYGON_ID': 50763, 'FILE_NAME': 'GREATER_LONDON_AUTHORITY', 'DESCRIPTIO': 'London Borough Ward', 'AREA_CODE': 'LBW', 'NUMBER': 691, 'UNIT_ID': 11115, 'HECTARES': 83.012, 'DESCRIPT1': '                                    ', 'TYPE_CODE': 'VA', 'NUMBER0': 1343, 'SHAPENUM': 544, 'RINGNUM': 1, 'DESCRIPT0': 'CIVIL VOTING AREA'}\n",
      "{'TYPE_COD0': '   ', 'CODE': 'E05000378', 'NAME': \"St. George's Ward\", 'AREA': 0.0, 'POLYGON_ID': 50625, 'FILE_NAME': 'GREATER_LONDON_AUTHORITY', 'DESCRIPTIO': 'London Borough Ward', 'AREA_CODE': 'LBW', 'NUMBER': 692, 'UNIT_ID': 11237, 'HECTARES': 84.582, 'DESCRIPT1': '                                    ', 'TYPE_CODE': 'VA', 'NUMBER0': 1344, 'SHAPENUM': 545, 'RINGNUM': 1, 'DESCRIPT0': 'CIVIL VOTING AREA'}\n",
      "{'TYPE_COD0': '   ', 'CODE': 'E05000376', 'NAME': 'Junction Ward', 'AREA': 0.0, 'POLYGON_ID': 50586, 'FILE_NAME': 'GREATER_LONDON_AUTHORITY', 'DESCRIPTIO': 'London Borough Ward', 'AREA_CODE': 'LBW', 'NUMBER': 693, 'UNIT_ID': 11286, 'HECTARES': 102.75, 'DESCRIPT1': '                                    ', 'TYPE_CODE': 'VA', 'NUMBER0': 1345, 'SHAPENUM': 546, 'RINGNUM': 1, 'DESCRIPT0': 'CIVIL VOTING AREA'}\n",
      "{'TYPE_COD0': '   ', 'CODE': 'E05000371', 'NAME': 'Finsbury Park Ward', 'AREA': 0.0, 'POLYGON_ID': 117410, 'FILE_NAME': 'GREATER_LONDON_AUTHORITY', 'DESCRIPTIO': 'London Borough Ward', 'AREA_CODE': 'LBW', 'NUMBER': 694, 'UNIT_ID': 41899, 'HECTARES': 91.626, 'DESCRIPT1': '                                    ', 'TYPE_CODE': 'VA', 'NUMBER0': 1346, 'SHAPENUM': 547, 'RINGNUM': 1, 'DESCRIPT0': 'CIVIL VOTING AREA'}\n",
      "{'TYPE_COD0': '   ', 'CODE': 'E05000374', 'NAME': 'Hillrise Ward', 'AREA': 0.0, 'POLYGON_ID': 117406, 'FILE_NAME': 'GREATER_LONDON_AUTHORITY', 'DESCRIPTIO': 'London Borough Ward', 'AREA_CODE': 'LBW', 'NUMBER': 695, 'UNIT_ID': 11236, 'HECTARES': 82.471, 'DESCRIPT1': '                                    ', 'TYPE_CODE': 'VA', 'NUMBER0': 1347, 'SHAPENUM': 548, 'RINGNUM': 1, 'DESCRIPT0': 'CIVIL VOTING AREA'}\n",
      "{'TYPE_COD0': '   ', 'CODE': 'E05000377', 'NAME': 'Mildmay Ward', 'AREA': 0.0, 'POLYGON_ID': 50699, 'FILE_NAME': 'GREATER_LONDON_AUTHORITY', 'DESCRIPTIO': 'London Borough Ward', 'AREA_CODE': 'LBW', 'NUMBER': 704, 'UNIT_ID': 11224, 'HECTARES': 82.68, 'DESCRIPT1': '                                    ', 'TYPE_CODE': 'VA', 'NUMBER0': 1348, 'SHAPENUM': 549, 'RINGNUM': 1, 'DESCRIPT0': 'CIVIL VOTING AREA'}\n",
      "{'TYPE_COD0': '   ', 'CODE': 'E05000239', 'NAME': 'Haggerston Ward', 'AREA': 0.0, 'POLYGON_ID': 117332, 'FILE_NAME': 'GREATER_LONDON_AUTHORITY', 'DESCRIPTIO': 'London Borough Ward', 'AREA_CODE': 'LBW', 'NUMBER': 241, 'UNIT_ID': 11110, 'HECTARES': 124.25, 'DESCRIPT1': '                                    ', 'TYPE_CODE': 'VA', 'NUMBER0': 1351, 'SHAPENUM': 550, 'RINGNUM': 1, 'DESCRIPT0': 'CIVIL VOTING AREA'}\n",
      "{'TYPE_COD0': '   ', 'CODE': 'E05000231', 'NAME': 'Brownswood Ward', 'AREA': 0.0, 'POLYGON_ID': 50583, 'FILE_NAME': 'GREATER_LONDON_AUTHORITY', 'DESCRIPTIO': 'London Borough Ward', 'AREA_CODE': 'LBW', 'NUMBER': 534, 'UNIT_ID': 11283, 'HECTARES': 83.855, 'DESCRIPT1': '                                    ', 'TYPE_CODE': 'VA', 'NUMBER0': 1352, 'SHAPENUM': 551, 'RINGNUM': 1, 'DESCRIPT0': 'CIVIL VOTING AREA'}\n",
      "{'TYPE_COD0': '   ', 'CODE': 'E05000236', 'NAME': 'De Beauvoir Ward', 'AREA': 0.0, 'POLYGON_ID': 50759, 'FILE_NAME': 'GREATER_LONDON_AUTHORITY', 'DESCRIPTIO': 'London Borough Ward', 'AREA_CODE': 'LBW', 'NUMBER': 563, 'UNIT_ID': 11111, 'HECTARES': 88.783, 'DESCRIPT1': '                                    ', 'TYPE_CODE': 'VA', 'NUMBER0': 1353, 'SHAPENUM': 552, 'RINGNUM': 1, 'DESCRIPT0': 'CIVIL VOTING AREA'}\n",
      "{'TYPE_COD0': '   ', 'CODE': 'E05000245', 'NAME': 'Queensbridge Ward', 'AREA': 0.0, 'POLYGON_ID': 50810, 'FILE_NAME': 'GREATER_LONDON_AUTHORITY', 'DESCRIPTIO': 'London Borough Ward', 'AREA_CODE': 'LBW', 'NUMBER': 565, 'UNIT_ID': 10854, 'HECTARES': 107.974, 'DESCRIPT1': '                                    ', 'TYPE_CODE': 'VA', 'NUMBER0': 1354, 'SHAPENUM': 553, 'RINGNUM': 1, 'DESCRIPT0': 'CIVIL VOTING AREA'}\n",
      "{'TYPE_COD0': '   ', 'CODE': 'E05000249', 'NAME': 'Wick Ward', 'AREA': 0.0, 'POLYGON_ID': 50741, 'FILE_NAME': 'GREATER_LONDON_AUTHORITY', 'DESCRIPTIO': 'London Borough Ward', 'AREA_CODE': 'LBW', 'NUMBER': 572, 'UNIT_ID': 11180, 'HECTARES': 162.744, 'DESCRIPT1': '                                    ', 'TYPE_CODE': 'VA', 'NUMBER0': 1355, 'SHAPENUM': 554, 'RINGNUM': 1, 'DESCRIPT0': 'CIVIL VOTING AREA'}\n",
      "{'TYPE_COD0': '   ', 'CODE': 'E05000235', 'NAME': 'Dalston Ward', 'AREA': 0.0, 'POLYGON_ID': 117336, 'FILE_NAME': 'GREATER_LONDON_AUTHORITY', 'DESCRIPTIO': 'London Borough Ward', 'AREA_CODE': 'LBW', 'NUMBER': 594, 'UNIT_ID': 11208, 'HECTARES': 92.658, 'DESCRIPT1': '                                    ', 'TYPE_CODE': 'VA', 'NUMBER0': 1356, 'SHAPENUM': 555, 'RINGNUM': 1, 'DESCRIPT0': 'CIVIL VOTING AREA'}\n",
      "{'TYPE_COD0': '   ', 'CODE': 'E05000247', 'NAME': 'Stoke Newington Central Ward', 'AREA': 0.0, 'POLYGON_ID': 117340, 'FILE_NAME': 'GREATER_LONDON_AUTHORITY', 'DESCRIPTIO': 'London Borough Ward', 'AREA_CODE': 'LBW', 'NUMBER': 595, 'UNIT_ID': 11207, 'HECTARES': 71.192, 'DESCRIPT1': '                                    ', 'TYPE_CODE': 'VA', 'NUMBER0': 1357, 'SHAPENUM': 556, 'RINGNUM': 1, 'DESCRIPT0': 'CIVIL VOTING AREA'}\n",
      "{'TYPE_COD0': '   ', 'CODE': 'E05000238', 'NAME': 'Hackney Downs Ward', 'AREA': 0.0, 'POLYGON_ID': 117342, 'FILE_NAME': 'GREATER_LONDON_AUTHORITY', 'DESCRIPTIO': 'London Borough Ward', 'AREA_CODE': 'LBW', 'NUMBER': 596, 'UNIT_ID': 11200, 'HECTARES': 101.805, 'DESCRIPT1': '                                    ', 'TYPE_CODE': 'VA', 'NUMBER0': 1358, 'SHAPENUM': 557, 'RINGNUM': 1, 'DESCRIPT0': 'CIVIL VOTING AREA'}\n",
      "{'TYPE_COD0': '   ', 'CODE': 'E05000242', 'NAME': 'Leabridge Ward', 'AREA': 0.0, 'POLYGON_ID': 50675, 'FILE_NAME': 'GREATER_LONDON_AUTHORITY', 'DESCRIPTIO': 'London Borough Ward', 'AREA_CODE': 'LBW', 'NUMBER': 597, 'UNIT_ID': 11201, 'HECTARES': 106.363, 'DESCRIPT1': '                                    ', 'TYPE_CODE': 'VA', 'NUMBER0': 1359, 'SHAPENUM': 558, 'RINGNUM': 1, 'DESCRIPT0': 'CIVIL VOTING AREA'}\n",
      "{'TYPE_COD0': '   ', 'CODE': 'E05000244', 'NAME': 'New River Ward', 'AREA': 0.0, 'POLYGON_ID': 117333, 'FILE_NAME': 'GREATER_LONDON_AUTHORITY', 'DESCRIPTIO': 'London Borough Ward', 'AREA_CODE': 'LBW', 'NUMBER': 599, 'UNIT_ID': 11206, 'HECTARES': 97.798, 'DESCRIPT1': '                                    ', 'TYPE_CODE': 'VA', 'NUMBER0': 1360, 'SHAPENUM': 559, 'RINGNUM': 1, 'DESCRIPT0': 'CIVIL VOTING AREA'}\n",
      "{'TYPE_COD0': '   ', 'CODE': 'E05000232', 'NAME': 'Cazenove Ward', 'AREA': 0.0, 'POLYGON_ID': 117343, 'FILE_NAME': 'GREATER_LONDON_AUTHORITY', 'DESCRIPTIO': 'London Borough Ward', 'AREA_CODE': 'LBW', 'NUMBER': 601, 'UNIT_ID': 11220, 'HECTARES': 68.462, 'DESCRIPT1': '                                    ', 'TYPE_CODE': 'VA', 'NUMBER0': 1361, 'SHAPENUM': 560, 'RINGNUM': 1, 'DESCRIPT0': 'CIVIL VOTING AREA'}\n",
      "{'TYPE_COD0': '   ', 'CODE': 'E05000241', 'NAME': \"King's Park Ward\", 'AREA': 0.0, 'POLYGON_ID': 117334, 'FILE_NAME': 'GREATER_LONDON_AUTHORITY', 'DESCRIPTIO': 'London Borough Ward', 'AREA_CODE': 'LBW', 'NUMBER': 602, 'UNIT_ID': 11210, 'HECTARES': 181.956, 'DESCRIPT1': '                                    ', 'TYPE_CODE': 'VA', 'NUMBER0': 1362, 'SHAPENUM': 561, 'RINGNUM': 1, 'DESCRIPT0': 'CIVIL VOTING AREA'}\n",
      "{'TYPE_COD0': '   ', 'CODE': 'E05000240', 'NAME': 'Hoxton Ward', 'AREA': 0.0, 'POLYGON_ID': 117335, 'FILE_NAME': 'GREATER_LONDON_AUTHORITY', 'DESCRIPTIO': 'London Borough Ward', 'AREA_CODE': 'LBW', 'NUMBER': 702, 'UNIT_ID': 11112, 'HECTARES': 83.96, 'DESCRIPT1': '                                    ', 'TYPE_CODE': 'VA', 'NUMBER0': 1363, 'SHAPENUM': 562, 'RINGNUM': 1, 'DESCRIPT0': 'CIVIL VOTING AREA'}\n",
      "{'TYPE_COD0': '   ', 'CODE': 'E05000248', 'NAME': 'Victoria Ward', 'AREA': 0.0, 'POLYGON_ID': 50751, 'FILE_NAME': 'GREATER_LONDON_AUTHORITY', 'DESCRIPTIO': 'London Borough Ward', 'AREA_CODE': 'LBW', 'NUMBER': 705, 'UNIT_ID': 11190, 'HECTARES': 80.221, 'DESCRIPT1': '                                    ', 'TYPE_CODE': 'VA', 'NUMBER0': 1364, 'SHAPENUM': 563, 'RINGNUM': 1, 'DESCRIPT0': 'CIVIL VOTING AREA'}\n",
      "{'TYPE_COD0': '   ', 'CODE': 'E05000237', 'NAME': 'Hackney Central Ward', 'AREA': 0.0, 'POLYGON_ID': 117337, 'FILE_NAME': 'GREATER_LONDON_AUTHORITY', 'DESCRIPTIO': 'London Borough Ward', 'AREA_CODE': 'LBW', 'NUMBER': 706, 'UNIT_ID': 41886, 'HECTARES': 78.031, 'DESCRIPT1': '                                    ', 'TYPE_CODE': 'VA', 'NUMBER0': 1365, 'SHAPENUM': 564, 'RINGNUM': 1, 'DESCRIPT0': 'CIVIL VOTING AREA'}\n",
      "{'TYPE_COD0': '   ', 'CODE': 'E05000233', 'NAME': 'Chatham Ward', 'AREA': 0.0, 'POLYGON_ID': 117338, 'FILE_NAME': 'GREATER_LONDON_AUTHORITY', 'DESCRIPTIO': 'London Borough Ward', 'AREA_CODE': 'LBW', 'NUMBER': 707, 'UNIT_ID': 11198, 'HECTARES': 90.75, 'DESCRIPT1': '                                    ', 'TYPE_CODE': 'VA', 'NUMBER0': 1366, 'SHAPENUM': 565, 'RINGNUM': 1, 'DESCRIPT0': 'CIVIL VOTING AREA'}\n",
      "{'TYPE_COD0': '   ', 'CODE': 'E05000234', 'NAME': 'Clissold Ward', 'AREA': 0.0, 'POLYGON_ID': 117339, 'FILE_NAME': 'GREATER_LONDON_AUTHORITY', 'DESCRIPTIO': 'London Borough Ward', 'AREA_CODE': 'LBW', 'NUMBER': 708, 'UNIT_ID': 11222, 'HECTARES': 70.044, 'DESCRIPT1': '                                    ', 'TYPE_CODE': 'VA', 'NUMBER0': 1367, 'SHAPENUM': 566, 'RINGNUM': 1, 'DESCRIPT0': 'CIVIL VOTING AREA'}\n",
      "{'TYPE_COD0': '   ', 'CODE': 'E05000243', 'NAME': 'Lordship Ward', 'AREA': 0.0, 'POLYGON_ID': 117341, 'FILE_NAME': 'GREATER_LONDON_AUTHORITY', 'DESCRIPTIO': 'London Borough Ward', 'AREA_CODE': 'LBW', 'NUMBER': 709, 'UNIT_ID': 11288, 'HECTARES': 118.804, 'DESCRIPT1': '                                    ', 'TYPE_CODE': 'VA', 'NUMBER0': 1368, 'SHAPENUM': 567, 'RINGNUM': 1, 'DESCRIPT0': 'CIVIL VOTING AREA'}\n",
      "{'TYPE_COD0': '   ', 'CODE': 'E05000246', 'NAME': 'Springfield Ward', 'AREA': 0.0, 'POLYGON_ID': 50676, 'FILE_NAME': 'GREATER_LONDON_AUTHORITY', 'DESCRIPTIO': 'London Borough Ward', 'AREA_CODE': 'LBW', 'NUMBER': 710, 'UNIT_ID': 11202, 'HECTARES': 95.256, 'DESCRIPT1': '                                    ', 'TYPE_CODE': 'VA', 'NUMBER0': 1369, 'SHAPENUM': 568, 'RINGNUM': 1, 'DESCRIPT0': 'CIVIL VOTING AREA'}\n",
      "{'TYPE_COD0': '   ', 'CODE': 'E05000272', 'NAME': 'Highgate Ward', 'AREA': 0.0, 'POLYGON_ID': 117131, 'FILE_NAME': 'GREATER_LONDON_AUTHORITY', 'DESCRIPTIO': 'London Borough Ward', 'AREA_CODE': 'LBW', 'NUMBER': 217, 'UNIT_ID': 11235, 'HECTARES': 249.482, 'DESCRIPT1': '                                    ', 'TYPE_CODE': 'VA', 'NUMBER0': 1372, 'SHAPENUM': 569, 'RINGNUM': 1, 'DESCRIPT0': 'CIVIL VOTING AREA'}\n",
      "{'TYPE_COD0': '   ', 'CODE': 'E05000271', 'NAME': 'Harringay Ward', 'AREA': 0.0, 'POLYGON_ID': 117132, 'FILE_NAME': 'GREATER_LONDON_AUTHORITY', 'DESCRIPTIO': 'London Borough Ward', 'AREA_CODE': 'LBW', 'NUMBER': 218, 'UNIT_ID': 11229, 'HECTARES': 156.609, 'DESCRIPT1': '                                    ', 'TYPE_CODE': 'VA', 'NUMBER0': 1373, 'SHAPENUM': 570, 'RINGNUM': 1, 'DESCRIPT0': 'CIVIL VOTING AREA'}\n",
      "{'TYPE_COD0': '   ', 'CODE': 'E05000270', 'NAME': 'Fortis Green Ward', 'AREA': 0.0, 'POLYGON_ID': 119323, 'FILE_NAME': 'GREATER_LONDON_AUTHORITY', 'DESCRIPTIO': 'London Borough Ward', 'AREA_CODE': 'LBW', 'NUMBER': 220, 'UNIT_ID': 11369, 'HECTARES': 199.071, 'DESCRIPT1': '                                    ', 'TYPE_CODE': 'VA', 'NUMBER0': 1374, 'SHAPENUM': 571, 'RINGNUM': 1, 'DESCRIPT0': 'CIVIL VOTING AREA'}\n",
      "{'TYPE_COD0': '   ', 'CODE': 'E05000267', 'NAME': 'Bounds Green Ward', 'AREA': 0.0, 'POLYGON_ID': 50494, 'FILE_NAME': 'GREATER_LONDON_AUTHORITY', 'DESCRIPTIO': 'London Borough Ward', 'AREA_CODE': 'LBW', 'NUMBER': 221, 'UNIT_ID': 11370, 'HECTARES': 138.624, 'DESCRIPT1': '                                    ', 'TYPE_CODE': 'VA', 'NUMBER0': 1375, 'SHAPENUM': 572, 'RINGNUM': 1, 'DESCRIPT0': 'CIVIL VOTING AREA'}\n",
      "{'TYPE_COD0': '   ', 'CODE': 'E05000269', 'NAME': 'Crouch End Ward', 'AREA': 0.0, 'POLYGON_ID': 117135, 'FILE_NAME': 'GREATER_LONDON_AUTHORITY', 'DESCRIPTIO': 'London Borough Ward', 'AREA_CODE': 'LBW', 'NUMBER': 532, 'UNIT_ID': 11232, 'HECTARES': 144.04, 'DESCRIPT1': '                                    ', 'TYPE_CODE': 'VA', 'NUMBER0': 1376, 'SHAPENUM': 573, 'RINGNUM': 1, 'DESCRIPT0': 'CIVIL VOTING AREA'}\n",
      "{'TYPE_COD0': '   ', 'CODE': 'E05000279', 'NAME': 'Stroud Green Ward', 'AREA': 0.0, 'POLYGON_ID': 50702, 'FILE_NAME': 'GREATER_LONDON_AUTHORITY', 'DESCRIPTIO': 'London Borough Ward', 'AREA_CODE': 'LBW', 'NUMBER': 535, 'UNIT_ID': 11227, 'HECTARES': 109.374, 'DESCRIPT1': '                                    ', 'TYPE_CODE': 'VA', 'NUMBER0': 1377, 'SHAPENUM': 574, 'RINGNUM': 1, 'DESCRIPT0': 'CIVIL VOTING AREA'}\n",
      "{'TYPE_COD0': '   ', 'CODE': 'E05000274', 'NAME': 'Muswell Hill Ward', 'AREA': 0.0, 'POLYGON_ID': 50708, 'FILE_NAME': 'GREATER_LONDON_AUTHORITY', 'DESCRIPTIO': 'London Borough Ward', 'AREA_CODE': 'LBW', 'NUMBER': 537, 'UNIT_ID': 11233, 'HECTARES': 165.328, 'DESCRIPT1': '                                    ', 'TYPE_CODE': 'VA', 'NUMBER0': 1378, 'SHAPENUM': 575, 'RINGNUM': 1, 'DESCRIPT0': 'CIVIL VOTING AREA'}\n",
      "{'TYPE_COD0': '   ', 'CODE': 'E05000273', 'NAME': 'Hornsey Ward', 'AREA': 0.0, 'POLYGON_ID': 117136, 'FILE_NAME': 'GREATER_LONDON_AUTHORITY', 'DESCRIPTIO': 'London Borough Ward', 'AREA_CODE': 'LBW', 'NUMBER': 538, 'UNIT_ID': 11293, 'HECTARES': 105.39, 'DESCRIPT1': '                                    ', 'TYPE_CODE': 'VA', 'NUMBER0': 1379, 'SHAPENUM': 576, 'RINGNUM': 1, 'DESCRIPT0': 'CIVIL VOTING AREA'}\n",
      "{'TYPE_COD0': '   ', 'CODE': 'E05000266', 'NAME': 'Alexandra Ward', 'AREA': 0.0, 'POLYGON_ID': 50594, 'FILE_NAME': 'GREATER_LONDON_AUTHORITY', 'DESCRIPTIO': 'London Borough Ward', 'AREA_CODE': 'LBW', 'NUMBER': 539, 'UNIT_ID': 11294, 'HECTARES': 261.385, 'DESCRIPT1': '                                    ', 'TYPE_CODE': 'VA', 'NUMBER0': 1380, 'SHAPENUM': 577, 'RINGNUM': 1, 'DESCRIPT0': 'CIVIL VOTING AREA'}\n",
      "{'TYPE_COD0': '   ', 'CODE': 'E05000275', 'NAME': 'Noel Park Ward', 'AREA': 0.0, 'POLYGON_ID': 50592, 'FILE_NAME': 'GREATER_LONDON_AUTHORITY', 'DESCRIPTIO': 'London Borough Ward', 'AREA_CODE': 'LBW', 'NUMBER': 540, 'UNIT_ID': 11292, 'HECTARES': 122.564, 'DESCRIPT1': '                                    ', 'TYPE_CODE': 'VA', 'NUMBER0': 1381, 'SHAPENUM': 578, 'RINGNUM': 1, 'DESCRIPT0': 'CIVIL VOTING AREA'}\n",
      "{'TYPE_COD0': '   ', 'CODE': 'E05000284', 'NAME': 'Woodside Ward', 'AREA': 0.0, 'POLYGON_ID': 50537, 'FILE_NAME': 'GREATER_LONDON_AUTHORITY', 'DESCRIPTIO': 'London Borough Ward', 'AREA_CODE': 'LBW', 'NUMBER': 541, 'UNIT_ID': 11325, 'HECTARES': 149.715, 'DESCRIPT1': '                                    ', 'TYPE_CODE': 'VA', 'NUMBER0': 1382, 'SHAPENUM': 579, 'RINGNUM': 1, 'DESCRIPT0': 'CIVIL VOTING AREA'}\n",
      "{'TYPE_COD0': '   ', 'CODE': 'E05000277', 'NAME': \"St. Ann's Ward\", 'AREA': 0.0, 'POLYGON_ID': 117137, 'FILE_NAME': 'GREATER_LONDON_AUTHORITY', 'DESCRIPTIO': 'London Borough Ward', 'AREA_CODE': 'LBW', 'NUMBER': 598, 'UNIT_ID': 41860, 'HECTARES': 109.381, 'DESCRIPT1': '                                    ', 'TYPE_CODE': 'VA', 'NUMBER0': 1383, 'SHAPENUM': 580, 'RINGNUM': 1, 'DESCRIPT0': 'CIVIL VOTING AREA'}\n",
      "{'TYPE_COD0': '   ', 'CODE': 'E05000278', 'NAME': 'Seven Sisters Ward', 'AREA': 0.0, 'POLYGON_ID': 50701, 'FILE_NAME': 'GREATER_LONDON_AUTHORITY', 'DESCRIPTIO': 'London Borough Ward', 'AREA_CODE': 'LBW', 'NUMBER': 600, 'UNIT_ID': 11226, 'HECTARES': 129.463, 'DESCRIPT1': '                                    ', 'TYPE_CODE': 'VA', 'NUMBER0': 1384, 'SHAPENUM': 581, 'RINGNUM': 1, 'DESCRIPT0': 'CIVIL VOTING AREA'}\n",
      "{'TYPE_COD0': '   ', 'CODE': 'E05000280', 'NAME': 'Tottenham Green Ward', 'AREA': 0.0, 'POLYGON_ID': 117133, 'FILE_NAME': 'GREATER_LONDON_AUTHORITY', 'DESCRIPTIO': 'London Borough Ward', 'AREA_CODE': 'LBW', 'NUMBER': 608, 'UNIT_ID': 11225, 'HECTARES': 135.966, 'DESCRIPT1': '                                    ', 'TYPE_CODE': 'VA', 'NUMBER0': 1385, 'SHAPENUM': 582, 'RINGNUM': 1, 'DESCRIPT0': 'CIVIL VOTING AREA'}\n",
      "{'TYPE_COD0': '   ', 'CODE': 'E05000282', 'NAME': 'West Green Ward', 'AREA': 0.0, 'POLYGON_ID': 50591, 'FILE_NAME': 'GREATER_LONDON_AUTHORITY', 'DESCRIPTIO': 'London Borough Ward', 'AREA_CODE': 'LBW', 'NUMBER': 609, 'UNIT_ID': 11291, 'HECTARES': 139.911, 'DESCRIPT1': '                                    ', 'TYPE_CODE': 'VA', 'NUMBER0': 1386, 'SHAPENUM': 583, 'RINGNUM': 1, 'DESCRIPT0': 'CIVIL VOTING AREA'}\n",
      "{'TYPE_COD0': '   ', 'CODE': 'E05000281', 'NAME': 'Tottenham Hale Ward', 'AREA': 0.0, 'POLYGON_ID': 50694, 'FILE_NAME': 'GREATER_LONDON_AUTHORITY', 'DESCRIPTIO': 'London Borough Ward', 'AREA_CODE': 'LBW', 'NUMBER': 610, 'UNIT_ID': 11219, 'HECTARES': 191.189, 'DESCRIPT1': '                                    ', 'TYPE_CODE': 'VA', 'NUMBER0': 1387, 'SHAPENUM': 584, 'RINGNUM': 1, 'DESCRIPT0': 'CIVIL VOTING AREA'}\n",
      "{'TYPE_COD0': '   ', 'CODE': 'E05000283', 'NAME': 'White Hart Lane Ward', 'AREA': 0.0, 'POLYGON_ID': 50597, 'FILE_NAME': 'GREATER_LONDON_AUTHORITY', 'DESCRIPTIO': 'London Borough Ward', 'AREA_CODE': 'LBW', 'NUMBER': 611, 'UNIT_ID': 11297, 'HECTARES': 169.885, 'DESCRIPT1': '                                    ', 'TYPE_CODE': 'VA', 'NUMBER0': 1388, 'SHAPENUM': 585, 'RINGNUM': 1, 'DESCRIPT0': 'CIVIL VOTING AREA'}\n",
      "{'TYPE_COD0': '   ', 'CODE': 'E05000268', 'NAME': 'Bruce Grove Ward', 'AREA': 0.0, 'POLYGON_ID': 50589, 'FILE_NAME': 'GREATER_LONDON_AUTHORITY', 'DESCRIPTIO': 'London Borough Ward', 'AREA_CODE': 'LBW', 'NUMBER': 612, 'UNIT_ID': 11289, 'HECTARES': 93.658, 'DESCRIPT1': '                                    ', 'TYPE_CODE': 'VA', 'NUMBER0': 1389, 'SHAPENUM': 586, 'RINGNUM': 1, 'DESCRIPT0': 'CIVIL VOTING AREA'}\n",
      "{'TYPE_COD0': '   ', 'CODE': 'E05000276', 'NAME': 'Northumberland Park Ward', 'AREA': 0.0, 'POLYGON_ID': 117134, 'FILE_NAME': 'GREATER_LONDON_AUTHORITY', 'DESCRIPTIO': 'London Borough Ward', 'AREA_CODE': 'LBW', 'NUMBER': 613, 'UNIT_ID': 11296, 'HECTARES': 188.802, 'DESCRIPT1': '                                    ', 'TYPE_CODE': 'VA', 'NUMBER0': 1390, 'SHAPENUM': 587, 'RINGNUM': 1, 'DESCRIPT0': 'CIVIL VOTING AREA'}\n",
      "{'TYPE_COD0': '   ', 'CODE': 'E05000491', 'NAME': 'Royal Docks Ward', 'AREA': 142.283, 'POLYGON_ID': 116821, 'FILE_NAME': 'GREATER_LONDON_AUTHORITY', 'DESCRIPTIO': 'London Borough Ward', 'AREA_CODE': 'LBW', 'NUMBER': 89, 'UNIT_ID': 41811, 'HECTARES': 473.052, 'DESCRIPT1': '                                    ', 'TYPE_CODE': 'VA', 'NUMBER0': 1392, 'SHAPENUM': 588, 'RINGNUM': 1, 'DESCRIPT0': 'CIVIL VOTING AREA'}\n",
      "{'TYPE_COD0': '   ', 'CODE': 'E05000477', 'NAME': 'Canning Town North Ward', 'AREA': 6.136, 'POLYGON_ID': 116825, 'FILE_NAME': 'GREATER_LONDON_AUTHORITY', 'DESCRIPTIO': 'London Borough Ward', 'AREA_CODE': 'LBW', 'NUMBER': 244, 'UNIT_ID': 10911, 'HECTARES': 252.085, 'DESCRIPT1': '                                    ', 'TYPE_CODE': 'VA', 'NUMBER0': 1394, 'SHAPENUM': 589, 'RINGNUM': 1, 'DESCRIPT0': 'CIVIL VOTING AREA'}\n",
      "{'TYPE_COD0': '   ', 'CODE': 'E05000475', 'NAME': 'Beckton Ward', 'AREA': 70.665, 'POLYGON_ID': 51352, 'FILE_NAME': 'GREATER_LONDON_AUTHORITY', 'DESCRIPTIO': 'London Borough Ward', 'AREA_CODE': 'LBW', 'NUMBER': 245, 'UNIT_ID': 10918, 'HECTARES': 625.188, 'DESCRIPT1': '                                    ', 'TYPE_CODE': 'VA', 'NUMBER0': 1395, 'SHAPENUM': 590, 'RINGNUM': 1, 'DESCRIPT0': 'CIVIL VOTING AREA'}\n",
      "{'TYPE_COD0': '   ', 'CODE': 'E05000482', 'NAME': 'East Ham South Ward', 'AREA': 1.742, 'POLYGON_ID': 50805, 'FILE_NAME': 'GREATER_LONDON_AUTHORITY', 'DESCRIPTIO': 'London Borough Ward', 'AREA_CODE': 'LBW', 'NUMBER': 246, 'UNIT_ID': 10849, 'HECTARES': 180.899, 'DESCRIPT1': '                                    ', 'TYPE_CODE': 'VA', 'NUMBER0': 1396, 'SHAPENUM': 591, 'RINGNUM': 1, 'DESCRIPT0': 'CIVIL VOTING AREA'}\n",
      "{'TYPE_COD0': '   ', 'CODE': 'E05000492', 'NAME': 'Stratford and New Town Ward', 'AREA': 4.518, 'POLYGON_ID': 116822, 'FILE_NAME': 'GREATER_LONDON_AUTHORITY', 'DESCRIPTIO': 'London Borough Ward', 'AREA_CODE': 'LBW', 'NUMBER': 573, 'UNIT_ID': 11179, 'HECTARES': 423.497, 'DESCRIPT1': '                                    ', 'TYPE_CODE': 'VA', 'NUMBER0': 1397, 'SHAPENUM': 592, 'RINGNUM': 1, 'DESCRIPT0': 'CIVIL VOTING AREA'}\n",
      "{'TYPE_COD0': '   ', 'CODE': 'E05000478', 'NAME': 'Canning Town South Ward', 'AREA': 12.292, 'POLYGON_ID': 116823, 'FILE_NAME': 'GREATER_LONDON_AUTHORITY', 'DESCRIPTIO': 'London Borough Ward', 'AREA_CODE': 'LBW', 'NUMBER': 579, 'UNIT_ID': 41812, 'HECTARES': 180.875, 'DESCRIPT1': '                                    ', 'TYPE_CODE': 'VA', 'NUMBER0': 1398, 'SHAPENUM': 593, 'RINGNUM': 1, 'DESCRIPT0': 'CIVIL VOTING AREA'}\n",
      "{'TYPE_COD0': '   ', 'CODE': 'E05000479', 'NAME': 'Custom House Ward', 'AREA': 0.0, 'POLYGON_ID': 116824, 'FILE_NAME': 'GREATER_LONDON_AUTHORITY', 'DESCRIPTIO': 'London Borough Ward', 'AREA_CODE': 'LBW', 'NUMBER': 580, 'UNIT_ID': 10915, 'HECTARES': 206.344, 'DESCRIPT1': '                                    ', 'TYPE_CODE': 'VA', 'NUMBER0': 1399, 'SHAPENUM': 594, 'RINGNUM': 1, 'DESCRIPT0': 'CIVIL VOTING AREA'}\n",
      "{'TYPE_COD0': '   ', 'CODE': 'E05000490', 'NAME': 'Plaistow South Ward', 'AREA': 0.0, 'POLYGON_ID': 116829, 'FILE_NAME': 'GREATER_LONDON_AUTHORITY', 'DESCRIPTIO': 'London Borough Ward', 'AREA_CODE': 'LBW', 'NUMBER': 581, 'UNIT_ID': 10912, 'HECTARES': 138.452, 'DESCRIPT1': '                                    ', 'TYPE_CODE': 'VA', 'NUMBER0': 1400, 'SHAPENUM': 595, 'RINGNUM': 1, 'DESCRIPT0': 'CIVIL VOTING AREA'}\n",
      "{'TYPE_COD0': '   ', 'CODE': 'E05000494', 'NAME': 'West Ham Ward', 'AREA': 0.0, 'POLYGON_ID': 116828, 'FILE_NAME': 'GREATER_LONDON_AUTHORITY', 'DESCRIPTIO': 'London Borough Ward', 'AREA_CODE': 'LBW', 'NUMBER': 582, 'UNIT_ID': 10973, 'HECTARES': 133.7, 'DESCRIPT1': '                                    ', 'TYPE_CODE': 'VA', 'NUMBER0': 1401, 'SHAPENUM': 596, 'RINGNUM': 1, 'DESCRIPT0': 'CIVIL VOTING AREA'}\n",
      "{'TYPE_COD0': '   ', 'CODE': 'E05000489', 'NAME': 'Plaistow North Ward', 'AREA': 0.0, 'POLYGON_ID': 50738, 'FILE_NAME': 'GREATER_LONDON_AUTHORITY', 'DESCRIPTIO': 'London Borough Ward', 'AREA_CODE': 'LBW', 'NUMBER': 583, 'UNIT_ID': 11177, 'HECTARES': 98.418, 'DESCRIPT1': '                                    ', 'TYPE_CODE': 'VA', 'NUMBER0': 1402, 'SHAPENUM': 597, 'RINGNUM': 1, 'DESCRIPT0': 'CIVIL VOTING AREA'}\n",
      "{'TYPE_COD0': '   ', 'CODE': 'E05000484', 'NAME': 'Forest Gate South Ward', 'AREA': 0.0, 'POLYGON_ID': 51318, 'FILE_NAME': 'GREATER_LONDON_AUTHORITY', 'DESCRIPTIO': 'London Borough Ward', 'AREA_CODE': 'LBW', 'NUMBER': 584, 'UNIT_ID': 10972, 'HECTARES': 119.115, 'DESCRIPT1': '                                    ', 'TYPE_CODE': 'VA', 'NUMBER0': 1403, 'SHAPENUM': 598, 'RINGNUM': 1, 'DESCRIPT0': 'CIVIL VOTING AREA'}\n",
      "{'TYPE_COD0': '   ', 'CODE': 'E05000476', 'NAME': 'Boleyn Ward', 'AREA': 0.0, 'POLYGON_ID': 51362, 'FILE_NAME': 'GREATER_LONDON_AUTHORITY', 'DESCRIPTIO': 'London Borough Ward', 'AREA_CODE': 'LBW', 'NUMBER': 585, 'UNIT_ID': 10928, 'HECTARES': 91.718, 'DESCRIPT1': '                                    ', 'TYPE_CODE': 'VA', 'NUMBER0': 1404, 'SHAPENUM': 599, 'RINGNUM': 1, 'DESCRIPT0': 'CIVIL VOTING AREA'}\n",
      "{'TYPE_COD0': '   ', 'CODE': 'E05000480', 'NAME': 'East Ham Central Ward', 'AREA': 0.0, 'POLYGON_ID': 51357, 'FILE_NAME': 'GREATER_LONDON_AUTHORITY', 'DESCRIPTIO': 'London Borough Ward', 'AREA_CODE': 'LBW', 'NUMBER': 586, 'UNIT_ID': 10923, 'HECTARES': 103.197, 'DESCRIPT1': '                                    ', 'TYPE_CODE': 'VA', 'NUMBER0': 1405, 'SHAPENUM': 600, 'RINGNUM': 1, 'DESCRIPT0': 'CIVIL VOTING AREA'}\n",
      "{'TYPE_COD0': '   ', 'CODE': 'E05000486', 'NAME': 'Green Street West Ward', 'AREA': 0.0, 'POLYGON_ID': 116826, 'FILE_NAME': 'GREATER_LONDON_AUTHORITY', 'DESCRIPTIO': 'London Borough Ward', 'AREA_CODE': 'LBW', 'NUMBER': 587, 'UNIT_ID': 10850, 'HECTARES': 80.281, 'DESCRIPT1': '                                    ', 'TYPE_CODE': 'VA', 'NUMBER0': 1406, 'SHAPENUM': 601, 'RINGNUM': 1, 'DESCRIPT0': 'CIVIL VOTING AREA'}\n",
      "{'TYPE_COD0': '   ', 'CODE': 'E05000485', 'NAME': 'Green Street East Ward', 'AREA': 0.0, 'POLYGON_ID': 116827, 'FILE_NAME': 'GREATER_LONDON_AUTHORITY', 'DESCRIPTIO': 'London Borough Ward', 'AREA_CODE': 'LBW', 'NUMBER': 588, 'UNIT_ID': 10924, 'HECTARES': 74.631, 'DESCRIPT1': '                                    ', 'TYPE_CODE': 'VA', 'NUMBER0': 1407, 'SHAPENUM': 602, 'RINGNUM': 1, 'DESCRIPT0': 'CIVIL VOTING AREA'}\n",
      "{'TYPE_COD0': '   ', 'CODE': 'E05000481', 'NAME': 'East Ham North Ward', 'AREA': 0.0, 'POLYGON_ID': 51355, 'FILE_NAME': 'GREATER_LONDON_AUTHORITY', 'DESCRIPTIO': 'London Borough Ward', 'AREA_CODE': 'LBW', 'NUMBER': 589, 'UNIT_ID': 10921, 'HECTARES': 90.464, 'DESCRIPT1': '                                    ', 'TYPE_CODE': 'VA', 'NUMBER0': 1408, 'SHAPENUM': 603, 'RINGNUM': 1, 'DESCRIPT0': 'CIVIL VOTING AREA'}\n",
      "{'TYPE_COD0': '   ', 'CODE': 'E05000493', 'NAME': 'Wall End Ward', 'AREA': 0.0, 'POLYGON_ID': 51277, 'FILE_NAME': 'GREATER_LONDON_AUTHORITY', 'DESCRIPTIO': 'London Borough Ward', 'AREA_CODE': 'LBW', 'NUMBER': 590, 'UNIT_ID': 10931, 'HECTARES': 137.675, 'DESCRIPT1': '                                    ', 'TYPE_CODE': 'VA', 'NUMBER0': 1409, 'SHAPENUM': 604, 'RINGNUM': 1, 'DESCRIPT0': 'CIVIL VOTING AREA'}\n",
      "{'TYPE_COD0': '   ', 'CODE': 'E05000483', 'NAME': 'Forest Gate North Ward', 'AREA': 0.0, 'POLYGON_ID': 51316, 'FILE_NAME': 'GREATER_LONDON_AUTHORITY', 'DESCRIPTIO': 'London Borough Ward', 'AREA_CODE': 'LBW', 'NUMBER': 619, 'UNIT_ID': 10970, 'HECTARES': 124.768, 'DESCRIPT1': '                                    ', 'TYPE_CODE': 'VA', 'NUMBER0': 1410, 'SHAPENUM': 605, 'RINGNUM': 1, 'DESCRIPT0': 'CIVIL VOTING AREA'}\n",
      "{'TYPE_COD0': '   ', 'CODE': 'E05000488', 'NAME': 'Manor Park Ward', 'AREA': 0.0, 'POLYGON_ID': 51359, 'FILE_NAME': 'GREATER_LONDON_AUTHORITY', 'DESCRIPTIO': 'London Borough Ward', 'AREA_CODE': 'LBW', 'NUMBER': 621, 'UNIT_ID': 10925, 'HECTARES': 133.487, 'DESCRIPT1': '                                    ', 'TYPE_CODE': 'VA', 'NUMBER0': 1411, 'SHAPENUM': 606, 'RINGNUM': 1, 'DESCRIPT0': 'CIVIL VOTING AREA'}\n",
      "{'TYPE_COD0': '   ', 'CODE': 'E05000487', 'NAME': 'Little Ilford Ward', 'AREA': 0.0, 'POLYGON_ID': 51356, 'FILE_NAME': 'GREATER_LONDON_AUTHORITY', 'DESCRIPTIO': 'London Borough Ward', 'AREA_CODE': 'LBW', 'NUMBER': 622, 'UNIT_ID': 10922, 'HECTARES': 189.961, 'DESCRIPT1': '                                    ', 'TYPE_CODE': 'VA', 'NUMBER0': 1412, 'SHAPENUM': 607, 'RINGNUM': 1, 'DESCRIPT0': 'CIVIL VOTING AREA'}\n",
      "{'TYPE_COD0': '   ', 'CODE': 'E05000032', 'NAME': 'Gascoigne Ward', 'AREA': 4.906, 'POLYGON_ID': 51280, 'FILE_NAME': 'GREATER_LONDON_AUTHORITY', 'DESCRIPTIO': 'London Borough Ward', 'AREA_CODE': 'LBW', 'NUMBER': 247, 'UNIT_ID': 10934, 'HECTARES': 113.874, 'DESCRIPT1': '                                    ', 'TYPE_CODE': 'VA', 'NUMBER0': 1415, 'SHAPENUM': 608, 'RINGNUM': 1, 'DESCRIPT0': 'CIVIL VOTING AREA'}\n",
      "{'TYPE_COD0': '   ', 'CODE': 'E05000039', 'NAME': 'Thames Ward', 'AREA': 120.125, 'POLYGON_ID': 117012, 'FILE_NAME': 'GREATER_LONDON_AUTHORITY', 'DESCRIPTIO': 'London Borough Ward', 'AREA_CODE': 'LBW', 'NUMBER': 261, 'UNIT_ID': 10829, 'HECTARES': 788.848, 'DESCRIPT1': '                                    ', 'TYPE_CODE': 'VA', 'NUMBER0': 1416, 'SHAPENUM': 609, 'RINGNUM': 1, 'DESCRIPT0': 'CIVIL VOTING AREA'}\n",
      "{'TYPE_COD0': '   ', 'CODE': 'E05000038', 'NAME': 'River Ward', 'AREA': 41.464, 'POLYGON_ID': 117013, 'FILE_NAME': 'GREATER_LONDON_AUTHORITY', 'DESCRIPTIO': 'London Borough Ward', 'AREA_CODE': 'LBW', 'NUMBER': 262, 'UNIT_ID': 10792, 'HECTARES': 354.369, 'DESCRIPT1': '                                    ', 'TYPE_CODE': 'VA', 'NUMBER0': 1417, 'SHAPENUM': 610, 'RINGNUM': 1, 'DESCRIPT0': 'CIVIL VOTING AREA'}\n",
      "{'TYPE_COD0': '   ', 'CODE': 'E05000041', 'NAME': 'Village Ward', 'AREA': 0.0, 'POLYGON_ID': 50858, 'FILE_NAME': 'GREATER_LONDON_AUTHORITY', 'DESCRIPTIO': 'London Borough Ward', 'AREA_CODE': 'LBW', 'NUMBER': 263, 'UNIT_ID': 10814, 'HECTARES': 214.748, 'DESCRIPT1': '                                    ', 'TYPE_CODE': 'VA', 'NUMBER0': 1418, 'SHAPENUM': 611, 'RINGNUM': 1, 'DESCRIPT0': 'CIVIL VOTING AREA'}\n",
      "{'TYPE_COD0': '   ', 'CODE': 'E05000026', 'NAME': 'Abbey Ward', 'AREA': 2.655, 'POLYGON_ID': 51353, 'FILE_NAME': 'GREATER_LONDON_AUTHORITY', 'DESCRIPTIO': 'London Borough Ward', 'AREA_CODE': 'LBW', 'NUMBER': 591, 'UNIT_ID': 10919, 'HECTARES': 128.292, 'DESCRIPT1': '                                    ', 'TYPE_CODE': 'VA', 'NUMBER0': 1419, 'SHAPENUM': 612, 'RINGNUM': 1, 'DESCRIPT0': 'CIVIL VOTING AREA'}\n",
      "{'TYPE_COD0': '   ', 'CODE': 'E05000035', 'NAME': 'Longbridge Ward', 'AREA': 0.0, 'POLYGON_ID': 51279, 'FILE_NAME': 'GREATER_LONDON_AUTHORITY', 'DESCRIPTIO': 'London Borough Ward', 'AREA_CODE': 'LBW', 'NUMBER': 592, 'UNIT_ID': 10933, 'HECTARES': 164.53, 'DESCRIPT1': '                                    ', 'TYPE_CODE': 'VA', 'NUMBER0': 1420, 'SHAPENUM': 613, 'RINGNUM': 1, 'DESCRIPT0': 'CIVIL VOTING AREA'}\n",
      "{'TYPE_COD0': '   ', 'CODE': 'E05000031', 'NAME': 'Eastbury Ward', 'AREA': 0.0, 'POLYGON_ID': 51278, 'FILE_NAME': 'GREATER_LONDON_AUTHORITY', 'DESCRIPTIO': 'London Borough Ward', 'AREA_CODE': 'LBW', 'NUMBER': 593, 'UNIT_ID': 10932, 'HECTARES': 143.921, 'DESCRIPT1': '                                    ', 'TYPE_CODE': 'VA', 'NUMBER0': 1421, 'SHAPENUM': 614, 'RINGNUM': 1, 'DESCRIPT0': 'CIVIL VOTING AREA'}\n",
      "{'TYPE_COD0': '   ', 'CODE': 'E05000033', 'NAME': 'Goresbrook Ward', 'AREA': 0.0, 'POLYGON_ID': 117016, 'FILE_NAME': 'GREATER_LONDON_AUTHORITY', 'DESCRIPTIO': 'London Borough Ward', 'AREA_CODE': 'LBW', 'NUMBER': 635, 'UNIT_ID': 10817, 'HECTARES': 127.782, 'DESCRIPT1': '                                    ', 'TYPE_CODE': 'VA', 'NUMBER0': 1422, 'SHAPENUM': 615, 'RINGNUM': 1, 'DESCRIPT0': 'CIVIL VOTING AREA'}\n",
      "{'TYPE_COD0': '   ', 'CODE': 'E05000036', 'NAME': 'Mayesbrook Ward', 'AREA': 0.0, 'POLYGON_ID': 117015, 'FILE_NAME': 'GREATER_LONDON_AUTHORITY', 'DESCRIPTIO': 'London Borough Ward', 'AREA_CODE': 'LBW', 'NUMBER': 636, 'UNIT_ID': 10936, 'HECTARES': 185.642, 'DESCRIPT1': '                                    ', 'TYPE_CODE': 'VA', 'NUMBER0': 1423, 'SHAPENUM': 616, 'RINGNUM': 1, 'DESCRIPT0': 'CIVIL VOTING AREA'}\n",
      "{'TYPE_COD0': '   ', 'CODE': 'E05000028', 'NAME': 'Becontree Ward', 'AREA': 0.0, 'POLYGON_ID': 117018, 'FILE_NAME': 'GREATER_LONDON_AUTHORITY', 'DESCRIPTIO': 'London Borough Ward', 'AREA_CODE': 'LBW', 'NUMBER': 637, 'UNIT_ID': 25232, 'HECTARES': 128.809, 'DESCRIPT1': '                                    ', 'TYPE_CODE': 'VA', 'NUMBER0': 1424, 'SHAPENUM': 617, 'RINGNUM': 1, 'DESCRIPT0': 'CIVIL VOTING AREA'}\n",
      "{'TYPE_COD0': '   ', 'CODE': 'E05000027', 'NAME': 'Alibon Ward', 'AREA': 0.0, 'POLYGON_ID': 117020, 'FILE_NAME': 'GREATER_LONDON_AUTHORITY', 'DESCRIPTIO': 'London Borough Ward', 'AREA_CODE': 'LBW', 'NUMBER': 638, 'UNIT_ID': 10813, 'HECTARES': 136.442, 'DESCRIPT1': '                                    ', 'TYPE_CODE': 'VA', 'NUMBER0': 1425, 'SHAPENUM': 618, 'RINGNUM': 1, 'DESCRIPT0': 'CIVIL VOTING AREA'}\n",
      "{'TYPE_COD0': '   ', 'CODE': 'E05000040', 'NAME': 'Valence Ward', 'AREA': 0.0, 'POLYGON_ID': 117019, 'FILE_NAME': 'GREATER_LONDON_AUTHORITY', 'DESCRIPTIO': 'London Borough Ward', 'AREA_CODE': 'LBW', 'NUMBER': 639, 'UNIT_ID': 10951, 'HECTARES': 129.284, 'DESCRIPT1': '                                    ', 'TYPE_CODE': 'VA', 'NUMBER0': 1426, 'SHAPENUM': 619, 'RINGNUM': 1, 'DESCRIPT0': 'CIVIL VOTING AREA'}\n",
      "{'TYPE_COD0': '   ', 'CODE': 'E05000034', 'NAME': 'Heath Ward', 'AREA': 0.0, 'POLYGON_ID': 117021, 'FILE_NAME': 'GREATER_LONDON_AUTHORITY', 'DESCRIPTIO': 'London Borough Ward', 'AREA_CODE': 'LBW', 'NUMBER': 641, 'UNIT_ID': 10937, 'HECTARES': 200.128, 'DESCRIPT1': '                                    ', 'TYPE_CODE': 'VA', 'NUMBER0': 1427, 'SHAPENUM': 620, 'RINGNUM': 1, 'DESCRIPT0': 'CIVIL VOTING AREA'}\n",
      "{'TYPE_COD0': '   ', 'CODE': 'E05000042', 'NAME': 'Whalebone Ward', 'AREA': 0.0, 'POLYGON_ID': 117022, 'FILE_NAME': 'GREATER_LONDON_AUTHORITY', 'DESCRIPTIO': 'London Borough Ward', 'AREA_CODE': 'LBW', 'NUMBER': 642, 'UNIT_ID': 10950, 'HECTARES': 155.399, 'DESCRIPT1': '                                    ', 'TYPE_CODE': 'VA', 'NUMBER0': 1428, 'SHAPENUM': 621, 'RINGNUM': 1, 'DESCRIPT0': 'CIVIL VOTING AREA'}\n",
      "{'TYPE_COD0': '   ', 'CODE': 'E05000030', 'NAME': 'Eastbrook Ward', 'AREA': 0.0, 'POLYGON_ID': 50856, 'FILE_NAME': 'GREATER_LONDON_AUTHORITY', 'DESCRIPTIO': 'London Borough Ward', 'AREA_CODE': 'LBW', 'NUMBER': 643, 'UNIT_ID': 10812, 'HECTARES': 345.06, 'DESCRIPT1': '                                    ', 'TYPE_CODE': 'VA', 'NUMBER0': 1429, 'SHAPENUM': 622, 'RINGNUM': 1, 'DESCRIPT0': 'CIVIL VOTING AREA'}\n",
      "{'TYPE_COD0': '   ', 'CODE': 'E05000029', 'NAME': 'Chadwell Heath Ward', 'AREA': 0.0, 'POLYGON_ID': 117014, 'FILE_NAME': 'GREATER_LONDON_AUTHORITY', 'DESCRIPTIO': 'London Borough Ward', 'AREA_CODE': 'LBW', 'NUMBER': 645, 'UNIT_ID': 10952, 'HECTARES': 338.422, 'DESCRIPT1': '                                    ', 'TYPE_CODE': 'VA', 'NUMBER0': 1430, 'SHAPENUM': 623, 'RINGNUM': 1, 'DESCRIPT0': 'CIVIL VOTING AREA'}\n",
      "{'TYPE_COD0': '   ', 'CODE': 'E05000037', 'NAME': 'Parsloes Ward', 'AREA': 0.0, 'POLYGON_ID': 117017, 'FILE_NAME': 'GREATER_LONDON_AUTHORITY', 'DESCRIPTIO': 'London Borough Ward', 'AREA_CODE': 'LBW', 'NUMBER': 712, 'UNIT_ID': 41837, 'HECTARES': 124.384, 'DESCRIPT1': '                                    ', 'TYPE_CODE': 'VA', 'NUMBER0': 1431, 'SHAPENUM': 624, 'RINGNUM': 1, 'DESCRIPT0': 'CIVIL VOTING AREA'}\n",
      "{'TYPE_COD0': '   ', 'CODE': 'E05009297', 'NAME': 'Castle Baynard Ward', 'AREA': 6.686, 'POLYGON_ID': 122502, 'FILE_NAME': 'GREATER_LONDON_AUTHORITY', 'DESCRIPTIO': 'London Borough Ward', 'AREA_CODE': 'LBW', 'NUMBER': 679, 'UNIT_ID': 11096, 'HECTARES': 35.639, 'DESCRIPT1': '                                    ', 'TYPE_CODE': 'VA', 'NUMBER0': 1434, 'SHAPENUM': 625, 'RINGNUM': 1, 'DESCRIPT0': 'CIVIL VOTING AREA'}\n",
      "{'TYPE_COD0': '   ', 'CODE': 'E05009305', 'NAME': 'Farringdon Without Ward', 'AREA': 2.271, 'POLYGON_ID': 122517, 'FILE_NAME': 'GREATER_LONDON_AUTHORITY', 'DESCRIPTIO': 'London Borough Ward', 'AREA_CODE': 'LBW', 'NUMBER': 680, 'UNIT_ID': 11116, 'HECTARES': 32.996, 'DESCRIPT1': '                                    ', 'TYPE_CODE': 'VA', 'NUMBER0': 1435, 'SHAPENUM': 626, 'RINGNUM': 1, 'DESCRIPT0': 'CIVIL VOTING AREA'}\n",
      "{'TYPE_COD0': '   ', 'CODE': 'E05009304', 'NAME': 'Farringdon Within Ward', 'AREA': 0.0, 'POLYGON_ID': 122518, 'FILE_NAME': 'GREATER_LONDON_AUTHORITY', 'DESCRIPTIO': 'London Borough Ward', 'AREA_CODE': 'LBW', 'NUMBER': 681, 'UNIT_ID': 11104, 'HECTARES': 24.375, 'DESCRIPT1': '                                    ', 'TYPE_CODE': 'VA', 'NUMBER0': 1436, 'SHAPENUM': 627, 'RINGNUM': 1, 'DESCRIPT0': 'CIVIL VOTING AREA'}\n",
      "{'TYPE_COD0': '   ', 'CODE': 'E05009302', 'NAME': 'Cripplegate Ward', 'AREA': 0.0, 'POLYGON_ID': 122522, 'FILE_NAME': 'GREATER_LONDON_AUTHORITY', 'DESCRIPTIO': 'London Borough Ward', 'AREA_CODE': 'LBW', 'NUMBER': 690, 'UNIT_ID': 11103, 'HECTARES': 12.717, 'DESCRIPT1': '                                    ', 'TYPE_CODE': 'VA', 'NUMBER0': 1437, 'SHAPENUM': 628, 'RINGNUM': 1, 'DESCRIPT0': 'CIVIL VOTING AREA'}\n",
      "{'TYPE_COD0': '   ', 'CODE': 'E05009306', 'NAME': 'Langbourn Ward', 'AREA': 0.0, 'POLYGON_ID': 122513, 'FILE_NAME': 'GREATER_LONDON_AUTHORITY', 'DESCRIPTIO': 'London Borough Ward', 'AREA_CODE': 'LBW', 'NUMBER': 697, 'UNIT_ID': 11167, 'HECTARES': 5.193, 'DESCRIPT1': '                                    ', 'TYPE_CODE': 'VA', 'NUMBER0': 1438, 'SHAPENUM': 629, 'RINGNUM': 1, 'DESCRIPT0': 'CIVIL VOTING AREA'}\n",
      "{'TYPE_COD0': '   ', 'CODE': 'E05009310', 'NAME': 'Tower Ward', 'AREA': 0.736, 'POLYGON_ID': 122515, 'FILE_NAME': 'GREATER_LONDON_AUTHORITY', 'DESCRIPTIO': 'London Borough Ward', 'AREA_CODE': 'LBW', 'NUMBER': 698, 'UNIT_ID': 11169, 'HECTARES': 19.867, 'DESCRIPT1': '                                    ', 'TYPE_CODE': 'VA', 'NUMBER0': 1439, 'SHAPENUM': 630, 'RINGNUM': 1, 'DESCRIPT0': 'CIVIL VOTING AREA'}\n",
      "{'TYPE_COD0': '   ', 'CODE': 'E05009292', 'NAME': 'Bishopsgate Ward', 'AREA': 0.0, 'POLYGON_ID': 50670, 'FILE_NAME': 'GREATER_LONDON_AUTHORITY', 'DESCRIPTIO': 'London Borough Ward', 'AREA_CODE': 'LBW', 'NUMBER': 700, 'UNIT_ID': 11196, 'HECTARES': 25.385, 'DESCRIPT1': '                                    ', 'TYPE_CODE': 'VA', 'NUMBER0': 1440, 'SHAPENUM': 631, 'RINGNUM': 1, 'DESCRIPT0': 'CIVIL VOTING AREA'}\n",
      "{'TYPE_COD0': '   ', 'CODE': 'E05009309', 'NAME': 'Queenhithe Ward', 'AREA': 3.583, 'POLYGON_ID': 51176, 'FILE_NAME': 'GREATER_LONDON_AUTHORITY', 'DESCRIPTIO': 'London Borough Ward', 'AREA_CODE': 'LBW', 'NUMBER': 713, 'UNIT_ID': 11094, 'HECTARES': 7.948, 'DESCRIPT1': '                                    ', 'TYPE_CODE': 'VA', 'NUMBER0': 1441, 'SHAPENUM': 632, 'RINGNUM': 1, 'DESCRIPT0': 'CIVIL VOTING AREA'}\n",
      "{'TYPE_COD0': '   ', 'CODE': 'E05009311', 'NAME': 'Vintry Ward', 'AREA': 2.406, 'POLYGON_ID': 122510, 'FILE_NAME': 'GREATER_LONDON_AUTHORITY', 'DESCRIPTIO': 'London Borough Ward', 'AREA_CODE': 'LBW', 'NUMBER': 714, 'UNIT_ID': 10981, 'HECTARES': 10.401, 'DESCRIPT1': '                                    ', 'TYPE_CODE': 'VA', 'NUMBER0': 1442, 'SHAPENUM': 633, 'RINGNUM': 1, 'DESCRIPT0': 'CIVIL VOTING AREA'}\n",
      "{'TYPE_COD0': '   ', 'CODE': 'E05009300', 'NAME': 'Cordwainer Ward', 'AREA': 0.0, 'POLYGON_ID': 122507, 'FILE_NAME': 'GREATER_LONDON_AUTHORITY', 'DESCRIPTIO': 'London Borough Ward', 'AREA_CODE': 'LBW', 'NUMBER': 715, 'UNIT_ID': 11092, 'HECTARES': 5.965, 'DESCRIPT1': '                                    ', 'TYPE_CODE': 'VA', 'NUMBER0': 1443, 'SHAPENUM': 634, 'RINGNUM': 1, 'DESCRIPT0': 'CIVIL VOTING AREA'}\n",
      "{'TYPE_COD0': '   ', 'CODE': 'E05009293', 'NAME': 'Bread Street Ward', 'AREA': 0.0, 'POLYGON_ID': 122504, 'FILE_NAME': 'GREATER_LONDON_AUTHORITY', 'DESCRIPTIO': 'London Borough Ward', 'AREA_CODE': 'LBW', 'NUMBER': 716, 'UNIT_ID': 11093, 'HECTARES': 8.794, 'DESCRIPT1': '                                    ', 'TYPE_CODE': 'VA', 'NUMBER0': 1444, 'SHAPENUM': 635, 'RINGNUM': 1, 'DESCRIPT0': 'CIVIL VOTING AREA'}\n",
      "{'TYPE_COD0': '   ', 'CODE': 'E05009298', 'NAME': 'Cheap Ward', 'AREA': 0.0, 'POLYGON_ID': 122503, 'FILE_NAME': 'GREATER_LONDON_AUTHORITY', 'DESCRIPTIO': 'London Borough Ward', 'AREA_CODE': 'LBW', 'NUMBER': 717, 'UNIT_ID': 10979, 'HECTARES': 9.161, 'DESCRIPT1': '                                    ', 'TYPE_CODE': 'VA', 'NUMBER0': 1445, 'SHAPENUM': 636, 'RINGNUM': 1, 'DESCRIPT0': 'CIVIL VOTING AREA'}\n",
      "{'TYPE_COD0': '   ', 'CODE': 'E05009290', 'NAME': 'Bassishaw Ward', 'AREA': 0.0, 'POLYGON_ID': 122519, 'FILE_NAME': 'GREATER_LONDON_AUTHORITY', 'DESCRIPTIO': 'London Borough Ward', 'AREA_CODE': 'LBW', 'NUMBER': 718, 'UNIT_ID': 11102, 'HECTARES': 10.658, 'DESCRIPT1': '                                    ', 'TYPE_CODE': 'VA', 'NUMBER0': 1446, 'SHAPENUM': 637, 'RINGNUM': 1, 'DESCRIPT0': 'CIVIL VOTING AREA'}\n",
      "{'TYPE_COD0': '   ', 'CODE': 'E05009288', 'NAME': 'Aldersgate Ward', 'AREA': 0.0, 'POLYGON_ID': 122521, 'FILE_NAME': 'GREATER_LONDON_AUTHORITY', 'DESCRIPTIO': 'London Borough Ward', 'AREA_CODE': 'LBW', 'NUMBER': 719, 'UNIT_ID': 11106, 'HECTARES': 9.795, 'DESCRIPT1': '                                    ', 'TYPE_CODE': 'VA', 'NUMBER0': 1447, 'SHAPENUM': 638, 'RINGNUM': 1, 'DESCRIPT0': 'CIVIL VOTING AREA'}\n",
      "{'TYPE_COD0': '   ', 'CODE': 'E05009303', 'NAME': 'Dowgate Ward', 'AREA': 2.507, 'POLYGON_ID': 122509, 'FILE_NAME': 'GREATER_LONDON_AUTHORITY', 'DESCRIPTIO': 'London Borough Ward', 'AREA_CODE': 'LBW', 'NUMBER': 720, 'UNIT_ID': 11091, 'HECTARES': 9.568, 'DESCRIPT1': '                                    ', 'TYPE_CODE': 'VA', 'NUMBER0': 1448, 'SHAPENUM': 639, 'RINGNUM': 1, 'DESCRIPT0': 'CIVIL VOTING AREA'}\n",
      "{'TYPE_COD0': '   ', 'CODE': 'E05009294', 'NAME': 'Bridge Ward', 'AREA': 2.413, 'POLYGON_ID': 122506, 'FILE_NAME': 'GREATER_LONDON_AUTHORITY', 'DESCRIPTIO': 'London Borough Ward', 'AREA_CODE': 'LBW', 'NUMBER': 721, 'UNIT_ID': 11168, 'HECTARES': 9.421, 'DESCRIPT1': '                                    ', 'TYPE_CODE': 'VA', 'NUMBER0': 1449, 'SHAPENUM': 640, 'RINGNUM': 1, 'DESCRIPT0': 'CIVIL VOTING AREA'}\n",
      "{'TYPE_COD0': '   ', 'CODE': 'E05009291', 'NAME': 'Billingsgate Ward', 'AREA': 3.944, 'POLYGON_ID': 122512, 'FILE_NAME': 'GREATER_LONDON_AUTHORITY', 'DESCRIPTIO': 'London Borough Ward', 'AREA_CODE': 'LBW', 'NUMBER': 722, 'UNIT_ID': 11170, 'HECTARES': 12.067, 'DESCRIPT1': '                                    ', 'TYPE_CODE': 'VA', 'NUMBER0': 1450, 'SHAPENUM': 641, 'RINGNUM': 1, 'DESCRIPT0': 'CIVIL VOTING AREA'}\n",
      "{'TYPE_COD0': '   ', 'CODE': 'E05009312', 'NAME': 'Walbrook Ward', 'AREA': 0.0, 'POLYGON_ID': 122511, 'FILE_NAME': 'GREATER_LONDON_AUTHORITY', 'DESCRIPTIO': 'London Borough Ward', 'AREA_CODE': 'LBW', 'NUMBER': 723, 'UNIT_ID': 10980, 'HECTARES': 7.474, 'DESCRIPT1': '                                    ', 'TYPE_CODE': 'VA', 'NUMBER0': 1451, 'SHAPENUM': 642, 'RINGNUM': 1, 'DESCRIPT0': 'CIVIL VOTING AREA'}\n",
      "{'TYPE_COD0': '   ', 'CODE': 'E05009301', 'NAME': 'Cornhill Ward', 'AREA': 0.0, 'POLYGON_ID': 122508, 'FILE_NAME': 'GREATER_LONDON_AUTHORITY', 'DESCRIPTIO': 'London Borough Ward', 'AREA_CODE': 'LBW', 'NUMBER': 724, 'UNIT_ID': 11166, 'HECTARES': 6.478, 'DESCRIPT1': '                                    ', 'TYPE_CODE': 'VA', 'NUMBER0': 1452, 'SHAPENUM': 643, 'RINGNUM': 1, 'DESCRIPT0': 'CIVIL VOTING AREA'}\n",
      "{'TYPE_COD0': '   ', 'CODE': 'E05009307', 'NAME': 'Lime Street Ward', 'AREA': 0.0, 'POLYGON_ID': 122514, 'FILE_NAME': 'GREATER_LONDON_AUTHORITY', 'DESCRIPTIO': 'London Borough Ward', 'AREA_CODE': 'LBW', 'NUMBER': 725, 'UNIT_ID': 11165, 'HECTARES': 5.096, 'DESCRIPT1': '                                    ', 'TYPE_CODE': 'VA', 'NUMBER0': 1453, 'SHAPENUM': 644, 'RINGNUM': 1, 'DESCRIPT0': 'CIVIL VOTING AREA'}\n",
      "{'TYPE_COD0': '   ', 'CODE': 'E05009289', 'NAME': 'Aldgate Ward', 'AREA': 0.0, 'POLYGON_ID': 51182, 'FILE_NAME': 'GREATER_LONDON_AUTHORITY', 'DESCRIPTIO': 'London Borough Ward', 'AREA_CODE': 'LBW', 'NUMBER': 726, 'UNIT_ID': 11100, 'HECTARES': 11.23, 'DESCRIPT1': '                                    ', 'TYPE_CODE': 'VA', 'NUMBER0': 1454, 'SHAPENUM': 645, 'RINGNUM': 1, 'DESCRIPT0': 'CIVIL VOTING AREA'}\n",
      "{'TYPE_COD0': '   ', 'CODE': 'E05009295', 'NAME': 'Broad Street Ward', 'AREA': 0.0, 'POLYGON_ID': 50669, 'FILE_NAME': 'GREATER_LONDON_AUTHORITY', 'DESCRIPTIO': 'London Borough Ward', 'AREA_CODE': 'LBW', 'NUMBER': 727, 'UNIT_ID': 11195, 'HECTARES': 8.157, 'DESCRIPT1': '                                    ', 'TYPE_CODE': 'VA', 'NUMBER0': 1455, 'SHAPENUM': 646, 'RINGNUM': 1, 'DESCRIPT0': 'CIVIL VOTING AREA'}\n",
      "{'TYPE_COD0': '   ', 'CODE': 'E05009299', 'NAME': 'Coleman Street Ward', 'AREA': 0.0, 'POLYGON_ID': 122520, 'FILE_NAME': 'GREATER_LONDON_AUTHORITY', 'DESCRIPTIO': 'London Borough Ward', 'AREA_CODE': 'LBW', 'NUMBER': 728, 'UNIT_ID': 11101, 'HECTARES': 15.061, 'DESCRIPT1': '                                    ', 'TYPE_CODE': 'VA', 'NUMBER0': 1456, 'SHAPENUM': 647, 'RINGNUM': 1, 'DESCRIPT0': 'CIVIL VOTING AREA'}\n",
      "{'TYPE_COD0': '   ', 'CODE': 'E05009308', 'NAME': 'Portsoken Ward', 'AREA': 0.0, 'POLYGON_ID': 122516, 'FILE_NAME': 'GREATER_LONDON_AUTHORITY', 'DESCRIPTIO': 'London Borough Ward', 'AREA_CODE': 'LBW', 'NUMBER': 729, 'UNIT_ID': 11194, 'HECTARES': 6.288, 'DESCRIPT1': '                                    ', 'TYPE_CODE': 'VA', 'NUMBER0': 1457, 'SHAPENUM': 648, 'RINGNUM': 1, 'DESCRIPT0': 'CIVIL VOTING AREA'}\n",
      "{'TYPE_COD0': '   ', 'CODE': 'E05009296', 'NAME': 'Candlewick Ward', 'AREA': 0.0, 'POLYGON_ID': 122505, 'FILE_NAME': 'GREATER_LONDON_AUTHORITY', 'DESCRIPTIO': 'London Borough Ward', 'AREA_CODE': 'LBW', 'NUMBER': 730, 'UNIT_ID': 10857, 'HECTARES': 5.209, 'DESCRIPT1': '                                    ', 'TYPE_CODE': 'VA', 'NUMBER0': 1458, 'SHAPENUM': 649, 'RINGNUM': 1, 'DESCRIPT0': 'CIVIL VOTING AREA'}\n"
     ]
    }
   ],
   "source": [
    "london_polys = []\n",
    "borough_names = []\n",
    "for w_ind in range(len(m.london_info)):\n",
    "    w = m.london_info[w_ind]\n",
    "    print w\n",
    "    if w['NAME'] in borough_names:\n",
    "        london_polys[-1] = Polygon(m.london[w_ind])\n",
    "        continue\n",
    "    borough_names.append(w['CODE'])    \n",
    "    london_polys.append(Polygon(m.london[w_ind]))\n",
    "    \n",
    "df_map = pd.DataFrame({\n",
    "    'poly': london_polys,\n",
    "    'borough_name': borough_names,\n",
    "})\n",
    "df_map['area_m'] = df_map['poly'].map(lambda x: x.area)\n",
    "df_map['area_km'] = df_map['area_m'] / 100000\n",
    "df_map['borough_name'] = df_map['borough_name'].str.strip()"
   ]
  },
  {
   "cell_type": "code",
   "execution_count": 9,
   "metadata": {
    "ExecuteTime": {
     "end_time": "2020-01-13T11:16:59.505783Z",
     "start_time": "2020-01-13T11:16:57.678215Z"
    }
   },
   "outputs": [],
   "source": [
    "segnet_Mapillary = pd.read_csv('../Scripts/segnetLabels.csv')\n",
    "mappilary_points = pd.read_csv('Mappilary_points.csv')\n"
   ]
  },
  {
   "cell_type": "code",
   "execution_count": 10,
   "metadata": {
    "ExecuteTime": {
     "end_time": "2020-01-13T11:16:59.526626Z",
     "start_time": "2020-01-13T11:16:59.510083Z"
    }
   },
   "outputs": [
    {
     "data": {
      "text/html": [
       "<div>\n",
       "<style scoped>\n",
       "    .dataframe tbody tr th:only-of-type {\n",
       "        vertical-align: middle;\n",
       "    }\n",
       "\n",
       "    .dataframe tbody tr th {\n",
       "        vertical-align: top;\n",
       "    }\n",
       "\n",
       "    .dataframe thead th {\n",
       "        text-align: right;\n",
       "    }\n",
       "</style>\n",
       "<table border=\"1\" class=\"dataframe\">\n",
       "  <thead>\n",
       "    <tr style=\"text-align: right;\">\n",
       "      <th></th>\n",
       "      <th>Unnamed: 0</th>\n",
       "      <th>Imgkey</th>\n",
       "      <th>captureTime</th>\n",
       "      <th>isPano</th>\n",
       "      <th>lat</th>\n",
       "      <th>long</th>\n",
       "      <th>long_lat_string</th>\n",
       "    </tr>\n",
       "  </thead>\n",
       "  <tbody>\n",
       "    <tr>\n",
       "      <th>0</th>\n",
       "      <td>0</td>\n",
       "      <td>SNkE9dXx2K0o3MaY9Zu-2A</td>\n",
       "      <td>2016-03-24T14:44:50.927Z</td>\n",
       "      <td>False</td>\n",
       "      <td>51.523651</td>\n",
       "      <td>-0.178409</td>\n",
       "      <td>-0.1784_51.5237</td>\n",
       "    </tr>\n",
       "    <tr>\n",
       "      <th>1</th>\n",
       "      <td>1</td>\n",
       "      <td>bneiFOYn9N2MQpjD-E7y-Q</td>\n",
       "      <td>2018-05-03T10:59:33.785Z</td>\n",
       "      <td>False</td>\n",
       "      <td>51.452568</td>\n",
       "      <td>-0.036538</td>\n",
       "      <td>-0.0365_51.4526</td>\n",
       "    </tr>\n",
       "    <tr>\n",
       "      <th>2</th>\n",
       "      <td>2</td>\n",
       "      <td>C5QMwGz01Rs6zk56q6fkeA</td>\n",
       "      <td>2018-12-09T15:42:45.172Z</td>\n",
       "      <td>False</td>\n",
       "      <td>51.462317</td>\n",
       "      <td>-0.389959</td>\n",
       "      <td>-0.3900_51.4623</td>\n",
       "    </tr>\n",
       "    <tr>\n",
       "      <th>3</th>\n",
       "      <td>3</td>\n",
       "      <td>YBQNM1wNdihc3tl1Jr1oDA</td>\n",
       "      <td>2014-08-04T10:19:53.000Z</td>\n",
       "      <td>False</td>\n",
       "      <td>51.508081</td>\n",
       "      <td>-0.095355</td>\n",
       "      <td>-0.0954_51.5081</td>\n",
       "    </tr>\n",
       "    <tr>\n",
       "      <th>4</th>\n",
       "      <td>4</td>\n",
       "      <td>6iT4CuOAHfSYNXWs_hlbdw</td>\n",
       "      <td>2015-11-25T13:50:11.000Z</td>\n",
       "      <td>False</td>\n",
       "      <td>51.485719</td>\n",
       "      <td>-0.120967</td>\n",
       "      <td>-0.1210_51.4857</td>\n",
       "    </tr>\n",
       "  </tbody>\n",
       "</table>\n",
       "</div>"
      ],
      "text/plain": [
       "   Unnamed: 0                  Imgkey               captureTime  isPano  \\\n",
       "0           0  SNkE9dXx2K0o3MaY9Zu-2A  2016-03-24T14:44:50.927Z   False   \n",
       "1           1  bneiFOYn9N2MQpjD-E7y-Q  2018-05-03T10:59:33.785Z   False   \n",
       "2           2  C5QMwGz01Rs6zk56q6fkeA  2018-12-09T15:42:45.172Z   False   \n",
       "3           3  YBQNM1wNdihc3tl1Jr1oDA  2014-08-04T10:19:53.000Z   False   \n",
       "4           4  6iT4CuOAHfSYNXWs_hlbdw  2015-11-25T13:50:11.000Z   False   \n",
       "\n",
       "         lat      long  long_lat_string  \n",
       "0  51.523651 -0.178409  -0.1784_51.5237  \n",
       "1  51.452568 -0.036538  -0.0365_51.4526  \n",
       "2  51.462317 -0.389959  -0.3900_51.4623  \n",
       "3  51.508081 -0.095355  -0.0954_51.5081  \n",
       "4  51.485719 -0.120967  -0.1210_51.4857  "
      ]
     },
     "execution_count": 10,
     "metadata": {},
     "output_type": "execute_result"
    }
   ],
   "source": [
    "mappilary_points.head()"
   ]
  },
  {
   "cell_type": "code",
   "execution_count": 11,
   "metadata": {
    "ExecuteTime": {
     "end_time": "2020-01-13T11:16:59.947809Z",
     "start_time": "2020-01-13T11:16:59.530399Z"
    }
   },
   "outputs": [],
   "source": [
    "merged = pd.merge(segnet_Mapillary, mappilary_points, on='Imgkey', how='inner')"
   ]
  },
  {
   "cell_type": "code",
   "execution_count": 12,
   "metadata": {
    "ExecuteTime": {
     "end_time": "2020-01-13T11:16:59.980485Z",
     "start_time": "2020-01-13T11:16:59.951589Z"
    }
   },
   "outputs": [
    {
     "data": {
      "text/html": [
       "<div>\n",
       "<style scoped>\n",
       "    .dataframe tbody tr th:only-of-type {\n",
       "        vertical-align: middle;\n",
       "    }\n",
       "\n",
       "    .dataframe tbody tr th {\n",
       "        vertical-align: top;\n",
       "    }\n",
       "\n",
       "    .dataframe thead th {\n",
       "        text-align: right;\n",
       "    }\n",
       "</style>\n",
       "<table border=\"1\" class=\"dataframe\">\n",
       "  <thead>\n",
       "    <tr style=\"text-align: right;\">\n",
       "      <th></th>\n",
       "      <th>Imgkey</th>\n",
       "      <th>Sky</th>\n",
       "      <th>Building</th>\n",
       "      <th>Pole</th>\n",
       "      <th>Road_Marking</th>\n",
       "      <th>Road</th>\n",
       "      <th>Pavement</th>\n",
       "      <th>Tree</th>\n",
       "      <th>Sign_Symbol</th>\n",
       "      <th>Fence</th>\n",
       "      <th>Vehicle</th>\n",
       "      <th>Pedestrian</th>\n",
       "      <th>Bike</th>\n",
       "      <th>Unnamed: 0</th>\n",
       "      <th>captureTime</th>\n",
       "      <th>isPano</th>\n",
       "      <th>lat</th>\n",
       "      <th>long</th>\n",
       "      <th>long_lat_string</th>\n",
       "    </tr>\n",
       "  </thead>\n",
       "  <tbody>\n",
       "    <tr>\n",
       "      <th>0</th>\n",
       "      <td>wE0jAFaY7S7kBlobMy3nPA</td>\n",
       "      <td>0.288501</td>\n",
       "      <td>0.104387</td>\n",
       "      <td>0.031655</td>\n",
       "      <td>0.006545</td>\n",
       "      <td>0.334103</td>\n",
       "      <td>0.012228</td>\n",
       "      <td>0.094468</td>\n",
       "      <td>0.006325</td>\n",
       "      <td>0.013235</td>\n",
       "      <td>0.102205</td>\n",
       "      <td>0.006343</td>\n",
       "      <td>0.000006</td>\n",
       "      <td>155358</td>\n",
       "      <td>2017-01-09T11:16:58.080Z</td>\n",
       "      <td>False</td>\n",
       "      <td>51.458700</td>\n",
       "      <td>-0.195153</td>\n",
       "      <td>-0.1952_51.4587</td>\n",
       "    </tr>\n",
       "    <tr>\n",
       "      <th>1</th>\n",
       "      <td>k_syhXZRKg-blx5cCvFdBg</td>\n",
       "      <td>0.168970</td>\n",
       "      <td>0.000347</td>\n",
       "      <td>0.004676</td>\n",
       "      <td>0.015434</td>\n",
       "      <td>0.240914</td>\n",
       "      <td>0.104091</td>\n",
       "      <td>0.455197</td>\n",
       "      <td>0.000156</td>\n",
       "      <td>0.010122</td>\n",
       "      <td>0.000006</td>\n",
       "      <td>0.000087</td>\n",
       "      <td>0.000000</td>\n",
       "      <td>331930</td>\n",
       "      <td>2019-08-20T20:07:23.000Z</td>\n",
       "      <td>False</td>\n",
       "      <td>51.395208</td>\n",
       "      <td>0.007908</td>\n",
       "      <td>0.0079_51.3952</td>\n",
       "    </tr>\n",
       "    <tr>\n",
       "      <th>2</th>\n",
       "      <td>iVXnlg3PQMPspbTFqRD9eA</td>\n",
       "      <td>0.021730</td>\n",
       "      <td>0.146528</td>\n",
       "      <td>0.012488</td>\n",
       "      <td>0.034340</td>\n",
       "      <td>0.262760</td>\n",
       "      <td>0.138669</td>\n",
       "      <td>0.303953</td>\n",
       "      <td>0.000434</td>\n",
       "      <td>0.002668</td>\n",
       "      <td>0.032488</td>\n",
       "      <td>0.041644</td>\n",
       "      <td>0.002297</td>\n",
       "      <td>92492</td>\n",
       "      <td>2019-06-09T17:11:34.567Z</td>\n",
       "      <td>False</td>\n",
       "      <td>51.532153</td>\n",
       "      <td>0.055075</td>\n",
       "      <td>0.0551_51.5322</td>\n",
       "    </tr>\n",
       "    <tr>\n",
       "      <th>3</th>\n",
       "      <td>amVTOx7uE0GuMkeN2ECC3w</td>\n",
       "      <td>0.249045</td>\n",
       "      <td>0.156707</td>\n",
       "      <td>0.001586</td>\n",
       "      <td>0.000017</td>\n",
       "      <td>0.146730</td>\n",
       "      <td>0.073339</td>\n",
       "      <td>0.352066</td>\n",
       "      <td>0.000012</td>\n",
       "      <td>0.001053</td>\n",
       "      <td>0.017598</td>\n",
       "      <td>0.000839</td>\n",
       "      <td>0.001007</td>\n",
       "      <td>205329</td>\n",
       "      <td>2015-04-15T11:11:25.227Z</td>\n",
       "      <td>False</td>\n",
       "      <td>51.522573</td>\n",
       "      <td>-0.036350</td>\n",
       "      <td>-0.0363_51.5226</td>\n",
       "    </tr>\n",
       "    <tr>\n",
       "      <th>4</th>\n",
       "      <td>46aeChblLDzqF3p4UjXb7g</td>\n",
       "      <td>0.061244</td>\n",
       "      <td>0.003218</td>\n",
       "      <td>0.000405</td>\n",
       "      <td>0.000527</td>\n",
       "      <td>0.147847</td>\n",
       "      <td>0.052610</td>\n",
       "      <td>0.707002</td>\n",
       "      <td>0.000764</td>\n",
       "      <td>0.021377</td>\n",
       "      <td>0.004624</td>\n",
       "      <td>0.000382</td>\n",
       "      <td>0.000000</td>\n",
       "      <td>121677</td>\n",
       "      <td>2016-08-29T16:15:48.000Z</td>\n",
       "      <td>False</td>\n",
       "      <td>51.622794</td>\n",
       "      <td>-0.136517</td>\n",
       "      <td>-0.1365_51.6228</td>\n",
       "    </tr>\n",
       "  </tbody>\n",
       "</table>\n",
       "</div>"
      ],
      "text/plain": [
       "                   Imgkey       Sky  Building      Pole  Road_Marking  \\\n",
       "0  wE0jAFaY7S7kBlobMy3nPA  0.288501  0.104387  0.031655      0.006545   \n",
       "1  k_syhXZRKg-blx5cCvFdBg  0.168970  0.000347  0.004676      0.015434   \n",
       "2  iVXnlg3PQMPspbTFqRD9eA  0.021730  0.146528  0.012488      0.034340   \n",
       "3  amVTOx7uE0GuMkeN2ECC3w  0.249045  0.156707  0.001586      0.000017   \n",
       "4  46aeChblLDzqF3p4UjXb7g  0.061244  0.003218  0.000405      0.000527   \n",
       "\n",
       "       Road  Pavement      Tree  Sign_Symbol     Fence   Vehicle  Pedestrian  \\\n",
       "0  0.334103  0.012228  0.094468     0.006325  0.013235  0.102205    0.006343   \n",
       "1  0.240914  0.104091  0.455197     0.000156  0.010122  0.000006    0.000087   \n",
       "2  0.262760  0.138669  0.303953     0.000434  0.002668  0.032488    0.041644   \n",
       "3  0.146730  0.073339  0.352066     0.000012  0.001053  0.017598    0.000839   \n",
       "4  0.147847  0.052610  0.707002     0.000764  0.021377  0.004624    0.000382   \n",
       "\n",
       "       Bike  Unnamed: 0               captureTime  isPano        lat  \\\n",
       "0  0.000006      155358  2017-01-09T11:16:58.080Z   False  51.458700   \n",
       "1  0.000000      331930  2019-08-20T20:07:23.000Z   False  51.395208   \n",
       "2  0.002297       92492  2019-06-09T17:11:34.567Z   False  51.532153   \n",
       "3  0.001007      205329  2015-04-15T11:11:25.227Z   False  51.522573   \n",
       "4  0.000000      121677  2016-08-29T16:15:48.000Z   False  51.622794   \n",
       "\n",
       "       long  long_lat_string  \n",
       "0 -0.195153  -0.1952_51.4587  \n",
       "1  0.007908   0.0079_51.3952  \n",
       "2  0.055075   0.0551_51.5322  \n",
       "3 -0.036350  -0.0363_51.5226  \n",
       "4 -0.136517  -0.1365_51.6228  "
      ]
     },
     "execution_count": 12,
     "metadata": {},
     "output_type": "execute_result"
    }
   ],
   "source": [
    "merged.head()"
   ]
  },
  {
   "cell_type": "code",
   "execution_count": 13,
   "metadata": {
    "ExecuteTime": {
     "end_time": "2020-01-13T11:16:59.988043Z",
     "start_time": "2020-01-13T11:16:59.984104Z"
    }
   },
   "outputs": [],
   "source": [
    "# merged.to_csv('../Data/Mappilary_points_merged.csv')"
   ]
  },
  {
   "cell_type": "code",
   "execution_count": 14,
   "metadata": {
    "ExecuteTime": {
     "end_time": "2020-01-13T11:17:03.603364Z",
     "start_time": "2020-01-13T11:16:59.991910Z"
    }
   },
   "outputs": [],
   "source": [
    "gdf = geopandas.GeoDataFrame(merged, geometry=geopandas.points_from_xy(merged.long, merged.lat))\n"
   ]
  },
  {
   "cell_type": "code",
   "execution_count": 15,
   "metadata": {
    "ExecuteTime": {
     "end_time": "2020-01-13T11:17:03.637215Z",
     "start_time": "2020-01-13T11:17:03.607238Z"
    }
   },
   "outputs": [
    {
     "data": {
      "text/html": [
       "<div>\n",
       "<style scoped>\n",
       "    .dataframe tbody tr th:only-of-type {\n",
       "        vertical-align: middle;\n",
       "    }\n",
       "\n",
       "    .dataframe tbody tr th {\n",
       "        vertical-align: top;\n",
       "    }\n",
       "\n",
       "    .dataframe thead th {\n",
       "        text-align: right;\n",
       "    }\n",
       "</style>\n",
       "<table border=\"1\" class=\"dataframe\">\n",
       "  <thead>\n",
       "    <tr style=\"text-align: right;\">\n",
       "      <th></th>\n",
       "      <th>Imgkey</th>\n",
       "      <th>Sky</th>\n",
       "      <th>Building</th>\n",
       "      <th>Pole</th>\n",
       "      <th>Road_Marking</th>\n",
       "      <th>Road</th>\n",
       "      <th>Pavement</th>\n",
       "      <th>Tree</th>\n",
       "      <th>Sign_Symbol</th>\n",
       "      <th>Fence</th>\n",
       "      <th>Vehicle</th>\n",
       "      <th>Pedestrian</th>\n",
       "      <th>Bike</th>\n",
       "      <th>Unnamed: 0</th>\n",
       "      <th>captureTime</th>\n",
       "      <th>isPano</th>\n",
       "      <th>lat</th>\n",
       "      <th>long</th>\n",
       "      <th>long_lat_string</th>\n",
       "      <th>geometry</th>\n",
       "    </tr>\n",
       "  </thead>\n",
       "  <tbody>\n",
       "    <tr>\n",
       "      <th>0</th>\n",
       "      <td>wE0jAFaY7S7kBlobMy3nPA</td>\n",
       "      <td>0.288501</td>\n",
       "      <td>0.104387</td>\n",
       "      <td>0.031655</td>\n",
       "      <td>0.006545</td>\n",
       "      <td>0.334103</td>\n",
       "      <td>0.012228</td>\n",
       "      <td>0.094468</td>\n",
       "      <td>0.006325</td>\n",
       "      <td>0.013235</td>\n",
       "      <td>0.102205</td>\n",
       "      <td>0.006343</td>\n",
       "      <td>0.000006</td>\n",
       "      <td>155358</td>\n",
       "      <td>2017-01-09T11:16:58.080Z</td>\n",
       "      <td>False</td>\n",
       "      <td>51.458700</td>\n",
       "      <td>-0.195153</td>\n",
       "      <td>-0.1952_51.4587</td>\n",
       "      <td>POINT (-0.19515 51.45870)</td>\n",
       "    </tr>\n",
       "    <tr>\n",
       "      <th>1</th>\n",
       "      <td>k_syhXZRKg-blx5cCvFdBg</td>\n",
       "      <td>0.168970</td>\n",
       "      <td>0.000347</td>\n",
       "      <td>0.004676</td>\n",
       "      <td>0.015434</td>\n",
       "      <td>0.240914</td>\n",
       "      <td>0.104091</td>\n",
       "      <td>0.455197</td>\n",
       "      <td>0.000156</td>\n",
       "      <td>0.010122</td>\n",
       "      <td>0.000006</td>\n",
       "      <td>0.000087</td>\n",
       "      <td>0.000000</td>\n",
       "      <td>331930</td>\n",
       "      <td>2019-08-20T20:07:23.000Z</td>\n",
       "      <td>False</td>\n",
       "      <td>51.395208</td>\n",
       "      <td>0.007908</td>\n",
       "      <td>0.0079_51.3952</td>\n",
       "      <td>POINT (0.00791 51.39521)</td>\n",
       "    </tr>\n",
       "    <tr>\n",
       "      <th>2</th>\n",
       "      <td>iVXnlg3PQMPspbTFqRD9eA</td>\n",
       "      <td>0.021730</td>\n",
       "      <td>0.146528</td>\n",
       "      <td>0.012488</td>\n",
       "      <td>0.034340</td>\n",
       "      <td>0.262760</td>\n",
       "      <td>0.138669</td>\n",
       "      <td>0.303953</td>\n",
       "      <td>0.000434</td>\n",
       "      <td>0.002668</td>\n",
       "      <td>0.032488</td>\n",
       "      <td>0.041644</td>\n",
       "      <td>0.002297</td>\n",
       "      <td>92492</td>\n",
       "      <td>2019-06-09T17:11:34.567Z</td>\n",
       "      <td>False</td>\n",
       "      <td>51.532153</td>\n",
       "      <td>0.055075</td>\n",
       "      <td>0.0551_51.5322</td>\n",
       "      <td>POINT (0.05507 51.53215)</td>\n",
       "    </tr>\n",
       "    <tr>\n",
       "      <th>3</th>\n",
       "      <td>amVTOx7uE0GuMkeN2ECC3w</td>\n",
       "      <td>0.249045</td>\n",
       "      <td>0.156707</td>\n",
       "      <td>0.001586</td>\n",
       "      <td>0.000017</td>\n",
       "      <td>0.146730</td>\n",
       "      <td>0.073339</td>\n",
       "      <td>0.352066</td>\n",
       "      <td>0.000012</td>\n",
       "      <td>0.001053</td>\n",
       "      <td>0.017598</td>\n",
       "      <td>0.000839</td>\n",
       "      <td>0.001007</td>\n",
       "      <td>205329</td>\n",
       "      <td>2015-04-15T11:11:25.227Z</td>\n",
       "      <td>False</td>\n",
       "      <td>51.522573</td>\n",
       "      <td>-0.036350</td>\n",
       "      <td>-0.0363_51.5226</td>\n",
       "      <td>POINT (-0.03635 51.52257)</td>\n",
       "    </tr>\n",
       "    <tr>\n",
       "      <th>4</th>\n",
       "      <td>46aeChblLDzqF3p4UjXb7g</td>\n",
       "      <td>0.061244</td>\n",
       "      <td>0.003218</td>\n",
       "      <td>0.000405</td>\n",
       "      <td>0.000527</td>\n",
       "      <td>0.147847</td>\n",
       "      <td>0.052610</td>\n",
       "      <td>0.707002</td>\n",
       "      <td>0.000764</td>\n",
       "      <td>0.021377</td>\n",
       "      <td>0.004624</td>\n",
       "      <td>0.000382</td>\n",
       "      <td>0.000000</td>\n",
       "      <td>121677</td>\n",
       "      <td>2016-08-29T16:15:48.000Z</td>\n",
       "      <td>False</td>\n",
       "      <td>51.622794</td>\n",
       "      <td>-0.136517</td>\n",
       "      <td>-0.1365_51.6228</td>\n",
       "      <td>POINT (-0.13652 51.62279)</td>\n",
       "    </tr>\n",
       "  </tbody>\n",
       "</table>\n",
       "</div>"
      ],
      "text/plain": [
       "                   Imgkey       Sky  Building      Pole  Road_Marking  \\\n",
       "0  wE0jAFaY7S7kBlobMy3nPA  0.288501  0.104387  0.031655      0.006545   \n",
       "1  k_syhXZRKg-blx5cCvFdBg  0.168970  0.000347  0.004676      0.015434   \n",
       "2  iVXnlg3PQMPspbTFqRD9eA  0.021730  0.146528  0.012488      0.034340   \n",
       "3  amVTOx7uE0GuMkeN2ECC3w  0.249045  0.156707  0.001586      0.000017   \n",
       "4  46aeChblLDzqF3p4UjXb7g  0.061244  0.003218  0.000405      0.000527   \n",
       "\n",
       "       Road  Pavement      Tree  Sign_Symbol     Fence   Vehicle  Pedestrian  \\\n",
       "0  0.334103  0.012228  0.094468     0.006325  0.013235  0.102205    0.006343   \n",
       "1  0.240914  0.104091  0.455197     0.000156  0.010122  0.000006    0.000087   \n",
       "2  0.262760  0.138669  0.303953     0.000434  0.002668  0.032488    0.041644   \n",
       "3  0.146730  0.073339  0.352066     0.000012  0.001053  0.017598    0.000839   \n",
       "4  0.147847  0.052610  0.707002     0.000764  0.021377  0.004624    0.000382   \n",
       "\n",
       "       Bike  Unnamed: 0               captureTime  isPano        lat  \\\n",
       "0  0.000006      155358  2017-01-09T11:16:58.080Z   False  51.458700   \n",
       "1  0.000000      331930  2019-08-20T20:07:23.000Z   False  51.395208   \n",
       "2  0.002297       92492  2019-06-09T17:11:34.567Z   False  51.532153   \n",
       "3  0.001007      205329  2015-04-15T11:11:25.227Z   False  51.522573   \n",
       "4  0.000000      121677  2016-08-29T16:15:48.000Z   False  51.622794   \n",
       "\n",
       "       long  long_lat_string                   geometry  \n",
       "0 -0.195153  -0.1952_51.4587  POINT (-0.19515 51.45870)  \n",
       "1  0.007908   0.0079_51.3952   POINT (0.00791 51.39521)  \n",
       "2  0.055075   0.0551_51.5322   POINT (0.05507 51.53215)  \n",
       "3 -0.036350  -0.0363_51.5226  POINT (-0.03635 51.52257)  \n",
       "4 -0.136517  -0.1365_51.6228  POINT (-0.13652 51.62279)  "
      ]
     },
     "execution_count": 15,
     "metadata": {},
     "output_type": "execute_result"
    }
   ],
   "source": [
    "gdf.head()"
   ]
  },
  {
   "cell_type": "code",
   "execution_count": 16,
   "metadata": {
    "ExecuteTime": {
     "end_time": "2020-01-13T11:17:03.777197Z",
     "start_time": "2020-01-13T11:17:03.640051Z"
    }
   },
   "outputs": [
    {
     "name": "stdout",
     "output_type": "stream",
     "text": [
      "\u001b[0m\u001b[01;34medges\u001b[0m/  \u001b[01;34mMapillary_images\u001b[0m/  \u001b[01;34mnodes\u001b[0m/  \u001b[01;34mpointsJson\u001b[0m/\r\n"
     ]
    }
   ],
   "source": [
    "%ls ../Data/GreaterLondon/"
   ]
  },
  {
   "cell_type": "code",
   "execution_count": 17,
   "metadata": {
    "ExecuteTime": {
     "end_time": "2020-01-13T11:17:03.820285Z",
     "start_time": "2020-01-13T11:17:03.781756Z"
    }
   },
   "outputs": [],
   "source": [
    "London = gpd.read_file('../Data/Geo_Data/statistical-gis-boundaries-london/ESRI/London_Borough_Excluding_MHW.shp')"
   ]
  },
  {
   "cell_type": "code",
   "execution_count": 18,
   "metadata": {
    "ExecuteTime": {
     "end_time": "2020-01-13T11:17:04.277177Z",
     "start_time": "2020-01-13T11:17:03.823320Z"
    }
   },
   "outputs": [
    {
     "data": {
      "text/plain": [
       "<matplotlib.axes._subplots.AxesSubplot at 0x7f87f28e7e50>"
      ]
     },
     "execution_count": 18,
     "metadata": {},
     "output_type": "execute_result"
    },
    {
     "data": {
      "image/png": "[encoded data removed]",
      "text/plain": [
       "<Figure size 1080x1080 with 1 Axes>"
      ]
     },
     "metadata": {},
     "output_type": "display_data"
    }
   ],
   "source": [
    "fig , ax = plt.subplots(figsize = (15,15))\n",
    "# London.plot(ax = ax )\n",
    "gdf[gdf['Tree']>0.90].plot(ax = ax )"
   ]
  },
  {
   "cell_type": "code",
   "execution_count": 19,
   "metadata": {
    "ExecuteTime": {
     "end_time": "2020-01-13T11:17:04.286553Z",
     "start_time": "2020-01-13T11:17:04.281334Z"
    }
   },
   "outputs": [],
   "source": [
    "SegnetLabels = ['Sky', 'Building', 'Pole','Road_Marking','Road','Pavement','Tree','Sign_Symbol','Fence','Vehicle','Pedestrian', 'Bike']"
   ]
  },
  {
   "cell_type": "code",
   "execution_count": 20,
   "metadata": {
    "ExecuteTime": {
     "end_time": "2020-01-13T11:18:30.824811Z",
     "start_time": "2020-01-13T11:17:04.290612Z"
    }
   },
   "outputs": [],
   "source": [
    "\n",
    "fdata_map_points = {}\n",
    "for index, row in gdf.iterrows():\n",
    "    fdata_map_points[m(row['long'], row['lat'])] = [float(row[k]) for k in SegnetLabels]"
   ]
  },
  {
   "cell_type": "code",
   "execution_count": 21,
   "metadata": {
    "ExecuteTime": {
     "end_time": "2020-01-13T11:18:35.372809Z",
     "start_time": "2020-01-13T11:18:30.828870Z"
    }
   },
   "outputs": [],
   "source": [
    "map_points = pd.Series(\n",
    "    [Point(map_point) for map_point in fdata_map_points])\n",
    "plaque_points = MultiPoint(list(map_points.values))\n",
    "wards_polygon = prep(MultiPolygon(list(df_map['poly'].values)))\n",
    "# # calculate points that fall within the London boundary\n",
    "# ldn_points = list(filter(wards_polygon.contains, plaque_points))"
   ]
  },
  {
   "cell_type": "code",
   "execution_count": 22,
   "metadata": {
    "ExecuteTime": {
     "end_time": "2020-01-13T11:18:35.380907Z",
     "start_time": "2020-01-13T11:18:35.376871Z"
    }
   },
   "outputs": [],
   "source": [
    "# len(ldn_points)"
   ]
  },
  {
   "cell_type": "code",
   "execution_count": 23,
   "metadata": {
    "ExecuteTime": {
     "end_time": "2020-01-13T11:18:40.240081Z",
     "start_time": "2020-01-13T11:18:35.383690Z"
    }
   },
   "outputs": [],
   "source": [
    "map_points = pd.Series([Point(mapped_x, mapped_y) for (mapped_x, mapped_y) in fdata_map_points])\n",
    "gsview_points = MultiPoint(list(map_points.values))"
   ]
  },
  {
   "cell_type": "code",
   "execution_count": 24,
   "metadata": {
    "ExecuteTime": {
     "end_time": "2020-01-13T11:18:50.628994Z",
     "start_time": "2020-01-13T11:18:40.243943Z"
    }
   },
   "outputs": [],
   "source": [
    "# calculate points that fall within the London boundary\n",
    "gsview_ldn_points = list(filter(wards_polygon.contains, gsview_points))"
   ]
  },
  {
   "cell_type": "code",
   "execution_count": 25,
   "metadata": {
    "ExecuteTime": {
     "end_time": "2020-01-13T11:18:50.640200Z",
     "start_time": "2020-01-13T11:18:50.633013Z"
    }
   },
   "outputs": [
    {
     "data": {
      "text/plain": [
       "383311"
      ]
     },
     "execution_count": 25,
     "metadata": {},
     "output_type": "execute_result"
    }
   ],
   "source": [
    "len(gsview_ldn_points)"
   ]
  },
  {
   "cell_type": "code",
   "execution_count": 26,
   "metadata": {
    "ExecuteTime": {
     "end_time": "2020-01-13T11:36:00.502620Z",
     "start_time": "2020-01-13T11:18:50.643811Z"
    }
   },
   "outputs": [],
   "source": [
    "# create a MultiPoint which we can check for set membership\n",
    "df_map['gsview_point_list'] = df_map['poly'].map(lambda x: list(filter(prep(x).contains, gsview_ldn_points)))"
   ]
  },
  {
   "cell_type": "code",
   "execution_count": 27,
   "metadata": {
    "ExecuteTime": {
     "end_time": "2020-01-13T11:36:08.803209Z",
     "start_time": "2020-01-13T11:36:00.506843Z"
    }
   },
   "outputs": [],
   "source": [
    "df_map['gsview_segnet_tags_dict'] = df_map['gsview_point_list'].map(lambda x: [fdata_map_points[(p.x,p.y)] for p in x])"
   ]
  },
  {
   "cell_type": "code",
   "execution_count": 28,
   "metadata": {
    "ExecuteTime": {
     "end_time": "2020-01-13T11:36:08.814372Z",
     "start_time": "2020-01-13T11:36:08.807254Z"
    }
   },
   "outputs": [],
   "source": [
    "df_map= df_map.dropna()"
   ]
  },
  {
   "cell_type": "code",
   "execution_count": 29,
   "metadata": {
    "ExecuteTime": {
     "end_time": "2020-01-13T11:36:08.943595Z",
     "start_time": "2020-01-13T11:36:08.818112Z"
    }
   },
   "outputs": [
    {
     "data": {
      "text/html": [
       "<div>\n",
       "<style scoped>\n",
       "    .dataframe tbody tr th:only-of-type {\n",
       "        vertical-align: middle;\n",
       "    }\n",
       "\n",
       "    .dataframe tbody tr th {\n",
       "        vertical-align: top;\n",
       "    }\n",
       "\n",
       "    .dataframe thead th {\n",
       "        text-align: right;\n",
       "    }\n",
       "</style>\n",
       "<table border=\"1\" class=\"dataframe\">\n",
       "  <thead>\n",
       "    <tr style=\"text-align: right;\">\n",
       "      <th></th>\n",
       "      <th>borough_name</th>\n",
       "      <th>poly</th>\n",
       "      <th>area_m</th>\n",
       "      <th>area_km</th>\n",
       "      <th>gsview_point_list</th>\n",
       "      <th>gsview_segnet_tags_dict</th>\n",
       "    </tr>\n",
       "  </thead>\n",
       "  <tbody>\n",
       "    <tr>\n",
       "      <th>0</th>\n",
       "      <td>E05000405</td>\n",
       "      <td>POLYGON ((13004.06946679378 5643.556704930117,...</td>\n",
       "      <td>7.557384e+06</td>\n",
       "      <td>75.573841</td>\n",
       "      <td>[POINT (13692.20125617523 6525.32624835975), P...</td>\n",
       "      <td>[[0.439108796296, 0.00052662037037, 0.01539930...</td>\n",
       "    </tr>\n",
       "    <tr>\n",
       "      <th>1</th>\n",
       "      <td>E05000414</td>\n",
       "      <td>POLYGON ((14432.57909461121 10890.80719812433,...</td>\n",
       "      <td>2.596590e+06</td>\n",
       "      <td>25.965904</td>\n",
       "      <td>[POINT (14439.83409906657 10891.31895870264), ...</td>\n",
       "      <td>[[0.292951388889, 0.00484953703704, 0.01661458...</td>\n",
       "    </tr>\n",
       "    <tr>\n",
       "      <th>2</th>\n",
       "      <td>E05000401</td>\n",
       "      <td>POLYGON ((14710.57509348575 12747.79659884245,...</td>\n",
       "      <td>1.454965e+06</td>\n",
       "      <td>14.549655</td>\n",
       "      <td>[]</td>\n",
       "      <td>[]</td>\n",
       "    </tr>\n",
       "    <tr>\n",
       "      <th>3</th>\n",
       "      <td>E05000400</td>\n",
       "      <td>POLYGON ((17083.95639115885 12354.05967180899,...</td>\n",
       "      <td>2.687010e+06</td>\n",
       "      <td>26.870103</td>\n",
       "      <td>[POINT (16396.02770139927 11363.05256452921), ...</td>\n",
       "      <td>[[0.20693287037, 0.10708912037, 0.009479166666...</td>\n",
       "    </tr>\n",
       "    <tr>\n",
       "      <th>4</th>\n",
       "      <td>E05000402</td>\n",
       "      <td>POLYGON ((18675.54168399898 13589.62372055175,...</td>\n",
       "      <td>1.879597e+06</td>\n",
       "      <td>18.795975</td>\n",
       "      <td>[POINT (18227.92694639806 14187.84422109151), ...</td>\n",
       "      <td>[[0.0113136574074, 0.575596064815, 0.000815972...</td>\n",
       "    </tr>\n",
       "  </tbody>\n",
       "</table>\n",
       "</div>"
      ],
      "text/plain": [
       "  borough_name                                               poly  \\\n",
       "0    E05000405  POLYGON ((13004.06946679378 5643.556704930117,...   \n",
       "1    E05000414  POLYGON ((14432.57909461121 10890.80719812433,...   \n",
       "2    E05000401  POLYGON ((14710.57509348575 12747.79659884245,...   \n",
       "3    E05000400  POLYGON ((17083.95639115885 12354.05967180899,...   \n",
       "4    E05000402  POLYGON ((18675.54168399898 13589.62372055175,...   \n",
       "\n",
       "         area_m    area_km                                  gsview_point_list  \\\n",
       "0  7.557384e+06  75.573841  [POINT (13692.20125617523 6525.32624835975), P...   \n",
       "1  2.596590e+06  25.965904  [POINT (14439.83409906657 10891.31895870264), ...   \n",
       "2  1.454965e+06  14.549655                                                 []   \n",
       "3  2.687010e+06  26.870103  [POINT (16396.02770139927 11363.05256452921), ...   \n",
       "4  1.879597e+06  18.795975  [POINT (18227.92694639806 14187.84422109151), ...   \n",
       "\n",
       "                             gsview_segnet_tags_dict  \n",
       "0  [[0.439108796296, 0.00052662037037, 0.01539930...  \n",
       "1  [[0.292951388889, 0.00484953703704, 0.01661458...  \n",
       "2                                                 []  \n",
       "3  [[0.20693287037, 0.10708912037, 0.009479166666...  \n",
       "4  [[0.0113136574074, 0.575596064815, 0.000815972...  "
      ]
     },
     "execution_count": 29,
     "metadata": {},
     "output_type": "execute_result"
    }
   ],
   "source": [
    "df_map.head()"
   ]
  },
  {
   "cell_type": "code",
   "execution_count": 30,
   "metadata": {
    "ExecuteTime": {
     "end_time": "2020-01-13T11:36:08.953716Z",
     "start_time": "2020-01-13T11:36:08.947365Z"
    }
   },
   "outputs": [],
   "source": [
    "df_map = df_map.dropna()"
   ]
  },
  {
   "cell_type": "code",
   "execution_count": 31,
   "metadata": {
    "ExecuteTime": {
     "end_time": "2020-01-13T11:36:08.967113Z",
     "start_time": "2020-01-13T11:36:08.956335Z"
    }
   },
   "outputs": [
    {
     "data": {
      "text/plain": [
       "649"
      ]
     },
     "execution_count": 31,
     "metadata": {},
     "output_type": "execute_result"
    }
   ],
   "source": [
    "len(df_map)"
   ]
  },
  {
   "cell_type": "code",
   "execution_count": 32,
   "metadata": {
    "ExecuteTime": {
     "end_time": "2020-01-13T11:36:08.975139Z",
     "start_time": "2020-01-13T11:36:08.971306Z"
    }
   },
   "outputs": [],
   "source": [
    "# for i in range(len(df_map)):\n",
    "#     print np.mean(np.array(df_map['gsview_segnet_tags_dict'].iloc[i]), axis=0)"
   ]
  },
  {
   "cell_type": "code",
   "execution_count": null,
   "metadata": {
    "ExecuteTime": {
     "end_time": "2020-01-09T17:40:31.417939Z",
     "start_time": "2020-01-09T17:40:30.746256Z"
    }
   },
   "outputs": [],
   "source": [
    "scene_tags = []\n",
    "total_pixels = []\n",
    "for index in range(len(df_map)):\n",
    "    mean = np.mean(np.array(df_map['gsview_segnet_tags_dict'].iloc[index]), axis=0)\n",
    "    total = np.sum(np.array(df_map['gsview_segnet_tags_dict'].iloc[index]), axis=0)\n",
    "    scene_tags.append(mean)\n",
    "    total_pixels.append(total)\n",
    "df_map['gsview_tags'] = scene_tags\n",
    "df_map['total_gsview_pixels'] = total_pixels"
   ]
  },
  {
   "cell_type": "code",
   "execution_count": null,
   "metadata": {
    "ExecuteTime": {
     "end_time": "2020-01-09T17:40:31.428344Z",
     "start_time": "2020-01-09T17:40:31.421518Z"
    }
   },
   "outputs": [],
   "source": [
    "df_map = df_map.dropna()"
   ]
  },
  {
   "cell_type": "code",
   "execution_count": null,
   "metadata": {
    "ExecuteTime": {
     "end_time": "2020-01-13T11:16:19.342791Z",
     "start_time": "2020-01-13T11:16:19.279246Z"
    }
   },
   "outputs": [],
   "source": [
    "df_map.head()"
   ]
  },
  {
   "cell_type": "code",
   "execution_count": null,
   "metadata": {
    "ExecuteTime": {
     "end_time": "2020-01-09T17:40:31.437040Z",
     "start_time": "2020-01-09T17:40:31.431809Z"
    }
   },
   "outputs": [],
   "source": [
    "# scene_tags"
   ]
  },
  {
   "cell_type": "code",
   "execution_count": null,
   "metadata": {
    "ExecuteTime": {
     "end_time": "2020-01-09T17:40:31.491797Z",
     "start_time": "2020-01-09T17:40:31.439580Z"
    }
   },
   "outputs": [],
   "source": [
    "\n",
    "\n",
    "cats = ['Sky', 'Building', 'Pole','Road_Marking','Road','Pavement','Tree','Sign_Symbol','Fence','Vehicle','Pedestrian', 'Bike']\n",
    "\n",
    "scene_tags_transpose = list(zip(*scene_tags))\n",
    "scene_total_transpose = list(zip(*total_pixels))\n",
    "\n",
    "for index in range(len(cats)):\n",
    "    cat = cats[index]\n",
    "    cat_total =  cats[index] + 'Total'\n",
    "    df_map[cat] = scene_tags_transpose[index]\n",
    "    df_map[cat_total] = scene_total_transpose[index]\n",
    "    "
   ]
  },
  {
   "cell_type": "code",
   "execution_count": null,
   "metadata": {
    "ExecuteTime": {
     "end_time": "2020-01-09T17:40:31.492722Z",
     "start_time": "2020-01-09T17:24:36.850Z"
    }
   },
   "outputs": [],
   "source": [
    "len(zip(*scene_tags)[0])"
   ]
  },
  {
   "cell_type": "code",
   "execution_count": null,
   "metadata": {
    "ExecuteTime": {
     "end_time": "2020-01-09T17:40:31.494034Z",
     "start_time": "2020-01-09T17:24:37.502Z"
    }
   },
   "outputs": [],
   "source": [
    "df_map"
   ]
  },
  {
   "cell_type": "code",
   "execution_count": null,
   "metadata": {
    "ExecuteTime": {
     "end_time": "2020-01-09T17:40:31.495224Z",
     "start_time": "2020-01-09T17:24:38.093Z"
    }
   },
   "outputs": [],
   "source": [
    "df_map.columns"
   ]
  },
  {
   "cell_type": "code",
   "execution_count": null,
   "metadata": {
    "ExecuteTime": {
     "end_time": "2020-01-09T17:40:31.496458Z",
     "start_time": "2020-01-09T17:24:38.692Z"
    }
   },
   "outputs": [],
   "source": [
    "tree_data = pd.read_csv('../Data/Geo_Data/london_street_trees_gla_20180214.csv')"
   ]
  },
  {
   "cell_type": "code",
   "execution_count": null,
   "metadata": {
    "ExecuteTime": {
     "end_time": "2020-01-09T17:40:31.497769Z",
     "start_time": "2020-01-09T17:24:39.292Z"
    }
   },
   "outputs": [],
   "source": [
    "tree_data"
   ]
  },
  {
   "cell_type": "code",
   "execution_count": null,
   "metadata": {
    "ExecuteTime": {
     "end_time": "2020-01-09T17:40:31.499158Z",
     "start_time": "2020-01-09T17:24:39.758Z"
    }
   },
   "outputs": [],
   "source": [
    "len(tree_data)"
   ]
  },
  {
   "cell_type": "code",
   "execution_count": null,
   "metadata": {
    "ExecuteTime": {
     "end_time": "2020-01-09T17:40:31.500384Z",
     "start_time": "2020-01-09T17:24:42.898Z"
    }
   },
   "outputs": [],
   "source": [
    "treeLocations = []\n",
    "for index , row in tree_data.iterrows():\n",
    "    point = Point(m(row['longitude'], row['latitude']))\n",
    "    treeLocations.append(point)\n",
    "\n",
    "print treeLocations[1]\n",
    "\n",
    "tree_points = pd.Series(treeLocations)\n",
    "tree_data_points = MultiPoint(list(tree_points.values))\n",
    "# calculate points that fall within the London boundary\n",
    "tree_ldn_points = list(filter(wards_polygon.contains, tree_data_points))\n",
    "# create a MultiPoint which we can check for set membership\n",
    "df_map['Tree_location_list'] = df_map['poly'].map(lambda x: list(filter(prep(x).contains, tree_ldn_points)))\n",
    "df_map['TreeCount'] = df_map['Tree_location_list'].map(lambda x: len(x))"
   ]
  },
  {
   "cell_type": "code",
   "execution_count": null,
   "metadata": {
    "ExecuteTime": {
     "end_time": "2020-01-09T17:40:31.501777Z",
     "start_time": "2020-01-09T17:24:43.672Z"
    }
   },
   "outputs": [],
   "source": [
    "df_map.head()"
   ]
  },
  {
   "cell_type": "code",
   "execution_count": null,
   "metadata": {
    "ExecuteTime": {
     "end_time": "2020-01-09T17:40:31.503012Z",
     "start_time": "2020-01-09T17:24:44.329Z"
    }
   },
   "outputs": [],
   "source": [
    "gdf = gpd.GeoDataFrame(df_map[df_map['TreeCount']>100], crs={}, geometry='poly')"
   ]
  },
  {
   "cell_type": "code",
   "execution_count": null,
   "metadata": {
    "ExecuteTime": {
     "end_time": "2020-01-09T17:40:31.504305Z",
     "start_time": "2020-01-09T17:24:46.879Z"
    }
   },
   "outputs": [],
   "source": [
    "Mapillary_gdf = gdf.copy()\n",
    "# %store Mapillary_gdf"
   ]
  },
  {
   "cell_type": "code",
   "execution_count": null,
   "metadata": {
    "ExecuteTime": {
     "end_time": "2020-01-09T17:40:31.505615Z",
     "start_time": "2020-01-09T17:24:57.170Z"
    }
   },
   "outputs": [],
   "source": [
    "len(gdf)"
   ]
  },
  {
   "cell_type": "code",
   "execution_count": null,
   "metadata": {
    "ExecuteTime": {
     "end_time": "2020-01-09T17:40:31.506846Z",
     "start_time": "2020-01-09T17:24:57.787Z"
    }
   },
   "outputs": [],
   "source": [
    "# gdf.to_csv('Tree_Segnet.csv')"
   ]
  },
  {
   "cell_type": "code",
   "execution_count": null,
   "metadata": {
    "ExecuteTime": {
     "end_time": "2020-01-09T17:40:31.508194Z",
     "start_time": "2020-01-09T17:24:58.640Z"
    }
   },
   "outputs": [],
   "source": [
    "# df_map = pd.read_csv('Tree_Segnet.csv')"
   ]
  },
  {
   "cell_type": "code",
   "execution_count": null,
   "metadata": {
    "ExecuteTime": {
     "end_time": "2020-01-09T17:40:31.509413Z",
     "start_time": "2020-01-09T17:24:59.116Z"
    }
   },
   "outputs": [],
   "source": [
    "gdf['total_gsview_pixels'].iloc[2]"
   ]
  },
  {
   "cell_type": "code",
   "execution_count": null,
   "metadata": {
    "ExecuteTime": {
     "end_time": "2020-01-09T17:40:31.510751Z",
     "start_time": "2020-01-09T17:24:59.716Z"
    }
   },
   "outputs": [],
   "source": [
    "sum(gdf['TreeCount'])"
   ]
  },
  {
   "cell_type": "code",
   "execution_count": null,
   "metadata": {
    "ExecuteTime": {
     "end_time": "2020-01-09T17:40:31.511979Z",
     "start_time": "2020-01-09T17:25:00.276Z"
    }
   },
   "outputs": [],
   "source": [
    "polygon = gdf.iloc[15]['poly']"
   ]
  },
  {
   "cell_type": "code",
   "execution_count": null,
   "metadata": {
    "ExecuteTime": {
     "end_time": "2020-01-09T17:40:31.513212Z",
     "start_time": "2020-01-09T17:25:00.667Z"
    }
   },
   "outputs": [],
   "source": [
    "polygon"
   ]
  },
  {
   "cell_type": "code",
   "execution_count": null,
   "metadata": {
    "ExecuteTime": {
     "end_time": "2020-01-09T17:40:31.514529Z",
     "start_time": "2020-01-09T17:25:01.015Z"
    }
   },
   "outputs": [],
   "source": [
    "gdf.iloc[15].area_km"
   ]
  },
  {
   "cell_type": "code",
   "execution_count": null,
   "metadata": {
    "ExecuteTime": {
     "end_time": "2020-01-09T17:40:31.515720Z",
     "start_time": "2020-01-09T17:25:01.431Z"
    }
   },
   "outputs": [],
   "source": [
    "polygon.area"
   ]
  },
  {
   "cell_type": "code",
   "execution_count": null,
   "metadata": {
    "ExecuteTime": {
     "end_time": "2020-01-09T17:40:31.516771Z",
     "start_time": "2020-01-09T17:25:01.911Z"
    }
   },
   "outputs": [],
   "source": [
    "# df_map.to_csv('Tree_Segnet.csv')"
   ]
  },
  {
   "cell_type": "code",
   "execution_count": null,
   "metadata": {
    "ExecuteTime": {
     "end_time": "2020-01-09T17:40:31.518048Z",
     "start_time": "2020-01-09T17:25:02.761Z"
    }
   },
   "outputs": [],
   "source": [
    "from sklearn import preprocessing\n",
    "min_max_scaler = preprocessing.MinMaxScaler()\n",
    "x = gdf['TreeCount'].values.astype(float)\n",
    "x2 = gdf['Tree'].values.astype(float)\n",
    "\n",
    "minVal = float(np.min(x))\n",
    "maxVal = float(np.max(x))\n",
    "\n",
    "min_tree = float(np.min(x2))\n",
    "max_tree = float(np.max(x2))\n",
    "\n",
    "gdf['NormedTreeCount'] = (gdf['TreeCount']-minVal)/(maxVal-minVal)\n",
    "gdf['NormedTreeSegnet'] = (gdf['Tree']-min_tree)/(max_tree-min_tree)\n",
    "\n",
    "gdf['TreeDensity'] = np.log((gdf['TreeCount']*10.0)/gdf['area_km'])\n",
    "gdf['TreePixelDensity'] = np.log((gdf['TreeTotal']*10.0)/gdf['area_km'])"
   ]
  },
  {
   "cell_type": "code",
   "execution_count": null,
   "metadata": {
    "ExecuteTime": {
     "end_time": "2020-01-09T17:40:31.519376Z",
     "start_time": "2020-01-09T17:25:04.169Z"
    }
   },
   "outputs": [],
   "source": [
    "gdf.columns"
   ]
  },
  {
   "cell_type": "code",
   "execution_count": null,
   "metadata": {
    "ExecuteTime": {
     "end_time": "2020-01-09T17:40:31.520650Z",
     "start_time": "2020-01-09T17:25:04.816Z"
    }
   },
   "outputs": [],
   "source": [
    "gdf['GSV_samples_per_sqkm'] = 0\n",
    "samplesPerWard = {}\n",
    "for index, row in gdf.iterrows():\n",
    "    samplesPerWard[row['borough_name']] = float(len(row['gsview_point_list'])*10.0)/row['area_km']\n",
    "    gdf.at[index,'GSV_samples_per_sqkm'] = float(len(row['gsview_point_list'])*10.0)/row['area_km']"
   ]
  },
  {
   "cell_type": "code",
   "execution_count": null,
   "metadata": {
    "ExecuteTime": {
     "end_time": "2020-01-09T17:40:31.521883Z",
     "start_time": "2020-01-09T17:25:05.267Z"
    }
   },
   "outputs": [],
   "source": [
    "gdf.to_pickle('Ward_mapillary.pkl')"
   ]
  },
  {
   "cell_type": "code",
   "execution_count": null,
   "metadata": {
    "ExecuteTime": {
     "end_time": "2020-01-09T17:40:31.523180Z",
     "start_time": "2020-01-09T17:25:07.553Z"
    }
   },
   "outputs": [],
   "source": [
    "gdf['decile'] = pd.qcut(gdf['GSV_samples_per_sqkm'], q=5, precision=0)"
   ]
  },
  {
   "cell_type": "code",
   "execution_count": null,
   "metadata": {
    "ExecuteTime": {
     "end_time": "2020-01-09T17:40:31.524383Z",
     "start_time": "2020-01-09T17:25:07.836Z"
    }
   },
   "outputs": [],
   "source": [
    "gdf['decile_treeDensity'] = pd.qcut(gdf['TreeDensity'], q=5, precision=0)"
   ]
  },
  {
   "cell_type": "code",
   "execution_count": null,
   "metadata": {
    "ExecuteTime": {
     "end_time": "2020-01-09T17:40:31.525675Z",
     "start_time": "2020-01-09T17:25:08.127Z"
    }
   },
   "outputs": [],
   "source": [
    "gdf"
   ]
  },
  {
   "cell_type": "code",
   "execution_count": null,
   "metadata": {
    "ExecuteTime": {
     "end_time": "2020-01-09T17:40:31.526978Z",
     "start_time": "2020-01-09T17:25:08.596Z"
    }
   },
   "outputs": [],
   "source": [
    "mappilary_filtered = gdf[gdf['GSV_samples_per_sqkm'] >= 10]"
   ]
  },
  {
   "cell_type": "code",
   "execution_count": null,
   "metadata": {
    "ExecuteTime": {
     "end_time": "2020-01-09T17:40:31.528350Z",
     "start_time": "2020-01-09T17:25:09.036Z"
    }
   },
   "outputs": [],
   "source": [
    "len(mappilary_filtered)"
   ]
  },
  {
   "cell_type": "code",
   "execution_count": null,
   "metadata": {
    "ExecuteTime": {
     "end_time": "2020-01-09T17:40:31.529630Z",
     "start_time": "2020-01-09T17:25:09.732Z"
    }
   },
   "outputs": [],
   "source": [
    "import matplotlib.pyplot as plt\n",
    "fig, ax = plt.subplots()\n",
    "fig.set_size_inches(10,8)\n",
    "plt.xlabel('ln(Images per ward (Mappilary))')\n",
    "plt.ylabel('Frequency')\n",
    "# plt.axvline(thresh_low, color='r')\n",
    "# plt.axvline(thresh_high, color='r')\n",
    "n, bins, patches = plt.hist(np.log(mappilary_filtered['GSV_samples_per_sqkm']), 100, facecolor='g', alpha=0.75)"
   ]
  },
  {
   "cell_type": "code",
   "execution_count": null,
   "metadata": {
    "ExecuteTime": {
     "end_time": "2020-01-09T17:40:31.530974Z",
     "start_time": "2020-01-09T17:25:10.233Z"
    }
   },
   "outputs": [],
   "source": [
    "min(mappilary_filtered['TreeCount'])"
   ]
  },
  {
   "cell_type": "code",
   "execution_count": null,
   "metadata": {
    "ExecuteTime": {
     "end_time": "2020-01-09T17:40:31.532135Z",
     "start_time": "2020-01-09T17:25:10.452Z"
    }
   },
   "outputs": [],
   "source": [
    "len(gdf)"
   ]
  },
  {
   "cell_type": "code",
   "execution_count": null,
   "metadata": {
    "ExecuteTime": {
     "end_time": "2020-01-09T17:40:31.533425Z",
     "start_time": "2020-01-09T17:25:10.671Z"
    }
   },
   "outputs": [],
   "source": [
    "# df_map.head()"
   ]
  },
  {
   "cell_type": "code",
   "execution_count": null,
   "metadata": {
    "ExecuteTime": {
     "end_time": "2020-01-09T17:40:31.534703Z",
     "start_time": "2020-01-09T17:25:10.925Z"
    }
   },
   "outputs": [],
   "source": [
    "from scipy.stats import pearsonr"
   ]
  },
  {
   "cell_type": "code",
   "execution_count": null,
   "metadata": {
    "ExecuteTime": {
     "end_time": "2020-01-09T17:40:31.535958Z",
     "start_time": "2020-01-09T17:25:11.228Z"
    }
   },
   "outputs": [],
   "source": [
    "corr = pearsonr(gdf['TreeCount'],gdf['Tree'])\n",
    "print corr"
   ]
  },
  {
   "cell_type": "code",
   "execution_count": null,
   "metadata": {
    "ExecuteTime": {
     "end_time": "2020-01-09T17:40:31.537294Z",
     "start_time": "2020-01-09T17:25:11.970Z"
    }
   },
   "outputs": [],
   "source": [
    "fig, ax = plt.subplots()\n",
    "fig.set_size_inches(16,12)\n",
    "sns.set(font_scale=2) \n",
    "sns.regplot(x=\"TreeCount\", y=\"Tree\", data=mappilary_filtered);\n",
    "plt.xlabel('Number of registered trees in a ward')\n",
    "plt.ylabel('Mean Segnet Tree pixels')\n",
    "ax.annotate(\"Pearson r: \" +  str(corr[0])[:4] + '***',  xy=(0.1, 0.55),fontsize = 20)"
   ]
  },
  {
   "cell_type": "code",
   "execution_count": null,
   "metadata": {
    "ExecuteTime": {
     "end_time": "2020-01-09T17:40:31.538431Z",
     "start_time": "2020-01-09T17:25:12.602Z"
    }
   },
   "outputs": [],
   "source": [
    "str(10)"
   ]
  },
  {
   "cell_type": "code",
   "execution_count": null,
   "metadata": {
    "ExecuteTime": {
     "end_time": "2020-01-09T17:40:31.539799Z",
     "start_time": "2020-01-09T17:25:13.339Z"
    }
   },
   "outputs": [],
   "source": [
    "corr = pearsonr(mappilary_filtered['TreeDensity'],mappilary_filtered['TreePixelDensity'])\n",
    "print corr\n",
    "# fig, ax = plt.subplots()\n",
    "# fig.set_size_inches(16,12)\n",
    "sns.set(font_scale=2) \n",
    "ax = sns.jointplot(x=mappilary_filtered['TreeDensity'], y=mappilary_filtered['TreePixelDensity'], kind='regression',height=15);\n",
    "plt.xlabel('ln(Trees per square km)')\n",
    "plt.ylabel('ln(Tree pixels per square km)')\n",
    "# ax.annotate(\"Pearson r: \" +  str(corr[0])[:4] + '***',fontsize = 20)\n",
    "ax.annotate(pearsonr)"
   ]
  },
  {
   "cell_type": "code",
   "execution_count": null,
   "metadata": {
    "ExecuteTime": {
     "end_time": "2020-01-09T17:40:31.541041Z",
     "start_time": "2020-01-09T17:25:14.071Z"
    }
   },
   "outputs": [],
   "source": [
    "corrs = []\n",
    "bins = []\n",
    "for name, group in gdf.groupby('decile'):\n",
    "    bins.append(name)\n",
    "    corr = pearsonr(group['TreeDensity'],group['TreePixelDensity'])\n",
    "    corrs.append(corr)"
   ]
  },
  {
   "cell_type": "code",
   "execution_count": null,
   "metadata": {
    "ExecuteTime": {
     "end_time": "2020-01-09T17:40:31.542279Z",
     "start_time": "2020-01-09T17:25:14.992Z"
    }
   },
   "outputs": [],
   "source": [
    "fig = plt.figure()\n",
    "fig.set_size_inches(15, 10)\n",
    "ax = fig.add_axes([0,0,1,1])\n",
    "plt.xlabel(\"Wards binned by GSV samples per sq km\",fontsize = 25)\n",
    "plt.ylabel(\"Correlation of GSV green index with ln(trees/sqkm)\",fontsize = 25)\n",
    "xlabels = [str(b.left)+'-'+str(b.right) for b in bins]\n",
    "c = [corr[0] for corr in corrs]\n",
    "ax.bar(xlabels,c)\n",
    "\n",
    "p = []\n",
    "for corr in corrs: \n",
    "    if corr[1] > 0.05:\n",
    "        p.append('ns')\n",
    "    elif corr[1] <= 0.05 and corr[1] > 0.01  :\n",
    "        p.append('*')\n",
    "    elif corr[1] <= 0.01 and corr[1] > 0.001:\n",
    "        p.append('**')\n",
    "    elif corr[1] <= 0.001 and corr[1] > 0.0001:\n",
    "        p.append('**')\n",
    "    elif corr[1] <= 0.0001 and corr[1] > 0.00001:\n",
    "        p.append('***')\n",
    "    else :\n",
    "        p.append('****')\n",
    "for xi, yi, l in zip(*[xlabels, c, p]):\n",
    "    ax.text(xi, yi, l , fontsize = 18)\n",
    "    \n",
    "    \n",
    "plt.xticks(fontsize=20)\n",
    "plt.yticks(fontsize=20)\n",
    "plt.show()"
   ]
  },
  {
   "cell_type": "code",
   "execution_count": null,
   "metadata": {
    "ExecuteTime": {
     "end_time": "2020-01-09T17:40:31.543523Z",
     "start_time": "2020-01-09T17:25:15.723Z"
    }
   },
   "outputs": [],
   "source": [
    "corr = pearsonr(gdf['TreeTotal'],gdf['area_km']/10)\n",
    "print corr\n",
    "# fig, ax = plt.subplots()\n",
    "# fig.set_size_inches(16,12)\n",
    "sns.set(font_scale=2) \n",
    "ax = sns.jointplot(x=np.log(gdf['TreeTotal']), y=gdf['area_km']/10,kind='regression',height=15);\n",
    "plt.xlabel('Total Tree Pixels per ward')\n",
    "plt.ylabel('Area of ward(sqkm)')\n",
    "# ax.annotate(\"Pearson r: \" +  str(corr[0])[:4] + '***',fontsize = 20)\n",
    "ax.annotate(pearsonr)"
   ]
  },
  {
   "cell_type": "code",
   "execution_count": null,
   "metadata": {
    "ExecuteTime": {
     "end_time": "2019-11-27T17:05:02.774466Z",
     "start_time": "2019-11-27T17:05:02.193383Z"
    }
   },
   "outputs": [],
   "source": [
    "wardpop = pd.read_csv('../Data/Geo_Data/housing-density-ward.csv')"
   ]
  },
  {
   "cell_type": "code",
   "execution_count": null,
   "metadata": {
    "ExecuteTime": {
     "end_time": "2019-11-27T17:05:03.110922Z",
     "start_time": "2019-11-27T17:05:03.104443Z"
    }
   },
   "outputs": [],
   "source": [
    "wardpop = wardpop.rename(columns={'Ward_Name': 'borough_name'})"
   ]
  },
  {
   "cell_type": "code",
   "execution_count": null,
   "metadata": {
    "ExecuteTime": {
     "end_time": "2019-11-27T17:05:03.473902Z",
     "start_time": "2019-11-27T17:05:03.435683Z"
    }
   },
   "outputs": [],
   "source": [
    "wardpop.head(n=10)"
   ]
  },
  {
   "cell_type": "code",
   "execution_count": null,
   "metadata": {
    "ExecuteTime": {
     "end_time": "2019-11-27T17:05:28.027448Z",
     "start_time": "2019-11-27T17:05:24.460135Z"
    }
   },
   "outputs": [],
   "source": [
    "tree = {}\n",
    "tree_density = {}\n",
    "pop_density = {}\n",
    "pop = {}\n",
    "names = []\n",
    "for index, row in gdf.iterrows():\n",
    "    wardname = ' '.join(row['borough_name'].split(' ')[:-1]).strip()\n",
    "    names.append(wardname)\n",
    "    tree_density[wardname] = row['TreeDensity']\n",
    "    tree[wardname] = row['TreeCount']\n",
    "    \n",
    "for index,row in wardpop.iterrows():\n",
    "    pop_density[row['borough_name']] = np.log10(row['Population_per_square_kilometre'])\n",
    "    pop[row['borough_name']] = row['Population']\n",
    "    \n",
    "common =  set(wardpop['borough_name']).intersection(names)\n",
    "        "
   ]
  },
  {
   "cell_type": "code",
   "execution_count": null,
   "metadata": {
    "ExecuteTime": {
     "end_time": "2019-11-27T17:05:28.056436Z",
     "start_time": "2019-11-27T17:05:28.029357Z"
    }
   },
   "outputs": [],
   "source": [
    "pop"
   ]
  },
  {
   "cell_type": "code",
   "execution_count": null,
   "metadata": {
    "ExecuteTime": {
     "end_time": "2019-11-27T17:05:30.206690Z",
     "start_time": "2019-11-27T17:05:30.200731Z"
    }
   },
   "outputs": [],
   "source": [
    "tree_to_people_ratio = {} \n",
    "for k in pop:\n",
    "    if k in tree:\n",
    "        tree_to_people_ratio[k] = float(tree[k])/float(pop[k])"
   ]
  },
  {
   "cell_type": "code",
   "execution_count": null,
   "metadata": {
    "ExecuteTime": {
     "end_time": "2019-11-27T17:05:30.633939Z",
     "start_time": "2019-11-27T17:05:30.628034Z"
    }
   },
   "outputs": [],
   "source": [
    "vals = np.log10(tree_to_people_ratio.values())\n",
    "thresh_low = np.mean(vals) - 2*np.sqrt(np.var(vals))\n",
    "thresh_high = np.mean(vals) + 2*np.sqrt(np.var(vals))"
   ]
  },
  {
   "cell_type": "code",
   "execution_count": null,
   "metadata": {
    "ExecuteTime": {
     "end_time": "2019-11-27T17:05:31.719151Z",
     "start_time": "2019-11-27T17:05:31.346459Z"
    }
   },
   "outputs": [],
   "source": [
    "import matplotlib.pyplot as plt\n",
    "fig, ax = plt.subplots()\n",
    "fig.set_size_inches(10,8)\n",
    "plt.xlabel('log10(Tree to people ratio)')\n",
    "plt.ylabel('Frequency')\n",
    "plt.axvline(thresh_low, color='r')\n",
    "plt.axvline(thresh_high, color='r')\n",
    "n, bins, patches = plt.hist(np.log10(tree_to_people_ratio.values()), 100, facecolor='g', alpha=0.75)"
   ]
  },
  {
   "cell_type": "code",
   "execution_count": null,
   "metadata": {
    "ExecuteTime": {
     "end_time": "2019-11-27T17:05:41.306428Z",
     "start_time": "2019-11-27T17:05:41.299598Z"
    }
   },
   "outputs": [],
   "source": [
    "filteredCommon = [k for k in common if np.log10(tree_to_people_ratio[k]) < thresh_high and  np.log10(tree_to_people_ratio[k]) > thresh_low ]"
   ]
  },
  {
   "cell_type": "code",
   "execution_count": null,
   "metadata": {
    "ExecuteTime": {
     "end_time": "2019-11-27T17:05:41.595847Z",
     "start_time": "2019-11-27T17:05:41.588209Z"
    }
   },
   "outputs": [],
   "source": [
    "print [k for k in common if np.log10(tree_to_people_ratio[k]) > thresh_high or  np.log10(tree_to_people_ratio[k]) < thresh_low ]"
   ]
  },
  {
   "cell_type": "code",
   "execution_count": null,
   "metadata": {
    "ExecuteTime": {
     "end_time": "2019-11-27T17:05:42.966454Z",
     "start_time": "2019-11-27T17:05:42.209540Z"
    }
   },
   "outputs": [],
   "source": [
    "sns.set(font_scale=2) \n",
    "ax = sns.jointplot(x=[np.log(pop_density[k]) for k in filteredCommon] , y=[np.log(tree_density[k]) for k in filteredCommon],kind='regression',height=15);\n",
    "plt.xlabel('ln(Population Density)')\n",
    "plt.ylabel('ln(Tree density)')\n",
    "ax.annotate(pearsonr)"
   ]
  },
  {
   "cell_type": "code",
   "execution_count": null,
   "metadata": {
    "ExecuteTime": {
     "end_time": "2019-11-08T11:56:58.574187Z",
     "start_time": "2019-11-08T11:56:58.213499Z"
    }
   },
   "outputs": [],
   "source": [
    "import matplotlib.pyplot as plt\n",
    "fig, ax = plt.subplots()\n",
    "fig.set_size_inches(10,8)\n",
    "plt.xlabel('Ward Area')\n",
    "plt.ylabel('Frequency')\n",
    "n, bins, patches = plt.hist(gdf['area_km']/10.0, 100, facecolor='g', alpha=0.75)"
   ]
  },
  {
   "cell_type": "code",
   "execution_count": null,
   "metadata": {
    "ExecuteTime": {
     "end_time": "2019-11-08T11:56:59.493414Z",
     "start_time": "2019-11-08T11:56:59.115111Z"
    }
   },
   "outputs": [],
   "source": [
    "import matplotlib.pyplot as plt\n",
    "fig, ax = plt.subplots()\n",
    "fig.set_size_inches(10,8)\n",
    "plt.xlabel('Total tree pixel fraction per ward')\n",
    "plt.ylabel('Frequency')\n",
    "n, bins, patches = plt.hist(gdf['TreeTotal'], 100, facecolor='g', alpha=0.75)"
   ]
  },
  {
   "cell_type": "code",
   "execution_count": null,
   "metadata": {
    "ExecuteTime": {
     "end_time": "2019-11-08T11:57:03.322896Z",
     "start_time": "2019-11-08T11:57:02.965051Z"
    }
   },
   "outputs": [],
   "source": [
    "import matplotlib.pyplot as plt\n",
    "fig, ax = plt.subplots()\n",
    "fig.set_size_inches(10,8)\n",
    "plt.xlabel('Tree Segnet pixels per square km')\n",
    "plt.ylabel('Frequency')\n",
    "n, bins, patches = plt.hist(gdf['TreePixelDensity'], 100, facecolor='g', alpha=0.75)"
   ]
  },
  {
   "cell_type": "code",
   "execution_count": null,
   "metadata": {
    "ExecuteTime": {
     "end_time": "2019-11-08T11:57:11.511268Z",
     "start_time": "2019-11-08T11:57:11.154471Z"
    }
   },
   "outputs": [],
   "source": [
    "import matplotlib.pyplot as plt\n",
    "fig, ax = plt.subplots()\n",
    "fig.set_size_inches(10,8)\n",
    "plt.xlabel('Number of registered trees in a ward')\n",
    "plt.ylabel('Frequency')\n",
    "n, bins, patches = plt.hist(gdf['TreeCount'], 100, facecolor='g', alpha=0.75)"
   ]
  },
  {
   "cell_type": "code",
   "execution_count": null,
   "metadata": {
    "ExecuteTime": {
     "end_time": "2019-11-11T09:29:32.004572Z",
     "start_time": "2019-11-11T09:29:31.627100Z"
    }
   },
   "outputs": [],
   "source": [
    "import matplotlib.pyplot as plt\n",
    "fig, ax = plt.subplots()\n",
    "fig.set_size_inches(10,8)\n",
    "plt.xlabel('ln(Trees per square km)')\n",
    "plt.ylabel('Frequency')\n",
    "n, bins, patches = plt.hist(gdf['TreeDensity'], 100, facecolor='g', alpha=0.75)"
   ]
  },
  {
   "cell_type": "code",
   "execution_count": null,
   "metadata": {
    "ExecuteTime": {
     "end_time": "2019-10-30T13:34:54.834766Z",
     "start_time": "2019-10-30T13:34:54.460077Z"
    }
   },
   "outputs": [],
   "source": [
    "import matplotlib.pyplot as plt\n",
    "fig, ax = plt.subplots()\n",
    "fig.set_size_inches(10,8)\n",
    "plt.xlabel('Spatial density of trees in a ward')\n",
    "plt.ylabel('Frequency')\n",
    "n, bins, patches = plt.hist(filtered_df['area_km']/10, 100, facecolor='g', alpha=0.75)"
   ]
  },
  {
   "cell_type": "code",
   "execution_count": null,
   "metadata": {
    "ExecuteTime": {
     "end_time": "2019-10-30T13:34:55.649163Z",
     "start_time": "2019-10-30T13:34:55.289542Z"
    }
   },
   "outputs": [],
   "source": [
    "import matplotlib.pyplot as plt\n",
    "fig, ax = plt.subplots()\n",
    "fig.set_size_inches(10,8)\n",
    "plt.xlabel('Segnet tree pixel values')\n",
    "plt.ylabel('Frequency')\n",
    "n, bins, patches = plt.hist(filtered_df['Tree'], 100, facecolor='g', alpha=0.75)"
   ]
  },
  {
   "cell_type": "code",
   "execution_count": null,
   "metadata": {
    "ExecuteTime": {
     "end_time": "2019-10-30T13:34:56.612781Z",
     "start_time": "2019-10-30T13:34:56.243273Z"
    }
   },
   "outputs": [],
   "source": [
    "import matplotlib.pyplot as plt\n",
    "fig, ax = plt.subplots()\n",
    "fig.set_size_inches(10,8)\n",
    "plt.xlabel('Segnet tree pixel values')\n",
    "plt.ylabel('Frequency')\n",
    "n, bins, patches = plt.hist(filtered_df['Tree'], 100, facecolor='g', alpha=0.75)"
   ]
  },
  {
   "cell_type": "code",
   "execution_count": null,
   "metadata": {
    "ExecuteTime": {
     "end_time": "2019-10-30T13:34:57.924870Z",
     "start_time": "2019-10-30T13:34:57.417018Z"
    }
   },
   "outputs": [],
   "source": [
    "corr = pearsonr(filtered_df['TreeDensity'],filtered_df['Tree'])\n",
    "print corr\n",
    "fig, ax = plt.subplots()\n",
    "fig.set_size_inches(16,12)\n",
    "sns.set(font_scale=2) \n",
    "sns.regplot(x=\"TreeDensity\", y=\"Tree\", data=filtered_df);\n",
    "plt.xlabel('Ward spatial tree density (Trees/sqkm)')\n",
    "plt.ylabel('Mean tree pixels per ward')\n",
    "ax.annotate(\"Pearson r: \" +  str(corr[0])[:5] + '***',  xy=(3000, 0.00005),fontsize = 20)"
   ]
  },
  {
   "cell_type": "code",
   "execution_count": null,
   "metadata": {
    "ExecuteTime": {
     "end_time": "2019-10-30T13:35:05.538055Z",
     "start_time": "2019-10-30T13:35:05.026816Z"
    }
   },
   "outputs": [],
   "source": [
    "corr = pearsonr(np.log10(filtered_df['TreeDensity']),np.log10(filtered_df['Tree']))\n",
    "print corr\n",
    "fig, ax = plt.subplots()\n",
    "fig.set_size_inches(16,12)\n",
    "sns.set(font_scale=2) \n",
    "sns.regplot(x=np.log10(filtered_df['TreeDensity']), y=np.log10(filtered_df['Tree']));\n",
    "plt.xlabel('Ward spatial tree density (Trees/sqkm) (log_10)')\n",
    "plt.ylabel('Mean tree pixels per ward(log_10)')\n",
    "ax.annotate(\"Pearson r: \" +  str(corr[0])[:4] + '***',  xy=(2, -3 ),fontsize = 20)"
   ]
  },
  {
   "cell_type": "code",
   "execution_count": null,
   "metadata": {
    "ExecuteTime": {
     "end_time": "2019-10-30T13:35:06.273644Z",
     "start_time": "2019-10-30T13:35:06.267937Z"
    }
   },
   "outputs": [],
   "source": [
    "min(filtered_df['TreeCount'])"
   ]
  },
  {
   "cell_type": "code",
   "execution_count": null,
   "metadata": {
    "ExecuteTime": {
     "end_time": "2019-10-30T13:35:25.706252Z",
     "start_time": "2019-10-30T13:35:25.690022Z"
    }
   },
   "outputs": [],
   "source": [
    "ward_csv_CRESH = pd.read_csv('../Data/Geo_Data//uk_ward_greenspace.csv')"
   ]
  },
  {
   "cell_type": "code",
   "execution_count": null,
   "metadata": {
    "ExecuteTime": {
     "end_time": "2019-10-30T13:35:26.650240Z",
     "start_time": "2019-10-30T13:35:26.634618Z"
    }
   },
   "outputs": [],
   "source": [
    "ward_csv_CRESH.head()"
   ]
  },
  {
   "cell_type": "code",
   "execution_count": null,
   "metadata": {},
   "outputs": [],
   "source": []
  }
 ],
 "metadata": {
  "kernelspec": {
   "display_name": "Python 2",
   "language": "python",
   "name": "python2"
  },
  "language_info": {
   "codemirror_mode": {
    "name": "ipython",
    "version": 2
   },
   "file_extension": ".py",
   "mimetype": "text/x-python",
   "name": "python",
   "nbconvert_exporter": "python",
   "pygments_lexer": "ipython2",
   "version": "2.7.12"
  }
 },
 "nbformat": 4,
 "nbformat_minor": 2
}
