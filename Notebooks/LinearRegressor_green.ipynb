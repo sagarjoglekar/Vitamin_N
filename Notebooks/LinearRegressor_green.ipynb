{
 "cells": [
  {
   "cell_type": "code",
   "execution_count": 448,
   "metadata": {
    "ExecuteTime": {
     "end_time": "2020-02-05T11:42:05.323947Z",
     "start_time": "2020-02-05T11:42:05.313174Z"
    }
   },
   "outputs": [],
   "source": [
    "import pandas as pd\n",
    "import numpy as np\n",
    "import matplotlib.pyplot as plt\n",
    "import pandas as pd \n",
    "import json\n",
    "from sklearn import preprocessing\n",
    "%matplotlib inline\n",
    "import matplotlib.pyplot as plt\n",
    "import seaborn as sns\n",
    "from scipy.stats import pearsonr"
   ]
  },
  {
   "cell_type": "code",
   "execution_count": 449,
   "metadata": {
    "ExecuteTime": {
     "end_time": "2020-02-05T11:42:05.498151Z",
     "start_time": "2020-02-05T11:42:05.494456Z"
    }
   },
   "outputs": [],
   "source": [
    "import statsmodels.api as sm"
   ]
  },
  {
   "cell_type": "code",
   "execution_count": 737,
   "metadata": {
    "ExecuteTime": {
     "end_time": "2020-02-05T19:09:28.467780Z",
     "start_time": "2020-02-05T19:09:28.451453Z"
    }
   },
   "outputs": [],
   "source": [
    "beauty = pd.read_csv('wards_beauty_score.csv')"
   ]
  },
  {
   "cell_type": "code",
   "execution_count": 740,
   "metadata": {
    "ExecuteTime": {
     "end_time": "2020-02-05T19:09:56.661588Z",
     "start_time": "2020-02-05T19:09:56.652885Z"
    }
   },
   "outputs": [],
   "source": [
    "flickr = pd.read_csv('Ward_Flicker_nature_tags.csv')"
   ]
  },
  {
   "cell_type": "code",
   "execution_count": 756,
   "metadata": {
    "ExecuteTime": {
     "end_time": "2020-02-05T19:27:41.683330Z",
     "start_time": "2020-02-05T19:27:41.670772Z"
    }
   },
   "outputs": [
    {
     "data": {
      "text/html": [
       "<div>\n",
       "<style scoped>\n",
       "    .dataframe tbody tr th:only-of-type {\n",
       "        vertical-align: middle;\n",
       "    }\n",
       "\n",
       "    .dataframe tbody tr th {\n",
       "        vertical-align: top;\n",
       "    }\n",
       "\n",
       "    .dataframe thead th {\n",
       "        text-align: right;\n",
       "    }\n",
       "</style>\n",
       "<table border=\"1\" class=\"dataframe\">\n",
       "  <thead>\n",
       "    <tr style=\"text-align: right;\">\n",
       "      <th></th>\n",
       "      <th>Unnamed: 0</th>\n",
       "      <th>GSS_CODE</th>\n",
       "      <th>Total</th>\n",
       "      <th>Nature</th>\n",
       "    </tr>\n",
       "  </thead>\n",
       "  <tbody>\n",
       "    <tr>\n",
       "      <th>0</th>\n",
       "      <td>0</td>\n",
       "      <td>E05000026</td>\n",
       "      <td>32748</td>\n",
       "      <td>519</td>\n",
       "    </tr>\n",
       "    <tr>\n",
       "      <th>1</th>\n",
       "      <td>1</td>\n",
       "      <td>E05000027</td>\n",
       "      <td>12155</td>\n",
       "      <td>1240</td>\n",
       "    </tr>\n",
       "    <tr>\n",
       "      <th>2</th>\n",
       "      <td>2</td>\n",
       "      <td>E05000028</td>\n",
       "      <td>4706</td>\n",
       "      <td>174</td>\n",
       "    </tr>\n",
       "    <tr>\n",
       "      <th>3</th>\n",
       "      <td>3</td>\n",
       "      <td>E05000029</td>\n",
       "      <td>6745</td>\n",
       "      <td>44</td>\n",
       "    </tr>\n",
       "  </tbody>\n",
       "</table>\n",
       "</div>"
      ],
      "text/plain": [
       "   Unnamed: 0   GSS_CODE  Total  Nature\n",
       "0           0  E05000026  32748     519\n",
       "1           1  E05000027  12155    1240\n",
       "2           2  E05000028   4706     174\n",
       "3           3  E05000029   6745      44"
      ]
     },
     "execution_count": 756,
     "metadata": {},
     "output_type": "execute_result"
    }
   ],
   "source": [
    "flickr[:4]"
   ]
  },
  {
   "cell_type": "code",
   "execution_count": 743,
   "metadata": {
    "ExecuteTime": {
     "end_time": "2020-02-05T19:11:40.466227Z",
     "start_time": "2020-02-05T19:11:40.459293Z"
    }
   },
   "outputs": [],
   "source": [
    "beauty['ward_name'] = beauty['ward_name'].apply(lambda x: x.replace(' Ward',''))"
   ]
  },
  {
   "cell_type": "code",
   "execution_count": 745,
   "metadata": {
    "ExecuteTime": {
     "end_time": "2020-02-05T19:11:55.512054Z",
     "start_time": "2020-02-05T19:11:55.506480Z"
    }
   },
   "outputs": [
    {
     "data": {
      "text/plain": [
       "627"
      ]
     },
     "execution_count": 745,
     "metadata": {},
     "output_type": "execute_result"
    }
   ],
   "source": [
    "len(beauty)"
   ]
  },
  {
   "cell_type": "code",
   "execution_count": 746,
   "metadata": {
    "ExecuteTime": {
     "end_time": "2020-02-05T19:13:18.412446Z",
     "start_time": "2020-02-05T19:13:18.398691Z"
    }
   },
   "outputs": [
    {
     "data": {
      "text/html": [
       "<div>\n",
       "<style scoped>\n",
       "    .dataframe tbody tr th:only-of-type {\n",
       "        vertical-align: middle;\n",
       "    }\n",
       "\n",
       "    .dataframe tbody tr th {\n",
       "        vertical-align: top;\n",
       "    }\n",
       "\n",
       "    .dataframe thead th {\n",
       "        text-align: right;\n",
       "    }\n",
       "</style>\n",
       "<table border=\"1\" class=\"dataframe\">\n",
       "  <thead>\n",
       "    <tr style=\"text-align: right;\">\n",
       "      <th></th>\n",
       "      <th>Unnamed: 0</th>\n",
       "      <th>ward_name</th>\n",
       "      <th>bscore</th>\n",
       "    </tr>\n",
       "  </thead>\n",
       "  <tbody>\n",
       "    <tr>\n",
       "      <th>0</th>\n",
       "      <td>0</td>\n",
       "      <td>Chessington South</td>\n",
       "      <td>0.563107</td>\n",
       "    </tr>\n",
       "    <tr>\n",
       "      <th>1</th>\n",
       "      <td>1</td>\n",
       "      <td>Tolworth and Hook Rise</td>\n",
       "      <td>0.466667</td>\n",
       "    </tr>\n",
       "    <tr>\n",
       "      <th>2</th>\n",
       "      <td>2</td>\n",
       "      <td>Berrylands</td>\n",
       "      <td>0.741379</td>\n",
       "    </tr>\n",
       "    <tr>\n",
       "      <th>3</th>\n",
       "      <td>3</td>\n",
       "      <td>Alexandra</td>\n",
       "      <td>0.638554</td>\n",
       "    </tr>\n",
       "    <tr>\n",
       "      <th>4</th>\n",
       "      <td>4</td>\n",
       "      <td>Beverley</td>\n",
       "      <td>0.582278</td>\n",
       "    </tr>\n",
       "    <tr>\n",
       "      <th>5</th>\n",
       "      <td>5</td>\n",
       "      <td>Coombe Hill</td>\n",
       "      <td>0.503356</td>\n",
       "    </tr>\n",
       "    <tr>\n",
       "      <th>6</th>\n",
       "      <td>6</td>\n",
       "      <td>Chessington North and Hook</td>\n",
       "      <td>0.389610</td>\n",
       "    </tr>\n",
       "    <tr>\n",
       "      <th>7</th>\n",
       "      <td>7</td>\n",
       "      <td>Surbiton Hill</td>\n",
       "      <td>0.925373</td>\n",
       "    </tr>\n",
       "    <tr>\n",
       "      <th>8</th>\n",
       "      <td>8</td>\n",
       "      <td>Old Malden</td>\n",
       "      <td>0.675325</td>\n",
       "    </tr>\n",
       "    <tr>\n",
       "      <th>9</th>\n",
       "      <td>9</td>\n",
       "      <td>St. Mark's</td>\n",
       "      <td>0.745455</td>\n",
       "    </tr>\n",
       "  </tbody>\n",
       "</table>\n",
       "</div>"
      ],
      "text/plain": [
       "   Unnamed: 0                   ward_name    bscore\n",
       "0           0           Chessington South  0.563107\n",
       "1           1      Tolworth and Hook Rise  0.466667\n",
       "2           2                  Berrylands  0.741379\n",
       "3           3                   Alexandra  0.638554\n",
       "4           4                    Beverley  0.582278\n",
       "5           5                 Coombe Hill  0.503356\n",
       "6           6  Chessington North and Hook  0.389610\n",
       "7           7               Surbiton Hill  0.925373\n",
       "8           8                  Old Malden  0.675325\n",
       "9           9                  St. Mark's  0.745455"
      ]
     },
     "execution_count": 746,
     "metadata": {},
     "output_type": "execute_result"
    }
   ],
   "source": [
    "beauty[:10]"
   ]
  },
  {
   "cell_type": "code",
   "execution_count": 747,
   "metadata": {
    "ExecuteTime": {
     "end_time": "2020-02-05T19:13:27.952758Z",
     "start_time": "2020-02-05T19:13:27.914264Z"
    }
   },
   "outputs": [
    {
     "data": {
      "text/html": [
       "<div>\n",
       "<style scoped>\n",
       "    .dataframe tbody tr th:only-of-type {\n",
       "        vertical-align: middle;\n",
       "    }\n",
       "\n",
       "    .dataframe tbody tr th {\n",
       "        vertical-align: top;\n",
       "    }\n",
       "\n",
       "    .dataframe thead th {\n",
       "        text-align: right;\n",
       "    }\n",
       "</style>\n",
       "<table border=\"1\" class=\"dataframe\">\n",
       "  <thead>\n",
       "    <tr style=\"text-align: right;\">\n",
       "      <th></th>\n",
       "      <th>GSS_CODE</th>\n",
       "      <th>WDNAME</th>\n",
       "      <th>OACODE</th>\n",
       "      <th>All ages</th>\n",
       "      <th>All ages.1</th>\n",
       "      <th>All ages.2</th>\n",
       "      <th>Age 18-24</th>\n",
       "      <th>Age 25-44</th>\n",
       "      <th>Age 45-64</th>\n",
       "      <th>Age 18-24.1</th>\n",
       "      <th>Age 25-44.1</th>\n",
       "      <th>Age 45-64.1</th>\n",
       "      <th>Age 18-24.2</th>\n",
       "      <th>Age 25-44.2</th>\n",
       "      <th>Age 45-64.2</th>\n",
       "    </tr>\n",
       "  </thead>\n",
       "  <tbody>\n",
       "    <tr>\n",
       "      <th>0</th>\n",
       "      <td>E05000026</td>\n",
       "      <td>Abbey</td>\n",
       "      <td>00ABFX</td>\n",
       "      <td>6724.0</td>\n",
       "      <td>4061.0</td>\n",
       "      <td>2663.0</td>\n",
       "      <td>612.0</td>\n",
       "      <td>4756.0</td>\n",
       "      <td>1356.0</td>\n",
       "      <td>319.0</td>\n",
       "      <td>2857.0</td>\n",
       "      <td>885.0</td>\n",
       "      <td>293.0</td>\n",
       "      <td>1899.0</td>\n",
       "      <td>471.0</td>\n",
       "    </tr>\n",
       "    <tr>\n",
       "      <th>1</th>\n",
       "      <td>E05000027</td>\n",
       "      <td>Alibon</td>\n",
       "      <td>00ABFY</td>\n",
       "      <td>4877.0</td>\n",
       "      <td>2559.0</td>\n",
       "      <td>2318.0</td>\n",
       "      <td>564.0</td>\n",
       "      <td>2587.0</td>\n",
       "      <td>1726.0</td>\n",
       "      <td>304.0</td>\n",
       "      <td>1336.0</td>\n",
       "      <td>919.0</td>\n",
       "      <td>260.0</td>\n",
       "      <td>1251.0</td>\n",
       "      <td>807.0</td>\n",
       "    </tr>\n",
       "    <tr>\n",
       "      <th>2</th>\n",
       "      <td>E05000028</td>\n",
       "      <td>Becontree</td>\n",
       "      <td>00ABFZ</td>\n",
       "      <td>6401.0</td>\n",
       "      <td>3439.0</td>\n",
       "      <td>2962.0</td>\n",
       "      <td>731.0</td>\n",
       "      <td>3734.0</td>\n",
       "      <td>1936.0</td>\n",
       "      <td>383.0</td>\n",
       "      <td>2001.0</td>\n",
       "      <td>1055.0</td>\n",
       "      <td>348.0</td>\n",
       "      <td>1733.0</td>\n",
       "      <td>881.0</td>\n",
       "    </tr>\n",
       "    <tr>\n",
       "      <th>3</th>\n",
       "      <td>E05000029</td>\n",
       "      <td>Chadwell Heath</td>\n",
       "      <td>00ABGA</td>\n",
       "      <td>4577.0</td>\n",
       "      <td>2414.0</td>\n",
       "      <td>2163.0</td>\n",
       "      <td>579.0</td>\n",
       "      <td>2291.0</td>\n",
       "      <td>1707.0</td>\n",
       "      <td>299.0</td>\n",
       "      <td>1220.0</td>\n",
       "      <td>895.0</td>\n",
       "      <td>280.0</td>\n",
       "      <td>1071.0</td>\n",
       "      <td>812.0</td>\n",
       "    </tr>\n",
       "    <tr>\n",
       "      <th>4</th>\n",
       "      <td>E05000030</td>\n",
       "      <td>Eastbrook</td>\n",
       "      <td>00ABGB</td>\n",
       "      <td>5259.0</td>\n",
       "      <td>2796.0</td>\n",
       "      <td>2463.0</td>\n",
       "      <td>793.0</td>\n",
       "      <td>2358.0</td>\n",
       "      <td>2108.0</td>\n",
       "      <td>430.0</td>\n",
       "      <td>1261.0</td>\n",
       "      <td>1105.0</td>\n",
       "      <td>363.0</td>\n",
       "      <td>1097.0</td>\n",
       "      <td>1003.0</td>\n",
       "    </tr>\n",
       "  </tbody>\n",
       "</table>\n",
       "</div>"
      ],
      "text/plain": [
       "    GSS_CODE          WDNAME  OACODE  All ages  All ages.1  All ages.2  \\\n",
       "0  E05000026           Abbey  00ABFX    6724.0      4061.0      2663.0   \n",
       "1  E05000027          Alibon  00ABFY    4877.0      2559.0      2318.0   \n",
       "2  E05000028       Becontree  00ABFZ    6401.0      3439.0      2962.0   \n",
       "3  E05000029  Chadwell Heath  00ABGA    4577.0      2414.0      2163.0   \n",
       "4  E05000030       Eastbrook  00ABGB    5259.0      2796.0      2463.0   \n",
       "\n",
       "   Age 18-24  Age 25-44  Age 45-64  Age 18-24.1  Age 25-44.1  Age 45-64.1  \\\n",
       "0      612.0     4756.0     1356.0        319.0       2857.0        885.0   \n",
       "1      564.0     2587.0     1726.0        304.0       1336.0        919.0   \n",
       "2      731.0     3734.0     1936.0        383.0       2001.0       1055.0   \n",
       "3      579.0     2291.0     1707.0        299.0       1220.0        895.0   \n",
       "4      793.0     2358.0     2108.0        430.0       1261.0       1105.0   \n",
       "\n",
       "   Age 18-24.2  Age 25-44.2  Age 45-64.2  \n",
       "0        293.0       1899.0        471.0  \n",
       "1        260.0       1251.0        807.0  \n",
       "2        348.0       1733.0        881.0  \n",
       "3        280.0       1071.0        812.0  \n",
       "4        363.0       1097.0       1003.0  "
      ]
     },
     "execution_count": 747,
     "metadata": {},
     "output_type": "execute_result"
    }
   ],
   "source": [
    "jsa = pd.read_csv('Claimant_Count_Model_2015.csv')\n",
    "jsa.head()"
   ]
  },
  {
   "cell_type": "code",
   "execution_count": 748,
   "metadata": {
    "ExecuteTime": {
     "end_time": "2020-02-05T19:13:35.388388Z",
     "start_time": "2020-02-05T19:13:35.382689Z"
    }
   },
   "outputs": [
    {
     "data": {
      "text/plain": [
       "681"
      ]
     },
     "execution_count": 748,
     "metadata": {},
     "output_type": "execute_result"
    }
   ],
   "source": [
    "len(jsa)"
   ]
  },
  {
   "cell_type": "code",
   "execution_count": 749,
   "metadata": {
    "ExecuteTime": {
     "end_time": "2020-02-05T19:13:41.171631Z",
     "start_time": "2020-02-05T19:13:41.161046Z"
    }
   },
   "outputs": [],
   "source": [
    "beauty_merged = pd.merge(jsa , beauty , left_on='WDNAME' , right_on='ward_name')"
   ]
  },
  {
   "cell_type": "code",
   "execution_count": 751,
   "metadata": {
    "ExecuteTime": {
     "end_time": "2020-02-05T19:13:50.809268Z",
     "start_time": "2020-02-05T19:13:50.803811Z"
    }
   },
   "outputs": [
    {
     "data": {
      "text/plain": [
       "605"
      ]
     },
     "execution_count": 751,
     "metadata": {},
     "output_type": "execute_result"
    }
   ],
   "source": [
    "len(beauty_merged)"
   ]
  },
  {
   "cell_type": "code",
   "execution_count": 752,
   "metadata": {
    "ExecuteTime": {
     "end_time": "2020-02-05T19:26:25.651379Z",
     "start_time": "2020-02-05T19:26:25.637447Z"
    }
   },
   "outputs": [],
   "source": [
    "jsa_merged = pd.merge(beauty_merged , flickr , left_on='GSS_CODE' , right_on='GSS_CODE')"
   ]
  },
  {
   "cell_type": "code",
   "execution_count": 754,
   "metadata": {
    "ExecuteTime": {
     "end_time": "2020-02-05T19:26:37.633122Z",
     "start_time": "2020-02-05T19:26:37.627568Z"
    }
   },
   "outputs": [
    {
     "data": {
      "text/plain": [
       "554"
      ]
     },
     "execution_count": 754,
     "metadata": {},
     "output_type": "execute_result"
    }
   ],
   "source": [
    "len(jsa_merged)"
   ]
  },
  {
   "cell_type": "code",
   "execution_count": 825,
   "metadata": {
    "ExecuteTime": {
     "end_time": "2020-02-06T11:26:57.559824Z",
     "start_time": "2020-02-06T11:26:57.430204Z"
    }
   },
   "outputs": [],
   "source": [
    "income = pd.read_csv('modelled-household-income-estimates-wards.csv', engine='python')\n",
    "for column in income.columns: \n",
    "    income[column] =  income[column].apply(lambda x: ''.join([\" \" if ord(i) < 32 or ord(i) > 126 else i for i in x]))\n",
    "    income[column] =  income[column].apply(lambda x: x.replace(',',''))\n",
    "merged_socio = pd.merge(income,jsa_merged,left_on='Code' , right_on='GSS_CODE')\n",
    "selected_socio = merged_socio[['GSS_CODE','All ages','Median 2012/13' , 'bscore' , 'Total' , 'Nature']]\n",
    "selected_socio = selected_socio.rename(columns={'All ages':'All_jsa'})"
   ]
  },
  {
   "cell_type": "code",
   "execution_count": 826,
   "metadata": {
    "ExecuteTime": {
     "end_time": "2020-02-06T11:26:58.004428Z",
     "start_time": "2020-02-06T11:26:57.998317Z"
    }
   },
   "outputs": [
    {
     "data": {
      "text/plain": [
       "554"
      ]
     },
     "execution_count": 826,
     "metadata": {},
     "output_type": "execute_result"
    }
   ],
   "source": [
    "len(selected_socio)"
   ]
  },
  {
   "cell_type": "code",
   "execution_count": 827,
   "metadata": {
    "ExecuteTime": {
     "end_time": "2020-02-06T11:26:58.403679Z",
     "start_time": "2020-02-06T11:26:58.386608Z"
    }
   },
   "outputs": [
    {
     "data": {
      "text/html": [
       "<div>\n",
       "<style scoped>\n",
       "    .dataframe tbody tr th:only-of-type {\n",
       "        vertical-align: middle;\n",
       "    }\n",
       "\n",
       "    .dataframe tbody tr th {\n",
       "        vertical-align: top;\n",
       "    }\n",
       "\n",
       "    .dataframe thead th {\n",
       "        text-align: right;\n",
       "    }\n",
       "</style>\n",
       "<table border=\"1\" class=\"dataframe\">\n",
       "  <thead>\n",
       "    <tr style=\"text-align: right;\">\n",
       "      <th></th>\n",
       "      <th>GSS_CODE</th>\n",
       "      <th>All_jsa</th>\n",
       "      <th>Median 2012/13</th>\n",
       "      <th>bscore</th>\n",
       "      <th>Total</th>\n",
       "      <th>Nature</th>\n",
       "    </tr>\n",
       "  </thead>\n",
       "  <tbody>\n",
       "    <tr>\n",
       "      <th>0</th>\n",
       "      <td>E05000026</td>\n",
       "      <td>6724.0</td>\n",
       "      <td>33920</td>\n",
       "      <td>0.616279</td>\n",
       "      <td>32748</td>\n",
       "      <td>519</td>\n",
       "    </tr>\n",
       "    <tr>\n",
       "      <th>1</th>\n",
       "      <td>E05000027</td>\n",
       "      <td>4877.0</td>\n",
       "      <td>32470</td>\n",
       "      <td>0.319149</td>\n",
       "      <td>12155</td>\n",
       "      <td>1240</td>\n",
       "    </tr>\n",
       "    <tr>\n",
       "      <th>2</th>\n",
       "      <td>E05000028</td>\n",
       "      <td>6401.0</td>\n",
       "      <td>33000</td>\n",
       "      <td>0.560606</td>\n",
       "      <td>4706</td>\n",
       "      <td>174</td>\n",
       "    </tr>\n",
       "    <tr>\n",
       "      <th>3</th>\n",
       "      <td>E05000029</td>\n",
       "      <td>4577.0</td>\n",
       "      <td>33920</td>\n",
       "      <td>0.390244</td>\n",
       "      <td>6745</td>\n",
       "      <td>44</td>\n",
       "    </tr>\n",
       "    <tr>\n",
       "      <th>4</th>\n",
       "      <td>E05000030</td>\n",
       "      <td>5259.0</td>\n",
       "      <td>37400</td>\n",
       "      <td>0.426230</td>\n",
       "      <td>72372</td>\n",
       "      <td>949</td>\n",
       "    </tr>\n",
       "  </tbody>\n",
       "</table>\n",
       "</div>"
      ],
      "text/plain": [
       "    GSS_CODE  All_jsa Median 2012/13    bscore  Total  Nature\n",
       "0  E05000026   6724.0          33920  0.616279  32748     519\n",
       "1  E05000027   4877.0          32470  0.319149  12155    1240\n",
       "2  E05000028   6401.0          33000  0.560606   4706     174\n",
       "3  E05000029   4577.0          33920  0.390244   6745      44\n",
       "4  E05000030   5259.0          37400  0.426230  72372     949"
      ]
     },
     "execution_count": 827,
     "metadata": {},
     "output_type": "execute_result"
    }
   ],
   "source": [
    "selected_socio.head()"
   ]
  },
  {
   "cell_type": "code",
   "execution_count": 828,
   "metadata": {
    "ExecuteTime": {
     "end_time": "2020-02-06T11:27:00.093959Z",
     "start_time": "2020-02-06T11:27:00.015444Z"
    }
   },
   "outputs": [],
   "source": [
    "Ward_IMD = json.load(open('Ward_index_deprivation.json'))\n",
    "\n",
    "ward = {'GSS_CODE': [] , 'IMD' : []}\n",
    "for k in Ward_IMD:\n",
    "    ward['GSS_CODE'].append(k)\n",
    "    ward['IMD'].append(Ward_IMD[k])\n",
    "wardDf = pd.DataFrame.from_dict(ward)\n",
    "\n",
    "theData = pd.read_csv('Merged_all_disease_green_sat.csv')"
   ]
  },
  {
   "cell_type": "code",
   "execution_count": 829,
   "metadata": {
    "ExecuteTime": {
     "end_time": "2020-02-06T11:27:00.639108Z",
     "start_time": "2020-02-06T11:27:00.615216Z"
    }
   },
   "outputs": [],
   "source": [
    "data_1 = pd.merge(theData,wardDf,left_on='GSS_CODE' , right_on='GSS_CODE')"
   ]
  },
  {
   "cell_type": "code",
   "execution_count": 830,
   "metadata": {
    "ExecuteTime": {
     "end_time": "2020-02-06T11:27:01.120607Z",
     "start_time": "2020-02-06T11:27:01.101700Z"
    }
   },
   "outputs": [],
   "source": [
    "data = pd.merge(data_1,selected_socio,left_on='GSS_CODE' , right_on='GSS_CODE')"
   ]
  },
  {
   "cell_type": "code",
   "execution_count": 831,
   "metadata": {
    "ExecuteTime": {
     "end_time": "2020-02-06T11:27:01.618792Z",
     "start_time": "2020-02-06T11:27:01.612610Z"
    }
   },
   "outputs": [
    {
     "data": {
      "text/plain": [
       "414"
      ]
     },
     "execution_count": 831,
     "metadata": {},
     "output_type": "execute_result"
    }
   ],
   "source": [
    "len(data)"
   ]
  },
  {
   "cell_type": "code",
   "execution_count": 832,
   "metadata": {
    "ExecuteTime": {
     "end_time": "2020-02-06T11:27:02.109100Z",
     "start_time": "2020-02-06T11:27:02.099186Z"
    }
   },
   "outputs": [],
   "source": [
    "data['All_jsa'] = data['All_jsa']/data['population']\n",
    "data['Sex_ratio'] = data['male']/data['female']\n",
    "data['Flickr_score'] = data['Nature']/data['Total']"
   ]
  },
  {
   "cell_type": "code",
   "execution_count": 833,
   "metadata": {
    "ExecuteTime": {
     "end_time": "2020-02-06T11:27:02.499238Z",
     "start_time": "2020-02-06T11:27:02.488800Z"
    }
   },
   "outputs": [
    {
     "data": {
      "text/plain": [
       "['Unnamed: 0',\n",
       " 'green_score',\n",
       " 'GSS_CODE',\n",
       " 'tree_pixels',\n",
       " 'grass_pixels',\n",
       " 'urban_pixels',\n",
       " 'npix',\n",
       " 'tree_pct',\n",
       " 'grass_pct',\n",
       " 'urban_pct',\n",
       " 'borough_name_x',\n",
       " 'TreePixelDensity',\n",
       " 'TreeDensity',\n",
       " 'psoriasis_Prescriptions',\n",
       " 'psoriasis_Prevalence',\n",
       " \"Meniere's disease_Prescriptions\",\n",
       " \"Meniere's disease_Prevalence\",\n",
       " \"crohn's disease_Prescriptions\",\n",
       " \"crohn's disease_Prevalence\",\n",
       " 'gastroparesis_Prescriptions',\n",
       " 'gastroparesis_Prevalence',\n",
       " 'irritable bowel syndrome_Prescriptions',\n",
       " 'irritable bowel syndrome_Prevalence',\n",
       " 'parkinson_Prescriptions',\n",
       " 'parkinson_Prevalence',\n",
       " 'sleep apnea_Prescriptions',\n",
       " 'sleep apnea_Prevalence',\n",
       " 'interstitial cystitis_Prescriptions',\n",
       " 'interstitial cystitis_Prevalence',\n",
       " 'bipolar_Prescriptions',\n",
       " 'bipolar_Prevalence',\n",
       " 'hypothyroidism_Prescriptions',\n",
       " 'hypothyroidism_Prevalence',\n",
       " 'dementia_Prescriptions',\n",
       " 'dementia_Prevalence',\n",
       " 'rheumatoid_Prescriptions',\n",
       " 'rheumatoid_Prevalence',\n",
       " 'depression_Prescriptions',\n",
       " 'depression_Prevalence',\n",
       " 'diabetes_Prescriptions',\n",
       " 'diabetes_Prevalence',\n",
       " 'Area',\n",
       " 'pixelDensity_tree',\n",
       " 'WD17CD',\n",
       " 'GLUD_Area of Greenspace PCT',\n",
       " 'LCM_grass_pct',\n",
       " 'LCM_tree_pct',\n",
       " 'LCM_urban_pct',\n",
       " 'UA_Green urban areas PCT',\n",
       " 'UA_Forests PCT',\n",
       " 'StreetTrees_PCT',\n",
       " 'C',\n",
       " 'C_StreetTrees',\n",
       " 'area_id',\n",
       " 'weight',\n",
       " 'weight_perc2.5',\n",
       " 'weight_perc25',\n",
       " 'weight_perc50',\n",
       " 'weight_perc75',\n",
       " 'weight_perc97.5',\n",
       " 'weight_std',\n",
       " 'weight_ci95',\n",
       " 'volume',\n",
       " 'volume_perc2.5',\n",
       " 'volume_perc25',\n",
       " 'volume_perc50',\n",
       " 'volume_perc75',\n",
       " 'volume_perc97.5',\n",
       " 'volume_std',\n",
       " 'volume_ci95',\n",
       " 'fat',\n",
       " 'fat_perc2.5',\n",
       " 'fat_perc25',\n",
       " 'fat_perc50',\n",
       " 'fat_perc75',\n",
       " 'fat_perc97.5',\n",
       " 'fat_std',\n",
       " 'fat_ci95',\n",
       " 'saturate',\n",
       " 'saturate_perc2.5',\n",
       " 'saturate_perc25',\n",
       " 'saturate_perc50',\n",
       " 'saturate_perc75',\n",
       " 'saturate_perc97.5',\n",
       " 'saturate_std',\n",
       " 'saturate_ci95',\n",
       " 'salt',\n",
       " 'salt_perc2.5',\n",
       " 'salt_perc25',\n",
       " 'salt_perc50',\n",
       " 'salt_perc75',\n",
       " 'salt_perc97.5',\n",
       " 'salt_std',\n",
       " 'salt_ci95',\n",
       " 'sugar',\n",
       " 'sugar_perc2.5',\n",
       " 'sugar_perc25',\n",
       " 'sugar_perc50',\n",
       " 'sugar_perc75',\n",
       " 'sugar_perc97.5',\n",
       " 'sugar_std',\n",
       " 'sugar_ci95',\n",
       " 'protein',\n",
       " 'protein_perc2.5',\n",
       " 'protein_perc25',\n",
       " 'protein_perc50',\n",
       " 'protein_perc75',\n",
       " 'protein_perc97.5',\n",
       " 'protein_std',\n",
       " 'protein_ci95',\n",
       " 'carb',\n",
       " 'carb_perc2.5',\n",
       " 'carb_perc25',\n",
       " 'carb_perc50',\n",
       " 'carb_perc75',\n",
       " 'carb_perc97.5',\n",
       " 'carb_std',\n",
       " 'carb_ci95',\n",
       " 'fibre',\n",
       " 'fibre_perc2.5',\n",
       " 'fibre_perc25',\n",
       " 'fibre_perc50',\n",
       " 'fibre_perc75',\n",
       " 'fibre_perc97.5',\n",
       " 'fibre_std',\n",
       " 'fibre_ci95',\n",
       " 'alcohol',\n",
       " 'alcohol_perc2.5',\n",
       " 'alcohol_perc25',\n",
       " 'alcohol_perc50',\n",
       " 'alcohol_perc75',\n",
       " 'alcohol_perc97.5',\n",
       " 'alcohol_std',\n",
       " 'alcohol_ci95',\n",
       " 'energy_fat',\n",
       " 'energy_fat_perc2.5',\n",
       " 'energy_fat_perc25',\n",
       " 'energy_fat_perc50',\n",
       " 'energy_fat_perc75',\n",
       " 'energy_fat_perc97.5',\n",
       " 'energy_fat_std',\n",
       " 'energy_fat_ci95',\n",
       " 'energy_saturate',\n",
       " 'energy_saturate_perc2.5',\n",
       " 'energy_saturate_perc25',\n",
       " 'energy_saturate_perc50',\n",
       " 'energy_saturate_perc75',\n",
       " 'energy_saturate_perc97.5',\n",
       " 'energy_saturate_std',\n",
       " 'energy_saturate_ci95',\n",
       " 'energy_sugar',\n",
       " 'energy_sugar_perc2.5',\n",
       " 'energy_sugar_perc25',\n",
       " 'energy_sugar_perc50',\n",
       " 'energy_sugar_perc75',\n",
       " 'energy_sugar_perc97.5',\n",
       " 'energy_sugar_std',\n",
       " 'energy_sugar_ci95',\n",
       " 'energy_protein',\n",
       " 'energy_protein_perc2.5',\n",
       " 'energy_protein_perc25',\n",
       " 'energy_protein_perc50',\n",
       " 'energy_protein_perc75',\n",
       " 'energy_protein_perc97.5',\n",
       " 'energy_protein_std',\n",
       " 'energy_protein_ci95',\n",
       " 'energy_carb',\n",
       " 'energy_carb_perc2.5',\n",
       " 'energy_carb_perc25',\n",
       " 'energy_carb_perc50',\n",
       " 'energy_carb_perc75',\n",
       " 'energy_carb_perc97.5',\n",
       " 'energy_carb_std',\n",
       " 'energy_carb_ci95',\n",
       " 'energy_fibre',\n",
       " 'energy_fibre_perc2.5',\n",
       " 'energy_fibre_perc25',\n",
       " 'energy_fibre_perc50',\n",
       " 'energy_fibre_perc75',\n",
       " 'energy_fibre_perc97.5',\n",
       " 'energy_fibre_std',\n",
       " 'energy_fibre_ci95',\n",
       " 'energy_alcohol',\n",
       " 'energy_alcohol_perc2.5',\n",
       " 'energy_alcohol_perc25',\n",
       " 'energy_alcohol_perc50',\n",
       " 'energy_alcohol_perc75',\n",
       " 'energy_alcohol_perc97.5',\n",
       " 'energy_alcohol_std',\n",
       " 'energy_alcohol_ci95',\n",
       " 'energy_tot',\n",
       " 'energy_tot_perc2.5',\n",
       " 'energy_tot_perc25',\n",
       " 'energy_tot_perc50',\n",
       " 'energy_tot_perc75',\n",
       " 'energy_tot_perc97.5',\n",
       " 'energy_tot_std',\n",
       " 'energy_tot_ci95',\n",
       " 'f_energy_fat',\n",
       " 'f_energy_saturate',\n",
       " 'f_energy_sugar',\n",
       " 'f_energy_protein',\n",
       " 'f_energy_carb',\n",
       " 'f_energy_fibre',\n",
       " 'f_energy_alcohol',\n",
       " 'energy_density',\n",
       " 'h_nutrients_weight',\n",
       " 'h_nutrients_weight_norm',\n",
       " 'h_nutrients_calories',\n",
       " 'h_nutrients_calories_norm',\n",
       " 'f_beer',\n",
       " 'f_dairy',\n",
       " 'f_eggs',\n",
       " 'f_fats_oils',\n",
       " 'f_fish',\n",
       " 'f_fruit_veg',\n",
       " 'f_grains',\n",
       " 'f_meat_red',\n",
       " 'f_poultry',\n",
       " 'f_readymade',\n",
       " 'f_sauces',\n",
       " 'f_soft_drinks',\n",
       " 'f_spirits',\n",
       " 'f_sweets',\n",
       " 'f_tea_coffee',\n",
       " 'f_water',\n",
       " 'f_wine',\n",
       " 'f_dairy_weight',\n",
       " 'f_eggs_weight',\n",
       " 'f_fats_oils_weight',\n",
       " 'f_fish_weight',\n",
       " 'f_fruit_veg_weight',\n",
       " 'f_grains_weight',\n",
       " 'f_meat_red_weight',\n",
       " 'f_poultry_weight',\n",
       " 'f_readymade_weight',\n",
       " 'f_sauces_weight',\n",
       " 'f_sweets_weight',\n",
       " 'h_items',\n",
       " 'h_items_norm',\n",
       " 'h_items_weight',\n",
       " 'h_items_weight_norm',\n",
       " 'representativeness_norm',\n",
       " 'transaction_days',\n",
       " 'num_transactions',\n",
       " 'man_day',\n",
       " 'population',\n",
       " 'male',\n",
       " 'female',\n",
       " 'age_0_17',\n",
       " 'age_18_64',\n",
       " 'age_65+',\n",
       " 'avg_age',\n",
       " 'area_sq_km',\n",
       " 'people_per_sq_km',\n",
       " 'All_Deaths',\n",
       " 'Resp_deaths',\n",
       " 'WD16CD',\n",
       " 'borough_name_y',\n",
       " 'Borough',\n",
       " 'Ward_Name',\n",
       " 'Year',\n",
       " 'Population',\n",
       " 'Hectares',\n",
       " 'Square_Kilometres',\n",
       " 'Population_per_hectare',\n",
       " 'Population_per_square_kilometre',\n",
       " 'IMD',\n",
       " 'All_jsa',\n",
       " 'Median 2012/13',\n",
       " 'bscore',\n",
       " 'Total',\n",
       " 'Nature',\n",
       " 'Sex_ratio',\n",
       " 'Flickr_score']"
      ]
     },
     "execution_count": 833,
     "metadata": {},
     "output_type": "execute_result"
    }
   ],
   "source": [
    "list(data.columns)"
   ]
  },
  {
   "cell_type": "code",
   "execution_count": 842,
   "metadata": {
    "ExecuteTime": {
     "end_time": "2020-02-06T11:27:55.995209Z",
     "start_time": "2020-02-06T11:27:55.969601Z"
    }
   },
   "outputs": [
    {
     "name": "stdout",
     "output_type": "stream",
     "text": [
      "['avg_age', 'IMD', 'people_per_sq_km', 'Sex_ratio', 'All_jsa', 'Median 2012/13', 'weight', 'h_nutrients_weight_norm', 'h_nutrients_calories_norm', 'Flickr_score', 'bscore'] ['avg_age', 'IMD', 'people_per_sq_km', 'Sex_ratio', 'All_jsa', 'Median 2012/13', 'weight', 'h_nutrients_weight_norm', 'h_nutrients_calories_norm', 'TreePixelDensity', 'GLUD_Area of Greenspace PCT', 'Flickr_score', 'bscore']\n"
     ]
    }
   ],
   "source": [
    "socio_economic = ['avg_age', 'IMD','people_per_sq_km' ,'Sex_ratio','All_jsa','Median 2012/13']\n",
    "nutrient = ['weight','h_nutrients_weight_norm','h_nutrients_calories_norm']\n",
    "green = ['TreePixelDensity','GLUD_Area of Greenspace PCT']\n",
    "Flickr = ['Flickr_score']\n",
    "beauty = ['bscore']\n",
    "\n",
    "# X_dims = ['avg_age', 'IMD','people_per_sq_km' ,'Sex_ratio','weight','num_transactions','All_jsa','Mean 2012/13']\n",
    "X_dims =  socio_economic + nutrient  + Flickr + beauty\n",
    "X_dims_2 = socio_economic + nutrient + green +  Flickr + beauty\n",
    "\n",
    "print(X_dims , X_dims_2)\n",
    "Y_dims = ['depression_Prevalence']\n",
    "tree_dims = ['TreePixelDensity','TreeDensity','LCM_tree_pct','GLUD_Area of Greenspace PCT']\n",
    "\n",
    "X = np.array(data[X_dims].values,dtype=np.float32)\n",
    "X_2= np.array(data[X_dims_2].values,dtype=np.float32)\n",
    "Y = np.array(data[Y_dims].values,dtype=np.float32)\n",
    "\n",
    "X_prime = np.array(data[tree_dims].values,dtype=np.float32)\n",
    "min_max_scaler = preprocessing.MinMaxScaler() #StandardScaler() #MinMaxScaler()\n",
    "X = min_max_scaler.fit_transform(X)\n",
    "X2 = min_max_scaler.fit_transform(X_2)\n",
    "Y = min_max_scaler.fit_transform(Y)"
   ]
  },
  {
   "cell_type": "code",
   "execution_count": 843,
   "metadata": {
    "ExecuteTime": {
     "end_time": "2020-02-06T11:27:56.412553Z",
     "start_time": "2020-02-06T11:27:56.407981Z"
    }
   },
   "outputs": [],
   "source": [
    "X = sm.add_constant(X)\n",
    "X2 = sm.add_constant(X2)"
   ]
  },
  {
   "cell_type": "code",
   "execution_count": 844,
   "metadata": {
    "ExecuteTime": {
     "end_time": "2020-02-06T11:27:56.820897Z",
     "start_time": "2020-02-06T11:27:56.815496Z"
    }
   },
   "outputs": [
    {
     "data": {
      "text/plain": [
       "(414, 12)"
      ]
     },
     "execution_count": 844,
     "metadata": {},
     "output_type": "execute_result"
    }
   ],
   "source": [
    "X.shape"
   ]
  },
  {
   "cell_type": "code",
   "execution_count": 845,
   "metadata": {
    "ExecuteTime": {
     "end_time": "2020-02-06T11:27:57.196747Z",
     "start_time": "2020-02-06T11:27:57.191508Z"
    }
   },
   "outputs": [],
   "source": [
    "model = sm.OLS(Y, X).fit()\n",
    "predictions = model.predict(X)"
   ]
  },
  {
   "cell_type": "code",
   "execution_count": 846,
   "metadata": {
    "ExecuteTime": {
     "end_time": "2020-02-06T11:27:57.669101Z",
     "start_time": "2020-02-06T11:27:57.663907Z"
    }
   },
   "outputs": [],
   "source": [
    "model_2 = sm.OLS(Y, X2).fit()\n",
    "predictions_2 = model_2.predict(X2)"
   ]
  },
  {
   "cell_type": "code",
   "execution_count": 847,
   "metadata": {
    "ExecuteTime": {
     "end_time": "2020-02-06T11:27:58.132212Z",
     "start_time": "2020-02-06T11:27:58.097494Z"
    }
   },
   "outputs": [
    {
     "data": {
      "text/html": [
       "<table class=\"simpletable\">\n",
       "<caption>OLS Regression Results</caption>\n",
       "<tr>\n",
       "  <th>Dep. Variable:</th>            <td>y</td>        <th>  R-squared:         </th> <td>   0.306</td>\n",
       "</tr>\n",
       "<tr>\n",
       "  <th>Model:</th>                   <td>OLS</td>       <th>  Adj. R-squared:    </th> <td>   0.287</td>\n",
       "</tr>\n",
       "<tr>\n",
       "  <th>Method:</th>             <td>Least Squares</td>  <th>  F-statistic:       </th> <td>   16.08</td>\n",
       "</tr>\n",
       "<tr>\n",
       "  <th>Date:</th>             <td>Thu, 06 Feb 2020</td> <th>  Prob (F-statistic):</th> <td>3.55e-26</td>\n",
       "</tr>\n",
       "<tr>\n",
       "  <th>Time:</th>                 <td>11:27:58</td>     <th>  Log-Likelihood:    </th> <td>  293.35</td>\n",
       "</tr>\n",
       "<tr>\n",
       "  <th>No. Observations:</th>      <td>   414</td>      <th>  AIC:               </th> <td>  -562.7</td>\n",
       "</tr>\n",
       "<tr>\n",
       "  <th>Df Residuals:</th>          <td>   402</td>      <th>  BIC:               </th> <td>  -514.4</td>\n",
       "</tr>\n",
       "<tr>\n",
       "  <th>Df Model:</th>              <td>    11</td>      <th>                     </th>     <td> </td>   \n",
       "</tr>\n",
       "<tr>\n",
       "  <th>Covariance Type:</th>      <td>nonrobust</td>    <th>                     </th>     <td> </td>   \n",
       "</tr>\n",
       "</table>\n",
       "<table class=\"simpletable\">\n",
       "<tr>\n",
       "    <td></td>       <th>coef</th>     <th>std err</th>      <th>t</th>      <th>P>|t|</th>  <th>[0.025</th>    <th>0.975]</th>  \n",
       "</tr>\n",
       "<tr>\n",
       "  <th>const</th> <td>    0.4585</td> <td>    0.064</td> <td>    7.141</td> <td> 0.000</td> <td>    0.332</td> <td>    0.585</td>\n",
       "</tr>\n",
       "<tr>\n",
       "  <th>x1</th>    <td>    0.0973</td> <td>    0.047</td> <td>    2.085</td> <td> 0.038</td> <td>    0.006</td> <td>    0.189</td>\n",
       "</tr>\n",
       "<tr>\n",
       "  <th>x2</th>    <td>   -0.0744</td> <td>    0.050</td> <td>   -1.479</td> <td> 0.140</td> <td>   -0.173</td> <td>    0.025</td>\n",
       "</tr>\n",
       "<tr>\n",
       "  <th>x3</th>    <td>    0.0773</td> <td>    0.064</td> <td>    1.202</td> <td> 0.230</td> <td>   -0.049</td> <td>    0.204</td>\n",
       "</tr>\n",
       "<tr>\n",
       "  <th>x4</th>    <td>   -0.2271</td> <td>    0.058</td> <td>   -3.912</td> <td> 0.000</td> <td>   -0.341</td> <td>   -0.113</td>\n",
       "</tr>\n",
       "<tr>\n",
       "  <th>x5</th>    <td>    0.0503</td> <td>    0.053</td> <td>    0.957</td> <td> 0.339</td> <td>   -0.053</td> <td>    0.154</td>\n",
       "</tr>\n",
       "<tr>\n",
       "  <th>x6</th>    <td>   -0.2627</td> <td>    0.088</td> <td>   -2.984</td> <td> 0.003</td> <td>   -0.436</td> <td>   -0.090</td>\n",
       "</tr>\n",
       "<tr>\n",
       "  <th>x7</th>    <td>   -0.2919</td> <td>    0.040</td> <td>   -7.295</td> <td> 0.000</td> <td>   -0.371</td> <td>   -0.213</td>\n",
       "</tr>\n",
       "<tr>\n",
       "  <th>x8</th>    <td>    0.1170</td> <td>    0.093</td> <td>    1.260</td> <td> 0.209</td> <td>   -0.066</td> <td>    0.300</td>\n",
       "</tr>\n",
       "<tr>\n",
       "  <th>x9</th>    <td>   -0.0641</td> <td>    0.108</td> <td>   -0.591</td> <td> 0.555</td> <td>   -0.277</td> <td>    0.149</td>\n",
       "</tr>\n",
       "<tr>\n",
       "  <th>x10</th>   <td>    0.0988</td> <td>    0.057</td> <td>    1.721</td> <td> 0.086</td> <td>   -0.014</td> <td>    0.212</td>\n",
       "</tr>\n",
       "<tr>\n",
       "  <th>x11</th>   <td>    0.0849</td> <td>    0.034</td> <td>    2.467</td> <td> 0.014</td> <td>    0.017</td> <td>    0.153</td>\n",
       "</tr>\n",
       "</table>\n",
       "<table class=\"simpletable\">\n",
       "<tr>\n",
       "  <th>Omnibus:</th>       <td>17.232</td> <th>  Durbin-Watson:     </th> <td>   1.693</td>\n",
       "</tr>\n",
       "<tr>\n",
       "  <th>Prob(Omnibus):</th> <td> 0.000</td> <th>  Jarque-Bera (JB):  </th> <td>  20.344</td>\n",
       "</tr>\n",
       "<tr>\n",
       "  <th>Skew:</th>          <td> 0.410</td> <th>  Prob(JB):          </th> <td>3.82e-05</td>\n",
       "</tr>\n",
       "<tr>\n",
       "  <th>Kurtosis:</th>      <td> 3.711</td> <th>  Cond. No.          </th> <td>    42.0</td>\n",
       "</tr>\n",
       "</table><br/><br/>Warnings:<br/>[1] Standard Errors assume that the covariance matrix of the errors is correctly specified."
      ],
      "text/plain": [
       "<class 'statsmodels.iolib.summary.Summary'>\n",
       "\"\"\"\n",
       "                            OLS Regression Results                            \n",
       "==============================================================================\n",
       "Dep. Variable:                      y   R-squared:                       0.306\n",
       "Model:                            OLS   Adj. R-squared:                  0.287\n",
       "Method:                 Least Squares   F-statistic:                     16.08\n",
       "Date:                Thu, 06 Feb 2020   Prob (F-statistic):           3.55e-26\n",
       "Time:                        11:27:58   Log-Likelihood:                 293.35\n",
       "No. Observations:                 414   AIC:                            -562.7\n",
       "Df Residuals:                     402   BIC:                            -514.4\n",
       "Df Model:                          11                                         \n",
       "Covariance Type:            nonrobust                                         \n",
       "==============================================================================\n",
       "                 coef    std err          t      P>|t|      [0.025      0.975]\n",
       "------------------------------------------------------------------------------\n",
       "const          0.4585      0.064      7.141      0.000       0.332       0.585\n",
       "x1             0.0973      0.047      2.085      0.038       0.006       0.189\n",
       "x2            -0.0744      0.050     -1.479      0.140      -0.173       0.025\n",
       "x3             0.0773      0.064      1.202      0.230      -0.049       0.204\n",
       "x4            -0.2271      0.058     -3.912      0.000      -0.341      -0.113\n",
       "x5             0.0503      0.053      0.957      0.339      -0.053       0.154\n",
       "x6            -0.2627      0.088     -2.984      0.003      -0.436      -0.090\n",
       "x7            -0.2919      0.040     -7.295      0.000      -0.371      -0.213\n",
       "x8             0.1170      0.093      1.260      0.209      -0.066       0.300\n",
       "x9            -0.0641      0.108     -0.591      0.555      -0.277       0.149\n",
       "x10            0.0988      0.057      1.721      0.086      -0.014       0.212\n",
       "x11            0.0849      0.034      2.467      0.014       0.017       0.153\n",
       "==============================================================================\n",
       "Omnibus:                       17.232   Durbin-Watson:                   1.693\n",
       "Prob(Omnibus):                  0.000   Jarque-Bera (JB):               20.344\n",
       "Skew:                           0.410   Prob(JB):                     3.82e-05\n",
       "Kurtosis:                       3.711   Cond. No.                         42.0\n",
       "==============================================================================\n",
       "\n",
       "Warnings:\n",
       "[1] Standard Errors assume that the covariance matrix of the errors is correctly specified.\n",
       "\"\"\""
      ]
     },
     "execution_count": 847,
     "metadata": {},
     "output_type": "execute_result"
    }
   ],
   "source": [
    "model.summary()"
   ]
  },
  {
   "cell_type": "code",
   "execution_count": 848,
   "metadata": {
    "ExecuteTime": {
     "end_time": "2020-02-06T11:28:00.559431Z",
     "start_time": "2020-02-06T11:28:00.553807Z"
    }
   },
   "outputs": [
    {
     "data": {
      "text/plain": [
       "['avg_age',\n",
       " 'IMD',\n",
       " 'people_per_sq_km',\n",
       " 'Sex_ratio',\n",
       " 'All_jsa',\n",
       " 'Median 2012/13',\n",
       " 'weight',\n",
       " 'h_nutrients_weight_norm',\n",
       " 'h_nutrients_calories_norm',\n",
       " 'TreePixelDensity',\n",
       " 'GLUD_Area of Greenspace PCT',\n",
       " 'Flickr_score',\n",
       " 'bscore']"
      ]
     },
     "execution_count": 848,
     "metadata": {},
     "output_type": "execute_result"
    }
   ],
   "source": [
    "X_dims_2"
   ]
  },
  {
   "cell_type": "code",
   "execution_count": 849,
   "metadata": {
    "ExecuteTime": {
     "end_time": "2020-02-06T11:28:01.646396Z",
     "start_time": "2020-02-06T11:28:01.610514Z"
    }
   },
   "outputs": [
    {
     "data": {
      "text/html": [
       "<table class=\"simpletable\">\n",
       "<caption>OLS Regression Results</caption>\n",
       "<tr>\n",
       "  <th>Dep. Variable:</th>            <td>y</td>        <th>  R-squared:         </th> <td>   0.317</td>\n",
       "</tr>\n",
       "<tr>\n",
       "  <th>Model:</th>                   <td>OLS</td>       <th>  Adj. R-squared:    </th> <td>   0.294</td>\n",
       "</tr>\n",
       "<tr>\n",
       "  <th>Method:</th>             <td>Least Squares</td>  <th>  F-statistic:       </th> <td>   14.26</td>\n",
       "</tr>\n",
       "<tr>\n",
       "  <th>Date:</th>             <td>Thu, 06 Feb 2020</td> <th>  Prob (F-statistic):</th> <td>2.75e-26</td>\n",
       "</tr>\n",
       "<tr>\n",
       "  <th>Time:</th>                 <td>11:28:01</td>     <th>  Log-Likelihood:    </th> <td>  296.70</td>\n",
       "</tr>\n",
       "<tr>\n",
       "  <th>No. Observations:</th>      <td>   414</td>      <th>  AIC:               </th> <td>  -565.4</td>\n",
       "</tr>\n",
       "<tr>\n",
       "  <th>Df Residuals:</th>          <td>   400</td>      <th>  BIC:               </th> <td>  -509.0</td>\n",
       "</tr>\n",
       "<tr>\n",
       "  <th>Df Model:</th>              <td>    13</td>      <th>                     </th>     <td> </td>   \n",
       "</tr>\n",
       "<tr>\n",
       "  <th>Covariance Type:</th>      <td>nonrobust</td>    <th>                     </th>     <td> </td>   \n",
       "</tr>\n",
       "</table>\n",
       "<table class=\"simpletable\">\n",
       "<tr>\n",
       "    <td></td>       <th>coef</th>     <th>std err</th>      <th>t</th>      <th>P>|t|</th>  <th>[0.025</th>    <th>0.975]</th>  \n",
       "</tr>\n",
       "<tr>\n",
       "  <th>const</th> <td>    0.4393</td> <td>    0.065</td> <td>    6.745</td> <td> 0.000</td> <td>    0.311</td> <td>    0.567</td>\n",
       "</tr>\n",
       "<tr>\n",
       "  <th>x1</th>    <td>    0.1034</td> <td>    0.047</td> <td>    2.198</td> <td> 0.029</td> <td>    0.011</td> <td>    0.196</td>\n",
       "</tr>\n",
       "<tr>\n",
       "  <th>x2</th>    <td>   -0.1378</td> <td>    0.089</td> <td>   -1.544</td> <td> 0.123</td> <td>   -0.313</td> <td>    0.038</td>\n",
       "</tr>\n",
       "<tr>\n",
       "  <th>x3</th>    <td>    0.0501</td> <td>    0.065</td> <td>    0.772</td> <td> 0.440</td> <td>   -0.077</td> <td>    0.178</td>\n",
       "</tr>\n",
       "<tr>\n",
       "  <th>x4</th>    <td>   -0.2158</td> <td>    0.058</td> <td>   -3.723</td> <td> 0.000</td> <td>   -0.330</td> <td>   -0.102</td>\n",
       "</tr>\n",
       "<tr>\n",
       "  <th>x5</th>    <td>    0.0694</td> <td>    0.053</td> <td>    1.312</td> <td> 0.190</td> <td>   -0.035</td> <td>    0.173</td>\n",
       "</tr>\n",
       "<tr>\n",
       "  <th>x6</th>    <td>   -0.2379</td> <td>    0.089</td> <td>   -2.673</td> <td> 0.008</td> <td>   -0.413</td> <td>   -0.063</td>\n",
       "</tr>\n",
       "<tr>\n",
       "  <th>x7</th>    <td>   -0.2750</td> <td>    0.040</td> <td>   -6.812</td> <td> 0.000</td> <td>   -0.354</td> <td>   -0.196</td>\n",
       "</tr>\n",
       "<tr>\n",
       "  <th>x8</th>    <td>    0.1083</td> <td>    0.092</td> <td>    1.171</td> <td> 0.242</td> <td>   -0.073</td> <td>    0.290</td>\n",
       "</tr>\n",
       "<tr>\n",
       "  <th>x9</th>    <td>   -0.0888</td> <td>    0.108</td> <td>   -0.819</td> <td> 0.413</td> <td>   -0.302</td> <td>    0.124</td>\n",
       "</tr>\n",
       "<tr>\n",
       "  <th>x10</th>   <td>    0.1082</td> <td>    0.049</td> <td>    2.198</td> <td> 0.029</td> <td>    0.011</td> <td>    0.205</td>\n",
       "</tr>\n",
       "<tr>\n",
       "  <th>x11</th>   <td>    0.1018</td> <td>    0.078</td> <td>    1.313</td> <td> 0.190</td> <td>   -0.051</td> <td>    0.254</td>\n",
       "</tr>\n",
       "<tr>\n",
       "  <th>x12</th>   <td>    0.0974</td> <td>    0.059</td> <td>    1.656</td> <td> 0.098</td> <td>   -0.018</td> <td>    0.213</td>\n",
       "</tr>\n",
       "<tr>\n",
       "  <th>x13</th>   <td>    0.0417</td> <td>    0.038</td> <td>    1.084</td> <td> 0.279</td> <td>   -0.034</td> <td>    0.117</td>\n",
       "</tr>\n",
       "</table>\n",
       "<table class=\"simpletable\">\n",
       "<tr>\n",
       "  <th>Omnibus:</th>       <td>15.134</td> <th>  Durbin-Watson:     </th> <td>   1.693</td>\n",
       "</tr>\n",
       "<tr>\n",
       "  <th>Prob(Omnibus):</th> <td> 0.001</td> <th>  Jarque-Bera (JB):  </th> <td>  18.262</td>\n",
       "</tr>\n",
       "<tr>\n",
       "  <th>Skew:</th>          <td> 0.362</td> <th>  Prob(JB):          </th> <td>0.000108</td>\n",
       "</tr>\n",
       "<tr>\n",
       "  <th>Kurtosis:</th>      <td> 3.731</td> <th>  Cond. No.          </th> <td>    43.5</td>\n",
       "</tr>\n",
       "</table><br/><br/>Warnings:<br/>[1] Standard Errors assume that the covariance matrix of the errors is correctly specified."
      ],
      "text/plain": [
       "<class 'statsmodels.iolib.summary.Summary'>\n",
       "\"\"\"\n",
       "                            OLS Regression Results                            \n",
       "==============================================================================\n",
       "Dep. Variable:                      y   R-squared:                       0.317\n",
       "Model:                            OLS   Adj. R-squared:                  0.294\n",
       "Method:                 Least Squares   F-statistic:                     14.26\n",
       "Date:                Thu, 06 Feb 2020   Prob (F-statistic):           2.75e-26\n",
       "Time:                        11:28:01   Log-Likelihood:                 296.70\n",
       "No. Observations:                 414   AIC:                            -565.4\n",
       "Df Residuals:                     400   BIC:                            -509.0\n",
       "Df Model:                          13                                         \n",
       "Covariance Type:            nonrobust                                         \n",
       "==============================================================================\n",
       "                 coef    std err          t      P>|t|      [0.025      0.975]\n",
       "------------------------------------------------------------------------------\n",
       "const          0.4393      0.065      6.745      0.000       0.311       0.567\n",
       "x1             0.1034      0.047      2.198      0.029       0.011       0.196\n",
       "x2            -0.1378      0.089     -1.544      0.123      -0.313       0.038\n",
       "x3             0.0501      0.065      0.772      0.440      -0.077       0.178\n",
       "x4            -0.2158      0.058     -3.723      0.000      -0.330      -0.102\n",
       "x5             0.0694      0.053      1.312      0.190      -0.035       0.173\n",
       "x6            -0.2379      0.089     -2.673      0.008      -0.413      -0.063\n",
       "x7            -0.2750      0.040     -6.812      0.000      -0.354      -0.196\n",
       "x8             0.1083      0.092      1.171      0.242      -0.073       0.290\n",
       "x9            -0.0888      0.108     -0.819      0.413      -0.302       0.124\n",
       "x10            0.1082      0.049      2.198      0.029       0.011       0.205\n",
       "x11            0.1018      0.078      1.313      0.190      -0.051       0.254\n",
       "x12            0.0974      0.059      1.656      0.098      -0.018       0.213\n",
       "x13            0.0417      0.038      1.084      0.279      -0.034       0.117\n",
       "==============================================================================\n",
       "Omnibus:                       15.134   Durbin-Watson:                   1.693\n",
       "Prob(Omnibus):                  0.001   Jarque-Bera (JB):               18.262\n",
       "Skew:                           0.362   Prob(JB):                     0.000108\n",
       "Kurtosis:                       3.731   Cond. No.                         43.5\n",
       "==============================================================================\n",
       "\n",
       "Warnings:\n",
       "[1] Standard Errors assume that the covariance matrix of the errors is correctly specified.\n",
       "\"\"\""
      ]
     },
     "execution_count": 849,
     "metadata": {},
     "output_type": "execute_result"
    }
   ],
   "source": [
    "model_2.summary()"
   ]
  },
  {
   "cell_type": "code",
   "execution_count": 850,
   "metadata": {
    "ExecuteTime": {
     "end_time": "2020-02-06T11:28:10.863407Z",
     "start_time": "2020-02-06T11:28:10.856387Z"
    }
   },
   "outputs": [
    {
     "data": {
      "text/plain": [
       "array([[1.        , 0.56274795],\n",
       "       [0.56274795, 1.        ]])"
      ]
     },
     "execution_count": 850,
     "metadata": {},
     "output_type": "execute_result"
    }
   ],
   "source": [
    "np.corrcoef(predictions_2,Y[:,0])"
   ]
  },
  {
   "cell_type": "code",
   "execution_count": 855,
   "metadata": {
    "ExecuteTime": {
     "end_time": "2020-02-06T11:29:12.076079Z",
     "start_time": "2020-02-06T11:29:11.081911Z"
    }
   },
   "outputs": [
    {
     "name": "stderr",
     "output_type": "stream",
     "text": [
      "/work/sagarj/miniconda3/lib/python3.7/site-packages/seaborn/axisgrid.py:1847: UserWarning: JointGrid annotation is deprecated and will be removed in a future release.\n",
      "  warnings.warn(UserWarning(msg))\n"
     ]
    },
    {
     "data": {
      "text/plain": [
       "<seaborn.axisgrid.JointGrid at 0x7fd8af436e50>"
      ]
     },
     "execution_count": 855,
     "metadata": {},
     "output_type": "execute_result"
    },
    {
     "data": {
      "image/png": "[encoded data removed]",
      "text/plain": [
       "<Figure size 720x720 with 3 Axes>"
      ]
     },
     "metadata": {},
     "output_type": "display_data"
    }
   ],
   "source": [
    "sns.set(font_scale=2) \n",
    "ax = sns.jointplot(x=predictions_2, y=Y[:,0], kind='regression',height=10);\n",
    "plt.xlabel('Predicted Depression (L1+L2+L3+L4+L5)')\n",
    "plt.ylabel('Depression prevalence')\n",
    "ax.annotate(pearsonr)"
   ]
  },
  {
   "cell_type": "code",
   "execution_count": 856,
   "metadata": {
    "ExecuteTime": {
     "end_time": "2020-02-06T11:29:13.009310Z",
     "start_time": "2020-02-06T11:29:12.077814Z"
    }
   },
   "outputs": [
    {
     "data": {
      "text/plain": [
       "<seaborn.axisgrid.JointGrid at 0x7fd8b0af0850>"
      ]
     },
     "execution_count": 856,
     "metadata": {},
     "output_type": "execute_result"
    },
    {
     "data": {
      "image/png": "[encoded data removed]",
      "text/plain": [
       "<Figure size 720x720 with 3 Axes>"
      ]
     },
     "metadata": {},
     "output_type": "display_data"
    }
   ],
   "source": [
    "sns.set(font_scale=2) \n",
    "ax = sns.jointplot(x=predictions, y=Y[:,0], kind='regression',height=10);\n",
    "plt.xlabel('Predicted Depression (L1+L2+L4+L5)')\n",
    "plt.ylabel('Depression prevalence')\n",
    "ax.annotate(pearsonr)"
   ]
  },
  {
   "cell_type": "code",
   "execution_count": 803,
   "metadata": {
    "ExecuteTime": {
     "end_time": "2020-02-06T11:20:51.442267Z",
     "start_time": "2020-02-06T11:20:51.435891Z"
    }
   },
   "outputs": [],
   "source": [
    "residuals = np.array([predictions_2[k] - Y[k,0] for k in range(len(predictions_2))] , dtype = np.float32)"
   ]
  },
  {
   "cell_type": "code",
   "execution_count": 805,
   "metadata": {
    "ExecuteTime": {
     "end_time": "2020-02-06T11:22:07.766903Z",
     "start_time": "2020-02-06T11:22:07.406947Z"
    }
   },
   "outputs": [
    {
     "data": {
      "image/png": "[encoded data removed]",
      "text/plain": [
       "<Figure size 720x576 with 1 Axes>"
      ]
     },
     "metadata": {},
     "output_type": "display_data"
    }
   ],
   "source": [
    "fig, ax = plt.subplots()\n",
    "fig.set_size_inches(10,8)\n",
    "plt.ylabel('Frequency',fontsize=17)\n",
    "plt.xlabel('Residuals (L1+L2+L4+L5)',fontsize=17)\n",
    "n1 , bins1 , patches1 = plt.hist(residuals, 50, facecolor='g', alpha=0.75)\n",
    "# n2 , bins2 , patches2 = plt.hist(Y[:,0], 50, facecolor='r', alpha=0.75)\n",
    "plt.show()"
   ]
  },
  {
   "cell_type": "code",
   "execution_count": 806,
   "metadata": {
    "ExecuteTime": {
     "end_time": "2020-02-06T11:22:38.316977Z",
     "start_time": "2020-02-06T11:22:38.215648Z"
    }
   },
   "outputs": [
    {
     "data": {
      "text/html": [
       "<div>\n",
       "<style scoped>\n",
       "    .dataframe tbody tr th:only-of-type {\n",
       "        vertical-align: middle;\n",
       "    }\n",
       "\n",
       "    .dataframe tbody tr th {\n",
       "        vertical-align: top;\n",
       "    }\n",
       "\n",
       "    .dataframe thead th {\n",
       "        text-align: right;\n",
       "    }\n",
       "</style>\n",
       "<table border=\"1\" class=\"dataframe\">\n",
       "  <thead>\n",
       "    <tr style=\"text-align: right;\">\n",
       "      <th></th>\n",
       "      <th>GSS_CODE</th>\n",
       "      <th>Normalized_depression</th>\n",
       "      <th>Predict_L1</th>\n",
       "      <th>Predict_L2</th>\n",
       "      <th>Residual_L1</th>\n",
       "    </tr>\n",
       "  </thead>\n",
       "  <tbody>\n",
       "    <tr>\n",
       "      <th>0</th>\n",
       "      <td>E05000420</td>\n",
       "      <td>0.381794</td>\n",
       "      <td>0.292118</td>\n",
       "      <td>0.314931</td>\n",
       "      <td>-0.066863</td>\n",
       "    </tr>\n",
       "    <tr>\n",
       "      <th>1</th>\n",
       "      <td>E05000571</td>\n",
       "      <td>0.492230</td>\n",
       "      <td>0.445223</td>\n",
       "      <td>0.453387</td>\n",
       "      <td>-0.038844</td>\n",
       "    </tr>\n",
       "    <tr>\n",
       "      <th>2</th>\n",
       "      <td>E05000570</td>\n",
       "      <td>0.794825</td>\n",
       "      <td>0.505291</td>\n",
       "      <td>0.552014</td>\n",
       "      <td>-0.242811</td>\n",
       "    </tr>\n",
       "    <tr>\n",
       "      <th>3</th>\n",
       "      <td>E05000572</td>\n",
       "      <td>0.304906</td>\n",
       "      <td>0.445630</td>\n",
       "      <td>0.438556</td>\n",
       "      <td>0.133651</td>\n",
       "    </tr>\n",
       "    <tr>\n",
       "      <th>4</th>\n",
       "      <td>E05000620</td>\n",
       "      <td>0.446438</td>\n",
       "      <td>0.332182</td>\n",
       "      <td>0.340027</td>\n",
       "      <td>-0.106411</td>\n",
       "    </tr>\n",
       "  </tbody>\n",
       "</table>\n",
       "</div>"
      ],
      "text/plain": [
       "    GSS_CODE  Normalized_depression  Predict_L1  Predict_L2  Residual_L1\n",
       "0  E05000420               0.381794    0.292118    0.314931    -0.066863\n",
       "1  E05000571               0.492230    0.445223    0.453387    -0.038844\n",
       "2  E05000570               0.794825    0.505291    0.552014    -0.242811\n",
       "3  E05000572               0.304906    0.445630    0.438556     0.133651\n",
       "4  E05000620               0.446438    0.332182    0.340027    -0.106411"
      ]
     },
     "execution_count": 806,
     "metadata": {},
     "output_type": "execute_result"
    }
   ],
   "source": [
    "results_df = {'GSS_CODE':[] , 'Normalized_depression' :[] ,'Predict_L1':[] , 'Predict_L2':[] , 'Residual_L1': [] ,'Res'}\n",
    "for index, row in data.iterrows():\n",
    "    results_df['GSS_CODE'].append(row['GSS_CODE'])\n",
    "    results_df['Normalized_depression'].append(Y[index][0])\n",
    "    results_df['Predict_L1'].append(predictions[index])\n",
    "    results_df['Predict_L2'].append(predictions_2[index])\n",
    "    results_df['Residual_L1'].append(residuals[index])\n",
    "results = pd.DataFrame.from_dict(results_df)\n",
    "results.head()"
   ]
  },
  {
   "cell_type": "code",
   "execution_count": null,
   "metadata": {},
   "outputs": [],
   "source": []
  },
  {
   "cell_type": "code",
   "execution_count": 808,
   "metadata": {
    "ExecuteTime": {
     "end_time": "2020-02-06T11:23:38.807917Z",
     "start_time": "2020-02-06T11:23:38.803434Z"
    }
   },
   "outputs": [],
   "source": [
    "green = np.array(X_prime[:,0],dtype = np.float32)"
   ]
  },
  {
   "cell_type": "code",
   "execution_count": 809,
   "metadata": {
    "ExecuteTime": {
     "end_time": "2020-02-06T11:23:39.254880Z",
     "start_time": "2020-02-06T11:23:39.249170Z"
    }
   },
   "outputs": [
    {
     "data": {
      "text/plain": [
       "-0.06686264"
      ]
     },
     "execution_count": 809,
     "metadata": {},
     "output_type": "execute_result"
    }
   ],
   "source": [
    "residuals[0]"
   ]
  },
  {
   "cell_type": "code",
   "execution_count": 810,
   "metadata": {
    "ExecuteTime": {
     "end_time": "2020-02-06T11:23:39.869096Z",
     "start_time": "2020-02-06T11:23:39.863533Z"
    }
   },
   "outputs": [
    {
     "data": {
      "text/plain": [
       "((414,), (414,))"
      ]
     },
     "execution_count": 810,
     "metadata": {},
     "output_type": "execute_result"
    }
   ],
   "source": [
    "green.shape, residuals.shape"
   ]
  },
  {
   "cell_type": "code",
   "execution_count": 811,
   "metadata": {
    "ExecuteTime": {
     "end_time": "2020-02-06T11:23:42.579881Z",
     "start_time": "2020-02-06T11:23:42.574158Z"
    }
   },
   "outputs": [
    {
     "name": "stdout",
     "output_type": "stream",
     "text": [
      "[[ 1.         -0.07543809]\n",
      " [-0.07543809  1.        ]]\n"
     ]
    }
   ],
   "source": [
    "r = np.corrcoef(residuals, green)\n",
    "print(r )"
   ]
  },
  {
   "cell_type": "code",
   "execution_count": 812,
   "metadata": {
    "ExecuteTime": {
     "end_time": "2020-02-06T11:23:45.267087Z",
     "start_time": "2020-02-06T11:23:44.248225Z"
    }
   },
   "outputs": [
    {
     "name": "stderr",
     "output_type": "stream",
     "text": [
      "/work/sagarj/miniconda3/lib/python3.7/site-packages/seaborn/axisgrid.py:1847: UserWarning: JointGrid annotation is deprecated and will be removed in a future release.\n",
      "  warnings.warn(UserWarning(msg))\n"
     ]
    },
    {
     "data": {
      "text/plain": [
       "<seaborn.axisgrid.JointGrid at 0x7fd8d345af50>"
      ]
     },
     "execution_count": 812,
     "metadata": {},
     "output_type": "execute_result"
    },
    {
     "data": {
      "image/png": "[encoded data removed]",
      "text/plain": [
       "<Figure size 720x720 with 3 Axes>"
      ]
     },
     "metadata": {},
     "output_type": "display_data"
    }
   ],
   "source": [
    "sns.set(font_scale=2) \n",
    "ax = sns.jointplot(x=green, y=residuals, kind='regression',height=10);\n",
    "plt.xlabel('GLUD_Area of Greenspace PCT')\n",
    "plt.ylabel('Residuals of the linear model')\n",
    "ax.annotate(pearsonr)"
   ]
  },
  {
   "cell_type": "code",
   "execution_count": 570,
   "metadata": {
    "ExecuteTime": {
     "end_time": "2020-02-05T11:53:45.953623Z",
     "start_time": "2020-02-05T11:53:45.949832Z"
    }
   },
   "outputs": [],
   "source": [
    "from sklearn import linear_model"
   ]
  },
  {
   "cell_type": "code",
   "execution_count": 817,
   "metadata": {
    "ExecuteTime": {
     "end_time": "2020-02-06T11:24:51.239165Z",
     "start_time": "2020-02-06T11:24:51.233218Z"
    }
   },
   "outputs": [],
   "source": [
    "df = data[X_dims_2]"
   ]
  },
  {
   "cell_type": "code",
   "execution_count": 818,
   "metadata": {
    "ExecuteTime": {
     "end_time": "2020-02-06T11:24:51.639622Z",
     "start_time": "2020-02-06T11:24:51.615251Z"
    }
   },
   "outputs": [
    {
     "data": {
      "text/html": [
       "<div>\n",
       "<style scoped>\n",
       "    .dataframe tbody tr th:only-of-type {\n",
       "        vertical-align: middle;\n",
       "    }\n",
       "\n",
       "    .dataframe tbody tr th {\n",
       "        vertical-align: top;\n",
       "    }\n",
       "\n",
       "    .dataframe thead th {\n",
       "        text-align: right;\n",
       "    }\n",
       "</style>\n",
       "<table border=\"1\" class=\"dataframe\">\n",
       "  <thead>\n",
       "    <tr style=\"text-align: right;\">\n",
       "      <th></th>\n",
       "      <th>avg_age</th>\n",
       "      <th>IMD</th>\n",
       "      <th>people_per_sq_km</th>\n",
       "      <th>Sex_ratio</th>\n",
       "      <th>All_jsa</th>\n",
       "      <th>Mean 2012/13</th>\n",
       "      <th>weight</th>\n",
       "      <th>h_nutrients_weight_norm</th>\n",
       "      <th>h_nutrients_calories_norm</th>\n",
       "      <th>Flickr_score</th>\n",
       "      <th>bscore</th>\n",
       "    </tr>\n",
       "  </thead>\n",
       "  <tbody>\n",
       "    <tr>\n",
       "      <th>0</th>\n",
       "      <td>33.195192</td>\n",
       "      <td>8.91957</td>\n",
       "      <td>14246.666667</td>\n",
       "      <td>0.983525</td>\n",
       "      <td>0.557674</td>\n",
       "      <td>40490</td>\n",
       "      <td>440.669488</td>\n",
       "      <td>0.712779</td>\n",
       "      <td>0.675817</td>\n",
       "      <td>0.002488</td>\n",
       "      <td>0.617978</td>\n",
       "    </tr>\n",
       "    <tr>\n",
       "      <th>1</th>\n",
       "      <td>34.208704</td>\n",
       "      <td>41.70052</td>\n",
       "      <td>5918.048780</td>\n",
       "      <td>0.933078</td>\n",
       "      <td>0.530168</td>\n",
       "      <td>39290</td>\n",
       "      <td>303.275663</td>\n",
       "      <td>0.707125</td>\n",
       "      <td>0.671743</td>\n",
       "      <td>0.011122</td>\n",
       "      <td>0.697674</td>\n",
       "    </tr>\n",
       "    <tr>\n",
       "      <th>2</th>\n",
       "      <td>40.219281</td>\n",
       "      <td>18.26981</td>\n",
       "      <td>6259.883721</td>\n",
       "      <td>0.909381</td>\n",
       "      <td>0.509148</td>\n",
       "      <td>46490</td>\n",
       "      <td>281.894402</td>\n",
       "      <td>0.705212</td>\n",
       "      <td>0.669696</td>\n",
       "      <td>0.017603</td>\n",
       "      <td>0.872727</td>\n",
       "    </tr>\n",
       "    <tr>\n",
       "      <th>3</th>\n",
       "      <td>37.033810</td>\n",
       "      <td>27.56138</td>\n",
       "      <td>6597.948718</td>\n",
       "      <td>0.966677</td>\n",
       "      <td>0.510026</td>\n",
       "      <td>50070</td>\n",
       "      <td>278.329061</td>\n",
       "      <td>0.697350</td>\n",
       "      <td>0.670163</td>\n",
       "      <td>0.009760</td>\n",
       "      <td>0.500000</td>\n",
       "    </tr>\n",
       "    <tr>\n",
       "      <th>4</th>\n",
       "      <td>35.017963</td>\n",
       "      <td>41.44914</td>\n",
       "      <td>6087.197232</td>\n",
       "      <td>0.951631</td>\n",
       "      <td>0.618008</td>\n",
       "      <td>53840</td>\n",
       "      <td>372.607669</td>\n",
       "      <td>0.729214</td>\n",
       "      <td>0.689372</td>\n",
       "      <td>0.015287</td>\n",
       "      <td>0.474820</td>\n",
       "    </tr>\n",
       "  </tbody>\n",
       "</table>\n",
       "</div>"
      ],
      "text/plain": [
       "     avg_age       IMD  people_per_sq_km  Sex_ratio   All_jsa Mean 2012/13  \\\n",
       "0  33.195192   8.91957      14246.666667   0.983525  0.557674        40490   \n",
       "1  34.208704  41.70052       5918.048780   0.933078  0.530168        39290   \n",
       "2  40.219281  18.26981       6259.883721   0.909381  0.509148        46490   \n",
       "3  37.033810  27.56138       6597.948718   0.966677  0.510026        50070   \n",
       "4  35.017963  41.44914       6087.197232   0.951631  0.618008        53840   \n",
       "\n",
       "       weight  h_nutrients_weight_norm  h_nutrients_calories_norm  \\\n",
       "0  440.669488                 0.712779                   0.675817   \n",
       "1  303.275663                 0.707125                   0.671743   \n",
       "2  281.894402                 0.705212                   0.669696   \n",
       "3  278.329061                 0.697350                   0.670163   \n",
       "4  372.607669                 0.729214                   0.689372   \n",
       "\n",
       "   Flickr_score    bscore  \n",
       "0      0.002488  0.617978  \n",
       "1      0.011122  0.697674  \n",
       "2      0.017603  0.872727  \n",
       "3      0.009760  0.500000  \n",
       "4      0.015287  0.474820  "
      ]
     },
     "execution_count": 818,
     "metadata": {},
     "output_type": "execute_result"
    }
   ],
   "source": [
    "df.head()"
   ]
  },
  {
   "cell_type": "code",
   "execution_count": 819,
   "metadata": {
    "ExecuteTime": {
     "end_time": "2020-02-06T11:24:54.390285Z",
     "start_time": "2020-02-06T11:24:54.384340Z"
    }
   },
   "outputs": [
    {
     "data": {
      "text/plain": [
       "414"
      ]
     },
     "execution_count": 819,
     "metadata": {},
     "output_type": "execute_result"
    }
   ],
   "source": [
    "len(df)"
   ]
  },
  {
   "cell_type": "code",
   "execution_count": 820,
   "metadata": {
    "ExecuteTime": {
     "end_time": "2020-02-06T11:24:59.942726Z",
     "start_time": "2020-02-06T11:24:59.561812Z"
    }
   },
   "outputs": [
    {
     "data": {
      "image/png": "[encoded data removed]",
      "text/plain": [
       "<Figure size 720x576 with 1 Axes>"
      ]
     },
     "metadata": {},
     "output_type": "display_data"
    }
   ],
   "source": [
    "fig, ax = plt.subplots()\n",
    "fig.set_size_inches(10,8)\n",
    "plt.ylabel('Frequency',fontsize=17)\n",
    "plt.xlabel('people_per_sq_km',fontsize=17)\n",
    "n, bins, patches = plt.hist(df['people_per_sq_km'].values, 50, facecolor='g', alpha=0.75)\n",
    "plt.show()"
   ]
  },
  {
   "cell_type": "code",
   "execution_count": 822,
   "metadata": {
    "ExecuteTime": {
     "end_time": "2020-02-06T11:25:19.176532Z",
     "start_time": "2020-02-06T11:25:18.785684Z"
    }
   },
   "outputs": [
    {
     "data": {
      "image/png": "[encoded data removed]",
      "text/plain": [
       "<Figure size 720x576 with 1 Axes>"
      ]
     },
     "metadata": {},
     "output_type": "display_data"
    }
   ],
   "source": [
    "fig, ax = plt.subplots()\n",
    "fig.set_size_inches(10,8)\n",
    "plt.ylabel('Frequency',fontsize=17)\n",
    "plt.xlabel('weight',fontsize=17)\n",
    "n, bins, patches = plt.hist(df['weight'].values, 50, facecolor='g', alpha=0.75)\n",
    "plt.show()"
   ]
  },
  {
   "cell_type": "code",
   "execution_count": 823,
   "metadata": {
    "ExecuteTime": {
     "end_time": "2020-02-06T11:25:55.303478Z",
     "start_time": "2020-02-06T11:25:45.416233Z"
    }
   },
   "outputs": [
    {
     "data": {
      "image/png": "[encoded data removed]",
      "text/plain": [
       "<Figure size 720x576 with 1 Axes>"
      ]
     },
     "metadata": {},
     "output_type": "display_data"
    }
   ],
   "source": [
    "fig, ax = plt.subplots()\n",
    "fig.set_size_inches(10,8)\n",
    "plt.ylabel('Frequency',fontsize=17)\n",
    "plt.xlabel('Mean 2012/13',fontsize=17)\n",
    "n, bins, patches = plt.hist(df['Mean 2012/13'].values, 50, facecolor='g', alpha=0.75)\n",
    "plt.show()"
   ]
  },
  {
   "cell_type": "code",
   "execution_count": 575,
   "metadata": {
    "ExecuteTime": {
     "end_time": "2020-02-05T11:53:55.068388Z",
     "start_time": "2020-02-05T11:53:55.062452Z"
    }
   },
   "outputs": [],
   "source": [
    "lm = linear_model.LinearRegression()\n",
    "model = lm.fit(X,Y)"
   ]
  },
  {
   "cell_type": "code",
   "execution_count": 576,
   "metadata": {
    "ExecuteTime": {
     "end_time": "2020-02-05T11:53:55.767313Z",
     "start_time": "2020-02-05T11:53:55.741864Z"
    }
   },
   "outputs": [
    {
     "name": "stdout",
     "output_type": "stream",
     "text": [
      "[[0.30407346]\n",
      " [0.4386423 ]\n",
      " [0.52927949]\n",
      " [0.49591295]\n",
      " [0.34319875]\n",
      " [0.3836492 ]\n",
      " [0.31253725]\n",
      " [0.27465303]\n",
      " [0.38952747]\n",
      " [0.28062327]\n",
      " [0.40723406]\n",
      " [0.36140385]\n",
      " [0.30612533]\n",
      " [0.26352216]\n",
      " [0.38443582]\n",
      " [0.40018686]\n",
      " [0.35264611]\n",
      " [0.31347044]\n",
      " [0.45507672]\n",
      " [0.49611089]\n",
      " [0.48171879]\n",
      " [0.46399892]\n",
      " [0.40819914]\n",
      " [0.30831176]\n",
      " [0.31233409]\n",
      " [0.3371867 ]\n",
      " [0.26951584]\n",
      " [0.31709464]\n",
      " [0.28342481]\n",
      " [0.28444218]\n",
      " [0.1942068 ]\n",
      " [0.25580121]\n",
      " [0.24982825]\n",
      " [0.30420344]\n",
      " [0.46814789]\n",
      " [0.45209758]\n",
      " [0.46023085]\n",
      " [0.31644124]\n",
      " [0.3126484 ]\n",
      " [0.4081456 ]\n",
      " [0.47875222]\n",
      " [0.32031063]\n",
      " [0.36879945]\n",
      " [0.39376152]\n",
      " [0.4256227 ]\n",
      " [0.40318819]\n",
      " [0.43042196]\n",
      " [0.32998392]\n",
      " [0.3600291 ]\n",
      " [0.32915052]\n",
      " [0.39092096]\n",
      " [0.39228717]\n",
      " [0.42982307]\n",
      " [0.30992149]\n",
      " [0.34574048]\n",
      " [0.352343  ]\n",
      " [0.37014557]\n",
      " [0.35881181]\n",
      " [0.42962271]\n",
      " [0.33278153]\n",
      " [0.33917772]\n",
      " [0.44376092]\n",
      " [0.33666902]\n",
      " [0.27912601]\n",
      " [0.34918065]\n",
      " [0.35558359]\n",
      " [0.39667513]\n",
      " [0.49705689]\n",
      " [0.3686076 ]\n",
      " [0.36476589]\n",
      " [0.36674151]\n",
      " [0.34688424]\n",
      " [0.31948701]\n",
      " [0.36536878]\n",
      " [0.43415657]\n",
      " [0.47430753]\n",
      " [0.37610202]\n",
      " [0.37195464]\n",
      " [0.34802933]\n",
      " [0.35673939]\n",
      " [0.3949606 ]\n",
      " [0.38765781]\n",
      " [0.46895666]\n",
      " [0.3777247 ]\n",
      " [0.39468377]\n",
      " [0.36528264]\n",
      " [0.36714762]\n",
      " [0.38547702]\n",
      " [0.39581798]\n",
      " [0.37620793]\n",
      " [0.41823124]\n",
      " [0.3610306 ]\n",
      " [0.39495153]\n",
      " [0.40606776]\n",
      " [0.36590155]\n",
      " [0.36450046]\n",
      " [0.37644363]\n",
      " [0.30387188]\n",
      " [0.29920603]\n",
      " [0.32163625]\n",
      " [0.31325658]\n",
      " [0.32985012]\n",
      " [0.25181063]\n",
      " [0.32957981]\n",
      " [0.35952984]\n",
      " [0.51666585]\n",
      " [0.37861446]\n",
      " [0.36523775]\n",
      " [0.33104674]\n",
      " [0.41456684]\n",
      " [0.42832111]\n",
      " [0.22139514]\n",
      " [0.4717806 ]\n",
      " [0.48087771]\n",
      " [0.38594565]\n",
      " [0.43510615]\n",
      " [0.41345216]\n",
      " [0.43036552]\n",
      " [0.40037726]\n",
      " [0.40565842]\n",
      " [0.42327412]\n",
      " [0.42600069]\n",
      " [0.42438952]\n",
      " [0.38785658]\n",
      " [0.2198381 ]\n",
      " [0.42760547]\n",
      " [0.38659715]\n",
      " [0.30944327]\n",
      " [0.34428239]\n",
      " [0.33085452]\n",
      " [0.32589689]\n",
      " [0.31500921]\n",
      " [0.31863977]\n",
      " [0.37194177]\n",
      " [0.39086592]\n",
      " [0.35415722]\n",
      " [0.44007187]\n",
      " [0.42372112]\n",
      " [0.40894388]\n",
      " [0.44664987]\n",
      " [0.38114875]\n",
      " [0.23226812]\n",
      " [0.25282543]\n",
      " [0.26199633]\n",
      " [0.3909421 ]\n",
      " [0.3592805 ]\n",
      " [0.3863342 ]\n",
      " [0.34955079]\n",
      " [0.12660448]\n",
      " [0.36197991]\n",
      " [0.42604672]\n",
      " [0.41155232]\n",
      " [0.39731914]\n",
      " [0.31606811]\n",
      " [0.30415088]\n",
      " [0.44192479]\n",
      " [0.26857672]\n",
      " [0.27870695]\n",
      " [0.40429132]\n",
      " [0.28614432]\n",
      " [0.31368426]\n",
      " [0.2895896 ]\n",
      " [0.32451242]\n",
      " [0.27993162]\n",
      " [0.35925186]\n",
      " [0.31640508]\n",
      " [0.38548086]\n",
      " [0.41243083]\n",
      " [0.37360265]\n",
      " [0.44270711]\n",
      " [0.43209455]\n",
      " [0.40077952]\n",
      " [0.30579904]\n",
      " [0.43323935]\n",
      " [0.46547562]\n",
      " [0.3377361 ]\n",
      " [0.41101962]\n",
      " [0.40955566]\n",
      " [0.36950653]\n",
      " [0.40728123]\n",
      " [0.44908575]\n",
      " [0.37813384]\n",
      " [0.38420953]\n",
      " [0.48833218]\n",
      " [0.36078725]\n",
      " [0.40774602]\n",
      " [0.3871321 ]\n",
      " [0.41695224]\n",
      " [0.36563082]\n",
      " [0.3687737 ]\n",
      " [0.39265083]\n",
      " [0.45982496]\n",
      " [0.43485117]\n",
      " [0.40417082]\n",
      " [0.40906096]\n",
      " [0.42198974]\n",
      " [0.39380895]\n",
      " [0.40514133]\n",
      " [0.35930079]\n",
      " [0.4498069 ]\n",
      " [0.31411458]\n",
      " [0.40139797]\n",
      " [0.48623764]\n",
      " [0.49160553]\n",
      " [0.39743902]\n",
      " [0.48702223]\n",
      " [0.28936968]\n",
      " [0.28159929]\n",
      " [0.44089561]\n",
      " [0.38976542]\n",
      " [0.37040431]\n",
      " [0.49441587]\n",
      " [0.43607164]\n",
      " [0.46167041]\n",
      " [0.46513451]\n",
      " [0.46998202]\n",
      " [0.47499649]\n",
      " [0.23641482]\n",
      " [0.2631868 ]\n",
      " [0.39226   ]\n",
      " [0.33867094]\n",
      " [0.3036129 ]\n",
      " [0.26101079]\n",
      " [0.29870895]\n",
      " [0.36447061]\n",
      " [0.32435774]\n",
      " [0.28330532]\n",
      " [0.26831772]\n",
      " [0.35127756]\n",
      " [0.28272946]\n",
      " [0.37503845]\n",
      " [0.28297262]\n",
      " [0.23156095]\n",
      " [0.33428443]\n",
      " [0.26072037]\n",
      " [0.33478028]\n",
      " [0.37291491]\n",
      " [0.23833903]\n",
      " [0.48592549]\n",
      " [0.50276408]\n",
      " [0.4948482 ]\n",
      " [0.45982121]\n",
      " [0.49343921]\n",
      " [0.53915678]\n",
      " [0.48519288]\n",
      " [0.49068186]\n",
      " [0.52048551]\n",
      " [0.48766202]\n",
      " [0.26811179]\n",
      " [0.24318839]\n",
      " [0.22048   ]\n",
      " [0.2699919 ]\n",
      " [0.20348989]\n",
      " [0.21229309]\n",
      " [0.21396704]\n",
      " [0.31119322]\n",
      " [0.23934607]\n",
      " [0.46215559]\n",
      " [0.4379491 ]\n",
      " [0.40078159]\n",
      " [0.46378449]\n",
      " [0.47038349]\n",
      " [0.45488389]\n",
      " [0.49793251]\n",
      " [0.43596604]\n",
      " [0.44162433]\n",
      " [0.27021544]\n",
      " [0.18169739]\n",
      " [0.36122716]\n",
      " [0.277976  ]\n",
      " [0.24828006]\n",
      " [0.29799428]\n",
      " [0.27074977]\n",
      " [0.28068405]\n",
      " [0.26957196]\n",
      " [0.25692748]\n",
      " [0.23848996]\n",
      " [0.35141142]\n",
      " [0.27304704]\n",
      " [0.36029965]\n",
      " [0.35835106]\n",
      " [0.43913993]\n",
      " [0.40979778]\n",
      " [0.36632615]\n",
      " [0.27211535]\n",
      " [0.3398722 ]\n",
      " [0.33826522]\n",
      " [0.31812029]\n",
      " [0.31287568]\n",
      " [0.36609234]\n",
      " [0.49407937]\n",
      " [0.41774641]\n",
      " [0.42732757]\n",
      " [0.37495304]\n",
      " [0.32517856]\n",
      " [0.42957814]\n",
      " [0.40062184]\n",
      " [0.35068483]\n",
      " [0.33154986]\n",
      " [0.3781788 ]\n",
      " [0.29716005]\n",
      " [0.42900514]\n",
      " [0.38486182]\n",
      " [0.37684526]\n",
      " [0.40960977]\n",
      " [0.36302166]\n",
      " [0.40357987]\n",
      " [0.39660151]\n",
      " [0.37503566]\n",
      " [0.41329217]\n",
      " [0.44758746]\n",
      " [0.37579029]\n",
      " [0.48069295]\n",
      " [0.47865254]\n",
      " [0.41162948]\n",
      " [0.45566577]\n",
      " [0.43418494]\n",
      " [0.47870574]\n",
      " [0.42428745]\n",
      " [0.43729469]\n",
      " [0.39961879]\n",
      " [0.38653187]\n",
      " [0.40896419]\n",
      " [0.41773091]\n",
      " [0.39876687]\n",
      " [0.42523551]\n",
      " [0.3628864 ]\n",
      " [0.37306458]\n",
      " [0.38391074]\n",
      " [0.28810579]\n",
      " [0.33441438]\n",
      " [0.35612996]\n",
      " [0.37744362]\n",
      " [0.36710767]\n",
      " [0.34002208]\n",
      " [0.35658412]\n",
      " [0.29546356]\n",
      " [0.35837098]\n",
      " [0.34594792]\n",
      " [0.36428329]\n",
      " [0.32497793]\n",
      " [0.37209391]\n",
      " [0.37005808]\n",
      " [0.32930883]\n",
      " [0.39807985]\n",
      " [0.39545091]\n",
      " [0.40907626]\n",
      " [0.41715875]\n",
      " [0.37827803]\n",
      " [0.39273605]\n",
      " [0.41774215]\n",
      " [0.45327577]\n",
      " [0.44468116]\n",
      " [0.43625339]\n",
      " [0.37359511]\n",
      " [0.29578807]\n",
      " [0.36583689]\n",
      " [0.29995744]\n",
      " [0.27701585]\n",
      " [0.32813837]\n",
      " [0.2313873 ]\n",
      " [0.36770235]\n",
      " [0.41021871]\n",
      " [0.42768139]\n",
      " [0.33272901]\n",
      " [0.37019507]\n",
      " [0.32581561]\n",
      " [0.43035162]\n",
      " [0.44062775]\n",
      " [0.42487596]\n",
      " [0.33755742]\n",
      " [0.28267567]\n",
      " [0.3238371 ]\n",
      " [0.24770674]\n",
      " [0.23594876]\n",
      " [0.3575596 ]\n",
      " [0.35224487]\n",
      " [0.29556301]\n",
      " [0.28581744]\n",
      " [0.37618321]\n",
      " [0.33405434]\n",
      " [0.28140473]\n",
      " [0.296756  ]\n",
      " [0.29350456]\n",
      " [0.27721599]\n",
      " [0.34083878]\n",
      " [0.28195199]\n",
      " [0.36332967]\n",
      " [0.31990565]\n",
      " [0.31799971]\n",
      " [0.3184653 ]\n",
      " [0.27007405]\n",
      " [0.36716136]\n",
      " [0.32636849]\n",
      " [0.27101398]\n",
      " [0.37890995]\n",
      " [0.34965822]\n",
      " [0.35261907]\n",
      " [0.46900831]\n",
      " [0.45848537]\n",
      " [0.35906595]\n",
      " [0.38979406]\n",
      " [0.34956017]\n",
      " [0.41512326]\n",
      " [0.34580321]\n",
      " [0.40878383]\n",
      " [0.37779008]\n",
      " [0.38569723]\n",
      " [0.44056972]\n",
      " [0.36935107]\n",
      " [0.34568468]\n",
      " [0.36962511]\n",
      " [0.41648993]\n",
      " [0.41512784]\n",
      " [0.40591474]\n",
      " [0.3969168 ]\n",
      " [0.30977454]\n",
      " [0.42881391]\n",
      " [0.38167273]\n",
      " [0.44453246]\n",
      " [0.39537366]\n",
      " [0.33340952]\n",
      " [0.36245613]\n",
      " [0.32767187]]\n"
     ]
    },
    {
     "ename": "TypeError",
     "evalue": "'NoneType' object is not subscriptable",
     "output_type": "error",
     "traceback": [
      "\u001b[0;31m---------------------------------------------------------------------------\u001b[0m",
      "\u001b[0;31mTypeError\u001b[0m                                 Traceback (most recent call last)",
      "\u001b[0;32m<ipython-input-576-fa4e9040e769>\u001b[0m in \u001b[0;36m<module>\u001b[0;34m\u001b[0m\n\u001b[1;32m      1\u001b[0m \u001b[0mpredictions\u001b[0m \u001b[0;34m=\u001b[0m \u001b[0mlm\u001b[0m\u001b[0;34m.\u001b[0m\u001b[0mpredict\u001b[0m\u001b[0;34m(\u001b[0m\u001b[0mX\u001b[0m\u001b[0;34m)\u001b[0m\u001b[0;34m\u001b[0m\u001b[0;34m\u001b[0m\u001b[0m\n\u001b[0;32m----> 2\u001b[0;31m \u001b[0mprint\u001b[0m\u001b[0;34m(\u001b[0m\u001b[0mpredictions\u001b[0m\u001b[0;34m)\u001b[0m\u001b[0;34m[\u001b[0m\u001b[0;36m0\u001b[0m\u001b[0;34m:\u001b[0m\u001b[0;36m5\u001b[0m\u001b[0;34m]\u001b[0m\u001b[0;34m\u001b[0m\u001b[0;34m\u001b[0m\u001b[0m\n\u001b[0m",
      "\u001b[0;31mTypeError\u001b[0m: 'NoneType' object is not subscriptable"
     ]
    }
   ],
   "source": [
    "predictions = lm.predict(X)\n",
    "print(predictions)[0:5]"
   ]
  },
  {
   "cell_type": "code",
   "execution_count": 577,
   "metadata": {
    "ExecuteTime": {
     "end_time": "2020-02-05T11:53:58.574583Z",
     "start_time": "2020-02-05T11:53:58.567649Z"
    }
   },
   "outputs": [
    {
     "data": {
      "text/plain": [
       "0.2367889664313211"
      ]
     },
     "execution_count": 577,
     "metadata": {},
     "output_type": "execute_result"
    }
   ],
   "source": [
    "lm.score(X,Y)"
   ]
  },
  {
   "cell_type": "code",
   "execution_count": null,
   "metadata": {},
   "outputs": [],
   "source": []
  }
 ],
 "metadata": {
  "kernelspec": {
   "display_name": "Python 2",
   "language": "python",
   "name": "python2"
  },
  "language_info": {
   "codemirror_mode": {
    "name": "ipython",
    "version": 3
   },
   "file_extension": ".py",
   "mimetype": "text/x-python",
   "name": "python",
   "nbconvert_exporter": "python",
   "pygments_lexer": "ipython3",
   "version": "3.7.4"
  }
 },
 "nbformat": 4,
 "nbformat_minor": 2
}
