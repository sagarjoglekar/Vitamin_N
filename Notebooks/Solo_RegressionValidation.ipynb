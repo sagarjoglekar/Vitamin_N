{
 "cells": [
  {
   "cell_type": "code",
   "execution_count": 1,
   "metadata": {
    "ExecuteTime": {
     "end_time": "2021-01-22T16:12:28.136089Z",
     "start_time": "2021-01-22T16:12:27.001529Z"
    }
   },
   "outputs": [],
   "source": [
    "import pandas as pd\n",
    "import numpy as np\n",
    "import matplotlib.pyplot as plt\n",
    "import pandas as pd \n",
    "import json\n",
    "from sklearn import preprocessing\n",
    "%matplotlib inline\n",
    "import matplotlib.pyplot as plt\n",
    "import seaborn as sns\n",
    "from scipy.stats import pearsonr\n",
    "import statsmodels.api as sm"
   ]
  },
  {
   "cell_type": "code",
   "execution_count": 2,
   "metadata": {
    "ExecuteTime": {
     "end_time": "2021-01-22T16:12:28.193881Z",
     "start_time": "2021-01-22T16:12:28.138438Z"
    }
   },
   "outputs": [],
   "source": [
    "solo_living = pd.read_csv('scratchpad/wards_household_data.csv')"
   ]
  },
  {
   "cell_type": "code",
   "execution_count": 3,
   "metadata": {
    "ExecuteTime": {
     "end_time": "2021-01-22T16:12:28.248263Z",
     "start_time": "2021-01-22T16:12:28.196575Z"
    }
   },
   "outputs": [
    {
     "data": {
      "text/html": [
       "<div>\n",
       "<style scoped>\n",
       "    .dataframe tbody tr th:only-of-type {\n",
       "        vertical-align: middle;\n",
       "    }\n",
       "\n",
       "    .dataframe tbody tr th {\n",
       "        vertical-align: top;\n",
       "    }\n",
       "\n",
       "    .dataframe thead th {\n",
       "        text-align: right;\n",
       "    }\n",
       "</style>\n",
       "<table border=\"1\" class=\"dataframe\">\n",
       "  <thead>\n",
       "    <tr style=\"text-align: right;\">\n",
       "      <th></th>\n",
       "      <th>Region code</th>\n",
       "      <th>Region name</th>\n",
       "      <th>County code</th>\n",
       "      <th>County name</th>\n",
       "      <th>Local authority code</th>\n",
       "      <th>Local authority name</th>\n",
       "      <th>Ward code</th>\n",
       "      <th>Ward name</th>\n",
       "      <th>Unnamed: 8</th>\n",
       "      <th>Persons</th>\n",
       "      <th>Persons.1</th>\n",
       "      <th>Persons.2</th>\n",
       "      <th>Unnamed: 12</th>\n",
       "      <th>Hectares</th>\n",
       "      <th>Persons per hectare</th>\n",
       "      <th>Unnamed: 15</th>\n",
       "      <th>Households</th>\n",
       "      <th>Persons per household</th>\n",
       "    </tr>\n",
       "  </thead>\n",
       "  <tbody>\n",
       "    <tr>\n",
       "      <th>0</th>\n",
       "      <td>NaN</td>\n",
       "      <td>NaN</td>\n",
       "      <td>NaN</td>\n",
       "      <td>NaN</td>\n",
       "      <td>NaN</td>\n",
       "      <td>NaN</td>\n",
       "      <td>NaN</td>\n",
       "      <td>NaN</td>\n",
       "      <td>NaN</td>\n",
       "      <td>All usual residents</td>\n",
       "      <td>Household residents</td>\n",
       "      <td>Communal establishment residents</td>\n",
       "      <td>NaN</td>\n",
       "      <td>Area</td>\n",
       "      <td>Population density</td>\n",
       "      <td>NaN</td>\n",
       "      <td>Households with at least one usual resident</td>\n",
       "      <td>Average household size</td>\n",
       "    </tr>\n",
       "    <tr>\n",
       "      <th>1</th>\n",
       "      <td>E12000001</td>\n",
       "      <td>NORTH EAST</td>\n",
       "      <td>NaN</td>\n",
       "      <td>NaN</td>\n",
       "      <td>E06000047</td>\n",
       "      <td>County Durham UA</td>\n",
       "      <td>E05007955</td>\n",
       "      <td>Annfield Plain</td>\n",
       "      <td>NaN</td>\n",
       "      <td>7,774</td>\n",
       "      <td>7,717</td>\n",
       "      <td>57</td>\n",
       "      <td>NaN</td>\n",
       "      <td>799</td>\n",
       "      <td>9.7</td>\n",
       "      <td>NaN</td>\n",
       "      <td>3,522</td>\n",
       "      <td>2.2</td>\n",
       "    </tr>\n",
       "    <tr>\n",
       "      <th>2</th>\n",
       "      <td>E12000001</td>\n",
       "      <td>NORTH EAST</td>\n",
       "      <td>NaN</td>\n",
       "      <td>NaN</td>\n",
       "      <td>E06000047</td>\n",
       "      <td>County Durham UA</td>\n",
       "      <td>E05007956</td>\n",
       "      <td>Aycliffe East</td>\n",
       "      <td>NaN</td>\n",
       "      <td>6,280</td>\n",
       "      <td>6,234</td>\n",
       "      <td>46</td>\n",
       "      <td>NaN</td>\n",
       "      <td>1,336</td>\n",
       "      <td>4.7</td>\n",
       "      <td>NaN</td>\n",
       "      <td>2,787</td>\n",
       "      <td>2.2</td>\n",
       "    </tr>\n",
       "    <tr>\n",
       "      <th>3</th>\n",
       "      <td>E12000001</td>\n",
       "      <td>NORTH EAST</td>\n",
       "      <td>NaN</td>\n",
       "      <td>NaN</td>\n",
       "      <td>E06000047</td>\n",
       "      <td>County Durham UA</td>\n",
       "      <td>E05007957</td>\n",
       "      <td>Aycliffe North</td>\n",
       "      <td>NaN</td>\n",
       "      <td>7,751</td>\n",
       "      <td>7,611</td>\n",
       "      <td>140</td>\n",
       "      <td>NaN</td>\n",
       "      <td>337</td>\n",
       "      <td>23</td>\n",
       "      <td>NaN</td>\n",
       "      <td>3,271</td>\n",
       "      <td>2.3</td>\n",
       "    </tr>\n",
       "    <tr>\n",
       "      <th>4</th>\n",
       "      <td>E12000001</td>\n",
       "      <td>NORTH EAST</td>\n",
       "      <td>NaN</td>\n",
       "      <td>NaN</td>\n",
       "      <td>E06000047</td>\n",
       "      <td>County Durham UA</td>\n",
       "      <td>E05007958</td>\n",
       "      <td>Aycliffe West</td>\n",
       "      <td>NaN</td>\n",
       "      <td>7,457</td>\n",
       "      <td>7,457</td>\n",
       "      <td>0</td>\n",
       "      <td>NaN</td>\n",
       "      <td>288</td>\n",
       "      <td>25.9</td>\n",
       "      <td>NaN</td>\n",
       "      <td>3,335</td>\n",
       "      <td>2.2</td>\n",
       "    </tr>\n",
       "  </tbody>\n",
       "</table>\n",
       "</div>"
      ],
      "text/plain": [
       "  Region code Region name County code County name Local authority code  \\\n",
       "0         NaN         NaN         NaN         NaN                  NaN   \n",
       "1   E12000001  NORTH EAST         NaN         NaN            E06000047   \n",
       "2   E12000001  NORTH EAST         NaN         NaN            E06000047   \n",
       "3   E12000001  NORTH EAST         NaN         NaN            E06000047   \n",
       "4   E12000001  NORTH EAST         NaN         NaN            E06000047   \n",
       "\n",
       "  Local authority name  Ward code       Ward name  Unnamed: 8  \\\n",
       "0                  NaN        NaN             NaN         NaN   \n",
       "1     County Durham UA  E05007955  Annfield Plain         NaN   \n",
       "2     County Durham UA  E05007956   Aycliffe East         NaN   \n",
       "3     County Durham UA  E05007957  Aycliffe North         NaN   \n",
       "4     County Durham UA  E05007958   Aycliffe West         NaN   \n",
       "\n",
       "               Persons            Persons.1                         Persons.2  \\\n",
       "0  All usual residents  Household residents  Communal establishment residents   \n",
       "1                7,774                7,717                                57   \n",
       "2                6,280                6,234                                46   \n",
       "3                7,751                7,611                               140   \n",
       "4                7,457                7,457                                 0   \n",
       "\n",
       "   Unnamed: 12 Hectares Persons per hectare  Unnamed: 15  \\\n",
       "0          NaN    Area   Population density          NaN   \n",
       "1          NaN      799                 9.7          NaN   \n",
       "2          NaN    1,336                 4.7          NaN   \n",
       "3          NaN      337                  23          NaN   \n",
       "4          NaN      288                25.9          NaN   \n",
       "\n",
       "                                    Households   Persons per household  \n",
       "0  Households with at least one usual resident  Average household size  \n",
       "1                                        3,522                     2.2  \n",
       "2                                        2,787                     2.2  \n",
       "3                                        3,271                     2.3  \n",
       "4                                        3,335                     2.2  "
      ]
     },
     "execution_count": 3,
     "metadata": {},
     "output_type": "execute_result"
    }
   ],
   "source": [
    "solo_living.head()"
   ]
  },
  {
   "cell_type": "code",
   "execution_count": 4,
   "metadata": {
    "ExecuteTime": {
     "end_time": "2021-01-22T16:12:28.352044Z",
     "start_time": "2021-01-22T16:12:28.339703Z"
    }
   },
   "outputs": [],
   "source": [
    "solo_living = solo_living.drop(solo_living.index[0])\n",
    "solo_living.head()\n",
    "solo_living['Persons per household'] = solo_living['Persons per household'].astype('float32')"
   ]
  },
  {
   "cell_type": "code",
   "execution_count": 5,
   "metadata": {
    "ExecuteTime": {
     "end_time": "2021-01-22T16:12:28.984841Z",
     "start_time": "2021-01-22T16:12:28.979664Z"
    }
   },
   "outputs": [
    {
     "data": {
      "text/plain": [
       "8570"
      ]
     },
     "execution_count": 5,
     "metadata": {},
     "output_type": "execute_result"
    }
   ],
   "source": [
    "len(solo_living)"
   ]
  },
  {
   "cell_type": "code",
   "execution_count": 6,
   "metadata": {
    "ExecuteTime": {
     "end_time": "2021-01-22T16:12:34.051181Z",
     "start_time": "2021-01-22T16:12:33.565506Z"
    }
   },
   "outputs": [
    {
     "data": {
      "text/plain": [
       "<matplotlib.axes._subplots.AxesSubplot at 0x7f459be51dd8>"
      ]
     },
     "execution_count": 6,
     "metadata": {},
     "output_type": "execute_result"
    },
    {
     "data": {
      "image/png": "[encoded data removed]",
      "text/plain": [
       "<Figure size 432x288 with 1 Axes>"
      ]
     },
     "metadata": {
      "needs_background": "light"
     },
     "output_type": "display_data"
    }
   ],
   "source": [
    "sns.distplot(solo_living['Persons per household'])"
   ]
  },
  {
   "cell_type": "code",
   "execution_count": 7,
   "metadata": {
    "ExecuteTime": {
     "end_time": "2021-01-22T16:12:34.058853Z",
     "start_time": "2021-01-22T16:12:34.052770Z"
    }
   },
   "outputs": [],
   "source": [
    "household_size = solo_living[['Ward code','Persons per household']].dropna()"
   ]
  },
  {
   "cell_type": "code",
   "execution_count": 40,
   "metadata": {
    "ExecuteTime": {
     "end_time": "2021-02-09T14:55:42.057611Z",
     "start_time": "2021-02-09T14:55:41.032269Z"
    }
   },
   "outputs": [],
   "source": [
    "data = pd.read_csv('All_data_aggregated_ward_level.csv')"
   ]
  },
  {
   "cell_type": "code",
   "execution_count": 41,
   "metadata": {
    "ExecuteTime": {
     "end_time": "2021-02-09T14:55:47.605634Z",
     "start_time": "2021-02-09T14:55:47.573047Z"
    }
   },
   "outputs": [
    {
     "data": {
      "text/plain": [
       "['Unnamed: 0',\n",
       " 'Unnamed: 0_x',\n",
       " 'green_score',\n",
       " 'GSS_CODE',\n",
       " 'WD17CD',\n",
       " 'GLUD_Area of Greenspace PCT',\n",
       " 'LCM_grass_pct',\n",
       " 'LCM_tree_pct',\n",
       " 'LCM_urban_pct',\n",
       " 'UA_Public Greenery PCT',\n",
       " 'UA_Forests PCT',\n",
       " 'StreetTrees_PCT',\n",
       " 'Unnamed: 0.1',\n",
       " 'borough_name_x',\n",
       " 'poly',\n",
       " 'area_m',\n",
       " 'area_km',\n",
       " 'gsview_point_list',\n",
       " 'gsview_segnet_tags_dict',\n",
       " 'gsview_tags',\n",
       " 'total_gsview_pixels',\n",
       " 'Tree',\n",
       " 'TreeTotal',\n",
       " 'TreeScore',\n",
       " 'psoriasis_Prescriptions',\n",
       " 'psoriasis_Prevalence',\n",
       " \"Meniere's disease_Prescriptions\",\n",
       " \"Meniere's disease_Prevalence\",\n",
       " \"crohn's disease_Prescriptions\",\n",
       " \"crohn's disease_Prevalence\",\n",
       " 'gastroparesis_Prescriptions',\n",
       " 'gastroparesis_Prevalence',\n",
       " 'irritable bowel syndrome_Prescriptions',\n",
       " 'irritable bowel syndrome_Prevalence',\n",
       " 'parkinson_Prescriptions',\n",
       " 'parkinson_Prevalence',\n",
       " 'sleep apnea_Prescriptions',\n",
       " 'sleep apnea_Prevalence',\n",
       " 'interstitial cystitis_Prescriptions',\n",
       " 'interstitial cystitis_Prevalence',\n",
       " 'bipolar_Prescriptions',\n",
       " 'bipolar_Prevalence',\n",
       " 'hypothyroidism_Prescriptions',\n",
       " 'hypothyroidism_Prevalence',\n",
       " 'dementia_Prescriptions',\n",
       " 'dementia_Prevalence',\n",
       " 'rheumatoid_Prescriptions',\n",
       " 'rheumatoid_Prevalence',\n",
       " 'depression_Prescriptions',\n",
       " 'depression_Prevalence',\n",
       " 'diabetes_Prescriptions',\n",
       " 'diabetes_Prevalence',\n",
       " 'Area',\n",
       " 'area_id',\n",
       " 'weight',\n",
       " 'weight_perc2.5',\n",
       " 'weight_perc25',\n",
       " 'weight_perc50',\n",
       " 'weight_perc75',\n",
       " 'weight_perc97.5',\n",
       " 'weight_std',\n",
       " 'weight_ci95',\n",
       " 'volume',\n",
       " 'volume_perc2.5',\n",
       " 'volume_perc25',\n",
       " 'volume_perc50',\n",
       " 'volume_perc75',\n",
       " 'volume_perc97.5',\n",
       " 'volume_std',\n",
       " 'volume_ci95',\n",
       " 'fat',\n",
       " 'fat_perc2.5',\n",
       " 'fat_perc25',\n",
       " 'fat_perc50',\n",
       " 'fat_perc75',\n",
       " 'fat_perc97.5',\n",
       " 'fat_std',\n",
       " 'fat_ci95',\n",
       " 'saturate',\n",
       " 'saturate_perc2.5',\n",
       " 'saturate_perc25',\n",
       " 'saturate_perc50',\n",
       " 'saturate_perc75',\n",
       " 'saturate_perc97.5',\n",
       " 'saturate_std',\n",
       " 'saturate_ci95',\n",
       " 'salt',\n",
       " 'salt_perc2.5',\n",
       " 'salt_perc25',\n",
       " 'salt_perc50',\n",
       " 'salt_perc75',\n",
       " 'salt_perc97.5',\n",
       " 'salt_std',\n",
       " 'salt_ci95',\n",
       " 'sugar',\n",
       " 'sugar_perc2.5',\n",
       " 'sugar_perc25',\n",
       " 'sugar_perc50',\n",
       " 'sugar_perc75',\n",
       " 'sugar_perc97.5',\n",
       " 'sugar_std',\n",
       " 'sugar_ci95',\n",
       " 'protein',\n",
       " 'protein_perc2.5',\n",
       " 'protein_perc25',\n",
       " 'protein_perc50',\n",
       " 'protein_perc75',\n",
       " 'protein_perc97.5',\n",
       " 'protein_std',\n",
       " 'protein_ci95',\n",
       " 'carb',\n",
       " 'carb_perc2.5',\n",
       " 'carb_perc25',\n",
       " 'carb_perc50',\n",
       " 'carb_perc75',\n",
       " 'carb_perc97.5',\n",
       " 'carb_std',\n",
       " 'carb_ci95',\n",
       " 'fibre',\n",
       " 'fibre_perc2.5',\n",
       " 'fibre_perc25',\n",
       " 'fibre_perc50',\n",
       " 'fibre_perc75',\n",
       " 'fibre_perc97.5',\n",
       " 'fibre_std',\n",
       " 'fibre_ci95',\n",
       " 'alcohol',\n",
       " 'alcohol_perc2.5',\n",
       " 'alcohol_perc25',\n",
       " 'alcohol_perc50',\n",
       " 'alcohol_perc75',\n",
       " 'alcohol_perc97.5',\n",
       " 'alcohol_std',\n",
       " 'alcohol_ci95',\n",
       " 'energy_fat',\n",
       " 'energy_fat_perc2.5',\n",
       " 'energy_fat_perc25',\n",
       " 'energy_fat_perc50',\n",
       " 'energy_fat_perc75',\n",
       " 'energy_fat_perc97.5',\n",
       " 'energy_fat_std',\n",
       " 'energy_fat_ci95',\n",
       " 'energy_saturate',\n",
       " 'energy_saturate_perc2.5',\n",
       " 'energy_saturate_perc25',\n",
       " 'energy_saturate_perc50',\n",
       " 'energy_saturate_perc75',\n",
       " 'energy_saturate_perc97.5',\n",
       " 'energy_saturate_std',\n",
       " 'energy_saturate_ci95',\n",
       " 'energy_sugar',\n",
       " 'energy_sugar_perc2.5',\n",
       " 'energy_sugar_perc25',\n",
       " 'energy_sugar_perc50',\n",
       " 'energy_sugar_perc75',\n",
       " 'energy_sugar_perc97.5',\n",
       " 'energy_sugar_std',\n",
       " 'energy_sugar_ci95',\n",
       " 'energy_protein',\n",
       " 'energy_protein_perc2.5',\n",
       " 'energy_protein_perc25',\n",
       " 'energy_protein_perc50',\n",
       " 'energy_protein_perc75',\n",
       " 'energy_protein_perc97.5',\n",
       " 'energy_protein_std',\n",
       " 'energy_protein_ci95',\n",
       " 'energy_carb',\n",
       " 'energy_carb_perc2.5',\n",
       " 'energy_carb_perc25',\n",
       " 'energy_carb_perc50',\n",
       " 'energy_carb_perc75',\n",
       " 'energy_carb_perc97.5',\n",
       " 'energy_carb_std',\n",
       " 'energy_carb_ci95',\n",
       " 'energy_fibre',\n",
       " 'energy_fibre_perc2.5',\n",
       " 'energy_fibre_perc25',\n",
       " 'energy_fibre_perc50',\n",
       " 'energy_fibre_perc75',\n",
       " 'energy_fibre_perc97.5',\n",
       " 'energy_fibre_std',\n",
       " 'energy_fibre_ci95',\n",
       " 'energy_alcohol',\n",
       " 'energy_alcohol_perc2.5',\n",
       " 'energy_alcohol_perc25',\n",
       " 'energy_alcohol_perc50',\n",
       " 'energy_alcohol_perc75',\n",
       " 'energy_alcohol_perc97.5',\n",
       " 'energy_alcohol_std',\n",
       " 'energy_alcohol_ci95',\n",
       " 'energy_tot',\n",
       " 'energy_tot_perc2.5',\n",
       " 'energy_tot_perc25',\n",
       " 'energy_tot_perc50',\n",
       " 'energy_tot_perc75',\n",
       " 'energy_tot_perc97.5',\n",
       " 'energy_tot_std',\n",
       " 'energy_tot_ci95',\n",
       " 'f_energy_fat',\n",
       " 'f_energy_saturate',\n",
       " 'f_energy_sugar',\n",
       " 'f_energy_protein',\n",
       " 'f_energy_carb',\n",
       " 'f_energy_fibre',\n",
       " 'f_energy_alcohol',\n",
       " 'energy_density',\n",
       " 'h_nutrients_weight',\n",
       " 'h_nutrients_weight_norm',\n",
       " 'h_nutrients_calories',\n",
       " 'h_nutrients_calories_norm',\n",
       " 'f_beer',\n",
       " 'f_dairy',\n",
       " 'f_eggs',\n",
       " 'f_fats_oils',\n",
       " 'f_fish',\n",
       " 'f_fruit_veg',\n",
       " 'f_grains',\n",
       " 'f_meat_red',\n",
       " 'f_poultry',\n",
       " 'f_readymade',\n",
       " 'f_sauces',\n",
       " 'f_soft_drinks',\n",
       " 'f_spirits',\n",
       " 'f_sweets',\n",
       " 'f_tea_coffee',\n",
       " 'f_water',\n",
       " 'f_wine',\n",
       " 'f_dairy_weight',\n",
       " 'f_eggs_weight',\n",
       " 'f_fats_oils_weight',\n",
       " 'f_fish_weight',\n",
       " 'f_fruit_veg_weight',\n",
       " 'f_grains_weight',\n",
       " 'f_meat_red_weight',\n",
       " 'f_poultry_weight',\n",
       " 'f_readymade_weight',\n",
       " 'f_sauces_weight',\n",
       " 'f_sweets_weight',\n",
       " 'h_items',\n",
       " 'h_items_norm',\n",
       " 'h_items_weight',\n",
       " 'h_items_weight_norm',\n",
       " 'representativeness_norm',\n",
       " 'transaction_days',\n",
       " 'num_transactions',\n",
       " 'man_day',\n",
       " 'population',\n",
       " 'male',\n",
       " 'female',\n",
       " 'age_0_17',\n",
       " 'age_18_64',\n",
       " 'age_65+',\n",
       " 'avg_age',\n",
       " 'area_sq_km',\n",
       " 'people_per_sq_km',\n",
       " 'All_Deaths',\n",
       " 'Resp_deaths',\n",
       " 'WD16CD',\n",
       " 'borough_name_y',\n",
       " 'Borough',\n",
       " 'Ward_Name',\n",
       " 'Year',\n",
       " 'Population',\n",
       " 'Hectares',\n",
       " 'Square_Kilometres',\n",
       " 'Population_per_hectare',\n",
       " 'Population_per_square_kilometre',\n",
       " 'Unnamed: 0_y',\n",
       " 'third_places',\n",
       " 'IMD',\n",
       " 'Persons per household',\n",
       " 'All_jsa',\n",
       " 'Median 2012/13',\n",
       " 'Sex_ratio',\n",
       " 'f_alcohol']"
      ]
     },
     "execution_count": 41,
     "metadata": {},
     "output_type": "execute_result"
    }
   ],
   "source": [
    "list(data.columns)"
   ]
  },
  {
   "cell_type": "code",
   "execution_count": 42,
   "metadata": {
    "ExecuteTime": {
     "end_time": "2021-02-09T14:56:44.114306Z",
     "start_time": "2021-02-09T14:55:54.670700Z"
    }
   },
   "outputs": [],
   "source": [
    "df = pd.read_csv('scratchpad/Jan_clubcard2nutrients.csv.bz2', compression='bz2', header=0, sep=',', quotechar='\"')"
   ]
  },
  {
   "cell_type": "code",
   "execution_count": 11,
   "metadata": {
    "ExecuteTime": {
     "end_time": "2021-01-22T16:13:22.654569Z",
     "start_time": "2021-01-22T16:13:22.634063Z"
    }
   },
   "outputs": [],
   "source": [
    "thresh_bottom_weight = np.mean(df['quantity']) - 1*np.std(df['quantity'])\n",
    "thresh_top_weight = np.mean(df['quantity']) + 1*np.std(df['quantity'])"
   ]
  },
  {
   "cell_type": "code",
   "execution_count": 12,
   "metadata": {
    "ExecuteTime": {
     "end_time": "2021-01-22T16:13:22.963673Z",
     "start_time": "2021-01-22T16:13:22.656591Z"
    }
   },
   "outputs": [],
   "source": [
    "# test = df[ (df['weight'] < 600) & (df['quantity'] < 100) & (df['weight'] > 100) ]\n",
    "test = df[ (df['quantity'] < thresh_top_weight) & (df['quantity'] > thresh_bottom_weight) ]"
   ]
  },
  {
   "cell_type": "code",
   "execution_count": 13,
   "metadata": {
    "ExecuteTime": {
     "end_time": "2021-01-22T16:13:23.308437Z",
     "start_time": "2021-01-22T16:13:22.965628Z"
    }
   },
   "outputs": [
    {
     "data": {
      "text/plain": [
       "<matplotlib.axes._subplots.AxesSubplot at 0x7f4599b9a470>"
      ]
     },
     "execution_count": 13,
     "metadata": {},
     "output_type": "execute_result"
    },
    {
     "data": {
      "image/png": "[encoded data removed]",
      "text/plain": [
       "<Figure size 432x288 with 1 Axes>"
      ]
     },
     "metadata": {
      "needs_background": "light"
     },
     "output_type": "display_data"
    }
   ],
   "source": [
    "sns.distplot(test['quantity'])"
   ]
  },
  {
   "cell_type": "code",
   "execution_count": 14,
   "metadata": {
    "ExecuteTime": {
     "end_time": "2021-01-22T16:13:23.738148Z",
     "start_time": "2021-01-22T16:13:23.310077Z"
    }
   },
   "outputs": [
    {
     "data": {
      "text/plain": [
       "<matplotlib.axes._subplots.AxesSubplot at 0x7f459b9ba160>"
      ]
     },
     "execution_count": 14,
     "metadata": {},
     "output_type": "execute_result"
    },
    {
     "data": {
      "image/png": "[encoded data removed]",
      "text/plain": [
       "<Figure size 432x288 with 1 Axes>"
      ]
     },
     "metadata": {
      "needs_background": "light"
     },
     "output_type": "display_data"
    }
   ],
   "source": [
    "sns.distplot(test['weight'])"
   ]
  },
  {
   "cell_type": "code",
   "execution_count": 15,
   "metadata": {
    "ExecuteTime": {
     "end_time": "2021-01-22T16:13:23.942260Z",
     "start_time": "2021-01-22T16:13:23.739689Z"
    }
   },
   "outputs": [
    {
     "data": {
      "text/plain": [
       "<matplotlib.axes._subplots.AxesSubplot at 0x7f459ba9d080>"
      ]
     },
     "execution_count": 15,
     "metadata": {},
     "output_type": "execute_result"
    },
    {
     "data": {
      "image/png": "[encoded data removed]",
      "text/plain": [
       "<Figure size 432x288 with 1 Axes>"
      ]
     },
     "metadata": {
      "needs_background": "light"
     },
     "output_type": "display_data"
    }
   ],
   "source": [
    "sns.distplot(data['weight'])"
   ]
  },
  {
   "cell_type": "code",
   "execution_count": 16,
   "metadata": {
    "ExecuteTime": {
     "end_time": "2021-01-22T16:13:23.946271Z",
     "start_time": "2021-01-22T16:13:23.943919Z"
    }
   },
   "outputs": [],
   "source": [
    "# Tesco = test[['clubcard_number','h_nutrients_calories_norm', 'weight' , 'volume','osward','f_energy_alcohol' , 'h_items_norm' , 'h_items_weight_norm']].copy()\n",
    "# Tesco = Tesco.dropna()\n",
    "# features_to_normalize = ['h_nutrients_calories_norm', 'weight','f_energy_alcohol','h_items_norm','h_items_weight_norm']\n",
    "# Tesco[features_to_normalize] = Tesco[features_to_normalize].apply(lambda x:(x-x.min()) / (x.max()-x.min()))"
   ]
  },
  {
   "cell_type": "code",
   "execution_count": 17,
   "metadata": {
    "ExecuteTime": {
     "end_time": "2021-01-22T16:13:24.025567Z",
     "start_time": "2021-01-22T16:13:23.948794Z"
    }
   },
   "outputs": [
    {
     "data": {
      "text/plain": [
       "['pcd',\n",
       " 'lat',\n",
       " 'long',\n",
       " 'oa11',\n",
       " 'lsoa11',\n",
       " 'msoa11',\n",
       " 'osward',\n",
       " 'oslaua',\n",
       " 'clubcard_number',\n",
       " 'weight',\n",
       " 'volume',\n",
       " 'energy_on_label',\n",
       " 'g_fat',\n",
       " 'g_saturate',\n",
       " 'g_salt',\n",
       " 'g_sugar',\n",
       " 'g_protein',\n",
       " 'g_carb',\n",
       " 'g_fibre',\n",
       " 'g_alcohol',\n",
       " 'energy_fat',\n",
       " 'energy_saturate',\n",
       " 'energy_sugar',\n",
       " 'energy_protein',\n",
       " 'energy_carb',\n",
       " 'energy_fibre',\n",
       " 'energy_alcohol',\n",
       " 'energy_tot',\n",
       " 'f_energy_fat',\n",
       " 'f_energy_saturate',\n",
       " 'f_energy_sugar',\n",
       " 'f_energy_protein',\n",
       " 'f_energy_carb',\n",
       " 'f_energy_fibre',\n",
       " 'f_energy_alcohol',\n",
       " 'hdi_fat',\n",
       " 'hdi_saturate',\n",
       " 'hdi_carb',\n",
       " 'hdi_protein',\n",
       " 'hdi_sugar',\n",
       " 'energy_density',\n",
       " 'h_nutrients_weight',\n",
       " 'h_nutrients_weight_norm',\n",
       " 'h_nutrients_calories',\n",
       " 'h_nutrients_calories_norm',\n",
       " 'beer_items',\n",
       " 'dairy_items',\n",
       " 'eggs_items',\n",
       " 'fats_oils_items',\n",
       " 'fish_items',\n",
       " 'fruit_veg_items',\n",
       " 'grains_items',\n",
       " 'meat_red_items',\n",
       " 'poultry_items',\n",
       " 'readymade_items',\n",
       " 'sauces_items',\n",
       " 'soft_drinks_items',\n",
       " 'spirits_items',\n",
       " 'sweets_items',\n",
       " 'tea_coffee_items',\n",
       " 'water_items',\n",
       " 'wine_items',\n",
       " 'dairy_weight',\n",
       " 'eggs_weight',\n",
       " 'fats_oils_weight',\n",
       " 'fish_weight',\n",
       " 'fruit_veg_weight',\n",
       " 'grains_weight',\n",
       " 'meat_red_weight',\n",
       " 'poultry_weight',\n",
       " 'readymade_weight',\n",
       " 'sauces_weight',\n",
       " 'sweets_weight',\n",
       " 'quantity',\n",
       " 'h_items',\n",
       " 'h_items_norm',\n",
       " 'h_items_weight',\n",
       " 'h_items_weight_norm']"
      ]
     },
     "execution_count": 17,
     "metadata": {},
     "output_type": "execute_result"
    }
   ],
   "source": [
    "list(df.columns)"
   ]
  },
  {
   "cell_type": "code",
   "execution_count": 18,
   "metadata": {
    "ExecuteTime": {
     "end_time": "2021-01-22T16:27:25.869674Z",
     "start_time": "2021-01-22T16:13:24.029045Z"
    }
   },
   "outputs": [],
   "source": [
    "household_individual = {'CardID':[] , 'WardCode': []  , 'h_nutrients_calories_norm' :[] , 'weight' : [] , 'volume':[]}\n",
    "for name, group in df.groupby('clubcard_number'):\n",
    "    household_individual['CardID'].append(name)\n",
    "    household_individual['WardCode'].append(group.iloc[0]['osward'])\n",
    "    household_individual['h_nutrients_calories_norm'].append(np.sum(group['h_nutrients_calories_norm']))\n",
    "    household_individual['weight'].append(np.sum(group['weight']))\n",
    "    household_individual['volume'].append(np.sum(group['volume']))\n"
   ]
  },
  {
   "cell_type": "code",
   "execution_count": 19,
   "metadata": {
    "ExecuteTime": {
     "end_time": "2021-01-22T16:27:26.403973Z",
     "start_time": "2021-01-22T16:27:25.871133Z"
    }
   },
   "outputs": [],
   "source": [
    "Tesco = pd.DataFrame.from_dict(household_individual)"
   ]
  },
  {
   "cell_type": "code",
   "execution_count": 20,
   "metadata": {
    "ExecuteTime": {
     "end_time": "2021-01-22T16:27:26.408397Z",
     "start_time": "2021-01-22T16:27:26.405869Z"
    }
   },
   "outputs": [],
   "source": [
    "# Tesco.to_csv('scratchpad/tesco_grouped_individual.csv')"
   ]
  },
  {
   "cell_type": "code",
   "execution_count": 21,
   "metadata": {
    "ExecuteTime": {
     "end_time": "2021-01-22T16:27:26.570187Z",
     "start_time": "2021-01-22T16:27:26.409891Z"
    }
   },
   "outputs": [],
   "source": [
    "features_to_normalize = ['h_nutrients_calories_norm', 'weight','volume']\n",
    "Tesco[features_to_normalize] = Tesco[features_to_normalize].apply(lambda x:(x-x.min()) / (x.max()-x.min()))"
   ]
  },
  {
   "cell_type": "code",
   "execution_count": 22,
   "metadata": {
    "ExecuteTime": {
     "end_time": "2021-01-22T16:27:26.594710Z",
     "start_time": "2021-01-22T16:27:26.572329Z"
    }
   },
   "outputs": [],
   "source": [
    "Tesco['Household'] =  0.7321  + 0.2529*Tesco['weight'] - 0.7391*Tesco['h_nutrients_calories_norm']\n",
    "# Tesco['Household'] =  3.2294 + 0.5422*Tesco['weight'] -1.3654*Tesco['h_nutrients_calories_norm']\n",
    "# Tesco['Household'] =  3.2294 + 0.5422*Tesco['weight'] -1.3654*Tesco['h_nutrients_calories_norm']\n",
    "# Tesco['Household'] =  0.7344 - 0.4772*Tesco['f_energy_alcohol'] + 0.4570*Tesco['h_items_norm'] -0.6621*Tesco['h_items_weight_norm']"
   ]
  },
  {
   "cell_type": "code",
   "execution_count": 23,
   "metadata": {
    "ExecuteTime": {
     "end_time": "2021-01-22T16:27:26.815253Z",
     "start_time": "2021-01-22T16:27:26.596630Z"
    }
   },
   "outputs": [],
   "source": [
    "thresh_bottom_household = np.mean(Tesco['Household']) - 1*np.std(Tesco['Household'])\n",
    "thresh_top_household = np.mean(Tesco['Household']) + 1*np.std(Tesco['Household'])\n",
    "\n",
    "Tesco_filtered = Tesco[ (Tesco['Household'] > thresh_bottom_household) &  (Tesco['Household'] < thresh_top_household) ].copy()"
   ]
  },
  {
   "cell_type": "code",
   "execution_count": 24,
   "metadata": {
    "ExecuteTime": {
     "end_time": "2021-01-22T16:27:27.344166Z",
     "start_time": "2021-01-22T16:27:26.817339Z"
    }
   },
   "outputs": [
    {
     "data": {
      "text/plain": [
       "<matplotlib.axes._subplots.AxesSubplot at 0x7f45748fcb38>"
      ]
     },
     "execution_count": 24,
     "metadata": {},
     "output_type": "execute_result"
    },
    {
     "data": {
      "image/png": "[encoded data removed]",
      "text/plain": [
       "<Figure size 432x288 with 1 Axes>"
      ]
     },
     "metadata": {
      "needs_background": "light"
     },
     "output_type": "display_data"
    }
   ],
   "source": [
    "sns.distplot(Tesco_filtered['Household'])"
   ]
  },
  {
   "cell_type": "code",
   "execution_count": 25,
   "metadata": {
    "ExecuteTime": {
     "end_time": "2021-01-22T16:27:27.358060Z",
     "start_time": "2021-01-22T16:27:27.345686Z"
    }
   },
   "outputs": [
    {
     "name": "stdout",
     "output_type": "stream",
     "text": [
      "0.2022852142183052\n"
     ]
    }
   ],
   "source": [
    "Thresh  = np.min(Tesco_filtered['Household'])+  0.1 * (np.max(Tesco_filtered['Household'])-np.min(Tesco_filtered['Household']))\n",
    "print(Thresh)"
   ]
  },
  {
   "cell_type": "code",
   "execution_count": 26,
   "metadata": {
    "ExecuteTime": {
     "end_time": "2021-01-22T16:27:27.792885Z",
     "start_time": "2021-01-22T16:27:27.359611Z"
    }
   },
   "outputs": [],
   "source": [
    "def solo(x):\n",
    "    if x<= Thresh:\n",
    "        return 1\n",
    "    else:\n",
    "        return 0 \n",
    "Tesco_filtered['solo'] = Tesco_filtered['Household'].apply(lambda x: solo(x))"
   ]
  },
  {
   "cell_type": "code",
   "execution_count": 27,
   "metadata": {
    "ExecuteTime": {
     "end_time": "2021-01-22T16:27:27.799416Z",
     "start_time": "2021-01-22T16:27:27.794821Z"
    }
   },
   "outputs": [
    {
     "data": {
      "text/plain": [
       "41673"
      ]
     },
     "execution_count": 27,
     "metadata": {},
     "output_type": "execute_result"
    }
   ],
   "source": [
    "np.sum(Tesco_filtered['solo'])"
   ]
  },
  {
   "cell_type": "code",
   "execution_count": 28,
   "metadata": {
    "ExecuteTime": {
     "end_time": "2021-01-22T16:27:28.358206Z",
     "start_time": "2021-01-22T16:27:27.800764Z"
    }
   },
   "outputs": [],
   "source": [
    "Ward_level_estimate = {'WardCode':[] , 'Household':[]}\n",
    "for name , group in Tesco_filtered.groupby('WardCode'):\n",
    "    Ward_level_estimate['WardCode'].append(name)\n",
    "#     soloHouses = np.sum(group['solo'])\n",
    "#     fraction = float(soloHouses)/ len(group)\n",
    "    fraction = np.mean(group['Household'])\n",
    "    Ward_level_estimate['Household'].append(fraction)\n",
    "Ward_estimates = pd.DataFrame.from_dict(Ward_level_estimate)"
   ]
  },
  {
   "cell_type": "code",
   "execution_count": 29,
   "metadata": {
    "ExecuteTime": {
     "end_time": "2021-01-22T16:27:28.363620Z",
     "start_time": "2021-01-22T16:27:28.359933Z"
    }
   },
   "outputs": [
    {
     "data": {
      "text/plain": [
       "658"
      ]
     },
     "execution_count": 29,
     "metadata": {},
     "output_type": "execute_result"
    }
   ],
   "source": [
    "len(Ward_estimates)"
   ]
  },
  {
   "cell_type": "code",
   "execution_count": 30,
   "metadata": {
    "ExecuteTime": {
     "end_time": "2021-01-22T16:27:28.592628Z",
     "start_time": "2021-01-22T16:27:28.365147Z"
    }
   },
   "outputs": [
    {
     "data": {
      "text/plain": [
       "<matplotlib.axes._subplots.AxesSubplot at 0x7f45710606a0>"
      ]
     },
     "execution_count": 30,
     "metadata": {},
     "output_type": "execute_result"
    },
    {
     "data": {
      "image/png": "[encoded data removed]",
      "text/plain": [
       "<Figure size 432x288 with 1 Axes>"
      ]
     },
     "metadata": {
      "needs_background": "light"
     },
     "output_type": "display_data"
    }
   ],
   "source": [
    "sns.distplot(Ward_level_estimate['Household'])"
   ]
  },
  {
   "cell_type": "code",
   "execution_count": 31,
   "metadata": {
    "ExecuteTime": {
     "end_time": "2021-01-22T16:27:28.596642Z",
     "start_time": "2021-01-22T16:27:28.594255Z"
    }
   },
   "outputs": [],
   "source": [
    "# %store Ward_estimates"
   ]
  },
  {
   "cell_type": "code",
   "execution_count": 32,
   "metadata": {
    "ExecuteTime": {
     "end_time": "2021-01-22T16:27:28.692414Z",
     "start_time": "2021-01-22T16:27:28.599365Z"
    }
   },
   "outputs": [],
   "source": [
    "solo_gt = solo_living[['Ward code','Persons per household']]"
   ]
  },
  {
   "cell_type": "code",
   "execution_count": 33,
   "metadata": {
    "ExecuteTime": {
     "end_time": "2021-01-22T16:27:28.765369Z",
     "start_time": "2021-01-22T16:27:28.694929Z"
    }
   },
   "outputs": [
    {
     "data": {
      "text/plain": [
       "8570"
      ]
     },
     "execution_count": 33,
     "metadata": {},
     "output_type": "execute_result"
    }
   ],
   "source": [
    "len(solo_gt)"
   ]
  },
  {
   "cell_type": "code",
   "execution_count": 34,
   "metadata": {
    "ExecuteTime": {
     "end_time": "2021-01-22T16:27:28.856274Z",
     "start_time": "2021-01-22T16:27:28.767749Z"
    }
   },
   "outputs": [],
   "source": [
    "merged = pd.merge(solo_gt , Ward_estimates, left_on='Ward code', right_on='WardCode')"
   ]
  },
  {
   "cell_type": "code",
   "execution_count": 35,
   "metadata": {
    "ExecuteTime": {
     "end_time": "2021-01-22T16:27:28.951291Z",
     "start_time": "2021-01-22T16:27:28.858893Z"
    }
   },
   "outputs": [
    {
     "data": {
      "text/html": [
       "<div>\n",
       "<style scoped>\n",
       "    .dataframe tbody tr th:only-of-type {\n",
       "        vertical-align: middle;\n",
       "    }\n",
       "\n",
       "    .dataframe tbody tr th {\n",
       "        vertical-align: top;\n",
       "    }\n",
       "\n",
       "    .dataframe thead th {\n",
       "        text-align: right;\n",
       "    }\n",
       "</style>\n",
       "<table border=\"1\" class=\"dataframe\">\n",
       "  <thead>\n",
       "    <tr style=\"text-align: right;\">\n",
       "      <th></th>\n",
       "      <th>Ward code</th>\n",
       "      <th>Persons per household</th>\n",
       "      <th>WardCode</th>\n",
       "      <th>Household</th>\n",
       "    </tr>\n",
       "  </thead>\n",
       "  <tbody>\n",
       "    <tr>\n",
       "      <th>0</th>\n",
       "      <td>E05000128</td>\n",
       "      <td>2.1</td>\n",
       "      <td>E05000128</td>\n",
       "      <td>0.258663</td>\n",
       "    </tr>\n",
       "    <tr>\n",
       "      <th>1</th>\n",
       "      <td>E05000129</td>\n",
       "      <td>1.8</td>\n",
       "      <td>E05000129</td>\n",
       "      <td>0.270948</td>\n",
       "    </tr>\n",
       "    <tr>\n",
       "      <th>2</th>\n",
       "      <td>E05000130</td>\n",
       "      <td>2.1</td>\n",
       "      <td>E05000130</td>\n",
       "      <td>0.271919</td>\n",
       "    </tr>\n",
       "    <tr>\n",
       "      <th>3</th>\n",
       "      <td>E05000131</td>\n",
       "      <td>2.2</td>\n",
       "      <td>E05000131</td>\n",
       "      <td>0.264548</td>\n",
       "    </tr>\n",
       "    <tr>\n",
       "      <th>4</th>\n",
       "      <td>E05000132</td>\n",
       "      <td>2.2</td>\n",
       "      <td>E05000132</td>\n",
       "      <td>0.261717</td>\n",
       "    </tr>\n",
       "    <tr>\n",
       "      <th>...</th>\n",
       "      <td>...</td>\n",
       "      <td>...</td>\n",
       "      <td>...</td>\n",
       "      <td>...</td>\n",
       "    </tr>\n",
       "    <tr>\n",
       "      <th>479</th>\n",
       "      <td>E05000606</td>\n",
       "      <td>2.8</td>\n",
       "      <td>E05000606</td>\n",
       "      <td>0.271367</td>\n",
       "    </tr>\n",
       "    <tr>\n",
       "      <th>480</th>\n",
       "      <td>E05000607</td>\n",
       "      <td>2.6</td>\n",
       "      <td>E05000607</td>\n",
       "      <td>0.267865</td>\n",
       "    </tr>\n",
       "    <tr>\n",
       "      <th>481</th>\n",
       "      <td>E05000608</td>\n",
       "      <td>2.7</td>\n",
       "      <td>E05000608</td>\n",
       "      <td>0.265377</td>\n",
       "    </tr>\n",
       "    <tr>\n",
       "      <th>482</th>\n",
       "      <td>E05000609</td>\n",
       "      <td>2.5</td>\n",
       "      <td>E05000609</td>\n",
       "      <td>0.264778</td>\n",
       "    </tr>\n",
       "    <tr>\n",
       "      <th>483</th>\n",
       "      <td>E05007407</td>\n",
       "      <td>2.2</td>\n",
       "      <td>E05007407</td>\n",
       "      <td>0.302306</td>\n",
       "    </tr>\n",
       "  </tbody>\n",
       "</table>\n",
       "<p>484 rows × 4 columns</p>\n",
       "</div>"
      ],
      "text/plain": [
       "     Ward code  Persons per household   WardCode  Household\n",
       "0    E05000128                    2.1  E05000128   0.258663\n",
       "1    E05000129                    1.8  E05000129   0.270948\n",
       "2    E05000130                    2.1  E05000130   0.271919\n",
       "3    E05000131                    2.2  E05000131   0.264548\n",
       "4    E05000132                    2.2  E05000132   0.261717\n",
       "..         ...                    ...        ...        ...\n",
       "479  E05000606                    2.8  E05000606   0.271367\n",
       "480  E05000607                    2.6  E05000607   0.267865\n",
       "481  E05000608                    2.7  E05000608   0.265377\n",
       "482  E05000609                    2.5  E05000609   0.264778\n",
       "483  E05007407                    2.2  E05007407   0.302306\n",
       "\n",
       "[484 rows x 4 columns]"
      ]
     },
     "execution_count": 35,
     "metadata": {},
     "output_type": "execute_result"
    }
   ],
   "source": [
    "merged"
   ]
  },
  {
   "cell_type": "code",
   "execution_count": 36,
   "metadata": {
    "ExecuteTime": {
     "end_time": "2021-01-22T16:27:29.030439Z",
     "start_time": "2021-01-22T16:27:28.953790Z"
    }
   },
   "outputs": [],
   "source": [
    "# features_to_normalize = ['Persons per household']\n",
    "# merged[features_to_normalize] = merged[features_to_normalize].apply(lambda x:(x-x.min()) / (x.max()-x.min()))"
   ]
  },
  {
   "cell_type": "code",
   "execution_count": 37,
   "metadata": {
    "ExecuteTime": {
     "end_time": "2021-01-22T16:27:29.116691Z",
     "start_time": "2021-01-22T16:27:29.032931Z"
    }
   },
   "outputs": [
    {
     "data": {
      "text/plain": [
       "(0.39958483002468614, 5.580126517895088e-20)"
      ]
     },
     "execution_count": 37,
     "metadata": {},
     "output_type": "execute_result"
    }
   ],
   "source": [
    "pearsonr(merged['Household'],merged['Persons per household'])"
   ]
  },
  {
   "cell_type": "code",
   "execution_count": 38,
   "metadata": {
    "ExecuteTime": {
     "end_time": "2021-01-22T16:27:29.197360Z",
     "start_time": "2021-01-22T16:27:29.119261Z"
    }
   },
   "outputs": [],
   "source": [
    "def corr(val1 , val2):\n",
    "    corr = pearsonr(val1,val2)\n",
    "    "
   ]
  },
  {
   "cell_type": "code",
   "execution_count": 39,
   "metadata": {
    "ExecuteTime": {
     "end_time": "2021-01-22T16:27:30.403558Z",
     "start_time": "2021-01-22T16:27:29.200004Z"
    }
   },
   "outputs": [
    {
     "name": "stderr",
     "output_type": "stream",
     "text": [
      "/work/sagarj/miniconda3/lib/python3.7/site-packages/seaborn/axisgrid.py:1847: UserWarning: JointGrid annotation is deprecated and will be removed in a future release.\n",
      "  warnings.warn(UserWarning(msg))\n"
     ]
    },
    {
     "data": {
      "text/plain": [
       "<seaborn.axisgrid.JointGrid at 0x7f4570fd8f28>"
      ]
     },
     "execution_count": 39,
     "metadata": {},
     "output_type": "execute_result"
    },
    {
     "data": {
      "image/png": "[encoded data removed]",
      "text/plain": [
       "<Figure size 720x720 with 3 Axes>"
      ]
     },
     "metadata": {},
     "output_type": "display_data"
    }
   ],
   "source": [
    "sns.set(font_scale=2) \n",
    "ax = sns.jointplot(x=merged['Household'], y=merged['Persons per household'], kind='regression',height=10);\n",
    "plt.xlabel('Predicted household size: aggregated from individual data')\n",
    "plt.ylabel('Census household size')\n",
    "ax.annotate(pearsonr)"
   ]
  },
  {
   "cell_type": "code",
   "execution_count": null,
   "metadata": {},
   "outputs": [],
   "source": []
  },
  {
   "cell_type": "code",
   "execution_count": null,
   "metadata": {},
   "outputs": [],
   "source": []
  }
 ],
 "metadata": {
  "kernelspec": {
   "display_name": "Python [conda env:root] *",
   "language": "python",
   "name": "conda-root-py"
  },
  "language_info": {
   "codemirror_mode": {
    "name": "ipython",
    "version": 3
   },
   "file_extension": ".py",
   "mimetype": "text/x-python",
   "name": "python",
   "nbconvert_exporter": "python",
   "pygments_lexer": "ipython3",
   "version": "3.7.0"
  }
 },
 "nbformat": 4,
 "nbformat_minor": 2
}
