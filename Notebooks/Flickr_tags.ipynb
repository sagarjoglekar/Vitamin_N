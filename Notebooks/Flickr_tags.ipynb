{
 "cells": [
  {
   "cell_type": "code",
   "execution_count": 1,
   "metadata": {
    "ExecuteTime": {
     "end_time": "2020-02-05T16:07:11.210836Z",
     "start_time": "2020-02-05T16:07:10.855603Z"
    }
   },
   "outputs": [],
   "source": [
    "import json \n",
    "import pandas as pd\n",
    "import bz2"
   ]
  },
  {
   "cell_type": "code",
   "execution_count": 2,
   "metadata": {
    "ExecuteTime": {
     "end_time": "2020-02-05T16:07:11.329752Z",
     "start_time": "2020-02-05T16:07:11.212676Z"
    }
   },
   "outputs": [
    {
     "name": "stdout",
     "output_type": "stream",
     "text": [
      "\u001b[0m\u001b[01;31mlondon_photos_lsoa.tsv.bz2\u001b[0m\r\n"
     ]
    }
   ],
   "source": [
    "%ls /datasets_1/sagarj/Flickr/"
   ]
  },
  {
   "cell_type": "code",
   "execution_count": null,
   "metadata": {
    "ExecuteTime": {
     "end_time": "2020-02-05T16:06:50.957836Z",
     "start_time": "2020-02-05T16:04:35.943619Z"
    }
   },
   "outputs": [],
   "source": [
    "# with bz2.open(\"/datasets_1/sagarj/Flickr/london_photos_lsoa.tsv.bz2\", \"rb\") as f:\n",
    "\n",
    "#     # Decompress data from file\n",
    "\n",
    "#     content = f.read()"
   ]
  },
  {
   "cell_type": "code",
   "execution_count": 11,
   "metadata": {
    "ExecuteTime": {
     "end_time": "2020-02-05T16:31:07.838206Z",
     "start_time": "2020-02-05T16:27:08.917299Z"
    }
   },
   "outputs": [],
   "source": [
    "df = pd.read_csv('/datasets_1/sagarj/Flickr/london_photos_lsoa.tsv.bz2', compression='bz2', sep='\\t', names=[\"photoId\", \"userId\", \"nsid, server\", \"secret\", \"secretOriginal\", \"dateImported\", \"dateCreated\", \"dateTaken\", \"lat\", \"lon\", \"tags\", \"LSOA_ID\"\n",
    "])"
   ]
  },
  {
   "cell_type": "code",
   "execution_count": 12,
   "metadata": {
    "ExecuteTime": {
     "end_time": "2020-02-05T16:31:07.853452Z",
     "start_time": "2020-02-05T16:31:07.840175Z"
    }
   },
   "outputs": [
    {
     "data": {
      "text/html": [
       "<div>\n",
       "<style scoped>\n",
       "    .dataframe tbody tr th:only-of-type {\n",
       "        vertical-align: middle;\n",
       "    }\n",
       "\n",
       "    .dataframe tbody tr th {\n",
       "        vertical-align: top;\n",
       "    }\n",
       "\n",
       "    .dataframe thead th {\n",
       "        text-align: right;\n",
       "    }\n",
       "</style>\n",
       "<table border=\"1\" class=\"dataframe\">\n",
       "  <thead>\n",
       "    <tr style=\"text-align: right;\">\n",
       "      <th></th>\n",
       "      <th>photoId</th>\n",
       "      <th>userId</th>\n",
       "      <th>nsid, server</th>\n",
       "      <th>secret</th>\n",
       "      <th>secretOriginal</th>\n",
       "      <th>dateImported</th>\n",
       "      <th>dateCreated</th>\n",
       "      <th>dateTaken</th>\n",
       "      <th>lat</th>\n",
       "      <th>lon</th>\n",
       "      <th>tags</th>\n",
       "      <th>LSOA_ID</th>\n",
       "    </tr>\n",
       "  </thead>\n",
       "  <tbody>\n",
       "    <tr>\n",
       "      <th>11945377795</th>\n",
       "      <td>46709459</td>\n",
       "      <td>46730789@N07</td>\n",
       "      <td>3693</td>\n",
       "      <td>3c1cb64940</td>\n",
       "      <td>07a735111b</td>\n",
       "      <td>1389700697</td>\n",
       "      <td>1389700708</td>\n",
       "      <td>2013-12-26 14:36:19.0</td>\n",
       "      <td>51.506320</td>\n",
       "      <td>-0.127140</td>\n",
       "      <td>vision:riverbank=55,vision:nature=55,vision:sl...</td>\n",
       "      <td>E01004736</td>\n",
       "    </tr>\n",
       "    <tr>\n",
       "      <th>7683964932</th>\n",
       "      <td>1407330</td>\n",
       "      <td>11471080@N00</td>\n",
       "      <td>7270</td>\n",
       "      <td>bdcd50291f</td>\n",
       "      <td>8a400c2692</td>\n",
       "      <td>1343741136</td>\n",
       "      <td>1343741136</td>\n",
       "      <td>2012-02-03 13:33:56.0</td>\n",
       "      <td>51.467666</td>\n",
       "      <td>-0.084000</td>\n",
       "      <td>vision:notebook=56,vision:microprocessor=50,vi...</td>\n",
       "      <td>E01004050</td>\n",
       "    </tr>\n",
       "    <tr>\n",
       "      <th>4865392645</th>\n",
       "      <td>52734882</td>\n",
       "      <td>52740222@N05</td>\n",
       "      <td>4143</td>\n",
       "      <td>822689db17</td>\n",
       "      <td>47a2301153</td>\n",
       "      <td>1281098227</td>\n",
       "      <td>1281098227</td>\n",
       "      <td>2010-03-25 15:31:00.0</td>\n",
       "      <td>51.527529</td>\n",
       "      <td>-0.082536</td>\n",
       "      <td>circus space,trapeze,circus,vision:bungee=77,v...</td>\n",
       "      <td>E01033708</td>\n",
       "    </tr>\n",
       "    <tr>\n",
       "      <th>8824815624</th>\n",
       "      <td>3713296</td>\n",
       "      <td>56492397@N00</td>\n",
       "      <td>7443</td>\n",
       "      <td>80c32c1b0e</td>\n",
       "      <td>105b6b4415</td>\n",
       "      <td>1369483719</td>\n",
       "      <td>1369483719</td>\n",
       "      <td>2009-12-21 13:00:15.0</td>\n",
       "      <td>51.474166</td>\n",
       "      <td>-0.195334</td>\n",
       "      <td>flickriosapp:filter=nofilter,iphone3gs,uploade...</td>\n",
       "      <td>E01001924</td>\n",
       "    </tr>\n",
       "    <tr>\n",
       "      <th>4199896407</th>\n",
       "      <td>45715090</td>\n",
       "      <td>45738144@N03</td>\n",
       "      <td>2715</td>\n",
       "      <td>7c70121cf3</td>\n",
       "      <td>7dd3fb4866</td>\n",
       "      <td>1261327944</td>\n",
       "      <td>1261327944</td>\n",
       "      <td>2009-12-10 10:56:08.0</td>\n",
       "      <td>51.577069</td>\n",
       "      <td>-0.285644</td>\n",
       "      <td>vision:path=54,vision:architecture=56,vision:h...</td>\n",
       "      <td>E01000484</td>\n",
       "    </tr>\n",
       "    <tr>\n",
       "      <th>5234491407</th>\n",
       "      <td>33412015</td>\n",
       "      <td>33432363@N02</td>\n",
       "      <td>5164</td>\n",
       "      <td>21c93e858f</td>\n",
       "      <td>c7ddbce3b1</td>\n",
       "      <td>1291568825</td>\n",
       "      <td>1291568825</td>\n",
       "      <td>2010-11-23 20:49:48.0</td>\n",
       "      <td>51.604371</td>\n",
       "      <td>-0.252685</td>\n",
       "      <td>vision:building=83,vision:outdoor=82,vision:ar...</td>\n",
       "      <td>E01000130</td>\n",
       "    </tr>\n",
       "    <tr>\n",
       "      <th>10234101783</th>\n",
       "      <td>98352688</td>\n",
       "      <td>98373036@N02</td>\n",
       "      <td>7370</td>\n",
       "      <td>8fb0e84999</td>\n",
       "      <td>3a9ddd9919</td>\n",
       "      <td>1381615866</td>\n",
       "      <td>1381615866</td>\n",
       "      <td>2013-10-11 21:50:39.0</td>\n",
       "      <td>51.513644</td>\n",
       "      <td>-0.094673</td>\n",
       "      <td>vision:indoor=98,vision:brochette=66,vision:wi...</td>\n",
       "      <td>E01032739</td>\n",
       "    </tr>\n",
       "    <tr>\n",
       "      <th>5413448367</th>\n",
       "      <td>23701808</td>\n",
       "      <td>23747130@N06</td>\n",
       "      <td>5020</td>\n",
       "      <td>02710a6988</td>\n",
       "      <td>73fe7e581d</td>\n",
       "      <td>1296760923</td>\n",
       "      <td>1296760923</td>\n",
       "      <td>2011-01-29 23:56:18.0</td>\n",
       "      <td>51.521418</td>\n",
       "      <td>-0.071829</td>\n",
       "      <td>vision:friends=93,vision:party=97,vision:feath...</td>\n",
       "      <td>E01004307</td>\n",
       "    </tr>\n",
       "    <tr>\n",
       "      <th>1442840605</th>\n",
       "      <td>14148757</td>\n",
       "      <td>14169105@N02</td>\n",
       "      <td>1225</td>\n",
       "      <td>5522ac8b97</td>\n",
       "      <td>24b34c3037</td>\n",
       "      <td>1190823839</td>\n",
       "      <td>1190823839</td>\n",
       "      <td>2005-06-16 19:53:04.0</td>\n",
       "      <td>51.534517</td>\n",
       "      <td>-0.055661</td>\n",
       "      <td>vision:indoor=95,2005,may,gallery,degreeart.co...</td>\n",
       "      <td>E01004197</td>\n",
       "    </tr>\n",
       "    <tr>\n",
       "      <th>2952790046</th>\n",
       "      <td>5117514</td>\n",
       "      <td>79653482@N00</td>\n",
       "      <td>3190</td>\n",
       "      <td>c9c9e5b848</td>\n",
       "      <td>3d392df271</td>\n",
       "      <td>1224362935</td>\n",
       "      <td>1224362935</td>\n",
       "      <td>2008-09-10 10:47:13.0</td>\n",
       "      <td>51.484503</td>\n",
       "      <td>-0.291277</td>\n",
       "      <td>copac,londýn,copaci,伦敦,grande-bretagne,لندن,br...</td>\n",
       "      <td>E01003847</td>\n",
       "    </tr>\n",
       "  </tbody>\n",
       "</table>\n",
       "</div>"
      ],
      "text/plain": [
       "              photoId        userId  nsid, server      secret secretOriginal  \\\n",
       "11945377795  46709459  46730789@N07          3693  3c1cb64940     07a735111b   \n",
       "7683964932    1407330  11471080@N00          7270  bdcd50291f     8a400c2692   \n",
       "4865392645   52734882  52740222@N05          4143  822689db17     47a2301153   \n",
       "8824815624    3713296  56492397@N00          7443  80c32c1b0e     105b6b4415   \n",
       "4199896407   45715090  45738144@N03          2715  7c70121cf3     7dd3fb4866   \n",
       "5234491407   33412015  33432363@N02          5164  21c93e858f     c7ddbce3b1   \n",
       "10234101783  98352688  98373036@N02          7370  8fb0e84999     3a9ddd9919   \n",
       "5413448367   23701808  23747130@N06          5020  02710a6988     73fe7e581d   \n",
       "1442840605   14148757  14169105@N02          1225  5522ac8b97     24b34c3037   \n",
       "2952790046    5117514  79653482@N00          3190  c9c9e5b848     3d392df271   \n",
       "\n",
       "             dateImported  dateCreated              dateTaken        lat  \\\n",
       "11945377795    1389700697   1389700708  2013-12-26 14:36:19.0  51.506320   \n",
       "7683964932     1343741136   1343741136  2012-02-03 13:33:56.0  51.467666   \n",
       "4865392645     1281098227   1281098227  2010-03-25 15:31:00.0  51.527529   \n",
       "8824815624     1369483719   1369483719  2009-12-21 13:00:15.0  51.474166   \n",
       "4199896407     1261327944   1261327944  2009-12-10 10:56:08.0  51.577069   \n",
       "5234491407     1291568825   1291568825  2010-11-23 20:49:48.0  51.604371   \n",
       "10234101783    1381615866   1381615866  2013-10-11 21:50:39.0  51.513644   \n",
       "5413448367     1296760923   1296760923  2011-01-29 23:56:18.0  51.521418   \n",
       "1442840605     1190823839   1190823839  2005-06-16 19:53:04.0  51.534517   \n",
       "2952790046     1224362935   1224362935  2008-09-10 10:47:13.0  51.484503   \n",
       "\n",
       "                  lon                                               tags  \\\n",
       "11945377795 -0.127140  vision:riverbank=55,vision:nature=55,vision:sl...   \n",
       "7683964932  -0.084000  vision:notebook=56,vision:microprocessor=50,vi...   \n",
       "4865392645  -0.082536  circus space,trapeze,circus,vision:bungee=77,v...   \n",
       "8824815624  -0.195334  flickriosapp:filter=nofilter,iphone3gs,uploade...   \n",
       "4199896407  -0.285644  vision:path=54,vision:architecture=56,vision:h...   \n",
       "5234491407  -0.252685  vision:building=83,vision:outdoor=82,vision:ar...   \n",
       "10234101783 -0.094673  vision:indoor=98,vision:brochette=66,vision:wi...   \n",
       "5413448367  -0.071829  vision:friends=93,vision:party=97,vision:feath...   \n",
       "1442840605  -0.055661  vision:indoor=95,2005,may,gallery,degreeart.co...   \n",
       "2952790046  -0.291277  copac,londýn,copaci,伦敦,grande-bretagne,لندن,br...   \n",
       "\n",
       "               LSOA_ID  \n",
       "11945377795  E01004736  \n",
       "7683964932   E01004050  \n",
       "4865392645   E01033708  \n",
       "8824815624   E01001924  \n",
       "4199896407   E01000484  \n",
       "5234491407   E01000130  \n",
       "10234101783  E01032739  \n",
       "5413448367   E01004307  \n",
       "1442840605   E01004197  \n",
       "2952790046   E01003847  "
      ]
     },
     "execution_count": 12,
     "metadata": {},
     "output_type": "execute_result"
    }
   ],
   "source": [
    "df[:10]"
   ]
  },
  {
   "cell_type": "code",
   "execution_count": 47,
   "metadata": {
    "ExecuteTime": {
     "end_time": "2020-02-05T17:17:07.436370Z",
     "start_time": "2020-02-05T17:17:07.425540Z"
    }
   },
   "outputs": [],
   "source": [
    "def extractTags(entry):\n",
    "    tags = []\n",
    "    components = entry.split(',')\n",
    "    for c in components:\n",
    "        visonComps = c.split(':')\n",
    "        if len(visonComps) == 1:\n",
    "            tags.append(c)\n",
    "        elif visonComps[0] == 'vision':\n",
    "            comps = visonComps[-1].split('=')\n",
    "            if len(comps) == 2:\n",
    "                try:\n",
    "                    confidence = int(comps[-1])\n",
    "                except:\n",
    "                    continue\n",
    "                #Only take tags above 85 confidence\n",
    "                if  confidence >= 85:\n",
    "                    tags.append(''.join(comps[:-1]))\n",
    "            else:\n",
    "                continue\n",
    "        else:\n",
    "            continue\n",
    "    return tags"
   ]
  },
  {
   "cell_type": "code",
   "execution_count": 14,
   "metadata": {
    "ExecuteTime": {
     "end_time": "2020-02-05T16:36:46.397660Z",
     "start_time": "2020-02-05T16:36:43.416159Z"
    }
   },
   "outputs": [],
   "source": [
    "sampledDf = df[['photoId','dateTaken','lon','lat','tags','LSOA_ID']]"
   ]
  },
  {
   "cell_type": "code",
   "execution_count": 23,
   "metadata": {
    "ExecuteTime": {
     "end_time": "2020-02-05T16:58:27.573993Z",
     "start_time": "2020-02-05T16:58:27.567529Z"
    }
   },
   "outputs": [
    {
     "data": {
      "text/plain": [
       "'vision:building=83,vision:outdoor=82,vision:art=57,vision:weathervane=88,vision:white=57,vision:lamppost=62,vision:white background=57,vision:cross=57,vision:steeple=56,vision:lego=56,vision:candlestick=71,vision:belfry=51,vision:shrine=51,vision:statue=57,vision:tower=57,vision:bell=74,vision:sculpture=57,vision:gargoyle=72,vision:lamp=90,vision:campanile=56,vision:roof=83,vision:monochrome=54,vision:candelabrum=71,vision:post=62,vision:streetlight=73,vision:dome=83,vision:architecture=83,vision:onion dome=83,vision:lantern=90,vision:blackandwhite=63,raw,iphoto original'"
      ]
     },
     "execution_count": 23,
     "metadata": {},
     "output_type": "execute_result"
    }
   ],
   "source": [
    "sampledDf.iloc[5]['tags']"
   ]
  },
  {
   "cell_type": "code",
   "execution_count": 35,
   "metadata": {
    "ExecuteTime": {
     "end_time": "2020-02-05T17:07:24.267786Z",
     "start_time": "2020-02-05T17:07:24.260745Z"
    }
   },
   "outputs": [
    {
     "data": {
      "text/plain": [
       "['plant',\n",
       " 'tree',\n",
       " 'nature',\n",
       " 'outdoor',\n",
       " 'bridge',\n",
       " 'thames',\n",
       " 'river',\n",
       " 'strand on the green',\n",
       " 'greater london',\n",
       " 'kew',\n",
       " 'uk']"
      ]
     },
     "execution_count": 35,
     "metadata": {},
     "output_type": "execute_result"
    }
   ],
   "source": [
    "extractTags(sampledDf.iloc[10000]['tags'])"
   ]
  },
  {
   "cell_type": "code",
   "execution_count": 48,
   "metadata": {
    "ExecuteTime": {
     "end_time": "2020-02-05T17:19:55.359716Z",
     "start_time": "2020-02-05T17:17:10.602373Z"
    }
   },
   "outputs": [
    {
     "name": "stderr",
     "output_type": "stream",
     "text": [
      "/work/sagarj/miniconda3/lib/python3.7/site-packages/ipykernel_launcher.py:1: SettingWithCopyWarning: \n",
      "A value is trying to be set on a copy of a slice from a DataFrame.\n",
      "Try using .loc[row_indexer,col_indexer] = value instead\n",
      "\n",
      "See the caveats in the documentation: http://pandas.pydata.org/pandas-docs/stable/user_guide/indexing.html#returning-a-view-versus-a-copy\n",
      "  \"\"\"Entry point for launching an IPython kernel.\n"
     ]
    }
   ],
   "source": [
    "sampledDf['tags_Extracted'] = sampledDf['tags'].apply(lambda x: extractTags(x))"
   ]
  },
  {
   "cell_type": "code",
   "execution_count": 61,
   "metadata": {
    "ExecuteTime": {
     "end_time": "2020-02-05T18:23:23.389244Z",
     "start_time": "2020-02-05T18:23:23.362281Z"
    }
   },
   "outputs": [
    {
     "data": {
      "text/html": [
       "<div>\n",
       "<style scoped>\n",
       "    .dataframe tbody tr th:only-of-type {\n",
       "        vertical-align: middle;\n",
       "    }\n",
       "\n",
       "    .dataframe tbody tr th {\n",
       "        vertical-align: top;\n",
       "    }\n",
       "\n",
       "    .dataframe thead th {\n",
       "        text-align: right;\n",
       "    }\n",
       "</style>\n",
       "<table border=\"1\" class=\"dataframe\">\n",
       "  <thead>\n",
       "    <tr style=\"text-align: right;\">\n",
       "      <th></th>\n",
       "      <th>photoId</th>\n",
       "      <th>dateTaken</th>\n",
       "      <th>lon</th>\n",
       "      <th>lat</th>\n",
       "      <th>tags</th>\n",
       "      <th>LSOA_ID</th>\n",
       "      <th>tags_Extracted</th>\n",
       "    </tr>\n",
       "  </thead>\n",
       "  <tbody>\n",
       "    <tr>\n",
       "      <th>11945377795</th>\n",
       "      <td>46709459</td>\n",
       "      <td>2013-12-26 14:36:19.0</td>\n",
       "      <td>-0.127140</td>\n",
       "      <td>51.506320</td>\n",
       "      <td>vision:riverbank=55,vision:nature=55,vision:sl...</td>\n",
       "      <td>E01004736</td>\n",
       "      <td>[outdoor, vehicle, boat]</td>\n",
       "    </tr>\n",
       "    <tr>\n",
       "      <th>7683964932</th>\n",
       "      <td>1407330</td>\n",
       "      <td>2012-02-03 13:33:56.0</td>\n",
       "      <td>-0.084000</td>\n",
       "      <td>51.467666</td>\n",
       "      <td>vision:notebook=56,vision:microprocessor=50,vi...</td>\n",
       "      <td>E01004050</td>\n",
       "      <td>[indoor, text, dropbox, automatc]</td>\n",
       "    </tr>\n",
       "    <tr>\n",
       "      <th>4865392645</th>\n",
       "      <td>52734882</td>\n",
       "      <td>2010-03-25 15:31:00.0</td>\n",
       "      <td>-0.082536</td>\n",
       "      <td>51.527529</td>\n",
       "      <td>circus space,trapeze,circus,vision:bungee=77,v...</td>\n",
       "      <td>E01033708</td>\n",
       "      <td>[circus space, trapeze, circus, people, jump, ...</td>\n",
       "    </tr>\n",
       "    <tr>\n",
       "      <th>8824815624</th>\n",
       "      <td>3713296</td>\n",
       "      <td>2009-12-21 13:00:15.0</td>\n",
       "      <td>-0.195334</td>\n",
       "      <td>51.474166</td>\n",
       "      <td>flickriosapp:filter=nofilter,iphone3gs,uploade...</td>\n",
       "      <td>E01001924</td>\n",
       "      <td>[iphone3gs, hallway, vault, floor, hall, indoor]</td>\n",
       "    </tr>\n",
       "    <tr>\n",
       "      <th>4199896407</th>\n",
       "      <td>45715090</td>\n",
       "      <td>2009-12-10 10:56:08.0</td>\n",
       "      <td>-0.285644</td>\n",
       "      <td>51.577069</td>\n",
       "      <td>vision:path=54,vision:architecture=56,vision:h...</td>\n",
       "      <td>E01000484</td>\n",
       "      <td>[outdoor]</td>\n",
       "    </tr>\n",
       "    <tr>\n",
       "      <th>5234491407</th>\n",
       "      <td>33412015</td>\n",
       "      <td>2010-11-23 20:49:48.0</td>\n",
       "      <td>-0.252685</td>\n",
       "      <td>51.604371</td>\n",
       "      <td>vision:building=83,vision:outdoor=82,vision:ar...</td>\n",
       "      <td>E01000130</td>\n",
       "      <td>[weathervane, lamp, lantern, raw, iphoto origi...</td>\n",
       "    </tr>\n",
       "    <tr>\n",
       "      <th>10234101783</th>\n",
       "      <td>98352688</td>\n",
       "      <td>2013-10-11 21:50:39.0</td>\n",
       "      <td>-0.094673</td>\n",
       "      <td>51.513644</td>\n",
       "      <td>vision:indoor=98,vision:brochette=66,vision:wi...</td>\n",
       "      <td>E01032739</td>\n",
       "      <td>[indoor]</td>\n",
       "    </tr>\n",
       "    <tr>\n",
       "      <th>5413448367</th>\n",
       "      <td>23701808</td>\n",
       "      <td>2011-01-29 23:56:18.0</td>\n",
       "      <td>-0.071829</td>\n",
       "      <td>51.521418</td>\n",
       "      <td>vision:friends=93,vision:party=97,vision:feath...</td>\n",
       "      <td>E01004307</td>\n",
       "      <td>[friends, party, people, club, vibe bar, freak...</td>\n",
       "    </tr>\n",
       "    <tr>\n",
       "      <th>1442840605</th>\n",
       "      <td>14148757</td>\n",
       "      <td>2005-06-16 19:53:04.0</td>\n",
       "      <td>-0.055661</td>\n",
       "      <td>51.534517</td>\n",
       "      <td>vision:indoor=95,2005,may,gallery,degreeart.co...</td>\n",
       "      <td>E01004197</td>\n",
       "      <td>[indoor, 2005, may, gallery, degreeart.com, de...</td>\n",
       "    </tr>\n",
       "    <tr>\n",
       "      <th>2952790046</th>\n",
       "      <td>5117514</td>\n",
       "      <td>2008-09-10 10:47:13.0</td>\n",
       "      <td>-0.291277</td>\n",
       "      <td>51.484503</td>\n",
       "      <td>copac,londýn,copaci,伦敦,grande-bretagne,لندن,br...</td>\n",
       "      <td>E01003847</td>\n",
       "      <td>[copac, londýn, copaci, 伦敦, grande-bretagne, ل...</td>\n",
       "    </tr>\n",
       "  </tbody>\n",
       "</table>\n",
       "</div>"
      ],
      "text/plain": [
       "              photoId              dateTaken       lon        lat  \\\n",
       "11945377795  46709459  2013-12-26 14:36:19.0 -0.127140  51.506320   \n",
       "7683964932    1407330  2012-02-03 13:33:56.0 -0.084000  51.467666   \n",
       "4865392645   52734882  2010-03-25 15:31:00.0 -0.082536  51.527529   \n",
       "8824815624    3713296  2009-12-21 13:00:15.0 -0.195334  51.474166   \n",
       "4199896407   45715090  2009-12-10 10:56:08.0 -0.285644  51.577069   \n",
       "5234491407   33412015  2010-11-23 20:49:48.0 -0.252685  51.604371   \n",
       "10234101783  98352688  2013-10-11 21:50:39.0 -0.094673  51.513644   \n",
       "5413448367   23701808  2011-01-29 23:56:18.0 -0.071829  51.521418   \n",
       "1442840605   14148757  2005-06-16 19:53:04.0 -0.055661  51.534517   \n",
       "2952790046    5117514  2008-09-10 10:47:13.0 -0.291277  51.484503   \n",
       "\n",
       "                                                          tags    LSOA_ID  \\\n",
       "11945377795  vision:riverbank=55,vision:nature=55,vision:sl...  E01004736   \n",
       "7683964932   vision:notebook=56,vision:microprocessor=50,vi...  E01004050   \n",
       "4865392645   circus space,trapeze,circus,vision:bungee=77,v...  E01033708   \n",
       "8824815624   flickriosapp:filter=nofilter,iphone3gs,uploade...  E01001924   \n",
       "4199896407   vision:path=54,vision:architecture=56,vision:h...  E01000484   \n",
       "5234491407   vision:building=83,vision:outdoor=82,vision:ar...  E01000130   \n",
       "10234101783  vision:indoor=98,vision:brochette=66,vision:wi...  E01032739   \n",
       "5413448367   vision:friends=93,vision:party=97,vision:feath...  E01004307   \n",
       "1442840605   vision:indoor=95,2005,may,gallery,degreeart.co...  E01004197   \n",
       "2952790046   copac,londýn,copaci,伦敦,grande-bretagne,لندن,br...  E01003847   \n",
       "\n",
       "                                                tags_Extracted  \n",
       "11945377795                           [outdoor, vehicle, boat]  \n",
       "7683964932                   [indoor, text, dropbox, automatc]  \n",
       "4865392645   [circus space, trapeze, circus, people, jump, ...  \n",
       "8824815624    [iphone3gs, hallway, vault, floor, hall, indoor]  \n",
       "4199896407                                           [outdoor]  \n",
       "5234491407   [weathervane, lamp, lantern, raw, iphoto origi...  \n",
       "10234101783                                           [indoor]  \n",
       "5413448367   [friends, party, people, club, vibe bar, freak...  \n",
       "1442840605   [indoor, 2005, may, gallery, degreeart.com, de...  \n",
       "2952790046   [copac, londýn, copaci, 伦敦, grande-bretagne, ل...  "
      ]
     },
     "execution_count": 61,
     "metadata": {},
     "output_type": "execute_result"
    }
   ],
   "source": [
    "sampledDf[:10]"
   ]
  },
  {
   "cell_type": "code",
   "execution_count": 52,
   "metadata": {
    "ExecuteTime": {
     "end_time": "2020-02-05T18:06:30.527934Z",
     "start_time": "2020-02-05T18:06:30.511764Z"
    }
   },
   "outputs": [],
   "source": [
    "tags = pd.read_csv('smell_eng_vs2.txt',sep='\\t', names=[\"tag\", \"tax\"])"
   ]
  },
  {
   "cell_type": "code",
   "execution_count": 58,
   "metadata": {
    "ExecuteTime": {
     "end_time": "2020-02-05T18:19:19.501669Z",
     "start_time": "2020-02-05T18:19:19.432242Z"
    }
   },
   "outputs": [],
   "source": [
    "natureTags =[]\n",
    "for index , row in tags.iterrows():\n",
    "    if '9' in row['tax']:\n",
    "        natureTags.append(row['tag'])"
   ]
  },
  {
   "cell_type": "code",
   "execution_count": 64,
   "metadata": {
    "ExecuteTime": {
     "end_time": "2020-02-05T18:23:52.566726Z",
     "start_time": "2020-02-05T18:23:52.561979Z"
    }
   },
   "outputs": [],
   "source": [
    "def getNatureTags(entry):\n",
    "    intags = set(list(entry)).intersection(natureTags)\n",
    "    return len(intags)"
   ]
  },
  {
   "cell_type": "code",
   "execution_count": 71,
   "metadata": {
    "ExecuteTime": {
     "end_time": "2020-02-05T18:24:20.556998Z",
     "start_time": "2020-02-05T18:24:20.552221Z"
    }
   },
   "outputs": [
    {
     "data": {
      "text/plain": [
       "0"
      ]
     },
     "execution_count": 71,
     "metadata": {},
     "output_type": "execute_result"
    }
   ],
   "source": [
    "getNatureTags(sampledDf.iloc[150]['tags_Extracted'])"
   ]
  },
  {
   "cell_type": "code",
   "execution_count": 72,
   "metadata": {
    "ExecuteTime": {
     "end_time": "2020-02-05T18:25:25.794955Z",
     "start_time": "2020-02-05T18:24:52.117570Z"
    }
   },
   "outputs": [
    {
     "name": "stderr",
     "output_type": "stream",
     "text": [
      "/work/sagarj/miniconda3/lib/python3.7/site-packages/ipykernel_launcher.py:1: SettingWithCopyWarning: \n",
      "A value is trying to be set on a copy of a slice from a DataFrame.\n",
      "Try using .loc[row_indexer,col_indexer] = value instead\n",
      "\n",
      "See the caveats in the documentation: http://pandas.pydata.org/pandas-docs/stable/user_guide/indexing.html#returning-a-view-versus-a-copy\n",
      "  \"\"\"Entry point for launching an IPython kernel.\n"
     ]
    }
   ],
   "source": [
    "sampledDf['nature_tags'] = sampledDf['tags_Extracted'].apply(lambda x: getNatureTags(x))"
   ]
  },
  {
   "cell_type": "code",
   "execution_count": null,
   "metadata": {
    "ExecuteTime": {
     "start_time": "2020-02-05T18:29:06.146Z"
    }
   },
   "outputs": [],
   "source": [
    "sampledDf['tag_count'] = sampledDf['tags_Extracted'].apply(lambda x: len(list(x)))"
   ]
  },
  {
   "cell_type": "code",
   "execution_count": 76,
   "metadata": {
    "ExecuteTime": {
     "end_time": "2020-02-05T18:42:45.526172Z",
     "start_time": "2020-02-05T18:42:45.497626Z"
    }
   },
   "outputs": [
    {
     "data": {
      "text/html": [
       "<div>\n",
       "<style scoped>\n",
       "    .dataframe tbody tr th:only-of-type {\n",
       "        vertical-align: middle;\n",
       "    }\n",
       "\n",
       "    .dataframe tbody tr th {\n",
       "        vertical-align: top;\n",
       "    }\n",
       "\n",
       "    .dataframe thead th {\n",
       "        text-align: right;\n",
       "    }\n",
       "</style>\n",
       "<table border=\"1\" class=\"dataframe\">\n",
       "  <thead>\n",
       "    <tr style=\"text-align: right;\">\n",
       "      <th></th>\n",
       "      <th>photoId</th>\n",
       "      <th>dateTaken</th>\n",
       "      <th>lon</th>\n",
       "      <th>lat</th>\n",
       "      <th>tags</th>\n",
       "      <th>LSOA_ID</th>\n",
       "      <th>tags_Extracted</th>\n",
       "      <th>nature_tags</th>\n",
       "      <th>tag_count</th>\n",
       "    </tr>\n",
       "  </thead>\n",
       "  <tbody>\n",
       "    <tr>\n",
       "      <th>11945377795</th>\n",
       "      <td>46709459</td>\n",
       "      <td>2013-12-26 14:36:19.0</td>\n",
       "      <td>-0.127140</td>\n",
       "      <td>51.506320</td>\n",
       "      <td>vision:riverbank=55,vision:nature=55,vision:sl...</td>\n",
       "      <td>E01004736</td>\n",
       "      <td>[outdoor, vehicle, boat]</td>\n",
       "      <td>0</td>\n",
       "      <td>3</td>\n",
       "    </tr>\n",
       "    <tr>\n",
       "      <th>7683964932</th>\n",
       "      <td>1407330</td>\n",
       "      <td>2012-02-03 13:33:56.0</td>\n",
       "      <td>-0.084000</td>\n",
       "      <td>51.467666</td>\n",
       "      <td>vision:notebook=56,vision:microprocessor=50,vi...</td>\n",
       "      <td>E01004050</td>\n",
       "      <td>[indoor, text, dropbox, automatc]</td>\n",
       "      <td>0</td>\n",
       "      <td>4</td>\n",
       "    </tr>\n",
       "    <tr>\n",
       "      <th>4865392645</th>\n",
       "      <td>52734882</td>\n",
       "      <td>2010-03-25 15:31:00.0</td>\n",
       "      <td>-0.082536</td>\n",
       "      <td>51.527529</td>\n",
       "      <td>circus space,trapeze,circus,vision:bungee=77,v...</td>\n",
       "      <td>E01033708</td>\n",
       "      <td>[circus space, trapeze, circus, people, jump, ...</td>\n",
       "      <td>0</td>\n",
       "      <td>10</td>\n",
       "    </tr>\n",
       "    <tr>\n",
       "      <th>8824815624</th>\n",
       "      <td>3713296</td>\n",
       "      <td>2009-12-21 13:00:15.0</td>\n",
       "      <td>-0.195334</td>\n",
       "      <td>51.474166</td>\n",
       "      <td>flickriosapp:filter=nofilter,iphone3gs,uploade...</td>\n",
       "      <td>E01001924</td>\n",
       "      <td>[iphone3gs, hallway, vault, floor, hall, indoor]</td>\n",
       "      <td>0</td>\n",
       "      <td>6</td>\n",
       "    </tr>\n",
       "    <tr>\n",
       "      <th>4199896407</th>\n",
       "      <td>45715090</td>\n",
       "      <td>2009-12-10 10:56:08.0</td>\n",
       "      <td>-0.285644</td>\n",
       "      <td>51.577069</td>\n",
       "      <td>vision:path=54,vision:architecture=56,vision:h...</td>\n",
       "      <td>E01000484</td>\n",
       "      <td>[outdoor]</td>\n",
       "      <td>0</td>\n",
       "      <td>1</td>\n",
       "    </tr>\n",
       "    <tr>\n",
       "      <th>5234491407</th>\n",
       "      <td>33412015</td>\n",
       "      <td>2010-11-23 20:49:48.0</td>\n",
       "      <td>-0.252685</td>\n",
       "      <td>51.604371</td>\n",
       "      <td>vision:building=83,vision:outdoor=82,vision:ar...</td>\n",
       "      <td>E01000130</td>\n",
       "      <td>[weathervane, lamp, lantern, raw, iphoto origi...</td>\n",
       "      <td>0</td>\n",
       "      <td>5</td>\n",
       "    </tr>\n",
       "    <tr>\n",
       "      <th>10234101783</th>\n",
       "      <td>98352688</td>\n",
       "      <td>2013-10-11 21:50:39.0</td>\n",
       "      <td>-0.094673</td>\n",
       "      <td>51.513644</td>\n",
       "      <td>vision:indoor=98,vision:brochette=66,vision:wi...</td>\n",
       "      <td>E01032739</td>\n",
       "      <td>[indoor]</td>\n",
       "      <td>0</td>\n",
       "      <td>1</td>\n",
       "    </tr>\n",
       "    <tr>\n",
       "      <th>5413448367</th>\n",
       "      <td>23701808</td>\n",
       "      <td>2011-01-29 23:56:18.0</td>\n",
       "      <td>-0.071829</td>\n",
       "      <td>51.521418</td>\n",
       "      <td>vision:friends=93,vision:party=97,vision:feath...</td>\n",
       "      <td>E01004307</td>\n",
       "      <td>[friends, party, people, club, vibe bar, freak...</td>\n",
       "      <td>0</td>\n",
       "      <td>8</td>\n",
       "    </tr>\n",
       "    <tr>\n",
       "      <th>1442840605</th>\n",
       "      <td>14148757</td>\n",
       "      <td>2005-06-16 19:53:04.0</td>\n",
       "      <td>-0.055661</td>\n",
       "      <td>51.534517</td>\n",
       "      <td>vision:indoor=95,2005,may,gallery,degreeart.co...</td>\n",
       "      <td>E01004197</td>\n",
       "      <td>[indoor, 2005, may, gallery, degreeart.com, de...</td>\n",
       "      <td>0</td>\n",
       "      <td>11</td>\n",
       "    </tr>\n",
       "    <tr>\n",
       "      <th>2952790046</th>\n",
       "      <td>5117514</td>\n",
       "      <td>2008-09-10 10:47:13.0</td>\n",
       "      <td>-0.291277</td>\n",
       "      <td>51.484503</td>\n",
       "      <td>copac,londýn,copaci,伦敦,grande-bretagne,لندن,br...</td>\n",
       "      <td>E01003847</td>\n",
       "      <td>[copac, londýn, copaci, 伦敦, grande-bretagne, ل...</td>\n",
       "      <td>4</td>\n",
       "      <td>66</td>\n",
       "    </tr>\n",
       "  </tbody>\n",
       "</table>\n",
       "</div>"
      ],
      "text/plain": [
       "              photoId              dateTaken       lon        lat  \\\n",
       "11945377795  46709459  2013-12-26 14:36:19.0 -0.127140  51.506320   \n",
       "7683964932    1407330  2012-02-03 13:33:56.0 -0.084000  51.467666   \n",
       "4865392645   52734882  2010-03-25 15:31:00.0 -0.082536  51.527529   \n",
       "8824815624    3713296  2009-12-21 13:00:15.0 -0.195334  51.474166   \n",
       "4199896407   45715090  2009-12-10 10:56:08.0 -0.285644  51.577069   \n",
       "5234491407   33412015  2010-11-23 20:49:48.0 -0.252685  51.604371   \n",
       "10234101783  98352688  2013-10-11 21:50:39.0 -0.094673  51.513644   \n",
       "5413448367   23701808  2011-01-29 23:56:18.0 -0.071829  51.521418   \n",
       "1442840605   14148757  2005-06-16 19:53:04.0 -0.055661  51.534517   \n",
       "2952790046    5117514  2008-09-10 10:47:13.0 -0.291277  51.484503   \n",
       "\n",
       "                                                          tags    LSOA_ID  \\\n",
       "11945377795  vision:riverbank=55,vision:nature=55,vision:sl...  E01004736   \n",
       "7683964932   vision:notebook=56,vision:microprocessor=50,vi...  E01004050   \n",
       "4865392645   circus space,trapeze,circus,vision:bungee=77,v...  E01033708   \n",
       "8824815624   flickriosapp:filter=nofilter,iphone3gs,uploade...  E01001924   \n",
       "4199896407   vision:path=54,vision:architecture=56,vision:h...  E01000484   \n",
       "5234491407   vision:building=83,vision:outdoor=82,vision:ar...  E01000130   \n",
       "10234101783  vision:indoor=98,vision:brochette=66,vision:wi...  E01032739   \n",
       "5413448367   vision:friends=93,vision:party=97,vision:feath...  E01004307   \n",
       "1442840605   vision:indoor=95,2005,may,gallery,degreeart.co...  E01004197   \n",
       "2952790046   copac,londýn,copaci,伦敦,grande-bretagne,لندن,br...  E01003847   \n",
       "\n",
       "                                                tags_Extracted  nature_tags  \\\n",
       "11945377795                           [outdoor, vehicle, boat]            0   \n",
       "7683964932                   [indoor, text, dropbox, automatc]            0   \n",
       "4865392645   [circus space, trapeze, circus, people, jump, ...            0   \n",
       "8824815624    [iphone3gs, hallway, vault, floor, hall, indoor]            0   \n",
       "4199896407                                           [outdoor]            0   \n",
       "5234491407   [weathervane, lamp, lantern, raw, iphoto origi...            0   \n",
       "10234101783                                           [indoor]            0   \n",
       "5413448367   [friends, party, people, club, vibe bar, freak...            0   \n",
       "1442840605   [indoor, 2005, may, gallery, degreeart.com, de...            0   \n",
       "2952790046   [copac, londýn, copaci, 伦敦, grande-bretagne, ل...            4   \n",
       "\n",
       "             tag_count  \n",
       "11945377795          3  \n",
       "7683964932           4  \n",
       "4865392645          10  \n",
       "8824815624           6  \n",
       "4199896407           1  \n",
       "5234491407           5  \n",
       "10234101783          1  \n",
       "5413448367           8  \n",
       "1442840605          11  \n",
       "2952790046          66  "
      ]
     },
     "execution_count": 76,
     "metadata": {},
     "output_type": "execute_result"
    }
   ],
   "source": [
    "sampledDf[:10]"
   ]
  },
  {
   "cell_type": "code",
   "execution_count": 78,
   "metadata": {
    "ExecuteTime": {
     "end_time": "2020-02-05T18:44:00.675511Z",
     "start_time": "2020-02-05T18:43:46.321052Z"
    }
   },
   "outputs": [],
   "source": [
    "LSOA_Nature_tags = {'LSOA_CODE':[] , 'Nature':[] , 'Total' : []}\n",
    "for name , group in sampledDf.groupby('LSOA_ID'):\n",
    "    LSOA_Nature_tags['LSOA_CODE'].append(name)\n",
    "    LSOA_Nature_tags['Nature'].append(sum(group['nature_tags']))\n",
    "    LSOA_Nature_tags['Total'].append(sum(group['tag_count']))\n",
    "LSOA_Flicker_Nature = pd.DataFrame.from_dict(LSOA_Nature_tags)"
   ]
  },
  {
   "cell_type": "code",
   "execution_count": 80,
   "metadata": {
    "ExecuteTime": {
     "end_time": "2020-02-05T18:45:55.106695Z",
     "start_time": "2020-02-05T18:45:55.062770Z"
    }
   },
   "outputs": [],
   "source": [
    "LSOA_Flicker_Nature.to_csv('Flicker_nature_tags.csv')"
   ]
  },
  {
   "cell_type": "code",
   "execution_count": 81,
   "metadata": {
    "ExecuteTime": {
     "end_time": "2020-02-05T18:58:02.904061Z",
     "start_time": "2020-02-05T18:58:02.747574Z"
    }
   },
   "outputs": [],
   "source": [
    "lsoa_df = pd.read_csv('../../BL_Work/Lower_Layer_Super_Output_Area_2011_to_Ward_2015_Lookup_in_England_and_Wales.csv')"
   ]
  },
  {
   "cell_type": "code",
   "execution_count": 95,
   "metadata": {
    "ExecuteTime": {
     "end_time": "2020-02-05T19:14:17.199502Z",
     "start_time": "2020-02-05T19:14:17.175117Z"
    }
   },
   "outputs": [
    {
     "data": {
      "text/html": [
       "<div>\n",
       "<style scoped>\n",
       "    .dataframe tbody tr th:only-of-type {\n",
       "        vertical-align: middle;\n",
       "    }\n",
       "\n",
       "    .dataframe tbody tr th {\n",
       "        vertical-align: top;\n",
       "    }\n",
       "\n",
       "    .dataframe thead th {\n",
       "        text-align: right;\n",
       "    }\n",
       "</style>\n",
       "<table border=\"1\" class=\"dataframe\">\n",
       "  <thead>\n",
       "    <tr style=\"text-align: right;\">\n",
       "      <th></th>\n",
       "      <th>LSOA11CD</th>\n",
       "      <th>LSOA11NM</th>\n",
       "      <th>WD15CD</th>\n",
       "      <th>WD15NM</th>\n",
       "      <th>WD15NMW</th>\n",
       "      <th>LAD15CD</th>\n",
       "      <th>LAD15NM</th>\n",
       "      <th>FID</th>\n",
       "    </tr>\n",
       "  </thead>\n",
       "  <tbody>\n",
       "    <tr>\n",
       "      <th>0</th>\n",
       "      <td>E01000104</td>\n",
       "      <td>Barking and Dagenham 014B</td>\n",
       "      <td>E05000041</td>\n",
       "      <td>Village</td>\n",
       "      <td></td>\n",
       "      <td>E09000002</td>\n",
       "      <td>Barking and Dagenham</td>\n",
       "      <td>1</td>\n",
       "    </tr>\n",
       "    <tr>\n",
       "      <th>1</th>\n",
       "      <td>E01000105</td>\n",
       "      <td>Barking and Dagenham 014C</td>\n",
       "      <td>E05000041</td>\n",
       "      <td>Village</td>\n",
       "      <td></td>\n",
       "      <td>E09000002</td>\n",
       "      <td>Barking and Dagenham</td>\n",
       "      <td>2</td>\n",
       "    </tr>\n",
       "    <tr>\n",
       "      <th>2</th>\n",
       "      <td>E01000106</td>\n",
       "      <td>Barking and Dagenham 014D</td>\n",
       "      <td>E05000041</td>\n",
       "      <td>Village</td>\n",
       "      <td></td>\n",
       "      <td>E09000002</td>\n",
       "      <td>Barking and Dagenham</td>\n",
       "      <td>3</td>\n",
       "    </tr>\n",
       "    <tr>\n",
       "      <th>3</th>\n",
       "      <td>E01000107</td>\n",
       "      <td>Barking and Dagenham 010C</td>\n",
       "      <td>E05000041</td>\n",
       "      <td>Village</td>\n",
       "      <td></td>\n",
       "      <td>E09000002</td>\n",
       "      <td>Barking and Dagenham</td>\n",
       "      <td>4</td>\n",
       "    </tr>\n",
       "    <tr>\n",
       "      <th>4</th>\n",
       "      <td>E01000108</td>\n",
       "      <td>Barking and Dagenham 010D</td>\n",
       "      <td>E05000041</td>\n",
       "      <td>Village</td>\n",
       "      <td></td>\n",
       "      <td>E09000002</td>\n",
       "      <td>Barking and Dagenham</td>\n",
       "      <td>5</td>\n",
       "    </tr>\n",
       "    <tr>\n",
       "      <th>...</th>\n",
       "      <td>...</td>\n",
       "      <td>...</td>\n",
       "      <td>...</td>\n",
       "      <td>...</td>\n",
       "      <td>...</td>\n",
       "      <td>...</td>\n",
       "      <td>...</td>\n",
       "      <td>...</td>\n",
       "    </tr>\n",
       "    <tr>\n",
       "      <th>34748</th>\n",
       "      <td>W01001911</td>\n",
       "      <td>The Vale of Glamorgan 012H</td>\n",
       "      <td>W05000635</td>\n",
       "      <td>Castleland</td>\n",
       "      <td>Castleland</td>\n",
       "      <td>W06000014</td>\n",
       "      <td>Vale of Glamorgan</td>\n",
       "      <td>34749</td>\n",
       "    </tr>\n",
       "    <tr>\n",
       "      <th>34749</th>\n",
       "      <td>W01001860</td>\n",
       "      <td>Cardiff 034C</td>\n",
       "      <td>W05000877</td>\n",
       "      <td>Riverside</td>\n",
       "      <td>Glanyrafon</td>\n",
       "      <td>W06000015</td>\n",
       "      <td>Cardiff</td>\n",
       "      <td>34750</td>\n",
       "    </tr>\n",
       "    <tr>\n",
       "      <th>34750</th>\n",
       "      <td>W01001753</td>\n",
       "      <td>Cardiff 031C</td>\n",
       "      <td>W05000861</td>\n",
       "      <td>Fairwater</td>\n",
       "      <td>Tyllgoed</td>\n",
       "      <td>W06000015</td>\n",
       "      <td>Cardiff</td>\n",
       "      <td>34751</td>\n",
       "    </tr>\n",
       "    <tr>\n",
       "      <th>34751</th>\n",
       "      <td>W01001754</td>\n",
       "      <td>Cardiff 031D</td>\n",
       "      <td>W05000861</td>\n",
       "      <td>Fairwater</td>\n",
       "      <td>Tyllgoed</td>\n",
       "      <td>W06000015</td>\n",
       "      <td>Cardiff</td>\n",
       "      <td>34752</td>\n",
       "    </tr>\n",
       "    <tr>\n",
       "      <th>34752</th>\n",
       "      <td>W01001755</td>\n",
       "      <td>Cardiff 025A</td>\n",
       "      <td>W05000862</td>\n",
       "      <td>Gabalfa</td>\n",
       "      <td>Gabalfa</td>\n",
       "      <td>W06000015</td>\n",
       "      <td>Cardiff</td>\n",
       "      <td>34753</td>\n",
       "    </tr>\n",
       "  </tbody>\n",
       "</table>\n",
       "<p>34753 rows × 8 columns</p>\n",
       "</div>"
      ],
      "text/plain": [
       "        LSOA11CD                    LSOA11NM     WD15CD      WD15NM  \\\n",
       "0      E01000104   Barking and Dagenham 014B  E05000041     Village   \n",
       "1      E01000105   Barking and Dagenham 014C  E05000041     Village   \n",
       "2      E01000106   Barking and Dagenham 014D  E05000041     Village   \n",
       "3      E01000107   Barking and Dagenham 010C  E05000041     Village   \n",
       "4      E01000108   Barking and Dagenham 010D  E05000041     Village   \n",
       "...          ...                         ...        ...         ...   \n",
       "34748  W01001911  The Vale of Glamorgan 012H  W05000635  Castleland   \n",
       "34749  W01001860                Cardiff 034C  W05000877   Riverside   \n",
       "34750  W01001753                Cardiff 031C  W05000861   Fairwater   \n",
       "34751  W01001754                Cardiff 031D  W05000861   Fairwater   \n",
       "34752  W01001755                Cardiff 025A  W05000862     Gabalfa   \n",
       "\n",
       "          WD15NMW    LAD15CD               LAD15NM    FID  \n",
       "0                  E09000002  Barking and Dagenham      1  \n",
       "1                  E09000002  Barking and Dagenham      2  \n",
       "2                  E09000002  Barking and Dagenham      3  \n",
       "3                  E09000002  Barking and Dagenham      4  \n",
       "4                  E09000002  Barking and Dagenham      5  \n",
       "...           ...        ...                   ...    ...  \n",
       "34748  Castleland  W06000014     Vale of Glamorgan  34749  \n",
       "34749  Glanyrafon  W06000015               Cardiff  34750  \n",
       "34750    Tyllgoed  W06000015               Cardiff  34751  \n",
       "34751    Tyllgoed  W06000015               Cardiff  34752  \n",
       "34752     Gabalfa  W06000015               Cardiff  34753  \n",
       "\n",
       "[34753 rows x 8 columns]"
      ]
     },
     "execution_count": 95,
     "metadata": {},
     "output_type": "execute_result"
    }
   ],
   "source": [
    "lsoa_df"
   ]
  },
  {
   "cell_type": "code",
   "execution_count": 83,
   "metadata": {
    "ExecuteTime": {
     "end_time": "2020-02-05T18:59:36.633016Z",
     "start_time": "2020-02-05T18:59:34.760870Z"
    }
   },
   "outputs": [],
   "source": [
    "ward_lsoa_map = {}\n",
    "for name , group in lsoa_df.groupby('WD15CD'):\n",
    "    ward_lsoa_map[name] = list(group['LSOA11CD'])"
   ]
  },
  {
   "cell_type": "code",
   "execution_count": 91,
   "metadata": {
    "ExecuteTime": {
     "end_time": "2020-02-05T19:05:22.034921Z",
     "start_time": "2020-02-05T19:05:14.872531Z"
    }
   },
   "outputs": [],
   "source": [
    "ward_Flickr_dict = {'GSS_CODE':[] , 'Total' : [] , 'Nature' : [] }\n",
    "for k in ward_lsoa_map:\n",
    "    ward_slice = LSOA_Flicker_Nature[LSOA_Flicker_Nature['LSOA_CODE'].isin(ward_lsoa_map[k])]\n",
    "    if len(ward_slice) > 0:\n",
    "        ward_Flickr_dict['GSS_CODE'].append(k)\n",
    "        ward_Flickr_dict['Total'].append(sum(ward_slice['Total']))\n",
    "        ward_Flickr_dict['Nature'].append(sum(ward_slice['Nature']))"
   ]
  },
  {
   "cell_type": "code",
   "execution_count": 92,
   "metadata": {
    "ExecuteTime": {
     "end_time": "2020-02-05T19:05:22.040430Z",
     "start_time": "2020-02-05T19:05:22.036549Z"
    }
   },
   "outputs": [],
   "source": [
    "Ward_Flicker_Nature = pd.DataFrame.from_dict(ward_Flickr_dict)"
   ]
  },
  {
   "cell_type": "code",
   "execution_count": 93,
   "metadata": {
    "ExecuteTime": {
     "end_time": "2020-02-05T19:05:22.055793Z",
     "start_time": "2020-02-05T19:05:22.042315Z"
    }
   },
   "outputs": [],
   "source": [
    "Ward_Flicker_Nature.to_csv('Ward_Flicker_nature_tags.csv')"
   ]
  },
  {
   "cell_type": "code",
   "execution_count": 94,
   "metadata": {
    "ExecuteTime": {
     "end_time": "2020-02-05T19:05:22.065991Z",
     "start_time": "2020-02-05T19:05:22.057287Z"
    }
   },
   "outputs": [
    {
     "data": {
      "text/plain": [
       "634"
      ]
     },
     "execution_count": 94,
     "metadata": {},
     "output_type": "execute_result"
    }
   ],
   "source": [
    "len(Ward_Flicker_Nature)"
   ]
  },
  {
   "cell_type": "code",
   "execution_count": null,
   "metadata": {},
   "outputs": [],
   "source": []
  }
 ],
 "metadata": {
  "kernelspec": {
   "display_name": "Python [conda env:root] *",
   "language": "python",
   "name": "conda-root-py"
  },
  "language_info": {
   "codemirror_mode": {
    "name": "ipython",
    "version": 3
   },
   "file_extension": ".py",
   "mimetype": "text/x-python",
   "name": "python",
   "nbconvert_exporter": "python",
   "pygments_lexer": "ipython3",
   "version": "3.7.4"
  }
 },
 "nbformat": 4,
 "nbformat_minor": 2
}
