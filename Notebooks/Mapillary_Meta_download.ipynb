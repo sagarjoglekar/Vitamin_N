{
 "cells": [
  {
   "cell_type": "code",
   "execution_count": 26,
   "metadata": {
    "ExecuteTime": {
     "end_time": "2021-03-24T23:07:48.662194Z",
     "start_time": "2021-03-24T23:07:48.648476Z"
    }
   },
   "outputs": [],
   "source": [
    "    import fiona\n",
    "    import os,os.path\n",
    "    from shapely.geometry import shape,mapping\n",
    "    from shapely.ops import transform\n",
    "    from functools import partial\n",
    "    import pyproj\n",
    "    from fiona.crs import from_epsg\n",
    "    import osmnx as ox\n",
    "    import matplotlib.pyplot as plt\n",
    "    import geopandas as gpd\n",
    "    import glob\n",
    "    import json\n",
    "    import numpy as np\n",
    "    import requests as rq\n",
    "    import collections\n",
    "    import logging\n",
    "    import time\n",
    "    import dateutil.parser\n",
    "    %matplotlib inline"
   ]
  },
  {
   "cell_type": "code",
   "execution_count": 27,
   "metadata": {
    "ExecuteTime": {
     "end_time": "2021-03-24T23:07:48.832941Z",
     "start_time": "2021-03-24T23:07:48.826816Z"
    }
   },
   "outputs": [],
   "source": [
    "# Create a custom logger\n",
    "logger = logging.getLogger(__name__)\n",
    "\n",
    "# Create handlers\n",
    "f_handler = logging.FileHandler('Mapillary.log')\n",
    "f_handler.setLevel(logging.DEBUG)\n",
    "\n",
    "# Create formatters and add it to handlers\n",
    "f_format = logging.Formatter('%(asctime)s - %(name)s - %(levelname)s - %(message)s')\n",
    "f_handler.setFormatter(f_format)\n",
    "\n",
    "# Add handlers to the logger\n",
    "logger.addHandler(f_handler)"
   ]
  },
  {
   "cell_type": "code",
   "execution_count": 28,
   "metadata": {
    "ExecuteTime": {
     "end_time": "2021-03-24T23:07:52.304661Z",
     "start_time": "2021-03-24T23:07:52.300620Z"
    }
   },
   "outputs": [],
   "source": [
    "mapillary_Image_ID = 'https://a.mapillary.com/v3/images?client_id=bkJxVGFaQkdEcVY0RnVseWduREE0aTowZWMzMmY1Y2M3MjQ4ZTgx&closeto='\n",
    "distanceFrag = '&radius=200'\n",
    "mapillary_Image_url = 'https://images.mapillary.com/' #<image_key>/thumb-640.jpg"
   ]
  },
  {
   "cell_type": "code",
   "execution_count": 29,
   "metadata": {
    "ExecuteTime": {
     "end_time": "2021-03-24T23:08:03.213552Z",
     "start_time": "2021-03-24T23:08:03.209724Z"
    }
   },
   "outputs": [],
   "source": [
    "city = 'Tokyo'\n",
    "root = '../Data/'"
   ]
  },
  {
   "cell_type": "code",
   "execution_count": 30,
   "metadata": {
    "ExecuteTime": {
     "end_time": "2021-03-24T23:08:11.160830Z",
     "start_time": "2021-03-24T23:08:06.016632Z"
    }
   },
   "outputs": [],
   "source": [
    "# data = json.load(open(files[1] , 'rb'))\n",
    "data = gpd.read_file(root+city+'/shapeFiles/samples.shp')"
   ]
  },
  {
   "cell_type": "code",
   "execution_count": 31,
   "metadata": {
    "ExecuteTime": {
     "end_time": "2021-03-24T23:08:11.174059Z",
     "start_time": "2021-03-24T23:08:11.162498Z"
    }
   },
   "outputs": [
    {
     "data": {
      "text/html": [
       "<div>\n",
       "<style scoped>\n",
       "    .dataframe tbody tr th:only-of-type {\n",
       "        vertical-align: middle;\n",
       "    }\n",
       "\n",
       "    .dataframe tbody tr th {\n",
       "        vertical-align: top;\n",
       "    }\n",
       "\n",
       "    .dataframe thead th {\n",
       "        text-align: right;\n",
       "    }\n",
       "</style>\n",
       "<table border=\"1\" class=\"dataframe\">\n",
       "  <thead>\n",
       "    <tr style=\"text-align: right;\">\n",
       "      <th></th>\n",
       "      <th>id</th>\n",
       "      <th>geometry</th>\n",
       "    </tr>\n",
       "  </thead>\n",
       "  <tbody>\n",
       "    <tr>\n",
       "      <th>0</th>\n",
       "      <td>1</td>\n",
       "      <td>POINT (139.44241 35.62744)</td>\n",
       "    </tr>\n",
       "    <tr>\n",
       "      <th>1</th>\n",
       "      <td>1</td>\n",
       "      <td>POINT (139.44232 35.62612)</td>\n",
       "    </tr>\n",
       "    <tr>\n",
       "      <th>2</th>\n",
       "      <td>1</td>\n",
       "      <td>POINT (139.41958 35.61013)</td>\n",
       "    </tr>\n",
       "    <tr>\n",
       "      <th>3</th>\n",
       "      <td>1</td>\n",
       "      <td>POINT (139.42133 35.74586)</td>\n",
       "    </tr>\n",
       "    <tr>\n",
       "      <th>4</th>\n",
       "      <td>1</td>\n",
       "      <td>POINT (139.42126 35.74699)</td>\n",
       "    </tr>\n",
       "    <tr>\n",
       "      <th>...</th>\n",
       "      <td>...</td>\n",
       "      <td>...</td>\n",
       "    </tr>\n",
       "    <tr>\n",
       "      <th>317621</th>\n",
       "      <td>1</td>\n",
       "      <td>POINT (139.63987 35.77190)</td>\n",
       "    </tr>\n",
       "    <tr>\n",
       "      <th>317622</th>\n",
       "      <td>1</td>\n",
       "      <td>POINT (139.47959 35.54043)</td>\n",
       "    </tr>\n",
       "    <tr>\n",
       "      <th>317623</th>\n",
       "      <td>1</td>\n",
       "      <td>POINT (139.48310 35.53865)</td>\n",
       "    </tr>\n",
       "    <tr>\n",
       "      <th>317624</th>\n",
       "      <td>1</td>\n",
       "      <td>POINT (139.57770 35.76024)</td>\n",
       "    </tr>\n",
       "    <tr>\n",
       "      <th>317625</th>\n",
       "      <td>1</td>\n",
       "      <td>POINT (139.48271 35.53389)</td>\n",
       "    </tr>\n",
       "  </tbody>\n",
       "</table>\n",
       "<p>317626 rows × 2 columns</p>\n",
       "</div>"
      ],
      "text/plain": [
       "        id                    geometry\n",
       "0        1  POINT (139.44241 35.62744)\n",
       "1        1  POINT (139.44232 35.62612)\n",
       "2        1  POINT (139.41958 35.61013)\n",
       "3        1  POINT (139.42133 35.74586)\n",
       "4        1  POINT (139.42126 35.74699)\n",
       "...     ..                         ...\n",
       "317621   1  POINT (139.63987 35.77190)\n",
       "317622   1  POINT (139.47959 35.54043)\n",
       "317623   1  POINT (139.48310 35.53865)\n",
       "317624   1  POINT (139.57770 35.76024)\n",
       "317625   1  POINT (139.48271 35.53389)\n",
       "\n",
       "[317626 rows x 2 columns]"
      ]
     },
     "execution_count": 31,
     "metadata": {},
     "output_type": "execute_result"
    }
   ],
   "source": [
    "data"
   ]
  },
  {
   "cell_type": "code",
   "execution_count": null,
   "metadata": {
    "ExecuteTime": {
     "start_time": "2021-03-24T23:08:37.372Z"
    }
   },
   "outputs": [
    {
     "name": "stderr",
     "output_type": "stream",
     "text": [
      "  0%|          | 1092/317626 [58:50<266:22:43,  3.03s/it]"
     ]
    }
   ],
   "source": [
    "from tqdm import tqdm\n",
    "count = 1\n",
    "for point in tqdm(data['geometry']):\n",
    "    imagesMeta = []\n",
    "    name= city + str(count) + '.json'\n",
    "    loc= str(point.x)+','+str(point.y)\n",
    "#     print(loc)\n",
    "    finalUrl = mapillary_Image_ID + loc + distanceFrag\n",
    "    try:\n",
    "        response = rq.get(finalUrl,timeout=10)\n",
    "        dictionary = json.loads(response.text)\n",
    "        imagesMeta = dictionary[\"features\"]\n",
    "        logger.debug('Working with %d image at location %s'%(count,loc))\n",
    "    except:\n",
    "        logger.error('Request Timed out')\n",
    "#     print(imagesMeta)\n",
    "    logger.debug('Found %d Images in this file'%(count))\n",
    "#     print(imagesMeta)\n",
    "    json.dump(imagesMeta,open(root+ city+ '/' + 'pointsJson/' + str(count) +'.json','w'))\n",
    "    count+=1"
   ]
  },
  {
   "cell_type": "code",
   "execution_count": null,
   "metadata": {
    "ExecuteTime": {
     "start_time": "2019-11-14T21:56:17.784Z"
    }
   },
   "outputs": [],
   "source": [
    "# for f in files:\n",
    "#     name = 'Mapillary_'+'_'.join(f.split('/')[-1].split('_')[-2:])\n",
    "#     logger.debug(\"Working with %s\"%(f))\n",
    "#     first = json.load(open(f , 'rb'))\n",
    "#     points = []\n",
    "#     for k in first:\n",
    "#         comps = k.split('_')\n",
    "#         point = (comps[1].strip(),comps[0].strip())\n",
    "#         points.append(point)\n",
    "#     imagesMeta = []\n",
    "#     for point in points:\n",
    "#         loc= point[0]+','+point[1]\n",
    "#         finalUrl = mapillary_Image_ID + loc + distanceFrag\n",
    "#         try:\n",
    "#             response = rq.get(finalUrl,timeout=5)\n",
    "#             if response.status_code == 200:\n",
    "#                 dictionary = json.loads(response.content)\n",
    "#                 imagesMeta += dictionary[\"features\"]\n",
    "#             else:\n",
    "#                 logger.error('Missed point at (%s,%s)'%(point[0],point[1]))\n",
    "#                 time.sleep(10)\n",
    "#         except:\n",
    "#             logger.error('Request Timed out')\n",
    "#     logger.debug('Found %d Images in this file'%(len(imagesMeta)))\n",
    "#     logger.debug('Dumping in file: %s'%(name))\n",
    "#     json.dump(imagesMeta,open(city+name,'wb'))"
   ]
  },
  {
   "cell_type": "code",
   "execution_count": null,
   "metadata": {},
   "outputs": [],
   "source": []
  }
 ],
 "metadata": {
  "kernelspec": {
   "display_name": "Python [conda env:root] *",
   "language": "python",
   "name": "conda-root-py"
  },
  "language_info": {
   "codemirror_mode": {
    "name": "ipython",
    "version": 3
   },
   "file_extension": ".py",
   "mimetype": "text/x-python",
   "name": "python",
   "nbconvert_exporter": "python",
   "pygments_lexer": "ipython3",
   "version": "3.7.0"
  }
 },
 "nbformat": 4,
 "nbformat_minor": 2
}
