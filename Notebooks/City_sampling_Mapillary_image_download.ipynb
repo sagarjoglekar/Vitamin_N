{
 "cells": [
  {
   "cell_type": "code",
   "execution_count": 76,
   "metadata": {
    "ExecuteTime": {
     "end_time": "2021-04-16T09:44:03.032293Z",
     "start_time": "2021-04-16T09:44:02.837513Z"
    }
   },
   "outputs": [],
   "source": [
    "import fiona\n",
    "import os,os.path\n",
    "from shapely.geometry import shape,mapping\n",
    "from shapely.ops import transform\n",
    "from functools import partial\n",
    "import pyproj\n",
    "from fiona.crs import from_epsg\n",
    "import osmnx as ox\n",
    "import matplotlib.pyplot as plt\n",
    "import geopandas as gpd\n",
    "import glob\n",
    "import json\n",
    "import numpy as np\n",
    "import requests as rq\n",
    "import collections\n",
    "import logging\n",
    "import time\n",
    "from PIL import Image\n",
    "from io import BytesIO\n",
    "import pandas as pd\n",
    "import dateutil.parser\n",
    "from tqdm import tqdm\n",
    "import os\n",
    "%matplotlib inline"
   ]
  },
  {
   "cell_type": "code",
   "execution_count": 77,
   "metadata": {
    "ExecuteTime": {
     "end_time": "2021-04-16T09:44:03.307820Z",
     "start_time": "2021-04-16T09:44:03.302763Z"
    }
   },
   "outputs": [],
   "source": [
    "# Create a custom logger\n",
    "logger = logging.getLogger(__name__)\n",
    "\n",
    "# Create handlers\n",
    "f_handler = logging.FileHandler('Mapillary_download.log')\n",
    "f_handler.setLevel(logging.DEBUG)\n",
    "\n",
    "# Create formatters and add it to handlers\n",
    "f_format = logging.Formatter('%(asctime)s - %(name)s - %(levelname)s - %(message)s')\n",
    "f_handler.setFormatter(f_format)\n",
    "\n",
    "# Add handlers to the logger\n",
    "logger.addHandler(f_handler)"
   ]
  },
  {
   "cell_type": "code",
   "execution_count": 78,
   "metadata": {
    "ExecuteTime": {
     "end_time": "2021-04-16T09:44:03.880613Z",
     "start_time": "2021-04-16T09:44:03.876342Z"
    }
   },
   "outputs": [],
   "source": [
    "root= '/datasets_1/sagarj/BellLabs/CitySV_Data/city_centers_sampling/'\n",
    "imageDownloadPath = '/datasets_1/sagarj/BellLabs/CitySV_Data/CITY_MAPPILARY_IMAGES/'\n",
    "cities = os.listdir(root)\n",
    "mapillary_Image_url = 'https://images.mapillary.com/' #<image_key>/thumb-640.jpg"
   ]
  },
  {
   "cell_type": "code",
   "execution_count": 79,
   "metadata": {
    "ExecuteTime": {
     "end_time": "2021-04-16T09:44:04.424249Z",
     "start_time": "2021-04-16T09:44:04.418724Z"
    }
   },
   "outputs": [
    {
     "data": {
      "text/plain": [
       "['Helsinki, Helsinki sub-region, Uusimaa, Southern Finland, Mainland Finland, Finland',\n",
       " 'Madrid, Área metropolitana de Madrid y Corredor del Henares, Community of Madrid, 28001, Spain',\n",
       " 'Berlin, Germany',\n",
       " 'Moscow, Central Federal District, Russia',\n",
       " 'London, Greater London, England, United Kingdom',\n",
       " 'Munich, Bavaria, Germany',\n",
       " 'Zurich, District Zurich, Zurich, Switzerland',\n",
       " 'Paris, Ile-de-France, Metropolitan France, France',\n",
       " 'Vienna, Austria',\n",
       " 'Stockholms kommun, Stockholm County, Sweden',\n",
       " 'Manhattan, New York County, New York, United States',\n",
       " 'San Francisco, California, United States',\n",
       " 'Chicago, Cook County, Illinois, United States',\n",
       " 'Los Angeles, Los Angeles County, California, United States',\n",
       " 'Toronto, Golden Horseshoe, Ontario, Canada',\n",
       " 'Hamburg, Germany',\n",
       " 'Dusseldorf, North Rhine-Westphalia, Germany',\n",
       " 'Tokyo, Japan',\n",
       " 'Houston, Harris County, Texas, United States',\n",
       " 'Frankfurt, Hesse, Germany',\n",
       " 'New York, United States']"
      ]
     },
     "execution_count": 79,
     "metadata": {},
     "output_type": "execute_result"
    }
   ],
   "source": [
    "cities"
   ]
  },
  {
   "cell_type": "code",
   "execution_count": 80,
   "metadata": {
    "ExecuteTime": {
     "end_time": "2021-04-16T09:44:05.084297Z",
     "start_time": "2021-04-16T09:44:04.945644Z"
    }
   },
   "outputs": [],
   "source": [
    "jsons = glob.glob(root+'*/*/*.json')"
   ]
  },
  {
   "cell_type": "code",
   "execution_count": 81,
   "metadata": {
    "ExecuteTime": {
     "end_time": "2021-04-16T09:44:05.868086Z",
     "start_time": "2021-04-16T09:44:05.865101Z"
    }
   },
   "outputs": [],
   "source": [
    "# jsons[10000:20000]"
   ]
  },
  {
   "cell_type": "code",
   "execution_count": 82,
   "metadata": {
    "ExecuteTime": {
     "end_time": "2021-04-16T09:44:32.961141Z",
     "start_time": "2021-04-16T09:44:06.460310Z"
    }
   },
   "outputs": [],
   "source": [
    "Final_images = {} \n",
    "cityHash = {}\n",
    "for f in jsons:\n",
    "    city = f.split('/')[6].split(',')[0].strip()\n",
    "    ImageDict = json.load(open(f,'r'))\n",
    "    for image in ImageDict:\n",
    "        if image['properties']['key'] not in Final_images:\n",
    "            Final_images[image['properties']['key']] = image\n",
    "            cityHash[image['properties']['key']] = city"
   ]
  },
  {
   "cell_type": "code",
   "execution_count": 83,
   "metadata": {
    "ExecuteTime": {
     "end_time": "2021-04-16T09:44:32.999731Z",
     "start_time": "2021-04-16T09:44:32.962975Z"
    }
   },
   "outputs": [
    {
     "name": "stdout",
     "output_type": "stream",
     "text": [
      "798244\n"
     ]
    }
   ],
   "source": [
    "print(len(Final_images.keys()))\n",
    "img_keys = list(Final_images.keys())"
   ]
  },
  {
   "cell_type": "code",
   "execution_count": 84,
   "metadata": {
    "ExecuteTime": {
     "end_time": "2021-04-16T09:45:16.571486Z",
     "start_time": "2021-04-16T09:45:16.534741Z"
    }
   },
   "outputs": [],
   "source": [
    "def FilterByTime(imageDict , ThreshYear, ThreshMonth ):\n",
    "    filtered = {}\n",
    "    for k in imageDict:\n",
    "        yourdate = dateutil.parser.parse(imageDict[k]['properties']['captured_at'])\n",
    "        if yourdate.year > ThreshYear and yourdate.month > ThreshMonth:\n",
    "            filtered[k] = imageDict[k]\n",
    "    return filtered\n",
    "\n",
    "def getYearDict(imageDict):\n",
    "    yearFreq = {}\n",
    "    for k in imageDict:\n",
    "        yourdate = dateutil.parser.parse(imageDict[k]['properties']['captured_at'])\n",
    "        if yourdate.year in yearFreq:\n",
    "            yearFreq[yourdate.year]+=1\n",
    "        else:\n",
    "            yearFreq[yourdate.year]=1\n",
    "    return yearFreq\n",
    "        "
   ]
  },
  {
   "cell_type": "code",
   "execution_count": 85,
   "metadata": {
    "ExecuteTime": {
     "end_time": "2021-04-16T09:45:17.714845Z",
     "start_time": "2021-04-16T09:45:17.708427Z"
    }
   },
   "outputs": [
    {
     "data": {
      "text/plain": [
       "{'type': 'Feature',\n",
       " 'properties': {'ca': 61.705896614195865,\n",
       "  'camera_make': 'samsung',\n",
       "  'camera_model': 'SM-G930F',\n",
       "  'captured_at': '2017-03-24T11:48:28.010Z',\n",
       "  'key': 'IuWoSanUEv3R1bRw6xqwiQ',\n",
       "  'pano': False,\n",
       "  'sequence_key': 'ThtfC1OOOBamB6PdazArZA',\n",
       "  'user_key': 'NGhN-InWNjyIjPkg3uEWNw',\n",
       "  'username': 'jaakkoh',\n",
       "  'quality_score': 5},\n",
       " 'geometry': {'type': 'Point', 'coordinates': [24.9299466, 60.1644196]}}"
      ]
     },
     "execution_count": 85,
     "metadata": {},
     "output_type": "execute_result"
    }
   ],
   "source": [
    "Final_images[img_keys[10]]"
   ]
  },
  {
   "cell_type": "code",
   "execution_count": 86,
   "metadata": {
    "ExecuteTime": {
     "end_time": "2021-04-16T09:46:18.036208Z",
     "start_time": "2021-04-16T09:45:21.485097Z"
    }
   },
   "outputs": [],
   "source": [
    "yearFreq = getYearDict(Final_images)"
   ]
  },
  {
   "cell_type": "code",
   "execution_count": 87,
   "metadata": {
    "ExecuteTime": {
     "end_time": "2021-04-16T09:46:18.042027Z",
     "start_time": "2021-04-16T09:46:18.037992Z"
    }
   },
   "outputs": [
    {
     "data": {
      "text/plain": [
       "{2017: 95751,\n",
       " 2016: 74579,\n",
       " 2019: 183978,\n",
       " 2020: 196193,\n",
       " 2014: 11258,\n",
       " 2018: 127909,\n",
       " 2015: 50985,\n",
       " 2021: 50316,\n",
       " 2008: 248,\n",
       " 2012: 6347,\n",
       " 2013: 36,\n",
       " 2010: 119,\n",
       " 2009: 32,\n",
       " 1970: 6,\n",
       " 1913: 3,\n",
       " 2004: 1,\n",
       " 1994: 8,\n",
       " 1901: 2,\n",
       " 2003: 8,\n",
       " 2011: 353,\n",
       " 2006: 91,\n",
       " 2002: 8,\n",
       " 1921: 1,\n",
       " 2007: 10,\n",
       " 2005: 2}"
      ]
     },
     "execution_count": 87,
     "metadata": {},
     "output_type": "execute_result"
    }
   ],
   "source": [
    "yearFreq"
   ]
  },
  {
   "cell_type": "code",
   "execution_count": 88,
   "metadata": {
    "ExecuteTime": {
     "end_time": "2021-04-16T09:46:21.551337Z",
     "start_time": "2021-04-16T09:46:18.043896Z"
    }
   },
   "outputs": [],
   "source": [
    "pandas_dict = {'Imgkey':[] , 'long': [] , 'lat': [], 'isPano':[] , 'captureTime':[], 'long_lat_string' : [] , 'city':[]}  \n",
    "for k in Final_images:\n",
    "    pandas_dict['Imgkey'].append(Final_images[k]['properties']['key'])\n",
    "    pandas_dict['isPano'].append(Final_images[k]['properties']['pano'])\n",
    "    pandas_dict['captureTime'].append(Final_images[k]['properties']['captured_at'])\n",
    "    pandas_dict['long'].append(Final_images[k]['geometry']['coordinates'][0])\n",
    "    pandas_dict['lat'].append(Final_images[k]['geometry']['coordinates'][1])\n",
    "    coords = Final_images[k]['geometry']['coordinates']\n",
    "    pandas_dict['long_lat_string'].append(str(format(coords[0], '.4f')) + '_' + str(format(coords[1], '.4f')))\n",
    "    pandas_dict['city'].append(cityHash[k])\n",
    "mapillary_df = pd.DataFrame.from_dict(pandas_dict)"
   ]
  },
  {
   "cell_type": "code",
   "execution_count": 90,
   "metadata": {
    "ExecuteTime": {
     "end_time": "2021-04-16T12:54:20.690301Z",
     "start_time": "2021-04-16T12:54:20.584417Z"
    }
   },
   "outputs": [
    {
     "data": {
      "text/plain": [
       "{'Berlin',\n",
       " 'Chicago',\n",
       " 'Dusseldorf',\n",
       " 'Frankfurt',\n",
       " 'Hamburg',\n",
       " 'Helsinki',\n",
       " 'Houston',\n",
       " 'London',\n",
       " 'Los Angeles',\n",
       " 'Madrid',\n",
       " 'Manhattan',\n",
       " 'Moscow',\n",
       " 'Munich',\n",
       " 'New York',\n",
       " 'Paris',\n",
       " 'San Francisco',\n",
       " 'Stockholms kommun',\n",
       " 'Tokyo',\n",
       " 'Toronto',\n",
       " 'Vienna',\n",
       " 'Zurich'}"
      ]
     },
     "execution_count": 90,
     "metadata": {},
     "output_type": "execute_result"
    }
   ],
   "source": [
    "set(mapillary_df['city'])"
   ]
  },
  {
   "cell_type": "code",
   "execution_count": 91,
   "metadata": {
    "ExecuteTime": {
     "end_time": "2021-04-16T12:54:36.678451Z",
     "start_time": "2021-04-16T12:54:33.182036Z"
    }
   },
   "outputs": [],
   "source": [
    "mapillary_df.to_csv('scratchpad/Mappilary_image_data_df_V3.csv')"
   ]
  },
  {
   "cell_type": "code",
   "execution_count": 92,
   "metadata": {
    "ExecuteTime": {
     "end_time": "2021-04-16T12:54:38.291381Z",
     "start_time": "2021-04-16T12:54:38.286246Z"
    }
   },
   "outputs": [],
   "source": [
    "def getDownloaded(path):\n",
    "    filenames = glob.glob(path+'*.jpg')\n",
    "    imagekeys = [f.split('/')[-1].split('.')[0] for f in filenames]\n",
    "    return set(imagekeys)"
   ]
  },
  {
   "cell_type": "code",
   "execution_count": 93,
   "metadata": {
    "ExecuteTime": {
     "end_time": "2021-04-16T12:54:41.086433Z",
     "start_time": "2021-04-16T12:54:38.841186Z"
    }
   },
   "outputs": [
    {
     "name": "stdout",
     "output_type": "stream",
     "text": [
      "731573\n"
     ]
    }
   ],
   "source": [
    "downloaded = getDownloaded(imageDownloadPath)\n",
    "print(len(downloaded))"
   ]
  },
  {
   "cell_type": "code",
   "execution_count": 94,
   "metadata": {
    "ExecuteTime": {
     "end_time": "2021-04-16T12:54:54.860850Z",
     "start_time": "2021-04-16T12:54:54.586134Z"
    }
   },
   "outputs": [
    {
     "data": {
      "text/plain": [
       "66671"
      ]
     },
     "execution_count": 94,
     "metadata": {},
     "output_type": "execute_result"
    }
   ],
   "source": [
    "toDownload = [k for k in img_keys if k not in downloaded]\n",
    "len(toDownload)"
   ]
  },
  {
   "cell_type": "code",
   "execution_count": 95,
   "metadata": {
    "ExecuteTime": {
     "end_time": "2021-04-16T15:41:57.316648Z",
     "start_time": "2021-04-16T12:55:14.173567Z"
    }
   },
   "outputs": [
    {
     "name": "stderr",
     "output_type": "stream",
     "text": [
      " 88%|████████▊ | 58534/66671 [2:25:56<19:24,  6.99it/s]  IOPub message rate exceeded.\n",
      "The notebook server will temporarily stop sending output\n",
      "to the client in order to avoid crashing it.\n",
      "To change this limit, set the config variable\n",
      "`--NotebookApp.iopub_msg_rate_limit`.\n",
      "\n",
      "Current values:\n",
      "NotebookApp.iopub_msg_rate_limit=1000.0 (msgs/sec)\n",
      "NotebookApp.rate_limit_window=3.0 (secs)\n",
      "\n",
      "100%|██████████| 66671/66671 [2:46:42<00:00,  6.67it/s]\n"
     ]
    }
   ],
   "source": [
    "for k in tqdm(toDownload):\n",
    "    ImageKey = Final_images[k]['properties']['key']\n",
    "#     if ImageKey not in downloaded:\n",
    "    url = mapillary_Image_url + ImageKey + \"/thumb-640.jpg\"\n",
    "    logger.debug(\"Downloading: %s\"%(url))\n",
    "    response = rq.get(url)\n",
    "    if response.status_code == 200:\n",
    "        try:\n",
    "            img = Image.open(BytesIO(response.content))\n",
    "            filename = '%s/%s.%s' % (imageDownloadPath, ImageKey, 'jpg')\n",
    "            img.save(filename)\n",
    "        except:\n",
    "            logger.debug(\"Something bad happened while downloading: %s\"%(url))\n",
    "    else:\n",
    "        logger.debug(\"Download failed: %s\"%(url))"
   ]
  },
  {
   "cell_type": "code",
   "execution_count": null,
   "metadata": {},
   "outputs": [],
   "source": []
  }
 ],
 "metadata": {
  "kernelspec": {
   "display_name": "Python [conda env:opencv]",
   "language": "python",
   "name": "conda-env-opencv-py"
  },
  "language_info": {
   "codemirror_mode": {
    "name": "ipython",
    "version": 3
   },
   "file_extension": ".py",
   "mimetype": "text/x-python",
   "name": "python",
   "nbconvert_exporter": "python",
   "pygments_lexer": "ipython3",
   "version": "3.8.6"
  }
 },
 "nbformat": 4,
 "nbformat_minor": 2
}
