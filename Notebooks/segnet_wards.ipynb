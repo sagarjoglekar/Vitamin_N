{
 "cells": [
  {
   "cell_type": "code",
   "execution_count": 2,
   "metadata": {
    "ExecuteTime": {
     "end_time": "2019-10-22T13:28:29.954153Z",
     "start_time": "2019-10-22T13:28:29.934902Z"
    }
   },
   "outputs": [],
   "source": [
    "import pickle\n",
    "import requests\n",
    "import pandas as pd\n",
    "import numpy as np\n",
    "import matplotlib.pyplot as plt\n",
    "import matplotlib.cm as cm\n",
    "import geopandas as gpd\n",
    "import seaborn as sns\n",
    "from itertools import chain\n",
    "from matplotlib.colors import Normalize\n",
    "from matplotlib.collections import PatchCollection\n",
    "import matplotlib.font_manager as fm\n",
    "from mpl_toolkits.basemap import Basemap\n",
    "from shapely.geometry import Point, Polygon, MultiPoint, MultiPolygon, shape\n",
    "from shapely.prepared import prep\n",
    "from pysal.esda.mapclassify import Natural_Breaks as nb\n",
    "from descartes import PolygonPatch\n",
    "#import mpl_toolkits.basemap.pyproj as pyproj\n",
    "import fiona\n",
    "from fiona.crs import from_epsg\n",
    "import pysal as ps\n",
    "from pysal.contrib.viz import mapping as maps\n",
    "# import cartopy.crs as ccrs"
   ]
  },
  {
   "cell_type": "code",
   "execution_count": 2,
   "metadata": {},
   "outputs": [],
   "source": [
    "# # ensure we have Helvetica available\n",
    "# fm.findSystemFonts(fontpaths='/users/sth/fonts', fontext='ttf')\n",
    "# prop = fm.FontProperties(fname='/usr/share/fonts/truetype/ubuntu-font-family/UbuntuMono-R.ttf')\n",
    "\n",
    "# # Convenience functions for working with color ramps and bars\n",
    "# import matplotlib\n",
    "# def colorbar_index(ncolors, cmap, labels=None, **kwargs):\n",
    "#     \"\"\"\n",
    "#     This is a convenience function to stop you making off-by-one errors\n",
    "#     Takes a standard colourmap, and discretizes it,\n",
    "#     then draws a colour bar with correctly aligned labels\n",
    "#     \"\"\"\n",
    "#     cmap = cmap_discretize(cmap, ncolors)\n",
    "#     mappable = cm.ScalarMappable(cmap=cmap)\n",
    "#     mappable.set_array([])\n",
    "#     mappable.set_clim(-0.5, ncolors+0.5)\n",
    "#     colorbar = plt.colorbar(mappable, **kwargs)\n",
    "#     colorbar.set_ticks(np.linspace(0, ncolors, ncolors))\n",
    "#     colorbar.set_ticklabels(range(ncolors))\n",
    "#     if labels:\n",
    "#         colorbar.set_ticklabels(labels)\n",
    "#     return colorbar\n",
    "\n",
    "# def cmap_discretize(cmap, N):\n",
    "#     \"\"\"\n",
    "#     Return a discrete colormap from the continuous colormap cmap.\n",
    "    \n",
    "#         cmap: colormap instance, eg. cm.jet. \n",
    "#         N: number of colors.\n",
    "    \n",
    "#     Example\n",
    "#         x = resize(arange(100), (5,100))\n",
    "#         djet = cmap_discretize(cm.jet, 5)\n",
    "#         imshow(x, cmap=djet)\n",
    "\n",
    "#     \"\"\"\n",
    "#     if type(cmap) == str:\n",
    "#         cmap = get_cmap(cmap)\n",
    "#     colors_i = np.concatenate((np.linspace(0, 1., N), (0., 0., 0., 0.)))\n",
    "#     colors_rgba = cmap(colors_i)\n",
    "#     indices = np.linspace(0, 1., N + 1)\n",
    "#     cdict = {}\n",
    "#     for ki,key in enumerate(('red','green','blue')):\n",
    "#         cdict[key] = [(indices[i], colors_rgba[i - 1, ki], colors_rgba[i, ki]) for i in range(N + 1)]\n",
    "#     return matplotlib.colors.LinearSegmentedColormap(cmap.name + \"_%d\" % N, cdict, 1024)"
   ]
  },
  {
   "cell_type": "code",
   "execution_count": 3,
   "metadata": {
    "ExecuteTime": {
     "end_time": "2019-10-22T13:28:46.976340Z",
     "start_time": "2019-10-22T13:28:46.935241Z"
    }
   },
   "outputs": [
    {
     "ename": "IOError",
     "evalue": "no such file or directory: 'data/london_wards.shp'",
     "output_type": "error",
     "traceback": [
      "\u001b[0;31m---------------------------------------------------------------------------\u001b[0m",
      "\u001b[0;31mIOError\u001b[0m                                   Traceback (most recent call last)",
      "\u001b[0;32m<ipython-input-3-19ba7e3878d5>\u001b[0m in \u001b[0;36m<module>\u001b[0;34m()\u001b[0m\n\u001b[1;32m      1\u001b[0m \u001b[0;31m# ogr2ogr -t_srs EPSG:4326 LB_WGS84.shp London_Borough_Excluding_MHW.shp\u001b[0m\u001b[0;34m\u001b[0m\u001b[0;34m\u001b[0m\u001b[0m\n\u001b[0;32m----> 2\u001b[0;31m \u001b[0mshp\u001b[0m \u001b[0;34m=\u001b[0m \u001b[0mfiona\u001b[0m\u001b[0;34m.\u001b[0m\u001b[0mopen\u001b[0m\u001b[0;34m(\u001b[0m\u001b[0;34m'data/london_wards.shp'\u001b[0m\u001b[0;34m)\u001b[0m \u001b[0;31m# London_Borough_Excluding_MHW_wgs84.shp\u001b[0m\u001b[0;34m\u001b[0m\u001b[0m\n\u001b[0m\u001b[1;32m      3\u001b[0m \u001b[0mcrs_data\u001b[0m \u001b[0;34m=\u001b[0m \u001b[0mshp\u001b[0m\u001b[0;34m.\u001b[0m\u001b[0mcrs\u001b[0m\u001b[0;34m\u001b[0m\u001b[0m\n\u001b[1;32m      4\u001b[0m \u001b[0;32mprint\u001b[0m\u001b[0;34m(\u001b[0m\u001b[0mcrs_data\u001b[0m\u001b[0;34m)\u001b[0m\u001b[0;34m\u001b[0m\u001b[0m\n\u001b[1;32m      5\u001b[0m \u001b[0mbds\u001b[0m \u001b[0;34m=\u001b[0m \u001b[0mshp\u001b[0m\u001b[0;34m.\u001b[0m\u001b[0mbounds\u001b[0m\u001b[0;34m\u001b[0m\u001b[0m\n",
      "\u001b[0;32m/usr/local/lib/python2.7/dist-packages/fiona/__init__.pyc\u001b[0m in \u001b[0;36mopen\u001b[0;34m(path, mode, driver, schema, crs, encoding, layer, vfs, enabled_drivers, crs_wkt)\u001b[0m\n\u001b[1;32m    164\u001b[0m                 \u001b[0;32mraise\u001b[0m \u001b[0mIOError\u001b[0m\u001b[0;34m(\u001b[0m\u001b[0;34m\"no such archive file: %r\"\u001b[0m \u001b[0;34m%\u001b[0m \u001b[0marchive\u001b[0m\u001b[0;34m)\u001b[0m\u001b[0;34m\u001b[0m\u001b[0m\n\u001b[1;32m    165\u001b[0m         \u001b[0;32melif\u001b[0m \u001b[0mpath\u001b[0m \u001b[0;34m!=\u001b[0m \u001b[0;34m'-'\u001b[0m \u001b[0;32mand\u001b[0m \u001b[0;32mnot\u001b[0m \u001b[0mos\u001b[0m\u001b[0;34m.\u001b[0m\u001b[0mpath\u001b[0m\u001b[0;34m.\u001b[0m\u001b[0mexists\u001b[0m\u001b[0;34m(\u001b[0m\u001b[0mpath\u001b[0m\u001b[0;34m)\u001b[0m\u001b[0;34m:\u001b[0m\u001b[0;34m\u001b[0m\u001b[0m\n\u001b[0;32m--> 166\u001b[0;31m             \u001b[0;32mraise\u001b[0m \u001b[0mIOError\u001b[0m\u001b[0;34m(\u001b[0m\u001b[0;34m\"no such file or directory: %r\"\u001b[0m \u001b[0;34m%\u001b[0m \u001b[0mpath\u001b[0m\u001b[0;34m)\u001b[0m\u001b[0;34m\u001b[0m\u001b[0m\n\u001b[0m\u001b[1;32m    167\u001b[0m         c = Collection(path, mode, driver=driver, encoding=encoding,\n\u001b[1;32m    168\u001b[0m                        \u001b[0mlayer\u001b[0m\u001b[0;34m=\u001b[0m\u001b[0mlayer\u001b[0m\u001b[0;34m,\u001b[0m \u001b[0mvsi\u001b[0m\u001b[0;34m=\u001b[0m\u001b[0mvsi\u001b[0m\u001b[0;34m,\u001b[0m \u001b[0marchive\u001b[0m\u001b[0;34m=\u001b[0m\u001b[0marchive\u001b[0m\u001b[0;34m,\u001b[0m\u001b[0;34m\u001b[0m\u001b[0m\n",
      "\u001b[0;31mIOError\u001b[0m: no such file or directory: 'data/london_wards.shp'"
     ]
    }
   ],
   "source": [
    "# ogr2ogr -t_srs EPSG:4326 LB_WGS84.shp London_Borough_Excluding_MHW.shp\n",
    "shp = fiona.open('data/london_wards.shp') # London_Borough_Excluding_MHW_wgs84.shp\n",
    "crs_data = shp.crs\n",
    "print(crs_data)\n",
    "bds = shp.bounds\n",
    "print (bds)\n",
    "shp.close()\n",
    "extra = 0.01\n",
    "# bounds need to be datum-shifted\n",
    "#wgs84 = pyproj.Proj(\"+init=EPSG:4326\")\n",
    "#osgb36 = pyproj.Proj(\"+init=EPSG:27700\")\n",
    "#ll = pyproj.transform(osgb36, wgs84, bds[0], bds[1])\n",
    "#ur = pyproj.transform(osgb36, wgs84, bds[2], bds[3])\n",
    "ll = (bds[0], bds[1])\n",
    "ur = (bds[2], bds[3])\n",
    "coords = list(chain(ll, ur))\n",
    "print (coords)\n",
    "\n",
    "w, h = coords[2] - coords[0], coords[3] - coords[1]\n",
    "\n",
    "print (w,h)"
   ]
  },
  {
   "cell_type": "code",
   "execution_count": 5,
   "metadata": {},
   "outputs": [
    {
     "data": {
      "text/plain": [
       "(649,\n",
       " 5,\n",
       " [-0.5103750689005356, 51.28676016315085, 0.0, 0.0],\n",
       " [0.3340155643740321, 51.691874116909894, 0.0, 0.0],\n",
       " <matplotlib.collections.LineCollection at 0x7f74570de4e0>)"
      ]
     },
     "execution_count": 5,
     "metadata": {},
     "output_type": "execute_result"
    },
    {
     "data": {
      "image/png": "[encoded data removed]",
      "text/plain": [
       "<Figure size 432x288 with 1 Axes>"
      ]
     },
     "metadata": {},
     "output_type": "display_data"
    }
   ],
   "source": [
    "m = Basemap(\n",
    "    projection='tmerc',\n",
    "    lon_0 = -2.,\n",
    "    lat_0 = 49.,\n",
    "    ellps = 'WGS84',\n",
    "    llcrnrlon=coords[0] - extra * w,\n",
    "    llcrnrlat=coords[1] - extra + 0.01 * h,\n",
    "    urcrnrlon=coords[2] + extra * w,\n",
    "    urcrnrlat=coords[3] + extra + 0.01 * h,\n",
    "    lat_ts=0,\n",
    "    resolution='i',\n",
    "    suppress_ticks=True)\n",
    "\n",
    "m.readshapefile(\n",
    "    'data/london_wards',\n",
    "    'london',\n",
    "    color='none',\n",
    "    zorder=2)"
   ]
  },
  {
   "cell_type": "code",
   "execution_count": 6,
   "metadata": {},
   "outputs": [],
   "source": [
    "london_polys = []\n",
    "borough_names = []\n",
    "for w_ind in range(len(m.london_info)):\n",
    "    w = m.london_info[w_ind]\n",
    "    if w['NAME'] in borough_names:\n",
    "        london_polys[-1] = Polygon(m.london[w_ind])\n",
    "        continue\n",
    "    borough_names.append(w['NAME'])    \n",
    "    london_polys.append(Polygon(m.london[w_ind]))\n",
    "    \n",
    "df_map = pd.DataFrame({\n",
    "    'poly': london_polys,\n",
    "    'borough_name': borough_names,\n",
    "})\n",
    "df_map['area_m'] = df_map['poly'].map(lambda x: x.area)\n",
    "df_map['area_km'] = df_map['area_m'] / 100000\n",
    "df_map['borough_name'] = df_map['borough_name'].str.strip()"
   ]
  },
  {
   "cell_type": "code",
   "execution_count": 7,
   "metadata": {},
   "outputs": [],
   "source": [
    "data_file1 = 'data/GreaterLondon_NoRot_segnet.csv'\n",
    "lonlat_data_file = 'greater_london_points.csv'\n",
    "\n",
    "gsview_lonlat = {}\n",
    "fdata = {}\n",
    "fdata_map_points = {}\n",
    "gsview_data = {}\n",
    "all_tags = {}\n",
    "count = 0\n",
    "threshold = 0.95\n",
    "\n",
    "with open(lonlat_data_file, 'r', encoding='utf-8') as infile:\n",
    "    for line in infile:\n",
    "        fields = line.strip().split(',')\n",
    "        gsview_lonlat['_'.join([fields[0], fields[1], '0'])] = (float(fields[2]),float(fields[3]))               \n",
    "        \n",
    "count = 0\n",
    "with open(data_file1, 'r', encoding='utf-8') as infile:\n",
    "    for line in infile:\n",
    "        count += 1\n",
    "        \n",
    "        if count == 1:\n",
    "            continue\n",
    "        fields = line.strip().split('|')\n",
    "        # ignore the rotation tag 0,1,2,4 for angle of rotation\n",
    "        if len(fields) < 2:\n",
    "            continue\n",
    "        \n",
    "        way_id   = fields[0]\n",
    "        point_id = fields[1]\n",
    "        rotation = fields[2]\n",
    "        fields[3] = fields[3][1:-1]\n",
    "        scene_list = list(map(float, fields[3].split(', ')))\n",
    "        latitude  = gsview_lonlat['_'.join(fields[:3])][0]\n",
    "        longitude = gsview_lonlat['_'.join(fields[:3])][1]\n",
    "        fdata_map_points[m(longitude, latitude)] = scene_list\n",
    "        "
   ]
  },
  {
   "cell_type": "code",
   "execution_count": 8,
   "metadata": {},
   "outputs": [],
   "source": [
    "map_points = pd.Series(\n",
    "    [Point(map_point) for map_point in fdata_map_points])\n",
    "plaque_points = MultiPoint(list(map_points.values))\n",
    "wards_polygon = prep(MultiPolygon(list(df_map['poly'].values)))\n",
    "# calculate points that fall within the London boundary\n",
    "ldn_points = list(filter(wards_polygon.contains, plaque_points))"
   ]
  },
  {
   "cell_type": "code",
   "execution_count": 9,
   "metadata": {},
   "outputs": [
    {
     "data": {
      "text/plain": [
       "627"
      ]
     },
     "execution_count": 9,
     "metadata": {},
     "output_type": "execute_result"
    }
   ],
   "source": [
    "len(df_map)"
   ]
  },
  {
   "cell_type": "code",
   "execution_count": 10,
   "metadata": {},
   "outputs": [
    {
     "data": {
      "text/plain": [
       "0               Chessington South Ward\n",
       "1          Tolworth and Hook Rise Ward\n",
       "2                      Berrylands Ward\n",
       "3                       Alexandra Ward\n",
       "4                        Beverley Ward\n",
       "5                     Coombe Hill Ward\n",
       "6      Chessington North and Hook Ward\n",
       "7                   Surbiton Hill Ward\n",
       "8                      Old Malden Ward\n",
       "9                      St. Mark's Ward\n",
       "10                          Grove Ward\n",
       "11                        Canbury Ward\n",
       "12                       Norbiton Ward\n",
       "13                    Coombe Vale Ward\n",
       "14                      St. James Ward\n",
       "15                          Tudor Ward\n",
       "16                  Coulsdon East Ward\n",
       "17           Selsdon and Ballards Ward\n",
       "18                  Coulsdon West Ward\n",
       "19                         Waddon Ward\n",
       "20                         Kenley Ward\n",
       "21                         Purley Ward\n",
       "22                    Sanderstead Ward\n",
       "23                     Heathfield Ward\n",
       "24                      Fairfield Ward\n",
       "25                    Broad Green Ward\n",
       "26                  West Thornton Ward\n",
       "27                  Bensham Manor Ward\n",
       "28                        Norbury Ward\n",
       "29                  New Addington Ward\n",
       "                    ...               \n",
       "597                       Valence Ward\n",
       "598                         Heath Ward\n",
       "599                     Whalebone Ward\n",
       "600                     Eastbrook Ward\n",
       "601                Chadwell Heath Ward\n",
       "602                      Parsloes Ward\n",
       "603                Castle Baynard Ward\n",
       "604            Farringdon Without Ward\n",
       "605             Farringdon Within Ward\n",
       "606                   Cripplegate Ward\n",
       "607                     Langbourn Ward\n",
       "608                         Tower Ward\n",
       "609                   Bishopsgate Ward\n",
       "610                    Queenhithe Ward\n",
       "611                        Vintry Ward\n",
       "612                    Cordwainer Ward\n",
       "613                  Bread Street Ward\n",
       "614                         Cheap Ward\n",
       "615                     Bassishaw Ward\n",
       "616                    Aldersgate Ward\n",
       "617                       Dowgate Ward\n",
       "618                  Billingsgate Ward\n",
       "619                      Walbrook Ward\n",
       "620                      Cornhill Ward\n",
       "621                   Lime Street Ward\n",
       "622                       Aldgate Ward\n",
       "623                  Broad Street Ward\n",
       "624                Coleman Street Ward\n",
       "625                     Portsoken Ward\n",
       "626                    Candlewick Ward\n",
       "Name: borough_name, Length: 627, dtype: object"
      ]
     },
     "execution_count": 10,
     "metadata": {},
     "output_type": "execute_result"
    }
   ],
   "source": [
    "df_map['borough_name']"
   ]
  },
  {
   "cell_type": "code",
   "execution_count": 11,
   "metadata": {},
   "outputs": [],
   "source": [
    "map_points = pd.Series(\n",
    "    [Point(mapped_x, mapped_y) for (mapped_x, mapped_y) in fdata_map_points])\n",
    "gsview_points = MultiPoint(list(map_points.values))\n",
    "# calculate points that fall within the London boundary\n",
    "gsview_ldn_points = list(filter(wards_polygon.contains, gsview_points))\n",
    "# create a MultiPoint which we can check for set membership\n",
    "df_map['gsview_point_list'] = df_map['poly'].map(lambda x: list(filter(prep(x).contains, gsview_ldn_points)))\n",
    "df_map['gsview_segnet_tags_dict'] = df_map['gsview_point_list'].map(lambda x: [fdata_map_points[(p.x,p.y)] for p in x])"
   ]
  },
  {
   "cell_type": "code",
   "execution_count": 12,
   "metadata": {},
   "outputs": [],
   "source": [
    "np.mean(np.array(df_map['gsview_segnet_tags_dict'].iloc[0]), axis=0)\n",
    "scene_tags = []\n",
    "for index in range(len(df_map)):\n",
    "    scene_tags.append(np.mean(np.array(df_map['gsview_segnet_tags_dict'].iloc[index]), axis=0))\n",
    "df_map['gsview_tags'] = scene_tags\n",
    "\n",
    "cats = ['Sky', 'Building', 'Pole','Road_Marking','Road','Pavement','Tree','Sign_Symbol','Fence','Vehicle','Pedestrian', 'Bike']\n",
    "\n",
    "scene_tags_transpose = list(zip(*scene_tags))\n",
    "\n",
    "for index in range(len(cats)):\n",
    "    cat = cats[index]\n",
    "    df_map[cat] = scene_tags_transpose[index]"
   ]
  },
  {
   "cell_type": "code",
   "execution_count": 13,
   "metadata": {},
   "outputs": [
    {
     "data": {
      "text/plain": [
       "array([0.30453187, 0.1371739 , 0.00778149, 0.00828417, 0.18212216,\n",
       "       0.07428112, 0.21588047, 0.00092778, 0.02401823, 0.04197787,\n",
       "       0.00204985, 0.0009711 ])"
      ]
     },
     "execution_count": 13,
     "metadata": {},
     "output_type": "execute_result"
    }
   ],
   "source": [
    "df_map['gsview_tags'].iloc[0]"
   ]
  },
  {
   "cell_type": "code",
   "execution_count": 14,
   "metadata": {},
   "outputs": [
    {
     "data": {
      "text/plain": [
       "Index(['borough_name', 'poly', 'area_m', 'area_km', 'gsview_point_list',\n",
       "       'gsview_segnet_tags_dict', 'gsview_tags', 'Sky', 'Building', 'Pole',\n",
       "       'Road_Marking', 'Road', 'Pavement', 'Tree', 'Sign_Symbol', 'Fence',\n",
       "       'Vehicle', 'Pedestrian', 'Bike'],\n",
       "      dtype='object')"
      ]
     },
     "execution_count": 14,
     "metadata": {},
     "output_type": "execute_result"
    }
   ],
   "source": [
    "df_map.columns"
   ]
  },
  {
   "cell_type": "code",
   "execution_count": 15,
   "metadata": {},
   "outputs": [
    {
     "name": "stdout",
     "output_type": "stream",
     "text": [
      "Sky  :  0.2430687618708451\n",
      "Tree  :  0.23805878294159546\n",
      "Road  :  0.1814707235280153\n",
      "Building  :  0.15325914055080728\n",
      "Pavement  :  0.08602719907407409\n",
      "==========\n",
      "Sky  :  0.27662675865800856\n",
      "Building  :  0.2628146043771043\n",
      "Road  :  0.1618668079605579\n",
      "Pavement  :  0.09922092953342955\n",
      "Tree  :  0.07911112614237617\n",
      "==========\n",
      "Sky  :  0.27221936728395063\n",
      "Building  :  0.22048657407407413\n",
      "Road  :  0.1916836419753088\n",
      "Tree  :  0.1255858796296297\n",
      "Pavement  :  0.08064645061728391\n",
      "==========\n",
      "Sky  :  0.29637006438910174\n",
      "Tree  :  0.25805768412090246\n",
      "Road  :  0.1756881917837377\n",
      "Building  :  0.10213747871434654\n",
      "Pavement  :  0.07021292305236271\n",
      "==========\n",
      "Sky  :  0.29076215277777784\n",
      "Tree  :  0.25559459876543217\n",
      "Road  :  0.18059672067901225\n",
      "Building  :  0.11867685185185183\n",
      "Pavement  :  0.06626165123456791\n",
      "==========\n"
     ]
    }
   ],
   "source": [
    "#df_map['gsview_tags'].plot.hist()\n",
    "#sns.barplot(data=[np.array(df_map['gsview_tags'].iloc[19]),range(205)])\n",
    "#sns.distplot(df_map['gsview_tags'].iloc[19]);\n",
    "import numpy as np\n",
    "cats = ['Sky', 'Building', 'Pole','Road_Marking','Road','Pavement','Tree','Sign_Symbol','Fence','Vehicle','Pedestrian', 'Bike']\n",
    "\n",
    "top5 = [19, 27, 25, 29, 21]\n",
    "\n",
    "for i in top5:\n",
    "    places_list = np.array(df_map['gsview_tags'].iloc[i])\n",
    "    ind = np.argpartition(places_list, -5)[-5:]\n",
    "    ind = ind[np.argsort(places_list[ind])][::-1]\n",
    "    for j in ind:\n",
    "        place = cats[j]\n",
    "        print (place, \" : \", places_list[j])\n",
    "    print ('==========')    \n",
    "    \n",
    "#print (places)\n",
    "#width = 1/1.5\n",
    "#plt.bar(range(205), df_map['gsview_tags'].iloc[19], width, color=\"blue\")\n",
    "\n"
   ]
  },
  {
   "cell_type": "code",
   "execution_count": 16,
   "metadata": {},
   "outputs": [
    {
     "name": "stdout",
     "output_type": "stream",
     "text": [
      "Sky  :  0.3254156057098765\n",
      "Tree  :  0.17334355709876537\n",
      "Road  :  0.1633095100308642\n",
      "Building  :  0.15382513503086417\n",
      "Pavement  :  0.08363474151234568\n",
      "==========\n",
      "Sky  :  0.4812529906164557\n",
      "Tree  :  0.19817156817051979\n",
      "Road  :  0.13952037503107131\n",
      "Building  :  0.06197990461098684\n",
      "Pavement  :  0.052448305058414156\n",
      "==========\n",
      "Sky  :  0.2820528442215362\n",
      "Tree  :  0.24419667352537727\n",
      "Road  :  0.15818372770919067\n",
      "Building  :  0.13397215792181075\n",
      "Pavement  :  0.084516300154321\n",
      "==========\n",
      "Tree  :  0.24532232042648716\n",
      "Sky  :  0.2372335332491583\n",
      "Road  :  0.17861097958754205\n",
      "Building  :  0.16619620686026945\n",
      "Pavement  :  0.08401300329685744\n",
      "==========\n",
      "Sky  :  0.2666602860873694\n",
      "Building  :  0.2369094254510921\n",
      "Road  :  0.18479070216049384\n",
      "Tree  :  0.10751810303893639\n",
      "Pavement  :  0.07997981956315292\n",
      "==========\n"
     ]
    }
   ],
   "source": [
    "top5 = [31, 5, 32, 30, 26]\n",
    "\n",
    "cats = ['Sky', 'Building', 'Pole','Road_Marking','Road','Pavement','Tree','Sign_Symbol','Fence','Vehicle','Pedestrian', 'Bike']\n",
    "\n",
    "for i in top5:\n",
    "    places_list = np.array(df_map['gsview_tags'].iloc[i])\n",
    "    ind = np.argpartition(places_list, -5)[-5:]\n",
    "    ind = ind[np.argsort(places_list[ind])][::-1]\n",
    "    for j in ind:\n",
    "        place = cats[j]\n",
    "        print (place, \" : \", places_list[j])\n",
    "    print ('==========')    "
   ]
  },
  {
   "cell_type": "code",
   "execution_count": 50,
   "metadata": {},
   "outputs": [
    {
     "data": {
      "text/plain": [
       "Index(['borough_name', 'poly', 'area_m', 'area_km', 'gsview_point_list',\n",
       "       'gsview_segnet_tags_dict', 'gsview_tags', 'Sky', 'Building', 'Pole',\n",
       "       'Road_Marking', 'Road', 'Pavement', 'Tree', 'Sign_Symbol', 'Fence',\n",
       "       'Vehicle', 'Pedestrian', 'Bike'],\n",
       "      dtype='object')"
      ]
     },
     "execution_count": 50,
     "metadata": {},
     "output_type": "execute_result"
    }
   ],
   "source": [
    "df_map.columns"
   ]
  },
  {
   "cell_type": "code",
   "execution_count": 17,
   "metadata": {},
   "outputs": [],
   "source": [
    "df_map.to_pickle('wards_segnet.pkl')"
   ]
  },
  {
   "cell_type": "code",
   "execution_count": null,
   "metadata": {},
   "outputs": [],
   "source": []
  }
 ],
 "metadata": {
  "kernelspec": {
   "display_name": "Python 2",
   "language": "python",
   "name": "python2"
  },
  "language_info": {
   "codemirror_mode": {
    "name": "ipython",
    "version": 2
   },
   "file_extension": ".py",
   "mimetype": "text/x-python",
   "name": "python",
   "nbconvert_exporter": "python",
   "pygments_lexer": "ipython2",
   "version": "2.7.12"
  }
 },
 "nbformat": 4,
 "nbformat_minor": 2
}
