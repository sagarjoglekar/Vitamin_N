{
 "cells": [
  {
   "cell_type": "code",
   "execution_count": 1,
   "metadata": {
    "ExecuteTime": {
     "end_time": "2019-10-30T12:16:09.926986Z",
     "start_time": "2019-10-30T12:16:09.247637Z"
    }
   },
   "outputs": [],
   "source": [
    "    import fiona\n",
    "    import os,os.path\n",
    "    from shapely.geometry import shape,mapping\n",
    "    from shapely.ops import transform\n",
    "    from functools import partial\n",
    "    import pyproj\n",
    "    from fiona.crs import from_epsg\n",
    "    import osmnx as ox\n",
    "    import matplotlib.pyplot as plt\n",
    "    import geopandas as gpd\n",
    "\n",
    "    %matplotlib inline"
   ]
  },
  {
   "cell_type": "code",
   "execution_count": 2,
   "metadata": {
    "ExecuteTime": {
     "end_time": "2019-10-30T12:16:10.458942Z",
     "start_time": "2019-10-30T12:16:10.366392Z"
    }
   },
   "outputs": [],
   "source": [
    "def createPoints(root_Dir, inshp , outshp, mini_dist):\n",
    "    \n",
    "    '''\n",
    "    This function will parse through the street network of provided city and\n",
    "    clean all highways and create points every mini_dist meters (or as specified) along\n",
    "    the linestrings\n",
    "    Required modules: Fiona and Shapely\n",
    "\n",
    "    parameters:\n",
    "        inshp: the input linear shapefile, must be in WGS84 projection, ESPG: 4326\n",
    "        output: the result point feature class\n",
    "        mini_dist: the minimum distance between two created point\n",
    "\n",
    "    last modified by Xiaojiang Li, MIT Senseable City Lab\n",
    "    \n",
    "    '''\n",
    "    inshp = root_Dir + inshp\n",
    "    outshp = root_Dir + outshp\n",
    "    input_crs = ''\n",
    "    count = 0\n",
    "    s = {'trunk_link','tertiary','motorway','motorway_link','steps', None, ' ','pedestrian','primary', 'primary_link','footway','tertiary_link', 'trunk','secondary','secondary_link','tertiary_link','bridleway','service'}\n",
    "    \n",
    "    # the temporaray file of the cleaned data\n",
    "    root = os.path.dirname(root_Dir)\n",
    "    basename = 'clean_' + os.path.basename(inshp)\n",
    "    temp_cleanedStreetmap = os.path.join(root,basename)\n",
    "    c = fiona.open(inshp)\n",
    "    input_crs = c.crs['init']\n",
    "    c.close()\n",
    "    # if the tempfile exist then delete it\n",
    "    if os.path.exists(temp_cleanedStreetmap):\n",
    "        fiona.remove(temp_cleanedStreetmap, 'ESRI Shapefile')\n",
    "    \n",
    "    # clean the original street maps by removing highways, if it the street map not from Open street data, users'd better to clean the data themselve\n",
    "    with fiona.open(inshp) as source, fiona.open(temp_cleanedStreetmap, 'w', driver=source.driver, crs=source.crs,schema=source.schema) as dest:\n",
    "        for feat in source:\n",
    "            try:\n",
    "                i = feat['properties']['highway'] # for the OSM street data\n",
    "                if i in s:\n",
    "                    continue\n",
    "            except:\n",
    "                # if the street map is not osm, do nothing. You'd better to clean the street map, if you don't want to map the GVI for highways\n",
    "                key = dest.schema['properties'].keys()[0] # get the field of the input shapefile and duplicate the input feature\n",
    "                i = feat['properties'][key]\n",
    "                if i in s:\n",
    "                    continue\n",
    "            \n",
    "            dest.write(feat)\n",
    "\n",
    "    schema = {\n",
    "        'geometry': 'Point',\n",
    "        'properties': {'id': 'int'},\n",
    "    }\n",
    "\n",
    "    # Create pointS along the streets\n",
    "    with fiona.drivers():\n",
    "        #with fiona.open(outshp, 'w', 'ESRI Shapefile', crs=source.crs, schema) as output:\n",
    "        with fiona.open(outshp, 'w', crs = from_epsg(4326), driver = 'ESRI Shapefile', schema = schema) as output:\n",
    "            for line in fiona.open(temp_cleanedStreetmap):\n",
    "                first = shape(line['geometry'])\n",
    "                \n",
    "                length = first.length\n",
    "                \n",
    "                try:\n",
    "                    # convert degree to meter, in order to split by distance in meter\n",
    "                    project = partial(pyproj.transform,pyproj.Proj(init=input_crs),pyproj.Proj(init='EPSG:3857')) #3857 is psudo WGS84 the unit is meter\n",
    "                    \n",
    "                    line2 = transform(project, first)\n",
    "                    linestr = list(line2.coords)\n",
    "                    dist = mini_dist #set\n",
    "                    for distance in range(0,int(line2.length), dist):\n",
    "                        point = line2.interpolate(distance)\n",
    "                        \n",
    "                        # convert the local projection back the the WGS84 and write to the output shp\n",
    "                        project2 = partial(pyproj.transform,pyproj.Proj(init='EPSG:3857'),pyproj.Proj(init='EPSG:4326'))\n",
    "                        point = transform(project2, point)\n",
    "                        output.write({'geometry':mapping(point),'properties': {'id':1}})\n",
    "                except:\n",
    "                    print (\"You should make sure the input shapefile is WGS84\")\n",
    "                    return\n",
    "                    \n",
    "    print(\"Process Complete\")\n",
    "    \n",
    "    # delete the temprary cleaned shapefile\n",
    "    fiona.remove(temp_cleanedStreetmap, 'ESRI Shapefile')\n"
   ]
  },
  {
   "cell_type": "code",
   "execution_count": 21,
   "metadata": {
    "ExecuteTime": {
     "end_time": "2019-10-30T13:37:17.989343Z",
     "start_time": "2019-10-30T13:37:17.985791Z"
    }
   },
   "outputs": [],
   "source": [
    " place_name = \"GreaterLondon\""
   ]
  },
  {
   "cell_type": "code",
   "execution_count": 22,
   "metadata": {
    "ExecuteTime": {
     "end_time": "2019-10-30T13:37:18.440527Z",
     "start_time": "2019-10-30T13:37:18.435702Z"
    }
   },
   "outputs": [],
   "source": [
    "# place_name = \"Greater London\"\n",
    "# graph = ox.graph_from_place(place_name,network_type='drive')\n",
    "# # buildings = ox.buildings_from_place(place_name)\n",
    "# nodes, edges = ox.graph_to_gdfs(graph)\n",
    "# # fig, ax = ox.plot_graph(graph)\n",
    "# # plt.tight_layout()\n",
    "# G_projected = ox.project_graph(graph)\n",
    "# ox.save_graph_shapefile(G_projected, filename='../Data/'+place_name)"
   ]
  },
  {
   "cell_type": "code",
   "execution_count": 23,
   "metadata": {
    "ExecuteTime": {
     "end_time": "2019-10-30T13:37:35.713611Z",
     "start_time": "2019-10-30T13:37:18.991331Z"
    }
   },
   "outputs": [],
   "source": [
    "roads = gpd.read_file('../Data/'+place_name+'/edges/edges.shp')"
   ]
  },
  {
   "cell_type": "code",
   "execution_count": 24,
   "metadata": {
    "ExecuteTime": {
     "end_time": "2019-10-30T13:37:35.725796Z",
     "start_time": "2019-10-30T13:37:35.719735Z"
    }
   },
   "outputs": [
    {
     "name": "stdout",
     "output_type": "stream",
     "text": [
      "{'init': u'epsg:32630'}\n"
     ]
    }
   ],
   "source": [
    "c = fiona.open('../Data/'+place_name+'/edges/edges.shp')\n",
    "crs = c.crs\n",
    "print crs"
   ]
  },
  {
   "cell_type": "code",
   "execution_count": null,
   "metadata": {
    "ExecuteTime": {
     "start_time": "2019-10-30T13:37:24.032Z"
    }
   },
   "outputs": [],
   "source": [
    "root = '../Data/'+place_name+'/edges/'\n",
    "createPoints(root , 'edges.shp', 'samples.shp',200)"
   ]
  },
  {
   "cell_type": "code",
   "execution_count": null,
   "metadata": {
    "ExecuteTime": {
     "start_time": "2019-10-30T13:37:44.671Z"
    }
   },
   "outputs": [],
   "source": [
    "points_samples = gpd.read_file('../Data/'+place_name+'/edges/samples.shp')"
   ]
  },
  {
   "cell_type": "code",
   "execution_count": null,
   "metadata": {
    "ExecuteTime": {
     "start_time": "2019-10-30T13:37:47.513Z"
    }
   },
   "outputs": [],
   "source": [
    "points_samples.head()"
   ]
  },
  {
   "cell_type": "code",
   "execution_count": null,
   "metadata": {
    "ExecuteTime": {
     "start_time": "2019-10-30T13:37:49.654Z"
    }
   },
   "outputs": [],
   "source": [
    "len(roads)"
   ]
  },
  {
   "cell_type": "code",
   "execution_count": null,
   "metadata": {
    "ExecuteTime": {
     "start_time": "2019-10-30T13:37:54.824Z"
    }
   },
   "outputs": [],
   "source": [
    "roads.head()"
   ]
  }
 ],
 "metadata": {
  "kernelspec": {
   "display_name": "Python 2",
   "language": "python",
   "name": "python2"
  },
  "language_info": {
   "codemirror_mode": {
    "name": "ipython",
    "version": 2
   },
   "file_extension": ".py",
   "mimetype": "text/x-python",
   "name": "python",
   "nbconvert_exporter": "python",
   "pygments_lexer": "ipython2",
   "version": "2.7.12"
  }
 },
 "nbformat": 4,
 "nbformat_minor": 2
}
