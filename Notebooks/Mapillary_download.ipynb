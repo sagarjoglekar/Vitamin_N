{
 "cells": [
  {
   "cell_type": "code",
   "execution_count": 3,
   "metadata": {
    "ExecuteTime": {
     "end_time": "2019-11-18T13:43:51.528800Z",
     "start_time": "2019-11-18T13:43:51.513046Z"
    }
   },
   "outputs": [],
   "source": [
    "    import fiona\n",
    "    import os,os.path\n",
    "    from shapely.geometry import shape,mapping\n",
    "    from shapely.ops import transform\n",
    "    from functools import partial\n",
    "    import pyproj\n",
    "    from fiona.crs import from_epsg\n",
    "    import osmnx as ox\n",
    "    import matplotlib.pyplot as plt\n",
    "    import geopandas as gpd\n",
    "    import glob\n",
    "    import json\n",
    "    import numpy as np\n",
    "    import requests as rq\n",
    "    import collections\n",
    "    import logging\n",
    "    import time\n",
    "    import dateutil.parser\n",
    "    %matplotlib inline"
   ]
  },
  {
   "cell_type": "code",
   "execution_count": 2,
   "metadata": {
    "ExecuteTime": {
     "end_time": "2019-11-18T13:23:12.278817Z",
     "start_time": "2019-11-18T13:23:12.269272Z"
    }
   },
   "outputs": [],
   "source": [
    "# Create a custom logger\n",
    "logger = logging.getLogger(__name__)\n",
    "\n",
    "# Create handlers\n",
    "f_handler = logging.FileHandler('Mapillary.log')\n",
    "f_handler.setLevel(logging.DEBUG)\n",
    "\n",
    "# Create formatters and add it to handlers\n",
    "f_format = logging.Formatter('%(asctime)s - %(name)s - %(levelname)s - %(message)s')\n",
    "f_handler.setFormatter(f_format)\n",
    "\n",
    "# Add handlers to the logger\n",
    "logger.addHandler(f_handler)"
   ]
  },
  {
   "cell_type": "code",
   "execution_count": 3,
   "metadata": {
    "ExecuteTime": {
     "end_time": "2019-11-14T21:55:20.450808Z",
     "start_time": "2019-11-14T21:55:20.445888Z"
    }
   },
   "outputs": [],
   "source": [
    "mapillary_Image_ID = 'https://a.mapillary.com/v3/images?client_id=OFFJd0ZNdzdWY0lkVVpyc2kyZThBZzpkYmIzYTVkYTgxMDBmYmY0&closeto='\n",
    "distanceFrag = '&radius=200'\n",
    "mapillary_Image_url = 'https://images.mapillary.com/' #<image_key>/thumb-640.jpg"
   ]
  },
  {
   "cell_type": "code",
   "execution_count": 4,
   "metadata": {
    "ExecuteTime": {
     "end_time": "2019-11-14T21:55:24.017334Z",
     "start_time": "2019-11-14T21:55:24.012308Z"
    }
   },
   "outputs": [],
   "source": [
    "city = '../Data/GreaterLondon/'\n",
    "files= glob.glob(city + '*.json')"
   ]
  },
  {
   "cell_type": "code",
   "execution_count": null,
   "metadata": {
    "ExecuteTime": {
     "start_time": "2019-11-14T21:56:17.784Z"
    }
   },
   "outputs": [],
   "source": [
    "for f in files:\n",
    "    name = 'Mapillary_'+'_'.join(f.split('/')[-1].split('_')[-2:])\n",
    "    logger.debug(\"Working with %s\"%(f))\n",
    "    first = json.load(open(f , 'rb'))\n",
    "    points = []\n",
    "    for k in first:\n",
    "        comps = k.split('_')\n",
    "        point = (comps[1].strip(),comps[0].strip())\n",
    "        points.append(point)\n",
    "    logger.debug('Found %d points in this file'%(len(points)))\n",
    "    \n",
    "    imagesMeta = []\n",
    "    for point in points:\n",
    "        loc= point[0]+','+point[1]\n",
    "        finalUrl = mapillary_Image_ID + loc + distanceFrag\n",
    "        try:\n",
    "            response = rq.get(finalUrl,timeout=5)\n",
    "            if response.status_code == 200:\n",
    "                dictionary = json.loads(response.content)\n",
    "                imagesMeta += dictionary[\"features\"]\n",
    "            else:\n",
    "                logger.error('Missed point at (%s,%s)'%(point[0],point[1]))\n",
    "                time.sleep(10)\n",
    "        except:\n",
    "            logger.error('Request Timed out')\n",
    "    logger.debug('Found %d Images in this file'%(len(imagesMeta)))\n",
    "    logger.debug('Dumping in file: %s'%(name))\n",
    "    json.dump(imagesMeta,open(city+name,'wb'))"
   ]
  },
  {
   "cell_type": "code",
   "execution_count": null,
   "metadata": {},
   "outputs": [],
   "source": []
  }
 ],
 "metadata": {
  "kernelspec": {
   "display_name": "Python 2",
   "language": "python",
   "name": "python2"
  },
  "language_info": {
   "codemirror_mode": {
    "name": "ipython",
    "version": 2
   },
   "file_extension": ".py",
   "mimetype": "text/x-python",
   "name": "python",
   "nbconvert_exporter": "python",
   "pygments_lexer": "ipython2",
   "version": "2.7.12"
  }
 },
 "nbformat": 4,
 "nbformat_minor": 2
}
