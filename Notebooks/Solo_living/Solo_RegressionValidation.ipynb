{
 "cells": [
  {
   "cell_type": "code",
   "execution_count": 2,
   "metadata": {
    "ExecuteTime": {
     "end_time": "2021-03-05T14:31:50.194574Z",
     "start_time": "2021-03-05T14:31:49.779890Z"
    }
   },
   "outputs": [],
   "source": [
    "import pandas as pd\n",
    "import numpy as np\n",
    "import matplotlib.pyplot as plt\n",
    "import pandas as pd \n",
    "import json\n",
    "from sklearn import preprocessing\n",
    "%matplotlib inline\n",
    "import matplotlib.pyplot as plt\n",
    "import seaborn as sns\n",
    "from scipy.stats import pearsonr\n",
    "import statsmodels.api as sm"
   ]
  },
  {
   "cell_type": "code",
   "execution_count": 4,
   "metadata": {
    "ExecuteTime": {
     "end_time": "2021-03-05T14:31:58.849083Z",
     "start_time": "2021-03-05T14:31:58.792016Z"
    }
   },
   "outputs": [],
   "source": [
    "solo_living = pd.read_csv('../scratchpad/wards_household_data.csv')"
   ]
  },
  {
   "cell_type": "code",
   "execution_count": 5,
   "metadata": {
    "ExecuteTime": {
     "end_time": "2021-03-05T14:31:59.436802Z",
     "start_time": "2021-03-05T14:31:59.402456Z"
    }
   },
   "outputs": [
    {
     "data": {
      "text/html": [
       "<div>\n",
       "<style scoped>\n",
       "    .dataframe tbody tr th:only-of-type {\n",
       "        vertical-align: middle;\n",
       "    }\n",
       "\n",
       "    .dataframe tbody tr th {\n",
       "        vertical-align: top;\n",
       "    }\n",
       "\n",
       "    .dataframe thead th {\n",
       "        text-align: right;\n",
       "    }\n",
       "</style>\n",
       "<table border=\"1\" class=\"dataframe\">\n",
       "  <thead>\n",
       "    <tr style=\"text-align: right;\">\n",
       "      <th></th>\n",
       "      <th>Region code</th>\n",
       "      <th>Region name</th>\n",
       "      <th>County code</th>\n",
       "      <th>County name</th>\n",
       "      <th>Local authority code</th>\n",
       "      <th>Local authority name</th>\n",
       "      <th>Ward code</th>\n",
       "      <th>Ward name</th>\n",
       "      <th>Unnamed: 8</th>\n",
       "      <th>Persons</th>\n",
       "      <th>Persons.1</th>\n",
       "      <th>Persons.2</th>\n",
       "      <th>Unnamed: 12</th>\n",
       "      <th>Hectares</th>\n",
       "      <th>Persons per hectare</th>\n",
       "      <th>Unnamed: 15</th>\n",
       "      <th>Households</th>\n",
       "      <th>Persons per household</th>\n",
       "    </tr>\n",
       "  </thead>\n",
       "  <tbody>\n",
       "    <tr>\n",
       "      <th>0</th>\n",
       "      <td>NaN</td>\n",
       "      <td>NaN</td>\n",
       "      <td>NaN</td>\n",
       "      <td>NaN</td>\n",
       "      <td>NaN</td>\n",
       "      <td>NaN</td>\n",
       "      <td>NaN</td>\n",
       "      <td>NaN</td>\n",
       "      <td>NaN</td>\n",
       "      <td>All usual residents</td>\n",
       "      <td>Household residents</td>\n",
       "      <td>Communal establishment residents</td>\n",
       "      <td>NaN</td>\n",
       "      <td>Area</td>\n",
       "      <td>Population density</td>\n",
       "      <td>NaN</td>\n",
       "      <td>Households with at least one usual resident</td>\n",
       "      <td>Average household size</td>\n",
       "    </tr>\n",
       "    <tr>\n",
       "      <th>1</th>\n",
       "      <td>E12000001</td>\n",
       "      <td>NORTH EAST</td>\n",
       "      <td>NaN</td>\n",
       "      <td>NaN</td>\n",
       "      <td>E06000047</td>\n",
       "      <td>County Durham UA</td>\n",
       "      <td>E05007955</td>\n",
       "      <td>Annfield Plain</td>\n",
       "      <td>NaN</td>\n",
       "      <td>7,774</td>\n",
       "      <td>7,717</td>\n",
       "      <td>57</td>\n",
       "      <td>NaN</td>\n",
       "      <td>799</td>\n",
       "      <td>9.7</td>\n",
       "      <td>NaN</td>\n",
       "      <td>3,522</td>\n",
       "      <td>2.2</td>\n",
       "    </tr>\n",
       "    <tr>\n",
       "      <th>2</th>\n",
       "      <td>E12000001</td>\n",
       "      <td>NORTH EAST</td>\n",
       "      <td>NaN</td>\n",
       "      <td>NaN</td>\n",
       "      <td>E06000047</td>\n",
       "      <td>County Durham UA</td>\n",
       "      <td>E05007956</td>\n",
       "      <td>Aycliffe East</td>\n",
       "      <td>NaN</td>\n",
       "      <td>6,280</td>\n",
       "      <td>6,234</td>\n",
       "      <td>46</td>\n",
       "      <td>NaN</td>\n",
       "      <td>1,336</td>\n",
       "      <td>4.7</td>\n",
       "      <td>NaN</td>\n",
       "      <td>2,787</td>\n",
       "      <td>2.2</td>\n",
       "    </tr>\n",
       "    <tr>\n",
       "      <th>3</th>\n",
       "      <td>E12000001</td>\n",
       "      <td>NORTH EAST</td>\n",
       "      <td>NaN</td>\n",
       "      <td>NaN</td>\n",
       "      <td>E06000047</td>\n",
       "      <td>County Durham UA</td>\n",
       "      <td>E05007957</td>\n",
       "      <td>Aycliffe North</td>\n",
       "      <td>NaN</td>\n",
       "      <td>7,751</td>\n",
       "      <td>7,611</td>\n",
       "      <td>140</td>\n",
       "      <td>NaN</td>\n",
       "      <td>337</td>\n",
       "      <td>23</td>\n",
       "      <td>NaN</td>\n",
       "      <td>3,271</td>\n",
       "      <td>2.3</td>\n",
       "    </tr>\n",
       "    <tr>\n",
       "      <th>4</th>\n",
       "      <td>E12000001</td>\n",
       "      <td>NORTH EAST</td>\n",
       "      <td>NaN</td>\n",
       "      <td>NaN</td>\n",
       "      <td>E06000047</td>\n",
       "      <td>County Durham UA</td>\n",
       "      <td>E05007958</td>\n",
       "      <td>Aycliffe West</td>\n",
       "      <td>NaN</td>\n",
       "      <td>7,457</td>\n",
       "      <td>7,457</td>\n",
       "      <td>0</td>\n",
       "      <td>NaN</td>\n",
       "      <td>288</td>\n",
       "      <td>25.9</td>\n",
       "      <td>NaN</td>\n",
       "      <td>3,335</td>\n",
       "      <td>2.2</td>\n",
       "    </tr>\n",
       "  </tbody>\n",
       "</table>\n",
       "</div>"
      ],
      "text/plain": [
       "  Region code Region name County code County name Local authority code  \\\n",
       "0         NaN         NaN         NaN         NaN                  NaN   \n",
       "1   E12000001  NORTH EAST         NaN         NaN            E06000047   \n",
       "2   E12000001  NORTH EAST         NaN         NaN            E06000047   \n",
       "3   E12000001  NORTH EAST         NaN         NaN            E06000047   \n",
       "4   E12000001  NORTH EAST         NaN         NaN            E06000047   \n",
       "\n",
       "  Local authority name  Ward code       Ward name  Unnamed: 8  \\\n",
       "0                  NaN        NaN             NaN         NaN   \n",
       "1     County Durham UA  E05007955  Annfield Plain         NaN   \n",
       "2     County Durham UA  E05007956   Aycliffe East         NaN   \n",
       "3     County Durham UA  E05007957  Aycliffe North         NaN   \n",
       "4     County Durham UA  E05007958   Aycliffe West         NaN   \n",
       "\n",
       "               Persons            Persons.1                         Persons.2  \\\n",
       "0  All usual residents  Household residents  Communal establishment residents   \n",
       "1                7,774                7,717                                57   \n",
       "2                6,280                6,234                                46   \n",
       "3                7,751                7,611                               140   \n",
       "4                7,457                7,457                                 0   \n",
       "\n",
       "   Unnamed: 12 Hectares Persons per hectare  Unnamed: 15  \\\n",
       "0          NaN    Area   Population density          NaN   \n",
       "1          NaN      799                 9.7          NaN   \n",
       "2          NaN    1,336                 4.7          NaN   \n",
       "3          NaN      337                  23          NaN   \n",
       "4          NaN      288                25.9          NaN   \n",
       "\n",
       "                                    Households   Persons per household  \n",
       "0  Households with at least one usual resident  Average household size  \n",
       "1                                        3,522                     2.2  \n",
       "2                                        2,787                     2.2  \n",
       "3                                        3,271                     2.3  \n",
       "4                                        3,335                     2.2  "
      ]
     },
     "execution_count": 5,
     "metadata": {},
     "output_type": "execute_result"
    }
   ],
   "source": [
    "solo_living.head()"
   ]
  },
  {
   "cell_type": "code",
   "execution_count": 6,
   "metadata": {
    "ExecuteTime": {
     "end_time": "2021-03-05T14:32:00.611435Z",
     "start_time": "2021-03-05T14:32:00.597822Z"
    }
   },
   "outputs": [],
   "source": [
    "solo_living = solo_living.drop(solo_living.index[0])\n",
    "solo_living.head()\n",
    "solo_living['Persons per household'] = solo_living['Persons per household'].astype('float32')"
   ]
  },
  {
   "cell_type": "code",
   "execution_count": 7,
   "metadata": {
    "ExecuteTime": {
     "end_time": "2021-03-05T14:32:01.256071Z",
     "start_time": "2021-03-05T14:32:01.250695Z"
    }
   },
   "outputs": [
    {
     "data": {
      "text/plain": [
       "8570"
      ]
     },
     "execution_count": 7,
     "metadata": {},
     "output_type": "execute_result"
    }
   ],
   "source": [
    "len(solo_living)"
   ]
  },
  {
   "cell_type": "code",
   "execution_count": 8,
   "metadata": {
    "ExecuteTime": {
     "end_time": "2021-03-05T14:32:02.613152Z",
     "start_time": "2021-03-05T14:32:02.323572Z"
    }
   },
   "outputs": [
    {
     "data": {
      "text/plain": [
       "<matplotlib.axes._subplots.AxesSubplot at 0x7f1a10ad0630>"
      ]
     },
     "execution_count": 8,
     "metadata": {},
     "output_type": "execute_result"
    },
    {
     "data": {
      "image/png": "[encoded data removed]",
      "text/plain": [
       "<Figure size 432x288 with 1 Axes>"
      ]
     },
     "metadata": {
      "needs_background": "light"
     },
     "output_type": "display_data"
    }
   ],
   "source": [
    "sns.distplot(solo_living['Persons per household'])"
   ]
  },
  {
   "cell_type": "code",
   "execution_count": 9,
   "metadata": {
    "ExecuteTime": {
     "end_time": "2021-03-05T14:32:03.247714Z",
     "start_time": "2021-03-05T14:32:03.236162Z"
    }
   },
   "outputs": [],
   "source": [
    "household_size = solo_living[['Ward code','Persons per household']].dropna()"
   ]
  },
  {
   "cell_type": "code",
   "execution_count": 10,
   "metadata": {
    "ExecuteTime": {
     "end_time": "2021-03-05T14:32:10.050978Z",
     "start_time": "2021-03-05T14:32:09.822102Z"
    }
   },
   "outputs": [],
   "source": [
    "data = pd.read_csv('All_data_aggregated_ward_level.csv')"
   ]
  },
  {
   "cell_type": "code",
   "execution_count": 11,
   "metadata": {
    "ExecuteTime": {
     "end_time": "2021-03-05T14:32:12.108972Z",
     "start_time": "2021-03-05T14:32:12.098960Z"
    }
   },
   "outputs": [
    {
     "data": {
      "text/plain": [
       "['Unnamed: 0',\n",
       " 'Unnamed: 0_x',\n",
       " 'green_score',\n",
       " 'GSS_CODE',\n",
       " 'WD17CD',\n",
       " 'GLUD_Area of Greenspace PCT',\n",
       " 'LCM_grass_pct',\n",
       " 'LCM_tree_pct',\n",
       " 'LCM_urban_pct',\n",
       " 'UA_Public Greenery PCT',\n",
       " 'UA_Forests PCT',\n",
       " 'StreetTrees_PCT',\n",
       " 'Unnamed: 0.1',\n",
       " 'borough_name_x',\n",
       " 'poly',\n",
       " 'area_m',\n",
       " 'area_km',\n",
       " 'gsview_point_list',\n",
       " 'gsview_segnet_tags_dict',\n",
       " 'gsview_tags',\n",
       " 'total_gsview_pixels',\n",
       " 'Tree',\n",
       " 'TreeTotal',\n",
       " 'TreeScore',\n",
       " 'psoriasis_Prescriptions',\n",
       " 'psoriasis_Prevalence',\n",
       " \"Meniere's disease_Prescriptions\",\n",
       " \"Meniere's disease_Prevalence\",\n",
       " \"crohn's disease_Prescriptions\",\n",
       " \"crohn's disease_Prevalence\",\n",
       " 'gastroparesis_Prescriptions',\n",
       " 'gastroparesis_Prevalence',\n",
       " 'irritable bowel syndrome_Prescriptions',\n",
       " 'irritable bowel syndrome_Prevalence',\n",
       " 'parkinson_Prescriptions',\n",
       " 'parkinson_Prevalence',\n",
       " 'sleep apnea_Prescriptions',\n",
       " 'sleep apnea_Prevalence',\n",
       " 'interstitial cystitis_Prescriptions',\n",
       " 'interstitial cystitis_Prevalence',\n",
       " 'bipolar_Prescriptions',\n",
       " 'bipolar_Prevalence',\n",
       " 'hypothyroidism_Prescriptions',\n",
       " 'hypothyroidism_Prevalence',\n",
       " 'dementia_Prescriptions',\n",
       " 'dementia_Prevalence',\n",
       " 'rheumatoid_Prescriptions',\n",
       " 'rheumatoid_Prevalence',\n",
       " 'depression_Prescriptions',\n",
       " 'depression_Prevalence',\n",
       " 'diabetes_Prescriptions',\n",
       " 'diabetes_Prevalence',\n",
       " 'Area',\n",
       " 'area_id',\n",
       " 'weight',\n",
       " 'weight_perc2.5',\n",
       " 'weight_perc25',\n",
       " 'weight_perc50',\n",
       " 'weight_perc75',\n",
       " 'weight_perc97.5',\n",
       " 'weight_std',\n",
       " 'weight_ci95',\n",
       " 'volume',\n",
       " 'volume_perc2.5',\n",
       " 'volume_perc25',\n",
       " 'volume_perc50',\n",
       " 'volume_perc75',\n",
       " 'volume_perc97.5',\n",
       " 'volume_std',\n",
       " 'volume_ci95',\n",
       " 'fat',\n",
       " 'fat_perc2.5',\n",
       " 'fat_perc25',\n",
       " 'fat_perc50',\n",
       " 'fat_perc75',\n",
       " 'fat_perc97.5',\n",
       " 'fat_std',\n",
       " 'fat_ci95',\n",
       " 'saturate',\n",
       " 'saturate_perc2.5',\n",
       " 'saturate_perc25',\n",
       " 'saturate_perc50',\n",
       " 'saturate_perc75',\n",
       " 'saturate_perc97.5',\n",
       " 'saturate_std',\n",
       " 'saturate_ci95',\n",
       " 'salt',\n",
       " 'salt_perc2.5',\n",
       " 'salt_perc25',\n",
       " 'salt_perc50',\n",
       " 'salt_perc75',\n",
       " 'salt_perc97.5',\n",
       " 'salt_std',\n",
       " 'salt_ci95',\n",
       " 'sugar',\n",
       " 'sugar_perc2.5',\n",
       " 'sugar_perc25',\n",
       " 'sugar_perc50',\n",
       " 'sugar_perc75',\n",
       " 'sugar_perc97.5',\n",
       " 'sugar_std',\n",
       " 'sugar_ci95',\n",
       " 'protein',\n",
       " 'protein_perc2.5',\n",
       " 'protein_perc25',\n",
       " 'protein_perc50',\n",
       " 'protein_perc75',\n",
       " 'protein_perc97.5',\n",
       " 'protein_std',\n",
       " 'protein_ci95',\n",
       " 'carb',\n",
       " 'carb_perc2.5',\n",
       " 'carb_perc25',\n",
       " 'carb_perc50',\n",
       " 'carb_perc75',\n",
       " 'carb_perc97.5',\n",
       " 'carb_std',\n",
       " 'carb_ci95',\n",
       " 'fibre',\n",
       " 'fibre_perc2.5',\n",
       " 'fibre_perc25',\n",
       " 'fibre_perc50',\n",
       " 'fibre_perc75',\n",
       " 'fibre_perc97.5',\n",
       " 'fibre_std',\n",
       " 'fibre_ci95',\n",
       " 'alcohol',\n",
       " 'alcohol_perc2.5',\n",
       " 'alcohol_perc25',\n",
       " 'alcohol_perc50',\n",
       " 'alcohol_perc75',\n",
       " 'alcohol_perc97.5',\n",
       " 'alcohol_std',\n",
       " 'alcohol_ci95',\n",
       " 'energy_fat',\n",
       " 'energy_fat_perc2.5',\n",
       " 'energy_fat_perc25',\n",
       " 'energy_fat_perc50',\n",
       " 'energy_fat_perc75',\n",
       " 'energy_fat_perc97.5',\n",
       " 'energy_fat_std',\n",
       " 'energy_fat_ci95',\n",
       " 'energy_saturate',\n",
       " 'energy_saturate_perc2.5',\n",
       " 'energy_saturate_perc25',\n",
       " 'energy_saturate_perc50',\n",
       " 'energy_saturate_perc75',\n",
       " 'energy_saturate_perc97.5',\n",
       " 'energy_saturate_std',\n",
       " 'energy_saturate_ci95',\n",
       " 'energy_sugar',\n",
       " 'energy_sugar_perc2.5',\n",
       " 'energy_sugar_perc25',\n",
       " 'energy_sugar_perc50',\n",
       " 'energy_sugar_perc75',\n",
       " 'energy_sugar_perc97.5',\n",
       " 'energy_sugar_std',\n",
       " 'energy_sugar_ci95',\n",
       " 'energy_protein',\n",
       " 'energy_protein_perc2.5',\n",
       " 'energy_protein_perc25',\n",
       " 'energy_protein_perc50',\n",
       " 'energy_protein_perc75',\n",
       " 'energy_protein_perc97.5',\n",
       " 'energy_protein_std',\n",
       " 'energy_protein_ci95',\n",
       " 'energy_carb',\n",
       " 'energy_carb_perc2.5',\n",
       " 'energy_carb_perc25',\n",
       " 'energy_carb_perc50',\n",
       " 'energy_carb_perc75',\n",
       " 'energy_carb_perc97.5',\n",
       " 'energy_carb_std',\n",
       " 'energy_carb_ci95',\n",
       " 'energy_fibre',\n",
       " 'energy_fibre_perc2.5',\n",
       " 'energy_fibre_perc25',\n",
       " 'energy_fibre_perc50',\n",
       " 'energy_fibre_perc75',\n",
       " 'energy_fibre_perc97.5',\n",
       " 'energy_fibre_std',\n",
       " 'energy_fibre_ci95',\n",
       " 'energy_alcohol',\n",
       " 'energy_alcohol_perc2.5',\n",
       " 'energy_alcohol_perc25',\n",
       " 'energy_alcohol_perc50',\n",
       " 'energy_alcohol_perc75',\n",
       " 'energy_alcohol_perc97.5',\n",
       " 'energy_alcohol_std',\n",
       " 'energy_alcohol_ci95',\n",
       " 'energy_tot',\n",
       " 'energy_tot_perc2.5',\n",
       " 'energy_tot_perc25',\n",
       " 'energy_tot_perc50',\n",
       " 'energy_tot_perc75',\n",
       " 'energy_tot_perc97.5',\n",
       " 'energy_tot_std',\n",
       " 'energy_tot_ci95',\n",
       " 'f_energy_fat',\n",
       " 'f_energy_saturate',\n",
       " 'f_energy_sugar',\n",
       " 'f_energy_protein',\n",
       " 'f_energy_carb',\n",
       " 'f_energy_fibre',\n",
       " 'f_energy_alcohol',\n",
       " 'energy_density',\n",
       " 'h_nutrients_weight',\n",
       " 'h_nutrients_weight_norm',\n",
       " 'h_nutrients_calories',\n",
       " 'h_nutrients_calories_norm',\n",
       " 'f_beer',\n",
       " 'f_dairy',\n",
       " 'f_eggs',\n",
       " 'f_fats_oils',\n",
       " 'f_fish',\n",
       " 'f_fruit_veg',\n",
       " 'f_grains',\n",
       " 'f_meat_red',\n",
       " 'f_poultry',\n",
       " 'f_readymade',\n",
       " 'f_sauces',\n",
       " 'f_soft_drinks',\n",
       " 'f_spirits',\n",
       " 'f_sweets',\n",
       " 'f_tea_coffee',\n",
       " 'f_water',\n",
       " 'f_wine',\n",
       " 'f_dairy_weight',\n",
       " 'f_eggs_weight',\n",
       " 'f_fats_oils_weight',\n",
       " 'f_fish_weight',\n",
       " 'f_fruit_veg_weight',\n",
       " 'f_grains_weight',\n",
       " 'f_meat_red_weight',\n",
       " 'f_poultry_weight',\n",
       " 'f_readymade_weight',\n",
       " 'f_sauces_weight',\n",
       " 'f_sweets_weight',\n",
       " 'h_items',\n",
       " 'h_items_norm',\n",
       " 'h_items_weight',\n",
       " 'h_items_weight_norm',\n",
       " 'representativeness_norm',\n",
       " 'transaction_days',\n",
       " 'num_transactions',\n",
       " 'man_day',\n",
       " 'population',\n",
       " 'male',\n",
       " 'female',\n",
       " 'age_0_17',\n",
       " 'age_18_64',\n",
       " 'age_65+',\n",
       " 'avg_age',\n",
       " 'area_sq_km',\n",
       " 'people_per_sq_km',\n",
       " 'All_Deaths',\n",
       " 'Resp_deaths',\n",
       " 'WD16CD',\n",
       " 'borough_name_y',\n",
       " 'Borough',\n",
       " 'Ward_Name',\n",
       " 'Year',\n",
       " 'Population',\n",
       " 'Hectares',\n",
       " 'Square_Kilometres',\n",
       " 'Population_per_hectare',\n",
       " 'Population_per_square_kilometre',\n",
       " 'Unnamed: 0_y',\n",
       " 'third_places',\n",
       " 'IMD',\n",
       " 'Persons per household',\n",
       " 'All_jsa',\n",
       " 'Median 2012/13',\n",
       " 'Sex_ratio',\n",
       " 'f_alcohol']"
      ]
     },
     "execution_count": 11,
     "metadata": {},
     "output_type": "execute_result"
    }
   ],
   "source": [
    "list(data.columns)"
   ]
  },
  {
   "cell_type": "code",
   "execution_count": 17,
   "metadata": {
    "ExecuteTime": {
     "end_time": "2021-03-05T14:34:29.886273Z",
     "start_time": "2021-03-05T14:33:43.747958Z"
    }
   },
   "outputs": [],
   "source": [
    "df = pd.read_csv('../scratchpad/Jan_clubcard2nutrients.csv.bz2', compression='bz2', header=0, sep=',', quotechar='\"')"
   ]
  },
  {
   "cell_type": "code",
   "execution_count": 82,
   "metadata": {
    "ExecuteTime": {
     "end_time": "2021-03-05T15:08:18.625850Z",
     "start_time": "2021-03-05T15:08:18.585924Z"
    }
   },
   "outputs": [],
   "source": [
    "thresh_bottom_weight = np.mean(df['quantity']) - 2*np.std(df['quantity'])\n",
    "thresh_top_weight = np.mean(df['quantity']) + 2*np.std(df['quantity'])"
   ]
  },
  {
   "cell_type": "code",
   "execution_count": 114,
   "metadata": {
    "ExecuteTime": {
     "end_time": "2021-03-05T15:55:06.906920Z",
     "start_time": "2021-03-05T15:55:06.699098Z"
    }
   },
   "outputs": [],
   "source": [
    "test = df[ (df['weight'] < 600) &  (df['weight'] > 100) ]\n",
    "# test = df[ (df['quantity'] < thresh_top_weight) & (df['quantity'] > thresh_bottom_weight) ]"
   ]
  },
  {
   "cell_type": "code",
   "execution_count": 115,
   "metadata": {
    "ExecuteTime": {
     "end_time": "2021-03-05T15:55:07.484385Z",
     "start_time": "2021-03-05T15:55:06.908674Z"
    }
   },
   "outputs": [
    {
     "data": {
      "text/plain": [
       "<matplotlib.axes._subplots.AxesSubplot at 0x7f1a007a6eb8>"
      ]
     },
     "execution_count": 115,
     "metadata": {},
     "output_type": "execute_result"
    },
    {
     "data": {
      "image/png": "[encoded data removed]",
      "text/plain": [
       "<Figure size 432x288 with 1 Axes>"
      ]
     },
     "metadata": {},
     "output_type": "display_data"
    }
   ],
   "source": [
    "sns.distplot(test['quantity'])"
   ]
  },
  {
   "cell_type": "code",
   "execution_count": 116,
   "metadata": {
    "ExecuteTime": {
     "end_time": "2021-03-05T15:55:07.986035Z",
     "start_time": "2021-03-05T15:55:07.486651Z"
    }
   },
   "outputs": [
    {
     "data": {
      "text/plain": [
       "<matplotlib.axes._subplots.AxesSubplot at 0x7f1a005478d0>"
      ]
     },
     "execution_count": 116,
     "metadata": {},
     "output_type": "execute_result"
    },
    {
     "data": {
      "image/png": "[encoded data removed]",
      "text/plain": [
       "<Figure size 432x288 with 1 Axes>"
      ]
     },
     "metadata": {},
     "output_type": "display_data"
    }
   ],
   "source": [
    "sns.distplot(test['weight'])"
   ]
  },
  {
   "cell_type": "code",
   "execution_count": 216,
   "metadata": {
    "ExecuteTime": {
     "end_time": "2021-03-05T16:53:49.512143Z",
     "start_time": "2021-03-05T16:53:48.678837Z"
    }
   },
   "outputs": [
    {
     "data": {
      "text/plain": [
       "<matplotlib.axes._subplots.AxesSubplot at 0x7f19ff212898>"
      ]
     },
     "execution_count": 216,
     "metadata": {},
     "output_type": "execute_result"
    },
    {
     "data": {
      "image/png": "[encoded data removed]",
      "text/plain": [
       "<Figure size 432x288 with 1 Axes>"
      ]
     },
     "metadata": {},
     "output_type": "display_data"
    }
   ],
   "source": [
    "sns.distplot(df['weight'])"
   ]
  },
  {
   "cell_type": "code",
   "execution_count": 118,
   "metadata": {
    "ExecuteTime": {
     "end_time": "2021-03-05T15:55:08.216579Z",
     "start_time": "2021-03-05T15:55:08.214518Z"
    }
   },
   "outputs": [],
   "source": [
    "# Tesco = test[['clubcard_number','h_nutrients_calories_norm', 'weight' , 'volume','osward','f_energy_alcohol' , 'h_items_norm' , 'h_items_weight_norm']].copy()\n",
    "# Tesco = Tesco.dropna()\n",
    "# features_to_normalize = ['h_nutrients_calories_norm', 'weight','f_energy_alcohol','h_items_norm','h_items_weight_norm']\n",
    "# Tesco[features_to_normalize] = Tesco[features_to_normalize].apply(lambda x:(x-x.min()) / (x.max()-x.min()))"
   ]
  },
  {
   "cell_type": "code",
   "execution_count": 119,
   "metadata": {
    "ExecuteTime": {
     "end_time": "2021-03-05T15:55:08.312734Z",
     "start_time": "2021-03-05T15:55:08.218015Z"
    }
   },
   "outputs": [
    {
     "data": {
      "text/plain": [
       "['pcd',\n",
       " 'lat',\n",
       " 'long',\n",
       " 'oa11',\n",
       " 'lsoa11',\n",
       " 'msoa11',\n",
       " 'osward',\n",
       " 'oslaua',\n",
       " 'clubcard_number',\n",
       " 'weight',\n",
       " 'volume',\n",
       " 'energy_on_label',\n",
       " 'g_fat',\n",
       " 'g_saturate',\n",
       " 'g_salt',\n",
       " 'g_sugar',\n",
       " 'g_protein',\n",
       " 'g_carb',\n",
       " 'g_fibre',\n",
       " 'g_alcohol',\n",
       " 'energy_fat',\n",
       " 'energy_saturate',\n",
       " 'energy_sugar',\n",
       " 'energy_protein',\n",
       " 'energy_carb',\n",
       " 'energy_fibre',\n",
       " 'energy_alcohol',\n",
       " 'energy_tot',\n",
       " 'f_energy_fat',\n",
       " 'f_energy_saturate',\n",
       " 'f_energy_sugar',\n",
       " 'f_energy_protein',\n",
       " 'f_energy_carb',\n",
       " 'f_energy_fibre',\n",
       " 'f_energy_alcohol',\n",
       " 'hdi_fat',\n",
       " 'hdi_saturate',\n",
       " 'hdi_carb',\n",
       " 'hdi_protein',\n",
       " 'hdi_sugar',\n",
       " 'energy_density',\n",
       " 'h_nutrients_weight',\n",
       " 'h_nutrients_weight_norm',\n",
       " 'h_nutrients_calories',\n",
       " 'h_nutrients_calories_norm',\n",
       " 'beer_items',\n",
       " 'dairy_items',\n",
       " 'eggs_items',\n",
       " 'fats_oils_items',\n",
       " 'fish_items',\n",
       " 'fruit_veg_items',\n",
       " 'grains_items',\n",
       " 'meat_red_items',\n",
       " 'poultry_items',\n",
       " 'readymade_items',\n",
       " 'sauces_items',\n",
       " 'soft_drinks_items',\n",
       " 'spirits_items',\n",
       " 'sweets_items',\n",
       " 'tea_coffee_items',\n",
       " 'water_items',\n",
       " 'wine_items',\n",
       " 'dairy_weight',\n",
       " 'eggs_weight',\n",
       " 'fats_oils_weight',\n",
       " 'fish_weight',\n",
       " 'fruit_veg_weight',\n",
       " 'grains_weight',\n",
       " 'meat_red_weight',\n",
       " 'poultry_weight',\n",
       " 'readymade_weight',\n",
       " 'sauces_weight',\n",
       " 'sweets_weight',\n",
       " 'quantity',\n",
       " 'h_items',\n",
       " 'h_items_norm',\n",
       " 'h_items_weight',\n",
       " 'h_items_weight_norm']"
      ]
     },
     "execution_count": 119,
     "metadata": {},
     "output_type": "execute_result"
    }
   ],
   "source": [
    "list(df.columns)"
   ]
  },
  {
   "cell_type": "code",
   "execution_count": 120,
   "metadata": {
    "ExecuteTime": {
     "end_time": "2021-03-05T15:55:08.922644Z",
     "start_time": "2021-03-05T15:55:08.315410Z"
    }
   },
   "outputs": [
    {
     "data": {
      "text/plain": [
       "886984"
      ]
     },
     "execution_count": 120,
     "metadata": {},
     "output_type": "execute_result"
    }
   ],
   "source": [
    "df.clubcard_number.nunique()"
   ]
  },
  {
   "cell_type": "code",
   "execution_count": 121,
   "metadata": {
    "ExecuteTime": {
     "end_time": "2021-03-05T15:55:14.218570Z",
     "start_time": "2021-03-05T15:55:08.924950Z"
    }
   },
   "outputs": [],
   "source": [
    "card_shopping_dist = df.groupby('clubcard_number').apply(lambda x: len(x))"
   ]
  },
  {
   "cell_type": "code",
   "execution_count": 122,
   "metadata": {
    "ExecuteTime": {
     "end_time": "2021-03-05T15:55:14.570427Z",
     "start_time": "2021-03-05T15:55:14.220340Z"
    }
   },
   "outputs": [
    {
     "data": {
      "text/plain": [
       "<matplotlib.axes._subplots.AxesSubplot at 0x7f1a003c9b70>"
      ]
     },
     "execution_count": 122,
     "metadata": {},
     "output_type": "execute_result"
    },
    {
     "data": {
      "image/png": "[encoded data removed]",
      "text/plain": [
       "<Figure size 432x288 with 1 Axes>"
      ]
     },
     "metadata": {},
     "output_type": "display_data"
    }
   ],
   "source": [
    "sns.distplot(card_shopping_dist)"
   ]
  },
  {
   "cell_type": "code",
   "execution_count": 217,
   "metadata": {
    "ExecuteTime": {
     "end_time": "2021-03-05T17:05:58.889483Z",
     "start_time": "2021-03-05T16:54:07.746284Z"
    }
   },
   "outputs": [],
   "source": [
    "household_individual = {'CardID':[] , 'WardCode': []  , 'h_nutrients_calories_norm' :[] , 'weight' : [] , 'volume':[]}\n",
    "for name, group in test.groupby('clubcard_number'):\n",
    "    household_individual['CardID'].append(name)\n",
    "    household_individual['WardCode'].append(group.iloc[0]['osward'])\n",
    "    household_individual['h_nutrients_calories_norm'].append(np.sum(group['h_nutrients_calories_norm']))\n",
    "    household_individual['weight'].append(np.sum(group['weight']))\n",
    "    household_individual['volume'].append(np.sum(group['volume']))\n"
   ]
  },
  {
   "cell_type": "code",
   "execution_count": 218,
   "metadata": {
    "ExecuteTime": {
     "end_time": "2021-03-05T17:05:59.349283Z",
     "start_time": "2021-03-05T17:05:58.891320Z"
    }
   },
   "outputs": [],
   "source": [
    "Tesco = pd.DataFrame.from_dict(household_individual)"
   ]
  },
  {
   "cell_type": "code",
   "execution_count": 219,
   "metadata": {
    "ExecuteTime": {
     "end_time": "2021-03-05T17:05:59.353939Z",
     "start_time": "2021-03-05T17:05:59.351340Z"
    }
   },
   "outputs": [],
   "source": [
    "# Tesco.to_csv('scratchpad/tesco_grouped_individual.csv')"
   ]
  },
  {
   "cell_type": "code",
   "execution_count": 220,
   "metadata": {
    "ExecuteTime": {
     "end_time": "2021-03-05T17:05:59.537155Z",
     "start_time": "2021-03-05T17:05:59.355714Z"
    }
   },
   "outputs": [],
   "source": [
    "features_to_normalize = ['h_nutrients_calories_norm', 'weight','volume']\n",
    "Tesco[features_to_normalize] = Tesco[features_to_normalize].apply(lambda x:(x-x.min()) / (x.max()-x.min()))"
   ]
  },
  {
   "cell_type": "code",
   "execution_count": 239,
   "metadata": {
    "ExecuteTime": {
     "end_time": "2021-03-05T17:06:41.299314Z",
     "start_time": "2021-03-05T17:06:41.287812Z"
    }
   },
   "outputs": [],
   "source": [
    "Tesco['Household'] =  0.7321  + 0.2529*Tesco['weight'] - 0.7391*Tesco['h_nutrients_calories_norm']\n",
    "# Tesco['Household'] =  3.2294 + 0.5422*Tesco['weight'] -1.3654*Tesco['h_nutrients_calories_norm']\n",
    "# Tesco['Household'] =  3.2294 + 0.5422*Tesco['weight'] -1.3654*Tesco['h_nutrients_calories_norm']\n",
    "# Tesco['Household'] =  0.7344 - 0.4772*Tesco['f_energy_alcohol'] + 0.4570*Tesco['h_items_norm'] -0.6621*Tesco['h_items_weight_norm']"
   ]
  },
  {
   "cell_type": "code",
   "execution_count": 240,
   "metadata": {
    "ExecuteTime": {
     "end_time": "2021-03-05T17:06:48.125321Z",
     "start_time": "2021-03-05T17:06:47.963817Z"
    }
   },
   "outputs": [],
   "source": [
    "thresh_bottom_household = np.mean(Tesco['Household']) - 2*np.std(Tesco['Household'])\n",
    "thresh_top_household = np.mean(Tesco['Household']) + 2*np.std(Tesco['Household'])\n",
    "\n",
    "Tesco_filtered = Tesco[ (Tesco['Household'] > thresh_bottom_household) &  (Tesco['Household'] < thresh_top_household) ].copy()"
   ]
  },
  {
   "cell_type": "code",
   "execution_count": 241,
   "metadata": {
    "ExecuteTime": {
     "end_time": "2021-03-05T17:06:48.954802Z",
     "start_time": "2021-03-05T17:06:48.362790Z"
    }
   },
   "outputs": [
    {
     "data": {
      "text/plain": [
       "<matplotlib.axes._subplots.AxesSubplot at 0x7f19e51da278>"
      ]
     },
     "execution_count": 241,
     "metadata": {},
     "output_type": "execute_result"
    },
    {
     "data": {
      "image/png": "[encoded data removed]",
      "text/plain": [
       "<Figure size 432x288 with 1 Axes>"
      ]
     },
     "metadata": {},
     "output_type": "display_data"
    }
   ],
   "source": [
    "sns.distplot(Tesco_filtered['Household'])"
   ]
  },
  {
   "cell_type": "code",
   "execution_count": 242,
   "metadata": {
    "ExecuteTime": {
     "end_time": "2021-03-05T17:06:48.968226Z",
     "start_time": "2021-03-05T17:06:48.956657Z"
    }
   },
   "outputs": [
    {
     "name": "stdout",
     "output_type": "stream",
     "text": [
      "0.24590535730714483\n"
     ]
    }
   ],
   "source": [
    "Thresh  = np.min(Tesco_filtered['Household'])+  0.1 * (np.max(Tesco_filtered['Household'])-np.min(Tesco_filtered['Household']))\n",
    "print(Thresh)"
   ]
  },
  {
   "cell_type": "code",
   "execution_count": 243,
   "metadata": {
    "ExecuteTime": {
     "end_time": "2021-03-05T17:06:49.378495Z",
     "start_time": "2021-03-05T17:06:48.969913Z"
    }
   },
   "outputs": [],
   "source": [
    "def solo(x):\n",
    "    if x<= Thresh:\n",
    "        return 1\n",
    "    else:\n",
    "        return 0 \n",
    "Tesco_filtered['solo'] = Tesco_filtered['Household'].apply(lambda x: solo(x))"
   ]
  },
  {
   "cell_type": "code",
   "execution_count": 244,
   "metadata": {
    "ExecuteTime": {
     "end_time": "2021-03-05T17:06:49.384966Z",
     "start_time": "2021-03-05T17:06:49.380450Z"
    }
   },
   "outputs": [
    {
     "data": {
      "text/plain": [
       "13365"
      ]
     },
     "execution_count": 244,
     "metadata": {},
     "output_type": "execute_result"
    }
   ],
   "source": [
    "np.sum(Tesco_filtered['solo'])"
   ]
  },
  {
   "cell_type": "code",
   "execution_count": 245,
   "metadata": {
    "ExecuteTime": {
     "end_time": "2021-03-05T17:06:49.874014Z",
     "start_time": "2021-03-05T17:06:49.386586Z"
    }
   },
   "outputs": [],
   "source": [
    "Ward_level_estimate = {'WardCode':[] , 'Household':[]}\n",
    "for name , group in Tesco_filtered.groupby('WardCode'):\n",
    "    Ward_level_estimate['WardCode'].append(name)\n",
    "#     soloHouses = np.sum(group['solo'])\n",
    "#     fraction = float(soloHouses)/ len(group)\n",
    "    fraction = np.mean(group['Household'])\n",
    "    Ward_level_estimate['Household'].append(fraction)\n",
    "Ward_estimates = pd.DataFrame.from_dict(Ward_level_estimate)"
   ]
  },
  {
   "cell_type": "code",
   "execution_count": 246,
   "metadata": {
    "ExecuteTime": {
     "end_time": "2021-03-05T17:06:49.879648Z",
     "start_time": "2021-03-05T17:06:49.876145Z"
    }
   },
   "outputs": [
    {
     "data": {
      "text/plain": [
       "658"
      ]
     },
     "execution_count": 246,
     "metadata": {},
     "output_type": "execute_result"
    }
   ],
   "source": [
    "len(Ward_estimates)"
   ]
  },
  {
   "cell_type": "code",
   "execution_count": 247,
   "metadata": {
    "ExecuteTime": {
     "end_time": "2021-03-05T17:06:50.227128Z",
     "start_time": "2021-03-05T17:06:49.881076Z"
    }
   },
   "outputs": [
    {
     "data": {
      "text/plain": [
       "<matplotlib.axes._subplots.AxesSubplot at 0x7f19e5172be0>"
      ]
     },
     "execution_count": 247,
     "metadata": {},
     "output_type": "execute_result"
    },
    {
     "data": {
      "image/png": "[encoded data removed]",
      "text/plain": [
       "<Figure size 432x288 with 1 Axes>"
      ]
     },
     "metadata": {},
     "output_type": "display_data"
    }
   ],
   "source": [
    "sns.distplot(Ward_level_estimate['Household'])"
   ]
  },
  {
   "cell_type": "code",
   "execution_count": 248,
   "metadata": {
    "ExecuteTime": {
     "end_time": "2021-03-05T17:06:50.230899Z",
     "start_time": "2021-03-05T17:06:50.228605Z"
    }
   },
   "outputs": [],
   "source": [
    "# %store Ward_estimates"
   ]
  },
  {
   "cell_type": "code",
   "execution_count": 249,
   "metadata": {
    "ExecuteTime": {
     "end_time": "2021-03-05T17:06:50.328257Z",
     "start_time": "2021-03-05T17:06:50.232542Z"
    }
   },
   "outputs": [],
   "source": [
    "solo_gt = solo_living[['Ward code','Persons per household']]"
   ]
  },
  {
   "cell_type": "code",
   "execution_count": 250,
   "metadata": {
    "ExecuteTime": {
     "end_time": "2021-03-05T17:06:50.403581Z",
     "start_time": "2021-03-05T17:06:50.355122Z"
    }
   },
   "outputs": [
    {
     "data": {
      "text/plain": [
       "8570"
      ]
     },
     "execution_count": 250,
     "metadata": {},
     "output_type": "execute_result"
    }
   ],
   "source": [
    "len(solo_gt)"
   ]
  },
  {
   "cell_type": "code",
   "execution_count": 251,
   "metadata": {
    "ExecuteTime": {
     "end_time": "2021-03-05T17:06:50.607521Z",
     "start_time": "2021-03-05T17:06:50.595570Z"
    }
   },
   "outputs": [],
   "source": [
    "merged = pd.merge(solo_gt , Ward_estimates, left_on='Ward code', right_on='WardCode')"
   ]
  },
  {
   "cell_type": "code",
   "execution_count": 252,
   "metadata": {
    "ExecuteTime": {
     "end_time": "2021-03-05T17:06:51.205760Z",
     "start_time": "2021-03-05T17:06:51.181911Z"
    }
   },
   "outputs": [
    {
     "data": {
      "text/html": [
       "<div>\n",
       "<style scoped>\n",
       "    .dataframe tbody tr th:only-of-type {\n",
       "        vertical-align: middle;\n",
       "    }\n",
       "\n",
       "    .dataframe tbody tr th {\n",
       "        vertical-align: top;\n",
       "    }\n",
       "\n",
       "    .dataframe thead th {\n",
       "        text-align: right;\n",
       "    }\n",
       "</style>\n",
       "<table border=\"1\" class=\"dataframe\">\n",
       "  <thead>\n",
       "    <tr style=\"text-align: right;\">\n",
       "      <th></th>\n",
       "      <th>Ward code</th>\n",
       "      <th>Persons per household</th>\n",
       "      <th>WardCode</th>\n",
       "      <th>Household</th>\n",
       "    </tr>\n",
       "  </thead>\n",
       "  <tbody>\n",
       "    <tr>\n",
       "      <th>0</th>\n",
       "      <td>E05000128</td>\n",
       "      <td>2.1</td>\n",
       "      <td>E05000128</td>\n",
       "      <td>0.362956</td>\n",
       "    </tr>\n",
       "    <tr>\n",
       "      <th>1</th>\n",
       "      <td>E05000129</td>\n",
       "      <td>1.8</td>\n",
       "      <td>E05000129</td>\n",
       "      <td>0.368693</td>\n",
       "    </tr>\n",
       "    <tr>\n",
       "      <th>2</th>\n",
       "      <td>E05000130</td>\n",
       "      <td>2.1</td>\n",
       "      <td>E05000130</td>\n",
       "      <td>0.373459</td>\n",
       "    </tr>\n",
       "    <tr>\n",
       "      <th>3</th>\n",
       "      <td>E05000131</td>\n",
       "      <td>2.2</td>\n",
       "      <td>E05000131</td>\n",
       "      <td>0.363298</td>\n",
       "    </tr>\n",
       "    <tr>\n",
       "      <th>4</th>\n",
       "      <td>E05000132</td>\n",
       "      <td>2.2</td>\n",
       "      <td>E05000132</td>\n",
       "      <td>0.369155</td>\n",
       "    </tr>\n",
       "    <tr>\n",
       "      <th>...</th>\n",
       "      <td>...</td>\n",
       "      <td>...</td>\n",
       "      <td>...</td>\n",
       "      <td>...</td>\n",
       "    </tr>\n",
       "    <tr>\n",
       "      <th>479</th>\n",
       "      <td>E05000606</td>\n",
       "      <td>2.8</td>\n",
       "      <td>E05000606</td>\n",
       "      <td>0.391063</td>\n",
       "    </tr>\n",
       "    <tr>\n",
       "      <th>480</th>\n",
       "      <td>E05000607</td>\n",
       "      <td>2.6</td>\n",
       "      <td>E05000607</td>\n",
       "      <td>0.390853</td>\n",
       "    </tr>\n",
       "    <tr>\n",
       "      <th>481</th>\n",
       "      <td>E05000608</td>\n",
       "      <td>2.7</td>\n",
       "      <td>E05000608</td>\n",
       "      <td>0.377931</td>\n",
       "    </tr>\n",
       "    <tr>\n",
       "      <th>482</th>\n",
       "      <td>E05000609</td>\n",
       "      <td>2.5</td>\n",
       "      <td>E05000609</td>\n",
       "      <td>0.390819</td>\n",
       "    </tr>\n",
       "    <tr>\n",
       "      <th>483</th>\n",
       "      <td>E05007407</td>\n",
       "      <td>2.2</td>\n",
       "      <td>E05007407</td>\n",
       "      <td>0.447827</td>\n",
       "    </tr>\n",
       "  </tbody>\n",
       "</table>\n",
       "<p>484 rows × 4 columns</p>\n",
       "</div>"
      ],
      "text/plain": [
       "     Ward code  Persons per household   WardCode  Household\n",
       "0    E05000128                    2.1  E05000128   0.362956\n",
       "1    E05000129                    1.8  E05000129   0.368693\n",
       "2    E05000130                    2.1  E05000130   0.373459\n",
       "3    E05000131                    2.2  E05000131   0.363298\n",
       "4    E05000132                    2.2  E05000132   0.369155\n",
       "..         ...                    ...        ...        ...\n",
       "479  E05000606                    2.8  E05000606   0.391063\n",
       "480  E05000607                    2.6  E05000607   0.390853\n",
       "481  E05000608                    2.7  E05000608   0.377931\n",
       "482  E05000609                    2.5  E05000609   0.390819\n",
       "483  E05007407                    2.2  E05007407   0.447827\n",
       "\n",
       "[484 rows x 4 columns]"
      ]
     },
     "execution_count": 252,
     "metadata": {},
     "output_type": "execute_result"
    }
   ],
   "source": [
    "merged"
   ]
  },
  {
   "cell_type": "code",
   "execution_count": 253,
   "metadata": {
    "ExecuteTime": {
     "end_time": "2021-03-05T17:06:51.520406Z",
     "start_time": "2021-03-05T17:06:51.517427Z"
    }
   },
   "outputs": [],
   "source": [
    "# features_to_normalize = ['Persons per household']\n",
    "# merged[features_to_normalize] = merged[features_to_normalize].apply(lambda x:(x-x.min()) / (x.max()-x.min()))"
   ]
  },
  {
   "cell_type": "code",
   "execution_count": 254,
   "metadata": {
    "ExecuteTime": {
     "end_time": "2021-03-05T17:06:51.723072Z",
     "start_time": "2021-03-05T17:06:51.716504Z"
    }
   },
   "outputs": [
    {
     "data": {
      "text/plain": [
       "(0.6191861936617062, 1.4428549351083482e-52)"
      ]
     },
     "execution_count": 254,
     "metadata": {},
     "output_type": "execute_result"
    }
   ],
   "source": [
    "pearsonr(merged['Household'],merged['Persons per household'])"
   ]
  },
  {
   "cell_type": "code",
   "execution_count": 255,
   "metadata": {
    "ExecuteTime": {
     "end_time": "2021-03-05T17:06:52.161764Z",
     "start_time": "2021-03-05T17:06:52.157604Z"
    }
   },
   "outputs": [],
   "source": [
    "def corr(val1 , val2):\n",
    "    corr = pearsonr(val1,val2)\n",
    "    "
   ]
  },
  {
   "cell_type": "code",
   "execution_count": 256,
   "metadata": {
    "ExecuteTime": {
     "end_time": "2021-03-05T17:06:53.870425Z",
     "start_time": "2021-03-05T17:06:52.847225Z"
    }
   },
   "outputs": [
    {
     "name": "stderr",
     "output_type": "stream",
     "text": [
      "/work/sagarj/miniconda3/lib/python3.7/site-packages/seaborn/axisgrid.py:1847: UserWarning: JointGrid annotation is deprecated and will be removed in a future release.\n",
      "  warnings.warn(UserWarning(msg))\n"
     ]
    },
    {
     "data": {
      "text/plain": [
       "<seaborn.axisgrid.JointGrid at 0x7f19e300e3c8>"
      ]
     },
     "execution_count": 256,
     "metadata": {},
     "output_type": "execute_result"
    },
    {
     "data": {
      "image/png": "[encoded data removed]",
      "text/plain": [
       "<Figure size 720x720 with 3 Axes>"
      ]
     },
     "metadata": {},
     "output_type": "display_data"
    }
   ],
   "source": [
    "sns.set(font_scale=2) \n",
    "ax = sns.jointplot(x=merged['Household'], y=merged['Persons per household'], kind='regression',height=10);\n",
    "plt.xlabel('Predicted household size: aggregated from individual data')\n",
    "plt.ylabel('Census household size')\n",
    "ax.annotate(pearsonr)"
   ]
  },
  {
   "cell_type": "code",
   "execution_count": null,
   "metadata": {},
   "outputs": [],
   "source": []
  },
  {
   "cell_type": "code",
   "execution_count": null,
   "metadata": {},
   "outputs": [],
   "source": []
  }
 ],
 "metadata": {
  "kernelspec": {
   "display_name": "Python [conda env:root] *",
   "language": "python",
   "name": "conda-root-py"
  },
  "language_info": {
   "codemirror_mode": {
    "name": "ipython",
    "version": 3
   },
   "file_extension": ".py",
   "mimetype": "text/x-python",
   "name": "python",
   "nbconvert_exporter": "python",
   "pygments_lexer": "ipython3",
   "version": "3.7.0"
  }
 },
 "nbformat": 4,
 "nbformat_minor": 2
}
