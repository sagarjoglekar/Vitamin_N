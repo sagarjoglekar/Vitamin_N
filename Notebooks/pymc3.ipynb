{
 "cells": [
  {
   "cell_type": "code",
   "execution_count": null,
   "metadata": {},
   "outputs": [],
   "source": []
  },
  {
   "cell_type": "code",
   "execution_count": 2,
   "metadata": {
    "ExecuteTime": {
     "end_time": "2020-02-04T10:58:17.809296Z",
     "start_time": "2020-02-04T10:58:17.798642Z"
    }
   },
   "outputs": [],
   "source": [
    "%matplotlib inline\n",
    "\n",
    "from pymc3 import  *\n",
    "import pymc3 as pm\n",
    "\n",
    "import numpy as np\n",
    "import matplotlib.pyplot as plt\n",
    "import pandas as pd \n",
    "import json\n",
    "import arviz\n",
    "from sklearn import preprocessing"
   ]
  },
  {
   "cell_type": "code",
   "execution_count": null,
   "metadata": {},
   "outputs": [],
   "source": []
  },
  {
   "cell_type": "code",
   "execution_count": 3,
   "metadata": {
    "ExecuteTime": {
     "end_time": "2020-02-04T10:58:19.777703Z",
     "start_time": "2020-02-04T10:58:19.769908Z"
    }
   },
   "outputs": [
    {
     "data": {
      "text/plain": [
       "'3.7'"
      ]
     },
     "execution_count": 3,
     "metadata": {},
     "output_type": "execute_result"
    }
   ],
   "source": [
    "pm.__version__"
   ]
  },
  {
   "cell_type": "code",
   "execution_count": 4,
   "metadata": {
    "ExecuteTime": {
     "end_time": "2020-02-04T10:58:20.871788Z",
     "start_time": "2020-02-04T10:58:20.794071Z"
    }
   },
   "outputs": [],
   "source": [
    "Ward_IMD = json.load(open('Ward_index_deprivation.json'))\n",
    "\n",
    "ward = {'GSS_CODE': [] , 'IMD' : []}\n",
    "for k in Ward_IMD:\n",
    "    ward['GSS_CODE'].append(k)\n",
    "    ward['IMD'].append(Ward_IMD[k])\n",
    "wardDf = pd.DataFrame.from_dict(ward)\n",
    "\n",
    "theData = pd.read_csv('Merged_all_disease_green_sat.csv')"
   ]
  },
  {
   "cell_type": "code",
   "execution_count": 5,
   "metadata": {
    "ExecuteTime": {
     "end_time": "2020-02-04T10:58:21.199644Z",
     "start_time": "2020-02-04T10:58:21.175055Z"
    }
   },
   "outputs": [],
   "source": [
    "data = pd.merge(theData,wardDf,left_on='GSS_CODE' , right_on='GSS_CODE')"
   ]
  },
  {
   "cell_type": "code",
   "execution_count": 6,
   "metadata": {
    "ExecuteTime": {
     "end_time": "2020-02-04T10:58:21.734072Z",
     "start_time": "2020-02-04T10:58:21.729189Z"
    }
   },
   "outputs": [
    {
     "data": {
      "text/plain": [
       "424"
      ]
     },
     "execution_count": 6,
     "metadata": {},
     "output_type": "execute_result"
    }
   ],
   "source": [
    "len(data)"
   ]
  },
  {
   "cell_type": "code",
   "execution_count": 7,
   "metadata": {
    "ExecuteTime": {
     "end_time": "2020-02-04T10:58:22.104853Z",
     "start_time": "2020-02-04T10:58:22.095469Z"
    }
   },
   "outputs": [
    {
     "data": {
      "text/plain": [
       "['Unnamed: 0',\n",
       " 'green_score',\n",
       " 'GSS_CODE',\n",
       " 'tree_pixels',\n",
       " 'grass_pixels',\n",
       " 'urban_pixels',\n",
       " 'npix',\n",
       " 'tree_pct',\n",
       " 'grass_pct',\n",
       " 'urban_pct',\n",
       " 'borough_name_x',\n",
       " 'TreePixelDensity',\n",
       " 'TreeDensity',\n",
       " 'psoriasis_Prescriptions',\n",
       " 'psoriasis_Prevalence',\n",
       " \"Meniere's disease_Prescriptions\",\n",
       " \"Meniere's disease_Prevalence\",\n",
       " \"crohn's disease_Prescriptions\",\n",
       " \"crohn's disease_Prevalence\",\n",
       " 'gastroparesis_Prescriptions',\n",
       " 'gastroparesis_Prevalence',\n",
       " 'irritable bowel syndrome_Prescriptions',\n",
       " 'irritable bowel syndrome_Prevalence',\n",
       " 'parkinson_Prescriptions',\n",
       " 'parkinson_Prevalence',\n",
       " 'sleep apnea_Prescriptions',\n",
       " 'sleep apnea_Prevalence',\n",
       " 'interstitial cystitis_Prescriptions',\n",
       " 'interstitial cystitis_Prevalence',\n",
       " 'bipolar_Prescriptions',\n",
       " 'bipolar_Prevalence',\n",
       " 'hypothyroidism_Prescriptions',\n",
       " 'hypothyroidism_Prevalence',\n",
       " 'dementia_Prescriptions',\n",
       " 'dementia_Prevalence',\n",
       " 'rheumatoid_Prescriptions',\n",
       " 'rheumatoid_Prevalence',\n",
       " 'depression_Prescriptions',\n",
       " 'depression_Prevalence',\n",
       " 'diabetes_Prescriptions',\n",
       " 'diabetes_Prevalence',\n",
       " 'Area',\n",
       " 'pixelDensity_tree',\n",
       " 'WD17CD',\n",
       " 'GLUD_Area of Greenspace PCT',\n",
       " 'LCM_grass_pct',\n",
       " 'LCM_tree_pct',\n",
       " 'LCM_urban_pct',\n",
       " 'UA_Green urban areas PCT',\n",
       " 'UA_Forests PCT',\n",
       " 'StreetTrees_PCT',\n",
       " 'C',\n",
       " 'C_StreetTrees',\n",
       " 'area_id',\n",
       " 'weight',\n",
       " 'weight_perc2.5',\n",
       " 'weight_perc25',\n",
       " 'weight_perc50',\n",
       " 'weight_perc75',\n",
       " 'weight_perc97.5',\n",
       " 'weight_std',\n",
       " 'weight_ci95',\n",
       " 'volume',\n",
       " 'volume_perc2.5',\n",
       " 'volume_perc25',\n",
       " 'volume_perc50',\n",
       " 'volume_perc75',\n",
       " 'volume_perc97.5',\n",
       " 'volume_std',\n",
       " 'volume_ci95',\n",
       " 'fat',\n",
       " 'fat_perc2.5',\n",
       " 'fat_perc25',\n",
       " 'fat_perc50',\n",
       " 'fat_perc75',\n",
       " 'fat_perc97.5',\n",
       " 'fat_std',\n",
       " 'fat_ci95',\n",
       " 'saturate',\n",
       " 'saturate_perc2.5',\n",
       " 'saturate_perc25',\n",
       " 'saturate_perc50',\n",
       " 'saturate_perc75',\n",
       " 'saturate_perc97.5',\n",
       " 'saturate_std',\n",
       " 'saturate_ci95',\n",
       " 'salt',\n",
       " 'salt_perc2.5',\n",
       " 'salt_perc25',\n",
       " 'salt_perc50',\n",
       " 'salt_perc75',\n",
       " 'salt_perc97.5',\n",
       " 'salt_std',\n",
       " 'salt_ci95',\n",
       " 'sugar',\n",
       " 'sugar_perc2.5',\n",
       " 'sugar_perc25',\n",
       " 'sugar_perc50',\n",
       " 'sugar_perc75',\n",
       " 'sugar_perc97.5',\n",
       " 'sugar_std',\n",
       " 'sugar_ci95',\n",
       " 'protein',\n",
       " 'protein_perc2.5',\n",
       " 'protein_perc25',\n",
       " 'protein_perc50',\n",
       " 'protein_perc75',\n",
       " 'protein_perc97.5',\n",
       " 'protein_std',\n",
       " 'protein_ci95',\n",
       " 'carb',\n",
       " 'carb_perc2.5',\n",
       " 'carb_perc25',\n",
       " 'carb_perc50',\n",
       " 'carb_perc75',\n",
       " 'carb_perc97.5',\n",
       " 'carb_std',\n",
       " 'carb_ci95',\n",
       " 'fibre',\n",
       " 'fibre_perc2.5',\n",
       " 'fibre_perc25',\n",
       " 'fibre_perc50',\n",
       " 'fibre_perc75',\n",
       " 'fibre_perc97.5',\n",
       " 'fibre_std',\n",
       " 'fibre_ci95',\n",
       " 'alcohol',\n",
       " 'alcohol_perc2.5',\n",
       " 'alcohol_perc25',\n",
       " 'alcohol_perc50',\n",
       " 'alcohol_perc75',\n",
       " 'alcohol_perc97.5',\n",
       " 'alcohol_std',\n",
       " 'alcohol_ci95',\n",
       " 'energy_fat',\n",
       " 'energy_fat_perc2.5',\n",
       " 'energy_fat_perc25',\n",
       " 'energy_fat_perc50',\n",
       " 'energy_fat_perc75',\n",
       " 'energy_fat_perc97.5',\n",
       " 'energy_fat_std',\n",
       " 'energy_fat_ci95',\n",
       " 'energy_saturate',\n",
       " 'energy_saturate_perc2.5',\n",
       " 'energy_saturate_perc25',\n",
       " 'energy_saturate_perc50',\n",
       " 'energy_saturate_perc75',\n",
       " 'energy_saturate_perc97.5',\n",
       " 'energy_saturate_std',\n",
       " 'energy_saturate_ci95',\n",
       " 'energy_sugar',\n",
       " 'energy_sugar_perc2.5',\n",
       " 'energy_sugar_perc25',\n",
       " 'energy_sugar_perc50',\n",
       " 'energy_sugar_perc75',\n",
       " 'energy_sugar_perc97.5',\n",
       " 'energy_sugar_std',\n",
       " 'energy_sugar_ci95',\n",
       " 'energy_protein',\n",
       " 'energy_protein_perc2.5',\n",
       " 'energy_protein_perc25',\n",
       " 'energy_protein_perc50',\n",
       " 'energy_protein_perc75',\n",
       " 'energy_protein_perc97.5',\n",
       " 'energy_protein_std',\n",
       " 'energy_protein_ci95',\n",
       " 'energy_carb',\n",
       " 'energy_carb_perc2.5',\n",
       " 'energy_carb_perc25',\n",
       " 'energy_carb_perc50',\n",
       " 'energy_carb_perc75',\n",
       " 'energy_carb_perc97.5',\n",
       " 'energy_carb_std',\n",
       " 'energy_carb_ci95',\n",
       " 'energy_fibre',\n",
       " 'energy_fibre_perc2.5',\n",
       " 'energy_fibre_perc25',\n",
       " 'energy_fibre_perc50',\n",
       " 'energy_fibre_perc75',\n",
       " 'energy_fibre_perc97.5',\n",
       " 'energy_fibre_std',\n",
       " 'energy_fibre_ci95',\n",
       " 'energy_alcohol',\n",
       " 'energy_alcohol_perc2.5',\n",
       " 'energy_alcohol_perc25',\n",
       " 'energy_alcohol_perc50',\n",
       " 'energy_alcohol_perc75',\n",
       " 'energy_alcohol_perc97.5',\n",
       " 'energy_alcohol_std',\n",
       " 'energy_alcohol_ci95',\n",
       " 'energy_tot',\n",
       " 'energy_tot_perc2.5',\n",
       " 'energy_tot_perc25',\n",
       " 'energy_tot_perc50',\n",
       " 'energy_tot_perc75',\n",
       " 'energy_tot_perc97.5',\n",
       " 'energy_tot_std',\n",
       " 'energy_tot_ci95',\n",
       " 'f_energy_fat',\n",
       " 'f_energy_saturate',\n",
       " 'f_energy_sugar',\n",
       " 'f_energy_protein',\n",
       " 'f_energy_carb',\n",
       " 'f_energy_fibre',\n",
       " 'f_energy_alcohol',\n",
       " 'energy_density',\n",
       " 'h_nutrients_weight',\n",
       " 'h_nutrients_weight_norm',\n",
       " 'h_nutrients_calories',\n",
       " 'h_nutrients_calories_norm',\n",
       " 'f_beer',\n",
       " 'f_dairy',\n",
       " 'f_eggs',\n",
       " 'f_fats_oils',\n",
       " 'f_fish',\n",
       " 'f_fruit_veg',\n",
       " 'f_grains',\n",
       " 'f_meat_red',\n",
       " 'f_poultry',\n",
       " 'f_readymade',\n",
       " 'f_sauces',\n",
       " 'f_soft_drinks',\n",
       " 'f_spirits',\n",
       " 'f_sweets',\n",
       " 'f_tea_coffee',\n",
       " 'f_water',\n",
       " 'f_wine',\n",
       " 'f_dairy_weight',\n",
       " 'f_eggs_weight',\n",
       " 'f_fats_oils_weight',\n",
       " 'f_fish_weight',\n",
       " 'f_fruit_veg_weight',\n",
       " 'f_grains_weight',\n",
       " 'f_meat_red_weight',\n",
       " 'f_poultry_weight',\n",
       " 'f_readymade_weight',\n",
       " 'f_sauces_weight',\n",
       " 'f_sweets_weight',\n",
       " 'h_items',\n",
       " 'h_items_norm',\n",
       " 'h_items_weight',\n",
       " 'h_items_weight_norm',\n",
       " 'representativeness_norm',\n",
       " 'transaction_days',\n",
       " 'num_transactions',\n",
       " 'man_day',\n",
       " 'population',\n",
       " 'male',\n",
       " 'female',\n",
       " 'age_0_17',\n",
       " 'age_18_64',\n",
       " 'age_65+',\n",
       " 'avg_age',\n",
       " 'area_sq_km',\n",
       " 'people_per_sq_km',\n",
       " 'All_Deaths',\n",
       " 'Resp_deaths',\n",
       " 'WD16CD',\n",
       " 'borough_name_y',\n",
       " 'Borough',\n",
       " 'Ward_Name',\n",
       " 'Year',\n",
       " 'Population',\n",
       " 'Hectares',\n",
       " 'Square_Kilometres',\n",
       " 'Population_per_hectare',\n",
       " 'Population_per_square_kilometre',\n",
       " 'IMD']"
      ]
     },
     "execution_count": 7,
     "metadata": {},
     "output_type": "execute_result"
    }
   ],
   "source": [
    "list(data.columns)"
   ]
  },
  {
   "cell_type": "code",
   "execution_count": null,
   "metadata": {},
   "outputs": [],
   "source": []
  },
  {
   "cell_type": "code",
   "execution_count": 8,
   "metadata": {
    "ExecuteTime": {
     "end_time": "2020-02-04T10:58:24.164783Z",
     "start_time": "2020-02-04T10:58:24.159420Z"
    }
   },
   "outputs": [
    {
     "data": {
      "text/plain": [
       "424"
      ]
     },
     "execution_count": 8,
     "metadata": {},
     "output_type": "execute_result"
    }
   ],
   "source": [
    "len(data)"
   ]
  },
  {
   "cell_type": "code",
   "execution_count": 9,
   "metadata": {
    "ExecuteTime": {
     "end_time": "2020-02-04T10:58:24.580470Z",
     "start_time": "2020-02-04T10:58:24.577132Z"
    }
   },
   "outputs": [],
   "source": [
    "# size = 200\n",
    "# true_intercept = 1\n",
    "# true_slope = 2\n",
    "\n",
    "# x = np.linspace(0, 1, size)\n",
    "# # y = a + b*x\n",
    "# true_regression_line = true_intercept + true_slope * x\n",
    "# # add noise\n",
    "# y = true_regression_line + np.random.normal(scale=.5, size=size)\n",
    "\n",
    "# data = dict(x=x, y=y)"
   ]
  },
  {
   "cell_type": "code",
   "execution_count": 10,
   "metadata": {
    "ExecuteTime": {
     "end_time": "2020-02-04T11:42:21.303426Z",
     "start_time": "2020-02-04T11:42:21.300438Z"
    }
   },
   "outputs": [],
   "source": [
    "# y.shape\n",
    "# x.shape"
   ]
  },
  {
   "cell_type": "code",
   "execution_count": 11,
   "metadata": {
    "ExecuteTime": {
     "end_time": "2020-02-04T11:42:21.655307Z",
     "start_time": "2020-02-04T11:42:21.652278Z"
    }
   },
   "outputs": [],
   "source": [
    "\n",
    "# fig = plt.figure(figsize=(7, 7))\n",
    "# ax = fig.add_subplot(111, xlabel='x', ylabel='y', title='Generated data and underlying model')\n",
    "# ax.plot(x, y, 'o', label='sampled data')\n",
    "# ax.plot(x, true_regression_line, label='true regression line', lw=2.)\n",
    "# plt.legend(loc=0);"
   ]
  },
  {
   "cell_type": "code",
   "execution_count": 12,
   "metadata": {
    "ExecuteTime": {
     "end_time": "2020-02-04T11:42:21.885575Z",
     "start_time": "2020-02-04T11:42:21.882469Z"
    }
   },
   "outputs": [],
   "source": [
    "# basic_model = pm.Model()\n",
    "# with basic_model: # model specifications in PyMC3 are wrapped in a with-statement\n",
    "#     # Define priors\n",
    "#     sigma = HalfNormal('sigma', 1)\n",
    "#     intercept = Normal('Intercept', 0, sd=20)\n",
    "#     x_coeff = Normal('x', 0, sd=20)\n",
    "\n",
    "#     # Define likelihood\n",
    "#     likelihood = Normal('y', mu=intercept + x_coeff * x,\n",
    "#                         sd=sigma, observed=y)\n",
    "\n",
    "#     # Inference!\n",
    "#     trace = sample(200) # draw 3000 posterior samples using NUTS sampling"
   ]
  },
  {
   "cell_type": "code",
   "execution_count": 13,
   "metadata": {
    "ExecuteTime": {
     "end_time": "2020-02-04T11:42:22.280469Z",
     "start_time": "2020-02-04T11:42:22.277330Z"
    }
   },
   "outputs": [],
   "source": [
    "# with Model() as model:\n",
    "#     # specify glm and pass in data. The resulting linear model, its likelihood and\n",
    "#     # and all its parameters are automatically added to our model.\n",
    "#     glm.GLM.from_formula('y ~ x', data)\n",
    "#     trace = sample(3000, cores=2) # draw 3000 posterior samples using NUTS sampling"
   ]
  },
  {
   "cell_type": "code",
   "execution_count": 14,
   "metadata": {
    "ExecuteTime": {
     "end_time": "2020-02-04T11:42:23.628655Z",
     "start_time": "2020-02-04T11:42:23.625634Z"
    }
   },
   "outputs": [],
   "source": [
    "# with basic_model:\n",
    "#     # draw 500 posterior samples\n",
    "#     trace = py3.sample(500)\n",
    "\n"
   ]
  },
  {
   "cell_type": "code",
   "execution_count": 15,
   "metadata": {
    "ExecuteTime": {
     "end_time": "2020-02-04T11:42:23.909416Z",
     "start_time": "2020-02-04T11:42:23.906491Z"
    }
   },
   "outputs": [],
   "source": [
    "# features_to_normalize = ['Resp_deaths', 'All_Deaths']\n",
    "# data[features_to_normalize] = data[features_to_normalize].apply(lambda x:(x-x.min()) / (x.max()-x.min()))"
   ]
  },
  {
   "cell_type": "code",
   "execution_count": 16,
   "metadata": {
    "ExecuteTime": {
     "end_time": "2020-02-04T11:42:24.357581Z",
     "start_time": "2020-02-04T11:42:24.354420Z"
    }
   },
   "outputs": [],
   "source": [
    "# new_df = data.filter(['TreeDensity','TreePixelDensity','avg_age','IMD','depression_Prescriptions',''], axis=1)"
   ]
  },
  {
   "cell_type": "code",
   "execution_count": 17,
   "metadata": {
    "ExecuteTime": {
     "end_time": "2020-02-04T11:42:25.682613Z",
     "start_time": "2020-02-04T11:42:25.664628Z"
    }
   },
   "outputs": [],
   "source": [
    "X_dims = ['avg_age', 'IMD', 'avg_age', 'pixelDensity_tree', 'TreeDensity', 'TreePixelDensity','people_per_sq_km','UA_Green urban areas PCT']\n",
    "Y_dims = ['depression_Prescriptions']\n",
    "\n",
    "X = np.array(data[X_dims].values)\n",
    "Y = np.array(data[Y_dims].values)\n",
    "min_max_scaler = preprocessing.MinMaxScaler() #StandardScaler() #MinMaxScaler()\n",
    "X = min_max_scaler.fit_transform(X)\n",
    "Y = min_max_scaler.fit_transform(Y)\n",
    "\n",
    "X_pm = X.transpose()\n",
    "Y_pm = Y.transpose()[0]\n",
    "# Y_dims = ['diabetes_Prescriptions']"
   ]
  },
  {
   "cell_type": "code",
   "execution_count": 18,
   "metadata": {
    "ExecuteTime": {
     "end_time": "2020-02-04T11:42:28.500652Z",
     "start_time": "2020-02-04T11:42:26.803842Z"
    }
   },
   "outputs": [
    {
     "name": "stdout",
     "output_type": "stream",
     "text": [
      "building model\n"
     ]
    }
   ],
   "source": [
    "print('building model')\n",
    "basic_model = pm.Model()\n",
    "num_datapoints = 100\n",
    "num_samples = 100\n",
    "with basic_model:\n",
    "\n",
    "    # Priors for unknown model parameters\n",
    "    alpha = pm.Normal('alpha', mu=0, sd=10)\n",
    "    beta = pm.Normal('beta', mu=0, sd=10, shape=len(X_pm))\n",
    "    sigma = pm.HalfNormal('sigma', sd=1)\n",
    "\n",
    "    # Expected value of outcome\n",
    "    #mu = alpha + beta[0]*X_pm[0] + beta[1]*X_pm[1]\n",
    "    beta_terms = [beta[i] * X_pm[i][0:num_datapoints] for i in range(0,len(X_pm))]\n",
    "    mu = alpha + sum(beta_terms)\n",
    "\n",
    "    # Likelihood (sampling distribution) of observations\n",
    "    Y_obs = pm.Normal('Y_obs', mu=mu, sd=sigma, observed=Y[0:num_datapoints])"
   ]
  },
  {
   "cell_type": "code",
   "execution_count": 19,
   "metadata": {
    "ExecuteTime": {
     "end_time": "2020-02-04T12:38:43.658753Z",
     "start_time": "2020-02-04T11:42:29.327670Z"
    }
   },
   "outputs": [
    {
     "name": "stdout",
     "output_type": "stream",
     "text": [
      "sampling\n"
     ]
    },
    {
     "name": "stderr",
     "output_type": "stream",
     "text": [
      "Multiprocess sampling (4 chains in 4 jobs)\n",
      "NUTS: [sigma, beta, alpha]\n",
      "Sampling 4 chains: 100%|██████████| 44000/44000 [56:10<00:00, 13.05draws/s] \n",
      "The acceptance probability does not match the target. It is 0.9075010377860911, but should be close to 0.8. Try to increase the number of tuning steps.\n",
      "The chain reached the maximum tree depth. Increase max_treedepth, increase target_accept or reparameterize.\n",
      "The chain reached the maximum tree depth. Increase max_treedepth, increase target_accept or reparameterize.\n",
      "The acceptance probability does not match the target. It is 0.9159086102175812, but should be close to 0.8. Try to increase the number of tuning steps.\n",
      "The chain reached the maximum tree depth. Increase max_treedepth, increase target_accept or reparameterize.\n",
      "The chain reached the maximum tree depth. Increase max_treedepth, increase target_accept or reparameterize.\n",
      "The gelman-rubin statistic is larger than 1.2 for some parameters.\n",
      "The estimated number of effective samples is smaller than 200 for some parameters.\n"
     ]
    }
   ],
   "source": [
    "print('sampling')\n",
    "with basic_model:\n",
    "    # Sampler\n",
    "    step = pm.NUTS()\n",
    "\n",
    "    # Posterior distribution\n",
    "    trace = pm.sample(1000, step,tune=10000)"
   ]
  },
  {
   "cell_type": "code",
   "execution_count": 24,
   "metadata": {
    "ExecuteTime": {
     "end_time": "2020-02-04T17:58:54.758338Z",
     "start_time": "2020-02-04T17:58:54.714525Z"
    },
    "scrolled": true
   },
   "outputs": [
    {
     "ename": "ValueError",
     "evalue": "could not convert string to float: 'E05000420'",
     "output_type": "error",
     "traceback": [
      "\u001b[0;31m---------------------------------------------------------------------------\u001b[0m",
      "\u001b[0;31mValueError\u001b[0m                                Traceback (most recent call last)",
      "\u001b[0;32m<ipython-input-24-89c2089aae85>\u001b[0m in \u001b[0;36m<module>\u001b[0;34m\u001b[0m\n\u001b[1;32m     11\u001b[0m \u001b[0mY\u001b[0m\u001b[0;34m=\u001b[0m\u001b[0mnp\u001b[0m\u001b[0;34m.\u001b[0m\u001b[0marray\u001b[0m\u001b[0;34m(\u001b[0m\u001b[0mdata\u001b[0m\u001b[0;34m[\u001b[0m\u001b[0;34m'depression_Prescriptions'\u001b[0m\u001b[0;34m]\u001b[0m\u001b[0;34m.\u001b[0m\u001b[0mvalues\u001b[0m\u001b[0;34m,\u001b[0m\u001b[0mdtype\u001b[0m\u001b[0;34m=\u001b[0m\u001b[0mnp\u001b[0m\u001b[0;34m.\u001b[0m\u001b[0mfloat32\u001b[0m\u001b[0;34m)\u001b[0m\u001b[0;34m\u001b[0m\u001b[0;34m\u001b[0m\u001b[0m\n\u001b[1;32m     12\u001b[0m \u001b[0;34m\u001b[0m\u001b[0m\n\u001b[0;32m---> 13\u001b[0;31m \u001b[0moslaua_idx\u001b[0m \u001b[0;34m=\u001b[0m \u001b[0mnp\u001b[0m\u001b[0;34m.\u001b[0m\u001b[0marray\u001b[0m\u001b[0;34m(\u001b[0m\u001b[0mdata\u001b[0m\u001b[0;34m[\u001b[0m\u001b[0;34m'GSS_CODE'\u001b[0m\u001b[0;34m]\u001b[0m\u001b[0;34m.\u001b[0m\u001b[0mvalues\u001b[0m\u001b[0;34m,\u001b[0m\u001b[0mdtype\u001b[0m\u001b[0;34m=\u001b[0m\u001b[0mnp\u001b[0m\u001b[0;34m.\u001b[0m\u001b[0mfloat32\u001b[0m\u001b[0;34m)\u001b[0m\u001b[0;34m\u001b[0m\u001b[0;34m\u001b[0m\u001b[0m\n\u001b[0m\u001b[1;32m     14\u001b[0m \u001b[0mn_oslauas\u001b[0m \u001b[0;34m=\u001b[0m \u001b[0mlen\u001b[0m\u001b[0;34m(\u001b[0m\u001b[0mdata\u001b[0m\u001b[0;34m[\u001b[0m\u001b[0;34m'GSS_CODE'\u001b[0m\u001b[0;34m]\u001b[0m\u001b[0;34m.\u001b[0m\u001b[0munique\u001b[0m\u001b[0;34m(\u001b[0m\u001b[0;34m)\u001b[0m\u001b[0;34m)\u001b[0m\u001b[0;34m\u001b[0m\u001b[0;34m\u001b[0m\u001b[0m\n\u001b[1;32m     15\u001b[0m \u001b[0;34m\u001b[0m\u001b[0m\n",
      "\u001b[0;31mValueError\u001b[0m: could not convert string to float: 'E05000420'"
     ]
    }
   ],
   "source": [
    "X1=np.array(data['avg_age'].values,dtype=np.float32)\n",
    "X2=np.array(data['IMD'].values,dtype=np.float32)\n",
    "X3=np.array(data['avg_age'].values,dtype=np.float32)\n",
    "X4=np.array(data['pixelDensity_tree'].values,dtype=np.float32)\n",
    "X5=np.array(data['TreeDensity'].values,dtype=np.float32)\n",
    "X6=np.array(data['TreePixelDensity'].values,dtype=np.float32)\n",
    "X7=np.array(data['people_per_sq_km'].values,dtype=np.float32)\n",
    "X8=np.array(data['UA_Green urban areas PCT'].values,dtype=np.float32)\n",
    "\n",
    "\n",
    "Y=np.array(data['depression_Prescriptions'].values,dtype=np.float32)\n",
    "\n",
    "oslaua_idx = np.array(data['GSS_CODE'].values,dtype=np.float32)\n",
    "n_oslauas = len(data['GSS_CODE'].unique())\n",
    "\n",
    "print('building model')\n",
    "hierarchical_model = pm.Model()\n",
    "num_datapoints = 100\n",
    "num_samples = 100\n",
    "with hierarchical_model:\n",
    "    # Hyperpriors for group nodes\n",
    "    mu_a = pm.Normal('mu_a', mu=0., sd=100)\n",
    "    sigma_a = pm.HalfNormal('sigma_a', 5.)\n",
    "    a = pm.Normal('a', mu=mu_a, sd=sigma_a,shape=n_oslauas)\n",
    "    \n",
    "    mu_b1 = pm.Normal('mu_b1', mu=0., sd=100)\n",
    "    sigma_b1 = pm.HalfNormal('sigma_b1', 5.)\n",
    "    b1 = pm.Normal('b1', mu=mu_b1, sd=sigma_b1,shape=n_oslauas)\n",
    "    \n",
    "    mu_b2 = pm.Normal('mu_b2', mu=0., sd=100)\n",
    "    sigma_b2 = pm.HalfNormal('sigma_b2', 5.)\n",
    "    b2 = pm.Normal('b2', mu=mu_b2, sd=sigma_b2,shape=n_oslauas)\n",
    "    \n",
    "    mu_b3 = pm.Normal('mu_b3', mu=0., sd=100)\n",
    "    sigma_b3 = pm.HalfNormal('sigma_b3', 5.)\n",
    "    b3 = pm.Normal('b3', mu=mu_b3, sd=sigma_b3,shape=n_oslauas)\n",
    "    \n",
    "    mu_b4 = pm.Normal('mu_b4', mu=0., sd=100)\n",
    "    sigma_b4 = pm.HalfNormal('sigma_b4', 5.)\n",
    "    b4 = pm.Normal('b4', mu=mu_b4, sd=sigma_b4,shape=n_oslauas)\n",
    "    \n",
    "    mu_b5 = pm.Normal('mu_b5', mu=0., sd=100)\n",
    "    sigma_b5 = pm.HalfNormal('sigma_b5', 5.)\n",
    "    b5 = pm.Normal('b5', mu=mu_b5, sd=sigma_b5,shape=n_oslauas)\n",
    "    \n",
    "    mu_b6 = pm.Normal('mu_b6', mu=0., sd=100)\n",
    "    sigma_b6 = pm.HalfNormal('sigma_b6', 5.)\n",
    "    b6 = pm.Normal('b6', mu=mu_b6, sd=sigma_b6,shape=n_oslauas)\n",
    "    \n",
    "    mu_b7 = pm.Normal('mu_b7', mu=0., sd=100)\n",
    "    sigma_b7 = pm.HalfNormal('sigma_b7', 5.)\n",
    "    b7 = pm.Normal('b7', mu=mu_b7, sd=sigma_b7,shape=n_oslauas)\n",
    "    \n",
    "    mu_b8 = pm.Normal('mu_b8', mu=0., sd=100)\n",
    "    sigma_b8 = pm.HalfNormal('sigma_b8', 5.)\n",
    "    b8 = pm.Normal('b8', mu=mu_b8, sd=sigma_b8,shape=n_oslauas)\n",
    "    \n",
    "    # Model error\n",
    "    eps = pm.HalfCauchy('eps', 5.)\n",
    "    \n",
    "    estimate = a[oslaua_idx] + b1[oslaua_idx]*X1 + b2[oslaua_idx]*X2 + b3[oslaua_idx]*X3 + b4[oslaua_idx]*X4 + b5[oslaua_idx]*X5 + b6[oslaua_idx]*X6 + b7[oslaua_idx]*X7 + b8[oslaua_idx]*X8 \n",
    "    # Likelihood (sampling distribution) of observations\n",
    "    likelihood = pm.Normal('likelihood', mu=estimate, sd=eps, observed=Y)"
   ]
  },
  {
   "cell_type": "code",
   "execution_count": null,
   "metadata": {},
   "outputs": [],
   "source": [
    "with hierarchical_model:\n",
    "    hierarchical_trace = pm.sample(10000, tune=10000, target_accept=.9)"
   ]
  },
  {
   "cell_type": "code",
   "execution_count": 68,
   "metadata": {
    "ExecuteTime": {
     "end_time": "2020-02-04T10:46:59.286223Z",
     "start_time": "2020-02-04T10:46:59.279806Z"
    }
   },
   "outputs": [
    {
     "data": {
      "text/plain": [
       "{'alpha': 0.32849517,\n",
       " 'beta': array([-1.1613104e+01, -6.2840129e-04,  1.1611056e+01, -3.6477500e-03,\n",
       "        -1.0468773e-02, -3.8074374e-03,  8.7667583e-04, -6.5452601e-03],\n",
       "       dtype=float32),\n",
       " 'sigma_log__': -2.193115,\n",
       " 'sigma': 0.111568674}"
      ]
     },
     "execution_count": 68,
     "metadata": {},
     "output_type": "execute_result"
    }
   ],
   "source": [
    "trace[2]"
   ]
  },
  {
   "cell_type": "code",
   "execution_count": 65,
   "metadata": {
    "ExecuteTime": {
     "end_time": "2020-02-04T10:46:26.398633Z",
     "start_time": "2020-02-04T10:46:26.336016Z"
    }
   },
   "outputs": [],
   "source": [
    "import seaborn as sns"
   ]
  },
  {
   "cell_type": "code",
   "execution_count": 71,
   "metadata": {
    "ExecuteTime": {
     "end_time": "2020-02-04T10:47:12.912443Z",
     "start_time": "2020-02-04T10:47:12.644574Z"
    }
   },
   "outputs": [
    {
     "data": {
      "text/plain": [
       "<matplotlib.axes._subplots.AxesSubplot at 0x7feeef8e6a90>"
      ]
     },
     "execution_count": 71,
     "metadata": {},
     "output_type": "execute_result"
    },
    {
     "data": {
      "image/png": "[encoded data removed]",
      "text/plain": [
       "<Figure size 432x288 with 1 Axes>"
      ]
     },
     "metadata": {
      "needs_background": "light"
     },
     "output_type": "display_data"
    }
   ],
   "source": [
    "sns.distplot(trace[4]['beta'])"
   ]
  },
  {
   "cell_type": "code",
   "execution_count": 64,
   "metadata": {
    "ExecuteTime": {
     "end_time": "2020-02-04T10:46:12.316572Z",
     "start_time": "2020-02-04T10:46:12.278209Z"
    }
   },
   "outputs": [
    {
     "ename": "ImportError",
     "evalue": "ArviZ is not installed. In order to use `plot_trace`:\npip install arviz",
     "output_type": "error",
     "traceback": [
      "\u001b[0;31m---------------------------------------------------------------------------\u001b[0m",
      "\u001b[0;31mImportError\u001b[0m                               Traceback (most recent call last)",
      "\u001b[0;32m<ipython-input-64-29aae36fffd9>\u001b[0m in \u001b[0;36m<module>\u001b[0;34m\u001b[0m\n\u001b[1;32m      1\u001b[0m \u001b[0mplt\u001b[0m\u001b[0;34m.\u001b[0m\u001b[0mfigure\u001b[0m\u001b[0;34m(\u001b[0m\u001b[0mfigsize\u001b[0m\u001b[0;34m=\u001b[0m\u001b[0;34m(\u001b[0m\u001b[0;36m7\u001b[0m\u001b[0;34m,\u001b[0m \u001b[0;36m7\u001b[0m\u001b[0;34m)\u001b[0m\u001b[0;34m)\u001b[0m\u001b[0;34m\u001b[0m\u001b[0;34m\u001b[0m\u001b[0m\n\u001b[0;32m----> 2\u001b[0;31m \u001b[0mpm\u001b[0m\u001b[0;34m.\u001b[0m\u001b[0mtraceplot\u001b[0m\u001b[0;34m(\u001b[0m\u001b[0mtrace\u001b[0m\u001b[0;34m[\u001b[0m\u001b[0;36m1\u001b[0m\u001b[0;34m]\u001b[0m\u001b[0;34m[\u001b[0m\u001b[0;34m'beta'\u001b[0m\u001b[0;34m]\u001b[0m\u001b[0;34m)\u001b[0m\u001b[0;34m\u001b[0m\u001b[0;34m\u001b[0m\u001b[0m\n\u001b[0m\u001b[1;32m      3\u001b[0m \u001b[0mplt\u001b[0m\u001b[0;34m.\u001b[0m\u001b[0mtight_layout\u001b[0m\u001b[0;34m(\u001b[0m\u001b[0;34m)\u001b[0m\u001b[0;34m;\u001b[0m\u001b[0;34m\u001b[0m\u001b[0;34m\u001b[0m\u001b[0m\n",
      "\u001b[0;32m~/miniconda3/lib/python3.7/site-packages/pymc3/plots/__init__.py\u001b[0m in \u001b[0;36mwrapped\u001b[0;34m(*args, **kwargs)\u001b[0m\n\u001b[1;32m     40\u001b[0m                 \u001b[0mwarnings\u001b[0m\u001b[0;34m.\u001b[0m\u001b[0mwarn\u001b[0m\u001b[0;34m(\u001b[0m\u001b[0;34m'Keyword argument `{old}` renamed to `{new}`, and will be removed in pymc3 3.8'\u001b[0m\u001b[0;34m.\u001b[0m\u001b[0mformat\u001b[0m\u001b[0;34m(\u001b[0m\u001b[0mold\u001b[0m\u001b[0;34m=\u001b[0m\u001b[0mold\u001b[0m\u001b[0;34m,\u001b[0m \u001b[0mnew\u001b[0m\u001b[0;34m=\u001b[0m\u001b[0mnew\u001b[0m\u001b[0;34m)\u001b[0m\u001b[0;34m)\u001b[0m\u001b[0;34m\u001b[0m\u001b[0;34m\u001b[0m\u001b[0m\n\u001b[1;32m     41\u001b[0m                 \u001b[0mkwargs\u001b[0m\u001b[0;34m[\u001b[0m\u001b[0mnew\u001b[0m\u001b[0;34m]\u001b[0m \u001b[0;34m=\u001b[0m \u001b[0mkwargs\u001b[0m\u001b[0;34m.\u001b[0m\u001b[0mpop\u001b[0m\u001b[0;34m(\u001b[0m\u001b[0mold\u001b[0m\u001b[0;34m)\u001b[0m\u001b[0;34m\u001b[0m\u001b[0;34m\u001b[0m\u001b[0m\n\u001b[0;32m---> 42\u001b[0;31m             \u001b[0;32mreturn\u001b[0m \u001b[0mfunc\u001b[0m\u001b[0;34m(\u001b[0m\u001b[0;34m*\u001b[0m\u001b[0margs\u001b[0m\u001b[0;34m,\u001b[0m \u001b[0;34m**\u001b[0m\u001b[0mkwargs\u001b[0m\u001b[0;34m)\u001b[0m\u001b[0;34m\u001b[0m\u001b[0;34m\u001b[0m\u001b[0m\n\u001b[0m\u001b[1;32m     43\u001b[0m     \u001b[0;32mreturn\u001b[0m \u001b[0mwrapped\u001b[0m\u001b[0;34m\u001b[0m\u001b[0;34m\u001b[0m\u001b[0m\n\u001b[1;32m     44\u001b[0m \u001b[0;34m\u001b[0m\u001b[0m\n",
      "\u001b[0;32m~/miniconda3/lib/python3.7/site-packages/pymc3/plots/__init__.py\u001b[0m in \u001b[0;36m__call__\u001b[0;34m(self, *args, **kwargs)\u001b[0m\n\u001b[1;32m     20\u001b[0m         \u001b[0;32mdef\u001b[0m \u001b[0m__call__\u001b[0m\u001b[0;34m(\u001b[0m\u001b[0mself\u001b[0m\u001b[0;34m,\u001b[0m \u001b[0;34m*\u001b[0m\u001b[0margs\u001b[0m\u001b[0;34m,\u001b[0m \u001b[0;34m**\u001b[0m\u001b[0mkwargs\u001b[0m\u001b[0;34m)\u001b[0m\u001b[0;34m:\u001b[0m\u001b[0;34m\u001b[0m\u001b[0;34m\u001b[0m\u001b[0m\n\u001b[1;32m     21\u001b[0m             raise ImportError(\n\u001b[0;32m---> 22\u001b[0;31m                 \u001b[0;34m\"ArviZ is not installed. In order to use `{0.attr}`:\\npip install arviz\"\u001b[0m\u001b[0;34m.\u001b[0m\u001b[0mformat\u001b[0m\u001b[0;34m(\u001b[0m\u001b[0mself\u001b[0m\u001b[0;34m)\u001b[0m\u001b[0;34m\u001b[0m\u001b[0;34m\u001b[0m\u001b[0m\n\u001b[0m\u001b[1;32m     23\u001b[0m             )\n\u001b[1;32m     24\u001b[0m \u001b[0;34m\u001b[0m\u001b[0m\n",
      "\u001b[0;31mImportError\u001b[0m: ArviZ is not installed. In order to use `plot_trace`:\npip install arviz"
     ]
    },
    {
     "data": {
      "text/plain": [
       "<Figure size 504x504 with 0 Axes>"
      ]
     },
     "metadata": {},
     "output_type": "display_data"
    }
   ],
   "source": [
    "plt.figure(figsize=(7, 7))\n",
    "pm.traceplot(trace[1]['beta'])\n",
    "plt.tight_layout();"
   ]
  },
  {
   "cell_type": "code",
   "execution_count": 38,
   "metadata": {
    "ExecuteTime": {
     "end_time": "2020-01-30T15:23:08.813315Z",
     "start_time": "2020-01-30T15:23:07.980754Z"
    }
   },
   "outputs": [
    {
     "data": {
      "image/png": "[encoded data removed]",
      "text/plain": [
       "<Figure size 504x504 with 1 Axes>"
      ]
     },
     "metadata": {
      "needs_background": "light"
     },
     "output_type": "display_data"
    },
    {
     "data": {
      "image/png": "[encoded data removed]",
      "text/plain": [
       "<Figure size 864x360 with 4 Axes>"
      ]
     },
     "metadata": {
      "needs_background": "light"
     },
     "output_type": "display_data"
    }
   ],
   "source": [
    "plt.figure(figsize=(7, 7))\n",
    "plt.plot(x, y, 'o', label='data')\n",
    "py3.plot_posterior(trace,\n",
    "                              label='posterior predictive regression lines')\n",
    "plt.plot(x, true_regression_line, label='true regression line', lw=3., c='y')\n",
    "\n",
    "plt.title('Posterior predictive regression lines')\n",
    "plt.legend(loc=0)\n",
    "plt.xlabel('x')\n",
    "plt.ylabel('y');"
   ]
  },
  {
   "cell_type": "code",
   "execution_count": null,
   "metadata": {},
   "outputs": [],
   "source": []
  }
 ],
 "metadata": {
  "kernelspec": {
   "display_name": "Python [conda env:root] *",
   "language": "python",
   "name": "conda-root-py"
  },
  "language_info": {
   "codemirror_mode": {
    "name": "ipython",
    "version": 3
   },
   "file_extension": ".py",
   "mimetype": "text/x-python",
   "name": "python",
   "nbconvert_exporter": "python",
   "pygments_lexer": "ipython3",
   "version": "3.7.4"
  }
 },
 "nbformat": 4,
 "nbformat_minor": 2
}
