{
 "cells": [
  {
   "cell_type": "markdown",
   "metadata": {},
   "source": [
    "Lab Notebook (Draft) : Google Earth Engine as a Planetary-scale Data Repository\n",
    "-------------------------------\n",
    "\n",
    "The aim of the this lab notebook is an introduction to Google Earth Engine to collect planetary-scale data. Google Earth Engine combines a multi-petabyte catalog of satellite imagery and geospatial datasets (small selection of vector datasets) with planetary-scale analysis capabilities and makes it available for scientists, researchers, and developers to detect changes, map trends, and quantify differences on the Earth's surface. \n",
    "\n",
    "https://earthengine.google.com/\n",
    "\n",
    "Below is the data catalog of whats available with Google Earth Engine.\n",
    "\n",
    "https://developers.google.com/earth-engine/datasets/\n",
    "\n",
    " \n",
    "It is important to note, an Earth Engine account is associated with a single Google account. To activate the earth engine account, you first need to get a Google Account and sign up with the link below. After signing up you can access GEE either through the javascript api and python api. \n",
    "\n",
    "https://signup.earthengine.google.com/#!/\n",
    "\n",
    "Specifically, we will be using the Official Python Earthengine-api ***ee*** to get the data and ***geemap*** for mapping. [1] has a lot of resources,videos and guides in using geemap to visualise in Python. Run the following lines if you have not installed geemap.\n",
    "\n",
    "```python\n",
    "!pip install geemap\n",
    "```\n",
    "https://developers.google.com/earth-engine/guides/python_install\n",
    "\n",
    "https://github.com/giswqs/geemap\n",
    "\n",
    "*Reference*<br/>\n",
    "[1] Wu, Q., (2020). geemap: A Python package for interactive mapping with Google Earth Engine. The Journal of Open Source Software, 5(51), 2305. https://doi.org/10.21105/joss.02305 <br/>"
   ]
  },
  {
   "cell_type": "markdown",
   "metadata": {},
   "source": [
    "After you have installed geemap, you need to first authenticate and initialise Earth Engine once."
   ]
  },
  {
   "cell_type": "code",
   "execution_count": null,
   "metadata": {},
   "outputs": [],
   "source": [
    "# Authenticates and initializes Earth Engine\n",
    "import ee #earthengine-api \n",
    "import geemap #geemap \n"
   ]
  },
  {
   "cell_type": "code",
   "execution_count": null,
   "metadata": {},
   "outputs": [],
   "source": [
    "ee.Authenticate()\n",
    "ee.Initialize()"
   ]
  },
  {
   "cell_type": "code",
   "execution_count": null,
   "metadata": {},
   "outputs": [],
   "source": [
    "import folium\n",
    "import geopandas as gpd\n",
    "import numpy as np\n",
    "import pandas as pd"
   ]
  },
  {
   "cell_type": "markdown",
   "metadata": {},
   "source": [
    "lets first visualise a google map using geemap that centres on London."
   ]
  },
  {
   "cell_type": "code",
   "execution_count": null,
   "metadata": {},
   "outputs": [],
   "source": [
    "Map=geemap.Map(center=[51.5,-0.14], zoom=14)"
   ]
  },
  {
   "cell_type": "markdown",
   "metadata": {},
   "source": [
    "after that whenever you would like to open a map in the notebook, you just need to call it."
   ]
  },
  {
   "cell_type": "code",
   "execution_count": null,
   "metadata": {},
   "outputs": [],
   "source": [
    "Map"
   ]
  },
  {
   "cell_type": "markdown",
   "metadata": {},
   "source": [
    "In this first lab notebook, we will focus on using Google Earth Engine to visualise satellite image data. "
   ]
  },
  {
   "cell_type": "markdown",
   "metadata": {},
   "source": [
    "First set a point using \n",
    "```python\n",
    "ee.Geometry.Point.\n",
    "```"
   ]
  },
  {
   "cell_type": "code",
   "execution_count": null,
   "metadata": {},
   "outputs": [],
   "source": [
    "#this point is the same as the one used above - just more precise\n",
    "point = ee.Geometry.Point([-0.1433,51.5058])"
   ]
  },
  {
   "cell_type": "markdown",
   "metadata": {},
   "source": [
    "Let's first get a Landsat image (SGS Landsat 8 Surface Reflectance) centered on this point. \n",
    "\n",
    "\n",
    "### Landsat \n",
    "\n",
    "Landsat, a joint program of the USGS and NASA, has been observing the Earth continuously from 1972 through the present day. Today the Landsat satellites image the entire Earth's surface at a 30-meter resolution about once every two weeks, including multispectral and thermal data.\n",
    "\n",
    "https://developers.google.com/earth-engine/datasets/catalog/LANDSAT_LC08_C01_T1_SR"
   ]
  },
  {
   "cell_type": "code",
   "execution_count": null,
   "metadata": {},
   "outputs": [],
   "source": [
    "# get landsat image\n",
    "image = ee.ImageCollection('LANDSAT/LC08/C01/T1_SR') \\\n",
    "    .filterBounds(point) \\\n",
    "    .filterDate('2016-01-01', '2016-12-31') \\\n",
    "    .sort('CLOUD_COVER') \\\n",
    "    .first() \\\n",
    "    .select('B[1-7]')\\\n",
    "    .divide(10000)\n",
    "\n",
    "vis_params = {\n",
    "    'min': 0,\n",
    "    'max': 0.3,\n",
    "    'bands': ['B4', 'B3', 'B2']\n",
    "}\n",
    "\n",
    "\n",
    "Map.addLayer(image, vis_params, \"Landsat-8\")"
   ]
  },
  {
   "cell_type": "code",
   "execution_count": null,
   "metadata": {},
   "outputs": [],
   "source": [
    "#Have another look at the map to see what you've done\n",
    "\n",
    "#keep zooming out until you can see the extent of the image you have downloaded\n",
    "\n",
    "Map"
   ]
  },
  {
   "cell_type": "markdown",
   "metadata": {},
   "source": [
    "Let's now get Sentinel-2, a higher-resolution (10m pixel), multi-spectral image. \n",
    "\n",
    "### Sentinel2\n",
    "The Copernicus Program is an ambitious initiative headed by the European Commission in partnership with the European Space Agency (ESA). The Sentinels are a constellation of satellites developed by ESA to operationalize the Copernicus program, which include all-weather radar images from Sentinel-1A and 1B, high-resolution optical images from Sentinel-2A and 2B, ocean and land data suitable for environmental and climate monitoring from Sentinel-3, as well as air quality data from Sentinel-5P.\n",
    "\n",
    "https://developers.google.com/earth-engine/datasets/catalog/COPERNICUS_S2_SR"
   ]
  },
  {
   "cell_type": "markdown",
   "metadata": {},
   "source": [
    "let's first define a cloud masking func provided by google earth engine. This is to ensure that we map and analyse pictures of the land rather than clouds.\n",
    "\n",
    "*Reference* <br/>\n",
    "https://stackoverflow.com/questions/57841300/export-google-earth-engine-rgb-sentinel-2-imagery-to-google-drive-using-python-a"
   ]
  },
  {
   "cell_type": "code",
   "execution_count": null,
   "metadata": {},
   "outputs": [],
   "source": [
    "# This is the cloud masking function provided by Google Earth Engine\n",
    "def maskS2clouds(image):\n",
    "    \n",
    "    qa = image.select('QA60')\n",
    "    #QA60 is the band (you can think of it like a variable) that stores information on cloud cover\n",
    "    # the QA stands for quality\n",
    "    \n",
    "    # Bits 10 and 11 are clouds and cirrus, respectively.\n",
    "    cloudBitMask = 1 << 10\n",
    "    cirrusBitMask = 1 << 11\n",
    "    # all the other bits are currently meaningless - awaiting higher dimensional input\n",
    "    # for discussion on it see here https://gis.stackexchange.com/questions/307974/what-are-the-other-bits-in-sentinels-qa60-band\n",
    "\n",
    "    # Both flags should be set to zero, indicating clear conditions.\n",
    "    mask = qa.bitwiseAnd(cloudBitMask).eq(0)\n",
    "    mask = mask.bitwiseAnd(cirrusBitMask).eq(0)\n",
    "\n",
    "    return image.updateMask(mask).divide(10000)\n",
    "\n"
   ]
  },
  {
   "cell_type": "markdown",
   "metadata": {},
   "source": [
    "then get an image collection from sentinel2 that covers the point between 2018-0101 and 2020-01-30 with very little cloud.\n",
    "\n",
    "```python\n",
    "ee.ImageCollection\n",
    "```"
   ]
  },
  {
   "cell_type": "markdown",
   "metadata": {},
   "source": [
    "## Get Sentinal2 image collection"
   ]
  },
  {
   "cell_type": "code",
   "execution_count": null,
   "metadata": {},
   "outputs": [],
   "source": [
    "# get sentinel2\n",
    "imageCollect = ee.ImageCollection('COPERNICUS/S2_SR') \\\n",
    "    .filterBounds(point) \\\n",
    "    .filterDate('2017-01-01', '2018-1-30') \\\n",
    "    .filter(ee.Filter.lt('CLOUDY_PIXEL_PERCENTAGE', 1))\\\n",
    "    .map(maskS2clouds)\\\n",
    "    .sort('CLOUDY_PIXEL_PERCENTAGE', False) "
   ]
  },
  {
   "cell_type": "code",
   "execution_count": null,
   "metadata": {
    "scrolled": false
   },
   "outputs": [],
   "source": [
    "# count \n",
    "count = imageCollect.limit(10).size() #you can set the limit on how many images you get from the collection\n",
    "print('Count: ', str(count.getInfo())+'\\n')"
   ]
  },
  {
   "cell_type": "code",
   "execution_count": null,
   "metadata": {},
   "outputs": [],
   "source": [
    "# you can get properties of collection\n",
    "imageCollect.propertyNames().getInfo()"
   ]
  },
  {
   "cell_type": "code",
   "execution_count": null,
   "metadata": {},
   "outputs": [],
   "source": [
    "print (imageCollect.get('system:id').getInfo())"
   ]
  },
  {
   "cell_type": "markdown",
   "metadata": {},
   "source": [
    "and then let's select the first image from the image collection.\n",
    "\n",
    "```python\n",
    "ee.Image\n",
    "```"
   ]
  },
  {
   "cell_type": "code",
   "execution_count": null,
   "metadata": {},
   "outputs": [],
   "source": [
    "image = ee.Image(imageCollect.sort('CLOUD_COVER').first())"
   ]
  },
  {
   "cell_type": "markdown",
   "metadata": {},
   "source": [
    "similarly you can get the property of the image"
   ]
  },
  {
   "cell_type": "code",
   "execution_count": null,
   "metadata": {},
   "outputs": [],
   "source": [
    "image.propertyNames().getInfo()\n"
   ]
  },
  {
   "cell_type": "code",
   "execution_count": null,
   "metadata": {},
   "outputs": [],
   "source": [
    "print (image.get('system:index').getInfo())"
   ]
  },
  {
   "cell_type": "code",
   "execution_count": null,
   "metadata": {},
   "outputs": [],
   "source": [
    "image.getMapId()"
   ]
  },
  {
   "cell_type": "markdown",
   "metadata": {},
   "source": [
    "## visualise a single image"
   ]
  },
  {
   "cell_type": "markdown",
   "metadata": {},
   "source": [
    "now, let's setup the vis params and then overlay a true-color satellite image [R,G,B] on the map. <br/>\n",
    "\n",
    "As a sidenote, \n",
    "* you need to provide min and max values suitable for displaying reflectance from Earth Engine images. (min=0.0,max=0.30) \n",
    "\n",
    "* ('B4','B3','B2') standards for Red, Green and Blue Channel for the satellite images."
   ]
  },
  {
   "cell_type": "code",
   "execution_count": null,
   "metadata": {},
   "outputs": [],
   "source": [
    "vis_params = {\n",
    "    'min': 0,\n",
    "    'max': 0.3,\n",
    "    'bands': ['B4', 'B3', 'B2']\n",
    "}\n",
    "\n",
    "Map.centerObject(point, 14)\n",
    "Map.addLayer(image, vis_params, \"Sentinel-2\")\n",
    "Map.setCenter(-0.1433,51.5058, 12)"
   ]
  },
  {
   "cell_type": "markdown",
   "metadata": {},
   "source": [
    "## visualise a collection of images based on region"
   ]
  },
  {
   "cell_type": "code",
   "execution_count": null,
   "metadata": {},
   "outputs": [],
   "source": [
    "# get sentinel2\n",
    "point = ee.Geometry.Point([-0.1433,51.5239])\n",
    "geometry = point.buffer(2000)\n",
    "\n",
    "imageMosaic = ee.ImageCollection('COPERNICUS/S2_SR') \\\n",
    "    .filterBounds(geometry) \\\n",
    "    .filterDate('2017-01-01', '2018-1-30') \\\n",
    "    .filter(ee.Filter.lt('CLOUDY_PIXEL_PERCENTAGE', 1))\\\n",
    "    .map(maskS2clouds)\\\n",
    "    .median()\\\n",
    "    .clip(geometry)\n",
    "\n",
    "Map.addLayer(imageMosaic, vis_params, \"Sentinel-2\")"
   ]
  },
  {
   "cell_type": "code",
   "execution_count": null,
   "metadata": {},
   "outputs": [],
   "source": [
    "#have a look at it!\n",
    "Map\n",
    "\n",
    "#because we used a point with buffer the new image on top is circular\n",
    "# you can see the far higher level of detail by looking at the edge"
   ]
  },
  {
   "cell_type": "markdown",
   "metadata": {},
   "source": [
    "## save image\n",
    "\n",
    "now I want to save this image. you can use the EarthEngine-api. "
   ]
  },
  {
   "cell_type": "code",
   "execution_count": null,
   "metadata": {},
   "outputs": [],
   "source": [
    "image_rgb = imageMosaic.visualize(bands=['B4', 'B3', 'B2'],\n",
    "                        min=[0.0, 0.0, 0.0],\n",
    "                        max=[0.3, 0.3, 0.3]\n",
    "                       )\n",
    "\n",
    "# Assign export parameters.\n",
    "task_config = {\n",
    "    'region': geometry.coordinates().getInfo(), \n",
    "    'folder': 'Example_Folder_Name', # where you are saving\n",
    "    'scale': 10, \n",
    "    'crs': 'EPSG:27700',\n",
    "    'description': 'sentinal_London3' # name of the file\n",
    "}\n",
    "# Export Image\n",
    "task = ee.batch.Export.image.toDrive(image_rgb, **task_config)\n",
    "task.start()"
   ]
  },
  {
   "cell_type": "markdown",
   "metadata": {},
   "source": [
    "or you can use geemap to save locally. "
   ]
  },
  {
   "cell_type": "code",
   "execution_count": null,
   "metadata": {},
   "outputs": [],
   "source": [
    "geemap.ee_export_image(image.select(['B4', 'B3', 'B2']), \n",
    "                       'temp_london.tif', \n",
    "                       scale=10, \n",
    "                       region=geometry,\n",
    "                      file_per_band=False)"
   ]
  },
  {
   "cell_type": "markdown",
   "metadata": {},
   "source": [
    "### Further Readings - Google Earth Engine Guide\n",
    "For those that are interested in exploring further with Google Earth Engine. \n",
    "There are a lot of information in the official guide. \n",
    "\n",
    "https://developers.google.com/earth-engine/guides"
   ]
  },
  {
   "cell_type": "code",
   "execution_count": null,
   "metadata": {},
   "outputs": [],
   "source": [
    "# For example, this gets the mean of the image\n",
    "# https://developers.google.com/earth-engine/guides/reducers_reduce_region\n",
    "image = image.reduce(ee.Reducer.mean())\n",
    "\n",
    "pt = ee.Geometry.Point([-0.1433,51.5058])\n",
    "geom = pt.buffer(800)\n",
    "\n",
    "meanValue = image.reduceRegion(**{\n",
    "  'reducer': ee.Reducer.mean(),\n",
    "  'geometry': geom,\n",
    "  'scale': 30, #scale of which to get the image. (30 is fine for )\n",
    "  'maxPixels': 1e9\n",
    "})\n",
    "\n",
    "print (meanValue.getInfo())"
   ]
  }
 ],
 "metadata": {
  "kernelspec": {
   "display_name": "Python 3",
   "language": "python",
   "name": "python3"
  },
  "language_info": {
   "codemirror_mode": {
    "name": "ipython",
    "version": 3
   },
   "file_extension": ".py",
   "mimetype": "text/x-python",
   "name": "python",
   "nbconvert_exporter": "python",
   "pygments_lexer": "ipython3",
   "version": "3.5.2"
  }
 },
 "nbformat": 4,
 "nbformat_minor": 4
}
