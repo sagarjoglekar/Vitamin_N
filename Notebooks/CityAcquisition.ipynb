{
 "cells": [
  {
   "cell_type": "code",
   "execution_count": 54,
   "metadata": {
    "ExecuteTime": {
     "end_time": "2019-10-30T18:03:06.295501Z",
     "start_time": "2019-10-30T18:03:06.283261Z"
    }
   },
   "outputs": [],
   "source": [
    "    import fiona\n",
    "    import os,os.path\n",
    "    from shapely.geometry import shape,mapping\n",
    "    from shapely.ops import transform\n",
    "    from functools import partial\n",
    "    import pyproj\n",
    "    from fiona.crs import from_epsg\n",
    "    import osmnx as ox\n",
    "    import matplotlib.pyplot as plt\n",
    "    import geopandas as gpd\n",
    "    import glob\n",
    "    import json\n",
    "    import numpy as np\n",
    "    import collections\n",
    "    %matplotlib inline"
   ]
  },
  {
   "cell_type": "code",
   "execution_count": 2,
   "metadata": {
    "ExecuteTime": {
     "end_time": "2019-10-30T12:16:10.458942Z",
     "start_time": "2019-10-30T12:16:10.366392Z"
    }
   },
   "outputs": [],
   "source": [
    "def createPoints(root_Dir, inshp , outshp, mini_dist):\n",
    "    \n",
    "    '''\n",
    "    This function will parse through the street network of provided city and\n",
    "    clean all highways and create points every mini_dist meters (or as specified) along\n",
    "    the linestrings\n",
    "    Required modules: Fiona and Shapely\n",
    "\n",
    "    parameters:\n",
    "        inshp: the input linear shapefile, must be in WGS84 projection, ESPG: 4326\n",
    "        output: the result point feature class\n",
    "        mini_dist: the minimum distance between two created point\n",
    "\n",
    "    last modified by Xiaojiang Li, MIT Senseable City Lab\n",
    "    \n",
    "    '''\n",
    "    inshp = root_Dir + inshp\n",
    "    outshp = root_Dir + outshp\n",
    "    input_crs = ''\n",
    "    count = 0\n",
    "    s = {'trunk_link','tertiary','motorway','motorway_link','steps', None, ' ','pedestrian','primary', 'primary_link','footway','tertiary_link', 'trunk','secondary','secondary_link','tertiary_link','bridleway','service'}\n",
    "    \n",
    "    # the temporaray file of the cleaned data\n",
    "    root = os.path.dirname(root_Dir)\n",
    "    basename = 'clean_' + os.path.basename(inshp)\n",
    "    temp_cleanedStreetmap = os.path.join(root,basename)\n",
    "    c = fiona.open(inshp)\n",
    "    input_crs = c.crs['init']\n",
    "    c.close()\n",
    "    # if the tempfile exist then delete it\n",
    "    if os.path.exists(temp_cleanedStreetmap):\n",
    "        fiona.remove(temp_cleanedStreetmap, 'ESRI Shapefile')\n",
    "    \n",
    "    # clean the original street maps by removing highways, if it the street map not from Open street data, users'd better to clean the data themselve\n",
    "    with fiona.open(inshp) as source, fiona.open(temp_cleanedStreetmap, 'w', driver=source.driver, crs=source.crs,schema=source.schema) as dest:\n",
    "        for feat in source:\n",
    "            try:\n",
    "                i = feat['properties']['highway'] # for the OSM street data\n",
    "                if i in s:\n",
    "                    continue\n",
    "            except:\n",
    "                # if the street map is not osm, do nothing. You'd better to clean the street map, if you don't want to map the GVI for highways\n",
    "                key = dest.schema['properties'].keys()[0] # get the field of the input shapefile and duplicate the input feature\n",
    "                i = feat['properties'][key]\n",
    "                if i in s:\n",
    "                    continue\n",
    "            \n",
    "            dest.write(feat)\n",
    "\n",
    "    schema = {\n",
    "        'geometry': 'Point',\n",
    "        'properties': {'id': 'int'},\n",
    "    }\n",
    "\n",
    "    # Create pointS along the streets\n",
    "    with fiona.drivers():\n",
    "        #with fiona.open(outshp, 'w', 'ESRI Shapefile', crs=source.crs, schema) as output:\n",
    "        with fiona.open(outshp, 'w', crs = from_epsg(4326), driver = 'ESRI Shapefile', schema = schema) as output:\n",
    "            for line in fiona.open(temp_cleanedStreetmap):\n",
    "                first = shape(line['geometry'])\n",
    "                \n",
    "                length = first.length\n",
    "                \n",
    "                try:\n",
    "                    # convert degree to meter, in order to split by distance in meter\n",
    "                    project = partial(pyproj.transform,pyproj.Proj(init=input_crs),pyproj.Proj(init='EPSG:3857')) #3857 is psudo WGS84 the unit is meter\n",
    "                    \n",
    "                    line2 = transform(project, first)\n",
    "                    linestr = list(line2.coords)\n",
    "                    dist = mini_dist #set\n",
    "                    for distance in range(0,int(line2.length), dist):\n",
    "                        point = line2.interpolate(distance)\n",
    "                        \n",
    "                        # convert the local projection back the the WGS84 and write to the output shp\n",
    "                        project2 = partial(pyproj.transform,pyproj.Proj(init='EPSG:3857'),pyproj.Proj(init='EPSG:4326'))\n",
    "                        point = transform(project2, point)\n",
    "                        output.write({'geometry':mapping(point),'properties': {'id':1}})\n",
    "                except:\n",
    "                    print (\"You should make sure the input shapefile is WGS84\")\n",
    "                    return\n",
    "                    \n",
    "    print(\"Process Complete\")\n",
    "    \n",
    "    # delete the temprary cleaned shapefile\n",
    "    fiona.remove(temp_cleanedStreetmap, 'ESRI Shapefile')\n"
   ]
  },
  {
   "cell_type": "code",
   "execution_count": 21,
   "metadata": {
    "ExecuteTime": {
     "end_time": "2019-10-30T13:37:17.989343Z",
     "start_time": "2019-10-30T13:37:17.985791Z"
    }
   },
   "outputs": [],
   "source": [
    " place_name = \"GreaterLondon\""
   ]
  },
  {
   "cell_type": "code",
   "execution_count": 22,
   "metadata": {
    "ExecuteTime": {
     "end_time": "2019-10-30T13:37:18.440527Z",
     "start_time": "2019-10-30T13:37:18.435702Z"
    }
   },
   "outputs": [],
   "source": [
    "# place_name = \"Greater London\"\n",
    "# graph = ox.graph_from_place(place_name,network_type='drive')\n",
    "# # buildings = ox.buildings_from_place(place_name)\n",
    "# nodes, edges = ox.graph_to_gdfs(graph)\n",
    "# # fig, ax = ox.plot_graph(graph)\n",
    "# # plt.tight_layout()\n",
    "# G_projected = ox.project_graph(graph)\n",
    "# ox.save_graph_shapefile(G_projected, filename='../Data/'+place_name)"
   ]
  },
  {
   "cell_type": "code",
   "execution_count": 23,
   "metadata": {
    "ExecuteTime": {
     "end_time": "2019-10-30T13:37:35.713611Z",
     "start_time": "2019-10-30T13:37:18.991331Z"
    }
   },
   "outputs": [],
   "source": [
    "roads = gpd.read_file('../Data/'+place_name+'/edges/edges.shp')"
   ]
  },
  {
   "cell_type": "code",
   "execution_count": 24,
   "metadata": {
    "ExecuteTime": {
     "end_time": "2019-10-30T13:37:35.725796Z",
     "start_time": "2019-10-30T13:37:35.719735Z"
    }
   },
   "outputs": [
    {
     "name": "stdout",
     "output_type": "stream",
     "text": [
      "{'init': u'epsg:32630'}\n"
     ]
    }
   ],
   "source": [
    "c = fiona.open('../Data/'+place_name+'/edges/edges.shp')\n",
    "crs = c.crs\n",
    "print crs"
   ]
  },
  {
   "cell_type": "code",
   "execution_count": 25,
   "metadata": {
    "ExecuteTime": {
     "end_time": "2019-10-30T13:39:18.738380Z",
     "start_time": "2019-10-30T13:37:35.727484Z"
    }
   },
   "outputs": [
    {
     "name": "stdout",
     "output_type": "stream",
     "text": [
      "Process Complete\n"
     ]
    }
   ],
   "source": [
    "root = '../Data/'+place_name+'/edges/'\n",
    "createPoints(root , 'edges.shp', 'samples.shp',200)"
   ]
  },
  {
   "cell_type": "code",
   "execution_count": 26,
   "metadata": {
    "ExecuteTime": {
     "end_time": "2019-10-30T13:39:23.756977Z",
     "start_time": "2019-10-30T13:39:18.740221Z"
    }
   },
   "outputs": [],
   "source": [
    "points_samples = gpd.read_file('../Data/'+place_name+'/edges/samples.shp')"
   ]
  },
  {
   "cell_type": "code",
   "execution_count": 27,
   "metadata": {
    "ExecuteTime": {
     "end_time": "2019-10-30T13:39:23.772360Z",
     "start_time": "2019-10-30T13:39:23.758924Z"
    }
   },
   "outputs": [
    {
     "data": {
      "text/html": [
       "<div>\n",
       "<style scoped>\n",
       "    .dataframe tbody tr th:only-of-type {\n",
       "        vertical-align: middle;\n",
       "    }\n",
       "\n",
       "    .dataframe tbody tr th {\n",
       "        vertical-align: top;\n",
       "    }\n",
       "\n",
       "    .dataframe thead th {\n",
       "        text-align: right;\n",
       "    }\n",
       "</style>\n",
       "<table border=\"1\" class=\"dataframe\">\n",
       "  <thead>\n",
       "    <tr style=\"text-align: right;\">\n",
       "      <th></th>\n",
       "      <th>id</th>\n",
       "      <th>geometry</th>\n",
       "    </tr>\n",
       "  </thead>\n",
       "  <tbody>\n",
       "    <tr>\n",
       "      <th>0</th>\n",
       "      <td>1</td>\n",
       "      <td>POINT (0.11135 51.50265)</td>\n",
       "    </tr>\n",
       "    <tr>\n",
       "      <th>1</th>\n",
       "      <td>1</td>\n",
       "      <td>POINT (0.11180 51.50211)</td>\n",
       "    </tr>\n",
       "    <tr>\n",
       "      <th>2</th>\n",
       "      <td>1</td>\n",
       "      <td>POINT (0.11067 51.50234)</td>\n",
       "    </tr>\n",
       "    <tr>\n",
       "      <th>3</th>\n",
       "      <td>1</td>\n",
       "      <td>POINT (-0.17824 51.62217)</td>\n",
       "    </tr>\n",
       "    <tr>\n",
       "      <th>4</th>\n",
       "      <td>1</td>\n",
       "      <td>POINT (-0.17977 51.62241)</td>\n",
       "    </tr>\n",
       "  </tbody>\n",
       "</table>\n",
       "</div>"
      ],
      "text/plain": [
       "   id                   geometry\n",
       "0   1   POINT (0.11135 51.50265)\n",
       "1   1   POINT (0.11180 51.50211)\n",
       "2   1   POINT (0.11067 51.50234)\n",
       "3   1  POINT (-0.17824 51.62217)\n",
       "4   1  POINT (-0.17977 51.62241)"
      ]
     },
     "execution_count": 27,
     "metadata": {},
     "output_type": "execute_result"
    }
   ],
   "source": [
    "points_samples.head()"
   ]
  },
  {
   "cell_type": "code",
   "execution_count": 28,
   "metadata": {
    "ExecuteTime": {
     "end_time": "2019-10-30T13:39:23.777659Z",
     "start_time": "2019-10-30T13:39:23.774173Z"
    }
   },
   "outputs": [
    {
     "data": {
      "text/plain": [
       "161911"
      ]
     },
     "execution_count": 28,
     "metadata": {},
     "output_type": "execute_result"
    }
   ],
   "source": [
    "len(roads)"
   ]
  },
  {
   "cell_type": "code",
   "execution_count": 29,
   "metadata": {
    "ExecuteTime": {
     "end_time": "2019-10-30T13:39:23.811551Z",
     "start_time": "2019-10-30T13:39:23.779344Z"
    }
   },
   "outputs": [
    {
     "data": {
      "text/html": [
       "<div>\n",
       "<style scoped>\n",
       "    .dataframe tbody tr th:only-of-type {\n",
       "        vertical-align: middle;\n",
       "    }\n",
       "\n",
       "    .dataframe tbody tr th {\n",
       "        vertical-align: top;\n",
       "    }\n",
       "\n",
       "    .dataframe thead th {\n",
       "        text-align: right;\n",
       "    }\n",
       "</style>\n",
       "<table border=\"1\" class=\"dataframe\">\n",
       "  <thead>\n",
       "    <tr style=\"text-align: right;\">\n",
       "      <th></th>\n",
       "      <th>access</th>\n",
       "      <th>area</th>\n",
       "      <th>bridge</th>\n",
       "      <th>est_width</th>\n",
       "      <th>from</th>\n",
       "      <th>highway</th>\n",
       "      <th>junction</th>\n",
       "      <th>key</th>\n",
       "      <th>lanes</th>\n",
       "      <th>length</th>\n",
       "      <th>maxspeed</th>\n",
       "      <th>name</th>\n",
       "      <th>oneway</th>\n",
       "      <th>osmid</th>\n",
       "      <th>ref</th>\n",
       "      <th>service</th>\n",
       "      <th>to</th>\n",
       "      <th>tunnel</th>\n",
       "      <th>width</th>\n",
       "      <th>geometry</th>\n",
       "    </tr>\n",
       "  </thead>\n",
       "  <tbody>\n",
       "    <tr>\n",
       "      <th>0</th>\n",
       "      <td></td>\n",
       "      <td></td>\n",
       "      <td></td>\n",
       "      <td></td>\n",
       "      <td>370068561</td>\n",
       "      <td>residential</td>\n",
       "      <td></td>\n",
       "      <td>0</td>\n",
       "      <td></td>\n",
       "      <td>17.609</td>\n",
       "      <td>20 mph</td>\n",
       "      <td>Epstein Road</td>\n",
       "      <td>False</td>\n",
       "      <td>10780443</td>\n",
       "      <td></td>\n",
       "      <td></td>\n",
       "      <td>95944704</td>\n",
       "      <td></td>\n",
       "      <td></td>\n",
       "      <td>LINESTRING (715931.281 5710314.614, 715917.030...</td>\n",
       "    </tr>\n",
       "    <tr>\n",
       "      <th>1</th>\n",
       "      <td></td>\n",
       "      <td></td>\n",
       "      <td></td>\n",
       "      <td></td>\n",
       "      <td>95944707</td>\n",
       "      <td>residential</td>\n",
       "      <td></td>\n",
       "      <td>0</td>\n",
       "      <td></td>\n",
       "      <td>68.247</td>\n",
       "      <td>20 mph</td>\n",
       "      <td>Galsworthy Close</td>\n",
       "      <td>False</td>\n",
       "      <td>10780432</td>\n",
       "      <td></td>\n",
       "      <td></td>\n",
       "      <td>95944704</td>\n",
       "      <td></td>\n",
       "      <td></td>\n",
       "      <td>LINESTRING (715964.413 5710256.225, 715934.225...</td>\n",
       "    </tr>\n",
       "    <tr>\n",
       "      <th>2</th>\n",
       "      <td></td>\n",
       "      <td></td>\n",
       "      <td></td>\n",
       "      <td></td>\n",
       "      <td>95944671</td>\n",
       "      <td>residential</td>\n",
       "      <td></td>\n",
       "      <td>0</td>\n",
       "      <td></td>\n",
       "      <td>41.109</td>\n",
       "      <td>20 mph</td>\n",
       "      <td>Epstein Road</td>\n",
       "      <td>False</td>\n",
       "      <td>10780443</td>\n",
       "      <td></td>\n",
       "      <td></td>\n",
       "      <td>95944704</td>\n",
       "      <td></td>\n",
       "      <td></td>\n",
       "      <td>LINESTRING (715885.341 5710277.855, 715917.030...</td>\n",
       "    </tr>\n",
       "    <tr>\n",
       "      <th>3</th>\n",
       "      <td></td>\n",
       "      <td></td>\n",
       "      <td></td>\n",
       "      <td></td>\n",
       "      <td>277489</td>\n",
       "      <td>residential</td>\n",
       "      <td></td>\n",
       "      <td>0</td>\n",
       "      <td></td>\n",
       "      <td>29.564</td>\n",
       "      <td>30 mph</td>\n",
       "      <td>Woodside Grove</td>\n",
       "      <td>False</td>\n",
       "      <td>3398626</td>\n",
       "      <td></td>\n",
       "      <td></td>\n",
       "      <td>193724417</td>\n",
       "      <td></td>\n",
       "      <td></td>\n",
       "      <td>LINESTRING (695323.706 5722787.895, 695294.102...</td>\n",
       "    </tr>\n",
       "    <tr>\n",
       "      <th>4</th>\n",
       "      <td></td>\n",
       "      <td></td>\n",
       "      <td></td>\n",
       "      <td></td>\n",
       "      <td>277490</td>\n",
       "      <td>residential</td>\n",
       "      <td></td>\n",
       "      <td>0</td>\n",
       "      <td></td>\n",
       "      <td>80.433</td>\n",
       "      <td>30 mph</td>\n",
       "      <td>Woodside Grove</td>\n",
       "      <td>False</td>\n",
       "      <td>3398626</td>\n",
       "      <td></td>\n",
       "      <td></td>\n",
       "      <td>193724417</td>\n",
       "      <td></td>\n",
       "      <td></td>\n",
       "      <td>LINESTRING (695216.776 5722810.611, 695286.927...</td>\n",
       "    </tr>\n",
       "  </tbody>\n",
       "</table>\n",
       "</div>"
      ],
      "text/plain": [
       "  access area bridge est_width       from      highway junction key lanes  \\\n",
       "0                               370068561  residential            0         \n",
       "1                                95944707  residential            0         \n",
       "2                                95944671  residential            0         \n",
       "3                                  277489  residential            0         \n",
       "4                                  277490  residential            0         \n",
       "\n",
       "   length maxspeed              name oneway     osmid ref service         to  \\\n",
       "0  17.609   20 mph      Epstein Road  False  10780443               95944704   \n",
       "1  68.247   20 mph  Galsworthy Close  False  10780432               95944704   \n",
       "2  41.109   20 mph      Epstein Road  False  10780443               95944704   \n",
       "3  29.564   30 mph    Woodside Grove  False   3398626              193724417   \n",
       "4  80.433   30 mph    Woodside Grove  False   3398626              193724417   \n",
       "\n",
       "  tunnel width                                           geometry  \n",
       "0               LINESTRING (715931.281 5710314.614, 715917.030...  \n",
       "1               LINESTRING (715964.413 5710256.225, 715934.225...  \n",
       "2               LINESTRING (715885.341 5710277.855, 715917.030...  \n",
       "3               LINESTRING (695323.706 5722787.895, 695294.102...  \n",
       "4               LINESTRING (695216.776 5722810.611, 695286.927...  "
      ]
     },
     "execution_count": 29,
     "metadata": {},
     "output_type": "execute_result"
    }
   ],
   "source": [
    "roads.head()"
   ]
  },
  {
   "cell_type": "code",
   "execution_count": 31,
   "metadata": {
    "ExecuteTime": {
     "end_time": "2019-10-30T17:53:27.500366Z",
     "start_time": "2019-10-30T17:53:27.495959Z"
    }
   },
   "outputs": [],
   "source": [
    "city = '../Data/Cambridge/'\n",
    "files= glob.glob(city + '*.json')"
   ]
  },
  {
   "cell_type": "code",
   "execution_count": 35,
   "metadata": {
    "ExecuteTime": {
     "end_time": "2019-10-30T17:54:14.816455Z",
     "start_time": "2019-10-30T17:54:14.673375Z"
    }
   },
   "outputs": [],
   "source": [
    "first = json.load(open(files[0] , 'rb'))"
   ]
  },
  {
   "cell_type": "code",
   "execution_count": 39,
   "metadata": {
    "ExecuteTime": {
     "end_time": "2019-10-30T17:58:42.930344Z",
     "start_time": "2019-10-30T17:58:42.522196Z"
    }
   },
   "outputs": [],
   "source": [
    "years = []\n",
    "for f in files:\n",
    "    record = json.load(open(f , 'rb'))\n",
    "    for k in record:\n",
    "        for pano in record[k]:\n",
    "            if 'year' in pano:\n",
    "                years.append(pano['year'])"
   ]
  },
  {
   "cell_type": "code",
   "execution_count": 73,
   "metadata": {
    "ExecuteTime": {
     "end_time": "2019-10-30T23:31:47.188974Z",
     "start_time": "2019-10-30T23:31:42.882836Z"
    }
   },
   "outputs": [],
   "source": [
    "pointCount = []\n",
    "for f in files:\n",
    "    record = json.load(open(f , 'rb'))\n",
    "    for k in record:\n",
    "        temp = []\n",
    "        for pano in record[k]:\n",
    "            if 'year' in pano:\n",
    "                temp.append(pano['year'])\n",
    "        pointCount.append(len(temp))"
   ]
  },
  {
   "cell_type": "code",
   "execution_count": 76,
   "metadata": {
    "ExecuteTime": {
     "end_time": "2019-10-30T23:33:10.730754Z",
     "start_time": "2019-10-30T23:33:10.120646Z"
    }
   },
   "outputs": [
    {
     "data": {
      "image/png": "[encoded data removed]",
      "text/plain": [
       "<matplotlib.figure.Figure at 0x7f4372226490>"
      ]
     },
     "metadata": {},
     "output_type": "display_data"
    }
   ],
   "source": [
    "import matplotlib.pyplot as plt\n",
    "fig, ax = plt.subplots()\n",
    "fig.set_size_inches(10,8)\n",
    "plt.xlabel('Panoramas per location')\n",
    "plt.ylabel('Frequency')\n",
    "n, bins, patches = plt.hist(pointCount, 10, facecolor='g', alpha=0.75)"
   ]
  },
  {
   "cell_type": "code",
   "execution_count": 46,
   "metadata": {
    "ExecuteTime": {
     "end_time": "2019-10-30T18:01:23.445785Z",
     "start_time": "2019-10-30T18:01:23.431192Z"
    }
   },
   "outputs": [],
   "source": [
    "counts = collections.Counter(years)"
   ]
  },
  {
   "cell_type": "code",
   "execution_count": 57,
   "metadata": {
    "ExecuteTime": {
     "end_time": "2019-10-30T18:03:44.335706Z",
     "start_time": "2019-10-30T18:03:44.329334Z"
    }
   },
   "outputs": [
    {
     "data": {
      "text/plain": [
       "[1920, 1028, 288, 2482, 2793, 1707, 988, 1094, 1147, 1152]"
      ]
     },
     "execution_count": 57,
     "metadata": {},
     "output_type": "execute_result"
    }
   ],
   "source": [
    "[counts[y] for y in years]"
   ]
  },
  {
   "cell_type": "code",
   "execution_count": 52,
   "metadata": {
    "ExecuteTime": {
     "end_time": "2019-10-30T18:01:56.889195Z",
     "start_time": "2019-10-30T18:01:56.885445Z"
    }
   },
   "outputs": [],
   "source": [
    "years = sorted(counts.keys())"
   ]
  },
  {
   "cell_type": "code",
   "execution_count": 45,
   "metadata": {
    "ExecuteTime": {
     "end_time": "2019-10-30T18:00:14.857943Z",
     "start_time": "2019-10-30T18:00:14.854104Z"
    }
   },
   "outputs": [],
   "source": [
    "import matplotlib.pyplot as plt"
   ]
  },
  {
   "cell_type": "code",
   "execution_count": 72,
   "metadata": {
    "ExecuteTime": {
     "end_time": "2019-10-30T18:08:46.013513Z",
     "start_time": "2019-10-30T18:08:45.706631Z"
    }
   },
   "outputs": [
    {
     "data": {
      "image/png": "[encoded data removed]",
      "text/plain": [
       "<matplotlib.figure.Figure at 0x7f436b988450>"
      ]
     },
     "metadata": {},
     "output_type": "display_data"
    }
   ],
   "source": [
    "x = np.arange(len(years))\n",
    "count = [counts[y] for y in years]\n",
    "fig, ax = plt.subplots()\n",
    "fig.set_size_inches(16,12)\n",
    "plt.grid()\n",
    "plt.bar(x, count)\n",
    "plt.title('Total count of panoramas available each year for the 6000 points in Cambridge',fontsize=25)\n",
    "plt.yticks(fontsize=20)\n",
    "plt.ylabel('Count of panoramas',fontsize=25)\n",
    "plt.xticks(x, years,rotation=90,fontsize=20)\n",
    "plt.xlabel('Year of panorama capture',fontsize=25)\n",
    "plt.show()\n"
   ]
  },
  {
   "cell_type": "code",
   "execution_count": null,
   "metadata": {},
   "outputs": [],
   "source": []
  }
 ],
 "metadata": {
  "kernelspec": {
   "display_name": "Python 2",
   "language": "python",
   "name": "python2"
  },
  "language_info": {
   "codemirror_mode": {
    "name": "ipython",
    "version": 2
   },
   "file_extension": ".py",
   "mimetype": "text/x-python",
   "name": "python",
   "nbconvert_exporter": "python",
   "pygments_lexer": "ipython2",
   "version": "2.7.12"
  }
 },
 "nbformat": 4,
 "nbformat_minor": 2
}
